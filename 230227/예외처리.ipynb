{
 "cells": [
  {
   "cell_type": "code",
   "execution_count": 1,
   "id": "83cbb446-50a6-4c11-aec2-94d6f233fe9a",
   "metadata": {},
   "outputs": [],
   "source": [
    "#예외(Exception)\n",
    "#코드를 실행하다가 에러 발생 / 프로그램 중단\n",
    "#0으로 나누는 경우 연산이 불가하여 ZeroDivisionError가 발생"
   ]
  },
  {
   "cell_type": "code",
   "execution_count": 2,
   "id": "1fa34b79-ee15-44d3-9195-3e350d2a4a60",
   "metadata": {},
   "outputs": [],
   "source": [
    "#예외 처리, try, except\n",
    "#예외가 발생하더라도 프로그램의 중단 없이 계속 실행되도록 처리\n",
    "# 실행할 코드를 try의 코드 블록\n",
    "# 에러가 발생되어 예외 처리 되는 부분을 except 코드 블록\n",
    "\n",
    "try:\n",
    "    pass #실행할 코드\n",
    "except:\n",
    "    pass #에러 발생시 실행할 코드"
   ]
  },
  {
   "cell_type": "code",
   "execution_count": 3,
   "id": "39ad1eef-e233-4271-b685-e0b00a86252b",
   "metadata": {},
   "outputs": [
    {
     "name": "stdout",
     "output_type": "stream",
     "text": [
      "0으로 나눌 수 없습니다.\n"
     ]
    }
   ],
   "source": [
    "#예외 처리, try, except\n",
    "try:\n",
    "    result = 128/0\n",
    "    print(f'연산의 결과는{result}입니다.')\n",
    "except:\n",
    "    print('0으로 나눌 수 없습니다.')"
   ]
  },
  {
   "cell_type": "code",
   "execution_count": 4,
   "id": "bbb4cf6f-cd9c-42e7-bec6-ac6b92a6b048",
   "metadata": {},
   "outputs": [
    {
     "name": "stdin",
     "output_type": "stream",
     "text": [
      "숫자 두개를 입력하세요. 1 2\n"
     ]
    },
    {
     "name": "stdout",
     "output_type": "stream",
     "text": [
      "1 2\n",
      "Wall time: 3.66 s\n"
     ]
    }
   ],
   "source": [
    "%%time\n",
    "\n",
    "try:\n",
    "    x,y = input('숫자 두개를 입력하세요.').split()\n",
    "    print(x,y)\n",
    "except:\n",
    "    print('값을 잘못 입력하셨습니다')"
   ]
  },
  {
   "cell_type": "code",
   "execution_count": 5,
   "id": "a49a5ecb-f11a-4c7d-8c55-9240958a2dff",
   "metadata": {},
   "outputs": [
    {
     "name": "stdout",
     "output_type": "stream",
     "text": [
      "0으로 나눌 수 없습니다.\n",
      "division by zero\n"
     ]
    }
   ],
   "source": [
    "# 특정에러에 대한 분기 처리\n",
    "#예외 처리, except 에러마다 분기하기\n",
    "#value,zero 등등 에러에 따라 다르게 적용\n",
    "x = range(4)\n",
    "\n",
    "try:\n",
    "    for i in range(4):\n",
    "        y = 10 / x[i]\n",
    "except ZeroDivisionError as e:\n",
    "            print('0으로 나눌 수 없습니다.')\n",
    "            print(e)\n",
    "except IndexError as e:\n",
    "            print('인덱스 에러 발생')\n",
    "            print(e)"
   ]
  },
  {
   "cell_type": "code",
   "execution_count": 6,
   "id": "1e3a299f-bc3a-464b-b6a4-6a9063ae1ec1",
   "metadata": {},
   "outputs": [
    {
     "name": "stdout",
     "output_type": "stream",
     "text": [
      "인덱스 에러 발생\n",
      "range object index out of range\n"
     ]
    }
   ],
   "source": [
    "# 특정에러에 대한 분기 처리\n",
    "#예외 처리, except 에러마다 분기하기\n",
    "#value,zero 등등 에러에 따라 다르게 적용\n",
    "x = range(1,4)\n",
    "\n",
    "try:\n",
    "    for i in range(4):\n",
    "        y = 10 / x[i]\n",
    "except ZeroDivisionError as e:  #as 사용\n",
    "            print('0으로 나눌 수 없습니다.')\n",
    "            print(e)\n",
    "except IndexError as e:\n",
    "            print('인덱스 에러 발생')\n",
    "            print(e)"
   ]
  },
  {
   "cell_type": "code",
   "execution_count": 7,
   "id": "a2b61c62-c5ae-4206-977f-53020f7a6e18",
   "metadata": {},
   "outputs": [
    {
     "name": "stdout",
     "output_type": "stream",
     "text": [
      "에러 없이 실행되었습니다.\n"
     ]
    }
   ],
   "source": [
    "# 특정에러에 대한 분기 처리\n",
    "#예외 처리, except 에러마다 분기하기\n",
    "#value,zero 등등 에러에 따라 다르게 적용\n",
    "x = range(1,5)\n",
    "\n",
    "try:\n",
    "    for i in range(4):\n",
    "        y = 10 / x[i]\n",
    "except ZeroDivisionError as e:  #as 사용\n",
    "            print('0으로 나눌 수 없습니다.')\n",
    "            print(e)\n",
    "except IndexError as e:\n",
    "            print('인덱스 에러 발생')\n",
    "            print(e)\n",
    "else:\n",
    "    print('에러 없이 실행되었습니다.')"
   ]
  },
  {
   "cell_type": "code",
   "execution_count": 8,
   "id": "b02affaa-cc45-4a60-baa1-89107e3b8b03",
   "metadata": {},
   "outputs": [
    {
     "name": "stdin",
     "output_type": "stream",
     "text": [
      "숫자 두개를 입력하세요. 3 4\n"
     ]
    },
    {
     "name": "stdout",
     "output_type": "stream",
     "text": [
      "연산의 결과는 0.75 입니다.\n"
     ]
    }
   ],
   "source": [
    "try:\n",
    "    x,y = list(map(int,input('숫자 두개를 입력하세요.').split()))\n",
    "    result = x / y\n",
    "except ValueError:\n",
    "    print('값을 잘못 입력하셨습니다.')\n",
    "    print(e)\n",
    "except ZeroDivisionError:\n",
    "    print('0으로 나눌 수 없습니다.')\n",
    "    print(e)\n",
    "else:\n",
    "    print(f'연산의 결과는 {result} 입니다.')"
   ]
  },
  {
   "cell_type": "code",
   "execution_count": 11,
   "id": "624b0dae-1cab-42b3-9f4d-12f677da17ee",
   "metadata": {},
   "outputs": [],
   "source": [
    "#예외 처리, finally\n",
    "#프로그램에서 무조건 실행되는 부분을 작성\n",
    "#try:\n",
    "#raise keyerror\n",
    "#finally:\n",
    "#    print('무조건 실행됩니다.')"
   ]
  },
  {
   "cell_type": "code",
   "execution_count": 12,
   "id": "cb7d8cbf-4b59-4ace-beb5-70963c1b7a7a",
   "metadata": {},
   "outputs": [
    {
     "name": "stdin",
     "output_type": "stream",
     "text": [
      "숫자 두개를 입력하세요. 1 2\n"
     ]
    },
    {
     "name": "stdout",
     "output_type": "stream",
     "text": [
      "연산의 결과는 0.5 입니다.\n",
      "프로그램을 종료합니다.\n"
     ]
    }
   ],
   "source": [
    "try:\n",
    "    x,y = list(map(int,input('숫자 두개를 입력하세요.').split()))\n",
    "    result = x / y\n",
    "except ValueError:\n",
    "    print('값을 잘못 입력하셨습니다.')\n",
    "    print(e)\n",
    "except ZeroDivisionError:\n",
    "    print('0으로 나눌 수 없습니다.')\n",
    "    print(e)\n",
    "else:\n",
    "    print(f'연산의 결과는 {result} 입니다.')\n",
    "finally:\n",
    "    print('프로그램을 종료합니다.')"
   ]
  }
 ],
 "metadata": {
  "kernelspec": {
   "display_name": "Python 3 (ipykernel)",
   "language": "python",
   "name": "python3"
  },
  "language_info": {
   "codemirror_mode": {
    "name": "ipython",
    "version": 3
   },
   "file_extension": ".py",
   "mimetype": "text/x-python",
   "name": "python",
   "nbconvert_exporter": "python",
   "pygments_lexer": "ipython3",
   "version": "3.9.13"
  }
 },
 "nbformat": 4,
 "nbformat_minor": 5
}
