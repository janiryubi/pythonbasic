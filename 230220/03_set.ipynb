{
 "cells": [
  {
   "cell_type": "code",
   "execution_count": 1,
   "id": "dcf04903-2258-4790-95a8-7aa4a45f04e0",
   "metadata": {},
   "outputs": [],
   "source": [
    "#set\n",
    "#수학에 나오는 집합\n",
    "#비시퀀스형 순서가 없다\n",
    "#중복이 없다 \n",
    "#인덱싱과 슬라이싱 할 수 없다\n",
    "#set_variable = {키1,키2,키3...}"
   ]
  },
  {
   "cell_type": "code",
   "execution_count": 8,
   "id": "70d20a1f-9ffb-4ab4-b4cd-0269a27c3a02",
   "metadata": {},
   "outputs": [
    {
     "name": "stdout",
     "output_type": "stream",
     "text": [
      "<class 'dict'>\n",
      "set()\n"
     ]
    }
   ],
   "source": [
    "#set-빈 세트 생성\n",
    "print(type({}))\n",
    "print(set())"
   ]
  },
  {
   "cell_type": "code",
   "execution_count": 4,
   "id": "36f08c69-d003-43ed-a7fc-3101010f5097",
   "metadata": {},
   "outputs": [],
   "source": [
    "#세트자료형 특징\n",
    "#같은 값을 넣어도 마지막 한개만 존재\n",
    "#컴프리헨션 지원, []는 리스트 {} 는 set\n",
    "#set_variable = {expression for 변수 in iterable if 조건식}"
   ]
  },
  {
   "cell_type": "code",
   "execution_count": 6,
   "id": "0d6ea7df-4d8e-4c71-a6d3-de7ef5101dd9",
   "metadata": {},
   "outputs": [
    {
     "name": "stdout",
     "output_type": "stream",
     "text": [
      "set() <class 'set'>\n",
      "{1}\n"
     ]
    }
   ],
   "source": [
    "#세트에 값을 넣는 방법\n",
    "#세트 메서드 add() 값을 추가할 수 있음\n",
    "#세트자료형.add(요소), 한번에 하나의 값만 넣을 수 있음\n",
    "set_variable = set()\n",
    "print(set_variable, type(set_variable))\n",
    "# 정수 1값을 set_variable에 5번 넣음\n",
    "[set_variable.add(1) for _ in range(5)]\n",
    "print(set_variable)"
   ]
  },
  {
   "cell_type": "code",
   "execution_count": 2,
   "id": "53235444-77eb-4634-b4ac-e30a16095cd0",
   "metadata": {},
   "outputs": [
    {
     "ename": "SyntaxError",
     "evalue": "invalid syntax (1590063134.py, line 8)",
     "output_type": "error",
     "traceback": [
      "\u001b[1;36m  File \u001b[1;32m\"C:\\Users\\Playdata\\AppData\\Local\\Temp\\ipykernel_13728\\1590063134.py\"\u001b[1;36m, line \u001b[1;32m8\u001b[0m\n\u001b[1;33m    ---------------------------------------------------------------------------\u001b[0m\n\u001b[1;37m                                                                               ^\u001b[0m\n\u001b[1;31mSyntaxError\u001b[0m\u001b[1;31m:\u001b[0m invalid syntax\n"
     ]
    }
   ],
   "source": [
    "#요소 삭제하기 \n",
    "#세트 자료형.remove(요소)\n",
    "set_variable = (1,2,3,4,5,6,7,8,9,10)\n",
    "print(set_variable)\n",
    "set_variable.remove(9)\n",
    "print(set_variable)\n",
    "#set_variable.remove('없는 값')\n",
    "---------------------------------------------------------------------------\n",
    "KeyError                                  Traceback (most recent call last)\n",
    "~\\AppData\\Local\\Temp\\ipykernel_12368\\727916200.py in <module>\n",
    "      2 #세트 자료형.remove(요소)\n",
    "      3 print(set_variable)\n",
    "----> 4 set_variable.remove(9)\n",
    "      5 print(set_variable)\n",
    "      6 set_variable.remove('없는 값')\n",
    "\n",
    "KeyError: 9\n",
    "\n",
    "#discard()\n",
    "print(set_variable)\n",
    "set_variable.discard(8)\n",
    "print(set_variable)\n",
    "#set_variable.remove('없는 값')"
   ]
  },
  {
   "cell_type": "code",
   "execution_count": 11,
   "id": "d0494196-edde-4aa3-8ae5-4fdf0a510a90",
   "metadata": {},
   "outputs": [],
   "source": [
    "#요소 임의 삭제 pop\n",
    "#정리"
   ]
  },
  {
   "cell_type": "code",
   "execution_count": 12,
   "id": "76921448-b82c-4036-8bba-25d625c482d9",
   "metadata": {},
   "outputs": [],
   "source": [
    "#요소 전체 삭제 clear"
   ]
  },
  {
   "cell_type": "code",
   "execution_count": 13,
   "id": "9d030aad-20d6-4d58-b75f-396ac3344b86",
   "metadata": {},
   "outputs": [],
   "source": [
    "# 요소 개수 구하기len"
   ]
  },
  {
   "cell_type": "code",
   "execution_count": 23,
   "id": "8421db40-c737-472d-95f1-0f809f00f3a7",
   "metadata": {},
   "outputs": [
    {
     "name": "stdout",
     "output_type": "stream",
     "text": [
      "A: {1, 2, 3, 4} \n",
      "B: {2, 4, 5}\n",
      "set.union(A,B): {1, 2, 3, 4, 5}\n",
      "A|B: {1, 2, 3, 4, 5}\n"
     ]
    }
   ],
   "source": [
    "#합집합,\n",
    "#set.union(세트자료형1,세트자료형2)의 형태\n",
    "A={_ for _ in range(1,5)}\n",
    "B={_ for _ in range(2,6) if _ !=3}\n",
    "print(\"A:\",A,\"\\nB:\",B)\n",
    "print(\"set.union(A,B):\",set.union(A,B))\n",
    "print(\"A|B:\",A|B)"
   ]
  },
  {
   "cell_type": "code",
   "execution_count": 25,
   "id": "9d752bf4-8582-4825-ae56-d6898ee98416",
   "metadata": {},
   "outputs": [
    {
     "name": "stdout",
     "output_type": "stream",
     "text": [
      "A: {1, 2, 3, 4} \n",
      "B: {2, 4, 5}\n",
      "set.intersection(A,B): {2, 4}\n",
      "A|B: {1, 2, 3, 4, 5}\n"
     ]
    }
   ],
   "source": [
    "#교집합, &\n",
    "A={_ for _ in range(1,5)}\n",
    "B={_ for _ in range(2,6) if _ !=3}\n",
    "print(\"A:\",A,\"\\nB:\",B)\n",
    "print(\"set.intersection(A,B):\",set.intersection(A,B))\n",
    "print(\"A|B:\",A|B)"
   ]
  },
  {
   "cell_type": "code",
   "execution_count": 26,
   "id": "3da2f282-32de-4d85-bba4-346974320497",
   "metadata": {},
   "outputs": [
    {
     "name": "stdout",
     "output_type": "stream",
     "text": [
      "A: {1, 2, 3, 4} \n",
      "B: {2, 4, 5}\n",
      "set.difference(A,B): {1, 3}\n",
      "A|B: {1, 2, 3, 4, 5}\n"
     ]
    }
   ],
   "source": [
    "# 차집합 -\n",
    "A={_ for _ in range(1,5)}\n",
    "B={_ for _ in range(2,6) if _ !=3}\n",
    "print(\"A:\",A,\"\\nB:\",B)\n",
    "print(\"set.difference(A,B):\",set.difference(A,B))\n",
    "print(\"A|B:\",A|B)"
   ]
  },
  {
   "cell_type": "code",
   "execution_count": 28,
   "id": "c0b488ab-a049-43d6-bc35-92010487559e",
   "metadata": {},
   "outputs": [
    {
     "name": "stdout",
     "output_type": "stream",
     "text": [
      "A: {1, 2, 3, 4} \n",
      "B: {2, 4, 5}\n",
      "set.symmetric_difference(A,B): {1, 3, 5}\n",
      "A^B: {1, 3, 5}\n"
     ]
    }
   ],
   "source": [
    "#대칭차집합 ^ 교집합이 아닌 부분\n",
    "A={_ for _ in range(1,5)}\n",
    "B={_ for _ in range(2,6) if _ !=3}\n",
    "print(\"A:\",A,\"\\nB:\",B)\n",
    "print(\"set.symmetric_difference(A,B):\",set.symmetric_difference(A,B))\n",
    "print(\"A^B:\",A^B)"
   ]
  },
  {
   "cell_type": "code",
   "execution_count": 29,
   "id": "9eff364c-34e0-41cc-bc88-5fb667c12e9d",
   "metadata": {},
   "outputs": [
    {
     "name": "stdout",
     "output_type": "stream",
     "text": [
      "A: {1, 2, 3, 4} \n",
      "B: {2, 4, 5}\n",
      "A.update(B): {1, 2, 3, 4, 5}\n"
     ]
    }
   ],
   "source": [
    "# update() |=\n",
    "A={_ for _ in range(1,5)}\n",
    "B={_ for _ in range(2,6) if _ !=3}\n",
    "print(\"A:\",A,\"\\nB:\",B)\n",
    "A.update(B) #A\\=B와 같음\n",
    "print(\"A.update(B):\",A)"
   ]
  },
  {
   "cell_type": "code",
   "execution_count": 31,
   "id": "5b2142e1-1118-4404-9e27-7cd83da7256e",
   "metadata": {},
   "outputs": [
    {
     "name": "stdout",
     "output_type": "stream",
     "text": [
      "A: {1, 2, 3, 4} \n",
      "B: {2, 4, 5}\n",
      "A.update(B): {2, 4}\n"
     ]
    }
   ],
   "source": [
    "#intersection_update &=\n",
    "A={_ for _ in range(1,5)}\n",
    "B={_ for _ in range(2,6) if _ !=3}\n",
    "print(\"A:\",A,\"\\nB:\",B)\n",
    "A.intersection_update(B) #A&=B와 같음\n",
    "print(\"A.update(B):\",A)"
   ]
  },
  {
   "cell_type": "code",
   "execution_count": 32,
   "id": "90ef660f-1178-4f48-8d6c-b72ecd6e5245",
   "metadata": {},
   "outputs": [
    {
     "name": "stdout",
     "output_type": "stream",
     "text": [
      "A: {1, 2, 3, 4} \n",
      "B: {2, 4, 5}\n",
      "A.update(B): {1, 3}\n"
     ]
    }
   ],
   "source": [
    "#difference_update -=\n",
    "A={_ for _ in range(1,5)}\n",
    "B={_ for _ in range(2,6) if _ !=3}\n",
    "print(\"A:\",A,\"\\nB:\",B)\n",
    "A.difference_update(B) #A-=B와 같음\n",
    "print(\"A.update(B):\",A)"
   ]
  },
  {
   "cell_type": "code",
   "execution_count": 33,
   "id": "39d1a8ee-b1e4-4003-b80d-52c8a6372cf5",
   "metadata": {},
   "outputs": [
    {
     "name": "stdout",
     "output_type": "stream",
     "text": [
      "A: {1, 2, 3, 4} \n",
      "B: {2, 4, 5}\n",
      "A.update(B): {1, 3, 5}\n"
     ]
    }
   ],
   "source": [
    "#symmetric_difference_update -=\n",
    "A={_ for _ in range(1,5)}\n",
    "B={_ for _ in range(2,6) if _ !=3}\n",
    "print(\"A:\",A,\"\\nB:\",B)\n",
    "A.symmetric_difference_update(B) #A^=B와 같음\n",
    "print(\"A.update(B):\",A)"
   ]
  },
  {
   "cell_type": "code",
   "execution_count": 35,
   "id": "ff4faddb-8ffe-4ff4-9e61-33c2c6fe813d",
   "metadata": {},
   "outputs": [
    {
     "name": "stdout",
     "output_type": "stream",
     "text": [
      "A: {0, 1, 2} \n",
      "B: {0, 1, 2}\n",
      "A.issubset(B): True\n"
     ]
    }
   ],
   "source": [
    "#부분집합\n",
    "A={_ for _ in range(0,3)}\n",
    "B={_ for _ in range(0,3)}\n",
    "print(\"A:\",A,\"\\nB:\",B)\n",
    "print(\"A.issubset(B):\",A.issubset(B))"
   ]
  },
  {
   "cell_type": "code",
   "execution_count": 37,
   "id": "83cbb863-3c01-4399-a351-321faed1a73b",
   "metadata": {},
   "outputs": [
    {
     "name": "stdout",
     "output_type": "stream",
     "text": [
      "A: {0, 1, 2} \n",
      "B: {0, 1}\n",
      "B.issubset(A): True\n"
     ]
    }
   ],
   "source": [
    "#부분집합\n",
    "A={_ for _ in range(0,3)}\n",
    "B={_ for _ in range(0,2)}\n",
    "print(\"A:\",A,\"\\nB:\",B)\n",
    "print(\"B.issubset(A):\",B.issubset(A))"
   ]
  },
  {
   "cell_type": "code",
   "execution_count": 39,
   "id": "b99e4039-3881-43e5-ab4f-6a3b1fedbb0f",
   "metadata": {},
   "outputs": [
    {
     "name": "stdout",
     "output_type": "stream",
     "text": [
      "A: {0, 1, 2} \n",
      "B: {0, 1, 2}\n",
      "B.issuperset(A): True\n"
     ]
    }
   ],
   "source": [
    "#상위집합, 둘이 같을 때\n",
    "A={_ for _ in range(0,3)}\n",
    "B={_ for _ in range(0,3)}\n",
    "print(\"A:\",A,\"\\nB:\",B)\n",
    "print(\"B.issuperset(A):\",B.issuperset(A))"
   ]
  },
  {
   "cell_type": "code",
   "execution_count": 41,
   "id": "c548653d-2f2d-423f-bb1c-85d4c628b333",
   "metadata": {},
   "outputs": [
    {
     "name": "stdout",
     "output_type": "stream",
     "text": [
      "A: {0, 1, 2} \n",
      "B: {0, 1}\n",
      "A.issuperset(B): True\n"
     ]
    }
   ],
   "source": [
    "#상위집합, 둘이 같을 때\n",
    "A={_ for _ in range(0,3)}\n",
    "B={_ for _ in range(0,2)}\n",
    "print(\"A:\",A,\"\\nB:\",B)\n",
    "print(\"A.issuperset(B):\",A.issuperset(B))"
   ]
  },
  {
   "cell_type": "code",
   "execution_count": 44,
   "id": "57d7608f-718a-42a5-9cbd-0d9d0861e2d2",
   "metadata": {},
   "outputs": [
    {
     "name": "stdout",
     "output_type": "stream",
     "text": [
      "A: {0, 1, 2} \n",
      "B: {0, 1, 2}\n",
      "A> B): False\n",
      "A< B): False\n"
     ]
    }
   ],
   "source": [
    "#진부분집합, 진상위집합\n",
    "A={_ for _ in range(0,3)}\n",
    "B={_ for _ in range(0,3)}\n",
    "print(\"A:\",A,\"\\nB:\",B)\n",
    "print(\"A > B):\",A > B)\n",
    "print(\"A < B):\",A < B)"
   ]
  },
  {
   "cell_type": "code",
   "execution_count": 3,
   "id": "9090355d-2cce-4192-bb73-b933317cb836",
   "metadata": {},
   "outputs": [
    {
     "name": "stdout",
     "output_type": "stream",
     "text": [
      "A: {0, 1, 2} \n",
      "B: {0, 1, 2}\n",
      "A == B): True\n"
     ]
    }
   ],
   "source": [
    "# ==연산자\n",
    "A={_ for _ in range(0,3)}\n",
    "B={_ for _ in range(0,3)}\n",
    "print(\"A:\",A,\"\\nB:\",B)\n",
    "print(\"A == B):\",A == B)"
   ]
  },
  {
   "cell_type": "code",
   "execution_count": 47,
   "id": "faba1c3b-8189-4242-bbdc-5b97c93b7f4b",
   "metadata": {},
   "outputs": [
    {
     "name": "stdout",
     "output_type": "stream",
     "text": [
      "A: {0, 1, 2} \n",
      "B: {3, 4, 5}\n",
      "A.isdisjoint(B): True\n"
     ]
    }
   ],
   "source": [
    "#세트가 겹치지 않는지 확인\n",
    "A={_ for _ in range(0,3)}\n",
    "B={_ for _ in range(3,6)}\n",
    "print(\"A:\",A,\"\\nB:\",B)\n",
    "print(\"A.isdisjoint(B):\",A.isdisjoint(B))"
   ]
  },
  {
   "cell_type": "code",
   "execution_count": 49,
   "id": "63963bc9-8995-408f-937f-be97aea2a434",
   "metadata": {},
   "outputs": [
    {
     "name": "stdout",
     "output_type": "stream",
     "text": [
      "{1, 2, 3, 4}\n"
     ]
    }
   ],
   "source": [
    "list_sample = [1,2,2,3,3,3,4,4,4,4]\n",
    "print(set(list_sample))"
   ]
  },
  {
   "cell_type": "code",
   "execution_count": null,
   "id": "44f2327c-cab5-42fb-bb59-97b3cf6dc72a",
   "metadata": {},
   "outputs": [],
   "source": []
  }
 ],
 "metadata": {
  "kernelspec": {
   "display_name": "Python 3 (ipykernel)",
   "language": "python",
   "name": "python3"
  },
  "language_info": {
   "codemirror_mode": {
    "name": "ipython",
    "version": 3
   },
   "file_extension": ".py",
   "mimetype": "text/x-python",
   "name": "python",
   "nbconvert_exporter": "python",
   "pygments_lexer": "ipython3",
   "version": "3.9.13"
  }
 },
 "nbformat": 4,
 "nbformat_minor": 5
}
