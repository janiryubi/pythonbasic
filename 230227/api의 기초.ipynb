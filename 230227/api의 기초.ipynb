{
 "cells": [
  {
   "cell_type": "code",
   "execution_count": 1,
   "id": "f140b005-11ed-4801-b30f-29df1b795a75",
   "metadata": {},
   "outputs": [],
   "source": [
    "#API로 데이터 수집하기\n",
    "#Application Programming Interface\n",
    "#프로그래밍을 통해 자동화된 방식으로 데이터를 추출하는 방법 중 하나\n",
    "#1. 인증 토큰(Authentication tokens)\n",
    "#2. 페이지 매김(Pagination)\n",
    "#3. 속도 제한(Rate limits)\n",
    "#4. 데이터 추출 자동화"
   ]
  },
  {
   "cell_type": "code",
   "execution_count": 2,
   "id": "88cd893a-441b-4397-946b-c9e47d4a4c8e",
   "metadata": {},
   "outputs": [],
   "source": [
    "#API는 사용할 수 있는 요청(requests)의 종류, 사용되는 데이터 형식, 예상 응답을 포함하는 일련의 정의 및 프로토콜을 제공\n",
    "#사용자가 소프트웨어 응용 프로그램이나 구성 요소, 서비스 등이 어떻게 구현되는지를 몰라도 통신할 수 있도록 하는 인터페이스의 일종\n",
    "#웹사이트, 앱, 서비스를 구축하는 동안 개발자가 일반적으로 사용하는 소프트웨어 인터페이스 집합"
   ]
  },
  {
   "cell_type": "code",
   "execution_count": 3,
   "id": "70526290-e3f5-44eb-ac09-9473eb94526e",
   "metadata": {},
   "outputs": [],
   "source": [
    "#API와 서버\n",
    "#서버: 성능이 좋고 용량도 큰 빠른 컴퓨터!\n",
    "#서버에 원격으로 접속해서 작업\n",
    "#서버에 데이터를 저장하거나, 서버를 통해 이메일을 주고 받고, 웹 서비스를 제공\n",
    "#소프트웨어 개발자가 프로그램을 작성하고 서버에 복사해 실행하면 서버로서 동작"
   ]
  },
  {
   "cell_type": "code",
   "execution_count": 4,
   "id": "fd515bb7-9884-4876-9dcd-f8dacbec924b",
   "metadata": {},
   "outputs": [],
   "source": [
    "#API 정의 및 가치\n",
    "#컴퓨터가 사용하기 쉽게 만든 인터페이스의 종류 중 하나가 API"
   ]
  },
  {
   "cell_type": "code",
   "execution_count": 5,
   "id": "118db1f9-3204-4402-92b9-6c34d0f10aa3",
   "metadata": {},
   "outputs": [],
   "source": [
    "#API 정의 및 가치\n",
    "#API는 자동화된 소프트웨어를 작성해서 데이터 작업을 더 쉽게 만듦\n",
    "#반복적이고 노동 집약적인 작업을 자동화해서 인간의 시간이 많이 걸리는 작업을 API와 소프트웨어를 통해 짧은 시간 안에 해결"
   ]
  },
  {
   "cell_type": "code",
   "execution_count": 6,
   "id": "6c4e6b3b-5995-4d57-ad39-7283f90a2bf5",
   "metadata": {},
   "outputs": [],
   "source": [
    "#HTTP(Hyper Text Transfer Protocol)\n",
    "#네트워크 통신을 하기 위한 하나의 표준화된 약속\n",
    "#데이터를 원하는 쪽을 일반적으로 클라이언트\n",
    "#요청(request)을 통해서 원하는 데이터를 서버에 호출\n",
    "#서버에서는 클라이언트로부터 받은 요청에 대해서 처리\n",
    "#그리고 그에 대한 결과를 응답(response)\n",
    "#요청과 응답"
   ]
  },
  {
   "cell_type": "code",
   "execution_count": 7,
   "id": "6a3b1bba-3d65-4f51-9721-25db48cdaa27",
   "metadata": {},
   "outputs": [],
   "source": [
    "#HTTP 통신에서 Requests Methods\n",
    "#get, post, delete, put, patch 등\n",
    "#get은 조회, post는 데이터 전달 \n",
    "#delete는 삭제, put은 생성 혹은 덮어쓰기\n",
    "#patch는 부분 변경\n",
    "#API 통신에 주로 사용되는 것은 get 방식\n",
    "\n",
    "#get 방식은 주로 Resource 조회의 용도\n",
    "#서버에 요청을 보낼 때 param을 추가하여 보내기도 하는데 이때 query string을 활용"
   ]
  },
  {
   "cell_type": "code",
   "execution_count": 8,
   "id": "d29c1665-47d3-4578-a020-22e15afc68c6",
   "metadata": {},
   "outputs": [],
   "source": [
    "#Query String\n",
    "#URI에서 물음표(?) 붙이고 사용되는 부분\n",
    "#attribute=value 형태로 작성\n",
    "#여러 개의 parameter를 작성할 땐 &를 구분자로 사용하여 작성\n",
    "#https://www.bing.com/search?q=%EB%82%A0%EC%94%A8&cvid=aaa95c882d6b475bb752dec54ebc28b1&aqs=edge.0.0l9.1024j0j1&pglt=43&FORM=ANNTA1&PC=SMTS\n",
    "                           #Query String       #구분자"
   ]
  },
  {
   "cell_type": "code",
   "execution_count": 9,
   "id": "c2f13913-bb28-441d-b180-ebcd858f9173",
   "metadata": {},
   "outputs": [],
   "source": [
    "#URI(Uniform Resource Identifier)\n",
    "#인터넷에 있는 자원을 나타내는 유일한 주소\n",
    "#scheme:[//[user[:password]@]host[:port]][/path][?query][#fragment]\n"
   ]
  },
  {
   "cell_type": "code",
   "execution_count": 10,
   "id": "13dffb60-e360-4cda-aad2-e1f2b799c12d",
   "metadata": {},
   "outputs": [],
   "source": [
    "#응답콘텐츠 형식(Content-Type)\n",
    "#API로 통신할 때 주로 사용하는 콘텐츠 타입은 json과 xml\n",
    "#JSON(제이슨, JavaScript Object Notation)\n",
    "#- Attribute-Value pair로 구성되어 있습니다.\n",
    "#- Serializable value입니다.\n",
    "\n",
    "#XML(eXtensible Markup Language)\n",
    "#- 다목적 마크업 언어(태그 등을 이용하여 문서나 데이터의 구조를 명기하는 언어)입니다"
   ]
  },
  {
   "cell_type": "code",
   "execution_count": 11,
   "id": "0ea5af9a-fb0e-4c8b-9b97-4f509060d6c4",
   "metadata": {},
   "outputs": [],
   "source": [
    "#직렬화(serialization)와 역직렬화(deserialization)\n",
    "#직렬화 - 전송을 위해 객체를 연속된 바이트로 변경하는 것\n",
    "#역직렬과 - 바이트로 변경된 것을 다시 객체로 만드는 과정\n",
    "#serial이란 것은 연속적인 것"
   ]
  },
  {
   "cell_type": "code",
   "execution_count": 12,
   "id": "1375ac3d-fc8c-4479-80dc-3bd524b00cc8",
   "metadata": {},
   "outputs": [],
   "source": [
    "#네트워크 통신\n",
    "#패킷(packet) 단위로 분할되어 전달\n",
    "#컴퓨터 통신 연결은 단순히 바이트, 문자열, 비트를 독립적으로 연속하여 데이터를 전송\n",
    "#그래서 직렬화 역직렬화 필요"
   ]
  },
  {
   "cell_type": "code",
   "execution_count": 13,
   "id": "b191838f-79db-44c0-9ecf-d3d01afeba62",
   "metadata": {},
   "outputs": [],
   "source": [
    "#파싱(parsing)\n",
    "#일련의 문자열을 의미있는 토큰(token)으로 분해하고 이들로 이루어진 파스 트리(parse tree)를 만드는 과정"
   ]
  },
  {
   "cell_type": "code",
   "execution_count": 14,
   "id": "64007e4b-4933-4949-a19c-12bdbd40eeeb",
   "metadata": {},
   "outputs": [],
   "source": [
    "#결론\n",
    "#API를 통해 데이터를 받으려면 HTTP 통신을 활용해야 함\n",
    "#API 통신에 필요한 요청 방식이 Document를 통해 제공\n",
    "#우리는 그에 규격에 적합하게 요청을 작성하여 호출해야 함\n",
    "\n",
    "#API 방식에서 요청을 보낼 때 \n",
    "#주로 HTTP Request method로 get 방식을 사용하며,\n",
    "#API 서버가 처리하는데 필요한 parameters를 \n",
    "#query string(uri)에 추가하여 보냅니다.\n",
    "#정상적인 호출 후에는 서버에서 응답을 보내오는데, \n",
    "#우리는 그것을 활용하여 데이터를 수집할 수 있습니다."
   ]
  },
  {
   "cell_type": "code",
   "execution_count": 15,
   "id": "992dfdaa-4492-43d4-a3cf-77f385f18d44",
   "metadata": {},
   "outputs": [],
   "source": [
    "#dict"
   ]
  },
  {
   "cell_type": "code",
   "execution_count": null,
   "id": "1efcefed-df49-4d00-a94d-94c392ca979e",
   "metadata": {},
   "outputs": [],
   "source": []
  }
 ],
 "metadata": {
  "kernelspec": {
   "display_name": "Python 3 (ipykernel)",
   "language": "python",
   "name": "python3"
  },
  "language_info": {
   "codemirror_mode": {
    "name": "ipython",
    "version": 3
   },
   "file_extension": ".py",
   "mimetype": "text/x-python",
   "name": "python",
   "nbconvert_exporter": "python",
   "pygments_lexer": "ipython3",
   "version": "3.9.13"
  }
 },
 "nbformat": 4,
 "nbformat_minor": 5
}
