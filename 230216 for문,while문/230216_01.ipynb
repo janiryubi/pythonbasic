{
 "cells": [
  {
   "cell_type": "code",
   "execution_count": 1,
   "id": "720079d2-1e95-4cbc-9254-cdfc02e955f6",
   "metadata": {},
   "outputs": [
    {
     "data": {
      "text/plain": [
       "[0, 1, 2, 3, 4, 5, 6, 7]"
      ]
     },
     "execution_count": 1,
     "metadata": {},
     "output_type": "execute_result"
    }
   ],
   "source": [
    "# range변수\n",
    "# range(시작, 끝(꼭 넣기-미만), 증감)\n",
    "# 시퀀스자료형 변수슬라이싱[시작:끝:증감]\n",
    "list(range(8))"
   ]
  },
  {
   "cell_type": "code",
   "execution_count": 2,
   "id": "d342aaa3-2eee-4236-9499-910902c221ad",
   "metadata": {},
   "outputs": [
    {
     "name": "stdout",
     "output_type": "stream",
     "text": [
      "[2, 4, 6, 8, 10, 12, 14, 16, 18, 20, 22, 24, 26, 28, 30, 32, 34, 36, 38, 40, 42, 44, 46, 48, 50, 52, 54, 56, 58, 60, 62, 64, 66, 68, 70, 72, 74, 76, 78, 80, 82, 84, 86, 88, 90, 92, 94, 96, 98]\n"
     ]
    }
   ],
   "source": [
    "#range변수의 활용 - 연속되는 정수를 생성할 때\n",
    "#range로 반환받은 결과는 range이기에, list함수를 통해 리스트로 변경 가능\n",
    "#예제) 100미만의 2의 배수를 담은 리스트 생성\n",
    "even_numbers = list(range(2,100,2))\n",
    "print(even_numbers)"
   ]
  },
  {
   "cell_type": "code",
   "execution_count": 3,
   "id": "0a8d6801-c163-4063-a808-30f39991e737",
   "metadata": {},
   "outputs": [],
   "source": [
    "# range함수의 특징\n",
    "# range가 돌려주는 객체(실재 존재하는 것 = 메모리) 리스트인 것처럼 동작하지만, 리스트와 다름\n",
    "# range의 경우, 메모리를 만들어두지 않고, 그때그때 반환함"
   ]
  },
  {
   "cell_type": "code",
   "execution_count": 4,
   "id": "a11b4be9-090e-4646-b605-1dff532efd25",
   "metadata": {},
   "outputs": [],
   "source": [
    "#for문\n",
    "# 시퀀스 자료형(반복가능한iterable)의 항목들을 순서대로 요소(elements)를 하나씩 꺼낸다 \n",
    "# 반복되는 부분을 만들 때 활용하면 좋음\n",
    "# iterable(객체)를 루핑할 때 좋음- 하나씩 순서대로 다 꺼내서 확인한다\n",
    "# 반복횟수가 정해져 있을 때(유한할 때) 주로 사용\n",
    "\n",
    "# iterable -> 여러 개의 요소들로 구성되어 있으면서 요소를 한번에 하나씩 돌려줄 수 있는 객체\n",
    "#list str tuple range 등의 시퀀스 자료형 / 비 시퀀스 dictionary\n",
    "# 객체 - 메모리에 할당되어 존재하고 있는 데이터\n",
    "\n",
    "# 다른 크로그래밍 언어와 다른 부분\n",
    "# java for (변수선언:조건식,증감식){실행부} - 변수의 숫자를 증감- 조건식에 부합할 때까지 반복\n",
    "#도리어 java의 향상된 for문과 흡사for(자료형 변수명 : iterable){실행부}\n",
    "\n",
    "# 파이썬 for i(미지수) in range(len(문자열)) - 동적len\n",
    "# java for(int i = 0: i<문자열.length():i++){} - 정적 int"
   ]
  },
  {
   "cell_type": "code",
   "execution_count": null,
   "id": "950f0797-1f56-4d8c-a59b-ca8ee3df6af2",
   "metadata": {},
   "outputs": [],
   "source": [
    "# for i(변수-대입, 비교 가능) in range(1000) - 요소 생성:\n",
    "    # print(\"hello world\") - 반복할 코드뭉치\n",
    "for i in range(10):\n",
    "    print(f\"hello world{i}\")"
   ]
  },
  {
   "cell_type": "code",
   "execution_count": 2,
   "id": "b8191bba-6c22-49c2-8528-8e6f27a22006",
   "metadata": {},
   "outputs": [
    {
     "name": "stdout",
     "output_type": "stream",
     "text": [
      "hello world0\n",
      "hello world1\n",
      "hello world2\n",
      "hello world3\n",
      "hello world4\n",
      "hello world5\n",
      "hello world6\n",
      "hello world7\n",
      "hello world8\n",
      "hello world9\n",
      "hello world10\n",
      "hello world11\n",
      "hello world12\n",
      "hello world13\n",
      "hello world14\n",
      "hello world15\n",
      "hello world16\n",
      "hello world17\n",
      "hello world18\n",
      "hello world19\n",
      "hello world20\n",
      "hello world21\n",
      "hello world22\n",
      "hello world23\n",
      "hello world24\n",
      "hello world25\n",
      "hello world26\n",
      "hello world27\n",
      "hello world28\n",
      "hello world29\n",
      "hello world30\n",
      "hello world31\n",
      "hello world32\n",
      "hello world33\n",
      "hello world34\n",
      "hello world35\n",
      "hello world36\n",
      "hello world37\n",
      "hello world38\n",
      "hello world39\n",
      "hello world40\n",
      "hello world41\n",
      "hello world42\n",
      "hello world43\n",
      "hello world44\n",
      "hello world45\n",
      "hello world46\n",
      "hello world47\n",
      "hello world48\n",
      "hello world49\n",
      "hello world50\n",
      "hello world51\n",
      "hello world52\n",
      "hello world53\n",
      "hello world54\n",
      "hello world55\n",
      "hello world56\n",
      "hello world57\n",
      "hello world58\n",
      "hello world59\n",
      "hello world60\n",
      "hello world61\n",
      "hello world62\n",
      "hello world63\n",
      "hello world64\n",
      "hello world65\n",
      "hello world66\n",
      "hello world67\n",
      "hello world68\n",
      "hello world69\n",
      "hello world70\n",
      "hello world71\n",
      "hello world72\n",
      "hello world73\n",
      "hello world74\n",
      "hello world75\n",
      "hello world76\n",
      "hello world77\n",
      "hello world78\n",
      "hello world79\n",
      "hello world80\n",
      "hello world81\n",
      "hello world82\n",
      "hello world83\n",
      "hello world84\n",
      "hello world85\n",
      "hello world86\n",
      "hello world87\n",
      "hello world88\n",
      "hello world89\n",
      "hello world90\n",
      "hello world91\n",
      "hello world92\n",
      "hello world93\n",
      "hello world94\n",
      "hello world95\n",
      "hello world96\n",
      "hello world97\n",
      "hello world98\n",
      "hello world99\n",
      "hello world100\n"
     ]
    }
   ],
   "source": [
    "for i in range(101):\n",
    "    print(f\"hello world{i}\")"
   ]
  },
  {
   "cell_type": "code",
   "execution_count": 3,
   "id": "1277ac7b-b1fe-49ab-8dc2-5720e486688b",
   "metadata": {},
   "outputs": [
    {
     "name": "stdin",
     "output_type": "stream",
     "text": [
      "인사 몇 번 해드릴까요? 3\n"
     ]
    },
    {
     "name": "stdout",
     "output_type": "stream",
     "text": [
      "Hello world\n",
      "Hello world\n",
      "Hello world\n"
     ]
    }
   ],
   "source": [
    "integer = int(input(\"인사 몇 번 해드릴까요?\"))# str을 int로 변환\n",
    "for i in range(integer):\n",
    "    print(f\"Hello world\")"
   ]
  },
  {
   "cell_type": "code",
   "execution_count": 6,
   "id": "1b1e7b02-dfa4-4bae-a36b-20e3f8eb90e3",
   "metadata": {},
   "outputs": [
    {
     "name": "stdin",
     "output_type": "stream",
     "text": [
      "인사 몇 번 해드릴까요? 2\n"
     ]
    },
    {
     "name": "stdout",
     "output_type": "stream",
     "text": [
      "Hello world 1\n",
      "Hello world 2\n"
     ]
    }
   ],
   "source": [
    "integer = int(input(\"인사 몇 번 해드릴까요?\"))\n",
    "for _ in range(1,integer+1):\n",
    "    print(\"Hello world\",_ )"
   ]
  },
  {
   "cell_type": "code",
   "execution_count": 11,
   "id": "7a266eef-4e57-4134-971a-f1c5cc493222",
   "metadata": {},
   "outputs": [
    {
     "data": {
      "text/plain": [
       "[5, 6, 7, 8, 9]"
      ]
     },
     "execution_count": 11,
     "metadata": {},
     "output_type": "execute_result"
    }
   ],
   "source": [
    "#range 결과 list로 바꾸기\n",
    "list(range(5,10))"
   ]
  },
  {
   "cell_type": "code",
   "execution_count": 12,
   "id": "0fa455a9-a0b0-44f1-b17a-c9797ec96cab",
   "metadata": {},
   "outputs": [
    {
     "data": {
      "text/plain": [
       "[0, 3, 6, 9]"
      ]
     },
     "execution_count": 12,
     "metadata": {},
     "output_type": "execute_result"
    }
   ],
   "source": [
    "list(range(0,10,3))"
   ]
  },
  {
   "cell_type": "code",
   "execution_count": 14,
   "id": "0d9b5be5-7df1-406f-b6ae-1a50e30acbcc",
   "metadata": {},
   "outputs": [
    {
     "name": "stdout",
     "output_type": "stream",
     "text": [
      "[-10, -40, -70]\n"
     ]
    }
   ],
   "source": [
    "print(list(range(-10,-80,-30)))"
   ]
  },
  {
   "cell_type": "code",
   "execution_count": 6,
   "id": "ed812bcb-d58c-45b5-8cc3-0d41bb2a0e8a",
   "metadata": {},
   "outputs": [
    {
     "name": "stdin",
     "output_type": "stream",
     "text": [
      "자연수 하나 입력해주세요 6\n"
     ]
    },
    {
     "name": "stdout",
     "output_type": "stream",
     "text": [
      "6\t6\t6\t6\t6\t6\t\n",
      "5\t5\t5\t5\t5\t\n",
      "4\t4\t4\t4\t\n",
      "3\t3\t3\t\n",
      "2\t2\t\n",
      "1\t\n"
     ]
    }
   ],
   "source": [
    "gt = int(input(\"자연수 하나 입력해주세요\"))\n",
    "for _ in range(gt):\n",
    "    print(f\"{gt-_}\\t\"*(gt-_))"
   ]
  },
  {
   "cell_type": "code",
   "execution_count": 53,
   "id": "0c3d1cf9-53c6-4c54-a876-5b8146e6e70d",
   "metadata": {},
   "outputs": [
    {
     "name": "stdin",
     "output_type": "stream",
     "text": [
      "자연수 하나를 입력해주세요: 6\n"
     ]
    },
    {
     "name": "stdout",
     "output_type": "stream",
     "text": [
      "6\t6\t6\t6\t6\t6\t\n",
      "5\t5\t5\t5\t5\t\n",
      "4\t4\t4\t4\t\n",
      "3\t3\t3\t\n",
      "2\t2\t\n",
      "1\t\n"
     ]
    }
   ],
   "source": [
    "num = int(input(\"자연수 하나를 입력해주세요:\"))\n",
    "for i in range(num):\n",
    "    if i <= num:\n",
    "        print((num-i)*f\"{num-i}\\t\")"
   ]
  },
  {
   "cell_type": "code",
   "execution_count": 61,
   "id": "679073a8-e8cf-4b86-b041-fee74c6589a4",
   "metadata": {},
   "outputs": [
    {
     "name": "stdin",
     "output_type": "stream",
     "text": [
      "자연수 하나를 입력해주세요: 4\n"
     ]
    },
    {
     "name": "stdout",
     "output_type": "stream",
     "text": [
      "4\t4\t4\t4\t\n",
      "3\t3\t3\t\n",
      "2\t2\t\n",
      "1\t\n"
     ]
    }
   ],
   "source": [
    "numh = int(input(\"자연수 하나를 입력해주세요:\"))\n",
    "for i in range(numh,0,-1):\n",
    "    print(f\"{i}\\t\"*i)"
   ]
  },
  {
   "cell_type": "code",
   "execution_count": 128,
   "id": "4cf703bd-e47e-461e-83ec-1fffb8ba6330",
   "metadata": {},
   "outputs": [
    {
     "name": "stdin",
     "output_type": "stream",
     "text": [
      "자연수 하나를 입력해주세요: 6\n"
     ]
    },
    {
     "name": "stdout",
     "output_type": "stream",
     "text": [
      "6\t6\t6\t6\t6\t6\t\n",
      "5\t5\t5\t5\t5\t\n",
      "4\t4\t4\t4\t\n",
      "3\t3\t3\t\n",
      "2\t2\t\n",
      "1\t\n"
     ]
    }
   ],
   "source": [
    "numhe = int(input(\"자연수 하나를 입력해주세요:\"))\n",
    "for i in range(numhe,0,-1):\n",
    "    for j in range(i):\n",
    "        print(i, end='\\t')\n",
    "    print()"
   ]
  },
  {
   "cell_type": "code",
   "execution_count": 10,
   "id": "3974ccca-8935-4ef2-842e-f68b4ac5c2cc",
   "metadata": {},
   "outputs": [
    {
     "name": "stdout",
     "output_type": "stream",
     "text": [
      "* * * * * * * * * * \n",
      "*                 * \n",
      "*                 * \n",
      "*                 * \n",
      "*                 * \n",
      "*                 * \n",
      "*                 * \n",
      "*                 * \n",
      "*                 * \n",
      "* * * * * * * * * * \n"
     ]
    }
   ],
   "source": [
    "A = \"* \"\n",
    "for i in range(10):\n",
    "    if i == 0 or i == 9:\n",
    "        print(A*10)\n",
    "    else:\n",
    "        print(A + \" \" * len(A) *8 + A)    "
   ]
  },
  {
   "cell_type": "code",
   "execution_count": 71,
   "id": "da8599aa-fa15-4c1a-a0a6-154bc6dcb34b",
   "metadata": {},
   "outputs": [
    {
     "name": "stdout",
     "output_type": "stream",
     "text": [
      "* * * * * * * * * * \n",
      "*                 *\n",
      "*                 *\n",
      "*                 *\n",
      "*                 *\n",
      "*                 *\n",
      "*                 *\n",
      "*                 *\n",
      "*                 *\n",
      "* * * * * * * * * * \n"
     ]
    }
   ],
   "source": [
    "print(\"* \"*10)\n",
    "for i in range(8):\n",
    "    print(\"*                 \", end = \"*\\n\")\n",
    "print(\"* \"*10)"
   ]
  },
  {
   "cell_type": "code",
   "execution_count": 140,
   "id": "0db65239-7e8b-477a-9099-5418d7051778",
   "metadata": {},
   "outputs": [
    {
     "name": "stdin",
     "output_type": "stream",
     "text": [
      "1부터 입력한 자연수까지의 모든 홀수의 합을 구합니다: 100\n"
     ]
    },
    {
     "name": "stdout",
     "output_type": "stream",
     "text": [
      "1+3+5+7+9+11+13+15+17+19+21+23+25+27+29+31+33+35+37+39+41+43+45+47+49+51+53+55+57+59+61+63+65+67+69+71+73+75+77+79+81+83+85+87+89+91+93+95+97+99+=2500\n"
     ]
    }
   ],
   "source": [
    "numho = int(input(\"1부터 입력한 자연수까지의 모든 홀수의 합을 구합니다:\"))\n",
    "res = 0\n",
    "for i in range(1,numho+1,2):\n",
    "    res += i\n",
    "    print(f\"{i}+\",end=\"\")\n",
    "print(f\"={res}\")\n",
    "# TypeError: can only concatenate list (not \"int\") to list\n",
    "#list 와 1은 더할 수 없음"
   ]
  },
  {
   "cell_type": "code",
   "execution_count": 3,
   "id": "bf5335b1-ac99-4bef-a0f1-10b3e3ec3326",
   "metadata": {},
   "outputs": [
    {
     "name": "stdin",
     "output_type": "stream",
     "text": [
      "1부터 입력한 자연수까지의 모든 홀수의 합을 구합니다: 100\n"
     ]
    },
    {
     "name": "stdout",
     "output_type": "stream",
     "text": [
      "1+3+5+7+9+11+13+15+17+19+21+23+25+27+29+31+33+35+37+39+41+43+45+47+49+51+53+55+57+59+61+63+65+67+69+71+73+75+77+79+81+83+85+87+89+91+93+95+97+99=2500\n"
     ]
    }
   ],
   "source": [
    "numho = int(input(\"1부터 입력한 자연수까지의 모든 홀수의 합을 구합니다:\"))\n",
    "res = 0\n",
    "for i in range(1,numho+1,2):\n",
    "    res += i\n",
    "    if i < numho-2: #자신과 자신 앞의 수에+를 넣는다\n",
    "        print(f\"{i}+\",end=\"\")\n",
    "    else:\n",
    "        print(i, end=\"\")\n",
    "print(f\"={res}\")\n",
    "# TypeError: can only concatenate list (not \"int\") to list\n",
    "#list 와 1은 더할 수 없음"
   ]
  },
  {
   "cell_type": "code",
   "execution_count": 125,
   "id": "7f4fa332-556e-4dec-a37f-366a56929cb3",
   "metadata": {},
   "outputs": [],
   "source": [
    "res += i\n",
    "res = res+i"
   ]
  },
  {
   "cell_type": "code",
   "execution_count": 127,
   "id": "3343aaca-a6a0-4125-a5bf-672be8750ae0",
   "metadata": {},
   "outputs": [
    {
     "name": "stdin",
     "output_type": "stream",
     "text": [
      "1부터 입력한 자연수까지의 모든 홀수의 합을 구합니다: 100\n"
     ]
    },
    {
     "name": "stdout",
     "output_type": "stream",
     "text": [
      "1+3+5+7+9+11+13+15+17+19+21+23+25+27+29+31+33+35+37+39+41+43+45+47+49+51+53+55+57+59+61+63+65+67+69+71+73+75+77+79+81+83+85+87+89+91+93+95+97+99=2500\n"
     ]
    }
   ],
   "source": [
    "input_value = int(input(\"1부터 입력한 자연수까지의 모든 홀수의 합을 구합니다:\"))\n",
    "result = 0\n",
    "for i in range(1,input_value+1):\n",
    "    if i%2==1:\n",
    "        if (input_value -1) ==i or input_value ==i:\n",
    "            print(i,end='=')\n",
    "        else:\n",
    "            print(i,end='+')\n",
    "        result+=i\n",
    "print(result)"
   ]
  },
  {
   "cell_type": "code",
   "execution_count": 4,
   "id": "a0514a92-111c-4f64-8ed9-a05feb1c8d58",
   "metadata": {},
   "outputs": [
    {
     "name": "stdin",
     "output_type": "stream",
     "text": [
      "자연수 하나 입력하세요: 1\n"
     ]
    },
    {
     "name": "stdout",
     "output_type": "stream",
     "text": [
      "1 = 1\n"
     ]
    }
   ],
   "source": [
    "input_value = int(input(\"자연수 하나 입력하세요:\"))\n",
    "print(\"1\", end=\"\")\n",
    "result = 1\n",
    "for i in range(3, input_value + 1, 2):\n",
    "    print(f\" + {i}\", end=\"\")\n",
    "    result += i\n",
    "print(f\" = {result}\") "
   ]
  },
  {
   "cell_type": "code",
   "execution_count": 1,
   "id": "b144fadb-1c5b-4a84-b212-3e995d88f5da",
   "metadata": {},
   "outputs": [
    {
     "name": "stdin",
     "output_type": "stream",
     "text": [
      "자|연수 하나 입력하세요: 122\n"
     ]
    },
    {
     "name": "stdout",
     "output_type": "stream",
     "text": [
      "1 + 3 + 5 + 7 + 9 + 11 + 13 + 15 + 17 + 19 + 21 + 23 + 25 + 27 + 29 + 31 + 33 + 35 + 37 + 39 + 41 + 43 + 45 + 47 + 49 + 51 + 53 + 55 + 57 + 59 + 61 + 63 + 65 + 67 + 69 + 71 + 73 + 75 + 77 + 79 + 81 + 83 + 85 + 87 + 89 + 91 + 93 + 95 + 97 + 99 + 101 + 103 + 105 + 107 + 109 + 111 + 113 + 115 + 117 + 119 + 121 = 3721\n"
     ]
    }
   ],
   "source": [
    "input_value = int(input(\"자|연수 하나 입력하세요:\"))\n",
    "print(\"1\", end=\"\")\n",
    "result = 1\n",
    "for i in range(3, input_value + 1):\n",
    "    if i % 2 == 1: # 홀수\n",
    "        print(f\" + {i}\", end=\"\")\n",
    "        result += i\n",
    "print(f\" = {result}\")"
   ]
  },
  {
   "cell_type": "code",
   "execution_count": null,
   "id": "ea737694-bca1-4660-906b-ed3d0d813253",
   "metadata": {},
   "outputs": [],
   "source": [
    "#계승(factorial)\n",
    "factorial = int(input(\"계승을 구할 숫자를 입력하세요.\"))\n",
    "result = 1\n",
    "for i in range(1,factorial+1): #range 범위 설정\n",
    "    result*=i #result 값 갱신, 정의\n",
    "print(result)"
   ]
  },
  {
   "cell_type": "code",
   "execution_count": null,
   "id": "952ba228-9dac-49e3-a9dc-90449daf91f0",
   "metadata": {},
   "outputs": [],
   "source": [
    "result*=i\n",
    "result = result*i"
   ]
  }
 ],
 "metadata": {
  "kernelspec": {
   "display_name": "Python 3 (ipykernel)",
   "language": "python",
   "name": "python3"
  },
  "language_info": {
   "codemirror_mode": {
    "name": "ipython",
    "version": 3
   },
   "file_extension": ".py",
   "mimetype": "text/x-python",
   "name": "python",
   "nbconvert_exporter": "python",
   "pygments_lexer": "ipython3",
   "version": "3.9.13"
  }
 },
 "nbformat": 4,
 "nbformat_minor": 5
}
