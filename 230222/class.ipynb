{
 "cells": [
  {
   "cell_type": "code",
   "execution_count": 1,
   "id": "52615d17-7d5b-4799-b42b-5678eccb5100",
   "metadata": {},
   "outputs": [],
   "source": [
    "#클래스 속성\n",
    "#인스턴스를 생성할 때 속성 값 할당하려면 __init__메서드에서 self다음에 값을 받을 매개변수를 지정해야함\n",
    "#매개변수를 self.속성에 할당\n",
    "class classname:\n",
    "    def __init(self, param1,param2):\n",
    "        self.attr1 = param1\n",
    "        self.attr2 = param2"
   ]
  },
  {
   "cell_type": "code",
   "execution_count": 2,
   "id": "6ee75113-081c-4fd4-99c5-4125f92cf693",
   "metadata": {},
   "outputs": [
    {
     "name": "stdout",
     "output_type": "stream",
     "text": [
      "안녕하세요. 제 이름은마리아입니다.\n",
      "이름: 마리아\n",
      "이름: 20\n",
      "이름: 서울시 서초구 반포동\n"
     ]
    }
   ],
   "source": [
    "class person:\n",
    "    def __init__(self, name, age, address):\n",
    "        self.hello = \"안녕하세요.\"\n",
    "        self.name = name\n",
    "        self.age = age\n",
    "        self.address = address\n",
    "        \n",
    "    def greeting(self):\n",
    "        print(f\"{self.hello} 제 이름은{self.name}입니다.\")\n",
    "              \n",
    "maria = person(\"마리아\",20,\"서울시 서초구 반포동\")\n",
    "maria.greeting()\n",
    "              \n",
    "print(\"이름:\",maria.name)\n",
    "print(\"이름:\",maria.age)\n",
    "print(\"이름:\",maria.address)        "
   ]
  },
  {
   "cell_type": "code",
   "execution_count": 3,
   "id": "025595e0-eaf8-47df-9e5f-16f203eb5407",
   "metadata": {},
   "outputs": [
    {
     "name": "stdin",
     "output_type": "stream",
     "text": [
      "이름은 무엇인가요? 마리아\n",
      "나이는 무엇인가요? 20\n",
      "주소는 무엇인가요? 서울시 서초구\n",
      "이름은 무엇인가요? 제임스\n",
      "나이는 무엇인가요? 21\n",
      "주소는 무엇인가요? 서울시 구로구\n"
     ]
    },
    {
     "name": "stdout",
     "output_type": "stream",
     "text": [
      "첫번째 주소: 마리아\n",
      "첫번째 나이: 20\n",
      "첫번째 주소: 서울시 서초구\n",
      "두번째 이름: 제임스\n",
      "두번째 나이: 21\n",
      "두번째 주소: 서울시 구로구\n"
     ]
    }
   ],
   "source": [
    "name1 = input(\"이름은 무엇인가요?\")\n",
    "age1 = input(\"나이는 무엇인가요?\")\n",
    "address1 = input(\"주소는 무엇인가요?\")\n",
    "name2 = input(\"이름은 무엇인가요?\")\n",
    "age2 = input(\"나이는 무엇인가요?\")\n",
    "address2 = input(\"주소는 무엇인가요?\")\n",
    "\n",
    "class person:\n",
    "    def __init__(self, name, age, address):\n",
    "        self.name = name\n",
    "        self.age = age\n",
    "        self.address = address\n",
    "\n",
    "maria = person(name1,age1,address1)\n",
    "james = person(name2,age2,address2)\n",
    "\n",
    "print(\"첫번째 주소:\",maria.name)\n",
    "print(\"첫번째 나이:\",maria.age)\n",
    "print(\"첫번째 주소:\",maria.address)\n",
    "print(\"두번째 이름:\",james.name)\n",
    "print(\"두번째 나이:\",james.age)\n",
    "print(\"두번째 주소:\",james.address)"
   ]
  },
  {
   "cell_type": "code",
   "execution_count": 4,
   "id": "2d7c4462-3059-48a7-a857-d4d1210d8816",
   "metadata": {},
   "outputs": [
    {
     "name": "stdout",
     "output_type": "stream",
     "text": [
      "이름은 무엇인가요?: 마리아\n",
      "나이는 무엇인가요?: 20\n",
      "주소는 무엇인가요?: 서울시 강남구\n",
      "이름은 무엇인가요?: 제임스\n",
      "나이는 무엇인가요?: 21\n",
      "주소는 무엇인가요?: 서울시 구로구\n",
      "첫번째 주소: 마리아\n",
      "첫번째 나이: 20\n",
      "첫번째 주소: 서울시 강남구\n",
      "두번째 이름: 제임스\n",
      "두번째 나이: 21\n",
      "두번째 주소: 서울시 구로구\n"
     ]
    }
   ],
   "source": [
    "class person:\n",
    "    def __init__(self, name, age, address):\n",
    "        self.name = name\n",
    "        self.age = age\n",
    "        self.address = address\n",
    "maria = person(\"마리아\",20,\"서울시 강남구\")\n",
    "james = person(\"제임스\",21,\"서울시 구로구\")\n",
    "\n",
    "print(\"이름은 무엇인가요?:\",maria.name)\n",
    "print(\"나이는 무엇인가요?:\",maria.age)\n",
    "print(\"주소는 무엇인가요?:\",maria.address)\n",
    "print(\"이름은 무엇인가요?:\",james.name)\n",
    "print(\"나이는 무엇인가요?:\",james.age)\n",
    "print(\"주소는 무엇인가요?:\",james.address)\n",
    "print(\"첫번째 주소:\",maria.name)\n",
    "print(\"첫번째 나이:\",maria.age)\n",
    "print(\"첫번째 주소:\",maria.address)\n",
    "print(\"두번째 이름:\",james.name)\n",
    "print(\"두번째 나이:\",james.age)\n",
    "print(\"두번째 주소:\",james.address)"
   ]
  },
  {
   "cell_type": "code",
   "execution_count": 5,
   "id": "670aaeee-7388-4e04-b980-119e84b0d12d",
   "metadata": {},
   "outputs": [],
   "source": [
    "#input(\"message?\")로 받는다?"
   ]
  },
  {
   "cell_type": "code",
   "execution_count": 6,
   "id": "a2dcd13f-7d3f-41d4-9575-a1acc2011539",
   "metadata": {},
   "outputs": [],
   "source": [
    "#비공개 속성 사용하기\n",
    "#인스턴스.속성 값을 통해 새롭게 속성 값을 변경 못하도록 막을 수 있음\n",
    "#해당 속성 앞에 던더__붙임\n",
    "class classname:\n",
    "    def __init__(self,param1,param2):\n",
    "        self.attr1 = param1\n",
    "        self.__attr2 = param2 #비공개 속성"
   ]
  },
  {
   "cell_type": "code",
   "execution_count": 7,
   "id": "cd240bab-1fcd-4487-9dcc-ade76824f7cc",
   "metadata": {},
   "outputs": [],
   "source": [
    "class classname:\n",
    "    def __init__(self):\n",
    "        self.__secret = \"비밀입니다\""
   ]
  },
  {
   "cell_type": "code",
   "execution_count": 8,
   "id": "f9158a10-6589-4498-b909-fd91edf1fccb",
   "metadata": {},
   "outputs": [],
   "source": [
    "#비공개 속성 사용하기\n",
    "class person:\n",
    "    def __init__(self,name,age,address,wallet):\n",
    "        self.name = name\n",
    "        self.age = age\n",
    "        self.address = address\n",
    "        self.__wallet = wallet #변수 앞에 __를 붙여서 비공개 속성으로 만듦\n",
    "# maria = person(\"마리아\",20, \"서울시 서초구 반포동\",10000)\n",
    "# maria.__wallet-=10000 #클래스 바깥에서 비공개 속성에 접근하면 에러 발생\n",
    "# AttributeError: 'person' object has no attribute '__wallet'"
   ]
  },
  {
   "cell_type": "code",
   "execution_count": 9,
   "id": "582a6662-133c-48c9-a1f7-f999ccce0376",
   "metadata": {},
   "outputs": [
    {
     "name": "stdout",
     "output_type": "stream",
     "text": [
      "이제 7000원 남았네요.\n"
     ]
    }
   ],
   "source": [
    "#비공개 속성 사용하기 - pay 메서드 정의\n",
    "class person:\n",
    "    def __init__(self,name,age,address,wallet):\n",
    "        self.name = name\n",
    "        self.age = age\n",
    "        self.address = address\n",
    "        self.__wallet = wallet\n",
    "    def pay(self,amount):\n",
    "        if self.__wallet<amount:\n",
    "            print(\"돈이 모자랍니다.\")\n",
    "            return\n",
    "        self.__wallet -= amount #비공개 속성은 클래스 안의 메서드에서만 접근할 수 있음\n",
    "        print(\"이제 {0}원 남았네요.\".format(self.__wallet))\n",
    "maria = person(\"마리아\",20, \"서울시 서초구 반포동\",10000)\n",
    "maria.pay(3000)"
   ]
  },
  {
   "cell_type": "code",
   "execution_count": 10,
   "id": "06b13fc0-73c0-4f86-b9f8-76d0a63edecd",
   "metadata": {},
   "outputs": [
    {
     "ename": "SyntaxError",
     "evalue": "cannot assign to operator (4021085676.py, line 13)",
     "output_type": "error",
     "traceback": [
      "\u001b[1;36m  File \u001b[1;32m\"C:\\Users\\Playdata\\AppData\\Local\\Temp\\ipykernel_6268\\4021085676.py\"\u001b[1;36m, line \u001b[1;32m13\u001b[0m\n\u001b[1;33m    self.ap * 0.65 + 400 = self.tibbers #cannot assign to operator\u001b[0m\n\u001b[1;37m    ^\u001b[0m\n\u001b[1;31mSyntaxError\u001b[0m\u001b[1;31m:\u001b[0m cannot assign to operator\n"
     ]
    }
   ],
   "source": [
    "#연습문제 - 사용자로부터 체력, 마나,AP를 입력받아 온다\n",
    "#주어진 코드에서 애니 클래스를 작성하고 티버스킬의 피해량이 출력되도록\n",
    "#티버 피해량은 AP*0.65+400/AP=마법능력치\n",
    "question = float((input(\"체력, 마나, AP를 입력하세요.\")).split(\" \"))\n",
    "strangth = game[0]\n",
    "\n",
    "class Annie:\n",
    "    def __init(self,strangth, mana, ap):\n",
    "        self.strangth = strangth\n",
    "        self.mana = mana\n",
    "        self.ap = ap\n",
    "    def tibbers(self):\n",
    "        self.ap * 0.65 + 400 = self.tibbers #cannot assign to operator\n",
    "        print(self.tibbers)\n",
    "\n",
    "res = game(question[0],question[1],question[2])"
   ]
  },
  {
   "cell_type": "code",
   "execution_count": 13,
   "id": "1fe615c9-ef2d-49be-b9c5-01d02d273b60",
   "metadata": {},
   "outputs": [
    {
     "ename": "AttributeError",
     "evalue": "'Annie' object has no attribute 'strangth'",
     "output_type": "error",
     "traceback": [
      "\u001b[1;31m---------------------------------------------------------------------------\u001b[0m",
      "\u001b[1;31mAttributeError\u001b[0m                            Traceback (most recent call last)",
      "\u001b[1;32m~\\AppData\\Local\\Temp\\ipykernel_6268\\3613951443.py\u001b[0m in \u001b[0;36m<module>\u001b[1;34m\u001b[0m\n\u001b[0;32m     12\u001b[0m \u001b[1;33m\u001b[0m\u001b[0m\n\u001b[0;32m     13\u001b[0m \u001b[0ma1\u001b[0m \u001b[1;33m=\u001b[0m \u001b[0mAnnie\u001b[0m\u001b[1;33m(\u001b[0m\u001b[1;33m)\u001b[0m\u001b[1;33m\u001b[0m\u001b[1;33m\u001b[0m\u001b[0m\n\u001b[1;32m---> 14\u001b[1;33m \u001b[0mprint\u001b[0m\u001b[1;33m(\u001b[0m\u001b[0ma1\u001b[0m\u001b[1;33m.\u001b[0m\u001b[0mstrangth\u001b[0m\u001b[1;33m,\u001b[0m\u001b[0ma1\u001b[0m\u001b[1;33m.\u001b[0m\u001b[0mmana\u001b[0m\u001b[1;33m,\u001b[0m\u001b[0ma1\u001b[0m\u001b[1;33m.\u001b[0m\u001b[0map\u001b[0m\u001b[1;33m)\u001b[0m\u001b[1;33m\u001b[0m\u001b[1;33m\u001b[0m\u001b[0m\n\u001b[0m\u001b[0;32m     15\u001b[0m \u001b[0mstrangth\u001b[0m\u001b[1;33m,\u001b[0m\u001b[0mmana\u001b[0m\u001b[1;33m,\u001b[0m\u001b[0map\u001b[0m \u001b[1;33m=\u001b[0m \u001b[0mmap\u001b[0m\u001b[1;33m(\u001b[0m\u001b[0mfloat\u001b[0m\u001b[1;33m,\u001b[0m\u001b[0minput\u001b[0m\u001b[1;33m(\u001b[0m\u001b[1;34m\"애니\"\u001b[0m\u001b[1;33m)\u001b[0m\u001b[1;33m.\u001b[0m\u001b[0msplit\u001b[0m\u001b[1;33m(\u001b[0m\u001b[1;33m)\u001b[0m\u001b[1;33m)\u001b[0m\u001b[1;33m\u001b[0m\u001b[1;33m\u001b[0m\u001b[0m\n\u001b[0;32m     16\u001b[0m \u001b[0ma2\u001b[0m \u001b[1;33m=\u001b[0m \u001b[0mAnnie\u001b[0m\u001b[1;33m(\u001b[0m\u001b[0mstrangth\u001b[0m\u001b[1;33m,\u001b[0m\u001b[0mmana\u001b[0m\u001b[1;33m,\u001b[0m\u001b[0map\u001b[0m\u001b[1;33m)\u001b[0m\u001b[1;33m\u001b[0m\u001b[1;33m\u001b[0m\u001b[0m\n",
      "\u001b[1;31mAttributeError\u001b[0m: 'Annie' object has no attribute 'strangth'"
     ]
    }
   ],
   "source": [
    "#연습문제 - 사용자로부터 체력, 마나,AP를 입력받아 온다\n",
    "#주어진 코드에서 애니 클래스를 작성하고 티버스킬의 피해량이 출력되도록\n",
    "#티버 피해량은 AP*0.65+400/AP=마법능력치\n",
    "class Annie:\n",
    "    def __init(self,strangth = 0, mana = 0, ap = 0):\n",
    "        self.strangth = strangth\n",
    "        self.mana = mana\n",
    "        self.ap = ap\n",
    "    \n",
    "    def tibbers(self):\n",
    "        return self.ap * 0.65 + 400\n",
    "\n",
    "a1 = Annie()\n",
    "print(a1.strangth,a1.mana,a1.ap)\n",
    "strangth,mana,ap = map(float,input(\"애니\").split())\n",
    "a2 = Annie(strangth,mana,ap)\n",
    "a2.tibbers()\n",
    "#hp,mp,ap"
   ]
  },
  {
   "cell_type": "code",
   "execution_count": null,
   "id": "b043ece7-9361-4c92-b774-cb82e58128b0",
   "metadata": {},
   "outputs": [],
   "source": []
  }
 ],
 "metadata": {
  "kernelspec": {
   "display_name": "Python 3 (ipykernel)",
   "language": "python",
   "name": "python3"
  },
  "language_info": {
   "codemirror_mode": {
    "name": "ipython",
    "version": 3
   },
   "file_extension": ".py",
   "mimetype": "text/x-python",
   "name": "python",
   "nbconvert_exporter": "python",
   "pygments_lexer": "ipython3",
   "version": "3.9.13"
  }
 },
 "nbformat": 4,
 "nbformat_minor": 5
}
