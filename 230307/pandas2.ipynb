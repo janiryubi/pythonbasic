{
 "cells": [
  {
   "cell_type": "markdown",
   "id": "d33f0261-3c5a-45b3-b8cf-3c203205d0a0",
   "metadata": {},
   "source": [
    "## Series의 값이 많은 경우"
   ]
  },
  {
   "cell_type": "code",
   "execution_count": 2,
   "id": "aac7079c-7896-4e7a-9820-6f96148277c7",
   "metadata": {},
   "outputs": [
    {
     "data": {
      "text/plain": [
       "0        0\n",
       "1        1\n",
       "2        2\n",
       "3        3\n",
       "4        4\n",
       "      ... \n",
       "495    495\n",
       "496    496\n",
       "497    497\n",
       "498    498\n",
       "499    499\n",
       "Length: 500, dtype: int64"
      ]
     },
     "execution_count": 2,
     "metadata": {},
     "output_type": "execute_result"
    }
   ],
   "source": [
    "import pandas as pd\n",
    "import numpy as np\n",
    "\n",
    "# Series의 값이 많은 경우\n",
    "#처음 5개, 끝 5개가 출력됨\n",
    "\n",
    "nums = pd.Series(range(500))\n",
    "nums # ㆍㆍㆍ이란 표시는 생략되었다는 의미\n",
    "\n",
    "#많은 데이터를 출력하게 되면 주피터에 부하가 올 수 있기 때문"
   ]
  },
  {
   "cell_type": "code",
   "execution_count": null,
   "id": "0566c8f2-90fd-48a7-b42f-10a87041e00c",
   "metadata": {},
   "outputs": [],
   "source": []
  },
  {
   "cell_type": "markdown",
   "id": "4105122f-3f19-4ec1-b862-d8c0621dfb14",
   "metadata": {},
   "source": [
    "# Series 메서드 정리 "
   ]
  },
  {
   "cell_type": "markdown",
   "id": "8b5b3d98-adf6-44e8-a3dc-685026f7c70f",
   "metadata": {},
   "source": [
    "## Series head() 메서드 "
   ]
  },
  {
   "cell_type": "code",
   "execution_count": 2,
   "id": "57977590-b256-40c8-9560-dea26bd95f39",
   "metadata": {},
   "outputs": [
    {
     "data": {
      "text/plain": [
       "0    0\n",
       "1    1\n",
       "2    2\n",
       "3    3\n",
       "4    4\n",
       "dtype: int64"
      ]
     },
     "execution_count": 2,
     "metadata": {},
     "output_type": "execute_result"
    }
   ],
   "source": [
    "# Series head() 메서드 \n",
    "\n",
    "# head() 메서드는 앞부터 출력할 데이터의 개수 지정\n",
    "nums.head() # 디폴트는 5개"
   ]
  },
  {
   "cell_type": "code",
   "execution_count": 3,
   "id": "957a8bfa-a9ff-4ab0-b692-d6fec178e40c",
   "metadata": {},
   "outputs": [
    {
     "data": {
      "text/plain": [
       "0    0\n",
       "1    1\n",
       "2    2\n",
       "3    3\n",
       "4    4\n",
       "5    5\n",
       "6    6\n",
       "7    7\n",
       "8    8\n",
       "9    9\n",
       "dtype: int64"
      ]
     },
     "execution_count": 3,
     "metadata": {},
     "output_type": "execute_result"
    }
   ],
   "source": [
    "nums.head(10) # 괄호 안에 숫자를 넣어서 출력할 데이터 개수 지정 가능"
   ]
  },
  {
   "cell_type": "markdown",
   "id": "a5bde3c9-25f4-4576-9af2-e6ad336d3b8e",
   "metadata": {},
   "source": [
    "## Series tail() 메서드"
   ]
  },
  {
   "cell_type": "code",
   "execution_count": 4,
   "id": "77256f3c-9444-4e79-b1b7-45c1e58e2855",
   "metadata": {},
   "outputs": [
    {
     "data": {
      "text/plain": [
       "495    495\n",
       "496    496\n",
       "497    497\n",
       "498    498\n",
       "499    499\n",
       "dtype: int64"
      ]
     },
     "execution_count": 4,
     "metadata": {},
     "output_type": "execute_result"
    }
   ],
   "source": [
    "# Series tail() 메서드\n",
    "\n",
    "# tail() 메서드는 맨 뒤에서부터 출력할 데이터의 개수 지정\n",
    "nums.tail() # 디폴트는 5개"
   ]
  },
  {
   "cell_type": "code",
   "execution_count": 5,
   "id": "e8e9df7b-f964-4c47-bc7e-e9ea60add4e3",
   "metadata": {},
   "outputs": [
    {
     "data": {
      "text/plain": [
       "490    490\n",
       "491    491\n",
       "492    492\n",
       "493    493\n",
       "494    494\n",
       "495    495\n",
       "496    496\n",
       "497    497\n",
       "498    498\n",
       "499    499\n",
       "dtype: int64"
      ]
     },
     "execution_count": 5,
     "metadata": {},
     "output_type": "execute_result"
    }
   ],
   "source": [
    "nums.tail(10) # head()와 같은 방식으로 괄호 안에 숫자를 넣어서\n",
    "              # 출력할 데이터 개수 지정 가능"
   ]
  },
  {
   "cell_type": "code",
   "execution_count": null,
   "id": "0a8f3cb0-ccd5-42c3-881a-058fb8862869",
   "metadata": {},
   "outputs": [],
   "source": []
  },
  {
   "cell_type": "markdown",
   "id": "191b9839-43b7-4636-802b-d265cda8ca34",
   "metadata": {},
   "source": [
    "# Series 수학 연산 메서드 정리"
   ]
  },
  {
   "cell_type": "code",
   "execution_count": 6,
   "id": "514c8547-7bc9-4381-95a6-961b0da3d38a",
   "metadata": {},
   "outputs": [
    {
     "data": {
      "text/plain": [
       "0    1.0\n",
       "1    2.0\n",
       "2    NaN\n",
       "3    4.0\n",
       "4    5.0\n",
       "dtype: float64"
      ]
     },
     "execution_count": 6,
     "metadata": {},
     "output_type": "execute_result"
    }
   ],
   "source": [
    "# Series 수학 연산\n",
    "\n",
    "nums = pd.Series([1, 2, np.nan, 4, 5])\n",
    "nums # np.nan에 의해 float으로 자료형 통일"
   ]
  },
  {
   "cell_type": "markdown",
   "id": "a1f37502-d90f-4443-bca5-e22bb5d0c8b9",
   "metadata": {},
   "source": [
    "## Series 수학 연산 - nunique()"
   ]
  },
  {
   "cell_type": "code",
   "execution_count": 7,
   "id": "6a14f897-319e-4a32-b4b5-de7d7fa4018a",
   "metadata": {},
   "outputs": [],
   "source": [
    "## Series 수학 연산 nunique() 메서드\n",
    "\n",
    "# nunique() 메서드는 고유한 값의 개수를 계산할 때 사용\n",
    "# 아래 예제에서 'h','e','l','l','o'의 값을 갖는 Series 객체에서\n",
    "# 고유한 값인 'h', 'e', 'l', 'o'에 대한 개수를 구해준다.\n",
    "\n",
    "hello = pd.Series(list(\"hello\"))"
   ]
  },
  {
   "cell_type": "markdown",
   "id": "14bba570-b035-4796-b779-7b2432bb976d",
   "metadata": {},
   "source": [
    "## Series 수학 연산 - count()"
   ]
  },
  {
   "cell_type": "code",
   "execution_count": 8,
   "id": "0fd46d3a-2bcb-4960-b12a-4df6190074be",
   "metadata": {},
   "outputs": [
    {
     "data": {
      "text/plain": [
       "0    1.0\n",
       "1    2.0\n",
       "2    NaN\n",
       "3    4.0\n",
       "4    5.0\n",
       "dtype: float64"
      ]
     },
     "execution_count": 8,
     "metadata": {},
     "output_type": "execute_result"
    }
   ],
   "source": [
    "## Series 수학 연산 count() 메서드\n",
    "\n",
    "# count() 메서드는 데이터의 개수를 계산한다.\n",
    "# 이 때 NaN인 값에 대해서는 개수에 포함시키지 않는다.\n",
    "\n",
    "# len()은 그와 별개로 전체 길이를 알려준다.\n",
    "nums"
   ]
  },
  {
   "cell_type": "code",
   "execution_count": 9,
   "id": "8c0f7fff-4791-4eb9-b6cd-76441219e9c5",
   "metadata": {},
   "outputs": [
    {
     "data": {
      "text/plain": [
       "4"
      ]
     },
     "execution_count": 9,
     "metadata": {},
     "output_type": "execute_result"
    }
   ],
   "source": [
    "nums.count()"
   ]
  },
  {
   "cell_type": "code",
   "execution_count": 10,
   "id": "db696267-318a-47bb-b3e2-05039f97369a",
   "metadata": {},
   "outputs": [
    {
     "data": {
      "text/plain": [
       "5"
      ]
     },
     "execution_count": 10,
     "metadata": {},
     "output_type": "execute_result"
    }
   ],
   "source": [
    "len(nums)"
   ]
  },
  {
   "cell_type": "markdown",
   "id": "1d6b6c22-a150-477a-b4a2-42d15c9de78c",
   "metadata": {},
   "source": [
    "## Series 수학 연산 - sum()"
   ]
  },
  {
   "cell_type": "code",
   "execution_count": 11,
   "id": "e1c56f5c-baf2-4c3e-8270-6faa53738a28",
   "metadata": {},
   "outputs": [
    {
     "data": {
      "text/plain": [
       "0    1.0\n",
       "1    2.0\n",
       "2    NaN\n",
       "3    4.0\n",
       "4    5.0\n",
       "dtype: float64"
      ]
     },
     "execution_count": 11,
     "metadata": {},
     "output_type": "execute_result"
    }
   ],
   "source": [
    "## Series 수학 연산 sum() 메서드\n",
    "\n",
    "# sum() 메서드는 Series에 있는 데이터를 모두 더한다.\n",
    "# 대부분의 수학 연산과 관련된 메서드는 결측치를 포함하지 않고 계산\n",
    "\n",
    "# 이는 skipna 파라미터의 기본 값이 True이기 때문이다.\n",
    "# skipna의 값을 False로 전달하면 결측값을 포함한 계산 결과가 나온다.\n",
    "nums"
   ]
  },
  {
   "cell_type": "code",
   "execution_count": 12,
   "id": "a6074d95-a023-4bb8-a997-4e52451b76c2",
   "metadata": {},
   "outputs": [
    {
     "data": {
      "text/plain": [
       "12.0"
      ]
     },
     "execution_count": 12,
     "metadata": {},
     "output_type": "execute_result"
    }
   ],
   "source": [
    "nums.sum()"
   ]
  },
  {
   "cell_type": "code",
   "execution_count": 13,
   "id": "8331a2b8-8a77-44ae-8893-9509bc9a042f",
   "metadata": {},
   "outputs": [
    {
     "data": {
      "text/plain": [
       "nan"
      ]
     },
     "execution_count": 13,
     "metadata": {},
     "output_type": "execute_result"
    }
   ],
   "source": [
    "nums.sum(skipna = False)"
   ]
  },
  {
   "cell_type": "markdown",
   "id": "0f46f297-2424-46c3-9484-ac04fd7ecdef",
   "metadata": {},
   "source": [
    "## Series 수학 연산 mean(), median(), std()"
   ]
  },
  {
   "cell_type": "code",
   "execution_count": 14,
   "id": "bfe9d12e-7e82-4c2a-ad5d-8fb7ea24762c",
   "metadata": {},
   "outputs": [
    {
     "data": {
      "text/plain": [
       "0    1.0\n",
       "1    2.0\n",
       "2    NaN\n",
       "3    4.0\n",
       "4    5.0\n",
       "dtype: float64"
      ]
     },
     "execution_count": 14,
     "metadata": {},
     "output_type": "execute_result"
    }
   ],
   "source": [
    "## Series 수학 연산 mean(), median(), std() 메서드\n",
    "\n",
    "# mean()은 평균\n",
    "# median()은 중앙값\n",
    "# std()는 표준편차\n",
    "nums"
   ]
  },
  {
   "cell_type": "code",
   "execution_count": 15,
   "id": "69266810-def2-4606-b9f3-dfe47f2788d5",
   "metadata": {},
   "outputs": [
    {
     "data": {
      "text/plain": [
       "3.0"
      ]
     },
     "execution_count": 15,
     "metadata": {},
     "output_type": "execute_result"
    }
   ],
   "source": [
    "nums.mean()"
   ]
  },
  {
   "cell_type": "code",
   "execution_count": 16,
   "id": "26dbf44e-6b1d-4fe3-aa68-49aba4657703",
   "metadata": {},
   "outputs": [
    {
     "data": {
      "text/plain": [
       "3.0"
      ]
     },
     "execution_count": 16,
     "metadata": {},
     "output_type": "execute_result"
    }
   ],
   "source": [
    "nums.median()"
   ]
  },
  {
   "cell_type": "code",
   "execution_count": 17,
   "id": "a2194fb7-9f9f-40ca-8a7b-1d3984665780",
   "metadata": {},
   "outputs": [
    {
     "data": {
      "text/plain": [
       "1.8257418583505538"
      ]
     },
     "execution_count": 17,
     "metadata": {},
     "output_type": "execute_result"
    }
   ],
   "source": [
    "nums.std()"
   ]
  },
  {
   "cell_type": "markdown",
   "id": "15f3075c-8228-44e7-b246-8c414239f8c8",
   "metadata": {},
   "source": [
    "## Series 수학 연산 max(), min()"
   ]
  },
  {
   "cell_type": "code",
   "execution_count": 18,
   "id": "11ba302b-d768-4f3f-b625-709ba87637b8",
   "metadata": {},
   "outputs": [
    {
     "data": {
      "text/plain": [
       "0    1.0\n",
       "1    2.0\n",
       "2    NaN\n",
       "3    4.0\n",
       "4    5.0\n",
       "dtype: float64"
      ]
     },
     "execution_count": 18,
     "metadata": {},
     "output_type": "execute_result"
    }
   ],
   "source": [
    "## Series 수학 연산 max(), min() 메서드\n",
    "\n",
    "# max()는 Series에서 가장 큰 값 검색\n",
    "# min()는 Series에서 가장 작은 값 검색\n",
    "nums"
   ]
  },
  {
   "cell_type": "code",
   "execution_count": 19,
   "id": "d09e1bab-34d8-42c9-a9b4-75e65ee738e3",
   "metadata": {},
   "outputs": [
    {
     "data": {
      "text/plain": [
       "5.0"
      ]
     },
     "execution_count": 19,
     "metadata": {},
     "output_type": "execute_result"
    }
   ],
   "source": [
    "nums.max()"
   ]
  },
  {
   "cell_type": "code",
   "execution_count": 20,
   "id": "d4208c9a-3a77-4b9b-9cd6-6bbc2e7aeaf6",
   "metadata": {},
   "outputs": [
    {
     "data": {
      "text/plain": [
       "1.0"
      ]
     },
     "execution_count": 20,
     "metadata": {},
     "output_type": "execute_result"
    }
   ],
   "source": [
    "nums.min()"
   ]
  },
  {
   "cell_type": "markdown",
   "id": "014a607f-9e6c-4198-9957-a49910a99677",
   "metadata": {},
   "source": [
    "### 문자에 대한 max(), min()"
   ]
  },
  {
   "cell_type": "code",
   "execution_count": 21,
   "id": "a43a419d-f507-4a00-9f74-e0326da052c9",
   "metadata": {},
   "outputs": [
    {
     "data": {
      "text/plain": [
       "0    A\n",
       "1    a\n",
       "2    B\n",
       "3    b\n",
       "4    C\n",
       "5    c\n",
       "dtype: object"
      ]
     },
     "execution_count": 21,
     "metadata": {},
     "output_type": "execute_result"
    }
   ],
   "source": [
    "### 문자에 대한 max(), min()메서드\n",
    "\n",
    "# Series의 값이 문자인 경우도 최대값과 최소값을 구할 수 있다.\n",
    "\n",
    "# ord() 함수는 하나의 문자를 Unicode 숫자로 변경\n",
    "# 그 크기를 통해 최대값과 최소값 검색\n",
    "\n",
    "somechar = pd.Series(list(\"AaBbCc\"))\n",
    "somechar"
   ]
  },
  {
   "cell_type": "code",
   "execution_count": 22,
   "id": "17cf0ab9-3fce-49e8-832e-83cf237dbe56",
   "metadata": {},
   "outputs": [
    {
     "data": {
      "text/plain": [
       "'c'"
      ]
     },
     "execution_count": 22,
     "metadata": {},
     "output_type": "execute_result"
    }
   ],
   "source": [
    "somechar.max()"
   ]
  },
  {
   "cell_type": "code",
   "execution_count": 23,
   "id": "3a31ae71-e75b-489d-9402-58541fe9d785",
   "metadata": {},
   "outputs": [
    {
     "data": {
      "text/plain": [
       "'A'"
      ]
     },
     "execution_count": 23,
     "metadata": {},
     "output_type": "execute_result"
    }
   ],
   "source": [
    "somechar.min()"
   ]
  },
  {
   "cell_type": "code",
   "execution_count": 24,
   "id": "8cbb58f9-9fac-40c8-b9c5-c9e8d4f2323d",
   "metadata": {},
   "outputs": [
    {
     "data": {
      "text/plain": [
       "97"
      ]
     },
     "execution_count": 24,
     "metadata": {},
     "output_type": "execute_result"
    }
   ],
   "source": [
    "ord('a')"
   ]
  },
  {
   "cell_type": "code",
   "execution_count": 25,
   "id": "a59a3eb8-3736-46b3-8d91-eb72bce81623",
   "metadata": {},
   "outputs": [
    {
     "data": {
      "text/plain": [
       "65"
      ]
     },
     "execution_count": 25,
     "metadata": {},
     "output_type": "execute_result"
    }
   ],
   "source": [
    "ord('A')"
   ]
  },
  {
   "cell_type": "markdown",
   "id": "e0f8d33b-5dd2-4e16-8322-91e89c9598c0",
   "metadata": {},
   "source": [
    "## Series 수학 연산 - describe() (모든 통계)"
   ]
  },
  {
   "cell_type": "code",
   "execution_count": 26,
   "id": "1e18b498-ae37-4418-a804-d1802c410e2d",
   "metadata": {},
   "outputs": [
    {
     "data": {
      "text/plain": [
       "0    1.0\n",
       "1    2.0\n",
       "2    NaN\n",
       "3    4.0\n",
       "4    5.0\n",
       "dtype: float64"
      ]
     },
     "execution_count": 26,
     "metadata": {},
     "output_type": "execute_result"
    }
   ],
   "source": [
    "## Series 수학 연산 describe() 메서드\n",
    "\n",
    "# describe() 메서드는 수치 값을 갖는 Series에 대해\n",
    "# count, mean, std, min, 25%, median(50%), 75%, max에 대한\n",
    "# 모든 통계를 구해준다.\n",
    "nums"
   ]
  },
  {
   "cell_type": "code",
   "execution_count": 27,
   "id": "37d31245-6819-41f0-802c-938bfcef5af0",
   "metadata": {},
   "outputs": [
    {
     "data": {
      "text/plain": [
       "count    4.000000\n",
       "mean     3.000000\n",
       "std      1.825742\n",
       "min      1.000000\n",
       "25%      1.750000\n",
       "50%      3.000000\n",
       "75%      4.250000\n",
       "max      5.000000\n",
       "dtype: float64"
      ]
     },
     "execution_count": 27,
     "metadata": {},
     "output_type": "execute_result"
    }
   ],
   "source": [
    "nums.describe()"
   ]
  },
  {
   "cell_type": "code",
   "execution_count": 28,
   "id": "bbb8eb01-276b-4164-a615-cfa36394a133",
   "metadata": {},
   "outputs": [
    {
     "data": {
      "text/plain": [
       "0    h\n",
       "1    e\n",
       "2    l\n",
       "3    l\n",
       "4    o\n",
       "dtype: object"
      ]
     },
     "execution_count": 28,
     "metadata": {},
     "output_type": "execute_result"
    }
   ],
   "source": [
    "# object 값을 갖는 Series에 대해서는 데이터 수인 count,\n",
    "# 고유한 값의 수인 unique, 최빈 값 top, \n",
    "# 최빈 값의 빈도 freq에 대한 값을 구해준다.\n",
    "hello"
   ]
  },
  {
   "cell_type": "code",
   "execution_count": 29,
   "id": "587830dc-8409-43b9-a27b-bc963e723bbb",
   "metadata": {},
   "outputs": [
    {
     "data": {
      "text/plain": [
       "count     5\n",
       "unique    4\n",
       "top       l\n",
       "freq      2\n",
       "dtype: object"
      ]
     },
     "execution_count": 29,
     "metadata": {},
     "output_type": "execute_result"
    }
   ],
   "source": [
    "hello.describe()"
   ]
  },
  {
   "cell_type": "code",
   "execution_count": null,
   "id": "73928e66-1f75-4577-885b-d3485aa377f0",
   "metadata": {},
   "outputs": [],
   "source": []
  },
  {
   "cell_type": "markdown",
   "id": "d036eae6-93ea-47e1-955a-0eca3056186b",
   "metadata": {},
   "source": [
    "# Series의 변환"
   ]
  },
  {
   "cell_type": "code",
   "execution_count": 30,
   "id": "4916af67-2567-41d2-9a10-19a55acea463",
   "metadata": {},
   "outputs": [
    {
     "data": {
      "text/plain": [
       "0    1.0\n",
       "1    2.0\n",
       "2    NaN\n",
       "3    4.0\n",
       "4    5.0\n",
       "dtype: float64"
      ]
     },
     "execution_count": 30,
     "metadata": {},
     "output_type": "execute_result"
    }
   ],
   "source": [
    "# Series의 변환\n",
    "\n",
    "# Series는 파이썬의 기본 자료구조로 변경 가능\n",
    "\n",
    "nums"
   ]
  },
  {
   "cell_type": "code",
   "execution_count": 31,
   "id": "4c358343-16bf-42c9-b032-989572baa1b6",
   "metadata": {},
   "outputs": [
    {
     "data": {
      "text/plain": [
       "[1.0, 2.0, nan, 4.0, 5.0]"
      ]
     },
     "execution_count": 31,
     "metadata": {},
     "output_type": "execute_result"
    }
   ],
   "source": [
    "# list() 함수를 사용하여 nums에 담긴 Series 객체를 list 객체로 변경함\n",
    "list(nums)"
   ]
  },
  {
   "cell_type": "code",
   "execution_count": 32,
   "id": "5241d76e-9b50-4e96-80b7-8aed8d219fa2",
   "metadata": {},
   "outputs": [
    {
     "data": {
      "text/plain": [
       "{0: 1.0, 1: 2.0, 2: nan, 3: 4.0, 4: 5.0}"
      ]
     },
     "execution_count": 32,
     "metadata": {},
     "output_type": "execute_result"
    }
   ],
   "source": [
    "# dict() 함수를 사용하여 nums Series 객체를 닥셔너리 객체로 변환\n",
    "# Series의 index는 dict의 key가 되고,\n",
    "# Series의 value는 dict의 values가 된다.\n",
    "dict(nums)"
   ]
  },
  {
   "cell_type": "code",
   "execution_count": null,
   "id": "00b92a81-da96-450d-bfcd-4b27d38f33f7",
   "metadata": {},
   "outputs": [],
   "source": []
  },
  {
   "cell_type": "markdown",
   "id": "c3c38b22-e26b-471e-9718-3f2326663454",
   "metadata": {},
   "source": [
    "# pandas 데이터 입출력"
   ]
  },
  {
   "cell_type": "code",
   "execution_count": 33,
   "id": "b48bdf8a-f072-47a5-8383-7ec8a1283182",
   "metadata": {},
   "outputs": [],
   "source": [
    "# index와 values로 사용된 두 컬럼만으로 구성된\n",
    "# CSV 파일은 Series로 읽어올 수 있다.\n",
    "\n",
    "# 이때 index_col이란 매개변수로 인덱스로 사용할 Column의 이름을 지정해주고,\n",
    "# squeeze라는 매개변수에 True 값을 전달해야 한다.\n",
    "\n",
    "# squeeze 메서드는 하나의 열을 갖는 DataFrame을 Series로 변환\n",
    "# index_col은 index로 사용할 column을 지정\n",
    "pokemons = pd.read_csv(\"C:/python/datas/pokemon.csv\", index_col = \"Pokemon\").squeeze()\n",
    "# squeez()메서드 사용 권장(squeeze = True 인수 형식은 없어질 예정)"
   ]
  },
  {
   "cell_type": "code",
   "execution_count": null,
   "id": "0e312977-e169-47d6-86f2-5ea377d3dd17",
   "metadata": {},
   "outputs": [],
   "source": []
  },
  {
   "cell_type": "markdown",
   "id": "9a7cac1a-f999-451a-b570-e7f867c8aeed",
   "metadata": {},
   "source": [
    "## Series의 값 정렬하기 sort_values() 메서드"
   ]
  },
  {
   "cell_type": "code",
   "execution_count": 34,
   "id": "a33c8f2c-3af5-41a7-af40-ea81b2325a10",
   "metadata": {},
   "outputs": [
    {
     "data": {
      "text/plain": [
       "Pokemon\n",
       "Illumise                Bug\n",
       "Silcoon                 Bug\n",
       "Pinsir                  Bug\n",
       "Burmy                   Bug\n",
       "Wurmple                 Bug\n",
       "                  ...      \n",
       "Tirtouga       Water / Rock\n",
       "Relicanth      Water / Rock\n",
       "Corsola        Water / Rock\n",
       "Carracosta     Water / Rock\n",
       "Empoleon      Water / Steel\n",
       "Name: Type, Length: 809, dtype: object"
      ]
     },
     "execution_count": 34,
     "metadata": {},
     "output_type": "execute_result"
    }
   ],
   "source": [
    "# Series의 값 정렬하기 sort_values() 메서드\n",
    "\n",
    "# Series가 갖는 값을 정렬할 때 사용할 수 있는 메서드가 sort_values()\n",
    "pokemons.sort_values()"
   ]
  },
  {
   "cell_type": "code",
   "execution_count": 35,
   "id": "ac241aec-977c-4613-a8e8-e2a88ff3c003",
   "metadata": {},
   "outputs": [
    {
     "data": {
      "text/plain": [
       "Pokemon\n",
       "Empoleon      Water / Steel\n",
       "Corsola        Water / Rock\n",
       "Relicanth      Water / Rock\n",
       "Carracosta     Water / Rock\n",
       "Tirtouga       Water / Rock\n",
       "                  ...      \n",
       "Kricketune              Bug\n",
       "Cascoon                 Bug\n",
       "Scatterbug              Bug\n",
       "Kricketot               Bug\n",
       "Grubbin                 Bug\n",
       "Name: Type, Length: 809, dtype: object"
      ]
     },
     "execution_count": 35,
     "metadata": {},
     "output_type": "execute_result"
    }
   ],
   "source": [
    "# sort_values()는 기본적으로 오름차순이다.\n",
    "# 만약 내림차순 하고 싶다면 괄호 안에 \n",
    "# ascending = False를 쓰면 된다.\n",
    "\n",
    "pokemons.sort_values(ascending = False)"
   ]
  },
  {
   "cell_type": "code",
   "execution_count": null,
   "id": "4fe21bdd-4e01-4a33-bde7-968f2e8870f3",
   "metadata": {},
   "outputs": [],
   "source": []
  },
  {
   "cell_type": "markdown",
   "id": "e24da956-7148-4c5f-b7c7-915bf350f5a8",
   "metadata": {},
   "source": [
    "### 문자로 된 날짜/시간 데이터 파싱하기"
   ]
  },
  {
   "cell_type": "code",
   "execution_count": 36,
   "id": "1b4320ad-ba04-423d-abf2-f8189be0ceba",
   "metadata": {},
   "outputs": [
    {
     "data": {
      "text/plain": [
       "Date\n",
       "2004-08-19      49.98\n",
       "2004-08-20      53.95\n",
       "2004-08-23      54.50\n",
       "2004-08-24      52.24\n",
       "2004-08-25      52.80\n",
       "               ...   \n",
       "2019-10-21    1246.15\n",
       "2019-10-22    1242.80\n",
       "2019-10-23    1259.13\n",
       "2019-10-24    1260.99\n",
       "2019-10-25    1265.13\n",
       "Name: Close, Length: 3824, dtype: float64"
      ]
     },
     "execution_count": 36,
     "metadata": {},
     "output_type": "execute_result"
    }
   ],
   "source": [
    "## 문자로 된 날짜/시간 데이터 파싱하기\n",
    "\n",
    "google = pd.read_csv(\"C:/python/datas/google_stocks.csv\",\n",
    "                     parse_dates = [\"Date\"],\n",
    "                     # parse_dates 인수에 파싱할 column명을 \n",
    "                     # 리스트 형태로 전달하면 된다.\n",
    "                     index_col = \"Date\"\n",
    "                     ).squeeze('columns')\n",
    "google"
   ]
  },
  {
   "cell_type": "code",
   "execution_count": 37,
   "id": "aaf22c9b-3da8-45a6-bee9-7c10c641f838",
   "metadata": {},
   "outputs": [
    {
     "data": {
      "text/plain": [
       "Start Date\n",
       "1774-09-01    Massachusetts\n",
       "1774-12-14    New Hampshire\n",
       "1775-04-19    Massachusetts\n",
       "1775-04-19    Massachusetts\n",
       "1775-04-20         Virginia\n",
       "                  ...      \n",
       "1782-09-11         Virginia\n",
       "1782-09-13              NaN\n",
       "1782-10-18              NaN\n",
       "1782-12-06              NaN\n",
       "1783-01-22         Virginia\n",
       "Name: State, Length: 232, dtype: object"
      ]
     },
     "execution_count": 37,
     "metadata": {},
     "output_type": "execute_result"
    }
   ],
   "source": [
    "## csv 파일에서 필요한 column만 가져오기\n",
    "\n",
    "# usecols 인수를 활용하면\n",
    "# csv 파일로부터 pandas가 가져와야 하는 열의 목록 지정 가능\n",
    "\n",
    "war = pd.read_csv(\"C:/python/datas/revolutionary_war.csv\",\n",
    "                  parse_dates = [\"Start Date\"],\n",
    "                  index_col = \"Start Date\",\n",
    "                  usecols = [\"Start Date\", \"State\"]\n",
    "                 ).squeeze('columns')\n",
    "war"
   ]
  },
  {
   "cell_type": "code",
   "execution_count": 38,
   "id": "1f748f1e-468d-4584-901e-f108025e608b",
   "metadata": {},
   "outputs": [
    {
     "data": {
      "text/plain": [
       "Start Date\n",
       "1775-09-17         NaN\n",
       "1775-12-31         NaN\n",
       "1776-03-03         NaN\n",
       "1776-03-25         NaN\n",
       "1776-05-18         NaN\n",
       "                ...   \n",
       "1781-07-06    Virginia\n",
       "1781-07-01    Virginia\n",
       "1781-06-26    Virginia\n",
       "1781-04-25    Virginia\n",
       "1783-01-22    Virginia\n",
       "Name: State, Length: 232, dtype: object"
      ]
     },
     "execution_count": 38,
     "metadata": {},
     "output_type": "execute_result"
    }
   ],
   "source": [
    "## NaN 값 정렬위치\n",
    "\n",
    "# na_position이라는 인수에 first, last를 쓰면 된다.\n",
    "\n",
    "war.sort_values(na_position = \"first\")"
   ]
  },
  {
   "cell_type": "code",
   "execution_count": 39,
   "id": "bef94a8c-a5cc-4179-9242-646ee9725660",
   "metadata": {},
   "outputs": [
    {
     "data": {
      "text/plain": [
       "Start Date\n",
       "1781-09-06    Connecticut\n",
       "1779-07-05    Connecticut\n",
       "1777-04-27    Connecticut\n",
       "1777-09-03       Delaware\n",
       "1777-05-17        Florida\n",
       "                 ...     \n",
       "1782-08-08            NaN\n",
       "1782-08-25            NaN\n",
       "1782-09-13            NaN\n",
       "1782-10-18            NaN\n",
       "1782-12-06            NaN\n",
       "Name: State, Length: 232, dtype: object"
      ]
     },
     "execution_count": 39,
     "metadata": {},
     "output_type": "execute_result"
    }
   ],
   "source": [
    "war.sort_values(na_position = \"last\")"
   ]
  },
  {
   "cell_type": "code",
   "execution_count": 40,
   "id": "6215ae94-95f7-4419-8b93-a6f1f085f6ef",
   "metadata": {},
   "outputs": [
    {
     "data": {
      "text/plain": [
       "Start Date\n",
       "1774-09-01     Massachusetts\n",
       "1774-12-14     New Hampshire\n",
       "1775-04-19     Massachusetts\n",
       "1775-04-19     Massachusetts\n",
       "1775-04-20          Virginia\n",
       "                   ...      \n",
       "1782-08-15          Virginia\n",
       "1782-08-19          Virginia\n",
       "1782-08-26    South Carolina\n",
       "1782-09-11          Virginia\n",
       "1783-01-22          Virginia\n",
       "Name: State, Length: 162, dtype: object"
      ]
     },
     "execution_count": 40,
     "metadata": {},
     "output_type": "execute_result"
    }
   ],
   "source": [
    "## Series의 값중 NaN 배제하기 dropna()\n",
    "\n",
    "# dropna() 메서드를 통해 직접 NaN 값 배제 가능\n",
    "war.dropna()"
   ]
  },
  {
   "cell_type": "code",
   "execution_count": 41,
   "id": "864d7f87-9c46-4e61-bf66-2c984b19363d",
   "metadata": {},
   "outputs": [
    {
     "data": {
      "text/plain": [
       "Pokemon\n",
       "Abomasnow        Grass / Ice\n",
       "Abra                 Psychic\n",
       "Absol                   Dark\n",
       "Accelgor                 Bug\n",
       "Aegislash      Steel / Ghost\n",
       "                  ...       \n",
       "Zoroark                 Dark\n",
       "Zorua                   Dark\n",
       "Zubat        Poison / Flying\n",
       "Zweilous       Dark / Dragon\n",
       "Zygarde      Dragon / Ground\n",
       "Name: Type, Length: 809, dtype: object"
      ]
     },
     "execution_count": 41,
     "metadata": {},
     "output_type": "execute_result"
    }
   ],
   "source": [
    "# Series의 index를 기준으로 정렬하기\n",
    "\n",
    "# values가 아닌 index 기준 정렬\n",
    "# sort_index() 메서드를 활용\n",
    "\n",
    "# 기본 정렬은 오름차순 ascending = True 상태\n",
    "# 내림차순을 원하면 괄호 안에 ascending = False 입력\n",
    "\n",
    "pokemons.sort_index()"
   ]
  },
  {
   "cell_type": "code",
   "execution_count": 42,
   "id": "6d63b264-2e08-4f26-a7b9-d73234899299",
   "metadata": {},
   "outputs": [
    {
     "data": {
      "text/plain": [
       "Start Date\n",
       "1774-09-01    Massachusetts\n",
       "1774-12-14    New Hampshire\n",
       "1775-04-19    Massachusetts\n",
       "1775-04-19    Massachusetts\n",
       "1775-04-20         Virginia\n",
       "                  ...      \n",
       "1783-01-22         Virginia\n",
       "NaT              New Jersey\n",
       "NaT                Virginia\n",
       "NaT                     NaN\n",
       "NaT                     NaN\n",
       "Name: State, Length: 232, dtype: object"
      ]
     },
     "execution_count": 42,
     "metadata": {},
     "output_type": "execute_result"
    }
   ],
   "source": [
    "# NaT는 Not a Time의 줄임말\n",
    "\n",
    "# NaN은 float인 반면, NaT는 Datetime(날짜/시간) 유형의 데이터\n",
    "war.sort_index()"
   ]
  },
  {
   "cell_type": "code",
   "execution_count": 43,
   "id": "f989e5c6-e9b4-4124-93ae-9212cb385a75",
   "metadata": {},
   "outputs": [
    {
     "data": {
      "text/plain": [
       "Start Date\n",
       "NaT              New Jersey\n",
       "NaT                Virginia\n",
       "NaT                     NaN\n",
       "NaT                     NaN\n",
       "1774-09-01    Massachusetts\n",
       "                  ...      \n",
       "1782-09-11         Virginia\n",
       "1782-09-13              NaN\n",
       "1782-10-18              NaN\n",
       "1782-12-06              NaN\n",
       "1783-01-22         Virginia\n",
       "Name: State, Length: 232, dtype: object"
      ]
     },
     "execution_count": 43,
     "metadata": {},
     "output_type": "execute_result"
    }
   ],
   "source": [
    "## NaN 값 정렬위치\n",
    "\n",
    "# sort_index() 메서드에서도 na_position 인수 사용 가능\n",
    "war.sort_index(na_position = \"first\")"
   ]
  },
  {
   "cell_type": "code",
   "execution_count": 44,
   "id": "da920d3f-5723-43c8-9ba3-ddc633c2520d",
   "metadata": {},
   "outputs": [
    {
     "data": {
      "text/plain": [
       "Start Date\n",
       "1774-09-01    Massachusetts\n",
       "1774-12-14    New Hampshire\n",
       "1775-04-19    Massachusetts\n",
       "1775-04-19    Massachusetts\n",
       "1775-04-20         Virginia\n",
       "                  ...      \n",
       "1783-01-22         Virginia\n",
       "NaT              New Jersey\n",
       "NaT                Virginia\n",
       "NaT                     NaN\n",
       "NaT                     NaN\n",
       "Name: State, Length: 232, dtype: object"
      ]
     },
     "execution_count": 44,
     "metadata": {},
     "output_type": "execute_result"
    }
   ],
   "source": [
    "war.sort_index(na_position = \"last\")"
   ]
  },
  {
   "cell_type": "code",
   "execution_count": 45,
   "id": "5008893b-08de-4580-88ba-9e4200faaaa8",
   "metadata": {},
   "outputs": [
    {
     "data": {
      "text/plain": [
       "Start Date\n",
       "1774-09-01    Massachusetts\n",
       "1774-12-14    New Hampshire\n",
       "1775-04-19    Massachusetts\n",
       "1775-04-19    Massachusetts\n",
       "1775-04-19    Massachusetts\n",
       "                  ...      \n",
       "1782-09-11         Virginia\n",
       "1782-09-13              NaN\n",
       "1782-10-18              NaN\n",
       "1782-12-06              NaN\n",
       "1783-01-22         Virginia\n",
       "Name: State, Length: 250, dtype: object"
      ]
     },
     "execution_count": 45,
     "metadata": {},
     "output_type": "execute_result"
    }
   ],
   "source": [
    "## Series의 index에 NaT 배제하기\n",
    "\n",
    "# 1. dropna() 메서드 사용\n",
    "war.loc[war.index.dropna()] # index 중복이 없어야 올바른 결과 보여줌\n",
    "# 따라서 war index는 value가 2개씩 있는 index가 11개 있으므로 dropna에서 걸러지지 않고 남음"
   ]
  },
  {
   "cell_type": "code",
   "execution_count": 46,
   "id": "37bb73f1-4d0c-49d9-bc7c-99a4b24d0971",
   "metadata": {},
   "outputs": [
    {
     "data": {
      "text/plain": [
       "Start Date\n",
       "1774-09-01    Massachusetts\n",
       "1774-12-14    New Hampshire\n",
       "1775-04-19    Massachusetts\n",
       "1775-04-19    Massachusetts\n",
       "1775-04-20         Virginia\n",
       "                  ...      \n",
       "1782-09-11         Virginia\n",
       "1782-09-13              NaN\n",
       "1782-10-18              NaN\n",
       "1782-12-06              NaN\n",
       "1783-01-22         Virginia\n",
       "Name: State, Length: 228, dtype: object"
      ]
     },
     "execution_count": 46,
     "metadata": {},
     "output_type": "execute_result"
    }
   ],
   "source": [
    "# 2. notnull() 메서드 사용\n",
    "war.loc[war.index.notnull()]\n",
    "# notnull은 중복을 허용 안함"
   ]
  },
  {
   "cell_type": "code",
   "execution_count": 47,
   "id": "5e8a0f04-be7c-4e7b-b227-d0615be59fec",
   "metadata": {},
   "outputs": [],
   "source": [
    "#연습문제\n",
    "#google 변수에 담긴 Series 객체에 대해서 가장 큰 값 10개와 가장 작은 값 10개를 출력해보세요."
   ]
  },
  {
   "cell_type": "code",
   "execution_count": null,
   "id": "336ca7ef-181e-4a11-9feb-7345defbc706",
   "metadata": {},
   "outputs": [],
   "source": []
  },
  {
   "cell_type": "code",
   "execution_count": null,
   "id": "258cb99a-0e51-4dde-af83-4cd53e85ef08",
   "metadata": {},
   "outputs": [],
   "source": []
  },
  {
   "cell_type": "markdown",
   "id": "d8290c26-29f4-4e51-873c-6638f9f072cc",
   "metadata": {},
   "source": [
    "# Series nsmallest(), nlargest() 메서드"
   ]
  },
  {
   "cell_type": "code",
   "execution_count": 48,
   "id": "8b4c8a1d-79e9-4804-a38c-32e94a81865c",
   "metadata": {},
   "outputs": [
    {
     "data": {
      "text/plain": [
       "Date\n",
       "2019-04-29    1287.58\n",
       "2019-04-26    1272.18\n",
       "2018-07-26    1268.33\n",
       "2019-10-25    1265.13\n",
       "2019-04-23    1264.55\n",
       "2018-07-25    1263.70\n",
       "2019-04-25    1263.45\n",
       "2019-10-24    1260.99\n",
       "2019-10-23    1259.13\n",
       "2019-04-24    1256.00\n",
       "Name: Close, dtype: float64"
      ]
     },
     "execution_count": 48,
     "metadata": {},
     "output_type": "execute_result"
    }
   ],
   "source": [
    "# Series nsmallest(), nlargest() 메서드\n",
    "\n",
    "# nsmallest()는 작은 값을 순서대로 인수의 숫자만큼 구해줌\n",
    "# nlargest()는 큰 값을 순서대로 인수의 숫자만큼 구해줌\n",
    "\n",
    "google.nlargest(10)"
   ]
  },
  {
   "cell_type": "code",
   "execution_count": 49,
   "id": "fd2933e4-a60c-448a-90cf-6318a94b3c87",
   "metadata": {},
   "outputs": [
    {
     "data": {
      "text/plain": [
       "Date\n",
       "2004-09-03    49.82\n",
       "2004-09-01    49.94\n",
       "2004-08-19    49.98\n",
       "2004-09-02    50.57\n",
       "2004-09-07    50.60\n",
       "2004-08-30    50.81\n",
       "2004-09-08    50.96\n",
       "2004-09-09    50.96\n",
       "2004-08-31    50.99\n",
       "2004-08-24    52.24\n",
       "Name: Close, dtype: float64"
      ]
     },
     "execution_count": 49,
     "metadata": {},
     "output_type": "execute_result"
    }
   ],
   "source": [
    "google.nsmallest(10)"
   ]
  },
  {
   "cell_type": "code",
   "execution_count": 50,
   "id": "23f88720-e001-4177-8d87-789615dc7777",
   "metadata": {},
   "outputs": [
    {
     "data": {
      "text/plain": [
       "Normal                65\n",
       "Water                 61\n",
       "Grass                 38\n",
       "Psychic               35\n",
       "Fire                  30\n",
       "                      ..\n",
       "Fire / Psychic         1\n",
       "Normal / Ground        1\n",
       "Psychic / Fighting     1\n",
       "Dark / Ghost           1\n",
       "Fire / Ghost           1\n",
       "Name: Type, Length: 159, dtype: int64"
      ]
     },
     "execution_count": 50,
     "metadata": {},
     "output_type": "execute_result"
    }
   ],
   "source": [
    "# Series value_counts() 메서드\n",
    "\n",
    "# value_counts() 메서드는 Series 내 데이터의 고유한 값의 빈도를 볼 때 활용\n",
    "#값을 내림차순으로 정리해줌\n",
    "#len을 붙이면 nunique와 같은 값을 줌\n",
    "\n",
    "pokemons.value_counts()"
   ]
  },
  {
   "cell_type": "code",
   "execution_count": 51,
   "id": "6915c3a9-f979-4965-8d88-a1403923de9d",
   "metadata": {},
   "outputs": [
    {
     "data": {
      "text/plain": [
       "array([   0.,  200.,  400.,  600.,  800., 1000., 1200., 1400.])"
      ]
     },
     "execution_count": 51,
     "metadata": {},
     "output_type": "execute_result"
    }
   ],
   "source": [
    "# 수치형 데이터를 갖는 Series의 경우 범주를 나눠 값의 빈도를 확인 가능\n",
    "\n",
    "# bins 인수에 값의 구간을 갖는 배열 혹은 리스트를 넘겨주면 된다.\n",
    "\n",
    "bins = np.linspace(0, 1400, 8)\n",
    "bins"
   ]
  },
  {
   "cell_type": "code",
   "execution_count": 52,
   "id": "6c447fe5-eda4-4696-9ed9-43690f03f2cc",
   "metadata": {},
   "outputs": [
    {
     "data": {
      "text/plain": [
       "(200.0, 400.0]      1568\n",
       "(-0.001, 200.0]      595\n",
       "(400.0, 600.0]       575\n",
       "(1000.0, 1200.0]     406\n",
       "(600.0, 800.0]       380\n",
       "(800.0, 1000.0]      207\n",
       "(1200.0, 1400.0]      93\n",
       "Name: Close, dtype: int64"
      ]
     },
     "execution_count": 52,
     "metadata": {},
     "output_type": "execute_result"
    }
   ],
   "source": [
    "google.value_counts(bins = bins)\n",
    "\n",
    "#출력 값에서\n",
    "#소괄호((, ))는 해당 값의 미포함을 나타내며 \n",
    "#대괄호([, ])는 해당 값을 포함한다는 의미입니다."
   ]
  },
  {
   "cell_type": "code",
   "execution_count": 53,
   "id": "983ed2f7-281f-451a-ab49-3b2b83f224e1",
   "metadata": {},
   "outputs": [
    {
     "data": {
      "text/plain": [
       "(-0.001, 200.0]      595\n",
       "(200.0, 400.0]      1568\n",
       "(400.0, 600.0]       575\n",
       "(600.0, 800.0]       380\n",
       "(800.0, 1000.0]      207\n",
       "(1000.0, 1200.0]     406\n",
       "(1200.0, 1400.0]      93\n",
       "Name: Close, dtype: int64"
      ]
     },
     "execution_count": 53,
     "metadata": {},
     "output_type": "execute_result"
    }
   ],
   "source": [
    "#연습문제\n",
    "#google 변수가 가르키는 Series 객체에 대해서 [0, 200, 400, 600, 800, 1000, 1200, 1400]의 구간을 갖는 값의 개수를 구하고 인덱스 순으로 정렬해보세요.\n",
    "bins = np.linspace(0,1400,8)\n",
    "d = google.value_counts(bins = bins)\n",
    "d.sort_index()"
   ]
  },
  {
   "cell_type": "code",
   "execution_count": 54,
   "id": "d594ad76-eac5-4c02-918d-b75f661ffda4",
   "metadata": {},
   "outputs": [
    {
     "data": {
      "text/plain": [
       "(-0.001, 200.0]      595\n",
       "(200.0, 400.0]      1568\n",
       "(400.0, 600.0]       575\n",
       "(600.0, 800.0]       380\n",
       "(800.0, 1000.0]      207\n",
       "(1000.0, 1200.0]     406\n",
       "(1200.0, 1400.0]      93\n",
       "Name: Close, dtype: int64"
      ]
     },
     "execution_count": 54,
     "metadata": {},
     "output_type": "execute_result"
    }
   ],
   "source": [
    "#연습문제 다른 풀이\n",
    "#google 변수가 가르키는 Series 객체에 대해서 [0, 200, 400, 600, 800, 1000, 1200, 1400]의 구간을 갖는 값의 개수를 구하고 인덱스 순으로 정렬해보세요.\n",
    "bins = np.linspace(0,1400,8)\n",
    "google.value_counts(bins = bins).sort_index()"
   ]
  },
  {
   "cell_type": "code",
   "execution_count": null,
   "id": "18f298f0-e14b-478a-b454-cf6597640184",
   "metadata": {},
   "outputs": [],
   "source": []
  },
  {
   "cell_type": "code",
   "execution_count": null,
   "id": "6c88e48c-061d-4b77-a7dc-0ab541ca4349",
   "metadata": {},
   "outputs": [],
   "source": []
  },
  {
   "cell_type": "code",
   "execution_count": 55,
   "id": "36f42269-3676-46d1-af1c-7779a9f34425",
   "metadata": {},
   "outputs": [
    {
     "data": {
      "text/plain": [
       "(48.581, 204.54]       651\n",
       "(204.54, 359.26]      1435\n",
       "(359.26, 513.98]       263\n",
       "(513.98, 668.7]        466\n",
       "(668.7, 823.42]        334\n",
       "(823.42, 978.14]       161\n",
       "(978.14, 1132.86]      283\n",
       "(1132.86, 1287.58]     231\n",
       "Name: Close, dtype: int64"
      ]
     },
     "execution_count": 55,
     "metadata": {},
     "output_type": "execute_result"
    }
   ],
   "source": [
    "# 범주를 정수로 전달하면 그 정수만큼 알아서 구간을 나눈다.\n",
    "# (단 구간의 크기가 일정치 않을 수 있다.)\n",
    "# 또 sort 인수에 False 값을 줘서 값을 기준으로 정렬하지 않을 수도 있다.\n",
    "#대략적인 분포를 볼 때 쓰기 좋음\n",
    "\n",
    "google.value_counts(bins = 8, sort = False)"
   ]
  },
  {
   "cell_type": "code",
   "execution_count": 56,
   "id": "11265ef9-294d-49c9-a631-ea5a23dffe1b",
   "metadata": {},
   "outputs": [
    {
     "data": {
      "text/html": [
       "<div>\n",
       "<style scoped>\n",
       "    .dataframe tbody tr th:only-of-type {\n",
       "        vertical-align: middle;\n",
       "    }\n",
       "\n",
       "    .dataframe tbody tr th {\n",
       "        vertical-align: top;\n",
       "    }\n",
       "\n",
       "    .dataframe thead th {\n",
       "        text-align: right;\n",
       "    }\n",
       "</style>\n",
       "<table border=\"1\" class=\"dataframe\">\n",
       "  <thead>\n",
       "    <tr style=\"text-align: right;\">\n",
       "      <th></th>\n",
       "      <th>c1</th>\n",
       "      <th>c2</th>\n",
       "      <th>c3</th>\n",
       "    </tr>\n",
       "  </thead>\n",
       "  <tbody>\n",
       "    <tr>\n",
       "      <th>0</th>\n",
       "      <td>1</td>\n",
       "      <td>1.11</td>\n",
       "      <td>one</td>\n",
       "    </tr>\n",
       "    <tr>\n",
       "      <th>1</th>\n",
       "      <td>2</td>\n",
       "      <td></td>\n",
       "      <td>two</td>\n",
       "    </tr>\n",
       "    <tr>\n",
       "      <th>2</th>\n",
       "      <td>누락</td>\n",
       "      <td>3.33</td>\n",
       "      <td>three</td>\n",
       "    </tr>\n",
       "  </tbody>\n",
       "</table>\n",
       "</div>"
      ],
      "text/plain": [
       "   c1    c2     c3\n",
       "0   1  1.11    one\n",
       "1   2          two\n",
       "2  누락  3.33  three"
      ]
     },
     "execution_count": 56,
     "metadata": {},
     "output_type": "execute_result"
    }
   ],
   "source": [
    "#Pandas 데이터 csv로 출력하기\n",
    "d = {\"c1\" : [1,2,\"누락\"],\n",
    "     \"c2\" : [1.11,\"\",3.33],\n",
    "     \"c3\" : [\"one\",\"two\",\"three\"]}\n",
    "df_csv = pd.DataFrame(d)\n",
    "df_csv"
   ]
  },
  {
   "cell_type": "code",
   "execution_count": 57,
   "id": "05c3ff6e-7b92-4dde-963f-598b4e62149d",
   "metadata": {},
   "outputs": [],
   "source": [
    "# pandas 데이터를 csv 파일로 출력할 때 to_csv() 메서드 활용\n",
    "\n",
    "# DataFrame.to_csv(path_or_buf = None, sep = ',', na_rep = '',\n",
    "#                  float_format = None, columns = None, header = True,\n",
    "#                  index = True, index_lable = None, mode = 'w',\n",
    "#                  encoding = None, compression = 'infer',\n",
    "#                  quoting = None, quotechar = '\"',\n",
    "#                  lineterminator = None, chuncksize = None,\n",
    "#                  date_format = None, doublequote = True,\n",
    "#                  escapechar = None, decimal = '.',\n",
    "#                  error = 'strict', storage_options = None)\n",
    "\n",
    "# 첫 인자로는 파일 경로 입력\n",
    "# index의 default 값은  True이니 imdex를 굳이 안 쓸 때 \n",
    "# index = Fasle 입력"
   ]
  },
  {
   "cell_type": "code",
   "execution_count": 58,
   "id": "63a0220b-1d13-4f7d-86e2-c09d28254fe8",
   "metadata": {},
   "outputs": [],
   "source": [
    "#df_csv.to_csv(“파일이름 및 확장자\", index=False)와 같이 사용합니다. \n",
    "#이 셀을 시작하고 우리가 notebook_dir로 설정한 C:\\python 경로에 해당 파일이 생성되었나 확인해보시기 바랍니다.\n",
    "df_csv.to_csv(\"datas/sample1.csv\", index = False)"
   ]
  },
  {
   "cell_type": "code",
   "execution_count": 59,
   "id": "2ca00228-6bb0-4844-a473-f400642ee6e7",
   "metadata": {},
   "outputs": [],
   "source": [
    "# 모든 인덱스 제거 후 저장(value값만 저장)\n",
    "\n",
    "df_csv.to_csv(\"sample2.csv\", index = False, header = False)\n",
    "# index는 row index\n",
    "# header는 column index"
   ]
  },
  {
   "cell_type": "code",
   "execution_count": null,
   "id": "856ff5be-04c6-46ea-bf36-d5c398d242f1",
   "metadata": {},
   "outputs": [],
   "source": []
  },
  {
   "cell_type": "code",
   "execution_count": null,
   "id": "da4aff13-9967-4d74-9372-9b0957c75d29",
   "metadata": {},
   "outputs": [],
   "source": [
    "#이번에는 만든 csv 파일로부터 데이터를 불러오는 작업을 진행하려 합니다. \n",
    "#이때는 read_csv() 메서드를 사용할 겁니다.\n",
    "#키워드 사용"
   ]
  },
  {
   "cell_type": "code",
   "execution_count": null,
   "id": "59948ed6-06af-4bce-9c90-9983773b85da",
   "metadata": {},
   "outputs": [],
   "source": [
    "#CSV 파일로부터 데이터를 읽어 DataFrame을 만들 때는 pandas.read_csv 함수를 사용합니다.\n",
    "#함수의 첫 번째 인수로 “파일 이름.확장자” 문자열로 넣습니다.\n",
    "#그럼 아래와 같이 DataFrame을 잘 불러오는 것을 확인할 수 있습니다."
   ]
  },
  {
   "cell_type": "code",
   "execution_count": 80,
   "id": "d0c47288-cb40-4588-95c1-c75ec8d773d8",
   "metadata": {},
   "outputs": [
    {
     "data": {
      "text/html": [
       "<div>\n",
       "<style scoped>\n",
       "    .dataframe tbody tr th:only-of-type {\n",
       "        vertical-align: middle;\n",
       "    }\n",
       "\n",
       "    .dataframe tbody tr th {\n",
       "        vertical-align: top;\n",
       "    }\n",
       "\n",
       "    .dataframe thead th {\n",
       "        text-align: right;\n",
       "    }\n",
       "</style>\n",
       "<table border=\"1\" class=\"dataframe\">\n",
       "  <thead>\n",
       "    <tr style=\"text-align: right;\">\n",
       "      <th></th>\n",
       "      <th>c1</th>\n",
       "      <th>c2</th>\n",
       "      <th>c3</th>\n",
       "    </tr>\n",
       "  </thead>\n",
       "  <tbody>\n",
       "    <tr>\n",
       "      <th>0</th>\n",
       "      <td>1</td>\n",
       "      <td>1.11</td>\n",
       "      <td>one</td>\n",
       "    </tr>\n",
       "    <tr>\n",
       "      <th>1</th>\n",
       "      <td>2</td>\n",
       "      <td>NaN</td>\n",
       "      <td>two</td>\n",
       "    </tr>\n",
       "    <tr>\n",
       "      <th>2</th>\n",
       "      <td>누락</td>\n",
       "      <td>3.33</td>\n",
       "      <td>three</td>\n",
       "    </tr>\n",
       "  </tbody>\n",
       "</table>\n",
       "</div>"
      ],
      "text/plain": [
       "   c1    c2     c3\n",
       "0   1  1.11    one\n",
       "1   2   NaN    two\n",
       "2  누락  3.33  three"
      ]
     },
     "execution_count": 80,
     "metadata": {},
     "output_type": "execute_result"
    }
   ],
   "source": [
    "# Pandas 데이터 입력\n",
    "# read_csv() 메서드 활용\n",
    "df_read = pd.read_csv(\"sample1.csv\")\n",
    "df_read # row index 정보가 없으므로 row index는 0부터 자동으로 시작"
   ]
  },
  {
   "cell_type": "code",
   "execution_count": 84,
   "id": "22ccdebb-2605-4997-8996-6566388302ef",
   "metadata": {},
   "outputs": [],
   "source": [
    "#이번에는 column 인덱스를 배제하고 저장해보겠습니다. \n",
    "#아래의 예제 코드와 같이 header=False 키워드 인수를 추가해주면 됩니다. \n",
    "#파일명을 “sample2.csv”로 지정하고 바로 실행해볼까요?\n",
    "\n",
    "df_csv.to_csv(\"sample2.csv\",index = False,header = False) #sample2.csv 저장"
   ]
  },
  {
   "cell_type": "code",
   "execution_count": 85,
   "id": "df8d8f06-806b-41ce-9bff-7fa950957852",
   "metadata": {},
   "outputs": [
    {
     "data": {
      "text/html": [
       "<div>\n",
       "<style scoped>\n",
       "    .dataframe tbody tr th:only-of-type {\n",
       "        vertical-align: middle;\n",
       "    }\n",
       "\n",
       "    .dataframe tbody tr th {\n",
       "        vertical-align: top;\n",
       "    }\n",
       "\n",
       "    .dataframe thead th {\n",
       "        text-align: right;\n",
       "    }\n",
       "</style>\n",
       "<table border=\"1\" class=\"dataframe\">\n",
       "  <thead>\n",
       "    <tr style=\"text-align: right;\">\n",
       "      <th></th>\n",
       "      <th>c1</th>\n",
       "      <th>c2</th>\n",
       "      <th>c3</th>\n",
       "    </tr>\n",
       "  </thead>\n",
       "  <tbody>\n",
       "    <tr>\n",
       "      <th>0</th>\n",
       "      <td>1</td>\n",
       "      <td>1.11</td>\n",
       "      <td>one</td>\n",
       "    </tr>\n",
       "    <tr>\n",
       "      <th>1</th>\n",
       "      <td>2</td>\n",
       "      <td>NaN</td>\n",
       "      <td>two</td>\n",
       "    </tr>\n",
       "    <tr>\n",
       "      <th>2</th>\n",
       "      <td>누락</td>\n",
       "      <td>3.33</td>\n",
       "      <td>three</td>\n",
       "    </tr>\n",
       "  </tbody>\n",
       "</table>\n",
       "</div>"
      ],
      "text/plain": [
       "   c1    c2     c3\n",
       "0   1  1.11    one\n",
       "1   2   NaN    two\n",
       "2  누락  3.33  three"
      ]
     },
     "execution_count": 85,
     "metadata": {},
     "output_type": "execute_result"
    }
   ],
   "source": [
    "#  names 키워드를 통해 column 인덱스 추가\n",
    "pd.read_csv(\"sample2.csv\", names = ['c1', 'c2', 'c3']) #sample2.csv 불러오기"
   ]
  },
  {
   "cell_type": "code",
   "execution_count": null,
   "id": "71a86ebd-e848-46fe-a354-8a9756ccf15d",
   "metadata": {},
   "outputs": [],
   "source": []
  },
  {
   "cell_type": "markdown",
   "id": "afd078a8-48d8-4cab-b42d-8e47ac03a315",
   "metadata": {},
   "source": [
    "# 콤마가 아닌 텍스트 파일 처리"
   ]
  },
  {
   "cell_type": "code",
   "execution_count": 90,
   "id": "8699d00b-4733-4eb2-adcc-d7f651bb2e1f",
   "metadata": {},
   "outputs": [],
   "source": [
    "# %%writefile 파일명은 jupyter lab의 매직 명령어다.\n",
    "# 이를 통해 파일을 저장 가능\n",
    "#같은 셀 앞쪽에 주석이 있으면 안됌"
   ]
  },
  {
   "cell_type": "code",
   "execution_count": 93,
   "id": "da691f6b-e837-4c37-9bd5-d73cbe5d7089",
   "metadata": {},
   "outputs": [
    {
     "name": "stdout",
     "output_type": "stream",
     "text": [
      "Overwriting datas/sample3.txt\n"
     ]
    }
   ],
   "source": [
    "%%writefile datas/sample3.txt\n",
    "c1       c2       c3       c4\n",
    "0.179181 -1.538472 1.347553 0.43381\n",
    "1.024209 0.087307 -1.281997 0.49265\n",
    "0.417899 -2.002308 0.255245 -1.10515"
   ]
  },
  {
   "cell_type": "code",
   "execution_count": 94,
   "id": "bdb37cf5-d7cf-44b3-9822-e56fbf46ef27",
   "metadata": {},
   "outputs": [
    {
     "data": {
      "text/html": [
       "<div>\n",
       "<style scoped>\n",
       "    .dataframe tbody tr th:only-of-type {\n",
       "        vertical-align: middle;\n",
       "    }\n",
       "\n",
       "    .dataframe tbody tr th {\n",
       "        vertical-align: top;\n",
       "    }\n",
       "\n",
       "    .dataframe thead th {\n",
       "        text-align: right;\n",
       "    }\n",
       "</style>\n",
       "<table border=\"1\" class=\"dataframe\">\n",
       "  <thead>\n",
       "    <tr style=\"text-align: right;\">\n",
       "      <th></th>\n",
       "      <th>c1</th>\n",
       "      <th>c2</th>\n",
       "      <th>c3</th>\n",
       "      <th>c4</th>\n",
       "    </tr>\n",
       "  </thead>\n",
       "  <tbody>\n",
       "    <tr>\n",
       "      <th>0</th>\n",
       "      <td>0.179181</td>\n",
       "      <td>-1.538472</td>\n",
       "      <td>1.347553</td>\n",
       "      <td>0.43381</td>\n",
       "    </tr>\n",
       "    <tr>\n",
       "      <th>1</th>\n",
       "      <td>1.024209</td>\n",
       "      <td>0.087307</td>\n",
       "      <td>-1.281997</td>\n",
       "      <td>0.49265</td>\n",
       "    </tr>\n",
       "    <tr>\n",
       "      <th>2</th>\n",
       "      <td>0.417899</td>\n",
       "      <td>-2.002308</td>\n",
       "      <td>0.255245</td>\n",
       "      <td>-1.10515</td>\n",
       "    </tr>\n",
       "  </tbody>\n",
       "</table>\n",
       "</div>"
      ],
      "text/plain": [
       "         c1        c2        c3       c4\n",
       "0  0.179181 -1.538472  1.347553  0.43381\n",
       "1  1.024209  0.087307 -1.281997  0.49265\n",
       "2  0.417899 -2.002308  0.255245 -1.10515"
      ]
     },
     "execution_count": 94,
     "metadata": {},
     "output_type": "execute_result"
    }
   ],
   "source": [
    "# sep 인수를 통해 구분자(seperator)를 사용자가 지정\n",
    "\n",
    "#, 데이터를 구분하는 구분자(separator)가 콤마(comma)가 아니면 \n",
    "#sep 인수를 써서 구분자를 사용자가 지정해줘야 합니다.\n",
    "\n",
    "# 만약 길이가 정해지지 않은 공백이 구분자인 경우에는\n",
    "# '\\s+' 정규식(regular expression) 문자열을 사용하면 된다.\n",
    "\n",
    "pd.read_table('sample3.txt', sep = '\\s+')"
   ]
  },
  {
   "cell_type": "code",
   "execution_count": 69,
   "id": "864fadfc-375e-4781-ba3a-c1f6ea3c58df",
   "metadata": {},
   "outputs": [],
   "source": [
    "# 부가적인 텍스트 정보가 포함된 csv"
   ]
  },
  {
   "cell_type": "code",
   "execution_count": 95,
   "id": "001c82de-b0bf-4006-ac17-e3988acf7b79",
   "metadata": {},
   "outputs": [
    {
     "name": "stdout",
     "output_type": "stream",
     "text": [
      "Overwriting sample4.txt\n"
     ]
    }
   ],
   "source": [
    "%%writefile sample4.txt\n",
    "파일 제목: sample4.txt\n",
    "데이터 포맷의 설명:\n",
    "c1, c2, c3\n",
    "1, 1.11, one\n",
    "2, 2.22, two\n",
    "3, 3.33, three"
   ]
  },
  {
   "cell_type": "code",
   "execution_count": 97,
   "id": "bff274e4-c92e-4ea5-8f55-05bf4141a464",
   "metadata": {},
   "outputs": [
    {
     "name": "stdout",
     "output_type": "stream",
     "text": [
      "Writing datas/sample4.txt\n"
     ]
    }
   ],
   "source": [
    "%%writefile datas/sample4.txt\n",
    "파일 제목: sample4.txt\n",
    "데이터 포맷의 설명:\n",
    "c1, c2, c3\n",
    "1, 1.11, one\n",
    "2, 2.22, two\n",
    "3, 3.33, three"
   ]
  },
  {
   "cell_type": "code",
   "execution_count": 96,
   "id": "b6087d1e-96c7-4119-b761-5fcdf37daa1e",
   "metadata": {},
   "outputs": [
    {
     "data": {
      "text/html": [
       "<div>\n",
       "<style scoped>\n",
       "    .dataframe tbody tr th:only-of-type {\n",
       "        vertical-align: middle;\n",
       "    }\n",
       "\n",
       "    .dataframe tbody tr th {\n",
       "        vertical-align: top;\n",
       "    }\n",
       "\n",
       "    .dataframe thead th {\n",
       "        text-align: right;\n",
       "    }\n",
       "</style>\n",
       "<table border=\"1\" class=\"dataframe\">\n",
       "  <thead>\n",
       "    <tr style=\"text-align: right;\">\n",
       "      <th></th>\n",
       "      <th>c1</th>\n",
       "      <th>c2</th>\n",
       "      <th>c3</th>\n",
       "    </tr>\n",
       "  </thead>\n",
       "  <tbody>\n",
       "    <tr>\n",
       "      <th>0</th>\n",
       "      <td>1</td>\n",
       "      <td>1.11</td>\n",
       "      <td>one</td>\n",
       "    </tr>\n",
       "    <tr>\n",
       "      <th>1</th>\n",
       "      <td>2</td>\n",
       "      <td>2.22</td>\n",
       "      <td>two</td>\n",
       "    </tr>\n",
       "    <tr>\n",
       "      <th>2</th>\n",
       "      <td>3</td>\n",
       "      <td>3.33</td>\n",
       "      <td>three</td>\n",
       "    </tr>\n",
       "  </tbody>\n",
       "</table>\n",
       "</div>"
      ],
      "text/plain": [
       "   c1    c2      c3\n",
       "0   1  1.11     one\n",
       "1   2  2.22     two\n",
       "2   3  3.33   three"
      ]
     },
     "execution_count": 96,
     "metadata": {},
     "output_type": "execute_result"
    }
   ],
   "source": [
    "# 데이터를 불러올 파일 중에 건너 뛰어야 할 행이 있다면 skiprow 인수 사용\n",
    "\n",
    "# 리스트가 아닌 range()를 활용해도 됨\n",
    "\n",
    "# pd.read_csv(\"sample4.txt\", skiprows = [0, 1]) #0,1의 두 줄을 빼겠다\n",
    "pd.read_csv(\"sample4.txt\", skiprows = range(2))"
   ]
  },
  {
   "cell_type": "code",
   "execution_count": null,
   "id": "80c850f6-805e-4528-93c8-8144bbef2f43",
   "metadata": {},
   "outputs": [],
   "source": []
  },
  {
   "cell_type": "code",
   "execution_count": 98,
   "id": "0024c35c-4033-4dea-80d5-cf3a4b78e519",
   "metadata": {},
   "outputs": [
    {
     "data": {
      "text/html": [
       "<div>\n",
       "<style scoped>\n",
       "    .dataframe tbody tr th:only-of-type {\n",
       "        vertical-align: middle;\n",
       "    }\n",
       "\n",
       "    .dataframe tbody tr th {\n",
       "        vertical-align: top;\n",
       "    }\n",
       "\n",
       "    .dataframe thead th {\n",
       "        text-align: right;\n",
       "    }\n",
       "</style>\n",
       "<table border=\"1\" class=\"dataframe\">\n",
       "  <thead>\n",
       "    <tr style=\"text-align: right;\">\n",
       "      <th></th>\n",
       "      <th>c1</th>\n",
       "      <th>c2</th>\n",
       "      <th>c3</th>\n",
       "    </tr>\n",
       "  </thead>\n",
       "  <tbody>\n",
       "    <tr>\n",
       "      <th>0</th>\n",
       "      <td>1.0</td>\n",
       "      <td>1.11</td>\n",
       "      <td>one</td>\n",
       "    </tr>\n",
       "    <tr>\n",
       "      <th>1</th>\n",
       "      <td>2.0</td>\n",
       "      <td>NaN</td>\n",
       "      <td>two</td>\n",
       "    </tr>\n",
       "    <tr>\n",
       "      <th>2</th>\n",
       "      <td>NaN</td>\n",
       "      <td>3.33</td>\n",
       "      <td>three</td>\n",
       "    </tr>\n",
       "  </tbody>\n",
       "</table>\n",
       "</div>"
      ],
      "text/plain": [
       "    c1    c2     c3\n",
       "0  1.0  1.11    one\n",
       "1  2.0   NaN    two\n",
       "2  NaN  3.33  three"
      ]
     },
     "execution_count": 98,
     "metadata": {},
     "output_type": "execute_result"
    }
   ],
   "source": [
    "# 자료 내부 특정한 값을 NaN 변경하는 방법\n",
    "\n",
    "# na_values인수에 NaN값으로 취급할 값 입력\n",
    "\n",
    "df_na_val = pd.read_csv('sample1.csv', na_values = ['누락'])\n",
    "df_na_val"
   ]
  },
  {
   "cell_type": "code",
   "execution_count": 99,
   "id": "eb7248b5-4bf4-47c1-b2f9-67d32c090492",
   "metadata": {},
   "outputs": [],
   "source": [
    "# csv 생성 시 구분자 지정\n",
    "\n",
    "# 파일을 읽을 때와 마찬가지로 파일을 출력할 때도 \n",
    "# sep 인수로 구분자 변경 가능\n",
    "\n",
    "df_na_val.to_csv('sample5.txt', sep = '|', index = False)"
   ]
  },
  {
   "cell_type": "code",
   "execution_count": 100,
   "id": "674f0f48-8790-4d78-b651-4b62a1af821c",
   "metadata": {},
   "outputs": [
    {
     "data": {
      "text/html": [
       "<div>\n",
       "<style scoped>\n",
       "    .dataframe tbody tr th:only-of-type {\n",
       "        vertical-align: middle;\n",
       "    }\n",
       "\n",
       "    .dataframe tbody tr th {\n",
       "        vertical-align: top;\n",
       "    }\n",
       "\n",
       "    .dataframe thead th {\n",
       "        text-align: right;\n",
       "    }\n",
       "</style>\n",
       "<table border=\"1\" class=\"dataframe\">\n",
       "  <thead>\n",
       "    <tr style=\"text-align: right;\">\n",
       "      <th></th>\n",
       "      <th>c1|c2|c3</th>\n",
       "    </tr>\n",
       "  </thead>\n",
       "  <tbody>\n",
       "    <tr>\n",
       "      <th>0</th>\n",
       "      <td>1.0|1.11|one</td>\n",
       "    </tr>\n",
       "    <tr>\n",
       "      <th>1</th>\n",
       "      <td>2.0||two</td>\n",
       "    </tr>\n",
       "    <tr>\n",
       "      <th>2</th>\n",
       "      <td>|3.33|three</td>\n",
       "    </tr>\n",
       "  </tbody>\n",
       "</table>\n",
       "</div>"
      ],
      "text/plain": [
       "       c1|c2|c3\n",
       "0  1.0|1.11|one\n",
       "1      2.0||two\n",
       "2   |3.33|three"
      ]
     },
     "execution_count": 100,
     "metadata": {},
     "output_type": "execute_result"
    }
   ],
   "source": [
    "pd.read_csv('sample5.txt')"
   ]
  },
  {
   "cell_type": "code",
   "execution_count": 101,
   "id": "485f0eed-ce79-4952-a101-1445e3284f69",
   "metadata": {},
   "outputs": [
    {
     "data": {
      "text/html": [
       "<div>\n",
       "<style scoped>\n",
       "    .dataframe tbody tr th:only-of-type {\n",
       "        vertical-align: middle;\n",
       "    }\n",
       "\n",
       "    .dataframe tbody tr th {\n",
       "        vertical-align: top;\n",
       "    }\n",
       "\n",
       "    .dataframe thead th {\n",
       "        text-align: right;\n",
       "    }\n",
       "</style>\n",
       "<table border=\"1\" class=\"dataframe\">\n",
       "  <thead>\n",
       "    <tr style=\"text-align: right;\">\n",
       "      <th></th>\n",
       "      <th>c1</th>\n",
       "      <th>c2</th>\n",
       "      <th>c3</th>\n",
       "    </tr>\n",
       "  </thead>\n",
       "  <tbody>\n",
       "    <tr>\n",
       "      <th>0</th>\n",
       "      <td>1.0</td>\n",
       "      <td>1.11</td>\n",
       "      <td>one</td>\n",
       "    </tr>\n",
       "    <tr>\n",
       "      <th>1</th>\n",
       "      <td>2.0</td>\n",
       "      <td>NaN</td>\n",
       "      <td>two</td>\n",
       "    </tr>\n",
       "    <tr>\n",
       "      <th>2</th>\n",
       "      <td>NaN</td>\n",
       "      <td>3.33</td>\n",
       "      <td>three</td>\n",
       "    </tr>\n",
       "  </tbody>\n",
       "</table>\n",
       "</div>"
      ],
      "text/plain": [
       "    c1    c2     c3\n",
       "0  1.0  1.11    one\n",
       "1  2.0   NaN    two\n",
       "2  NaN  3.33  three"
      ]
     },
     "execution_count": 101,
     "metadata": {},
     "output_type": "execute_result"
    }
   ],
   "source": [
    "pd.read_csv('sample5.txt', sep = '|')"
   ]
  },
  {
   "cell_type": "code",
   "execution_count": 102,
   "id": "a2d90803-8639-405f-9e61-ff7339983d7b",
   "metadata": {},
   "outputs": [],
   "source": [
    "# csv 생성 시 NaN 값에 값 넣기"
   ]
  },
  {
   "cell_type": "code",
   "execution_count": 103,
   "id": "a1618886-164d-4528-b2db-697a058307e0",
   "metadata": {},
   "outputs": [
    {
     "data": {
      "text/html": [
       "<div>\n",
       "<style scoped>\n",
       "    .dataframe tbody tr th:only-of-type {\n",
       "        vertical-align: middle;\n",
       "    }\n",
       "\n",
       "    .dataframe tbody tr th {\n",
       "        vertical-align: top;\n",
       "    }\n",
       "\n",
       "    .dataframe thead th {\n",
       "        text-align: right;\n",
       "    }\n",
       "</style>\n",
       "<table border=\"1\" class=\"dataframe\">\n",
       "  <thead>\n",
       "    <tr style=\"text-align: right;\">\n",
       "      <th></th>\n",
       "      <th>c1</th>\n",
       "      <th>c2</th>\n",
       "      <th>c3</th>\n",
       "    </tr>\n",
       "  </thead>\n",
       "  <tbody>\n",
       "    <tr>\n",
       "      <th>0</th>\n",
       "      <td>1.0</td>\n",
       "      <td>1.11</td>\n",
       "      <td>one</td>\n",
       "    </tr>\n",
       "    <tr>\n",
       "      <th>1</th>\n",
       "      <td>2.0</td>\n",
       "      <td>NaN</td>\n",
       "      <td>two</td>\n",
       "    </tr>\n",
       "    <tr>\n",
       "      <th>2</th>\n",
       "      <td>NaN</td>\n",
       "      <td>3.33</td>\n",
       "      <td>three</td>\n",
       "    </tr>\n",
       "  </tbody>\n",
       "</table>\n",
       "</div>"
      ],
      "text/plain": [
       "    c1    c2     c3\n",
       "0  1.0  1.11    one\n",
       "1  2.0   NaN    two\n",
       "2  NaN  3.33  three"
      ]
     },
     "execution_count": 103,
     "metadata": {},
     "output_type": "execute_result"
    }
   ],
   "source": [
    "df_na_val"
   ]
  },
  {
   "cell_type": "code",
   "execution_count": 104,
   "id": "8a6d6f83-836f-4d50-b391-77b823ee3bd1",
   "metadata": {},
   "outputs": [],
   "source": [
    "# na_rep 인수를 통해 NaN 표시값 변경 가능\n",
    "df_na_val.to_csv('sample6.csv', na_rep = '누락', index = False)"
   ]
  },
  {
   "cell_type": "code",
   "execution_count": 110,
   "id": "33fdcb97-4ad1-4d62-b282-474a31604a01",
   "metadata": {},
   "outputs": [
    {
     "data": {
      "text/html": [
       "<div>\n",
       "<style scoped>\n",
       "    .dataframe tbody tr th:only-of-type {\n",
       "        vertical-align: middle;\n",
       "    }\n",
       "\n",
       "    .dataframe tbody tr th {\n",
       "        vertical-align: top;\n",
       "    }\n",
       "\n",
       "    .dataframe thead th {\n",
       "        text-align: right;\n",
       "    }\n",
       "</style>\n",
       "<table border=\"1\" class=\"dataframe\">\n",
       "  <thead>\n",
       "    <tr style=\"text-align: right;\">\n",
       "      <th></th>\n",
       "      <th>c1</th>\n",
       "      <th>c2</th>\n",
       "      <th>c3</th>\n",
       "    </tr>\n",
       "  </thead>\n",
       "  <tbody>\n",
       "    <tr>\n",
       "      <th>0</th>\n",
       "      <td>1.0</td>\n",
       "      <td>1.11</td>\n",
       "      <td>one</td>\n",
       "    </tr>\n",
       "    <tr>\n",
       "      <th>1</th>\n",
       "      <td>2.0</td>\n",
       "      <td>누락</td>\n",
       "      <td>two</td>\n",
       "    </tr>\n",
       "    <tr>\n",
       "      <th>2</th>\n",
       "      <td>누락</td>\n",
       "      <td>3.33</td>\n",
       "      <td>three</td>\n",
       "    </tr>\n",
       "  </tbody>\n",
       "</table>\n",
       "</div>"
      ],
      "text/plain": [
       "    c1    c2     c3\n",
       "0  1.0  1.11    one\n",
       "1  2.0    누락    two\n",
       "2   누락  3.33  three"
      ]
     },
     "execution_count": 110,
     "metadata": {},
     "output_type": "execute_result"
    }
   ],
   "source": [
    "pd.read_csv(\"sample6.csv\")"
   ]
  },
  {
   "cell_type": "code",
   "execution_count": 106,
   "id": "d5b050b9-93b3-487f-8992-471d5f5f7c15",
   "metadata": {},
   "outputs": [],
   "source": [
    "# 온라인의 csv 파일 가져오기\n",
    "\n",
    "# read_csv 명령 사용시 path 대신 URL을 지정하면 \n",
    "# Pandas가 직접 해당 파일을 다운로드하여 읽어들인다.\n",
    "\n",
    "titanic = pd.read_csv(\"https://storage.googleapis.com/tf-datasets/titanic/train.csv\")"
   ]
  },
  {
   "cell_type": "code",
   "execution_count": 113,
   "id": "23fdab5e-1cd0-4090-9ed0-381d9bfa9e2b",
   "metadata": {},
   "outputs": [
    {
     "data": {
      "text/html": [
       "<div>\n",
       "<style scoped>\n",
       "    .dataframe tbody tr th:only-of-type {\n",
       "        vertical-align: middle;\n",
       "    }\n",
       "\n",
       "    .dataframe tbody tr th {\n",
       "        vertical-align: top;\n",
       "    }\n",
       "\n",
       "    .dataframe thead th {\n",
       "        text-align: right;\n",
       "    }\n",
       "</style>\n",
       "<table border=\"1\" class=\"dataframe\">\n",
       "  <thead>\n",
       "    <tr style=\"text-align: right;\">\n",
       "      <th></th>\n",
       "      <th>survived</th>\n",
       "      <th>age</th>\n",
       "      <th>n_siblings_spouses</th>\n",
       "      <th>parch</th>\n",
       "      <th>fare</th>\n",
       "    </tr>\n",
       "  </thead>\n",
       "  <tbody>\n",
       "    <tr>\n",
       "      <th>count</th>\n",
       "      <td>627.000000</td>\n",
       "      <td>627.000000</td>\n",
       "      <td>627.000000</td>\n",
       "      <td>627.000000</td>\n",
       "      <td>627.000000</td>\n",
       "    </tr>\n",
       "    <tr>\n",
       "      <th>mean</th>\n",
       "      <td>0.387560</td>\n",
       "      <td>29.631308</td>\n",
       "      <td>0.545455</td>\n",
       "      <td>0.379585</td>\n",
       "      <td>34.385399</td>\n",
       "    </tr>\n",
       "    <tr>\n",
       "      <th>std</th>\n",
       "      <td>0.487582</td>\n",
       "      <td>12.511818</td>\n",
       "      <td>1.151090</td>\n",
       "      <td>0.792999</td>\n",
       "      <td>54.597730</td>\n",
       "    </tr>\n",
       "    <tr>\n",
       "      <th>min</th>\n",
       "      <td>0.000000</td>\n",
       "      <td>0.750000</td>\n",
       "      <td>0.000000</td>\n",
       "      <td>0.000000</td>\n",
       "      <td>0.000000</td>\n",
       "    </tr>\n",
       "    <tr>\n",
       "      <th>25%</th>\n",
       "      <td>0.000000</td>\n",
       "      <td>23.000000</td>\n",
       "      <td>0.000000</td>\n",
       "      <td>0.000000</td>\n",
       "      <td>7.895800</td>\n",
       "    </tr>\n",
       "    <tr>\n",
       "      <th>50%</th>\n",
       "      <td>0.000000</td>\n",
       "      <td>28.000000</td>\n",
       "      <td>0.000000</td>\n",
       "      <td>0.000000</td>\n",
       "      <td>15.045800</td>\n",
       "    </tr>\n",
       "    <tr>\n",
       "      <th>75%</th>\n",
       "      <td>1.000000</td>\n",
       "      <td>35.000000</td>\n",
       "      <td>1.000000</td>\n",
       "      <td>0.000000</td>\n",
       "      <td>31.387500</td>\n",
       "    </tr>\n",
       "    <tr>\n",
       "      <th>max</th>\n",
       "      <td>1.000000</td>\n",
       "      <td>80.000000</td>\n",
       "      <td>8.000000</td>\n",
       "      <td>5.000000</td>\n",
       "      <td>512.329200</td>\n",
       "    </tr>\n",
       "  </tbody>\n",
       "</table>\n",
       "</div>"
      ],
      "text/plain": [
       "         survived         age  n_siblings_spouses       parch        fare\n",
       "count  627.000000  627.000000          627.000000  627.000000  627.000000\n",
       "mean     0.387560   29.631308            0.545455    0.379585   34.385399\n",
       "std      0.487582   12.511818            1.151090    0.792999   54.597730\n",
       "min      0.000000    0.750000            0.000000    0.000000    0.000000\n",
       "25%      0.000000   23.000000            0.000000    0.000000    7.895800\n",
       "50%      0.000000   28.000000            0.000000    0.000000   15.045800\n",
       "75%      1.000000   35.000000            1.000000    0.000000   31.387500\n",
       "max      1.000000   80.000000            8.000000    5.000000  512.329200"
      ]
     },
     "execution_count": 113,
     "metadata": {},
     "output_type": "execute_result"
    }
   ],
   "source": [
    "titanic.describe()"
   ]
  },
  {
   "cell_type": "code",
   "execution_count": 111,
   "id": "8bab5baf-13fe-4fed-b03d-8645c327bf7c",
   "metadata": {
    "scrolled": true,
    "tags": []
   },
   "outputs": [
    {
     "data": {
      "text/html": [
       "<div>\n",
       "<style scoped>\n",
       "    .dataframe tbody tr th:only-of-type {\n",
       "        vertical-align: middle;\n",
       "    }\n",
       "\n",
       "    .dataframe tbody tr th {\n",
       "        vertical-align: top;\n",
       "    }\n",
       "\n",
       "    .dataframe thead th {\n",
       "        text-align: right;\n",
       "    }\n",
       "</style>\n",
       "<table border=\"1\" class=\"dataframe\">\n",
       "  <thead>\n",
       "    <tr style=\"text-align: right;\">\n",
       "      <th></th>\n",
       "      <th>survived</th>\n",
       "      <th>sex</th>\n",
       "      <th>age</th>\n",
       "      <th>n_siblings_spouses</th>\n",
       "      <th>parch</th>\n",
       "      <th>fare</th>\n",
       "      <th>class</th>\n",
       "      <th>deck</th>\n",
       "      <th>embark_town</th>\n",
       "      <th>alone</th>\n",
       "    </tr>\n",
       "  </thead>\n",
       "  <tbody>\n",
       "    <tr>\n",
       "      <th>0</th>\n",
       "      <td>0</td>\n",
       "      <td>male</td>\n",
       "      <td>22.0</td>\n",
       "      <td>1</td>\n",
       "      <td>0</td>\n",
       "      <td>7.2500</td>\n",
       "      <td>Third</td>\n",
       "      <td>unknown</td>\n",
       "      <td>Southampton</td>\n",
       "      <td>n</td>\n",
       "    </tr>\n",
       "    <tr>\n",
       "      <th>1</th>\n",
       "      <td>1</td>\n",
       "      <td>female</td>\n",
       "      <td>38.0</td>\n",
       "      <td>1</td>\n",
       "      <td>0</td>\n",
       "      <td>71.2833</td>\n",
       "      <td>First</td>\n",
       "      <td>C</td>\n",
       "      <td>Cherbourg</td>\n",
       "      <td>n</td>\n",
       "    </tr>\n",
       "    <tr>\n",
       "      <th>2</th>\n",
       "      <td>1</td>\n",
       "      <td>female</td>\n",
       "      <td>26.0</td>\n",
       "      <td>0</td>\n",
       "      <td>0</td>\n",
       "      <td>7.9250</td>\n",
       "      <td>Third</td>\n",
       "      <td>unknown</td>\n",
       "      <td>Southampton</td>\n",
       "      <td>y</td>\n",
       "    </tr>\n",
       "    <tr>\n",
       "      <th>3</th>\n",
       "      <td>1</td>\n",
       "      <td>female</td>\n",
       "      <td>35.0</td>\n",
       "      <td>1</td>\n",
       "      <td>0</td>\n",
       "      <td>53.1000</td>\n",
       "      <td>First</td>\n",
       "      <td>C</td>\n",
       "      <td>Southampton</td>\n",
       "      <td>n</td>\n",
       "    </tr>\n",
       "    <tr>\n",
       "      <th>4</th>\n",
       "      <td>0</td>\n",
       "      <td>male</td>\n",
       "      <td>28.0</td>\n",
       "      <td>0</td>\n",
       "      <td>0</td>\n",
       "      <td>8.4583</td>\n",
       "      <td>Third</td>\n",
       "      <td>unknown</td>\n",
       "      <td>Queenstown</td>\n",
       "      <td>y</td>\n",
       "    </tr>\n",
       "    <tr>\n",
       "      <th>...</th>\n",
       "      <td>...</td>\n",
       "      <td>...</td>\n",
       "      <td>...</td>\n",
       "      <td>...</td>\n",
       "      <td>...</td>\n",
       "      <td>...</td>\n",
       "      <td>...</td>\n",
       "      <td>...</td>\n",
       "      <td>...</td>\n",
       "      <td>...</td>\n",
       "    </tr>\n",
       "    <tr>\n",
       "      <th>622</th>\n",
       "      <td>0</td>\n",
       "      <td>male</td>\n",
       "      <td>28.0</td>\n",
       "      <td>0</td>\n",
       "      <td>0</td>\n",
       "      <td>10.5000</td>\n",
       "      <td>Second</td>\n",
       "      <td>unknown</td>\n",
       "      <td>Southampton</td>\n",
       "      <td>y</td>\n",
       "    </tr>\n",
       "    <tr>\n",
       "      <th>623</th>\n",
       "      <td>0</td>\n",
       "      <td>male</td>\n",
       "      <td>25.0</td>\n",
       "      <td>0</td>\n",
       "      <td>0</td>\n",
       "      <td>7.0500</td>\n",
       "      <td>Third</td>\n",
       "      <td>unknown</td>\n",
       "      <td>Southampton</td>\n",
       "      <td>y</td>\n",
       "    </tr>\n",
       "    <tr>\n",
       "      <th>624</th>\n",
       "      <td>1</td>\n",
       "      <td>female</td>\n",
       "      <td>19.0</td>\n",
       "      <td>0</td>\n",
       "      <td>0</td>\n",
       "      <td>30.0000</td>\n",
       "      <td>First</td>\n",
       "      <td>B</td>\n",
       "      <td>Southampton</td>\n",
       "      <td>y</td>\n",
       "    </tr>\n",
       "    <tr>\n",
       "      <th>625</th>\n",
       "      <td>0</td>\n",
       "      <td>female</td>\n",
       "      <td>28.0</td>\n",
       "      <td>1</td>\n",
       "      <td>2</td>\n",
       "      <td>23.4500</td>\n",
       "      <td>Third</td>\n",
       "      <td>unknown</td>\n",
       "      <td>Southampton</td>\n",
       "      <td>n</td>\n",
       "    </tr>\n",
       "    <tr>\n",
       "      <th>626</th>\n",
       "      <td>0</td>\n",
       "      <td>male</td>\n",
       "      <td>32.0</td>\n",
       "      <td>0</td>\n",
       "      <td>0</td>\n",
       "      <td>7.7500</td>\n",
       "      <td>Third</td>\n",
       "      <td>unknown</td>\n",
       "      <td>Queenstown</td>\n",
       "      <td>y</td>\n",
       "    </tr>\n",
       "  </tbody>\n",
       "</table>\n",
       "<p>627 rows × 10 columns</p>\n",
       "</div>"
      ],
      "text/plain": [
       "     survived     sex   age  n_siblings_spouses  parch     fare   class  \\\n",
       "0           0    male  22.0                   1      0   7.2500   Third   \n",
       "1           1  female  38.0                   1      0  71.2833   First   \n",
       "2           1  female  26.0                   0      0   7.9250   Third   \n",
       "3           1  female  35.0                   1      0  53.1000   First   \n",
       "4           0    male  28.0                   0      0   8.4583   Third   \n",
       "..        ...     ...   ...                 ...    ...      ...     ...   \n",
       "622         0    male  28.0                   0      0  10.5000  Second   \n",
       "623         0    male  25.0                   0      0   7.0500   Third   \n",
       "624         1  female  19.0                   0      0  30.0000   First   \n",
       "625         0  female  28.0                   1      2  23.4500   Third   \n",
       "626         0    male  32.0                   0      0   7.7500   Third   \n",
       "\n",
       "        deck  embark_town alone  \n",
       "0    unknown  Southampton     n  \n",
       "1          C    Cherbourg     n  \n",
       "2    unknown  Southampton     y  \n",
       "3          C  Southampton     n  \n",
       "4    unknown   Queenstown     y  \n",
       "..       ...          ...   ...  \n",
       "622  unknown  Southampton     y  \n",
       "623  unknown  Southampton     y  \n",
       "624        B  Southampton     y  \n",
       "625  unknown  Southampton     n  \n",
       "626  unknown   Queenstown     y  \n",
       "\n",
       "[627 rows x 10 columns]"
      ]
     },
     "execution_count": 111,
     "metadata": {},
     "output_type": "execute_result"
    }
   ],
   "source": [
    "titanic"
   ]
  },
  {
   "cell_type": "code",
   "execution_count": 114,
   "id": "18017870-4592-4ef8-8d56-cf81441af6ec",
   "metadata": {},
   "outputs": [],
   "source": [
    "#앞이나 뒤의 특정 개수만 보고 싶다면 head() 메서드나 tail() 메서드를 사용"
   ]
  },
  {
   "cell_type": "code",
   "execution_count": 108,
   "id": "0543676f-b008-445d-a271-c2d59fcfbe33",
   "metadata": {},
   "outputs": [
    {
     "data": {
      "text/html": [
       "<div>\n",
       "<style scoped>\n",
       "    .dataframe tbody tr th:only-of-type {\n",
       "        vertical-align: middle;\n",
       "    }\n",
       "\n",
       "    .dataframe tbody tr th {\n",
       "        vertical-align: top;\n",
       "    }\n",
       "\n",
       "    .dataframe thead th {\n",
       "        text-align: right;\n",
       "    }\n",
       "</style>\n",
       "<table border=\"1\" class=\"dataframe\">\n",
       "  <thead>\n",
       "    <tr style=\"text-align: right;\">\n",
       "      <th></th>\n",
       "      <th>survived</th>\n",
       "      <th>sex</th>\n",
       "      <th>age</th>\n",
       "      <th>n_siblings_spouses</th>\n",
       "      <th>parch</th>\n",
       "      <th>fare</th>\n",
       "      <th>class</th>\n",
       "      <th>deck</th>\n",
       "      <th>embark_town</th>\n",
       "      <th>alone</th>\n",
       "    </tr>\n",
       "  </thead>\n",
       "  <tbody>\n",
       "    <tr>\n",
       "      <th>0</th>\n",
       "      <td>0</td>\n",
       "      <td>male</td>\n",
       "      <td>22.0</td>\n",
       "      <td>1</td>\n",
       "      <td>0</td>\n",
       "      <td>7.2500</td>\n",
       "      <td>Third</td>\n",
       "      <td>unknown</td>\n",
       "      <td>Southampton</td>\n",
       "      <td>n</td>\n",
       "    </tr>\n",
       "    <tr>\n",
       "      <th>1</th>\n",
       "      <td>1</td>\n",
       "      <td>female</td>\n",
       "      <td>38.0</td>\n",
       "      <td>1</td>\n",
       "      <td>0</td>\n",
       "      <td>71.2833</td>\n",
       "      <td>First</td>\n",
       "      <td>C</td>\n",
       "      <td>Cherbourg</td>\n",
       "      <td>n</td>\n",
       "    </tr>\n",
       "    <tr>\n",
       "      <th>2</th>\n",
       "      <td>1</td>\n",
       "      <td>female</td>\n",
       "      <td>26.0</td>\n",
       "      <td>0</td>\n",
       "      <td>0</td>\n",
       "      <td>7.9250</td>\n",
       "      <td>Third</td>\n",
       "      <td>unknown</td>\n",
       "      <td>Southampton</td>\n",
       "      <td>y</td>\n",
       "    </tr>\n",
       "  </tbody>\n",
       "</table>\n",
       "</div>"
      ],
      "text/plain": [
       "   survived     sex   age  n_siblings_spouses  parch     fare  class     deck  \\\n",
       "0         0    male  22.0                   1      0   7.2500  Third  unknown   \n",
       "1         1  female  38.0                   1      0  71.2833  First        C   \n",
       "2         1  female  26.0                   0      0   7.9250  Third  unknown   \n",
       "\n",
       "   embark_town alone  \n",
       "0  Southampton     n  \n",
       "1    Cherbourg     n  \n",
       "2  Southampton     y  "
      ]
     },
     "execution_count": 108,
     "metadata": {},
     "output_type": "execute_result"
    }
   ],
   "source": [
    "titanic.head(3)"
   ]
  },
  {
   "cell_type": "code",
   "execution_count": 109,
   "id": "e629ae18-0b40-4967-b89a-592fe867ecaf",
   "metadata": {},
   "outputs": [
    {
     "data": {
      "text/html": [
       "<div>\n",
       "<style scoped>\n",
       "    .dataframe tbody tr th:only-of-type {\n",
       "        vertical-align: middle;\n",
       "    }\n",
       "\n",
       "    .dataframe tbody tr th {\n",
       "        vertical-align: top;\n",
       "    }\n",
       "\n",
       "    .dataframe thead th {\n",
       "        text-align: right;\n",
       "    }\n",
       "</style>\n",
       "<table border=\"1\" class=\"dataframe\">\n",
       "  <thead>\n",
       "    <tr style=\"text-align: right;\">\n",
       "      <th></th>\n",
       "      <th>survived</th>\n",
       "      <th>sex</th>\n",
       "      <th>age</th>\n",
       "      <th>n_siblings_spouses</th>\n",
       "      <th>parch</th>\n",
       "      <th>fare</th>\n",
       "      <th>class</th>\n",
       "      <th>deck</th>\n",
       "      <th>embark_town</th>\n",
       "      <th>alone</th>\n",
       "    </tr>\n",
       "  </thead>\n",
       "  <tbody>\n",
       "    <tr>\n",
       "      <th>624</th>\n",
       "      <td>1</td>\n",
       "      <td>female</td>\n",
       "      <td>19.0</td>\n",
       "      <td>0</td>\n",
       "      <td>0</td>\n",
       "      <td>30.00</td>\n",
       "      <td>First</td>\n",
       "      <td>B</td>\n",
       "      <td>Southampton</td>\n",
       "      <td>y</td>\n",
       "    </tr>\n",
       "    <tr>\n",
       "      <th>625</th>\n",
       "      <td>0</td>\n",
       "      <td>female</td>\n",
       "      <td>28.0</td>\n",
       "      <td>1</td>\n",
       "      <td>2</td>\n",
       "      <td>23.45</td>\n",
       "      <td>Third</td>\n",
       "      <td>unknown</td>\n",
       "      <td>Southampton</td>\n",
       "      <td>n</td>\n",
       "    </tr>\n",
       "    <tr>\n",
       "      <th>626</th>\n",
       "      <td>0</td>\n",
       "      <td>male</td>\n",
       "      <td>32.0</td>\n",
       "      <td>0</td>\n",
       "      <td>0</td>\n",
       "      <td>7.75</td>\n",
       "      <td>Third</td>\n",
       "      <td>unknown</td>\n",
       "      <td>Queenstown</td>\n",
       "      <td>y</td>\n",
       "    </tr>\n",
       "  </tbody>\n",
       "</table>\n",
       "</div>"
      ],
      "text/plain": [
       "     survived     sex   age  n_siblings_spouses  parch   fare  class     deck  \\\n",
       "624         1  female  19.0                   0      0  30.00  First        B   \n",
       "625         0  female  28.0                   1      2  23.45  Third  unknown   \n",
       "626         0    male  32.0                   0      0   7.75  Third  unknown   \n",
       "\n",
       "     embark_town alone  \n",
       "624  Southampton     y  \n",
       "625  Southampton     n  \n",
       "626   Queenstown     y  "
      ]
     },
     "execution_count": 109,
     "metadata": {},
     "output_type": "execute_result"
    }
   ],
   "source": [
    "titanic.tail(3)"
   ]
  },
  {
   "cell_type": "code",
   "execution_count": 127,
   "id": "af12ea37-f501-482c-8b61-938456aac587",
   "metadata": {},
   "outputs": [
    {
     "data": {
      "text/html": [
       "<div>\n",
       "<style scoped>\n",
       "    .dataframe tbody tr th:only-of-type {\n",
       "        vertical-align: middle;\n",
       "    }\n",
       "\n",
       "    .dataframe tbody tr th {\n",
       "        vertical-align: top;\n",
       "    }\n",
       "\n",
       "    .dataframe thead th {\n",
       "        text-align: right;\n",
       "    }\n",
       "</style>\n",
       "<table border=\"1\" class=\"dataframe\">\n",
       "  <thead>\n",
       "    <tr style=\"text-align: right;\">\n",
       "      <th></th>\n",
       "      <th>도서관명</th>\n",
       "      <th>시도명</th>\n",
       "      <th>시군구명</th>\n",
       "      <th>도서관유형</th>\n",
       "      <th>휴관일</th>\n",
       "      <th>평일운영시작시각</th>\n",
       "      <th>평일운영종료시각</th>\n",
       "      <th>토요일운영시작시각</th>\n",
       "      <th>토요일운영종료시각</th>\n",
       "      <th>공휴일운영시작시각</th>\n",
       "      <th>...</th>\n",
       "      <th>대출가능일수</th>\n",
       "      <th>소재지도로명주소</th>\n",
       "      <th>운영기관명</th>\n",
       "      <th>도서관전화번호</th>\n",
       "      <th>부지면적</th>\n",
       "      <th>건물면적</th>\n",
       "      <th>홈페이지주소</th>\n",
       "      <th>위도</th>\n",
       "      <th>경도</th>\n",
       "      <th>데이터기준일자</th>\n",
       "    </tr>\n",
       "  </thead>\n",
       "  <tbody>\n",
       "    <tr>\n",
       "      <th>0</th>\n",
       "      <td>옥정호수도서관</td>\n",
       "      <td>경기도</td>\n",
       "      <td>양주시</td>\n",
       "      <td>공공도서관</td>\n",
       "      <td>월+법정공휴일</td>\n",
       "      <td>09:00</td>\n",
       "      <td>22:00</td>\n",
       "      <td>09:00</td>\n",
       "      <td>18:00</td>\n",
       "      <td>00:00</td>\n",
       "      <td>...</td>\n",
       "      <td>14</td>\n",
       "      <td>경기도 양주시 옥정동로7길 110</td>\n",
       "      <td>경기도 양주시청</td>\n",
       "      <td>031-8082-7470</td>\n",
       "      <td>22510.0</td>\n",
       "      <td>4938.00</td>\n",
       "      <td>https://www.libyj.go.kr/ojlake/index.do</td>\n",
       "      <td>37.823000</td>\n",
       "      <td>127.094931</td>\n",
       "      <td>2023-02-15</td>\n",
       "    </tr>\n",
       "    <tr>\n",
       "      <th>1</th>\n",
       "      <td>장흥작은도서관</td>\n",
       "      <td>경기도</td>\n",
       "      <td>양주시</td>\n",
       "      <td>공공도서관</td>\n",
       "      <td>금+법정공휴일</td>\n",
       "      <td>09:00</td>\n",
       "      <td>22:00</td>\n",
       "      <td>09:00</td>\n",
       "      <td>22:00</td>\n",
       "      <td>00:00</td>\n",
       "      <td>...</td>\n",
       "      <td>14</td>\n",
       "      <td>경기도 양주시 장흥면 호국로 470</td>\n",
       "      <td>경기도 양주시청</td>\n",
       "      <td>031-844-0987</td>\n",
       "      <td>1353.0</td>\n",
       "      <td>398.00</td>\n",
       "      <td>https://www.libyj.go.kr/jhlib/index.do</td>\n",
       "      <td>37.713757</td>\n",
       "      <td>126.969372</td>\n",
       "      <td>2023-02-15</td>\n",
       "    </tr>\n",
       "    <tr>\n",
       "      <th>2</th>\n",
       "      <td>양주희망도서관</td>\n",
       "      <td>경기도</td>\n",
       "      <td>양주시</td>\n",
       "      <td>공공도서관</td>\n",
       "      <td>월+법정공휴일</td>\n",
       "      <td>09:00</td>\n",
       "      <td>22:00</td>\n",
       "      <td>09:00</td>\n",
       "      <td>22:00</td>\n",
       "      <td>00:00</td>\n",
       "      <td>...</td>\n",
       "      <td>14</td>\n",
       "      <td>경기도 양주시 삼숭로38번길 78-47</td>\n",
       "      <td>경기도 양주시청</td>\n",
       "      <td>031-8082-7460</td>\n",
       "      <td>3388.0</td>\n",
       "      <td>2299.00</td>\n",
       "      <td>https://www.libyj.go.kr/hmlib/index.do</td>\n",
       "      <td>37.795765</td>\n",
       "      <td>127.107258</td>\n",
       "      <td>2023-02-15</td>\n",
       "    </tr>\n",
       "    <tr>\n",
       "      <th>3</th>\n",
       "      <td>덕정도서관</td>\n",
       "      <td>경기도</td>\n",
       "      <td>양주시</td>\n",
       "      <td>공공도서관</td>\n",
       "      <td>월+법정공휴일</td>\n",
       "      <td>09:00</td>\n",
       "      <td>22:00</td>\n",
       "      <td>09:00</td>\n",
       "      <td>22:00</td>\n",
       "      <td>00:00</td>\n",
       "      <td>...</td>\n",
       "      <td>14</td>\n",
       "      <td>경기도 양주시 화합로1371번길 11</td>\n",
       "      <td>경기도 양주시청</td>\n",
       "      <td>031-8082-7420</td>\n",
       "      <td>949.0</td>\n",
       "      <td>1826.00</td>\n",
       "      <td>https://www.libyj.go.kr/djlib/index.do</td>\n",
       "      <td>37.842880</td>\n",
       "      <td>127.063191</td>\n",
       "      <td>2023-02-15</td>\n",
       "    </tr>\n",
       "    <tr>\n",
       "      <th>4</th>\n",
       "      <td>고읍도서관</td>\n",
       "      <td>경기도</td>\n",
       "      <td>양주시</td>\n",
       "      <td>공공도서관</td>\n",
       "      <td>금+법정공휴일</td>\n",
       "      <td>09:00</td>\n",
       "      <td>22:00</td>\n",
       "      <td>09:00</td>\n",
       "      <td>22:00</td>\n",
       "      <td>00:00</td>\n",
       "      <td>...</td>\n",
       "      <td>14</td>\n",
       "      <td>경기도 양주시 고읍남로 207</td>\n",
       "      <td>경기도 양주시청</td>\n",
       "      <td>031-8082-7440</td>\n",
       "      <td>1650.0</td>\n",
       "      <td>1337.00</td>\n",
       "      <td>https://www.libyj.go.kr/gulib/index.do</td>\n",
       "      <td>37.792050</td>\n",
       "      <td>127.084460</td>\n",
       "      <td>2023-02-15</td>\n",
       "    </tr>\n",
       "    <tr>\n",
       "      <th>5</th>\n",
       "      <td>꿈나무도서관</td>\n",
       "      <td>경기도</td>\n",
       "      <td>양주시</td>\n",
       "      <td>공공도서관</td>\n",
       "      <td>금+법정공휴일</td>\n",
       "      <td>09:00</td>\n",
       "      <td>22:00</td>\n",
       "      <td>09:00</td>\n",
       "      <td>22:00</td>\n",
       "      <td>00:00</td>\n",
       "      <td>...</td>\n",
       "      <td>14</td>\n",
       "      <td>경기도 양주시 백석읍 꿈나무로 199</td>\n",
       "      <td>경기도 양주시청</td>\n",
       "      <td>031-8082-7401</td>\n",
       "      <td>6073.0</td>\n",
       "      <td>2606.00</td>\n",
       "      <td>https://www.libyj.go.kr/childlib/index.do</td>\n",
       "      <td>37.792390</td>\n",
       "      <td>126.987275</td>\n",
       "      <td>2023-02-15</td>\n",
       "    </tr>\n",
       "    <tr>\n",
       "      <th>6</th>\n",
       "      <td>남면도서관</td>\n",
       "      <td>경기도</td>\n",
       "      <td>양주시</td>\n",
       "      <td>공공도서관</td>\n",
       "      <td>월+법정공휴일</td>\n",
       "      <td>09:00</td>\n",
       "      <td>18:00</td>\n",
       "      <td>09:00</td>\n",
       "      <td>18:00</td>\n",
       "      <td>00:00</td>\n",
       "      <td>...</td>\n",
       "      <td>14</td>\n",
       "      <td>경기도 양주시 남면 개나리17길 24</td>\n",
       "      <td>경기도 양주시청</td>\n",
       "      <td>031-8082-7430</td>\n",
       "      <td>2252.0</td>\n",
       "      <td>789.00</td>\n",
       "      <td>https://www.libyj.go.kr/nmlib/index.do</td>\n",
       "      <td>37.898148</td>\n",
       "      <td>126.975880</td>\n",
       "      <td>2023-02-15</td>\n",
       "    </tr>\n",
       "    <tr>\n",
       "      <th>7</th>\n",
       "      <td>덕계도서관</td>\n",
       "      <td>경기도</td>\n",
       "      <td>양주시</td>\n",
       "      <td>공공도서관</td>\n",
       "      <td>금+법정공휴일</td>\n",
       "      <td>09:00</td>\n",
       "      <td>22:00</td>\n",
       "      <td>09:00</td>\n",
       "      <td>18:00</td>\n",
       "      <td>00:00</td>\n",
       "      <td>...</td>\n",
       "      <td>14</td>\n",
       "      <td>경기도 양주시 평화로1475번길 39</td>\n",
       "      <td>경기도 양주시청</td>\n",
       "      <td>031-8082-7450</td>\n",
       "      <td>1499.0</td>\n",
       "      <td>1370.00</td>\n",
       "      <td>https://www.libyj.go.kr/dklib/index.do</td>\n",
       "      <td>37.821659</td>\n",
       "      <td>127.046729</td>\n",
       "      <td>2023-02-15</td>\n",
       "    </tr>\n",
       "    <tr>\n",
       "      <th>8</th>\n",
       "      <td>광적도서관</td>\n",
       "      <td>경기도</td>\n",
       "      <td>양주시</td>\n",
       "      <td>공공도서관</td>\n",
       "      <td>월+법정공휴일</td>\n",
       "      <td>09:00</td>\n",
       "      <td>22:00</td>\n",
       "      <td>09:00</td>\n",
       "      <td>18:00</td>\n",
       "      <td>00:00</td>\n",
       "      <td>...</td>\n",
       "      <td>14</td>\n",
       "      <td>경기도 양주시 광적면 광적로42번길 5</td>\n",
       "      <td>경기도 양주시청</td>\n",
       "      <td>031-8082-7480</td>\n",
       "      <td>1021.9</td>\n",
       "      <td>957.64</td>\n",
       "      <td>https://www.libyj.go.kr/gjlib/index.do</td>\n",
       "      <td>37.823117</td>\n",
       "      <td>126.982877</td>\n",
       "      <td>2023-02-15</td>\n",
       "    </tr>\n",
       "    <tr>\n",
       "      <th>9</th>\n",
       "      <td>고암작은도서관</td>\n",
       "      <td>경기도</td>\n",
       "      <td>양주시</td>\n",
       "      <td>공공도서관</td>\n",
       "      <td>월+법정공휴일</td>\n",
       "      <td>09:00</td>\n",
       "      <td>18:00</td>\n",
       "      <td>09:00</td>\n",
       "      <td>18:00</td>\n",
       "      <td>00:00</td>\n",
       "      <td>...</td>\n",
       "      <td>14</td>\n",
       "      <td>경기도 양주시 고암길 251-1 1층</td>\n",
       "      <td>경기도 양주시청</td>\n",
       "      <td>031-8082-7488</td>\n",
       "      <td>13887.1</td>\n",
       "      <td>236.00</td>\n",
       "      <td>https://www.libyj.go.kr/goamlib/index.do</td>\n",
       "      <td>37.834524</td>\n",
       "      <td>127.072931</td>\n",
       "      <td>2023-02-15</td>\n",
       "    </tr>\n",
       "  </tbody>\n",
       "</table>\n",
       "<p>10 rows × 26 columns</p>\n",
       "</div>"
      ],
      "text/plain": [
       "      도서관명  시도명 시군구명  도서관유형      휴관일 평일운영시작시각 평일운영종료시각 토요일운영시작시각 토요일운영종료시각  \\\n",
       "0  옥정호수도서관  경기도  양주시  공공도서관  월+법정공휴일    09:00    22:00     09:00     18:00   \n",
       "1  장흥작은도서관  경기도  양주시  공공도서관  금+법정공휴일    09:00    22:00     09:00     22:00   \n",
       "2  양주희망도서관  경기도  양주시  공공도서관  월+법정공휴일    09:00    22:00     09:00     22:00   \n",
       "3    덕정도서관  경기도  양주시  공공도서관  월+법정공휴일    09:00    22:00     09:00     22:00   \n",
       "4    고읍도서관  경기도  양주시  공공도서관  금+법정공휴일    09:00    22:00     09:00     22:00   \n",
       "5   꿈나무도서관  경기도  양주시  공공도서관  금+법정공휴일    09:00    22:00     09:00     22:00   \n",
       "6    남면도서관  경기도  양주시  공공도서관  월+법정공휴일    09:00    18:00     09:00     18:00   \n",
       "7    덕계도서관  경기도  양주시  공공도서관  금+법정공휴일    09:00    22:00     09:00     18:00   \n",
       "8    광적도서관  경기도  양주시  공공도서관  월+법정공휴일    09:00    22:00     09:00     18:00   \n",
       "9  고암작은도서관  경기도  양주시  공공도서관  월+법정공휴일    09:00    18:00     09:00     18:00   \n",
       "\n",
       "  공휴일운영시작시각  ... 대출가능일수               소재지도로명주소     운영기관명        도서관전화번호  \\\n",
       "0     00:00  ...     14     경기도 양주시 옥정동로7길 110  경기도 양주시청  031-8082-7470   \n",
       "1     00:00  ...     14    경기도 양주시 장흥면 호국로 470  경기도 양주시청   031-844-0987   \n",
       "2     00:00  ...     14  경기도 양주시 삼숭로38번길 78-47  경기도 양주시청  031-8082-7460   \n",
       "3     00:00  ...     14   경기도 양주시 화합로1371번길 11  경기도 양주시청  031-8082-7420   \n",
       "4     00:00  ...     14       경기도 양주시 고읍남로 207  경기도 양주시청  031-8082-7440   \n",
       "5     00:00  ...     14   경기도 양주시 백석읍 꿈나무로 199  경기도 양주시청  031-8082-7401   \n",
       "6     00:00  ...     14   경기도 양주시 남면 개나리17길 24  경기도 양주시청  031-8082-7430   \n",
       "7     00:00  ...     14   경기도 양주시 평화로1475번길 39  경기도 양주시청  031-8082-7450   \n",
       "8     00:00  ...     14  경기도 양주시 광적면 광적로42번길 5  경기도 양주시청  031-8082-7480   \n",
       "9     00:00  ...     14   경기도 양주시 고암길 251-1 1층  경기도 양주시청  031-8082-7488   \n",
       "\n",
       "      부지면적     건물면적                                     홈페이지주소         위도  \\\n",
       "0  22510.0  4938.00    https://www.libyj.go.kr/ojlake/index.do  37.823000   \n",
       "1   1353.0   398.00     https://www.libyj.go.kr/jhlib/index.do  37.713757   \n",
       "2   3388.0  2299.00     https://www.libyj.go.kr/hmlib/index.do  37.795765   \n",
       "3    949.0  1826.00     https://www.libyj.go.kr/djlib/index.do  37.842880   \n",
       "4   1650.0  1337.00     https://www.libyj.go.kr/gulib/index.do  37.792050   \n",
       "5   6073.0  2606.00  https://www.libyj.go.kr/childlib/index.do  37.792390   \n",
       "6   2252.0   789.00     https://www.libyj.go.kr/nmlib/index.do  37.898148   \n",
       "7   1499.0  1370.00     https://www.libyj.go.kr/dklib/index.do  37.821659   \n",
       "8   1021.9   957.64     https://www.libyj.go.kr/gjlib/index.do  37.823117   \n",
       "9  13887.1   236.00   https://www.libyj.go.kr/goamlib/index.do  37.834524   \n",
       "\n",
       "           경도     데이터기준일자  \n",
       "0  127.094931  2023-02-15  \n",
       "1  126.969372  2023-02-15  \n",
       "2  127.107258  2023-02-15  \n",
       "3  127.063191  2023-02-15  \n",
       "4  127.084460  2023-02-15  \n",
       "5  126.987275  2023-02-15  \n",
       "6  126.975880  2023-02-15  \n",
       "7  127.046729  2023-02-15  \n",
       "8  126.982877  2023-02-15  \n",
       "9  127.072931  2023-02-15  \n",
       "\n",
       "[10 rows x 26 columns]"
      ]
     },
     "execution_count": 127,
     "metadata": {},
     "output_type": "execute_result"
    }
   ],
   "source": [
    "library_path = 'datas/library.csv'\n",
    "library_cols = [\"library\"]\n",
    "library = pd.read_csv(library_path, encoding='cp949')\n",
    "library"
   ]
  },
  {
   "cell_type": "code",
   "execution_count": 128,
   "id": "0cc985f4-8a50-4cc6-a9a7-226de12371aa",
   "metadata": {},
   "outputs": [
    {
     "data": {
      "text/html": [
       "<div>\n",
       "<style scoped>\n",
       "    .dataframe tbody tr th:only-of-type {\n",
       "        vertical-align: middle;\n",
       "    }\n",
       "\n",
       "    .dataframe tbody tr th {\n",
       "        vertical-align: top;\n",
       "    }\n",
       "\n",
       "    .dataframe thead th {\n",
       "        text-align: right;\n",
       "    }\n",
       "</style>\n",
       "<table border=\"1\" class=\"dataframe\">\n",
       "  <thead>\n",
       "    <tr style=\"text-align: right;\">\n",
       "      <th></th>\n",
       "      <th>도서관명,시도명,시군구명,도서관유형,휴관일,평일운영시작시각,평일운영종료시각,토요일운영시작시각,토요일운영종료시각,공휴일운영시작시각,공휴일운영종료시각,열람좌석수,자료수(도서),자료수(연속간행물),자료수(비도서),대출가능권수,대출가능일수,소재지도로명주소,운영기관명,도서관전화번호,부지면적,건물면적,홈페이지주소,위도,경도,데이터기준일자</th>\n",
       "    </tr>\n",
       "  </thead>\n",
       "  <tbody>\n",
       "    <tr>\n",
       "      <th>0</th>\n",
       "      <td>옥정호수도서관,경기도,양주시,공공도서관,월+법정공휴일,09:00,22:00,09:0...</td>\n",
       "    </tr>\n",
       "    <tr>\n",
       "      <th>1</th>\n",
       "      <td>장흥작은도서관,경기도,양주시,공공도서관,금+법정공휴일,09:00,22:00,09:0...</td>\n",
       "    </tr>\n",
       "    <tr>\n",
       "      <th>2</th>\n",
       "      <td>양주희망도서관,경기도,양주시,공공도서관,월+법정공휴일,09:00,22:00,09:0...</td>\n",
       "    </tr>\n",
       "    <tr>\n",
       "      <th>3</th>\n",
       "      <td>덕정도서관,경기도,양주시,공공도서관,월+법정공휴일,09:00,22:00,09:00,...</td>\n",
       "    </tr>\n",
       "    <tr>\n",
       "      <th>4</th>\n",
       "      <td>고읍도서관,경기도,양주시,공공도서관,금+법정공휴일,09:00,22:00,09:00,...</td>\n",
       "    </tr>\n",
       "    <tr>\n",
       "      <th>5</th>\n",
       "      <td>꿈나무도서관,경기도,양주시,공공도서관,금+법정공휴일,09:00,22:00,09:00...</td>\n",
       "    </tr>\n",
       "    <tr>\n",
       "      <th>6</th>\n",
       "      <td>남면도서관,경기도,양주시,공공도서관,월+법정공휴일,09:00,18:00,09:00,...</td>\n",
       "    </tr>\n",
       "    <tr>\n",
       "      <th>7</th>\n",
       "      <td>덕계도서관,경기도,양주시,공공도서관,금+법정공휴일,09:00,22:00,09:00,...</td>\n",
       "    </tr>\n",
       "    <tr>\n",
       "      <th>8</th>\n",
       "      <td>광적도서관,경기도,양주시,공공도서관,월+법정공휴일,09:00,22:00,09:00,...</td>\n",
       "    </tr>\n",
       "    <tr>\n",
       "      <th>9</th>\n",
       "      <td>고암작은도서관,경기도,양주시,공공도서관,월+법정공휴일,09:00,18:00,09:0...</td>\n",
       "    </tr>\n",
       "  </tbody>\n",
       "</table>\n",
       "</div>"
      ],
      "text/plain": [
       "  도서관명,시도명,시군구명,도서관유형,휴관일,평일운영시작시각,평일운영종료시각,토요일운영시작시각,토요일운영종료시각,공휴일운영시작시각,공휴일운영종료시각,열람좌석수,자료수(도서),자료수(연속간행물),자료수(비도서),대출가능권수,대출가능일수,소재지도로명주소,운영기관명,도서관전화번호,부지면적,건물면적,홈페이지주소,위도,경도,데이터기준일자\n",
       "0  옥정호수도서관,경기도,양주시,공공도서관,월+법정공휴일,09:00,22:00,09:0...                                                                                                                                     \n",
       "1  장흥작은도서관,경기도,양주시,공공도서관,금+법정공휴일,09:00,22:00,09:0...                                                                                                                                     \n",
       "2  양주희망도서관,경기도,양주시,공공도서관,월+법정공휴일,09:00,22:00,09:0...                                                                                                                                     \n",
       "3  덕정도서관,경기도,양주시,공공도서관,월+법정공휴일,09:00,22:00,09:00,...                                                                                                                                     \n",
       "4  고읍도서관,경기도,양주시,공공도서관,금+법정공휴일,09:00,22:00,09:00,...                                                                                                                                     \n",
       "5  꿈나무도서관,경기도,양주시,공공도서관,금+법정공휴일,09:00,22:00,09:00...                                                                                                                                     \n",
       "6  남면도서관,경기도,양주시,공공도서관,월+법정공휴일,09:00,18:00,09:00,...                                                                                                                                     \n",
       "7  덕계도서관,경기도,양주시,공공도서관,금+법정공휴일,09:00,22:00,09:00,...                                                                                                                                     \n",
       "8  광적도서관,경기도,양주시,공공도서관,월+법정공휴일,09:00,22:00,09:00,...                                                                                                                                     \n",
       "9  고암작은도서관,경기도,양주시,공공도서관,월+법정공휴일,09:00,18:00,09:0...                                                                                                                                     "
      ]
     },
     "execution_count": 128,
     "metadata": {},
     "output_type": "execute_result"
    }
   ],
   "source": [
    "library_path = 'datas/library.csv'\n",
    "library_cols = [\"library\"]\n",
    "library = pd.read_table(library_path, encoding='cp949')\n",
    "library"
   ]
  },
  {
   "cell_type": "code",
   "execution_count": null,
   "id": "809a12a5-d3a5-4d5b-8edd-0c42545fb99f",
   "metadata": {},
   "outputs": [],
   "source": []
  }
 ],
 "metadata": {
  "kernelspec": {
   "display_name": "Python 3 (ipykernel)",
   "language": "python",
   "name": "python3"
  },
  "language_info": {
   "codemirror_mode": {
    "name": "ipython",
    "version": 3
   },
   "file_extension": ".py",
   "mimetype": "text/x-python",
   "name": "python",
   "nbconvert_exporter": "python",
   "pygments_lexer": "ipython3",
   "version": "3.9.13"
  }
 },
 "nbformat": 4,
 "nbformat_minor": 5
}
