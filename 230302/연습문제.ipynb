{
 "cells": [
  {
   "cell_type": "code",
   "execution_count": 1,
   "id": "71f42010-27ee-4241-b41d-6bab342f018a",
   "metadata": {},
   "outputs": [],
   "source": [
    "#연습문제 1"
   ]
  },
  {
   "cell_type": "code",
   "execution_count": 2,
   "id": "8775aadd-6f08-41c1-b7dc-f09070e0c85e",
   "metadata": {},
   "outputs": [],
   "source": [
    "import numpy as np"
   ]
  },
  {
   "cell_type": "code",
   "execution_count": 3,
   "id": "84543a18-8165-4ed3-af66-a21ab5380a71",
   "metadata": {},
   "outputs": [
    {
     "data": {
      "text/plain": [
       "array([[0., 0., 0.],\n",
       "       [0., 0., 0.],\n",
       "       [0., 0., 0.]])"
      ]
     },
     "execution_count": 3,
     "metadata": {},
     "output_type": "execute_result"
    }
   ],
   "source": [
    "zeros = np.zeros((3,3))\n",
    "zeros"
   ]
  },
  {
   "cell_type": "code",
   "execution_count": 4,
   "id": "a732ea5f-855e-49a6-a14f-882e9c2430f7",
   "metadata": {},
   "outputs": [
    {
     "data": {
      "text/plain": [
       "array([[1., 1.],\n",
       "       [1., 1.],\n",
       "       [1., 1.]])"
      ]
     },
     "execution_count": 4,
     "metadata": {},
     "output_type": "execute_result"
    }
   ],
   "source": [
    "ones = np.ones((3,2))\n",
    "ones"
   ]
  },
  {
   "cell_type": "code",
   "execution_count": 5,
   "id": "758281db-0072-4940-a16b-02b08c44d8e4",
   "metadata": {},
   "outputs": [],
   "source": [
    "B = np.arange(10,160,10).reshape(3,-1)"
   ]
  },
  {
   "cell_type": "code",
   "execution_count": 6,
   "id": "8394eeda-5714-4684-83b7-3ce0fee82de8",
   "metadata": {},
   "outputs": [
    {
     "data": {
      "text/plain": [
       "array([[0., 0., 0., 1., 1.],\n",
       "       [0., 0., 0., 1., 1.],\n",
       "       [0., 0., 0., 1., 1.]])"
      ]
     },
     "execution_count": 6,
     "metadata": {},
     "output_type": "execute_result"
    }
   ],
   "source": [
    "np.hstack([zeros,ones])"
   ]
  },
  {
   "cell_type": "code",
   "execution_count": 7,
   "id": "69b14e7d-5925-4196-a336-a892444cf5e8",
   "metadata": {},
   "outputs": [],
   "source": [
    "A = np.hstack([zeros,ones])"
   ]
  },
  {
   "cell_type": "code",
   "execution_count": 8,
   "id": "08af5454-60ce-4fc7-9981-aacc5419e944",
   "metadata": {},
   "outputs": [
    {
     "data": {
      "text/plain": [
       "array([[  0.,   0.,   0.,   1.,   1.],\n",
       "       [  0.,   0.,   0.,   1.,   1.],\n",
       "       [  0.,   0.,   0.,   1.,   1.],\n",
       "       [ 10.,  20.,  30.,  40.,  50.],\n",
       "       [ 60.,  70.,  80.,  90., 100.],\n",
       "       [110., 120., 130., 140., 150.]])"
      ]
     },
     "execution_count": 8,
     "metadata": {},
     "output_type": "execute_result"
    }
   ],
   "source": [
    "np.vstack([A,B])"
   ]
  },
  {
   "cell_type": "code",
   "execution_count": 9,
   "id": "c3afbd5b-feb7-40c6-b464-ad620ff47ebf",
   "metadata": {},
   "outputs": [],
   "source": [
    "C = np.vstack([A,B])"
   ]
  },
  {
   "cell_type": "code",
   "execution_count": 10,
   "id": "5637d274-0e07-4070-a495-81db987336af",
   "metadata": {},
   "outputs": [
    {
     "data": {
      "text/plain": [
       "array([[  0.,   0.,   0.,   1.,   1.],\n",
       "       [  0.,   0.,   0.,   1.,   1.],\n",
       "       [  0.,   0.,   0.,   1.,   1.],\n",
       "       [ 10.,  20.,  30.,  40.,  50.],\n",
       "       [ 60.,  70.,  80.,  90., 100.],\n",
       "       [110., 120., 130., 140., 150.],\n",
       "       [  0.,   0.,   0.,   1.,   1.],\n",
       "       [  0.,   0.,   0.,   1.,   1.],\n",
       "       [  0.,   0.,   0.,   1.,   1.],\n",
       "       [ 10.,  20.,  30.,  40.,  50.],\n",
       "       [ 60.,  70.,  80.,  90., 100.],\n",
       "       [110., 120., 130., 140., 150.]])"
      ]
     },
     "execution_count": 10,
     "metadata": {},
     "output_type": "execute_result"
    }
   ],
   "source": [
    "np.tile(C,(2,1))"
   ]
  },
  {
   "cell_type": "code",
   "execution_count": 11,
   "id": "3f59ee6c-5bcb-4d3f-abfe-936b25a35361",
   "metadata": {},
   "outputs": [
    {
     "data": {
      "text/plain": [
       "array([[  0.,   0.,   0.,   1.,   1.],\n",
       "       [  0.,   0.,   0.,   1.,   1.],\n",
       "       [  0.,   0.,   0.,   1.,   1.],\n",
       "       [ 10.,  20.,  30.,  40.,  50.],\n",
       "       [ 60.,  70.,  80.,  90., 100.],\n",
       "       [110., 120., 130., 140., 150.],\n",
       "       [  0.,   0.,   0.,   1.,   1.],\n",
       "       [  0.,   0.,   0.,   1.,   1.],\n",
       "       [  0.,   0.,   0.,   1.,   1.],\n",
       "       [ 10.,  20.,  30.,  40.,  50.],\n",
       "       [ 60.,  70.,  80.,  90., 100.],\n",
       "       [110., 120., 130., 140., 150.]])"
      ]
     },
     "execution_count": 11,
     "metadata": {},
     "output_type": "execute_result"
    }
   ],
   "source": [
    "zeros = np.zeros((3,3))\n",
    "ones = np.ones((3,2))\n",
    "A = np.hstack([zeros,ones])\n",
    "B = np.arange(10,160,10).reshape(3,-1)\n",
    "C = np.vstack([A,B])\n",
    "np.tile(C,(2,1))"
   ]
  },
  {
   "cell_type": "code",
   "execution_count": 12,
   "id": "12c28730-110a-43f4-96af-23138fc610eb",
   "metadata": {},
   "outputs": [],
   "source": [
    "#연습문제 2"
   ]
  },
  {
   "cell_type": "code",
   "execution_count": null,
   "id": "481f9519-ad53-4f26-9c18-8b7b13a451f1",
   "metadata": {},
   "outputs": [],
   "source": []
  }
 ],
 "metadata": {
  "kernelspec": {
   "display_name": "Python 3 (ipykernel)",
   "language": "python",
   "name": "python3"
  },
  "language_info": {
   "codemirror_mode": {
    "name": "ipython",
    "version": 3
   },
   "file_extension": ".py",
   "mimetype": "text/x-python",
   "name": "python",
   "nbconvert_exporter": "python",
   "pygments_lexer": "ipython3",
   "version": "3.9.13"
  }
 },
 "nbformat": 4,
 "nbformat_minor": 5
}
