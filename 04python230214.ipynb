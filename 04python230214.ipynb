{
 "cells": [
  {
   "cell_type": "code",
   "execution_count": 8,
   "id": "66320f56-5427-40de-8c48-94f2f5062427",
   "metadata": {},
   "outputs": [],
   "source": [
    "# 함수 독립적으로 설계된 프로그램 코드의 집합(한번 더 정리 필요)\n",
    "# 메인코드 X = 함수명(인수,인수(argument)...) / print(결과 값:,X)\n",
    "# 함수정의부 def 함수명(인자,인자(param..))함수코드 / return 반환값\n",
    "#함수 호출 시 함수정의부가서 순서대로 대입 후 코드 실행하여 값을 반환함-result\n",
    "\n",
    "#  function_name(param1,param2..):\n",
    "# result = param+param2\n",
    "# return result"
   ]
  },
  {
   "cell_type": "code",
   "execution_count": 7,
   "id": "d878a03f-07a1-480a-b637-913440859392",
   "metadata": {},
   "outputs": [],
   "source": [
    "# 리스트메서드(함수와 동작 비슷, .으로 표시)\n",
    "# append(요소)/insert(인덱스, 요소)/extend(리스트)/remove(요소)/pop()/index(요소)/count(요소)/sort()/reverse()/clear()...."
   ]
  },
  {
   "cell_type": "code",
   "execution_count": 6,
   "id": "9508b1d1-1941-4668-8c86-ead1ee522823",
   "metadata": {},
   "outputs": [
    {
     "name": "stdout",
     "output_type": "stream",
     "text": [
      "[1, 2, 3, 4, 5, 6, 7, 8]\n"
     ]
    }
   ],
   "source": [
    "# 리스트 맨 뒤에 요소 추가하기 ->리스트(객체,object).append(요소) 요소 한개 추가\n",
    "numbers = [1,2,3,4,5,6,7]\n",
    "numbers.append(8) #none\n",
    "print(numbers)"
   ]
  },
  {
   "cell_type": "code",
   "execution_count": 10,
   "id": "32c01cc1-b747-4f8c-b8c7-8db3c44bf791",
   "metadata": {},
   "outputs": [
    {
     "name": "stdout",
     "output_type": "stream",
     "text": [
      "[0, 0, 1, 2, 0, 3, 0, 0, 4, 0, 5, 6, 7, 8, 0, 0]\n"
     ]
    }
   ],
   "source": [
    "# 리스트에 요소를 원하는 인덱스에 추가하기 -> 리스트.insert(인덱스,요소)\n",
    "numbers.insert(0,0)\n",
    "numbers.insert(4,0) #4에 해당하는 자리에 0을 넣겠다.\n",
    "numbers.insert(6,0)\n",
    "numbers.insert(len(numbers),0) #마지막 위치에 0을 넣겠다\n",
    "print(numbers)"
   ]
  },
  {
   "cell_type": "code",
   "execution_count": 11,
   "id": "88ffa54e-1b45-4015-b6be-d1afc5428e53",
   "metadata": {},
   "outputs": [
    {
     "name": "stdout",
     "output_type": "stream",
     "text": [
      "[0, 0, 1, 2, 0, 3, 0, 0, 4, 0, 5, 6, 7, 8, 0, 0, 9, 10, 11]\n"
     ]
    }
   ],
   "source": [
    "# 리스트1 맨 뒤로 리스트2 요소들을 추가 ->리스트1.extend(리스트2) 요소 뭉탱이 추가-리스트\n",
    "numbers.extend([9,10,11])\n",
    "print(numbers)"
   ]
  },
  {
   "cell_type": "code",
   "execution_count": 13,
   "id": "820112d0-a269-4c8a-9e74-e0e4eda60257",
   "metadata": {},
   "outputs": [
    {
     "name": "stdout",
     "output_type": "stream",
     "text": [
      "[1, 2, 0, 3, 0, 0, 4, 0, 5, 6, 7, 8, 0, 0, 9, 10, 11]\n"
     ]
    }
   ],
   "source": [
    "# 리스트.remove(인자-내가 지우고 싶은 요소의 값 처음 1개 삭제) -> 인자와 리스트에 동일한 요소를 제거. 먼저 발견된 요소 삭제\n",
    "numbers.remove(0)\n",
    "print(numbers)"
   ]
  },
  {
   "cell_type": "code",
   "execution_count": 19,
   "id": "9f49ff89-73d7-4e8f-897f-9c68105b6e61",
   "metadata": {},
   "outputs": [
    {
     "name": "stdout",
     "output_type": "stream",
     "text": [
      "10\n"
     ]
    }
   ],
   "source": [
    "# 리스트 맨 마지막 요소를 반환하고 제거 - 리스트.pop() 리스트 마지막 요소(리스트[-1]을 리스트에서 제거\n",
    "print(numbers.pop()) #반환값을 답으로 출력 #11있는데 한번 또 보내버림,,)"
   ]
  },
  {
   "cell_type": "code",
   "execution_count": 17,
   "id": "9a8afb76-c61d-4c83-9d27-a921e5e1d991",
   "metadata": {},
   "outputs": [
    {
     "name": "stdout",
     "output_type": "stream",
     "text": [
      "2\n"
     ]
    }
   ],
   "source": [
    "#리스트에서 인자와 같은 값의 요소 인덱스 조회->리스트.index(인자)\n",
    "print(numbers.index(0))\n",
    "# 0이 있는 위치가 인덱스 상 몇번째 인지가 답으로 나옴"
   ]
  },
  {
   "cell_type": "code",
   "execution_count": 18,
   "id": "266b0642-2c70-4482-aa5c-e028070b9b07",
   "metadata": {},
   "outputs": [
    {
     "name": "stdout",
     "output_type": "stream",
     "text": [
      "6\n"
     ]
    }
   ],
   "source": [
    "# 리스트에서 인자와 요소가 같은 것을 찾음 리스트.count\n",
    "print(numbers.count(0))\n",
    "# 0을 몇개 가지고 있는가"
   ]
  },
  {
   "cell_type": "code",
   "execution_count": 22,
   "id": "9c718490-f582-40ad-aa60-dd8a8d9f46f8",
   "metadata": {},
   "outputs": [
    {
     "name": "stdout",
     "output_type": "stream",
     "text": [
      "[0, 0, 0, 0, 0, 0, 1, 2, 3, 4, 5, 6, 7, 8, 9]\n"
     ]
    }
   ],
   "source": [
    "# 리스트 요소 정렬(오름차순) 리스트.sort\n",
    "numbers.sort() #vs a= sorted ->앞의 변수가 바뀌지는 않음\n",
    "print(numbers)"
   ]
  },
  {
   "cell_type": "code",
   "execution_count": 23,
   "id": "bd9af28a-3937-4c8a-b612-0aa489020e9a",
   "metadata": {},
   "outputs": [
    {
     "name": "stdout",
     "output_type": "stream",
     "text": [
      "[8, 4, 2, 1, 2, 7]\n"
     ]
    }
   ],
   "source": [
    "# 리스트 요소 반대 정렬 리스트.reverse()\n",
    "reverse_test = [7,2,1,2,4,8]\n",
    "reverse_test.reverse()\n",
    "print(reverse_test)"
   ]
  },
  {
   "cell_type": "code",
   "execution_count": 24,
   "id": "379a7aec-1125-494e-81d7-6cef747c34a7",
   "metadata": {},
   "outputs": [
    {
     "name": "stdout",
     "output_type": "stream",
     "text": [
      "[3, 4, 5, 6, 7]\n",
      "7\n",
      "[3, 4, 5, 6]\n",
      "6\n",
      "5\n",
      "[3, 4]\n"
     ]
    }
   ],
   "source": [
    "# 리스트를 stack처럼 활용하기 후입선출구조(last in first out) 3,4순서로 넣었다면 4,3순서로 뺀다\n",
    "stack = [3,4,5]\n",
    "stack.append(6)\n",
    "stack.append(7)\n",
    "print(stack)\n",
    "print(stack.pop())\n",
    "print(stack)\n",
    "print(stack.pop())\n",
    "print(stack.pop())\n",
    "print(stack)"
   ]
  },
  {
   "cell_type": "code",
   "execution_count": 48,
   "id": "44b102f5-fbe7-41b9-b24a-51d59b35bb8c",
   "metadata": {},
   "outputs": [
    {
     "name": "stdout",
     "output_type": "stream",
     "text": [
      "[]\n"
     ]
    }
   ],
   "source": [
    "# 리스트의 모든 요소를 제거\n",
    "numbers.clear()\n",
    "print(numbers)"
   ]
  },
  {
   "cell_type": "code",
   "execution_count": 28,
   "id": "3e28e39d-adda-4958-998e-51ba1256a2d8",
   "metadata": {},
   "outputs": [],
   "source": [
    "# 시퀀스 - 연속되는 값 / 지정할 경우 인덱싱, 구간의 경우 슬라이싱"
   ]
  }
 ],
 "metadata": {
  "kernelspec": {
   "display_name": "Python 3 (ipykernel)",
   "language": "python",
   "name": "python3"
  },
  "language_info": {
   "codemirror_mode": {
    "name": "ipython",
    "version": 3
   },
   "file_extension": ".py",
   "mimetype": "text/x-python",
   "name": "python",
   "nbconvert_exporter": "python",
   "pygments_lexer": "ipython3",
   "version": "3.9.13"
  }
 },
 "nbformat": 4,
 "nbformat_minor": 5
}
