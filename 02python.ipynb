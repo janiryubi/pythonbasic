{
 "cells": [
  {
   "cell_type": "code",
   "execution_count": 12,
   "id": "2b8bd9a5-f500-46a9-bf23-75dc580b191b",
   "metadata": {},
   "outputs": [],
   "source": [
    "# 주석 사용하기\n",
    "X =1 #여기서 =(등호) 기호는 수학의 같다는 의미와는 다르다.\n",
    "     # ... 우측 변의 리터럴을 좌측 변의 변수에 대입한다는 의미다.\n",
    "    \n",
    "text = \"# 이것은 주석이 아닙니다. 따옴표 안은 문자열 리터럴입니다.\""
   ]
  },
  {
   "cell_type": "code",
   "execution_count": 13,
   "id": "ce3b294e-36b8-429b-9155-c9a9ea76c3fe",
   "metadata": {},
   "outputs": [],
   "source": [
    "#리터럴 -> 숫자, 문자, TRUE, FALSE\n",
    "#변수는 변할 수 있는 값, 메모리 상에만 저장하여 프로그램이 실행되어 있는 동안에만 저장된다.\n",
    "#= -> X=1이라는 건 X에 1을 대입, 할당한다는 의미\n",
    "#몫//나머지% 거듭제곱**제곱근**(1/2)"
   ]
  },
  {
   "cell_type": "code",
   "execution_count": 14,
   "id": "3dd05b3a-3c1f-4df4-b8bb-85a65000d9cd",
   "metadata": {},
   "outputs": [
    {
     "name": "stdout",
     "output_type": "stream",
     "text": [
      "1\n"
     ]
    }
   ],
   "source": [
    "print(X)"
   ]
  },
  {
   "cell_type": "code",
   "execution_count": 16,
   "id": "93ecfc56-d545-4039-a404-cdf565f40c52",
   "metadata": {},
   "outputs": [
    {
     "name": "stdout",
     "output_type": "stream",
     "text": [
      "# 이것은 주석이 아닙니다. 따옴표 안은 문자열 리터럴입니다.\n"
     ]
    }
   ],
   "source": [
    "print(text)"
   ]
  },
  {
   "cell_type": "code",
   "execution_count": 18,
   "id": "994ccf6a-6425-4357-9e95-ac7fcc53399a",
   "metadata": {},
   "outputs": [
    {
     "name": "stdout",
     "output_type": "stream",
     "text": [
      "Hello, world!\n",
      "Hello, World!\n",
      "python programming\n"
     ]
    }
   ],
   "source": [
    "print(\"Hello, world!\")\n",
    "print(\"Hello, World!\")\n",
    "print(\"python programming\")"
   ]
  },
  {
   "cell_type": "code",
   "execution_count": 19,
   "id": "ef1782bf-5e66-4ddf-9f9d-a5ecc6b3da1a",
   "metadata": {},
   "outputs": [
    {
     "name": "stdout",
     "output_type": "stream",
     "text": [
      "Hello, world!\n",
      "Hello, world!\n",
      "python programming\n"
     ]
    }
   ],
   "source": [
    "print(\"Hello, world!\\nHello, world!\\npython programming\")"
   ]
  },
  {
   "cell_type": "code",
   "execution_count": 20,
   "id": "2ed8e423-c42c-4351-8356-fd795b8597bc",
   "metadata": {},
   "outputs": [
    {
     "name": "stdout",
     "output_type": "stream",
     "text": [
      "89\n"
     ]
    }
   ],
   "source": [
    "print(13+(22-3)*4)"
   ]
  },
  {
   "cell_type": "code",
   "execution_count": 21,
   "id": "0ab2c7f0-6c21-4b0e-9b8b-7b0813d2427c",
   "metadata": {},
   "outputs": [
    {
     "data": {
      "text/plain": [
       "28.2"
      ]
     },
     "execution_count": 21,
     "metadata": {},
     "output_type": "execute_result"
    }
   ],
   "source": [
    "13+((22-3)*4)/5"
   ]
  },
  {
   "cell_type": "code",
   "execution_count": 22,
   "id": "a481b698-e4ac-4e3e-bdf7-793b4e35ad02",
   "metadata": {},
   "outputs": [
    {
     "data": {
      "text/plain": [
       "7"
      ]
     },
     "execution_count": 22,
     "metadata": {},
     "output_type": "execute_result"
    }
   ],
   "source": [
    "int(0.2467*12+4.159)"
   ]
  },
  {
   "cell_type": "code",
   "execution_count": 23,
   "id": "c17b4813-6d12-426d-9f1e-3e8f3670b1f6",
   "metadata": {},
   "outputs": [
    {
     "name": "stdout",
     "output_type": "stream",
     "text": [
      "7\n"
     ]
    }
   ],
   "source": [
    "print(int(0.2467*12+4.159))"
   ]
  },
  {
   "cell_type": "code",
   "execution_count": 29,
   "id": "74992108-e708-447f-9b07-1fcaaa13caae",
   "metadata": {},
   "outputs": [
    {
     "name": "stdout",
     "output_type": "stream",
     "text": [
      "가장 시끄러운 층은 = 7 층\n"
     ]
    }
   ],
   "source": [
    "print(\"가장\",\"시끄러운\",\"층은\",\"=\",(int(0.2467*12+4.159)),\"층\")"
   ]
  },
  {
   "cell_type": "code",
   "execution_count": 34,
   "id": "600f1232-1f46-49c6-9ae0-7ce3296ddd7b",
   "metadata": {},
   "outputs": [
    {
     "name": "stdin",
     "output_type": "stream",
     "text": [
      "숫자를 입력하세요: 12\n"
     ]
    },
    {
     "name": "stdout",
     "output_type": "stream",
     "text": [
      "7\n"
     ]
    }
   ],
   "source": [
    "Y = input(\"숫자를 입력하세요:\")\n",
    "U = 0.2467*int(Y) + 4.159\n",
    "print(int(U))"
   ]
  },
  {
   "cell_type": "code",
   "execution_count": 32,
   "id": "979a49b5-b7f4-4bea-ae8d-018562368b29",
   "metadata": {},
   "outputs": [
    {
     "name": "stdout",
     "output_type": "stream",
     "text": [
      "냉장고 가격은 1272000 원 입니다\n"
     ]
    }
   ],
   "source": [
    "print(\"냉장고\",\"가격은\",(int(53000*24)),\"원\",\"입니다\")"
   ]
  },
  {
   "cell_type": "code",
   "execution_count": 35,
   "id": "132772d9-a1b3-477d-8b8a-9d98ce78d4e4",
   "metadata": {},
   "outputs": [
    {
     "name": "stdout",
     "output_type": "stream",
     "text": [
      "냉장고 가격은 1272000 원 입니다\n"
     ]
    }
   ],
   "source": [
    "refrig_price = (53000*24)\n",
    "print(\"냉장고\",\"가격은\",refrig_price,\"원\",\"입니다\")\n",
    "#변수를 A,B로 설정하는 것도 가능하며, 냉장고 가격이기에 Refrig_price로"
   ]
  },
  {
   "cell_type": "code",
   "execution_count": 40,
   "id": "1528de54-6c69-4d49-b481-ae2ed607c4fa",
   "metadata": {},
   "outputs": [
    {
     "name": "stdout",
     "output_type": "stream",
     "text": [
      "총 지불 해야 할 금액은 16500000 원 입니다\n"
     ]
    }
   ],
   "source": [
    "people = 250\n",
    "cost = 20000*3*people\n",
    "tax = cost*0.1\n",
    "total = int(cost+tax)\n",
    "print(\"총 지불 해야 할 금액은\",total,\"원 입니다\")"
   ]
  },
  {
   "cell_type": "code",
   "execution_count": 44,
   "id": "a05f4a41-cda2-4661-8d01-e6115cfb307c",
   "metadata": {},
   "outputs": [
    {
     "name": "stdout",
     "output_type": "stream",
     "text": [
      "총 지불해야 할 금액은 16500000 원 입니다\n"
     ]
    }
   ],
   "source": [
    "people = 250\n",
    "tax = 10/100\n",
    "print(\"총 지불해야 할 금액은\",int(people*20000*3*(1+tax)),\"원 입니다\")"
   ]
  },
  {
   "cell_type": "markdown",
   "id": "d3088f3a-b719-42b5-ba4d-adf55929f999",
   "metadata": {},
   "source": [
    "# 12345e10 =12345의 10승/12345e-3 = 12345*10의-3승\n",
    "# 2진법표기 ->숫자 0,b ob10001->2의4승+2의 0승 17 -> bin(17)\n",
    "# 8진법표기 -> 숫자 0,o 0o21 = 2*8의 1승+1*8 = 24\n",
    "# 16진법 표기 -> 숫자 0와 ,X / 10진수부터 10=a,11-=b,12=c,13=d,15=e"
   ]
  },
  {
   "cell_type": "code",
   "execution_count": 57,
   "id": "3597498e-d0f0-4f6c-9f8a-72a0eaf1aab3",
   "metadata": {},
   "outputs": [
    {
     "name": "stdout",
     "output_type": "stream",
     "text": [
      "453.0\n"
     ]
    }
   ],
   "source": [
    "AP = 380\n",
    "print(float(AP*0.6+225))"
   ]
  },
  {
   "cell_type": "code",
   "execution_count": 8,
   "id": "bc948e8a-a34c-4198-a992-d71ac17214ad",
   "metadata": {},
   "outputs": [
    {
     "name": "stdin",
     "output_type": "stream",
     "text": [
      "숫자: 380\n"
     ]
    },
    {
     "name": "stdout",
     "output_type": "stream",
     "text": [
      "453.0\n"
     ]
    }
   ],
   "source": [
    "AbilityPower = float(input(\"숫자:\"))\n",
    "A = AbilityPower*0.6+225\n",
    "print(A)"
   ]
  },
  {
   "cell_type": "code",
   "execution_count": 62,
   "id": "abaa45d8-03dd-42e3-b4a0-a8df1e76b4a1",
   "metadata": {},
   "outputs": [
    {
     "name": "stdout",
     "output_type": "stream",
     "text": [
      "30\n"
     ]
    }
   ],
   "source": [
    "a  = 10\n",
    "a = a + 20\n",
    "print(a)"
   ]
  },
  {
   "cell_type": "code",
   "execution_count": 63,
   "id": "1821ffa7-3011-4917-aa84-44d7544135a6",
   "metadata": {},
   "outputs": [
    {
     "ename": "NameError",
     "evalue": "name 'a' is not defined",
     "output_type": "error",
     "traceback": [
      "\u001b[1;31m---------------------------------------------------------------------------\u001b[0m",
      "\u001b[1;31mNameError\u001b[0m                                 Traceback (most recent call last)",
      "\u001b[1;32m~\\AppData\\Local\\Temp\\ipykernel_7476\\1497285116.py\u001b[0m in \u001b[0;36m<module>\u001b[1;34m\u001b[0m\n\u001b[0;32m      1\u001b[0m \u001b[1;32mdel\u001b[0m \u001b[0ma\u001b[0m\u001b[1;33m\u001b[0m\u001b[1;33m\u001b[0m\u001b[0m\n\u001b[1;32m----> 2\u001b[1;33m \u001b[0mprint\u001b[0m\u001b[1;33m(\u001b[0m\u001b[0ma\u001b[0m\u001b[1;33m)\u001b[0m\u001b[1;33m\u001b[0m\u001b[1;33m\u001b[0m\u001b[0m\n\u001b[0m",
      "\u001b[1;31mNameError\u001b[0m: name 'a' is not defined"
     ]
    }
   ],
   "source": [
    "del a\n",
    "print(a)"
   ]
  },
  {
   "cell_type": "code",
   "execution_count": 64,
   "id": "f6ce2ca4-f507-4f44-8e2c-e5bd06f961ff",
   "metadata": {},
   "outputs": [
    {
     "name": "stdout",
     "output_type": "stream",
     "text": [
      "10\n"
     ]
    }
   ],
   "source": [
    "a=10\n",
    "a + 20\n",
    "print(a) #10"
   ]
  },
  {
   "cell_type": "code",
   "execution_count": 65,
   "id": "21bd8672-c016-44f8-b90d-3afee795cd39",
   "metadata": {},
   "outputs": [
    {
     "name": "stdout",
     "output_type": "stream",
     "text": [
      "20\n"
     ]
    }
   ],
   "source": [
    "a+=10#a = a+10\n",
    "print(a)"
   ]
  },
  {
   "cell_type": "code",
   "execution_count": 67,
   "id": "2ac27745-15d7-4dc0-bf6f-d8150a2ed4b5",
   "metadata": {},
   "outputs": [
    {
     "ename": "NameError",
     "evalue": "name 'none' is not defined",
     "output_type": "error",
     "traceback": [
      "\u001b[1;31m---------------------------------------------------------------------------\u001b[0m",
      "\u001b[1;31mNameError\u001b[0m                                 Traceback (most recent call last)",
      "\u001b[1;32m~\\AppData\\Local\\Temp\\ipykernel_7476\\1567994283.py\u001b[0m in \u001b[0;36m<module>\u001b[1;34m\u001b[0m\n\u001b[1;32m----> 1\u001b[1;33m \u001b[0ma\u001b[0m \u001b[1;33m=\u001b[0m \u001b[0mnone\u001b[0m\u001b[1;33m\u001b[0m\u001b[1;33m\u001b[0m\u001b[0m\n\u001b[0m\u001b[0;32m      2\u001b[0m \u001b[0mprint\u001b[0m\u001b[1;33m(\u001b[0m\u001b[0ma\u001b[0m\u001b[1;33m)\u001b[0m\u001b[1;33m\u001b[0m\u001b[1;33m\u001b[0m\u001b[0m\n",
      "\u001b[1;31mNameError\u001b[0m: name 'none' is not defined"
     ]
    }
   ],
   "source": [
    "a = none\n",
    "print(a)"
   ]
  },
  {
   "cell_type": "code",
   "execution_count": 1,
   "id": "5fac8dc8-906e-430e-ba92-5c489963e6e7",
   "metadata": {},
   "outputs": [],
   "source": [
    "# Bool type -> 논리 /True - 1 / False - 0 "
   ]
  },
  {
   "cell_type": "code",
   "execution_count": 10,
   "id": "0a1bba58-c286-4c79-83ce-c2482e986de8",
   "metadata": {},
   "outputs": [
    {
     "name": "stdout",
     "output_type": "stream",
     "text": [
      "\"안녕?\"이라는 그 인사를 듣고 나는 '누구지?'라고 생각했다.\n"
     ]
    }
   ],
   "source": [
    "AA = ('\"안녕?\"이라는 그 인사를 듣고 나는 \\'누구지?\\'라고 생각했다.')\n",
    "print(AA)"
   ]
  },
  {
   "cell_type": "code",
   "execution_count": null,
   "id": "f87912a9-63d8-4316-a520-7615741df42d",
   "metadata": {},
   "outputs": [],
   "source": []
  }
 ],
 "metadata": {
  "kernelspec": {
   "display_name": "Python 3 (ipykernel)",
   "language": "python",
   "name": "python3"
  },
  "language_info": {
   "codemirror_mode": {
    "name": "ipython",
    "version": 3
   },
   "file_extension": ".py",
   "mimetype": "text/x-python",
   "name": "python",
   "nbconvert_exporter": "python",
   "pygments_lexer": "ipython3",
   "version": "3.9.13"
  }
 },
 "nbformat": 4,
 "nbformat_minor": 5
}
