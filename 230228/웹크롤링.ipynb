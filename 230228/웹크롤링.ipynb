{
 "cells": [
  {
   "cell_type": "code",
   "execution_count": 1,
   "id": "7d6d8a0b-2247-41a3-984f-8123d1556f7c",
   "metadata": {},
   "outputs": [],
   "source": [
    "#웹크롤링\n",
    "#특정 url과 도메인을 몰라도 할 수 있는 것"
   ]
  },
  {
   "cell_type": "code",
   "execution_count": 2,
   "id": "dc9f8212-db65-478c-866f-15602caa04ce",
   "metadata": {},
   "outputs": [],
   "source": [
    "#웹스크래핑\n",
    "#raw data를 수집하고 검사하는 절차\n",
    "#특정 웹사이트에서 추출하려는 데이터 필드\n",
    "#대상 웹사이트를 알고 특정 페이지 url은 몰라도 도메인은 알고 있다.\n",
    "#json,데이터베이스, xml로 변환하는것이 목적"
   ]
  },
  {
   "cell_type": "code",
   "execution_count": 3,
   "id": "3a12d27c-8b7b-48a2-800d-4dd8cc1f656f",
   "metadata": {},
   "outputs": [
    {
     "data": {
      "text/plain": [
       "True"
      ]
     },
     "execution_count": 3,
     "metadata": {},
     "output_type": "execute_result"
    }
   ],
   "source": [
    "import urllib.robotparser\n",
    "rp = urllib.robotparser.RobotFileParser()\n",
    "rp.set_url(\"https://www.reuters.com/robots.txt\")\n",
    "rp.read()\n",
    "#특정 user-agent가 url에 접근 가능한지 확인\n",
    "rp.can_fetch(useragent=\"*\", url = \"https://reuters.com/sitemap.xml\")"
   ]
  },
  {
   "cell_type": "code",
   "execution_count": 4,
   "id": "22e2922a-8afa-4a74-880f-e04300157600",
   "metadata": {},
   "outputs": [
    {
     "data": {
      "text/plain": [
       "['https://www.reuters.com/arc/outboundfeeds/sitemap-index/?outputType=xml',\n",
       " 'https://www.reuters.com/arc/outboundfeeds/news-sitemap-index/?outputType=xml',\n",
       " 'https://www.reuters.com/sitemap_video_index.xml',\n",
       " 'https://www.reuters.com/brandfeature/sitemap']"
      ]
     },
     "execution_count": 4,
     "metadata": {},
     "output_type": "execute_result"
    }
   ],
   "source": [
    "sitemaps = rp.site_maps() # robots.txt에 있는 SITEMAP에 대한 정보도 파이썬에서 확인\n",
    "sitemaps"
   ]
  },
  {
   "cell_type": "code",
   "execution_count": 5,
   "id": "a547e1af-6475-45ad-a593-8dbdf02c223f",
   "metadata": {},
   "outputs": [
    {
     "name": "stdout",
     "output_type": "stream",
     "text": [
      "Defaulting to user installation because normal site-packages is not writeable\n",
      "Requirement already satisfied: xmltodict in c:\\users\\playdata\\appdata\\roaming\\python\\python39\\site-packages (0.13.0)\n"
     ]
    }
   ],
   "source": [
    "!pip install xmltodict"
   ]
  },
  {
   "cell_type": "code",
   "execution_count": 6,
   "id": "0e44a8bc-7c62-44af-9d4c-19cea7455966",
   "metadata": {},
   "outputs": [],
   "source": [
    "import xmltodict\n",
    "import requests \n",
    "\n",
    "url = sitemaps[0] #sitemap latest articles\n",
    "sitemaps = xmltodict.parse(requests.get(url).text) #str식별가능하게"
   ]
  },
  {
   "cell_type": "code",
   "execution_count": 7,
   "id": "b9ad35a9-c74f-4ba9-8794-ad7fa7967921",
   "metadata": {
    "scrolled": true,
    "tags": []
   },
   "outputs": [
    {
     "data": {
      "text/plain": [
       "{'sitemapindex': {'@xmlns': 'http://www.sitemaps.org/schemas/sitemap/0.9',\n",
       "  'sitemap': [{'loc': 'https://www.reuters.com/arc/outboundfeeds/sitemap/?outputType=xml',\n",
       "    'lastmod': '2023-02-28T08:42:50.749Z'},\n",
       "   {'loc': 'https://www.reuters.com/arc/outboundfeeds/sitemap/?outputType=xml&from=100',\n",
       "    'lastmod': '2023-02-28T08:42:50.749Z'},\n",
       "   {'loc': 'https://www.reuters.com/arc/outboundfeeds/sitemap/?outputType=xml&from=200',\n",
       "    'lastmod': '2023-02-28T08:42:50.749Z'},\n",
       "   {'loc': 'https://www.reuters.com/arc/outboundfeeds/sitemap/?outputType=xml&from=300',\n",
       "    'lastmod': '2023-02-28T08:42:50.749Z'},\n",
       "   {'loc': 'https://www.reuters.com/arc/outboundfeeds/sitemap/?outputType=xml&from=400',\n",
       "    'lastmod': '2023-02-28T08:42:50.749Z'},\n",
       "   {'loc': 'https://www.reuters.com/arc/outboundfeeds/sitemap/?outputType=xml&from=500',\n",
       "    'lastmod': '2023-02-28T08:42:50.749Z'},\n",
       "   {'loc': 'https://www.reuters.com/arc/outboundfeeds/sitemap/?outputType=xml&from=600',\n",
       "    'lastmod': '2023-02-28T08:42:50.749Z'},\n",
       "   {'loc': 'https://www.reuters.com/arc/outboundfeeds/sitemap/?outputType=xml&from=700',\n",
       "    'lastmod': '2023-02-28T08:42:50.749Z'},\n",
       "   {'loc': 'https://www.reuters.com/arc/outboundfeeds/sitemap/?outputType=xml&from=800',\n",
       "    'lastmod': '2023-02-28T08:42:50.749Z'},\n",
       "   {'loc': 'https://www.reuters.com/arc/outboundfeeds/sitemap/?outputType=xml&from=900',\n",
       "    'lastmod': '2023-02-28T08:42:50.749Z'},\n",
       "   {'loc': 'https://www.reuters.com/arc/outboundfeeds/sitemap/?outputType=xml&from=1000',\n",
       "    'lastmod': '2023-02-28T08:42:50.749Z'},\n",
       "   {'loc': 'https://www.reuters.com/arc/outboundfeeds/sitemap/?outputType=xml&from=1100',\n",
       "    'lastmod': '2023-02-28T08:42:50.749Z'},\n",
       "   {'loc': 'https://www.reuters.com/arc/outboundfeeds/sitemap/?outputType=xml&from=1200',\n",
       "    'lastmod': '2023-02-28T08:42:50.749Z'},\n",
       "   {'loc': 'https://www.reuters.com/arc/outboundfeeds/sitemap/?outputType=xml&from=1300',\n",
       "    'lastmod': '2023-02-28T08:42:50.749Z'},\n",
       "   {'loc': 'https://www.reuters.com/arc/outboundfeeds/sitemap/?outputType=xml&from=1400',\n",
       "    'lastmod': '2023-02-28T08:42:50.749Z'},\n",
       "   {'loc': 'https://www.reuters.com/arc/outboundfeeds/sitemap/?outputType=xml&from=1500',\n",
       "    'lastmod': '2023-02-28T08:42:50.749Z'},\n",
       "   {'loc': 'https://www.reuters.com/arc/outboundfeeds/sitemap/?outputType=xml&from=1600',\n",
       "    'lastmod': '2023-02-28T08:42:50.749Z'},\n",
       "   {'loc': 'https://www.reuters.com/arc/outboundfeeds/sitemap/?outputType=xml&from=1700',\n",
       "    'lastmod': '2023-02-28T08:42:50.749Z'},\n",
       "   {'loc': 'https://www.reuters.com/arc/outboundfeeds/sitemap/?outputType=xml&from=1800',\n",
       "    'lastmod': '2023-02-28T08:42:50.749Z'},\n",
       "   {'loc': 'https://www.reuters.com/arc/outboundfeeds/sitemap/?outputType=xml&from=1900',\n",
       "    'lastmod': '2023-02-28T08:42:50.749Z'},\n",
       "   {'loc': 'https://www.reuters.com/arc/outboundfeeds/sitemap/?outputType=xml&from=2000',\n",
       "    'lastmod': '2023-02-28T08:42:50.749Z'},\n",
       "   {'loc': 'https://www.reuters.com/arc/outboundfeeds/sitemap/?outputType=xml&from=2100',\n",
       "    'lastmod': '2023-02-28T08:42:50.749Z'},\n",
       "   {'loc': 'https://www.reuters.com/arc/outboundfeeds/sitemap/?outputType=xml&from=2200',\n",
       "    'lastmod': '2023-02-28T08:42:50.749Z'},\n",
       "   {'loc': 'https://www.reuters.com/arc/outboundfeeds/sitemap/?outputType=xml&from=2300',\n",
       "    'lastmod': '2023-02-28T08:42:50.749Z'},\n",
       "   {'loc': 'https://www.reuters.com/arc/outboundfeeds/sitemap/?outputType=xml&from=2400',\n",
       "    'lastmod': '2023-02-28T08:42:50.749Z'},\n",
       "   {'loc': 'https://www.reuters.com/arc/outboundfeeds/sitemap/?outputType=xml&from=2500',\n",
       "    'lastmod': '2023-02-28T08:42:50.749Z'},\n",
       "   {'loc': 'https://www.reuters.com/arc/outboundfeeds/sitemap/?outputType=xml&from=2600',\n",
       "    'lastmod': '2023-02-28T08:42:50.749Z'},\n",
       "   {'loc': 'https://www.reuters.com/arc/outboundfeeds/sitemap/?outputType=xml&from=2700',\n",
       "    'lastmod': '2023-02-28T08:42:50.749Z'},\n",
       "   {'loc': 'https://www.reuters.com/arc/outboundfeeds/sitemap/?outputType=xml&from=2800',\n",
       "    'lastmod': '2023-02-28T08:42:50.749Z'},\n",
       "   {'loc': 'https://www.reuters.com/arc/outboundfeeds/sitemap/?outputType=xml&from=2900',\n",
       "    'lastmod': '2023-02-28T08:42:50.749Z'},\n",
       "   {'loc': 'https://www.reuters.com/arc/outboundfeeds/sitemap/?outputType=xml&from=3000',\n",
       "    'lastmod': '2023-02-28T08:42:50.749Z'},\n",
       "   {'loc': 'https://www.reuters.com/arc/outboundfeeds/sitemap/?outputType=xml&from=3100',\n",
       "    'lastmod': '2023-02-28T08:42:50.749Z'},\n",
       "   {'loc': 'https://www.reuters.com/arc/outboundfeeds/sitemap/?outputType=xml&from=3200',\n",
       "    'lastmod': '2023-02-28T08:42:50.749Z'},\n",
       "   {'loc': 'https://www.reuters.com/arc/outboundfeeds/sitemap/?outputType=xml&from=3300',\n",
       "    'lastmod': '2023-02-28T08:42:50.749Z'},\n",
       "   {'loc': 'https://www.reuters.com/arc/outboundfeeds/sitemap/?outputType=xml&from=3400',\n",
       "    'lastmod': '2023-02-28T08:42:50.749Z'},\n",
       "   {'loc': 'https://www.reuters.com/arc/outboundfeeds/sitemap/?outputType=xml&from=3500',\n",
       "    'lastmod': '2023-02-28T08:42:50.749Z'},\n",
       "   {'loc': 'https://www.reuters.com/arc/outboundfeeds/sitemap/?outputType=xml&from=3600',\n",
       "    'lastmod': '2023-02-28T08:42:50.749Z'},\n",
       "   {'loc': 'https://www.reuters.com/arc/outboundfeeds/sitemap/?outputType=xml&from=3700',\n",
       "    'lastmod': '2023-02-28T08:42:50.749Z'},\n",
       "   {'loc': 'https://www.reuters.com/arc/outboundfeeds/sitemap/?outputType=xml&from=3800',\n",
       "    'lastmod': '2023-02-28T08:42:50.749Z'},\n",
       "   {'loc': 'https://www.reuters.com/arc/outboundfeeds/sitemap/?outputType=xml&from=3900',\n",
       "    'lastmod': '2023-02-28T08:42:50.749Z'},\n",
       "   {'loc': 'https://www.reuters.com/arc/outboundfeeds/sitemap/?outputType=xml&from=4000',\n",
       "    'lastmod': '2023-02-28T08:42:50.749Z'},\n",
       "   {'loc': 'https://www.reuters.com/arc/outboundfeeds/sitemap/?outputType=xml&from=4100',\n",
       "    'lastmod': '2023-02-28T08:42:50.749Z'},\n",
       "   {'loc': 'https://www.reuters.com/arc/outboundfeeds/sitemap/?outputType=xml&from=4200',\n",
       "    'lastmod': '2023-02-28T08:42:50.749Z'},\n",
       "   {'loc': 'https://www.reuters.com/arc/outboundfeeds/sitemap/?outputType=xml&from=4300',\n",
       "    'lastmod': '2023-02-28T08:42:50.749Z'},\n",
       "   {'loc': 'https://www.reuters.com/arc/outboundfeeds/sitemap/?outputType=xml&from=4400',\n",
       "    'lastmod': '2023-02-28T08:42:50.749Z'},\n",
       "   {'loc': 'https://www.reuters.com/arc/outboundfeeds/sitemap/?outputType=xml&from=4500',\n",
       "    'lastmod': '2023-02-28T08:42:50.749Z'},\n",
       "   {'loc': 'https://www.reuters.com/arc/outboundfeeds/sitemap/?outputType=xml&from=4600',\n",
       "    'lastmod': '2023-02-28T08:42:50.749Z'},\n",
       "   {'loc': 'https://www.reuters.com/arc/outboundfeeds/sitemap/?outputType=xml&from=4700',\n",
       "    'lastmod': '2023-02-28T08:42:50.749Z'},\n",
       "   {'loc': 'https://www.reuters.com/arc/outboundfeeds/sitemap/?outputType=xml&from=4800',\n",
       "    'lastmod': '2023-02-28T08:42:50.749Z'},\n",
       "   {'loc': 'https://www.reuters.com/arc/outboundfeeds/sitemap/?outputType=xml&from=4900',\n",
       "    'lastmod': '2023-02-28T08:42:50.749Z'},\n",
       "   {'loc': 'https://www.reuters.com/arc/outboundfeeds/sitemap/?outputType=xml&from=5000',\n",
       "    'lastmod': '2023-02-28T08:42:50.749Z'},\n",
       "   {'loc': 'https://www.reuters.com/arc/outboundfeeds/sitemap/?outputType=xml&from=5100',\n",
       "    'lastmod': '2023-02-28T08:42:50.749Z'},\n",
       "   {'loc': 'https://www.reuters.com/arc/outboundfeeds/sitemap/?outputType=xml&from=5200',\n",
       "    'lastmod': '2023-02-28T08:42:50.749Z'},\n",
       "   {'loc': 'https://www.reuters.com/arc/outboundfeeds/sitemap/?outputType=xml&from=5300',\n",
       "    'lastmod': '2023-02-28T08:42:50.749Z'},\n",
       "   {'loc': 'https://www.reuters.com/arc/outboundfeeds/sitemap/?outputType=xml&from=5400',\n",
       "    'lastmod': '2023-02-28T08:42:50.749Z'},\n",
       "   {'loc': 'https://www.reuters.com/arc/outboundfeeds/sitemap/?outputType=xml&from=5500',\n",
       "    'lastmod': '2023-02-28T08:42:50.749Z'},\n",
       "   {'loc': 'https://www.reuters.com/arc/outboundfeeds/sitemap/?outputType=xml&from=5600',\n",
       "    'lastmod': '2023-02-28T08:42:50.749Z'},\n",
       "   {'loc': 'https://www.reuters.com/arc/outboundfeeds/sitemap/?outputType=xml&from=5700',\n",
       "    'lastmod': '2023-02-28T08:42:50.749Z'},\n",
       "   {'loc': 'https://www.reuters.com/arc/outboundfeeds/sitemap/?outputType=xml&from=5800',\n",
       "    'lastmod': '2023-02-28T08:42:50.749Z'},\n",
       "   {'loc': 'https://www.reuters.com/arc/outboundfeeds/sitemap/?outputType=xml&from=5900',\n",
       "    'lastmod': '2023-02-28T08:42:50.749Z'},\n",
       "   {'loc': 'https://www.reuters.com/arc/outboundfeeds/sitemap/?outputType=xml&from=6000',\n",
       "    'lastmod': '2023-02-28T08:42:50.749Z'},\n",
       "   {'loc': 'https://www.reuters.com/arc/outboundfeeds/sitemap/?outputType=xml&from=6100',\n",
       "    'lastmod': '2023-02-28T08:42:50.749Z'},\n",
       "   {'loc': 'https://www.reuters.com/arc/outboundfeeds/sitemap/?outputType=xml&from=6200',\n",
       "    'lastmod': '2023-02-28T08:42:50.749Z'},\n",
       "   {'loc': 'https://www.reuters.com/arc/outboundfeeds/sitemap/?outputType=xml&from=6300',\n",
       "    'lastmod': '2023-02-28T08:42:50.749Z'},\n",
       "   {'loc': 'https://www.reuters.com/arc/outboundfeeds/sitemap/?outputType=xml&from=6400',\n",
       "    'lastmod': '2023-02-28T08:42:50.749Z'},\n",
       "   {'loc': 'https://www.reuters.com/arc/outboundfeeds/sitemap/?outputType=xml&from=6500',\n",
       "    'lastmod': '2023-02-28T08:42:50.749Z'},\n",
       "   {'loc': 'https://www.reuters.com/arc/outboundfeeds/sitemap/?outputType=xml&from=6600',\n",
       "    'lastmod': '2023-02-28T08:42:50.749Z'},\n",
       "   {'loc': 'https://www.reuters.com/arc/outboundfeeds/sitemap/?outputType=xml&from=6700',\n",
       "    'lastmod': '2023-02-28T08:42:50.749Z'},\n",
       "   {'loc': 'https://www.reuters.com/arc/outboundfeeds/sitemap/?outputType=xml&from=6800',\n",
       "    'lastmod': '2023-02-28T08:42:50.749Z'},\n",
       "   {'loc': 'https://www.reuters.com/arc/outboundfeeds/sitemap/?outputType=xml&from=6900',\n",
       "    'lastmod': '2023-02-28T08:42:50.749Z'},\n",
       "   {'loc': 'https://www.reuters.com/arc/outboundfeeds/sitemap/?outputType=xml&from=7000',\n",
       "    'lastmod': '2023-02-28T08:42:50.749Z'},\n",
       "   {'loc': 'https://www.reuters.com/arc/outboundfeeds/sitemap/?outputType=xml&from=7100',\n",
       "    'lastmod': '2023-02-28T08:42:50.749Z'},\n",
       "   {'loc': 'https://www.reuters.com/arc/outboundfeeds/sitemap/?outputType=xml&from=7200',\n",
       "    'lastmod': '2023-02-28T08:42:50.749Z'},\n",
       "   {'loc': 'https://www.reuters.com/arc/outboundfeeds/sitemap/?outputType=xml&from=7300',\n",
       "    'lastmod': '2023-02-28T08:42:50.749Z'},\n",
       "   {'loc': 'https://www.reuters.com/arc/outboundfeeds/sitemap/?outputType=xml&from=7400',\n",
       "    'lastmod': '2023-02-28T08:42:50.749Z'},\n",
       "   {'loc': 'https://www.reuters.com/arc/outboundfeeds/sitemap/?outputType=xml&from=7500',\n",
       "    'lastmod': '2023-02-28T08:42:50.749Z'},\n",
       "   {'loc': 'https://www.reuters.com/arc/outboundfeeds/sitemap/?outputType=xml&from=7600',\n",
       "    'lastmod': '2023-02-28T08:42:50.749Z'},\n",
       "   {'loc': 'https://www.reuters.com/arc/outboundfeeds/sitemap/?outputType=xml&from=7700',\n",
       "    'lastmod': '2023-02-28T08:42:50.749Z'},\n",
       "   {'loc': 'https://www.reuters.com/arc/outboundfeeds/sitemap/?outputType=xml&from=7800',\n",
       "    'lastmod': '2023-02-28T08:42:50.749Z'},\n",
       "   {'loc': 'https://www.reuters.com/arc/outboundfeeds/sitemap/?outputType=xml&from=7900',\n",
       "    'lastmod': '2023-02-28T08:42:50.749Z'},\n",
       "   {'loc': 'https://www.reuters.com/arc/outboundfeeds/sitemap/?outputType=xml&from=8000',\n",
       "    'lastmod': '2023-02-28T08:42:50.749Z'},\n",
       "   {'loc': 'https://www.reuters.com/arc/outboundfeeds/sitemap/?outputType=xml&from=8100',\n",
       "    'lastmod': '2023-02-28T08:42:50.749Z'},\n",
       "   {'loc': 'https://www.reuters.com/arc/outboundfeeds/sitemap/?outputType=xml&from=8200',\n",
       "    'lastmod': '2023-02-28T08:42:50.749Z'},\n",
       "   {'loc': 'https://www.reuters.com/arc/outboundfeeds/sitemap/?outputType=xml&from=8300',\n",
       "    'lastmod': '2023-02-28T08:42:50.749Z'},\n",
       "   {'loc': 'https://www.reuters.com/arc/outboundfeeds/sitemap/?outputType=xml&from=8400',\n",
       "    'lastmod': '2023-02-28T08:42:50.749Z'},\n",
       "   {'loc': 'https://www.reuters.com/arc/outboundfeeds/sitemap/?outputType=xml&from=8500',\n",
       "    'lastmod': '2023-02-28T08:42:50.749Z'},\n",
       "   {'loc': 'https://www.reuters.com/arc/outboundfeeds/sitemap/?outputType=xml&from=8600',\n",
       "    'lastmod': '2023-02-28T08:42:50.749Z'},\n",
       "   {'loc': 'https://www.reuters.com/arc/outboundfeeds/sitemap/?outputType=xml&from=8700',\n",
       "    'lastmod': '2023-02-28T08:42:50.749Z'},\n",
       "   {'loc': 'https://www.reuters.com/arc/outboundfeeds/sitemap/?outputType=xml&from=8800',\n",
       "    'lastmod': '2023-02-28T08:42:50.749Z'},\n",
       "   {'loc': 'https://www.reuters.com/arc/outboundfeeds/sitemap/?outputType=xml&from=8900',\n",
       "    'lastmod': '2023-02-28T08:42:50.749Z'},\n",
       "   {'loc': 'https://www.reuters.com/arc/outboundfeeds/sitemap/?outputType=xml&from=9000',\n",
       "    'lastmod': '2023-02-28T08:42:50.749Z'},\n",
       "   {'loc': 'https://www.reuters.com/arc/outboundfeeds/sitemap/?outputType=xml&from=9100',\n",
       "    'lastmod': '2023-02-28T08:42:50.749Z'},\n",
       "   {'loc': 'https://www.reuters.com/arc/outboundfeeds/sitemap/?outputType=xml&from=9200',\n",
       "    'lastmod': '2023-02-28T08:42:50.749Z'},\n",
       "   {'loc': 'https://www.reuters.com/arc/outboundfeeds/sitemap/?outputType=xml&from=9300',\n",
       "    'lastmod': '2023-02-28T08:42:50.749Z'},\n",
       "   {'loc': 'https://www.reuters.com/arc/outboundfeeds/sitemap/?outputType=xml&from=9400',\n",
       "    'lastmod': '2023-02-28T08:42:50.749Z'},\n",
       "   {'loc': 'https://www.reuters.com/arc/outboundfeeds/sitemap/?outputType=xml&from=9500',\n",
       "    'lastmod': '2023-02-28T08:42:50.749Z'}]}}"
      ]
     },
     "execution_count": 7,
     "metadata": {},
     "output_type": "execute_result"
    }
   ],
   "source": [
    "sitemaps"
   ]
  },
  {
   "cell_type": "code",
   "execution_count": 8,
   "id": "98a6eb1c-2faf-4c2c-8c2d-c2193dbe8349",
   "metadata": {},
   "outputs": [
    {
     "name": "stdout",
     "output_type": "stream",
     "text": [
      "96개의 사이트맵 URL이 있습니다.\n"
     ]
    },
    {
     "data": {
      "text/plain": [
       "['https://www.reuters.com/arc/outboundfeeds/sitemap/?outputType=xml',\n",
       " 'https://www.reuters.com/arc/outboundfeeds/sitemap/?outputType=xml&from=100',\n",
       " 'https://www.reuters.com/arc/outboundfeeds/sitemap/?outputType=xml&from=200',\n",
       " 'https://www.reuters.com/arc/outboundfeeds/sitemap/?outputType=xml&from=300',\n",
       " 'https://www.reuters.com/arc/outboundfeeds/sitemap/?outputType=xml&from=400']"
      ]
     },
     "execution_count": 8,
     "metadata": {},
     "output_type": "execute_result"
    }
   ],
   "source": [
    "#sitemap urls확보 #display(sub_siteurl_...)\n",
    "sitemap_urls = [sitemap['loc'] for sitemap in sitemaps['sitemapindex']['sitemap']]\n",
    "# 개수 파악\n",
    "print(f\"{len(sitemap_urls)}개의 사이트맵 URL이 있습니다.\")\n",
    "# 샘플로 앞의 sitemap url 5개만 확인\n",
    "sitemap_urls[:5]"
   ]
  },
  {
   "cell_type": "code",
   "execution_count": 9,
   "id": "b2eba29a-60ba-4c0d-ac62-86ad6d0575cb",
   "metadata": {
    "scrolled": true,
    "tags": []
   },
   "outputs": [
    {
     "data": {
      "text/plain": [
       "['https://www.reuters.com/arc/outboundfeeds/sitemap/?outputType=xml',\n",
       " 'https://www.reuters.com/arc/outboundfeeds/sitemap/?outputType=xml&from=100',\n",
       " 'https://www.reuters.com/arc/outboundfeeds/sitemap/?outputType=xml&from=200',\n",
       " 'https://www.reuters.com/arc/outboundfeeds/sitemap/?outputType=xml&from=300',\n",
       " 'https://www.reuters.com/arc/outboundfeeds/sitemap/?outputType=xml&from=400',\n",
       " 'https://www.reuters.com/arc/outboundfeeds/sitemap/?outputType=xml&from=500',\n",
       " 'https://www.reuters.com/arc/outboundfeeds/sitemap/?outputType=xml&from=600',\n",
       " 'https://www.reuters.com/arc/outboundfeeds/sitemap/?outputType=xml&from=700',\n",
       " 'https://www.reuters.com/arc/outboundfeeds/sitemap/?outputType=xml&from=800',\n",
       " 'https://www.reuters.com/arc/outboundfeeds/sitemap/?outputType=xml&from=900',\n",
       " 'https://www.reuters.com/arc/outboundfeeds/sitemap/?outputType=xml&from=1000',\n",
       " 'https://www.reuters.com/arc/outboundfeeds/sitemap/?outputType=xml&from=1100',\n",
       " 'https://www.reuters.com/arc/outboundfeeds/sitemap/?outputType=xml&from=1200',\n",
       " 'https://www.reuters.com/arc/outboundfeeds/sitemap/?outputType=xml&from=1300',\n",
       " 'https://www.reuters.com/arc/outboundfeeds/sitemap/?outputType=xml&from=1400',\n",
       " 'https://www.reuters.com/arc/outboundfeeds/sitemap/?outputType=xml&from=1500',\n",
       " 'https://www.reuters.com/arc/outboundfeeds/sitemap/?outputType=xml&from=1600',\n",
       " 'https://www.reuters.com/arc/outboundfeeds/sitemap/?outputType=xml&from=1700',\n",
       " 'https://www.reuters.com/arc/outboundfeeds/sitemap/?outputType=xml&from=1800',\n",
       " 'https://www.reuters.com/arc/outboundfeeds/sitemap/?outputType=xml&from=1900',\n",
       " 'https://www.reuters.com/arc/outboundfeeds/sitemap/?outputType=xml&from=2000',\n",
       " 'https://www.reuters.com/arc/outboundfeeds/sitemap/?outputType=xml&from=2100',\n",
       " 'https://www.reuters.com/arc/outboundfeeds/sitemap/?outputType=xml&from=2200',\n",
       " 'https://www.reuters.com/arc/outboundfeeds/sitemap/?outputType=xml&from=2300',\n",
       " 'https://www.reuters.com/arc/outboundfeeds/sitemap/?outputType=xml&from=2400',\n",
       " 'https://www.reuters.com/arc/outboundfeeds/sitemap/?outputType=xml&from=2500',\n",
       " 'https://www.reuters.com/arc/outboundfeeds/sitemap/?outputType=xml&from=2600',\n",
       " 'https://www.reuters.com/arc/outboundfeeds/sitemap/?outputType=xml&from=2700',\n",
       " 'https://www.reuters.com/arc/outboundfeeds/sitemap/?outputType=xml&from=2800',\n",
       " 'https://www.reuters.com/arc/outboundfeeds/sitemap/?outputType=xml&from=2900',\n",
       " 'https://www.reuters.com/arc/outboundfeeds/sitemap/?outputType=xml&from=3000',\n",
       " 'https://www.reuters.com/arc/outboundfeeds/sitemap/?outputType=xml&from=3100',\n",
       " 'https://www.reuters.com/arc/outboundfeeds/sitemap/?outputType=xml&from=3200',\n",
       " 'https://www.reuters.com/arc/outboundfeeds/sitemap/?outputType=xml&from=3300',\n",
       " 'https://www.reuters.com/arc/outboundfeeds/sitemap/?outputType=xml&from=3400',\n",
       " 'https://www.reuters.com/arc/outboundfeeds/sitemap/?outputType=xml&from=3500',\n",
       " 'https://www.reuters.com/arc/outboundfeeds/sitemap/?outputType=xml&from=3600',\n",
       " 'https://www.reuters.com/arc/outboundfeeds/sitemap/?outputType=xml&from=3700',\n",
       " 'https://www.reuters.com/arc/outboundfeeds/sitemap/?outputType=xml&from=3800',\n",
       " 'https://www.reuters.com/arc/outboundfeeds/sitemap/?outputType=xml&from=3900',\n",
       " 'https://www.reuters.com/arc/outboundfeeds/sitemap/?outputType=xml&from=4000',\n",
       " 'https://www.reuters.com/arc/outboundfeeds/sitemap/?outputType=xml&from=4100',\n",
       " 'https://www.reuters.com/arc/outboundfeeds/sitemap/?outputType=xml&from=4200',\n",
       " 'https://www.reuters.com/arc/outboundfeeds/sitemap/?outputType=xml&from=4300',\n",
       " 'https://www.reuters.com/arc/outboundfeeds/sitemap/?outputType=xml&from=4400',\n",
       " 'https://www.reuters.com/arc/outboundfeeds/sitemap/?outputType=xml&from=4500',\n",
       " 'https://www.reuters.com/arc/outboundfeeds/sitemap/?outputType=xml&from=4600',\n",
       " 'https://www.reuters.com/arc/outboundfeeds/sitemap/?outputType=xml&from=4700',\n",
       " 'https://www.reuters.com/arc/outboundfeeds/sitemap/?outputType=xml&from=4800',\n",
       " 'https://www.reuters.com/arc/outboundfeeds/sitemap/?outputType=xml&from=4900',\n",
       " 'https://www.reuters.com/arc/outboundfeeds/sitemap/?outputType=xml&from=5000',\n",
       " 'https://www.reuters.com/arc/outboundfeeds/sitemap/?outputType=xml&from=5100',\n",
       " 'https://www.reuters.com/arc/outboundfeeds/sitemap/?outputType=xml&from=5200',\n",
       " 'https://www.reuters.com/arc/outboundfeeds/sitemap/?outputType=xml&from=5300',\n",
       " 'https://www.reuters.com/arc/outboundfeeds/sitemap/?outputType=xml&from=5400',\n",
       " 'https://www.reuters.com/arc/outboundfeeds/sitemap/?outputType=xml&from=5500',\n",
       " 'https://www.reuters.com/arc/outboundfeeds/sitemap/?outputType=xml&from=5600',\n",
       " 'https://www.reuters.com/arc/outboundfeeds/sitemap/?outputType=xml&from=5700',\n",
       " 'https://www.reuters.com/arc/outboundfeeds/sitemap/?outputType=xml&from=5800',\n",
       " 'https://www.reuters.com/arc/outboundfeeds/sitemap/?outputType=xml&from=5900',\n",
       " 'https://www.reuters.com/arc/outboundfeeds/sitemap/?outputType=xml&from=6000',\n",
       " 'https://www.reuters.com/arc/outboundfeeds/sitemap/?outputType=xml&from=6100',\n",
       " 'https://www.reuters.com/arc/outboundfeeds/sitemap/?outputType=xml&from=6200',\n",
       " 'https://www.reuters.com/arc/outboundfeeds/sitemap/?outputType=xml&from=6300',\n",
       " 'https://www.reuters.com/arc/outboundfeeds/sitemap/?outputType=xml&from=6400',\n",
       " 'https://www.reuters.com/arc/outboundfeeds/sitemap/?outputType=xml&from=6500',\n",
       " 'https://www.reuters.com/arc/outboundfeeds/sitemap/?outputType=xml&from=6600',\n",
       " 'https://www.reuters.com/arc/outboundfeeds/sitemap/?outputType=xml&from=6700',\n",
       " 'https://www.reuters.com/arc/outboundfeeds/sitemap/?outputType=xml&from=6800',\n",
       " 'https://www.reuters.com/arc/outboundfeeds/sitemap/?outputType=xml&from=6900',\n",
       " 'https://www.reuters.com/arc/outboundfeeds/sitemap/?outputType=xml&from=7000',\n",
       " 'https://www.reuters.com/arc/outboundfeeds/sitemap/?outputType=xml&from=7100',\n",
       " 'https://www.reuters.com/arc/outboundfeeds/sitemap/?outputType=xml&from=7200',\n",
       " 'https://www.reuters.com/arc/outboundfeeds/sitemap/?outputType=xml&from=7300',\n",
       " 'https://www.reuters.com/arc/outboundfeeds/sitemap/?outputType=xml&from=7400',\n",
       " 'https://www.reuters.com/arc/outboundfeeds/sitemap/?outputType=xml&from=7500',\n",
       " 'https://www.reuters.com/arc/outboundfeeds/sitemap/?outputType=xml&from=7600',\n",
       " 'https://www.reuters.com/arc/outboundfeeds/sitemap/?outputType=xml&from=7700',\n",
       " 'https://www.reuters.com/arc/outboundfeeds/sitemap/?outputType=xml&from=7800',\n",
       " 'https://www.reuters.com/arc/outboundfeeds/sitemap/?outputType=xml&from=7900',\n",
       " 'https://www.reuters.com/arc/outboundfeeds/sitemap/?outputType=xml&from=8000',\n",
       " 'https://www.reuters.com/arc/outboundfeeds/sitemap/?outputType=xml&from=8100',\n",
       " 'https://www.reuters.com/arc/outboundfeeds/sitemap/?outputType=xml&from=8200',\n",
       " 'https://www.reuters.com/arc/outboundfeeds/sitemap/?outputType=xml&from=8300',\n",
       " 'https://www.reuters.com/arc/outboundfeeds/sitemap/?outputType=xml&from=8400',\n",
       " 'https://www.reuters.com/arc/outboundfeeds/sitemap/?outputType=xml&from=8500',\n",
       " 'https://www.reuters.com/arc/outboundfeeds/sitemap/?outputType=xml&from=8600',\n",
       " 'https://www.reuters.com/arc/outboundfeeds/sitemap/?outputType=xml&from=8700',\n",
       " 'https://www.reuters.com/arc/outboundfeeds/sitemap/?outputType=xml&from=8800',\n",
       " 'https://www.reuters.com/arc/outboundfeeds/sitemap/?outputType=xml&from=8900',\n",
       " 'https://www.reuters.com/arc/outboundfeeds/sitemap/?outputType=xml&from=9000',\n",
       " 'https://www.reuters.com/arc/outboundfeeds/sitemap/?outputType=xml&from=9100',\n",
       " 'https://www.reuters.com/arc/outboundfeeds/sitemap/?outputType=xml&from=9200',\n",
       " 'https://www.reuters.com/arc/outboundfeeds/sitemap/?outputType=xml&from=9300',\n",
       " 'https://www.reuters.com/arc/outboundfeeds/sitemap/?outputType=xml&from=9400',\n",
       " 'https://www.reuters.com/arc/outboundfeeds/sitemap/?outputType=xml&from=9500']"
      ]
     },
     "execution_count": 9,
     "metadata": {},
     "output_type": "execute_result"
    }
   ],
   "source": [
    "import xmltodict as xtd\n",
    "import requests as rq\n",
    "\n",
    "sitemaps = rp.site_maps()\n",
    "url = sitemaps[0]\n",
    "sitemaps = xtd.parse(rq.get(url).text)\n",
    "sitemaps['sitemapindex']['sitemap']\n",
    "site_strings = [sitemaps['sitemapindex']['sitemap'][i]['loc'] for i in range(len(sitemaps['sitemapindex']['sitemap']))]\n",
    "\n",
    "site_strings"
   ]
  },
  {
   "cell_type": "code",
   "execution_count": 10,
   "id": "341476d8-aece-4530-98c4-3c44f9a2bce9",
   "metadata": {
    "scrolled": true,
    "tags": []
   },
   "outputs": [
    {
     "data": {
      "text/plain": [
       "{'urlset': {'@xmlns': 'http://www.sitemaps.org/schemas/sitemap/0.9',\n",
       "  '@xmlns:image': 'http://www.google.com/schemas/sitemap-image/1.1',\n",
       "  'url': [{'loc': 'https://www.reuters.com/business/retail-consumer/uk-grocery-price-inflation-hits-record-171-2023-02-28/',\n",
       "    'lastmod': '2023-02-28T08:41:24.415Z',\n",
       "    'image:image': {'image:loc': 'https://www.reuters.com/resizer/fLuab_cALX28Y8PWwvgiuGo1HQo=/cloudfront-us-east-2.images.arcpublishing.com/reuters/HYA23W52HZLAZLIQNW6EIUMLRI.jpg',\n",
       "     'image:caption': \"A woman shops at a Sainsbury's store in London, Britain December 3, 2015. REUTERS/Neil Hall\"}},\n",
       "   {'loc': 'https://www.reuters.com/markets/asia/pakistan-central-bank-may-hike-rates-another-200-bps-unlock-imf-funds-2023-02-28/',\n",
       "    'lastmod': '2023-02-28T08:38:44.838Z',\n",
       "    'image:image': {'image:loc': 'https://www.reuters.com/resizer/r8zISyQ-O4wuMZVV5_ohrd66gyo=/cloudfront-us-east-2.images.arcpublishing.com/reuters/VMXRUVJFHRJA5EFMSFCY7Q5QCQ.jpg',\n",
       "     'image:caption': 'The logo of the State Bank of Pakistan (SBP) is pictured on a reception desk at the head office in Karachi, Pakistan July 16, 2019. REUTERS/Akhtar Soomro/File Photo'}},\n",
       "   {'loc': 'https://www.reuters.com/world/uk/uks-sunak-belfast-start-selling-his-new-brexit-deal-2023-02-28/',\n",
       "    'lastmod': '2023-02-28T08:37:53.341Z',\n",
       "    'image:image': {'image:loc': 'https://www.reuters.com/resizer/41itpdqfOpghQYpsu9RrFuev_Ec=/cloudfront-us-east-2.images.arcpublishing.com/reuters/TMU4S4XVQ5KIDCSJPXVZQCBK5Q.jpg',\n",
       "     'image:caption': 'British Prime Minister Rishi Sunak delivers a statement on the Northern Ireland Protocol, at the House of Commons in London, Britain, February 27, 2023. UK Parliament/Jessica Taylor/Handout via REUTERS'}},\n",
       "   {'loc': 'https://www.reuters.com/world/uk/ftse-100-falls-open-ocado-sinks-bottom-2023-02-28/',\n",
       "    'lastmod': '2023-02-28T08:37:58.338Z',\n",
       "    'image:image': {'image:loc': 'https://www.reuters.com/resizer/o4JNkrsQMpdamFR2YuNXvdu7Eig=/cloudfront-us-east-2.images.arcpublishing.com/reuters/N6Q2C3EVBZLEHE4TAY53OXKEUM.jpg',\n",
       "     'image:caption': 'The London Stock Exchange Group offices are seen in the City of London, Britain, December 29, 2017. REUTERS/Toby Melville/File Photo'}},\n",
       "   {'loc': 'https://www.reuters.com/world/europe/russian-offensive-eastern-ukraine-focused-bakhmut-2023-02-28/',\n",
       "    'lastmod': '2023-02-28T08:35:15.832Z',\n",
       "    'image:image': {'image:loc': 'https://www.reuters.com/resizer/-L3cAJe3_vEgHdcIkEODMwJdj2c=/cloudfront-us-east-2.images.arcpublishing.com/reuters/O4KWAXBWUJJRDPRIUTCX7VAU3Q.jpg',\n",
       "     'image:caption': \"Ukrainian service members are seen next an infantry fighting vehicle near the frontline town of Bakhmut, amid Russia's attack on Ukraine, in Donetsk region, Ukraine February 25, 2023. REUTERS/Yan Dobronosov\"}},\n",
       "   {'loc': 'https://www.reuters.com/world/europe/migrant-shipwreck-death-toll-up-64-reuters-witnesses-2023-02-28/',\n",
       "    'lastmod': '2023-02-28T08:30:50.626Z',\n",
       "    'image:image': {'image:loc': 'https://www.reuters.com/resizer/Sm4jwPrFXtRLexrHDl6hS5rKG7g=/cloudfront-us-east-2.images.arcpublishing.com/reuters/7MSSSEI5URMSTDFMG24SAWROQQ.jpg',\n",
       "     'image:caption': 'A view of the wreckage of a shipwreck in southern Italy which has left dozens of migrants dead after the boat in which they were travelling smashed onto the rocks, in Cutro, Italy, February 27, 2023. REUTERS/Remo Casilli'}},\n",
       "   {'loc': 'https://www.reuters.com/business/energy/japan-promote-gas-lng-hydrogen-investment-during-g7-presidency-2023-02-28/',\n",
       "    'lastmod': '2023-02-28T08:34:01.215Z',\n",
       "    'image:image': {'image:loc': 'https://www.reuters.com/resizer/oLLK722u-k7rNkmfECprRLWcHNc=/cloudfront-us-east-2.images.arcpublishing.com/reuters/U3TCOHLZBVKH7CBD3THI3KKHYY.jpg',\n",
       "     'image:caption': 'A liquefied natural gas (LNG) tanker is tugged towards a thermal power station in Futtsu, east of Tokyo, Japan November 13, 2017. REUTERS/Issei Kato//File Photo'}},\n",
       "   {'loc': 'https://www.reuters.com/world/india/indias-passenger-vehicle-sales-grow-9-10-2024-crisil-ratings-2023-02-28/',\n",
       "    'lastmod': '2023-02-28T08:39:00.463Z',\n",
       "    'image:image': {'image:loc': 'https://www.reuters.com/resizer/VzvZ66mV63aG4-U2klSkgoW_KfU=/cloudfront-us-east-2.images.arcpublishing.com/reuters/R6YMDFD52BK3FA6SIFRSZZ6V3I.jpg',\n",
       "     'image:caption': 'Vehicles are pictured at a toll post in Mumbai, India, August 13, 2019. REUTERS/Francis Mascarenhas/File Photo'}},\n",
       "   {'loc': 'https://www.reuters.com/world/middle-east/around-40000-syrians-return-turkey-after-quake-2023-02-28/',\n",
       "    'lastmod': '2023-02-28T08:26:59.604Z',\n",
       "    'image:image': {'image:loc': 'https://www.reuters.com/resizer/gNu4GnU_73ENmD3MFfvLYNvj-1E=/cloudfront-us-east-2.images.arcpublishing.com/reuters/VKEOIXMZ7RLGBAPR5KB4C2APXM.jpg',\n",
       "     'image:caption': 'A man walks by a collapsed building and rubble, in the aftermath of a deadly earthquake, in Antakya, Hatay province, Turkey, February 21, 2023. REUTERS/Clodagh Kilcoyne/File Photo/File Photo'}},\n",
       "   {'loc': 'https://www.reuters.com/breakingviews/airtel-would-be-complex-saviour-paytm-2023-02-28/',\n",
       "    'lastmod': '2023-02-28T08:26:31.086Z',\n",
       "    'image:image': {'image:loc': 'https://www.reuters.com/resizer/vn4cdh1Q2Km-1GurcGzOTC-E-8M=/cloudfront-us-east-2.images.arcpublishing.com/reuters/ZQ6A6IVBDJI2JBNAVFM3ZZQN3U.jpg',\n",
       "     'image:caption': \"Gopal Vittal, Bharti Airtel's chief executive for India and South Asia listens to a question during a news conference in New Delhi, India July 10, 2017. REUTERS/Adnan Abidi\"}},\n",
       "   {'loc': 'https://www.reuters.com/world/europe/russias-pulkovo-airport-st-petersburg-temporarily-suspends-all-flights-2023-02-28/',\n",
       "    'lastmod': '2023-02-28T08:29:53.905Z'},\n",
       "   {'loc': 'https://www.reuters.com/markets/europe/spains-inflation-resumes-upward-trend-rises-61-february-2023-02-28/',\n",
       "    'lastmod': '2023-02-28T08:21:12.067Z',\n",
       "    'image:image': {'image:loc': 'https://www.reuters.com/resizer/VMPZf17VoYC1J-Mstu6vtdIEfUM=/cloudfront-us-east-2.images.arcpublishing.com/reuters/UL4PFSDLOFMCXEGXAENIJWI4MQ.jpg',\n",
       "     'image:caption': 'A saleswoman shows a bag to customers in a shoe shop in Ronda, Spain, December 13, 2022. REUTERS/Jon Nazca'}},\n",
       "   {'loc': 'https://www.reuters.com/world/africa/partial-results-disputed-nigeria-election-show-tinubu-lead-2023-02-28/',\n",
       "    'lastmod': '2023-02-28T08:25:13.194Z',\n",
       "    'image:image': {'image:loc': 'https://www.reuters.com/resizer/91XNYZQCbdzHGE7U6XwuHUfrZ_o=/cloudfront-us-east-2.images.arcpublishing.com/reuters/HNSW262YFZIVJHSLUKNSHSQY2Y.jpg',\n",
       "     'image:caption': 'Presidential candidate Bola Ahmed Tinubu casts his ballot at a polling station, in Ikeja, Lagos, Nigeria February 25, 2023 REUTERS/Nengi Nelson.'}},\n",
       "   {'loc': 'https://www.reuters.com/markets/europe/edmond-de-rothschild-expands-presence-dubai-2023-02-28/',\n",
       "    'lastmod': '2023-02-28T08:16:17.377Z',\n",
       "    'image:image': {'image:loc': 'https://www.reuters.com/resizer/vCilmic8RowK2ww66nQPk4f0oRQ=/cloudfront-us-east-2.images.arcpublishing.com/reuters/ZSSEM4RRRJNQBOEXA5JVK6OVQI.jpg',\n",
       "     'image:caption': 'A logo is pictured on the Edmond de Rothschild bank in Geneva, Switzerland, June 21, 2020. REUTERS/Denis Balibouse'}},\n",
       "   {'loc': 'https://www.reuters.com/world/europe/russian-flights-are-turning-back-st-petersburg-flight-radar-website-2023-02-28/',\n",
       "    'lastmod': '2023-02-28T08:15:27.060Z'},\n",
       "   {'loc': 'https://www.reuters.com/technology/apple-supplier-foxlink-unlikely-resume-full-india-operations-two-months-source-2023-02-28/',\n",
       "    'lastmod': '2023-02-28T08:15:13.335Z',\n",
       "    'image:image': {'image:loc': 'https://www.reuters.com/resizer/Qbt5dOxSTAzMejOJTLor7dMVrgc=/cloudfront-us-east-2.images.arcpublishing.com/reuters/WQS7NGFUWVPFZOL4RS2ZP3VBMA.jpg',\n",
       "     'image:caption': 'A view of damaged Apple supplier Foxlink is seen after a fire at its assembly facility in Tirupati district in the southern state of Andhra Pradesh, India, February 28, 2023. REUTERS/Praveen Paramasivam'}},\n",
       "   {'loc': 'https://www.reuters.com/world/uk/northern-irelands-dup-new-deal-does-give-stormont-ability-apply-brake-2023-02-28/',\n",
       "    'lastmod': '2023-02-28T08:12:59.104Z',\n",
       "    'image:image': {'image:loc': 'https://www.reuters.com/resizer/rqFWSFH9rD4H_5O6GKND0x-UwK8=/cloudfront-us-east-2.images.arcpublishing.com/reuters/L3FIQBQFB5MHZNQUQKHXQCPAKM.jpg',\n",
       "     'image:caption': \"A 'no entry' sign is seen near the Stormont Parliament Buildings in Belfast, Northern Ireland June 13, 2022. REUTERS/Clodagh Kilcoyne/File Photo\"}},\n",
       "   {'loc': 'https://www.reuters.com/markets/europe/swiss-economic-growth-flat-q4-exports-manufacturing-drop-2023-02-28/',\n",
       "    'lastmod': '2023-02-28T08:12:07.967Z',\n",
       "    'image:image': {'image:loc': 'https://www.reuters.com/resizer/8W7tGOrK9dBhZ6T1nSi3ZMNOQgY=/cloudfront-us-east-2.images.arcpublishing.com/reuters/2ILQAHWM7BMGZCTV3PZ3GKXTHI.jpg',\n",
       "     'image:caption': 'Shoppers walk along the street after the Swiss government relaxed some of its COVID-19 restrictions, as the spread of the coronavirus disease continues, at the Bahnhofstrasse shopping street in Zurich, Switzerland March 1, 2021. REUTERS/Arnd Wiegmann/File Photo'}},\n",
       "   {'loc': 'https://www.reuters.com/markets/asia/investors-consider-battle-plans-amid-risk-china-taiwan-conflict-2023-02-28/',\n",
       "    'lastmod': '2023-02-28T08:21:59.433Z',\n",
       "    'image:image': {'image:loc': 'https://www.reuters.com/resizer/CfB1qhVFFz51lafZhTm4y3HTt44=/cloudfront-us-east-2.images.arcpublishing.com/reuters/37Y5BZV7YBK4XNFFT76AZGRGKA.jpg',\n",
       "     'image:caption': 'Soldiers march past a sign of the Taiwan flag on Dongyin island of Matsu archipelago in Taiwan August 15, 2022. REUTERS/Ann Wang/File Photo'}},\n",
       "   {'loc': 'https://www.reuters.com/markets/asia/jpmorgan-proposes-new-asia-credit-index-with-lower-china-weighting-sources-2023-02-27/',\n",
       "    'lastmod': '2023-02-28T08:07:11.349Z',\n",
       "    'image:image': {'image:loc': 'https://www.reuters.com/resizer/3qRKcxnr-JwvrLzCokNFTwK2mrY=/cloudfront-us-east-2.images.arcpublishing.com/reuters/QQ42RCVWYJPHLPUC4CGPEIA7F4.jpg',\n",
       "     'image:caption': 'Flags of China and U.S. are displayed on a printed circuit board with semiconductor chips, in this illustration picture taken February 17, 2023. REUTERS/Florence Lo/Illustration/File Photo'}},\n",
       "   {'loc': 'https://www.reuters.com/business/aerospace-defense/norse-atlantic-adds-new-us-destinations-uks-gatwick-demand-surges-2023-02-28/',\n",
       "    'lastmod': '2023-02-28T08:05:39.950Z',\n",
       "    'image:image': {'image:loc': 'https://www.reuters.com/resizer/FnDJOm2UDTZJYJBN2cjdU9m8PRU=/cloudfront-us-east-2.images.arcpublishing.com/reuters/4CKAQHAK5JLIPF5ZOVHS5LJ4NM.jpg',\n",
       "     'image:caption': 'General view of Norse Atlantic Boeing 787 Dreamliner aircraft parked at Oslo (Gardermoen) Airport, Norway March 4, 2022. Picture taken March 4, 2022. REUTERS/Victoria Klesty'}},\n",
       "   {'loc': 'https://www.reuters.com/world/uk/uks-croda-annual-profit-beats-view-healthcare-consumer-care-units-shine-2023-02-28/',\n",
       "    'lastmod': '2023-02-28T07:52:44.933Z'},\n",
       "   {'loc': 'https://www.reuters.com/world/asia-pacific/japans-lower-house-parliament-passes-record-budget-2023-02-28/',\n",
       "    'lastmod': '2023-02-28T07:53:06.728Z',\n",
       "    'image:image': {'image:loc': 'https://www.reuters.com/resizer/V6BacMVwzvK4Y5v9788ebegSWHM=/cloudfront-us-east-2.images.arcpublishing.com/reuters/7NFSHQ2K6VKO3PHHPB76NJ3X3E.jpg',\n",
       "     'image:caption': 'A Japan Yen note is seen in this illustration photo taken June 1, 2017. REUTERS/Thomas White/Illustration'}},\n",
       "   {'loc': 'https://www.reuters.com/world/india/indian-court-orders-jail-two-maiden-executives-shoddy-drugs-2023-02-28/',\n",
       "    'lastmod': '2023-02-28T07:42:52.295Z',\n",
       "    'image:image': {'image:loc': 'https://www.reuters.com/resizer/Vsg4mnXT315YyduqhxfZVsVLyS8=/cloudfront-us-east-2.images.arcpublishing.com/reuters/KJKDLAAC4VIQZA4JEMJXFL7HMM.jpg',\n",
       "     'image:caption': 'Logo of the Maiden Pharmaceuticals Ltd. company is seen on a board outside their office in New Delhi, India, October 6, 2022. REUTERS/Anushree Fadnavis'}},\n",
       "   {'loc': 'https://www.reuters.com/world/uk/uk-home-prices-fall-unlikely-come-crashing-down-2023-02-28/',\n",
       "    'lastmod': '2023-02-28T08:40:31.894Z',\n",
       "    'image:image': {'image:loc': 'https://www.reuters.com/resizer/Kqrjn4YndWCYOgu4ANL2weaaVbQ=/cloudfront-us-east-2.images.arcpublishing.com/reuters/6NMCOF4WCJLP5ATZDUV6MJP4HY.jpg',\n",
       "     'image:caption': 'New residential homes are seen at a housing estate in Aylesbury, Britain, February 7, 2017.  REUTERS/Eddie Keogh/File Photo'}},\n",
       "   {'loc': 'https://www.reuters.com/business/healthcare-pharmaceuticals/grifols-2022-net-profit-up-10-208-mln-euros-plasma-collection-rises-2023-02-28/',\n",
       "    'lastmod': '2023-02-28T08:25:10.023Z',\n",
       "    'image:image': {'image:loc': 'https://www.reuters.com/resizer/qQUNsXpFcWQ1Stfxu6lX5DLhbd8=/cloudfront-us-east-2.images.arcpublishing.com/reuters/FHVUWKVLVVJJJBUTRFHVLTTV7U.jpg',\n",
       "     'image:caption': \"The logo of the Spanish pharmaceuticals company Grifols is pictured on their headquarters' building in Sant Cugat del Valles, near Barcelona, Spain, September 17, 2021. REUTERS/Albert Gea\"}},\n",
       "   {'loc': 'https://www.reuters.com/business/finance/indian-banks-unprepared-cenbanks-esg-push-survey-shows-sources-2023-02-28/',\n",
       "    'lastmod': '2023-02-28T07:40:57.361Z',\n",
       "    'image:image': {'image:loc': 'https://www.reuters.com/resizer/hoz_Ft05N1YUaEi2jEyIXqRsBVY=/cloudfront-us-east-2.images.arcpublishing.com/reuters/NQRJ5FKMNFMXTHKIOSDGFC4SMY.jpg',\n",
       "     'image:caption': 'A Reserve Bank of India (RBI) logo is seen at the gate of its office in New Delhi, India, November 9, 2018. REUTERS/Altaf Hussain/File Photo'}},\n",
       "   {'loc': 'https://www.reuters.com/lifestyle/sports/new-zealands-wagner-keeps-faith-turn-tables-england-2023-02-28/',\n",
       "    'lastmod': '2023-02-28T07:27:28.519Z',\n",
       "    'image:image': {'image:loc': 'https://www.reuters.com/resizer/-ZH2FdH0C0iBUXihbm92R2WJ4Qk=/cloudfront-us-east-2.images.arcpublishing.com/reuters/LJ2CPOCSE5P67MWRWPJSLRQJ6U.jpg',\n",
       "     'image:caption': \"Cricket - New Zealand v England - Second Test - Seddon Park, Hamilton, New Zealand - December 2, 2019   New Zealand's Neil Wagner reacts  REUTERS/Ross Setford\"}},\n",
       "   {'loc': 'https://www.reuters.com/business/retail-consumer/oven-pride-maker-mcbride-expects-h2-profit-steadying-cost-inflation-2023-02-28/',\n",
       "    'lastmod': '2023-02-28T08:31:10.260Z'},\n",
       "   {'loc': 'https://www.reuters.com/business/environment/norway-wind-farm-protesters-block-finance-ministry-2023-02-28/',\n",
       "    'lastmod': '2023-02-28T07:37:16.158Z'},\n",
       "   {'loc': 'https://www.reuters.com/markets/europe/man-group-fy-assets-under-management-fall-2022-2023-02-28/',\n",
       "    'lastmod': '2023-02-28T07:51:32.512Z',\n",
       "    'image:image': {'image:loc': 'https://www.reuters.com/resizer/RiIioamu37j8P2l9ZKUo9EWNiRc=/cloudfront-us-east-2.images.arcpublishing.com/reuters/34FWDO7SUVK2ZPP7OTQU5B6ZQM.jpg',\n",
       "     'image:caption': 'A man passes a sign for fund manager Man Group in London, November 6, 2008.  REUTERS/Luke MacGregor/File Photo'}},\n",
       "   {'loc': 'https://www.reuters.com/world/asia-pacific/rust-belt-province-got-old-before-it-got-rich-much-china-will-2023-02-28/',\n",
       "    'lastmod': '2023-02-28T07:22:56.250Z',\n",
       "    'image:image': {'image:loc': 'https://www.reuters.com/resizer/bplR8ZWjXO2exglqUUz4pExzJZk=/cloudfront-us-east-2.images.arcpublishing.com/reuters/5J6WQOW4YVP47LTIKYAYUH4UAQ.jpg',\n",
       "     'image:caption': 'Farmer Wang Zhanling sits next to his wife in their house in Quansheng village, Heilongjiang Province, China, February 8, 2023. REUTERS/Thomas Peter'}},\n",
       "   {'loc': 'https://www.reuters.com/world/africa/south-african-rand-under-pressure-ahead-raft-economic-data-2023-02-28/',\n",
       "    'lastmod': '2023-02-28T07:22:34.718Z',\n",
       "    'image:image': {'image:loc': 'https://www.reuters.com/resizer/F0Exi-m6f2eYTsTQLPdEnfMiD6Q=/cloudfront-us-east-2.images.arcpublishing.com/reuters/64ZH7HNPQNPYPHJMSDJW55C7GA.jpg',\n",
       "     'image:caption': 'South African bank notes featuring images of former South African President Nelson Mandela (R) are displayed next to the American dollar notes in this photo illustration in Johannesburg, File. REUTERS/Siphiwe Sibeko'}},\n",
       "   {'loc': 'https://www.reuters.com/world/us/florida-gov-desantis-signs-bill-asserting-state-oversight-land-around-walt-2023-02-27/',\n",
       "    'lastmod': '2023-02-28T07:22:03.288Z',\n",
       "    'image:image': {'image:loc': 'https://www.reuters.com/resizer/2ujET3AvPawfpC7uR0-sOjykt6Y=/cloudfront-us-east-2.images.arcpublishing.com/reuters/SWNTVMYIWVLADOEOOPXI5VPF7A.jpg',\n",
       "     'image:caption': 'A Walt Disney World photographer holds a Pride rainbow-coloured Mickey Mouse cutout before the \"Festival of Fantasy\" parade at the Walt Disney World Magic Kingdom theme park in Orlando, Florida, U.S. July 30, 2022.  REUTERS/Octavio Jones'}},\n",
       "   {'loc': 'https://www.reuters.com/world/china/china-foreign-minister-qin-gang-attend-g20-foreign-ministers-meeting-2023-02-28/',\n",
       "    'lastmod': '2023-02-28T07:22:16.370Z',\n",
       "    'image:image': {'image:loc': 'https://www.reuters.com/resizer/qkIgxWZIPYcxRgPTNroeohabmcM=/cloudfront-us-east-2.images.arcpublishing.com/reuters/UU4ZQ4UYJJJ4DMWA3WPKFRJZ6I.jpg',\n",
       "     'image:caption': 'Chinese Foreign Minister Qin Gang attends the \"Lanting Forum\" to deliver a keynote speech in Beijing, China, February 21, 2023. REUTERS/Thomas Peter'}},\n",
       "   {'loc': 'https://www.reuters.com/markets/europe/ocados-annual-loss-swells-501-mln-stg-2023-02-28/',\n",
       "    'lastmod': '2023-02-28T08:13:01.851Z',\n",
       "    'image:image': {'image:loc': 'https://www.reuters.com/resizer/Arsxxa6QVYMyTWaVljjp371d4XU=/cloudfront-us-east-2.images.arcpublishing.com/reuters/TPEC2SGQTNPFBCBCIUC4YQ5KCI.jpg',\n",
       "     'image:caption': 'Delivery vans lined up prior to dispatch at the Ocado CFC (Customer Fulfilment Centre) in Andover, Britain May 1, 2018. REUTERS/Peter Nicholls/File Photo'}},\n",
       "   {'loc': 'https://www.reuters.com/business/retail-consumer/russias-magnit-opens-first-hard-discount-stores-2023-02-28/',\n",
       "    'lastmod': '2023-02-28T07:21:36.139Z',\n",
       "    'image:image': {'image:loc': 'https://www.reuters.com/resizer/Irgxg8iTPyb8YC5hNLdjb6B-h80=/cloudfront-us-east-2.images.arcpublishing.com/reuters/SXHMUTMSPZPXRLLGIS2QF4QBZU.jpg',\n",
       "     'image:caption': 'A man walks near a grocery store owned by Russian retailer Magnit outside Moscow, Russia February 27, 2018. REUTERS/Tatyana Makeyeva/File Photo'}},\n",
       "   {'loc': 'https://www.reuters.com/markets/europe/uks-workspace-names-industry-veteran-duncan-owen-next-chair-2023-02-28/',\n",
       "    'lastmod': '2023-02-28T07:19:20.109Z',\n",
       "    'image:image': {'image:loc': 'https://www.reuters.com/resizer/VRl8xAynbd27bgSyz6meEBIRESQ=/cloudfront-us-east-2.images.arcpublishing.com/reuters/BJ2Y6LJFJJMR3KQ6HK36YIINUQ.jpg',\n",
       "     'image:caption': 'People enter The Frames, an office building owned by Workspace Group Plc, following the outbreak of the coronavirus disease (COVID-19), London, Britain, June 5, 2020.   REUTERS/Simon Newman'}},\n",
       "   {'loc': 'https://www.reuters.com/business/finance/payments-firm-klarnas-operating-loss-shrinks-q4-2023-02-28/',\n",
       "    'lastmod': '2023-02-28T07:42:00.798Z',\n",
       "    'image:image': {'image:loc': 'https://www.reuters.com/resizer/VAKIlAasdKMOSbQDNw1YwndHCQg=/cloudfront-us-east-2.images.arcpublishing.com/reuters/77X56HXQJJOX5JCMWW5J3IBJFA.jpg',\n",
       "     'image:caption': 'A smartphone displays a Klarna logo in this illustration taken January 6, 2020. REUTERS/Dado Ruvic/Illustration'}},\n",
       "   {'loc': 'https://www.reuters.com/lifestyle/sports/atp-roundup-andrey-rublev-avoids-early-upset-dubai-2023-02-28/',\n",
       "    'lastmod': '2023-02-28T08:28:13.859Z',\n",
       "    'image:image': {'image:loc': 'https://www.reuters.com/resizer/zs6T7CmAvT0fpcagcO8seGSH7zI=/cloudfront-us-east-2.images.arcpublishing.com/reuters/RMDNKFUOBRMM5OXYEMOJHXO6KQ.jpg',\n",
       "     'image:caption': 'Tennis - Australian Open - Melbourne Park, Melbourne, Australia - January 25, 2023 Russia’s Andrey Rublev in action during his quarter final match against Serbia’s Novak Djokovic REUTERS/Jaimi Joy'}},\n",
       "   {'loc': 'https://www.reuters.com/business/autos-transportation/audi-will-not-cut-ev-prices-follow-teslas-lead-audi-europe-chief-2023-02-28/',\n",
       "    'lastmod': '2023-02-28T07:13:27.750Z',\n",
       "    'image:image': {'image:loc': 'https://www.reuters.com/resizer/3ck-rB2BWzRLINVI1mYRPBE4F2I=/cloudfront-us-east-2.images.arcpublishing.com/reuters/XKPE7AQGMVLO3PSI37MGYMG2OM.jpg',\n",
       "     'image:caption': 'The Audi logo is seen during the first press day of the Paris auto show, in Paris, France, October 2, 2018. REUTERS/Benoit Tessier'}},\n",
       "   {'loc': 'https://www.reuters.com/markets/europe/abrdn-swings-pretax-loss-markets-turmoil-weighs-2023-02-28/',\n",
       "    'lastmod': '2023-02-28T08:35:23.351Z',\n",
       "    'image:image': {'image:loc': 'https://www.reuters.com/resizer/RuuwsOfwropXQyGRsY1xRJCYNl4=/cloudfront-us-east-2.images.arcpublishing.com/reuters/K63GJYXFKZPB5NRGQRU3PXHXPE.jpg',\n",
       "     'image:caption': 'Businessman toy figure is placed on U.K. Pound coins in front of displayed Abrdn logo in this illustration taken, November 8, 2021. REUTERS/Dado Ruvic/Illustration'}},\n",
       "   {'loc': 'https://www.reuters.com/markets/asia/china-income-spending-per-capita-grow-over-2022-national-bureau-statistics-2023-02-28/',\n",
       "    'lastmod': '2023-02-28T07:44:02.754Z',\n",
       "    'image:image': {'image:loc': 'https://www.reuters.com/resizer/HLOGxQP0TP3j-vzL5mHzXqcDqr0=/cloudfront-us-east-2.images.arcpublishing.com/reuters/JIGF575IKZNENL5HADWUWHFGGA.jpg',\n",
       "     'image:caption': \"A view of the city skyline, ahead of the annual National People's Congress (NPC), in Shanghai, China February 24, 2022. REUTERS/Aly Song\"}},\n",
       "   {'loc': 'https://www.reuters.com/business/finance/spains-santander-raises-three-year-profitability-target-15-17-2023-02-28/',\n",
       "    'lastmod': '2023-02-28T07:22:07.585Z',\n",
       "    'image:image': {'image:loc': 'https://www.reuters.com/resizer/5UTD6-2wCanilVd5-I0xW5PJrR4=/cloudfront-us-east-2.images.arcpublishing.com/reuters/IONPJI5MRJLEXN6CQIXFALHODU.jpg',\n",
       "     'image:caption': \"A Santander company logo is pictured at the company's headquarters in Boadilla del Monte, outside Madrid, Spain, February 2, 2023. REUTERS/Violeta Santos Moura\"}},\n",
       "   {'loc': 'https://www.reuters.com/lifestyle/sports/wta-roundup-alycia-parks-bounced-austin-opener-2023-02-28/',\n",
       "    'lastmod': '2023-02-28T07:03:42.181Z'},\n",
       "   {'loc': 'https://www.reuters.com/markets/deals/insurer-axa-sells-off-most-its-shares-monte-dei-paschi-233-eurosshare-2023-02-28/',\n",
       "    'lastmod': '2023-02-28T07:02:38.044Z',\n",
       "    'image:image': {'image:loc': 'https://www.reuters.com/resizer/Ye2ppXrmEiLoiRDrGJtFskgLN4w=/cloudfront-us-east-2.images.arcpublishing.com/reuters/RGMHCFK4SNNINLVQB3VLJIIXNU.jpg',\n",
       "     'image:caption': 'The entrance of the Monte dei Paschi bank headquarters is seen in Siena, central Italy, January 29, 2016. REUTERS/Max Rossi'}},\n",
       "   {'loc': 'https://www.reuters.com/world/india/india-bans-oil-tankers-bulk-carriers-older-than-25-years-2023-02-28/',\n",
       "    'lastmod': '2023-02-28T08:12:23.933Z'},\n",
       "   {'loc': 'https://www.reuters.com/business/us-labor-department-probes-hearthside-food-solutions-possible-child-labor-2023-02-27/',\n",
       "    'lastmod': '2023-02-28T06:49:28.014Z',\n",
       "    'image:image': {'image:loc': 'https://www.reuters.com/resizer/9iry-aJuc6R9GHdkrXKMuoPCKMQ=/cloudfront-us-east-2.images.arcpublishing.com/reuters/BLI4XGAC5BPLDIGXLDWKRCJWSU.jpg',\n",
       "     'image:caption': 'The United States Department of Labor is seen in Washington, D.C., U.S., August 30, 2020. REUTERS/Andrew Kelly'}},\n",
       "   {'loc': 'https://www.reuters.com/business/energy/bp-ends-70-years-publishing-statistical-review-world-energy-2023-02-28/',\n",
       "    'lastmod': '2023-02-28T06:53:41.200Z',\n",
       "    'image:image': {'image:loc': 'https://www.reuters.com/resizer/k8HU0BQsdv59KW2h-8gQPQlFmfA=/cloudfront-us-east-2.images.arcpublishing.com/reuters/F3KYTU72VZJGTCJTYFVVI2IK74.jpg',\n",
       "     'image:caption': 'The BP logo is seen at a BP gas station in Manhattan, New York City, U.S., November 24, 2021. REUTERS/Andrew Kelly/File Photo'}},\n",
       "   {'loc': 'https://www.reuters.com/markets/swiss-watchdog-concludes-greensill-proceedings-against-credit-suisse-2023-02-28/',\n",
       "    'lastmod': '2023-02-28T07:28:23.471Z',\n",
       "    'image:image': {'image:loc': 'https://www.reuters.com/resizer/m4XM_l5rmrwVRO0dqddOf09bgWA=/cloudfront-us-east-2.images.arcpublishing.com/reuters/AHXUERW7AZLHXBTP26EXWCQYF4.jpg',\n",
       "     'image:caption': \"Switzerland's national flag flies above a logo of Swiss bank Credit Suisse in front of a branch office in Bern, Switzerland November 29, 2022. REUTERS/Arnd Wiegmann/File Photo\"}},\n",
       "   {'loc': 'https://www.reuters.com/business/saudis-sabic-posts-94-drop-q4-net-profit-lower-average-sales-prices-2023-02-28/',\n",
       "    'lastmod': '2023-02-28T08:15:29.680Z',\n",
       "    'image:image': {'image:loc': 'https://www.reuters.com/resizer/5El57-Dg-6xhjqbAQfQgcLZ5QKg=/cloudfront-us-east-2.images.arcpublishing.com/reuters/J5WMPRHQVRKATOUGC5NBEEZBUE.jpg',\n",
       "     'image:caption': 'A man walks past the headquarters of Saudi Basic Industries Corp (SABIC) in Riyadh, Saudi Arabia October 27, 2013. REUTERS/Faisal Al Nasser/File Photo'}},\n",
       "   {'loc': 'https://www.reuters.com/business/retail-consumer/french-retailer-casinos-sales-growth-slows-fourth-quarter-2023-02-28/',\n",
       "    'lastmod': '2023-02-28T08:33:11.476Z',\n",
       "    'image:image': {'image:loc': 'https://www.reuters.com/resizer/CiXxylwMYPCg7O3LnAc2RTU8BXw=/cloudfront-us-east-2.images.arcpublishing.com/reuters/SBNTLDLEJ5KQHNGIITEYPRWKWI.jpg',\n",
       "     'image:caption': 'The logo of Casino supermarket is pictured in Cannes, November 9, 2019.   REUTERS/Eric Gaillard/File Photo'}},\n",
       "   {'loc': 'https://www.reuters.com/business/bayer-sees-lower-2023-operating-profit-cost-inflation-2023-02-28/',\n",
       "    'lastmod': '2023-02-28T08:25:06.216Z',\n",
       "    'image:image': {'image:loc': 'https://www.reuters.com/resizer/M9BROHZfLitS7GYMNzfEU2aFumc=/cloudfront-us-east-2.images.arcpublishing.com/reuters/OGZY7ZAWCVJXJMCTOTEGMB66PA.jpg',\n",
       "     'image:caption': 'Logo of Bayer AG is pictured at the annual results news conference of the German drugmaker in Leverkusen, Germany February 27, 2019. REUTERS/Wolfgang Rattay/File Photo'}},\n",
       "   {'loc': 'https://www.reuters.com/business/finance/oaktree-capital-seeks-raise-10-billion-new-fund-ft-2023-02-28/',\n",
       "    'lastmod': '2023-02-28T06:53:51.869Z',\n",
       "    'image:image': {'image:loc': 'https://www.reuters.com/resizer/5zRamS0u6csGtW5TJ0sqY6WgyZ0=/cloudfront-us-east-2.images.arcpublishing.com/reuters/2OSJ6HHYURLMHMKSUSZGJRYYBE.jpg',\n",
       "     'image:caption': 'A picture illustration shows U.S. 100-dollar bank notes taken in Tokyo August 2, 2011. REUTERS/Yuriko Nakao/File Photo'}},\n",
       "   {'loc': 'https://www.reuters.com/markets/europe/global-markets-view-europe-2023-02-28/',\n",
       "    'lastmod': '2023-02-28T06:30:51.395Z',\n",
       "    'image:image': {'image:loc': 'https://www.reuters.com/resizer/VAhiE2wIqGF42htLlOrAm5QKpbA=/cloudfront-us-east-2.images.arcpublishing.com/reuters/HJX63HRYZNJLJGAQPOSEHQV45M.jpg',\n",
       "     'image:caption': 'The German share price index DAX graph is pictured at the stock exchange in Frankfurt, Germany, February 27, 2023.    REUTERS/Staff'}},\n",
       "   {'loc': 'https://www.reuters.com/business/retail-consumer/home-zara-fast-slow-fashion-collide-2023-02-28/',\n",
       "    'lastmod': '2023-02-28T06:29:10.080Z',\n",
       "    'image:image': {'image:loc': 'https://www.reuters.com/resizer/bJSj22xxE8PlHfv9BLCLGhzVVyw=/cloudfront-us-east-2.images.arcpublishing.com/reuters/E4WVOANN2FJD3GHH354WDLWAJY.jpg',\n",
       "     'image:caption': 'Marian Fernandez, 56, a former employee of Inditex, rearranges clothes at her fashion store Maazi from where she also posts weekly videos on social media on how to build a \"responsible\" wardrobe, in downtown A Coruna, in northern Spain, November 18, 2022. REUTERS/Miguel Vidal'}},\n",
       "   {'loc': 'https://www.reuters.com/lifestyle/sports/england-captain-stokes-has-no-regrets-over-follow-on-2023-02-28/',\n",
       "    'lastmod': '2023-02-28T06:26:54.194Z',\n",
       "    'image:image': {'image:loc': 'https://www.reuters.com/resizer/m7GctcOQu6P4s9HnNdxIuFeioa0=/cloudfront-us-east-2.images.arcpublishing.com/reuters/G6JUG4WIQZLDBNDIT22G33N3X4.jpg',\n",
       "     'image:caption': \"Cricket - Third Test - Pakistan v England - National Stadium Karachi, Pakistan - December 18, 2022. England's captain Ben Stokes plays a shot. REUTERS/Akhtar Soomro\"}},\n",
       "   {'loc': 'https://www.reuters.com/markets/asia/indias-adani-plans-repay-up-790-mln-share-backed-loans-by-march-sources-2023-02-28/',\n",
       "    'lastmod': '2023-02-28T06:21:06.075Z',\n",
       "    'image:image': {'image:loc': 'https://www.reuters.com/resizer/a2doJR0omcTx6uwq9C_jTtZmVJ8=/cloudfront-us-east-2.images.arcpublishing.com/reuters/JH4MQEC6AFO6ZJLJGIKSPW5BVE.jpg',\n",
       "     'image:caption': 'The logo of the Adani Group is seen on one of its buildings in Ahmedabad, India, January  27, 2023. REUTERS/Amit Dave/File Photo'}},\n",
       "   {'loc': 'https://www.reuters.com/lifestyle/sports/smith-says-australia-batsmen-will-ditch-risky-tempo-third-test-2023-02-28/',\n",
       "    'lastmod': '2023-02-28T08:21:01.239Z',\n",
       "    'image:image': {'image:loc': 'https://www.reuters.com/resizer/2cWcgEBQk76fY6y7ykj-u_u8zjk=/cloudfront-us-east-2.images.arcpublishing.com/reuters/OFBMDNLZAVN3DJZMY4NS5SU7OI.jpg',\n",
       "     'image:caption': \"Cricket - Second Test - India v Australia - Arun Jaitley Stadium, New Delhi, India - February 19, 2023 India's Ravichandran Ashwin celebrates with teammates after taking the wicket of Australia's Steve Smith REUTERS/Anushree Fadnavis\"}},\n",
       "   {'loc': 'https://www.reuters.com/technology/cryptoverse-bitcoin-moves-towards-satoshis-payment-dream-2023-02-28/',\n",
       "    'lastmod': '2023-02-28T06:18:49.097Z',\n",
       "    'image:image': {'image:loc': 'https://www.reuters.com/resizer/tCz1y725PqDry9P0Mz8CqLGCD04=/cloudfront-us-east-2.images.arcpublishing.com/reuters/ITNSLRU3KFLP7ABJFCV4MG6BBY.jpg',\n",
       "     'image:caption': 'A representation of the virtual cryptocurrency Bitcoin is seen in this picture illustration taken October 19, 2021. REUTERS/Edgar Su'}},\n",
       "   {'loc': 'https://www.reuters.com/markets/europe/ecb-has-started-win-inflation-fight-lane-says-2023-02-28/',\n",
       "    'lastmod': '2023-02-28T06:14:49.005Z',\n",
       "    'image:image': {'image:loc': 'https://www.reuters.com/resizer/fLeOxFQBPtitJj6Cz5Tr1rM068M=/cloudfront-us-east-2.images.arcpublishing.com/reuters/JP4IDHJM2VIUJM3PEYDOWATVO4.jpg',\n",
       "     'image:caption': 'European Central Bank Chief Economist Philip Lane speaks during a Reuters Newsmaker event in New York, U.S., September 27, 2019. REUTERS/Gary He'}},\n",
       "   {'loc': 'https://www.reuters.com/markets/rates-bonds/banks-pile-into-euro-zone-bond-sales-rates-shoot-up-2023-02-28/',\n",
       "    'lastmod': '2023-02-28T06:11:11.460Z',\n",
       "    'image:image': {'image:loc': 'https://www.reuters.com/resizer/yNnxDeA1oGB9EJ-3P80ArE19kI4=/cloudfront-us-east-2.images.arcpublishing.com/reuters/F2WJJGVKQFNFLCDHTPW3RDC76A.jpg',\n",
       "     'image:caption': 'One Euro coins are seen in this illustration taken November 9, 2021. REUTERS/Dado Ruvic/Illustration'}},\n",
       "   {'loc': 'https://www.reuters.com/business/adecco-sees-signs-hiring-slowdown-start-2023-2023-02-28/',\n",
       "    'lastmod': '2023-02-28T08:10:38.699Z',\n",
       "    'image:image': {'image:loc': 'https://www.reuters.com/resizer/-zq6VgCGaz5afNgMnGDv4zjN7mY=/cloudfront-us-east-2.images.arcpublishing.com/reuters/57UJRAN7QJJTDFWRWN4EWVBYVY.jpg',\n",
       "     'image:caption': 'Adecco logo is seen displayed in this illustration taken, May 3, 2022. REUTERS/Dado Ruvic/Illustration'}},\n",
       "   {'loc': 'https://www.reuters.com/world/us/tennessee-meat-plant-workers-reach-12-mln-settlement-over-2018-raid-2023-02-28/',\n",
       "    'lastmod': '2023-02-28T06:09:05.129Z'},\n",
       "   {'loc': 'https://www.reuters.com/world/asia-pacific/la-nina-wet-weather-system-near-its-end-australian-weather-bureau-2023-02-28/',\n",
       "    'lastmod': '2023-02-28T05:59:14.307Z'},\n",
       "   {'loc': 'https://www.reuters.com/lifestyle/sports/nhl-roundup-connor-mcdavids-49th-50th-goals-cant-stop-bruins-2023-02-28/',\n",
       "    'lastmod': '2023-02-28T06:11:33.361Z',\n",
       "    'image:image': {'image:loc': 'https://www.reuters.com/resizer/fHCPK0_ajqynlni45yWtIjhcwmw=/cloudfront-us-east-2.images.arcpublishing.com/reuters/SMNSY7TZPVOO3HLUA6H7AE6XV4.jpg',\n",
       "     'image:caption': 'Feb 27, 2023; Edmonton, Alberta, CAN; Edmonton Oilers forward Connor McDavid (97) carries the puck around Boston Bruins forward Patrice Bergeron (37) during the third period at Rogers Place. Mandatory Credit: Perry Nelson-USA TODAY Sports'}},\n",
       "   {'loc': 'https://www.reuters.com/lifestyle/sports/new-zealand-skipper-southee-hails-test-win-ages-2023-02-28/',\n",
       "    'lastmod': '2023-02-28T05:45:29.634Z',\n",
       "    'image:image': {'image:loc': 'https://www.reuters.com/resizer/1Xu-k6r9JOoIcaqq8VqVz2C79xw=/cloudfront-us-east-2.images.arcpublishing.com/reuters/DRETUTZGUZN5DE5GYJEOH24YG4.jpg',\n",
       "     'image:caption': \"Cricket - Third Test - England v New Zealand - Yorkshire Cricket Ground, Leeds, Britain - June 24, 2022 New Zealand's Tim Southee celebrates after taking the wicket of England's Joe Root Action Images via Reuters/Lee Smith\"}},\n",
       "   {'loc': 'https://www.reuters.com/world/china/chinas-birth-rate-slumps-political-advisor-urges-egg-freezing-single-women-2023-02-28/',\n",
       "    'lastmod': '2023-02-28T05:51:22.421Z',\n",
       "    'image:image': {'image:loc': 'https://www.reuters.com/resizer/FqT5sRSAXwnb2fo-yUxBqSMyTKU=/cloudfront-us-east-2.images.arcpublishing.com/reuters/ML4HRCXNGZOG5OEHTI5M7XHTE4.jpg',\n",
       "     'image:caption': \"Newborn babies sleep in a ward at a hospital in Hefei, in China's Anhui province. Picture taken April 21, 2011. REUTERS/Stringer/File Photo\"}},\n",
       "   {'loc': 'https://www.reuters.com/lifestyle/sports/tough-see-alcaraz-playing-acapulco-says-coach-2023-02-28/',\n",
       "    'lastmod': '2023-02-28T05:41:09.028Z',\n",
       "    'image:image': {'image:loc': 'https://www.reuters.com/resizer/_G622_nj8nt6znlr4kpB6-egRVM=/cloudfront-us-east-2.images.arcpublishing.com/reuters/QW4XTRBCNBNIRLRUKWGOGE4ELQ.jpg',\n",
       "     'image:caption': \"Tennis - ATP 500 - Rio Open - Jockey Club Brasileiro, Rio De Janeiro, Brazil - February 26, 2023 Spain's Carlos Alcaraz in action during his final match against Britain's Cameron Norrie REUTERS/Sergio Moraes\"}},\n",
       "   {'loc': 'https://www.reuters.com/world/moscow-accuses-us-preparing-toxic-chemicals-provocation-ukraine-2023-02-28/',\n",
       "    'lastmod': '2023-02-28T05:38:59.538Z',\n",
       "    'image:image': {'image:loc': 'https://www.reuters.com/resizer/xeihuhRR_PJZT3Xb64ot2VCHQEc=/cloudfront-us-east-2.images.arcpublishing.com/reuters/5QGRD754TFJOBIB34PHANRPZGI.jpg',\n",
       "     'image:caption': \"Ukrainian servicemen use a searchlight as they search for drones in the sky over the city during a Russian drone strike, amid Russia's attack on Ukraine, in Kyiv, Ukraine February 27, 2023. REUTERS/Gleb Garanich\"}},\n",
       "   {'loc': 'https://www.reuters.com/business/finance/goldman-sachs-seen-unveiling-medium-term-goals-investor-day-2023-02-28/',\n",
       "    'lastmod': '2023-02-28T06:09:25.067Z',\n",
       "    'image:image': {'image:loc': 'https://www.reuters.com/resizer/bylApbDAKzJXU7QIHl1e_Q_6pmU=/cloudfront-us-east-2.images.arcpublishing.com/reuters/SFSAO55F3BNIJFBGBQX2QB34CI.jpg',\n",
       "     'image:caption': 'The logo for Goldman Sachs is seen on the trading floor at the New York Stock Exchange (NYSE) in New York City, New York, U.S., November 17, 2021. REUTERS/Andrew Kelly/File Photo'}},\n",
       "   {'loc': 'https://www.reuters.com/breakingviews/chinas-li-auto-drives-fine-profit-line-2023-02-28/',\n",
       "    'lastmod': '2023-02-28T05:17:36.004Z',\n",
       "    'image:image': {'image:loc': 'https://www.reuters.com/resizer/Giz5TDkgjo476rw1wHyCEYF1lmA=/cloudfront-us-east-2.images.arcpublishing.com/reuters/ASBVTHVFBRCTFI27II32E2JRFI.jpg',\n",
       "     'image:caption': 'Li Xiang, founder and chief executive officer of Chinese electric vehicle (EV) maker Li Auto, speaks at a product launch event in Beijing, China May 25, 2021. Picture taken May 25, 2021. REUTERS/Yilei Sun'}},\n",
       "   {'loc': 'https://www.reuters.com/breakingviews/japan-posts-deal-will-test-interest-rate-optimism-2023-02-28/',\n",
       "    'lastmod': '2023-02-28T05:17:13.462Z',\n",
       "    'image:image': {'image:loc': 'https://www.reuters.com/resizer/JYecAIlXzFaquBiOnvAtx4KC_2w=/cloudfront-us-east-2.images.arcpublishing.com/reuters/7BUCXTMRK5FYHKWCYTA6SAYJQY.jpg',\n",
       "     'image:caption': 'A man walks past a logo of Japan Post Group at its headquarters in Tokyo, Japan, November 2, 2015.   REUTERS/Toru Hanai'}},\n",
       "   {'loc': 'https://www.reuters.com/markets/europe/germany-home-prices-sink-nearly-6-this-year-2023-02-28/',\n",
       "    'lastmod': '2023-02-28T05:16:37.913Z',\n",
       "    'image:image': {'image:loc': 'https://www.reuters.com/resizer/e1LVpNYv4ZPc58T0x23-hDjuLwE=/cloudfront-us-east-2.images.arcpublishing.com/reuters/UAZNEJUCI5J3HBFN44MVXAPXPM.jpg',\n",
       "     'image:caption': 'Facades of apartment buildings are pictured at Mitte district in Berlin, Germany, August 29, 2019.   REUTERS/Axel Schmidt'}},\n",
       "   {'loc': 'https://www.reuters.com/business/autos-transportation/volkswagen-china-chief-visits-xinjiang-plant-sees-no-sign-forced-labour-2023-02-28/',\n",
       "    'lastmod': '2023-02-28T05:04:04.355Z',\n",
       "    'image:image': {'image:loc': 'https://www.reuters.com/resizer/VfFT5lIG7WPYwm5SE7-pttPYGGo=/cloudfront-us-east-2.images.arcpublishing.com/reuters/YMJPFT5G2NJP5IXLEZYGQN72Y4.jpg',\n",
       "     'image:caption': \"Ralf Brandstaetter, CEO of the Volkswagen Passenger Cars brand gestures in front of the revised logo of German carmaker Volkswagen AG during a preview of the world's biggest automaker at the international Frankfurt Motor Show IAA in Frankfurt, Germany September 9, 2019. REUTERS/Wolfgang Rattay\"}},\n",
       "   {'loc': 'https://www.reuters.com/world/europe/ex-kremlins-adviser-soviet-era-dissident-pavlovsky-dies-2023-02-28/',\n",
       "    'lastmod': '2023-02-28T04:54:45.973Z'},\n",
       "   {'loc': 'https://www.reuters.com/lifestyle/sports/brentfords-frank-says-abuse-directed-managers-is-disgrace-2023-02-28/',\n",
       "    'lastmod': '2023-02-28T04:53:20.987Z',\n",
       "    'image:image': {'image:loc': 'https://www.reuters.com/resizer/3wYxJsVzW7h_tQ7TjWybG0PIGR4=/cloudfront-us-east-2.images.arcpublishing.com/reuters/7POZ5JUOX5LFXJZSAFHKCKO7AQ.jpg',\n",
       "     'image:caption': 'Soccer Football - Premier League - Arsenal v Brentford - Emirates Stadium, London, Britain - February 11, 2023 Brentford manager Thomas Frank applauds fans after the match REUTERS/David Klein'}},\n",
       "   {'loc': 'https://www.reuters.com/lifestyle/sports/nba-roundup-hornets-win-again-lose-lamelo-ball-2023-02-28/',\n",
       "    'lastmod': '2023-02-28T04:43:20.848Z',\n",
       "    'image:image': {'image:loc': 'https://www.reuters.com/resizer/1gmKtZ6MJRH5Sii7duaboNQ-qpE=/cloudfront-us-east-2.images.arcpublishing.com/reuters/MYVSQ5IVMJNQJEA4TU4AQKP5TI.jpg',\n",
       "     'image:caption': 'Feb 27, 2023; Charlotte, North Carolina, USA; Detroit Pistons guard Killian Hayes (7) drives in past Charlotte Hornets forward JT Thor (21) during the second half at the Spectrum Center. Mandatory Credit: Sam Sharpe-USA TODAY Sports'}},\n",
       "   {'loc': 'https://www.reuters.com/lifestyle/giorgio-armani-offers-soft-fluid-winter-designs-milan-fashion-week-2023-02-26/',\n",
       "    'lastmod': '2023-02-28T06:24:56.364Z',\n",
       "    'image:image': {'image:loc': 'https://www.reuters.com/resizer/-GguIHUt4VgCNH5QwulsOcMDPFw=/cloudfront-us-east-2.images.arcpublishing.com/reuters/RVRC5XCOOFPRVMQV2RMDTVTSVI.jpg',\n",
       "     'image:caption': 'A model presents a creation from the Giorgio Armani Fall/Winter 2023/2024 collection during Fashion Week in Milan, Italy, February 26, 2023. Giorgio Armani/Handout via REUTERS'}},\n",
       "   {'loc': 'https://www.reuters.com/business/energy/thailands-indorama-ventures-scouts-acquisitions-europe-africa-ceo-2023-02-28/',\n",
       "    'lastmod': '2023-02-28T04:28:48.601Z',\n",
       "    'image:image': {'image:loc': 'https://www.reuters.com/resizer/tgD4XCoMvEFCFaDm8f2dovDc58A=/cloudfront-us-east-2.images.arcpublishing.com/reuters/RSD5KX72ZJPNBF5MPC6F6MAD64.jpg',\n",
       "     'image:caption': \"Thai chemicals company Indorama Ventures logo is seen at the company's headquarters in Bangkok, Thailand August 21, 2019. REUTERS/Chayut Setboonsarng\"}},\n",
       "   {'loc': 'https://www.reuters.com/lifestyle/sports/list-narrowest-victories-by-runs-tests-2023-02-28/',\n",
       "    'lastmod': '2023-02-28T04:18:30.993Z'},\n",
       "   {'loc': 'https://www.reuters.com/business/media-telecom/reuters-reporters-online-accounts-faked-approach-china-activists-2023-02-28/',\n",
       "    'lastmod': '2023-02-28T04:18:48.700Z',\n",
       "    'image:image': {'image:loc': 'https://www.reuters.com/resizer/rQ_SNNkHcThg-rihikiWxO_sepM=/cloudfront-us-east-2.images.arcpublishing.com/reuters/ESNE3UWDZJORJFH4ICHSXPY5PI.jpg',\n",
       "     'image:caption': 'The Chinese flag is seen across the Victoria Harbour during sunset, in Hong Kong, China October 12, 2022. REUTERS/Tyrone Siu/File Photo'}},\n",
       "   {'loc': 'https://www.reuters.com/world/us/us-needs-learn-all-black-history-biden-says-some-republicans-push-curbs-2023-02-27/',\n",
       "    'lastmod': '2023-02-28T04:10:43.881Z',\n",
       "    'image:image': {'image:loc': 'https://www.reuters.com/resizer/8w97fKeAhgDpawWl4Vs6t_0KhCA=/cloudfront-us-east-2.images.arcpublishing.com/reuters/6I4EBHWVSBJKLFQC7XHCFGUOYI.jpg',\n",
       "     'image:caption': 'FILE PHOTO:U.S. President Joe Biden speaks to the media before departing the White House in Washington, U.S., February 24, 2023. REUTERS/Evelyn Hockstein'}},\n",
       "   {'loc': 'https://www.reuters.com/lifestyle/sports/list-teams-that-won-test-after-follow-on-2023-02-28/',\n",
       "    'lastmod': '2023-02-28T04:04:50.289Z'},\n",
       "   {'loc': 'https://www.reuters.com/world/blinken-hold-talks-with-central-asian-nations-wake-ukraine-anniversary-2023-02-28/',\n",
       "    'lastmod': '2023-02-28T07:46:33.368Z',\n",
       "    'image:image': {'image:loc': 'https://www.reuters.com/resizer/fRQPVQ7c6aHjuc-SmdYzGQ9modo=/cloudfront-us-east-2.images.arcpublishing.com/reuters/YGNP5KFKNFKAFH5T52TJNQMHKM.jpg',\n",
       "     'image:caption': 'Delegations, led by Kazakh President Kassym-Jomart Tokayev and U.S. Secretary of State Antony Blinken, hold talks in Astana, Kazakhstan, February 28, 2023. Olivier Douliery/Pool via REUTERS'}},\n",
       "   {'loc': 'https://www.reuters.com/lifestyle/sports/wimbledon-offers-best-chance-deep-run-grand-slam-murray-2023-02-28/',\n",
       "    'lastmod': '2023-02-28T03:32:05.429Z',\n",
       "    'image:image': {'image:loc': 'https://www.reuters.com/resizer/Mxpe79Tu42rVuVpNyHuTuoSeOcA=/cloudfront-us-east-2.images.arcpublishing.com/reuters/EM53YI4UFBP6FPCP4KG2SK4XNU.jpg',\n",
       "     'image:caption': \"Tennis - Australian Open - Melbourne Park, Melbourne, Australia - January 20, 2023 Britain's Andy Murray reacts during his second round match against Australia's Thanasi Kokkinakis REUTERS/Hannah Mckay\"}},\n",
       "   {'loc': 'https://www.reuters.com/lifestyle/sports/new-zealand-beat-england-by-one-run-second-test-level-series-1-1-2023-02-28/',\n",
       "    'lastmod': '2023-02-28T07:53:21.964Z',\n",
       "    'image:image': {'image:loc': 'https://www.reuters.com/resizer/otM2grxDkTIAA-Uy6weEWT7etkQ=/cloudfront-us-east-2.images.arcpublishing.com/reuters/5FAW4GGXYJL6RFQLAA3EMXT5NM.jpg',\n",
       "     'image:caption': \"Cricket - ICC World Test Championship Final - India v New Zealand - Rose Bowl, Southampton, Britain - June 23, 2021 New Zealand's Neil Wagner Action Images via Reuters/John Sibley\"}},\n",
       "   {'loc': 'https://www.reuters.com/business/finance/australias-regulator-sues-mercer-pension-fund-first-greenwashing-case-2023-02-28/',\n",
       "    'lastmod': '2023-02-28T03:23:11.990Z'},\n",
       "   {'loc': 'https://www.reuters.com/technology/rapidus-picks-northern-japans-chitose-semiconductor-plant-location-2023-02-28/',\n",
       "    'lastmod': '2023-02-28T06:37:46.630Z',\n",
       "    'image:image': {'image:loc': 'https://www.reuters.com/resizer/euHkWKJYja1E7iTj1beX9q3Y5RQ=/cloudfront-us-east-2.images.arcpublishing.com/reuters/3772FTGBHVNKDEK3WPTMF6CIRI.jpg',\n",
       "     'image:caption': 'The logo of Rapidus Corp. is displayed at the company headquarters in Tokyo, Japan February 2, 2023.  REUTERS/Issei Kato'}},\n",
       "   {'loc': 'https://www.reuters.com/lifestyle/sports/spring-training-roundup-emmanuel-rivera-d-backs-walk-off-cubs-2023-02-28/',\n",
       "    'lastmod': '2023-02-28T02:56:17.558Z',\n",
       "    'image:image': {'image:loc': 'https://www.reuters.com/resizer/LdRDnxn7I06I9J3buHlikDIgTJk=/cloudfront-us-east-2.images.arcpublishing.com/reuters/6LXPZ2QGOBJOBN4GBSII6H6GH4.jpg',\n",
       "     'image:caption': 'Feb 27, 2023; Salt River Pima-Maricopa, Arizona, USA;   Arizona Diamondbacks right fielder Dominic Canzone (80) makes a play off a ball hit by Arizona Diamondbacks second baseman Ketel Marte (4) in the fifth inning of a spring training game at Salt River Fields at Talking Stick. Mandatory Credit: Jayne Kamin-Oncea-USA TODAY Sports'}},\n",
       "   {'loc': 'https://www.reuters.com/markets/australia-limit-tax-breaks-multi-million-dollar-retirement-savings-2023-02-28/',\n",
       "    'lastmod': '2023-02-28T02:46:38.412Z',\n",
       "    'image:image': {'image:loc': 'https://www.reuters.com/resizer/AdBKaqluM2GTfcisxfJYOqRVVuI=/cloudfront-us-east-2.images.arcpublishing.com/reuters/EWBP6T5FERM4PIFVMMC465J6RE.jpg',\n",
       "     'image:caption': 'A view of the city skyline of Brisbane, the city expected to be announced as host for the 2032 Olympic Games, in Brisbane, Australia, July 4, 2021.   REUTERS/Jaimi Joy'}},\n",
       "   {'loc': 'https://www.reuters.com/world/us/us-marshals-service-suffers-major-security-breach-nbc-news-2023-02-28/',\n",
       "    'lastmod': '2023-02-28T03:14:37.593Z',\n",
       "    'image:image': {'image:loc': 'https://www.reuters.com/resizer/7aTwIeD6PHvlzjcoXts6fpP5Hi4=/cloudfront-us-east-2.images.arcpublishing.com/reuters/ZEYY7T3MDJM2DAVSKDORGP4ZFQ.jpg',\n",
       "     'image:caption': '3D printed models of people working on computers and padlock are seen in front of a displayed CYBER SECURITY words and binary code in this picture illustration taken, February 1, 2022. REUTERS/Dado Ruvic/Illustration'}},\n",
       "   {'loc': 'https://www.reuters.com/world/india/indian-shares-set-muted-start-us-rate-fears-ahead-domestic-gdp-data-2023-02-28/',\n",
       "    'lastmod': '2023-02-28T05:39:37.404Z',\n",
       "    'image:image': {'image:loc': 'https://www.reuters.com/resizer/bq3alU57K0DoBd4kxpvlXgnFdA4=/cloudfront-us-east-2.images.arcpublishing.com/reuters/YJCTHIAP5FJLTNY7AMAT4YWIX4.jpg',\n",
       "     'image:caption': 'A bird flies past the Bombay Stock Exchange (BSE) building in Mumbai, India, January 31, 2020. REUTERS/Francis Mascarenhas/File Photo'}},\n",
       "   {'loc': 'https://www.reuters.com/markets/global-markets-wrapup-1-2023-02-28/',\n",
       "    'lastmod': '2023-02-28T06:35:48.188Z',\n",
       "    'image:image': {'image:loc': 'https://www.reuters.com/resizer/OJa4mLXO3shQkPtfQehgD0pFHt4=/cloudfront-us-east-2.images.arcpublishing.com/reuters/2264NPC2YRKKVDQI4NXRZLUJPE.jpg',\n",
       "     'image:caption': \"Silhouettes of passerby are seen as they stand in front of an electric monitor displaying Japan's Nikkei share average and world stock indexes outside a brokerage in Tokyo, Japan, October 21, 2022  REUTERS/Issei Kato/File Photo\"}},\n",
       "   {'loc': 'https://www.reuters.com/business/sustainable-business/women-make-up-40-boards-top-uk-companies-first-time-2023-02-28/',\n",
       "    'lastmod': '2023-02-28T02:16:50.503Z',\n",
       "    'image:image': {'image:loc': 'https://www.reuters.com/resizer/y7vXQJWaQnOSoY4RkYof8khxog8=/cloudfront-us-east-2.images.arcpublishing.com/reuters/AERFVQZFCVKNTFUX73UNXFH4NE.jpg',\n",
       "     'image:caption': 'British Secretary of State for Trade and Industry Kemi Badenoch, walks outside Number 10 Downing Street, in London, Britain February 7, 2023. REUTERS/Toby Melville/File Photo'}},\n",
       "   {'loc': 'https://www.reuters.com/markets/asia/vietnams-factory-output-rises-february-exports-up-11-2023-02-28/',\n",
       "    'lastmod': '2023-02-28T03:47:16.816Z',\n",
       "    'image:image': {'image:loc': 'https://www.reuters.com/resizer/h1I3ZzDAFhYnyvB35HHY1-5BfjI=/cloudfront-us-east-2.images.arcpublishing.com/reuters/3GLJ26OXXFIILA66Z5Z7DACBRE.jpg',\n",
       "     'image:caption': 'Shipping containers are seen at a port in Hai Phong city, Vietnam July 12, 2018. REUTERS/Kham/File Photo'}},\n",
       "   {'loc': 'https://www.reuters.com/legal/litigation/ny-lawyer-sued-quiet-quitting-strikes-back-with-race-bias-lawsuit-2023-02-27/',\n",
       "    'lastmod': '2023-02-28T02:09:16.105Z',\n",
       "    'image:image': {'image:loc': 'https://www.reuters.com/resizer/-_hLDMg5GQ-fKOg7S4DyEzNktms=/cloudfront-us-east-2.images.arcpublishing.com/reuters/XKYBJDQ2YFLYZMFZYWBLG3NV5Q.jpg',\n",
       "     'image:caption': 'A woman is seen in silhouette as she walks at Fiumicino Airport, as Italy eases movement between regions, while the country unwinds its rigid lockdown due to the coronavirus disease (COVID-19) outbreak, in Rome, Italy June 3, 2020. REUTERS/Yara Nardi'}},\n",
       "   {'loc': 'https://www.reuters.com/business/energy/oil-steadies-after-fall-fear-rate-hikes-rising-inventories-2023-02-28/',\n",
       "    'lastmod': '2023-02-28T07:27:20.465Z',\n",
       "    'image:image': {'image:loc': 'https://www.reuters.com/resizer/Q6Cs4Hv6DaBWnWS6NBUcDga6xds=/cloudfront-us-east-2.images.arcpublishing.com/reuters/MYDUMURCC5IS7ETURJCXYNEG2A.jpg',\n",
       "     'image:caption': 'A view shows tankers in Nakhodka Bay near the crude oil terminal Kozmino outside the port city of Nakhodka, Russia June 13, 2022. REUTERS/Tatiana Meel'}},\n",
       "   {'loc': 'https://www.reuters.com/business/aerospace-defense/bae-systems-australia-unveils-first-homegrown-military-drone-2023-02-28/',\n",
       "    'lastmod': '2023-02-28T02:46:17.944Z',\n",
       "    'image:image': {'image:loc': 'https://www.reuters.com/resizer/W1kKc75poYB531eV0K65g78uNkA=/cloudfront-us-east-2.images.arcpublishing.com/reuters/ACCL5GPQFRMWXMOI47VUAG4JTU.jpg',\n",
       "     'image:caption': 'People take a look at a model of STRIX drone by BAE Systems Australia, at the Australian International Airshow, in Avalon, Australia February 28, 2023. REUTERS/Jamie Freed'}},\n",
       "   {'loc': 'https://www.reuters.com/world/us/us-awards-nearly-1-billion-airports-infrastructure-grants-2023-02-27/',\n",
       "    'lastmod': '2023-02-28T02:03:02.064Z',\n",
       "    'image:image': {'image:loc': 'https://www.reuters.com/resizer/4eVyx8zfntN-91rIQLObhKk5Azw=/cloudfront-us-east-2.images.arcpublishing.com/reuters/ZJ4OQHCDVFLLVL3R2GD4QVSXKI.jpg',\n",
       "     'image:caption': 'A woman walks on a travelator as travel has cutback amid concerns of the coronavirus disease (COVID-19), at Salt Lake City International Airport in Salt Lake City, Utah, U.S. April 14, 2020. REUTERS/Jim Urquhart'}}]}}"
      ]
     },
     "execution_count": 10,
     "metadata": {},
     "output_type": "execute_result"
    }
   ],
   "source": [
    "response =  requests.get(site_strings[0])\n",
    "news_dict = xmltodict.parse(response.text)\n",
    "news_dict "
   ]
  },
  {
   "cell_type": "code",
   "execution_count": 11,
   "id": "c0a4fb53-6c67-4cbc-8f9c-3a993baadefe",
   "metadata": {},
   "outputs": [
    {
     "name": "stdout",
     "output_type": "stream",
     "text": [
      "100개의 사이트맵 URL이 있습니다.\n",
      "100개의 사이트맵 URL이 있습니다.\n"
     ]
    },
    {
     "data": {
      "text/plain": [
       "['https://www.reuters.com/business/retail-consumer/uk-grocery-price-inflation-hits-record-171-2023-02-28/',\n",
       " 'https://www.reuters.com/markets/asia/pakistan-central-bank-may-hike-rates-another-200-bps-unlock-imf-funds-2023-02-28/',\n",
       " 'https://www.reuters.com/world/uk/uks-sunak-belfast-start-selling-his-new-brexit-deal-2023-02-28/',\n",
       " 'https://www.reuters.com/world/uk/ftse-100-falls-open-ocado-sinks-bottom-2023-02-28/',\n",
       " 'https://www.reuters.com/world/europe/russian-offensive-eastern-ukraine-focused-bakhmut-2023-02-28/']"
      ]
     },
     "execution_count": 11,
     "metadata": {},
     "output_type": "execute_result"
    }
   ],
   "source": [
    "#urlset urls확보 \n",
    "news_urls = [i['loc'] for i in news_dict['urlset']['url']]\n",
    "# 개수 파악\n",
    "print(f\"{len(news_urls)}개의 사이트맵 URL이 있습니다.\")\n",
    "# 샘플로 앞의 news_url 5개만 확인\n",
    "news_urls[:5]\n",
    "\n",
    "#urlset urls확보 \n",
    "news_urls = [url['loc'] for url in news_dict['urlset']['url']]\n",
    "# 개수 파악\n",
    "print(f\"{len(news_urls)}개의 사이트맵 URL이 있습니다.\")\n",
    "# 샘플로 앞의 news_url 5개만 확인\n",
    "news_urls[:5]"
   ]
  },
  {
   "cell_type": "code",
   "execution_count": 12,
   "id": "31063652-c6ab-44f1-adf3-dbf596086c61",
   "metadata": {},
   "outputs": [],
   "source": [
    "#URL을 활용하여 데이터 다운로드하기"
   ]
  },
  {
   "cell_type": "code",
   "execution_count": 13,
   "id": "64184e1a-9715-49bf-87d2-8ae684ad19db",
   "metadata": {},
   "outputs": [
    {
     "name": "stdout",
     "output_type": "stream",
     "text": [
      "Wall time: 620 ms\n"
     ]
    }
   ],
   "source": [
    "%%time\n",
    "#session 추상화\n",
    "session = requests.session()\n",
    "\n",
    "# 앞의 5개 링크만 불러온다.\n",
    "for url in news_urls[:5]:\n",
    "    file = url.split(\"/\")[-2] + '.html'\n",
    "    \n",
    "    response = session.get(url)\n",
    "    if response.ok:\n",
    "        with open(\"datas/\"+file, \"w+b\") as f:\n",
    "            f.write(response.text.encode(\"utf-8\"))\n",
    "    else:\n",
    "        print(f\"error with URL : {url}\")"
   ]
  },
  {
   "cell_type": "code",
   "execution_count": 14,
   "id": "d3cf7586-a6d2-4f94-9d1a-fcb94c80b875",
   "metadata": {},
   "outputs": [],
   "source": [
    "#파일사용하기\n",
    "#파일을 생성하고 거기에 원하는 문자열을 저장하는 방법\n",
    "#파일을 작성하기 위해선 open() 함수를 활용\n",
    "#이 함수는 반환 값으로 파일 객체를 줌 \n",
    "#파일에 문자열을 쓸 때는 write() 메서드를 활용\n",
    "#argument로 작성할 내용을 써줌\n",
    "#파일 쓰기가 끝났다면 파일에 대한 연결을 닫아줘야 함\n",
    "\n",
    "# filename.txt 파일을 쓰기 모드(w)로 열기\n",
    "# open() 함수는 파일 객체 반환\n",
    "file = open('filename.txt', 'w')\n",
    "# 파일 객체의 write() 메서드를 통해 문자열을 파일에 작성 가능\n",
    "file.write(\"파일에 작성할 문자열\")\n",
    "# 파일에 대한 처리가 끝났다면 반드시 파일 객체를 닫아줘야 한다.\n",
    "file.close()"
   ]
  },
  {
   "cell_type": "code",
   "execution_count": 15,
   "id": "c2b91b4c-6c95-4242-b5ac-bd972d9f5846",
   "metadata": {},
   "outputs": [],
   "source": [
    "# close에 대한 처리 없이 간편히 쓰려면 with 활용\n",
    "# 아래 코드는 이전에 작성했던 것과 동일한 동작 수행\n",
    "with open('filename.txt', 'w') as file:\n",
    "    file.write(\"파일에 작성할 문자열\") #파일에 있는 내용 #white덮어쓰기"
   ]
  },
  {
   "cell_type": "code",
   "execution_count": 16,
   "id": "a2152ed8-f001-4f0c-904b-b175d1c82622",
   "metadata": {},
   "outputs": [
    {
     "name": "stdout",
     "output_type": "stream",
     "text": [
      "파일에 작성할 문자열\n"
     ]
    }
   ],
   "source": [
    "# 파일 읽기(r)\n",
    "with open('filename.txt', 'r') as file:\n",
    "    print(file.read())"
   ]
  },
  {
   "cell_type": "code",
   "execution_count": 17,
   "id": "ca41cec7-0007-4b90-896d-ac1fae1b76e9",
   "metadata": {},
   "outputs": [],
   "source": [
    "#r 시작 / w새로 덮어쓰기/a뒤에 붙이기\n",
    "#강의 파일의 모드표는 x표가 가능한 것"
   ]
  },
  {
   "cell_type": "code",
   "execution_count": 18,
   "id": "a1b6c2b2-c37a-41c6-b965-edb73a91d26a",
   "metadata": {},
   "outputs": [
    {
     "data": {
      "text/plain": [
       "['./datas/bayer-sees-lower-2023-operating-profit-cost-inflation-2023-02-28.html',\n",
       " './datas/england-captain-stokes-has-no-regrets-over-follow-on-2023-02-28.html',\n",
       " './datas/ftse-100-falls-open-ocado-sinks-bottom-2023-02-28.html',\n",
       " './datas/global-markets-view-europe-2023-02-28.html',\n",
       " './datas/home-zara-fast-slow-fashion-collide-2023-02-28.html',\n",
       " './datas/oaktree-capital-seeks-raise-10-billion-new-fund-ft-2023-02-28.html',\n",
       " './datas/pakistan-central-bank-may-hike-rates-another-200-bps-unlock-imf-funds-2023-02-28.html',\n",
       " './datas/russian-offensive-eastern-ukraine-focused-bakhmut-2023-02-28.html',\n",
       " './datas/uk-grocery-price-inflation-hits-record-171-2023-02-28.html',\n",
       " './datas/uks-sunak-belfast-start-selling-his-new-brexit-deal-2023-02-28.html']"
      ]
     },
     "execution_count": 18,
     "metadata": {},
     "output_type": "execute_result"
    }
   ],
   "source": [
    "#os 패키지의 listdir() 메서드를 활용하면 arguments로 전달된 path 안의 파일 목록을 가져옴\n",
    "# 파일 이름 가져오기\n",
    "import os\n",
    "path = \"./datas/\"\n",
    "files = [path + file for file in os.listdir(path)]\n",
    "files"
   ]
  },
  {
   "cell_type": "code",
   "execution_count": 19,
   "id": "9b45821f-df73-4b9c-80f6-b1e35cee5d5e",
   "metadata": {},
   "outputs": [],
   "source": [
    "# HTML 파서를 사용한 데이터 추출\n",
    "# 앞서 불러온 html 목록에서 3번째를 불러오기\n",
    "#with open(files[2], \"r\") as f:\n",
    "#    html = f.read()\n",
    "#'cp949' codec can't decode byte 0xe2 in position 148218: illegal multibyte sequence\n",
    "with open(files[2], \"r\", encoding=\"utf8\") as f:\n",
    "    html = f.read()"
   ]
  },
  {
   "cell_type": "code",
   "execution_count": 20,
   "id": "6231f212-714c-49d1-9ba5-67f606b1545a",
   "metadata": {},
   "outputs": [
    {
     "data": {
      "text/plain": [
       "'<!DOC'"
      ]
     },
     "execution_count": 20,
     "metadata": {},
     "output_type": "execute_result"
    }
   ],
   "source": [
    "html[:5]"
   ]
  },
  {
   "cell_type": "code",
   "execution_count": 21,
   "id": "540774fb-25f5-4091-9ca8-ba47b1d3564e",
   "metadata": {},
   "outputs": [
    {
     "name": "stdout",
     "output_type": "stream",
     "text": [
      "FTSE 100 falls at open; Ocado sinks to bottom\n"
     ]
    }
   ],
   "source": [
    "#BeautifulSoup\n",
    "#HTML 파싱을 하는데 도움을 주는 모듈\n",
    "#html -> beautifulsoup\n",
    "#xml ->xmlindict\n",
    "#json ->json\n",
    "#from bs4 import BeautifulSoup를 통해 해당 패키지를 포함시키고 \n",
    "#첫번째 인수로 파싱할 대상인 markup을\n",
    "#두번째 인수로 무엇을 기준으로 파싱할지 파서의 종류를 적습니다.\n",
    "#파서의 종류로는 “html.parser”, “lxml”, “lxml-xml”, “xml”, “html5lib”가 있습니다.\n",
    "from bs4 import BeautifulSoup as bs\n",
    "soup = bs(html, 'html.parser')\n",
    "title = soup.select_one(\"h1\") #하나를 선택한다 첫번째 것\n",
    "print(title.text)"
   ]
  },
  {
   "cell_type": "code",
   "execution_count": 22,
   "id": "ab563c81-87e4-457d-895f-7f89f9e51e9a",
   "metadata": {},
   "outputs": [
    {
     "name": "stdout",
     "output_type": "stream",
     "text": [
      "FTSE 100 falls at open; Ocado sinks to bottom\n"
     ]
    }
   ],
   "source": [
    "#기사 헤드라인 추출하기\n",
    "from bs4 import BeautifulSoup as bs\n",
    "soup = bs(html, 'html.parser')\n",
    "title = soup.select_one(\"#main-content > article > div.article__main__33WV2 > div.article__content__6hMn9 > header > div > div > h1\") #하나를 선택한다 첫번째 것\n",
    "print(title.text)"
   ]
  },
  {
   "cell_type": "code",
   "execution_count": 23,
   "id": "ddb5c98e-dc72-43f9-9534-0c2cf6111320",
   "metadata": {},
   "outputs": [
    {
     "data": {
      "text/plain": [
       "<h1 class=\"text__text__1FZLe text__dark-grey__3Ml43 text__medium__1kbOh text__heading_3__1kDhc heading__base__2T28j heading__heading_3__3aL54 article-header__title__3Y2hh\" data-testid=\"Heading\">FTSE 100 falls at open; Ocado sinks to bottom</h1>"
      ]
     },
     "execution_count": 23,
     "metadata": {},
     "output_type": "execute_result"
    }
   ],
   "source": [
    "#기사 헤드라인 추출하기\n",
    "#soup.h1이라고 조회하면 <h1> 태그에 해당하는 객체를 가져올 수 있으며, \n",
    "#soup.h1.text라고 하면 <h1> 태그 사이에 있는 텍스트 값을 가져올 수 있습니다.\n",
    "#h는 헤드라인\n",
    "soup.h1"
   ]
  },
  {
   "cell_type": "code",
   "execution_count": 24,
   "id": "0fbe6d4e-8276-416e-9a44-887e5b76d7ad",
   "metadata": {},
   "outputs": [
    {
     "data": {
      "text/plain": [
       "'FTSE 100 falls at open; Ocado sinks to bottom | Reuters'"
      ]
     },
     "execution_count": 24,
     "metadata": {},
     "output_type": "execute_result"
    }
   ],
   "source": [
    "soup.title.text"
   ]
  },
  {
   "cell_type": "code",
   "execution_count": 25,
   "id": "5ce723d5-3919-4a37-929a-5d5f70a43b16",
   "metadata": {},
   "outputs": [
    {
     "name": "stdout",
     "output_type": "stream",
     "text": [
      "Feb 28 (Reuters) - The FTSE 100 index opened lower on Tuesday, with Ocado sliding to the bottom of the index on dismal annual earnings, although a strong performance by asset manager St James's Place following a higher full-year profit limited losses in the benchmark.\n"
     ]
    }
   ],
   "source": [
    "#기사 본문 추출하기\n",
    "from bs4 import BeautifulSoup as bs\n",
    "prince = bs(html, 'html.parser') #select_one을 안쓰면 다 가져올 수 있음\n",
    "namee = prince.select_one(\"#main-content > article > div.article__main__33WV2 > div.article__content__6hMn9 > div > div > div.article-body__content__17Yit.paywall-article > p\") #하나를 선택한다 첫번째 것\n",
    "print(namee.text)"
   ]
  },
  {
   "cell_type": "code",
   "execution_count": 26,
   "id": "788877e1-6aa4-419b-b3da-668b1aa0abae",
   "metadata": {
    "scrolled": true,
    "tags": []
   },
   "outputs": [
    {
     "data": {
      "text/plain": [
       "[<p class=\"text__text__1FZLe text__dark-grey__3Ml43 text__regular__2N1Xr text__large__nEccO body__full_width__ekUdw body__large_body__FV5_X article-body__element__2p5pI\" data-testid=\"paragraph-0\" style=\"font-size:20px\">Feb 28 (Reuters) - The FTSE 100 index opened lower on Tuesday, with Ocado sliding to the bottom of the index on dismal annual earnings, although a strong performance by asset manager St James's Place following a higher full-year profit limited losses in the benchmark.</p>,\n",
       " <p class=\"text__text__1FZLe text__dark-grey__3Ml43 text__regular__2N1Xr text__large__nEccO body__full_width__ekUdw body__large_body__FV5_X article-body__element__2p5pI\" data-testid=\"paragraph-1\" style=\"font-size:20px\">The blue-chip FTSE 100 <a class=\"text__text__1FZLe text__dark-grey__3Ml43 text__medium__1kbOh text__large__nEccO link__underline_default__2prE_\" data-testid=\"Link\" href=\"https://www.reuters.com/quote/.FTSE\" target=\"_blank\">(.FTSE)</a> was down 0.4% by 0823 GMT, after rising 0.7% at the start of the week.</p>,\n",
       " <p class=\"text__text__1FZLe text__dark-grey__3Ml43 text__regular__2N1Xr text__large__nEccO body__full_width__ekUdw body__large_body__FV5_X article-body__element__2p5pI\" data-testid=\"paragraph-2\" style=\"font-size:20px\">Shares of Ocado <a class=\"text__text__1FZLe text__dark-grey__3Ml43 text__medium__1kbOh text__large__nEccO link__underline_default__2prE_\" data-testid=\"Link\" href=\"https://www.reuters.com/companies/OCDO.L\" target=\"_blank\">(OCDO.L)</a> lost 7.3% after the online supermarket and technology group <a class=\"text__text__1FZLe text__dark-grey__3Ml43 text__medium__1kbOh text__large__nEccO link__underline_default__2prE_\" data-testid=\"Link\" href=\"/markets/europe/ocados-annual-loss-swells-501-mln-stg-2023-02-28/\">reported</a> a worse-than-expected full-year loss.</p>,\n",
       " <p class=\"text__text__1FZLe text__dark-grey__3Ml43 text__regular__2N1Xr text__large__nEccO body__full_width__ekUdw body__large_body__FV5_X article-body__element__2p5pI\" data-testid=\"paragraph-3\" style=\"font-size:20px\">St James's Place <a class=\"text__text__1FZLe text__dark-grey__3Ml43 text__medium__1kbOh text__large__nEccO link__underline_default__2prE_\" data-testid=\"Link\" href=\"https://www.reuters.com/companies/SJP.L\" target=\"_blank\">(SJP.L)</a> rose 3.6% after the British company posted a rise in annual profit, underpinned by strong new business flows as clients looked to protect themselves against runaway inflation and geopolitical risks.</p>,\n",
       " <p class=\"text__text__1FZLe text__dark-grey__3Ml43 text__regular__2N1Xr text__large__nEccO body__full_width__ekUdw body__large_body__FV5_X article-body__element__2p5pI\" data-testid=\"paragraph-4\" style=\"font-size:20px\">The more domestically focussed FTSE 250 midcap index <a class=\"text__text__1FZLe text__dark-grey__3Ml43 text__medium__1kbOh text__large__nEccO link__underline_default__2prE_\" data-testid=\"Link\" href=\"https://www.reuters.com/quote/.FTMC\" target=\"_blank\">(.FTMC)</a> fell 0.3%, weighed down by Travis Perkins <a class=\"text__text__1FZLe text__dark-grey__3Ml43 text__medium__1kbOh text__large__nEccO link__underline_default__2prE_\" data-testid=\"Link\" href=\"https://www.reuters.com/companies/TPK.L\" target=\"_blank\">(TPK.L)</a> as Britain's biggest supplier of building materials fell 5.1% after posting a 16% fall in its annual profit.</p>,\n",
       " <p class=\"text__text__1FZLe text__dark-grey__3Ml43 text__medium__1kbOh text__body__yKS5U body__base__22dCE body__body_alt__2kEQu tablet-down-latest-updates__show-more__20y2n\" data-testid=\"Body\">View 2 more stories<!-- --> <svg aria-hidden=\"true\" class=\"tablet-down-latest-updates__arrow-down__3J5Sc\" viewbox=\"0 0 11 7\" xmlns=\"http://www.w3.org/2000/svg\"><path d=\"M10.413.587a.71.71 0 0 0-1.027 0L5.5 4.474 1.613.587a.71.71 0 0 0-1.027 0 .709.709 0 0 0 0 1.027l4.4 4.4c.147.147.367.22.513.22a.79.79 0 0 0 .513-.22l4.4-4.4a.71.71 0 0 0 0-1.027h.001Z\"></path></svg></p>,\n",
       " <p class=\"text__text__1FZLe text__dark-grey__3Ml43 text__regular__2N1Xr text__large__nEccO body__base__22dCE body__large_body__FV5_X article-body__element__2p5pI\" data-testid=\"Body\">Our Standards: <a class=\"text__text__1FZLe text__dark-grey__3Ml43 text__medium__1kbOh text__large__nEccO link__underline_default__2prE_\" data-testid=\"Link\" href=\"https://www.thomsonreuters.com/en/about-us/trust-principles.html\" target=\"_blank\">The Thomson Reuters Trust Principles.</a></p>,\n",
       " <p class=\"text__text__1FZLe text__dark-grey__3Ml43 text__regular__2N1Xr text__large_story_card_hero__3EUNk body__base__22dCE large_body_story_card_hero media-story-card__description__2icjO\" data-testid=\"Body\">An Indian court has sentenced two pharmaceutical company executives to two-and-half years in jail for exporting substandard drugs to Vietnam a decade ago, months after the WHO linked their cough syrups to the deaths of children in Gambia.</p>,\n",
       " <p class=\"text__text__1FZLe text__dark-grey__3Ml43 text__regular__2N1Xr text__extra_small__1Mw6v body__base__22dCE body__extra_small_body__3QTYe\" data-testid=\"Body\">Reuters, the news and media division of Thomson Reuters, is the world’s largest multimedia news provider, reaching billions of people worldwide every day. Reuters provides business, financial, national and international news to professionals via desktop terminals, the world's media organizations, industry events and directly to consumers.</p>,\n",
       " <p class=\"text__text__1FZLe text__dark-grey__3Ml43 text__regular__2N1Xr text__extra_small__1Mw6v body__base__22dCE body__extra_small_body__3QTYe\" data-testid=\"Body\">Build the strongest argument relying on authoritative content, attorney-editor expertise, and industry defining technology.</p>,\n",
       " <p class=\"text__text__1FZLe text__dark-grey__3Ml43 text__regular__2N1Xr text__extra_small__1Mw6v body__base__22dCE body__extra_small_body__3QTYe\" data-testid=\"Body\">The most comprehensive solution to manage all your complex and ever-expanding tax and compliance needs.</p>,\n",
       " <p class=\"text__text__1FZLe text__dark-grey__3Ml43 text__regular__2N1Xr text__extra_small__1Mw6v body__base__22dCE body__extra_small_body__3QTYe\" data-testid=\"Body\">The industry leader for online information for tax, accounting and finance professionals.</p>,\n",
       " <p class=\"text__text__1FZLe text__dark-grey__3Ml43 text__regular__2N1Xr text__extra_small__1Mw6v body__base__22dCE body__extra_small_body__3QTYe\" data-testid=\"Body\"> Access unmatched financial data, news and content in a highly-customised workflow experience on desktop, web and mobile.</p>,\n",
       " <p class=\"text__text__1FZLe text__dark-grey__3Ml43 text__regular__2N1Xr text__extra_small__1Mw6v body__base__22dCE body__extra_small_body__3QTYe\" data-testid=\"Body\"> Browse an unrivalled portfolio of real-time and historical market data and insights from worldwide sources and experts.</p>,\n",
       " <p class=\"text__text__1FZLe text__dark-grey__3Ml43 text__regular__2N1Xr text__extra_small__1Mw6v body__base__22dCE body__extra_small_body__3QTYe\" data-testid=\"Body\">Screen for heightened risk individual and entities globally to help uncover hidden risks in business relationships and human networks.</p>,\n",
       " <p class=\"text__text__1FZLe text__dark-grey__3Ml43 text__regular__2N1Xr text__extra_small__1Mw6v body__base__22dCE body__extra_small_body__3QTYe site-footer__disclaimer__2swdF\" data-testid=\"Body\">All quotes delayed a minimum of 15 minutes. <a class=\"text__text__1FZLe text__inherit-color__3208F text__inherit-font__1Y8w3 text__inherit-size__1DZJi link__underline_on_hover__2zGL4\" data-testid=\"Link\" href=\"https://www.reuters.com/info-pages/disclaimer/\">See here for a complete list of exchanges and delays</a>.</p>,\n",
       " <p class=\"text__text__1FZLe text__dark-grey__3Ml43 text__regular__2N1Xr text__extra_small__1Mw6v body__base__22dCE body__extra_small_body__3QTYe site-footer__copyright__2L5Az\" data-testid=\"Body\">© 2023 Reuters. <a class=\"text__text__1FZLe text__inherit-color__3208F text__inherit-font__1Y8w3 text__inherit-size__1DZJi link__underline_on_hover__2zGL4\" data-testid=\"Link\" href=\"https://www.thomsonreuters.com/en/policies/copyright.html\">All rights reserved</a></p>]"
      ]
     },
     "execution_count": 26,
     "metadata": {},
     "output_type": "execute_result"
    }
   ],
   "source": [
    "#기사 본문 추출하기\n",
    "prince.select(\"p\") #하나를 선택한다 첫번째 것"
   ]
  },
  {
   "cell_type": "code",
   "execution_count": 31,
   "id": "f5995e0f-3070-4d78-a635-8e64187f98a1",
   "metadata": {},
   "outputs": [
    {
     "data": {
      "text/plain": [
       "'https://www.reuters.com/world/uk/ftse-100-falls-open-ocado-sinks-bottom-2023-02-28/'"
      ]
     },
     "execution_count": 31,
     "metadata": {},
     "output_type": "execute_result"
    }
   ],
   "source": [
    "#URL 추출\n",
    "#많은 HTML 파일을 다운로드할 때 파일의 원본 URL을 별도로 저장하지 않으면 나중에 찾기 어렵습니다.\n",
    "#일반적으로 표준 URL(canonical URL)을 사용해서 값을 관리하는 것이 좋습니다.\n",
    "#이 용도에 맞는 태그가 별도로 존재하는데 <link rel=”canonical”>이라고 사용됩니다. \n",
    "#필수는 아니지만 검색 엔진에서도 확인하고 SEO에 좋은 영향을 주기에 매우 보편적으로 사용됩니다\n",
    "\n",
    "soup.find(\"link\", {\"rel\":\"canonical\"})[\"href\"]"
   ]
  },
  {
   "cell_type": "code",
   "execution_count": 29,
   "id": "53e593d1-1b80-4f76-9689-4eb7dd556f99",
   "metadata": {},
   "outputs": [],
   "source": [
    "#HTML 문서의 표준화된 영역\n",
    "#- 제목: <title> 또는 <h1> 태그를 사용합니다.\n",
    "#- 웹 페이지 요약: <meta name=”description”>\n",
    "#- 구조화된 헤더 정보: OpenGraph(https://ogp.me)에서 표준화한 것으로 \n",
    "#   페이지의 소스코드에서 og: 부분을 찾는다.\n",
    "#- 웹 페이지의 URL: <link rel=”canonical”>"
   ]
  },
  {
   "cell_type": "code",
   "execution_count": null,
   "id": "5456487e-16cb-4f1d-87ee-d6d064378f5c",
   "metadata": {},
   "outputs": [],
   "source": []
  }
 ],
 "metadata": {
  "kernelspec": {
   "display_name": "Python 3 (ipykernel)",
   "language": "python",
   "name": "python3"
  },
  "language_info": {
   "codemirror_mode": {
    "name": "ipython",
    "version": 3
   },
   "file_extension": ".py",
   "mimetype": "text/x-python",
   "name": "python",
   "nbconvert_exporter": "python",
   "pygments_lexer": "ipython3",
   "version": "3.9.13"
  }
 },
 "nbformat": 4,
 "nbformat_minor": 5
}
