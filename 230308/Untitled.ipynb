{
 "cells": [
  {
   "cell_type": "code",
   "execution_count": 1,
   "id": "2ad48e4b-e382-472b-8e5e-234565d13acd",
   "metadata": {},
   "outputs": [],
   "source": [
    "#%cd 'C:\\python' #절대경로 / #상대경로도 있음_위 쓰고 있는 것"
   ]
  },
  {
   "cell_type": "code",
   "execution_count": 2,
   "id": "77c5ea40-7d2a-4b7a-8000-4f5ee702a66d",
   "metadata": {},
   "outputs": [],
   "source": [
    "#%pwd"
   ]
  },
  {
   "cell_type": "code",
   "execution_count": null,
   "id": "852590b5-fc05-4de1-9d10-c38832e38345",
   "metadata": {},
   "outputs": [],
   "source": []
  }
 ],
 "metadata": {
  "kernelspec": {
   "display_name": "Python 3 (ipykernel)",
   "language": "python",
   "name": "python3"
  },
  "language_info": {
   "codemirror_mode": {
    "name": "ipython",
    "version": 3
   },
   "file_extension": ".py",
   "mimetype": "text/x-python",
   "name": "python",
   "nbconvert_exporter": "python",
   "pygments_lexer": "ipython3",
   "version": "3.9.13"
  }
 },
 "nbformat": 4,
 "nbformat_minor": 5
}
