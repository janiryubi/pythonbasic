{
 "cells": [
  {
   "cell_type": "code",
   "execution_count": 1,
   "id": "bc5db8ba-10f9-4b77-9e35-154a3320ccfb",
   "metadata": {},
   "outputs": [],
   "source": [
    "# while문\n",
    "# 조건식으로만 동작\n",
    "# 조건식을 판별하고 true인 동안 계속해서 실행, 조건이 false인 경우에 멈춤 -> 변수의 범위를 정해야 함"
   ]
  },
  {
   "cell_type": "code",
   "execution_count": 2,
   "id": "16c6d0f7-fb5b-4eb4-9dd6-189a4462e62d",
   "metadata": {},
   "outputs": [
    {
     "name": "stdout",
     "output_type": "stream",
     "text": [
      "hi\n",
      "hi\n",
      "hi\n",
      "hi\n",
      "hi\n"
     ]
    }
   ],
   "source": [
    "i = 0 #초기식\n",
    "while i<5: # while조건식\n",
    "    print(\"hi\") # 반복할 코드\n",
    "    i+=1 #변화식\n",
    "# 조건식이 true- 반복할 코드 및 변화식 -> 조건식 체크"
   ]
  },
  {
   "cell_type": "code",
   "execution_count": 3,
   "id": "7ccba916-e4cb-44e7-ad1a-5dee5b5933d5",
   "metadata": {},
   "outputs": [
    {
     "name": "stdin",
     "output_type": "stream",
     "text": [
      "반복할 횟수를 입력하세요: 3\n"
     ]
    },
    {
     "name": "stdout",
     "output_type": "stream",
     "text": [
      "hello 3\n",
      "hello 2\n",
      "hello 1\n"
     ]
    }
   ],
   "source": [
    "# 입력한 횟수대로 반복\n",
    "count = int(input(\"반복할 횟수를 입력하세요:\"))\n",
    "\n",
    "while count>0:\n",
    "    print(\"hello\",count)\n",
    "    count-=1"
   ]
  },
  {
   "cell_type": "code",
   "execution_count": 4,
   "id": "56138099-65c8-44a3-94e3-2a08f9863dbd",
   "metadata": {},
   "outputs": [
    {
     "name": "stdout",
     "output_type": "stream",
     "text": [
      "2\t4\t6\t8\t10\t12\t14\t16\t18\t20\t22\t24\t26\t28\t30\t32\t34\t36\t38\t40\t42\t44\t46\t48\t50\t52\t54\t56\t58\t60\t62\t64\t66\t68\t70\t72\t74\t76\t78\t80\t82\t84\t86\t88\t90\t92\t94\t96\t98\t100\t102\t"
     ]
    }
   ],
   "source": [
    "# while문을 이용하여 1이상 100이하의 짝수를 '\\t'를 구분자로 나눠보시오\n",
    "count = 0\n",
    "while count<101:\n",
    "    count += 2\n",
    "    print(f\"{count}\\t\",end=\"\")\n",
    "# TypeError: int() argument must be a string, a bytes-like object or a number, not 'tuple'\n",
    "# TypeError: '>' not supported between instances of 'tuple' and 'int'"
   ]
  },
  {
   "cell_type": "code",
   "execution_count": 12,
   "id": "b495b475-2295-4992-8f2c-2189daca7c44",
   "metadata": {},
   "outputs": [
    {
     "name": "stdin",
     "output_type": "stream",
     "text": [
      "구구단을 알려드립니다. 숫자를 입력하세요 3\n"
     ]
    },
    {
     "name": "stdout",
     "output_type": "stream",
     "text": [
      "3 * 2 = 6\n",
      "3 * 3 = 9\n",
      "3 * 4 = 12\n",
      "3 * 5 = 15\n",
      "3 * 6 = 18\n",
      "3 * 7 = 21\n",
      "3 * 8 = 24\n",
      "3 * 9 = 27\n",
      "3 * 10 = 30\n",
      "3 * 11 = 33\n"
     ]
    }
   ],
   "source": [
    "gg = int(input(\"구구단을 알려드립니다. 숫자를 입력하세요\"))\n",
    "result_1 = 1\n",
    "while result_1<=10:\n",
    "    result_1 += 1\n",
    "    print(gg, \"*\", result_1, \"=\", gg*result_1)\n",
    "# SyntaxError: f-string: expecting "
   ]
  },
  {
   "cell_type": "code",
   "execution_count": 6,
   "id": "6f624f6d-80c7-419f-bd78-327ee9262377",
   "metadata": {},
   "outputs": [
    {
     "name": "stdout",
     "output_type": "stream",
     "text": [
      "97\n",
      "100\n",
      "77\n"
     ]
    }
   ],
   "source": [
    "# for문으로 시퀀스 객체의 인덱스 루프 테크닉\n",
    "# while문과 len함수를 사용하여 시퀀스 객체의 요소를 인덱스들로 이터레이트하려면 아래처럼 작성하여 처리\n",
    "#인덱스를 순서대로 접근할 수 있도록 제어할 변수\n",
    "scores = (97,100,77)\n",
    "for _ in range(len(scores)):\n",
    "    print(scores[_])"
   ]
  },
  {
   "cell_type": "code",
   "execution_count": 3,
   "id": "cda20d1a-e3e0-4dec-b8b0-aab38164d49f",
   "metadata": {},
   "outputs": [
    {
     "name": "stdout",
     "output_type": "stream",
     "text": [
      "97\n",
      "100\n",
      "77\n"
     ]
    }
   ],
   "source": [
    "scores = (97,100,77)\n",
    "i=0\n",
    "while i<len(scores):\n",
    "    print(scores[i])\n",
    "    i+=1"
   ]
  },
  {
   "cell_type": "code",
   "execution_count": null,
   "id": "667e71ba-3dcc-466d-9a03-cc7fb3acce67",
   "metadata": {},
   "outputs": [],
   "source": [
    "\n",
    "    "
   ]
  }
 ],
 "metadata": {
  "kernelspec": {
   "display_name": "Python 3 (ipykernel)",
   "language": "python",
   "name": "python3"
  },
  "language_info": {
   "codemirror_mode": {
    "name": "ipython",
    "version": 3
   },
   "file_extension": ".py",
   "mimetype": "text/x-python",
   "name": "python",
   "nbconvert_exporter": "python",
   "pygments_lexer": "ipython3",
   "version": "3.9.13"
  }
 },
 "nbformat": 4,
 "nbformat_minor": 5
}
