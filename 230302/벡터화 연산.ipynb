{
 "cells": [
  {
   "cell_type": "markdown",
   "id": "ff406ab1-05c0-45ce-b814-3a0786d16c29",
   "metadata": {},
   "source": [
    "# 벡터화 연산"
   ]
  },
  {
   "cell_type": "code",
   "execution_count": 1,
   "id": "71f42010-27ee-4241-b41d-6bab342f018a",
   "metadata": {},
   "outputs": [],
   "source": [
    "#앞서 넘파이가 벡터화 연산(vectorized operation)을 지원한다고 이야기하였습니다. \n",
    "#벡터화 연산을 쓰면 명시적으로 반복문을 사용하지 않고도 배열의 모든 원소에 대해 반복 연산을 할 수 있습니다. \n",
    "#벡터화 연산의 또다른 장점은 선형 대수 공식과 동일하게 아주 간단한 파이썬 코드를 작성할 수 있다는 점입니다."
   ]
  },
  {
   "cell_type": "code",
   "execution_count": 2,
   "id": "8775aadd-6f08-41c1-b7dc-f09070e0c85e",
   "metadata": {},
   "outputs": [],
   "source": [
    "#넘파이 배열의 벡터화 연산을 사용하지 않는다면 반복문을 사용"
   ]
  },
  {
   "cell_type": "code",
   "execution_count": 3,
   "id": "84543a18-8165-4ed3-af66-a21ab5380a71",
   "metadata": {},
   "outputs": [],
   "source": [
    "import numpy as np\n",
    "x = np.arange(1,10001)\n",
    "y = np.arange(10001,20001)"
   ]
  },
  {
   "cell_type": "code",
   "execution_count": 4,
   "id": "3f59ee6c-5bcb-4d3f-abfe-936b25a35361",
   "metadata": {},
   "outputs": [
    {
     "name": "stdout",
     "output_type": "stream",
     "text": [
      "Wall time: 2.99 ms\n"
     ]
    }
   ],
   "source": [
    "%%time\n",
    "z = np.zeros_like(x)\n",
    "for i in range(10000):\n",
    "    z[i] = x[i] + y[i]"
   ]
  },
  {
   "cell_type": "code",
   "execution_count": 5,
   "id": "9308085c-8188-49ce-af55-3a943de1b378",
   "metadata": {},
   "outputs": [
    {
     "data": {
      "text/plain": [
       "array([10002, 10004, 10006, 10008, 10010, 10012, 10014, 10016, 10018,\n",
       "       10020])"
      ]
     },
     "execution_count": 5,
     "metadata": {},
     "output_type": "execute_result"
    }
   ],
   "source": [
    "z[:10]"
   ]
  },
  {
   "cell_type": "code",
   "execution_count": 6,
   "id": "f118841b-24df-41d1-96d9-187ec17d0472",
   "metadata": {},
   "outputs": [
    {
     "name": "stdout",
     "output_type": "stream",
     "text": [
      "Wall time: 281 µs\n"
     ]
    }
   ],
   "source": [
    "%%time\n",
    "#그러나 넘파이 배열의 벡터화 연산을 사용하면 덧셈 연산 하나로 끝납니다. \n",
    "#위에서 보인 선형 대수의 벡터 기호를 사용한 연산과 결과가 완전히 동일합니다. \n",
    "#연산 속도도 벡터화 연산이 훨씬 빠릅니다\n",
    "x = np.arange(1,10001)\n",
    "y = np.arange(10001,20001)\n",
    "z = x+y"
   ]
  },
  {
   "cell_type": "code",
   "execution_count": 7,
   "id": "a78de588-87e4-4227-902d-9b3539563587",
   "metadata": {},
   "outputs": [],
   "source": [
    "#사칙 연산뿐 아니라 비교 연산과 같은 논리 연산도 벡터화 연산이 가능합니다\n",
    "a = np.array([1,2,3,4])\n",
    "b = np.array([4,2,2,4])"
   ]
  },
  {
   "cell_type": "code",
   "execution_count": 8,
   "id": "1ebe0014-496a-4a76-b729-94ea4e06fefb",
   "metadata": {},
   "outputs": [
    {
     "data": {
      "text/plain": [
       "array([False,  True, False,  True])"
      ]
     },
     "execution_count": 8,
     "metadata": {},
     "output_type": "execute_result"
    }
   ],
   "source": [
    "a == b"
   ]
  },
  {
   "cell_type": "code",
   "execution_count": 9,
   "id": "338bad61-fc1d-446e-adb4-6a1ffaa6b811",
   "metadata": {},
   "outputs": [
    {
     "data": {
      "text/plain": [
       "array([False,  True,  True,  True])"
      ]
     },
     "execution_count": 9,
     "metadata": {},
     "output_type": "execute_result"
    }
   ],
   "source": [
    "a >= b"
   ]
  },
  {
   "cell_type": "markdown",
   "id": "d0bf9bee-43be-401e-b002-5a3196683e44",
   "metadata": {},
   "source": [
    "### all 명령( 배열의 모든 원소가 다 같은지 비교)"
   ]
  },
  {
   "cell_type": "code",
   "execution_count": 10,
   "id": "ff5fa771-10e6-40b8-8bad-3db0c031dcec",
   "metadata": {},
   "outputs": [],
   "source": [
    "#만약 배열의 각 원소들을 일일히 비교하는 것이 아니라 배열의 모든 원소가 다 같은지 알고 싶다면 \n",
    "#all 명령을 사용하면 됩니다\n",
    "a = np.array([1, 2, 3, 4])\n",
    "b = np.array([4, 2, 2, 4])\n",
    "c = np.array([1, 2, 3, 4])"
   ]
  },
  {
   "cell_type": "code",
   "execution_count": 11,
   "id": "160ffa91-d372-4794-8ff3-1a9083b6acd0",
   "metadata": {},
   "outputs": [
    {
     "data": {
      "text/plain": [
       "False"
      ]
     },
     "execution_count": 11,
     "metadata": {},
     "output_type": "execute_result"
    }
   ],
   "source": [
    "np.all(a == b)"
   ]
  },
  {
   "cell_type": "code",
   "execution_count": 12,
   "id": "23b3abae-df31-420c-a2d7-2814497a8a42",
   "metadata": {},
   "outputs": [
    {
     "data": {
      "text/plain": [
       "True"
      ]
     },
     "execution_count": 12,
     "metadata": {},
     "output_type": "execute_result"
    }
   ],
   "source": [
    "np.all(a == c)"
   ]
  },
  {
   "cell_type": "markdown",
   "id": "9bb5e84c-8f01-4334-a5d0-6b25a63c726c",
   "metadata": {},
   "source": [
    "### 스칼라와 벡터/행렬의 곱셈"
   ]
  },
  {
   "cell_type": "code",
   "execution_count": 13,
   "id": "408a3cfe-e491-4993-97e4-b87082769f73",
   "metadata": {},
   "outputs": [
    {
     "data": {
      "text/plain": [
       "array([0, 1, 2, 3, 4, 5, 6, 7, 8, 9])"
      ]
     },
     "execution_count": 13,
     "metadata": {},
     "output_type": "execute_result"
    }
   ],
   "source": [
    "#스칼라와 벡터/행렬의 곱셈\n",
    "#넘파이 배열에서 스칼라와 벡터/행렬의 곱도 선형대수에서 사용하는 식과 같이 표현 가능합니다\n",
    "x = np.arange(10)\n",
    "x"
   ]
  },
  {
   "cell_type": "code",
   "execution_count": 14,
   "id": "a28e1e50-be7b-410d-8a9c-a74093ac120b",
   "metadata": {},
   "outputs": [
    {
     "data": {
      "text/plain": [
       "array([  0, 100, 200, 300, 400, 500, 600, 700, 800, 900])"
      ]
     },
     "execution_count": 14,
     "metadata": {},
     "output_type": "execute_result"
    }
   ],
   "source": [
    "100*x"
   ]
  },
  {
   "cell_type": "code",
   "execution_count": 15,
   "id": "db9a8671-e115-43af-b93a-173db82fdf94",
   "metadata": {},
   "outputs": [
    {
     "data": {
      "text/plain": [
       "array([[ 0,  1,  2,  3],\n",
       "       [ 4,  5,  6,  7],\n",
       "       [ 8,  9, 10, 11]])"
      ]
     },
     "execution_count": 15,
     "metadata": {},
     "output_type": "execute_result"
    }
   ],
   "source": [
    "x = np.arange(12).reshape(3,4)\n",
    "x"
   ]
  },
  {
   "cell_type": "code",
   "execution_count": 16,
   "id": "c9a977df-aeb7-45f3-b7ef-e0f03d5f49b2",
   "metadata": {},
   "outputs": [
    {
     "data": {
      "text/plain": [
       "array([[   0,  100,  200,  300],\n",
       "       [ 400,  500,  600,  700],\n",
       "       [ 800,  900, 1000, 1100]])"
      ]
     },
     "execution_count": 16,
     "metadata": {},
     "output_type": "execute_result"
    }
   ],
   "source": [
    "100*x"
   ]
  },
  {
   "cell_type": "markdown",
   "id": "6d5811c7-80ae-45d0-a0a9-54d8a6306f47",
   "metadata": {},
   "source": [
    "# 브로드캐스팅(broadcasting,배열 크기 변환)"
   ]
  },
  {
   "cell_type": "code",
   "execution_count": 17,
   "id": "8af4bfae-5fdb-445d-825d-1df4408bbe86",
   "metadata": {},
   "outputs": [],
   "source": [
    "#넘파이 배열은 모양이 다른 배열 간의 연산이 가능하도록 배열의 크기를 변환시켜주는 \n",
    "#브로드캐스팅(broadcasting)을 지원합니다. "
   ]
  },
  {
   "cell_type": "code",
   "execution_count": 18,
   "id": "2b375643-b3c2-4392-bc7f-18cfa70e209c",
   "metadata": {},
   "outputs": [],
   "source": [
    "#넘파이가 처리하는 브로드캐스팅의 방법은 \n",
    "#더 작은 배열이 더 큰 배열에 호환되는 모양으로 확장하는 식으로 진행됩니다"
   ]
  },
  {
   "cell_type": "markdown",
   "id": "81b86cc5-d433-4855-b68a-9b7bba84fe96",
   "metadata": {},
   "source": [
    "### 스칼라곱"
   ]
  },
  {
   "cell_type": "code",
   "execution_count": 19,
   "id": "86c413c2-f293-4af0-95de-a5fdf008dc7b",
   "metadata": {},
   "outputs": [
    {
     "data": {
      "text/plain": [
       "array([2., 4., 6.])"
      ]
     },
     "execution_count": 19,
     "metadata": {},
     "output_type": "execute_result"
    }
   ],
   "source": [
    "#넘파이의 브로드캐스팅 규칙 중 가장 간단한 예는 배열과 스칼라 값이 연산에서 결합될 때입니다.\n",
    "a = np.array([1.0,2.0,3.0])\n",
    "b = 2.0 #3개로 확장, 개수를 똑같이 만들어 줌\n",
    "a*b"
   ]
  },
  {
   "cell_type": "code",
   "execution_count": 20,
   "id": "19b3f586-bcd8-4c72-b101-5187a6b9b166",
   "metadata": {},
   "outputs": [],
   "source": [
    "#스칼라 곱을 활용한 코드가 더 적은 메모리를 이동하기 때문에 배열 간의 곱보다 더 효율적입니다."
   ]
  },
  {
   "cell_type": "code",
   "execution_count": 21,
   "id": "c819c357-0c3d-4dd8-b826-f090fad8556d",
   "metadata": {},
   "outputs": [],
   "source": [
    "x = np.arange(5)"
   ]
  },
  {
   "cell_type": "code",
   "execution_count": 22,
   "id": "23b33170-ee93-42f6-965b-fa7fb6fd11c8",
   "metadata": {},
   "outputs": [
    {
     "data": {
      "text/plain": [
       "array([1, 1, 1, 1, 1])"
      ]
     },
     "execution_count": 22,
     "metadata": {},
     "output_type": "execute_result"
    }
   ],
   "source": [
    "y = np.ones_like(x)\n",
    "y"
   ]
  },
  {
   "cell_type": "code",
   "execution_count": 23,
   "id": "5af77923-49ac-4fe0-a316-7a91d791a2f2",
   "metadata": {},
   "outputs": [
    {
     "data": {
      "text/plain": [
       "array([1, 2, 3, 4, 5])"
      ]
     },
     "execution_count": 23,
     "metadata": {},
     "output_type": "execute_result"
    }
   ],
   "source": [
    "x+y"
   ]
  },
  {
   "cell_type": "code",
   "execution_count": 24,
   "id": "9ba9836f-9acf-41ad-9997-de48cbef5cd9",
   "metadata": {},
   "outputs": [
    {
     "data": {
      "text/plain": [
       "array([1, 2, 3, 4, 5])"
      ]
     },
     "execution_count": 24,
     "metadata": {},
     "output_type": "execute_result"
    }
   ],
   "source": [
    "x+1"
   ]
  },
  {
   "cell_type": "markdown",
   "id": "66fc02c1-9f41-405c-86ae-4a80749f9bdf",
   "metadata": {},
   "source": [
    "### 브로드캐스팅 가능 조건"
   ]
  },
  {
   "cell_type": "code",
   "execution_count": 25,
   "id": "09e5997d-7856-4684-b706-a3b42ad15fb7",
   "metadata": {},
   "outputs": [],
   "source": [
    "#넘파이 배열은 모양이 다른 배열 간의 연산이 가능하도록 배열의 크기를 변환시켜주는 \n",
    "#브로드캐스팅(broadcasting)을 지원한다고 하는데, 과연 모든 경우에 가능한 걸까요?아닙니다. \n",
    "#확장이 가능한 경우가 있고 반대로 불가능한 경우도 존재합니다.\n",
    "#확장 가능한 경우를 확인하는 규칙은 다음과 같습니다.\n",
    "#1. 넘파이 배열의 shape을 우측 정렬하고 각 차원별로 숫자를 비교합니다.\n",
    "\n",
    "#비교하는 모든 차원이 두 조건 중 하나에 충족되어야 브로드캐스팅 가능합니다.\n",
    "#a. 해당 차원 간의 숫자가 동일한 경우\n",
    "#b. 해당 차원 중 하나가 1인 경우"
   ]
  },
  {
   "cell_type": "code",
   "execution_count": 26,
   "id": "9d40f2ff-eb45-4547-83de-e2421f2a4356",
   "metadata": {},
   "outputs": [],
   "source": [
    "#차원이 다른 경우 우측 정렬하여 비교하고 있습니다. \n",
    "#이는 같은 차원 간의 비교를 가능하게 합니다.\n",
    "#3차원:깊이*행*열\n",
    "#2차원:     행*열\n",
    "#1차원:       열"
   ]
  },
  {
   "cell_type": "code",
   "execution_count": 27,
   "id": "3d1cbb03-0aee-417f-8d1d-d14badd13a0b",
   "metadata": {},
   "outputs": [],
   "source": [
    "#각 차원의 숫자가 일치하지 않는 것을 확인할 수 있습니다.\n",
    "#브로드캐스팅 가능하지 않을 때 파이썬은 ValueError를 발생시킵니다.\n",
    "#3   #12\n",
    "#4   #24 #1이나 자기자신과 같지 않으면 배수도 안됌"
   ]
  },
  {
   "cell_type": "markdown",
   "id": "f8be72a5-b127-4c6f-b295-95807dc14bd3",
   "metadata": {},
   "source": [
    "# 차원 축소 연산"
   ]
  },
  {
   "cell_type": "code",
   "execution_count": 28,
   "id": "eba9e8f8-c02c-4df8-b763-dbc6e6c0c60d",
   "metadata": {},
   "outputs": [],
   "source": [
    "#행렬의 하나의 행에 있는 원소들을 하나의 데이터 집합으로 보고 \n",
    "#그 집합의 평균을 구하면 각 행에 대해 하나의 숫자가 나오게 됩니다. \n",
    "#예를 들어 10 x 5 크기의 2차원 배열에 대해 행-평균을 구하면 \n",
    "#10개의 숫자를 가진 1차원 벡터가 나오게 됩니다.\n",
    "#이러한 연산을 차원 축소(dimension reduction) 연산이라고 합니다."
   ]
  },
  {
   "cell_type": "code",
   "execution_count": 29,
   "id": "98814e20-4646-4bd7-87d4-408715481aad",
   "metadata": {},
   "outputs": [],
   "source": [
    "#● 최대/최소: min, max, argmin, argmax\n",
    "#● 통계: sum, mean, median, std, var\n",
    "#● 불리언: all, any\n",
    "#숫자 뭉치에서 값이 하나만 뽑아져 나오기 때문에 차원이 축소됨"
   ]
  },
  {
   "cell_type": "markdown",
   "id": "9c203278-9813-4bbb-971a-a8d3c20176f5",
   "metadata": {},
   "source": [
    "### 차원 축소 연산 - sum() -> 합산"
   ]
  },
  {
   "cell_type": "code",
   "execution_count": 30,
   "id": "23e51c1c-a7a5-4e4d-9ac9-0aef7741442b",
   "metadata": {},
   "outputs": [
    {
     "data": {
      "text/plain": [
       "array([1, 2, 3, 4])"
      ]
     },
     "execution_count": 30,
     "metadata": {},
     "output_type": "execute_result"
    }
   ],
   "source": [
    "#차원 축소 연산 - sum()\n",
    "#sum() 메서드는 해당 배열의 합산 결과를 반환합니다. \n",
    "#연산 대상이 2차원 이상일 때에는 axis 키워드 인수를 사용할 수 있습니다.\n",
    "\n",
    "x = np.array([1,2,3,4])\n",
    "x"
   ]
  },
  {
   "cell_type": "code",
   "execution_count": 31,
   "id": "ae00fca9-e840-42f3-894d-859af5b52929",
   "metadata": {},
   "outputs": [
    {
     "data": {
      "text/plain": [
       "10"
      ]
     },
     "execution_count": 31,
     "metadata": {},
     "output_type": "execute_result"
    }
   ],
   "source": [
    "np.sum(x) #np.sum()과 ndarray.sum은 같은 것"
   ]
  },
  {
   "cell_type": "code",
   "execution_count": 32,
   "id": "06d3449d-fcaf-4b36-aab5-df05cc9fd296",
   "metadata": {},
   "outputs": [
    {
     "data": {
      "text/plain": [
       "10"
      ]
     },
     "execution_count": 32,
     "metadata": {},
     "output_type": "execute_result"
    }
   ],
   "source": [
    "x.sum()"
   ]
  },
  {
   "cell_type": "code",
   "execution_count": 33,
   "id": "92b92a57-7c30-4021-a318-2327910a6848",
   "metadata": {},
   "outputs": [
    {
     "data": {
      "text/plain": [
       "array([[ 0,  1,  2,  3],\n",
       "       [ 4,  5,  6,  7],\n",
       "       [ 8,  9, 10, 11]])"
      ]
     },
     "execution_count": 33,
     "metadata": {},
     "output_type": "execute_result"
    }
   ],
   "source": [
    "x = np.arange(12).reshape(3,-1)\n",
    "x"
   ]
  },
  {
   "cell_type": "code",
   "execution_count": 34,
   "id": "f4c255f7-3b39-44af-92aa-27fad2ff6c83",
   "metadata": {},
   "outputs": [
    {
     "data": {
      "text/plain": [
       "array([12, 15, 18, 21])"
      ]
     },
     "execution_count": 34,
     "metadata": {},
     "output_type": "execute_result"
    }
   ],
   "source": [
    "x.sum(axis = 0) #행간 더함"
   ]
  },
  {
   "cell_type": "code",
   "execution_count": 35,
   "id": "9233e7e6-93b8-4874-83e6-5aff675464c2",
   "metadata": {},
   "outputs": [
    {
     "data": {
      "text/plain": [
       "array([ 6, 22, 38])"
      ]
     },
     "execution_count": 35,
     "metadata": {},
     "output_type": "execute_result"
    }
   ],
   "source": [
    "x.sum(axis = 1) #열간 더함"
   ]
  },
  {
   "cell_type": "markdown",
   "id": "47966695-c1d4-43fb-aaa2-0fcd77f78690",
   "metadata": {},
   "source": [
    "### 차원 축소 연산 - min() -> 작은 값"
   ]
  },
  {
   "cell_type": "code",
   "execution_count": 36,
   "id": "8f4958f5-64d6-41dd-be6b-1a9453ea2289",
   "metadata": {},
   "outputs": [
    {
     "data": {
      "text/plain": [
       "array([[[ 0,  1],\n",
       "        [ 2,  3],\n",
       "        [ 4,  5],\n",
       "        [ 6,  7],\n",
       "        [ 8,  9]],\n",
       "\n",
       "       [[10, 11],\n",
       "        [12, 13],\n",
       "        [14, 15],\n",
       "        [16, 17],\n",
       "        [18, 19]]])"
      ]
     },
     "execution_count": 36,
     "metadata": {},
     "output_type": "execute_result"
    }
   ],
   "source": [
    "#차원 축소 연산 - min()\n",
    "#해당 배열의 제일 작은 값의 결과를 반환합니다. \n",
    "#연산 대상이 2차원 이상일 때에는 axis 키워드 인수를 사용할 수 있습니다.\n",
    "x = np.arange(20).reshape(2,5,-1)\n",
    "x"
   ]
  },
  {
   "cell_type": "code",
   "execution_count": 37,
   "id": "b6a3accf-16eb-4b89-9d19-a9ae92aa1da3",
   "metadata": {},
   "outputs": [
    {
     "data": {
      "text/plain": [
       "0"
      ]
     },
     "execution_count": 37,
     "metadata": {},
     "output_type": "execute_result"
    }
   ],
   "source": [
    "x.min()"
   ]
  },
  {
   "cell_type": "code",
   "execution_count": 38,
   "id": "c4d77bb7-ba92-40ca-a70b-f89d25fed44e",
   "metadata": {},
   "outputs": [
    {
     "data": {
      "text/plain": [
       "0"
      ]
     },
     "execution_count": 38,
     "metadata": {},
     "output_type": "execute_result"
    }
   ],
   "source": [
    "np.min(x)"
   ]
  },
  {
   "cell_type": "code",
   "execution_count": 39,
   "id": "81556349-6a20-4870-8a11-6d94237a2cf2",
   "metadata": {},
   "outputs": [
    {
     "data": {
      "text/plain": [
       "array([[0, 1],\n",
       "       [2, 3],\n",
       "       [4, 5],\n",
       "       [6, 7],\n",
       "       [8, 9]])"
      ]
     },
     "execution_count": 39,
     "metadata": {},
     "output_type": "execute_result"
    }
   ],
   "source": [
    "x.min(axis = 0)"
   ]
  },
  {
   "cell_type": "code",
   "execution_count": 40,
   "id": "4e665f88-fa1f-4c09-b7d8-ac8fb5fcb664",
   "metadata": {},
   "outputs": [
    {
     "data": {
      "text/plain": [
       "array([[ 0,  1],\n",
       "       [10, 11]])"
      ]
     },
     "execution_count": 40,
     "metadata": {},
     "output_type": "execute_result"
    }
   ],
   "source": [
    "np.min(x, axis = 1)"
   ]
  },
  {
   "cell_type": "code",
   "execution_count": 41,
   "id": "26337edf-178b-48be-887e-e01ad102023e",
   "metadata": {},
   "outputs": [
    {
     "data": {
      "text/plain": [
       "array([[ 0,  2,  4,  6,  8],\n",
       "       [10, 12, 14, 16, 18]])"
      ]
     },
     "execution_count": 41,
     "metadata": {},
     "output_type": "execute_result"
    }
   ],
   "source": [
    "x.min(axis = 2)"
   ]
  },
  {
   "cell_type": "markdown",
   "id": "e4aa393d-7839-4744-a1e7-2d51f6e76a94",
   "metadata": {},
   "source": [
    "### 차원 축소 연산 - argmin() -> 제일 작은 값의 인덱스"
   ]
  },
  {
   "cell_type": "code",
   "execution_count": 42,
   "id": "c6aaa97f-055e-48c2-b552-4a6f909cf25f",
   "metadata": {},
   "outputs": [
    {
     "data": {
      "text/plain": [
       "array([[[ 0,  1],\n",
       "        [ 2,  3],\n",
       "        [ 4,  5],\n",
       "        [ 6,  7],\n",
       "        [ 8,  9]],\n",
       "\n",
       "       [[10, 11],\n",
       "        [12, 13],\n",
       "        [14, 15],\n",
       "        [16, 17],\n",
       "        [18, 19]]])"
      ]
     },
     "execution_count": 42,
     "metadata": {},
     "output_type": "execute_result"
    }
   ],
   "source": [
    "#차원 축소 연산 - argmin() #arg인덱스\n",
    "#해당 배열의 제일 작은 값의 인덱스를 반환합니다. \n",
    "#연산 대상이 2차원 이상일 때에는 axis 키워드 인수를 사용할 수 있습니다.\n",
    "x = np.arange(20).reshape(2,5,-1)\n",
    "x"
   ]
  },
  {
   "cell_type": "code",
   "execution_count": 43,
   "id": "9a68e48b-6d4e-4d21-b45f-4e0f929dd1b5",
   "metadata": {},
   "outputs": [
    {
     "data": {
      "text/plain": [
       "0"
      ]
     },
     "execution_count": 43,
     "metadata": {},
     "output_type": "execute_result"
    }
   ],
   "source": [
    "x.argmin()"
   ]
  },
  {
   "cell_type": "code",
   "execution_count": 44,
   "id": "1f11e119-21cc-4222-8dbe-0d8184a18773",
   "metadata": {},
   "outputs": [
    {
     "data": {
      "text/plain": [
       "0"
      ]
     },
     "execution_count": 44,
     "metadata": {},
     "output_type": "execute_result"
    }
   ],
   "source": [
    "np.argmin(x)"
   ]
  },
  {
   "cell_type": "code",
   "execution_count": 45,
   "id": "e7bd6a2a-5acc-4f0c-ba10-687fa10003d6",
   "metadata": {},
   "outputs": [
    {
     "data": {
      "text/plain": [
       "array([[0, 0],\n",
       "       [0, 0],\n",
       "       [0, 0],\n",
       "       [0, 0],\n",
       "       [0, 0]], dtype=int64)"
      ]
     },
     "execution_count": 45,
     "metadata": {},
     "output_type": "execute_result"
    }
   ],
   "source": [
    "x.argmin(axis = 0)"
   ]
  },
  {
   "cell_type": "code",
   "execution_count": 46,
   "id": "13aa5b54-fac7-4afc-80af-78813f48a75c",
   "metadata": {},
   "outputs": [
    {
     "data": {
      "text/plain": [
       "array([[0, 0],\n",
       "       [0, 0]], dtype=int64)"
      ]
     },
     "execution_count": 46,
     "metadata": {},
     "output_type": "execute_result"
    }
   ],
   "source": [
    "np.argmin(x,axis = 1)"
   ]
  },
  {
   "cell_type": "code",
   "execution_count": 47,
   "id": "5b964540-e706-4863-a046-82c633134c96",
   "metadata": {},
   "outputs": [
    {
     "data": {
      "text/plain": [
       "array([[0, 0, 0, 0, 0],\n",
       "       [0, 0, 0, 0, 0]], dtype=int64)"
      ]
     },
     "execution_count": 47,
     "metadata": {},
     "output_type": "execute_result"
    }
   ],
   "source": [
    "x.argmin(axis = 2)"
   ]
  },
  {
   "cell_type": "markdown",
   "id": "b1a1f2b2-7da7-4817-9ec3-46bead4ff91f",
   "metadata": {},
   "source": [
    "### 차원 축소 연산 - max() -> 제일 큰 값"
   ]
  },
  {
   "cell_type": "code",
   "execution_count": 48,
   "id": "a53f31b0-6fb7-416d-8072-ab336fdf49a8",
   "metadata": {},
   "outputs": [
    {
     "data": {
      "text/plain": [
       "array([[[ 0,  1],\n",
       "        [ 2,  3],\n",
       "        [ 4,  5],\n",
       "        [ 6,  7],\n",
       "        [ 8,  9]],\n",
       "\n",
       "       [[10, 11],\n",
       "        [12, 13],\n",
       "        [14, 15],\n",
       "        [16, 17],\n",
       "        [18, 19]]])"
      ]
     },
     "execution_count": 48,
     "metadata": {},
     "output_type": "execute_result"
    }
   ],
   "source": [
    "#차원 축소 연산 - max()\n",
    "#해당 배열의 제일 큰 값의 결과를 반환합니다. \n",
    "#연산 대상이 2차원 이상일 때에는 axis 키워드 인수를 사용할 수 있습니다.\n",
    "x = np.arange(20).reshape(2,5,-1)\n",
    "x"
   ]
  },
  {
   "cell_type": "code",
   "execution_count": 49,
   "id": "5c1ecf73-8ebd-4529-8abb-ae80ef0c4f2b",
   "metadata": {},
   "outputs": [
    {
     "data": {
      "text/plain": [
       "19"
      ]
     },
     "execution_count": 49,
     "metadata": {},
     "output_type": "execute_result"
    }
   ],
   "source": [
    "x.max()"
   ]
  },
  {
   "cell_type": "code",
   "execution_count": 50,
   "id": "66c314d1-2caa-4f13-991d-3ac50da2566a",
   "metadata": {},
   "outputs": [
    {
     "data": {
      "text/plain": [
       "19"
      ]
     },
     "execution_count": 50,
     "metadata": {},
     "output_type": "execute_result"
    }
   ],
   "source": [
    "np.max(x)"
   ]
  },
  {
   "cell_type": "code",
   "execution_count": 51,
   "id": "1c5f4f44-cab4-4822-a1e9-fab72d2bd0d7",
   "metadata": {},
   "outputs": [
    {
     "data": {
      "text/plain": [
       "array([[10, 11],\n",
       "       [12, 13],\n",
       "       [14, 15],\n",
       "       [16, 17],\n",
       "       [18, 19]])"
      ]
     },
     "execution_count": 51,
     "metadata": {},
     "output_type": "execute_result"
    }
   ],
   "source": [
    "x.max(axis = 0)"
   ]
  },
  {
   "cell_type": "code",
   "execution_count": 52,
   "id": "ecca0feb-cf7c-48f0-9a15-d58302cbabfb",
   "metadata": {},
   "outputs": [
    {
     "data": {
      "text/plain": [
       "array([[ 8,  9],\n",
       "       [18, 19]])"
      ]
     },
     "execution_count": 52,
     "metadata": {},
     "output_type": "execute_result"
    }
   ],
   "source": [
    "np.max(x,axis = 1)"
   ]
  },
  {
   "cell_type": "code",
   "execution_count": 53,
   "id": "5626b54a-688f-42fa-afa2-07da5607e322",
   "metadata": {},
   "outputs": [
    {
     "data": {
      "text/plain": [
       "array([[ 1,  3,  5,  7,  9],\n",
       "       [11, 13, 15, 17, 19]])"
      ]
     },
     "execution_count": 53,
     "metadata": {},
     "output_type": "execute_result"
    }
   ],
   "source": [
    "x.max(axis = 2)"
   ]
  },
  {
   "cell_type": "markdown",
   "id": "69b6e5fb-992a-47fd-97cf-2ba06d7794f3",
   "metadata": {},
   "source": [
    "### 차원 축소 연산 - argmax() -> 제일 큰 값의 인덱스"
   ]
  },
  {
   "cell_type": "code",
   "execution_count": 54,
   "id": "e0477890-4091-4918-90b0-94584be4fde0",
   "metadata": {},
   "outputs": [
    {
     "data": {
      "text/plain": [
       "array([[[ 0,  1],\n",
       "        [ 2,  3],\n",
       "        [ 4,  5],\n",
       "        [ 6,  7],\n",
       "        [ 8,  9]],\n",
       "\n",
       "       [[10, 11],\n",
       "        [12, 13],\n",
       "        [14, 15],\n",
       "        [16, 17],\n",
       "        [18, 19]]])"
      ]
     },
     "execution_count": 54,
     "metadata": {},
     "output_type": "execute_result"
    }
   ],
   "source": [
    "#차원 축소 연산 - argmax()\n",
    "#해당 배열의 제일 큰 값의 인덱스를 반환합니다. \n",
    "#연산 대상이 2차원 이상일 때에는 axis 키워드 인수를 사용할 수 있습니다.\n",
    "x = np.arange(20).reshape(2,5,-1)\n",
    "x"
   ]
  },
  {
   "cell_type": "code",
   "execution_count": 55,
   "id": "86ff54d0-634d-4a92-9511-500921e4ad06",
   "metadata": {},
   "outputs": [
    {
     "data": {
      "text/plain": [
       "19"
      ]
     },
     "execution_count": 55,
     "metadata": {},
     "output_type": "execute_result"
    }
   ],
   "source": [
    "x.argmax() #인덱스 번호"
   ]
  },
  {
   "cell_type": "code",
   "execution_count": 56,
   "id": "b438978e-6017-49ec-abf6-ee52c1fb8fc0",
   "metadata": {},
   "outputs": [
    {
     "data": {
      "text/plain": [
       "19"
      ]
     },
     "execution_count": 56,
     "metadata": {},
     "output_type": "execute_result"
    }
   ],
   "source": [
    "np.argmax(x)"
   ]
  },
  {
   "cell_type": "code",
   "execution_count": 57,
   "id": "435f3585-03b0-4aba-ba43-1a2c64f722c5",
   "metadata": {},
   "outputs": [
    {
     "data": {
      "text/plain": [
       "array([[1, 1],\n",
       "       [1, 1],\n",
       "       [1, 1],\n",
       "       [1, 1],\n",
       "       [1, 1]], dtype=int64)"
      ]
     },
     "execution_count": 57,
     "metadata": {},
     "output_type": "execute_result"
    }
   ],
   "source": [
    "x.argmax(axis = 0)"
   ]
  },
  {
   "cell_type": "code",
   "execution_count": 58,
   "id": "96debff0-9338-420b-8532-e3de6e029658",
   "metadata": {},
   "outputs": [
    {
     "data": {
      "text/plain": [
       "array([[4, 4],\n",
       "       [4, 4]], dtype=int64)"
      ]
     },
     "execution_count": 58,
     "metadata": {},
     "output_type": "execute_result"
    }
   ],
   "source": [
    "np.argmax(x,axis = 1)"
   ]
  },
  {
   "cell_type": "code",
   "execution_count": 59,
   "id": "05857ab6-4f92-4b9d-a119-14f7f74e287a",
   "metadata": {},
   "outputs": [
    {
     "data": {
      "text/plain": [
       "array([[1, 1, 1, 1, 1],\n",
       "       [1, 1, 1, 1, 1]], dtype=int64)"
      ]
     },
     "execution_count": 59,
     "metadata": {},
     "output_type": "execute_result"
    }
   ],
   "source": [
    "x.argmax(axis = 2)"
   ]
  },
  {
   "cell_type": "markdown",
   "id": "26d273b9-82ee-4370-924f-4cea67340be5",
   "metadata": {},
   "source": [
    "### 자원축소연산 mean(), median(), np.all(), np.any()"
   ]
  },
  {
   "cell_type": "code",
   "execution_count": 60,
   "id": "f5b98e92-65db-43ba-8546-af3659612d7a",
   "metadata": {},
   "outputs": [
    {
     "data": {
      "text/plain": [
       "1.75"
      ]
     },
     "execution_count": 60,
     "metadata": {},
     "output_type": "execute_result"
    }
   ],
   "source": [
    "#자원축소연산 mean(), median(), np.all(), np.any()\n",
    "#mean()은 평균을 구합니다. \n",
    "#median()은 중앙값을 구합니다. \n",
    "#np.all()은 배열 요소가 모두 True일 때 True를 반환합니다.(하나라도 False면 False입니다.)\n",
    "#np.any()는 배열 요소가 하나라도 True면 True를 반환합니다.(전부 False면 False입니다.\n",
    "x = np.array([1,2,3,1])\n",
    "x.mean()"
   ]
  },
  {
   "cell_type": "code",
   "execution_count": 61,
   "id": "85eaefbd-d73d-426b-8ef8-429fa073a7d7",
   "metadata": {},
   "outputs": [
    {
     "data": {
      "text/plain": [
       "1.5"
      ]
     },
     "execution_count": 61,
     "metadata": {},
     "output_type": "execute_result"
    }
   ],
   "source": [
    "np.median(x)"
   ]
  },
  {
   "cell_type": "code",
   "execution_count": 62,
   "id": "585c91df-105c-4c08-95a9-0e165af08b16",
   "metadata": {},
   "outputs": [
    {
     "data": {
      "text/plain": [
       "False"
      ]
     },
     "execution_count": 62,
     "metadata": {},
     "output_type": "execute_result"
    }
   ],
   "source": [
    "np.all([True,True,False])"
   ]
  },
  {
   "cell_type": "code",
   "execution_count": 63,
   "id": "d1e051cf-f279-4e19-b07c-4eb8bb97dec2",
   "metadata": {},
   "outputs": [
    {
     "data": {
      "text/plain": [
       "True"
      ]
     },
     "execution_count": 63,
     "metadata": {},
     "output_type": "execute_result"
    }
   ],
   "source": [
    "np.any([True,True,False])"
   ]
  },
  {
   "cell_type": "code",
   "execution_count": 64,
   "id": "d86fc3a8-f90c-4a8b-a511-1b55e1d17be4",
   "metadata": {},
   "outputs": [],
   "source": [
    "a = np.array([1, 2, 3, 2])\n",
    "b = np.array([2, 2, 3, 2])\n",
    "c = np.array([6, 4, 4, 5])"
   ]
  },
  {
   "cell_type": "code",
   "execution_count": 65,
   "id": "893eec27-cd06-479b-bbcd-5b7612693996",
   "metadata": {},
   "outputs": [
    {
     "data": {
      "text/plain": [
       "True"
      ]
     },
     "execution_count": 65,
     "metadata": {},
     "output_type": "execute_result"
    }
   ],
   "source": [
    "((a <= b) & (b <= c)).all()"
   ]
  },
  {
   "cell_type": "code",
   "execution_count": 66,
   "id": "e4a1db49-48a7-4e56-8a1c-ce5fd26f659c",
   "metadata": {},
   "outputs": [
    {
     "data": {
      "text/plain": [
       "array([[0, 0, 0, ..., 0, 0, 0],\n",
       "       [0, 0, 0, ..., 0, 0, 0],\n",
       "       [0, 0, 0, ..., 0, 0, 0],\n",
       "       ...,\n",
       "       [0, 0, 0, ..., 0, 0, 0],\n",
       "       [0, 0, 0, ..., 0, 0, 0],\n",
       "       [0, 0, 0, ..., 0, 0, 0]], dtype=int64)"
      ]
     },
     "execution_count": 66,
     "metadata": {},
     "output_type": "execute_result"
    }
   ],
   "source": [
    "a = np.zeros((100, 100), dtype = np.int64)\n",
    "a"
   ]
  },
  {
   "cell_type": "code",
   "execution_count": 67,
   "id": "ff27e720-955f-434a-a48e-e10f217c193b",
   "metadata": {},
   "outputs": [
    {
     "data": {
      "text/plain": [
       "False"
      ]
     },
     "execution_count": 67,
     "metadata": {},
     "output_type": "execute_result"
    }
   ],
   "source": [
    "np.any(a != 0)"
   ]
  },
  {
   "cell_type": "code",
   "execution_count": 68,
   "id": "1433c72c-b34e-4f2a-83a8-0099625bd924",
   "metadata": {},
   "outputs": [
    {
     "data": {
      "text/plain": [
       "True"
      ]
     },
     "execution_count": 68,
     "metadata": {},
     "output_type": "execute_result"
    }
   ],
   "source": [
    "np.all(a == a)"
   ]
  },
  {
   "cell_type": "code",
   "execution_count": 69,
   "id": "7fc06281-89d5-4a18-9042-ffd13adfc279",
   "metadata": {},
   "outputs": [],
   "source": [
    "#실수로 이루어진 5 x 6 형태의 데이터 행렬을 만들고 이 데이터에 대해 다음과 같은 값을 구한다.\n",
    "#1. 전체의 최대값\n",
    "#2. 행 간의 합\n",
    "#3. 행 간의 최대값\n",
    "#4. 열 간의 평균\n",
    "#5. 열 간의 최소값\n",
    "practice = np.array([[1.1, 7.1, 8.0, 2.1, 6.5, 7.2], \n",
    "                    [2.7, 5.2, 3.3, 9.0, 7.7, 2.8],\n",
    "                    [0.7, 8.8, 4.2, 8.9, 4.3, 7.4],\n",
    "                    [8.2, 1.1, 5.4, 2.9, 6.9, 0.2],\n",
    "                    [7.4, 4.8, 2.7, 3.1, 2.8, 8.9]])"
   ]
  },
  {
   "cell_type": "code",
   "execution_count": 70,
   "id": "8a19b1e3-3b23-459d-bbf2-624140db2606",
   "metadata": {},
   "outputs": [
    {
     "data": {
      "text/plain": [
       "9.0"
      ]
     },
     "execution_count": 70,
     "metadata": {},
     "output_type": "execute_result"
    }
   ],
   "source": [
    "practice.max()"
   ]
  },
  {
   "cell_type": "code",
   "execution_count": 71,
   "id": "990cb5b2-b497-4e19-9935-78b9b1785222",
   "metadata": {},
   "outputs": [
    {
     "data": {
      "text/plain": [
       "array([20.1, 27. , 23.6, 26. , 28.2, 26.5])"
      ]
     },
     "execution_count": 71,
     "metadata": {},
     "output_type": "execute_result"
    }
   ],
   "source": [
    "practice.sum(axis = 0)"
   ]
  },
  {
   "cell_type": "code",
   "execution_count": 72,
   "id": "8c686d33-c791-4033-834e-e1d7e70247fd",
   "metadata": {},
   "outputs": [
    {
     "data": {
      "text/plain": [
       "array([8.2, 8.8, 8. , 9. , 7.7, 8.9])"
      ]
     },
     "execution_count": 72,
     "metadata": {},
     "output_type": "execute_result"
    }
   ],
   "source": [
    "practice.max(axis = 0)"
   ]
  },
  {
   "cell_type": "code",
   "execution_count": 73,
   "id": "19fcda04-07fa-4ecc-8927-012f083c3fdb",
   "metadata": {},
   "outputs": [
    {
     "data": {
      "text/plain": [
       "array([5.33333333, 5.11666667, 5.71666667, 4.11666667, 4.95      ])"
      ]
     },
     "execution_count": 73,
     "metadata": {},
     "output_type": "execute_result"
    }
   ],
   "source": [
    "practice.mean(axis = 1)"
   ]
  },
  {
   "cell_type": "code",
   "execution_count": 74,
   "id": "9a32f5d2-1f84-4721-b974-dc47648f2169",
   "metadata": {},
   "outputs": [
    {
     "data": {
      "text/plain": [
       "array([1.1, 2.7, 0.7, 0.2, 2.7])"
      ]
     },
     "execution_count": 74,
     "metadata": {},
     "output_type": "execute_result"
    }
   ],
   "source": [
    "practice.min(axis = 1)"
   ]
  }
 ],
 "metadata": {
  "kernelspec": {
   "display_name": "Python 3 (ipykernel)",
   "language": "python",
   "name": "python3"
  },
  "language_info": {
   "codemirror_mode": {
    "name": "ipython",
    "version": 3
   },
   "file_extension": ".py",
   "mimetype": "text/x-python",
   "name": "python",
   "nbconvert_exporter": "python",
   "pygments_lexer": "ipython3",
   "version": "3.9.13"
  }
 },
 "nbformat": 4,
 "nbformat_minor": 5
}
