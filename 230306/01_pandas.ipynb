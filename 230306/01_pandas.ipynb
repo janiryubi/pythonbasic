{
 "cells": [
  {
   "cell_type": "markdown",
   "id": "73af624c-8815-46f2-aeac-2d94a8343fdd",
   "metadata": {},
   "source": [
    "# pandas"
   ]
  },
  {
   "cell_type": "code",
   "execution_count": 1,
   "id": "0b466383-fe4d-431c-924c-15b7ea750359",
   "metadata": {},
   "outputs": [],
   "source": [
    "#파이썬의 데이터분석 라이브러리"
   ]
  },
  {
   "cell_type": "code",
   "execution_count": 2,
   "id": "f3afc386-9ca4-4901-abb7-e44e464b080d",
   "metadata": {},
   "outputs": [],
   "source": [
    "#panal datas\n",
    "#시계열이나 표 형태로 나타낼 수있음\n",
    "#series 클래스, dataframe클래스 제공\n",
    "#숫자테이블과 시계열을 조작하기 위한 데이터 구조와 연산 제공"
   ]
  },
  {
   "cell_type": "code",
   "execution_count": 3,
   "id": "10c72f76-51f1-4d11-88af-56e264d8912e",
   "metadata": {},
   "outputs": [],
   "source": [
    "#사용하기 위해서는 해당 패키지를 임초트 해야 함.\n",
    "#원래는 별도 설치가 필요하나, 아나콘다에 다 들어있기 때문에 임포트만"
   ]
  },
  {
   "cell_type": "code",
   "execution_count": 4,
   "id": "4c1a7318-0d25-4d66-bfb1-8c80aab1fb1d",
   "metadata": {},
   "outputs": [],
   "source": [
    "import pandas as pd"
   ]
  },
  {
   "cell_type": "markdown",
   "id": "88baac48-702c-4c9d-aa1d-0a6ef9249b4f",
   "metadata": {},
   "source": [
    "# Series class (pd.Series())"
   ]
  },
  {
   "cell_type": "code",
   "execution_count": 5,
   "id": "59238f8f-543a-41d0-b3d9-87ccc09f4cbf",
   "metadata": {},
   "outputs": [],
   "source": [
    "#Numpy에서 제공하는 1차원 배열과 모양이 비슷\n",
    "#Series class는 배열과 다르게 각 데이터의 의미를 표시하는 index(index)를 붙일 수 있음\n",
    "#데이터 자체는 값(value)"
   ]
  },
  {
   "cell_type": "code",
   "execution_count": 6,
   "id": "31372585-f438-4212-9008-d78116364b97",
   "metadata": {},
   "outputs": [
    {
     "data": {
      "text/plain": [
       "1     하나\n",
       "2      둘\n",
       "3      셋\n",
       "4      넷\n",
       "5     다섯\n",
       "6     여섯\n",
       "7     일곱\n",
       "8     여덟\n",
       "9     아홉\n",
       "10     열\n",
       "dtype: object"
      ]
     },
     "execution_count": 6,
     "metadata": {},
     "output_type": "execute_result"
    }
   ],
   "source": [
    "series = pd.Series([\"하나\", \"둘\", \"셋\", \"넷\", \"다섯\",\n",
    "                    \"여섯\", \"일곱\", \"여덟\", \"아홉\", \"열\"], #value(기수)\n",
    "                   index = [_ for _ in range(1, 11)]) #index(수)\n",
    "                # index를 1부터 시작하게 초기값 설정\n",
    "series"
   ]
  },
  {
   "cell_type": "markdown",
   "id": "e73655b6-bcd6-4bc6-93b2-757cf08f858c",
   "metadata": {},
   "source": [
    "# Series 생성"
   ]
  },
  {
   "cell_type": "code",
   "execution_count": 7,
   "id": "305fc65e-0bd4-4508-bbef-cae9acd00f45",
   "metadata": {},
   "outputs": [],
   "source": [
    "#Series 객체를 만들 때 첫 인수로 data, 두 번째 인수로는 index를 넣습니다.\n",
    "#data 값으로 iterable, 배열, scalar value, dict(key와 index를 동일하게 사용하거나 생략)를 사용할 수 있습니다.\n",
    "#index는 label이라고도 합니다. index는 data와 length가 동일해야 합니다. \n",
    "#label은 꼭 유일(unique)할 필요는 없습니다. \n",
    "#다만 반드시 hashable type만 사용 가능 합니다.\n",
    "#만약 index를 생략할 경우 RangeIndex(0, 1, … , n)를 제공합니다.\n",
    "\n",
    "#class pandas.serise(data = None,index = None,dtype = None,name = None, copy = False, fastpath = False)"
   ]
  },
  {
   "cell_type": "code",
   "execution_count": 8,
   "id": "7a9a7ecd-d3e8-4580-8cca-4c126573444d",
   "metadata": {},
   "outputs": [
    {
     "data": {
      "text/plain": [
       "서울    9904312\n",
       "부산    3448737\n",
       "인천    2890451\n",
       "대구    2466052\n",
       "dtype: int64"
      ]
     },
     "execution_count": 8,
     "metadata": {},
     "output_type": "execute_result"
    }
   ],
   "source": [
    "#각 도시의 2015년 인구데이터를 series로 만들기\n",
    "#사이사이 언더바를 넣어  쉽게 읽을 수 있도록 끊어 표기할 수 있음)\n",
    "\n",
    "s = pd.Series([9_904_312, 3_448_737, 2_890_451, 2_466_052],\n",
    "             index = [\"서울\", \"부산\", \"인천\", \"대구\"])\n",
    "s"
   ]
  },
  {
   "cell_type": "code",
   "execution_count": null,
   "id": "43bea904-1300-41b6-afb2-544425a7835c",
   "metadata": {},
   "outputs": [],
   "source": []
  },
  {
   "cell_type": "code",
   "execution_count": 9,
   "id": "0dff5baf-f7b7-4535-94b1-49ca7fe5f3ea",
   "metadata": {},
   "outputs": [
    {
     "data": {
      "text/plain": [
       "0    10\n",
       "1    20\n",
       "2    30\n",
       "3    40\n",
       "4    50\n",
       "5    60\n",
       "6    70\n",
       "7    80\n",
       "8    90\n",
       "dtype: int64"
      ]
     },
     "execution_count": 9,
     "metadata": {},
     "output_type": "execute_result"
    }
   ],
   "source": [
    "#연습문제\n",
    "s = pd.Series([10,20,30,40,50,60,70,80,90], #내꺼 #Series는 대문자로 시작\n",
    "              index = [\"0\",\"1\",\"2\",\"3\",\"4\",\"5\",\"6\",\"7\",\"8\"])\n",
    "s"
   ]
  },
  {
   "cell_type": "code",
   "execution_count": 10,
   "id": "1eca8a72-8692-4270-89d8-daa5754dd0f4",
   "metadata": {},
   "outputs": [
    {
     "data": {
      "text/plain": [
       "0    10\n",
       "1    20\n",
       "2    30\n",
       "3    40\n",
       "4    50\n",
       "5    60\n",
       "6    70\n",
       "7    80\n",
       "8    90\n",
       "dtype: int64"
      ]
     },
     "execution_count": 10,
     "metadata": {},
     "output_type": "execute_result"
    }
   ],
   "source": [
    "#연습문제 다른 답안\n",
    "s = pd.Series(range(10,91,10)) #진명님\n",
    "s\n",
    "#인덱스는 0부터 시작이기에 지정해주지 않아도 됌"
   ]
  },
  {
   "cell_type": "code",
   "execution_count": null,
   "id": "84b55337-3526-4284-bf9f-08c79763dbd6",
   "metadata": {},
   "outputs": [],
   "source": []
  },
  {
   "cell_type": "code",
   "execution_count": null,
   "id": "228374f3-6db8-448c-b9c0-cb9b11bc7917",
   "metadata": {},
   "outputs": [],
   "source": []
  },
  {
   "cell_type": "markdown",
   "id": "afcd4cc8-4508-4747-917b-4e99206a1e07",
   "metadata": {},
   "source": [
    "## Series class - index,values의 조건"
   ]
  },
  {
   "cell_type": "code",
   "execution_count": 11,
   "id": "920459ac-aaec-475f-bc9d-12993d256cc0",
   "metadata": {},
   "outputs": [
    {
     "data": {
      "text/plain": [
       "0    10\n",
       "1    11\n",
       "2    12\n",
       "3    13\n",
       "dtype: int64"
      ]
     },
     "execution_count": 11,
     "metadata": {},
     "output_type": "execute_result"
    }
   ],
   "source": [
    "pd.Series(range(10,14))\n",
    "# index 지정을 안 하면 Series의 index는 0부터 시작하는 정수"
   ]
  },
  {
   "cell_type": "code",
   "execution_count": null,
   "id": "5c55086a-a3c6-4d3d-b935-094a2e65efbc",
   "metadata": {},
   "outputs": [],
   "source": []
  },
  {
   "cell_type": "code",
   "execution_count": 12,
   "id": "34d33f6d-fdab-4476-aac0-569bfe5429b3",
   "metadata": {},
   "outputs": [
    {
     "data": {
      "text/plain": [
       "RangeIndex(start=0, stop=9, step=1)"
      ]
     },
     "execution_count": 12,
     "metadata": {},
     "output_type": "execute_result"
    }
   ],
   "source": [
    "#Series의 index는 index 속성으로 접근할 수 있다. \n",
    "#Series의 value는 1차원 배열(ndarray)이며 values 속성으로 접근할 수 있습니다.\n",
    "s.index"
   ]
  },
  {
   "cell_type": "code",
   "execution_count": 13,
   "id": "c176bb1c-fca8-4910-8093-2aaaae09ced3",
   "metadata": {},
   "outputs": [
    {
     "data": {
      "text/plain": [
       "array([10, 20, 30, 40, 50, 60, 70, 80, 90], dtype=int64)"
      ]
     },
     "execution_count": 13,
     "metadata": {},
     "output_type": "execute_result"
    }
   ],
   "source": [
    "s.values # 데이터 타입이 ndarrays이다."
   ]
  },
  {
   "cell_type": "code",
   "execution_count": null,
   "id": "b5051efc-388e-4345-a6f3-3f2cc6e08eee",
   "metadata": {},
   "outputs": [],
   "source": []
  },
  {
   "cell_type": "code",
   "execution_count": 14,
   "id": "2bb7f65f-c101-4905-bbae-602e50afb323",
   "metadata": {},
   "outputs": [
    {
     "data": {
      "text/plain": [
       "4"
      ]
     },
     "execution_count": 14,
     "metadata": {},
     "output_type": "execute_result"
    }
   ],
   "source": [
    "#연습문제\n",
    "#앞선 연습 문제에서 만든 Series 객체의 값 중 50보다 큰 값의 개수를 구해보세요.\n",
    "s.values>50\n",
    "sum(s.values>50)"
   ]
  },
  {
   "cell_type": "code",
   "execution_count": null,
   "id": "95c5db00-eda3-4b29-9393-dc2b36838853",
   "metadata": {},
   "outputs": [],
   "source": []
  },
  {
   "cell_type": "code",
   "execution_count": null,
   "id": "67b4f5b0-087f-4034-8cad-457c97608adf",
   "metadata": {},
   "outputs": [],
   "source": []
  },
  {
   "cell_type": "markdown",
   "id": "2f386ce7-1168-4f6a-a939-28ffc747813e",
   "metadata": {},
   "source": [
    "### Series class - name, index.name"
   ]
  },
  {
   "cell_type": "code",
   "execution_count": 15,
   "id": "cddd345e-a986-49f0-a416-552195605a16",
   "metadata": {},
   "outputs": [
    {
     "data": {
      "text/plain": [
       "도시\n",
       "0    10\n",
       "1    20\n",
       "2    30\n",
       "3    40\n",
       "4    50\n",
       "5    60\n",
       "6    70\n",
       "7    80\n",
       "8    90\n",
       "Name: 인구, dtype: int64"
      ]
     },
     "execution_count": 15,
     "metadata": {},
     "output_type": "execute_result"
    }
   ],
   "source": [
    "#name 속성을 이용하여 Series 데이터에 이름을 붙일 수 있습니다. \n",
    "#index.name 속성으로 Series의 index에도 이름을 붙일 수 있습니다.\n",
    "\n",
    "s.name = \"인구\" # Series 이름 생성\n",
    "s.index.name = \"도시\" # 인덱스 상단에 이름 생성\n",
    "s"
   ]
  },
  {
   "cell_type": "markdown",
   "id": "972394a9-af97-4013-b198-2745075dd733",
   "metadata": {},
   "source": [
    "#### Series class - data에 dict 사용"
   ]
  },
  {
   "cell_type": "code",
   "execution_count": 16,
   "id": "febeef44-6684-4d90-b985-28f961e59a4b",
   "metadata": {},
   "outputs": [
    {
     "data": {
      "text/plain": [
       "a    1\n",
       "b    2\n",
       "c    3\n",
       "dtype: int64"
      ]
     },
     "execution_count": 16,
     "metadata": {},
     "output_type": "execute_result"
    }
   ],
   "source": [
    "#Series 객체를 만들 때 data에 dict를 사용\n",
    "#아래 예제에서는 dict와 동일하게 index를 적용하고 있습니다. \n",
    "#만들어진 Series 객체를 조회해보면 그 값이 정상적으로 조회되는 것을 확인할 수 있습니다.\n",
    "\n",
    "d = {'a' : 1, 'b' : 2, 'c' : 3}\n",
    "ser = pd.Series(data = d, index = ['a', 'b', 'c'])\n",
    "ser"
   ]
  },
  {
   "cell_type": "code",
   "execution_count": 17,
   "id": "d6f06150-4895-46fe-b727-9fc2eb2c7362",
   "metadata": {},
   "outputs": [
    {
     "data": {
      "text/plain": [
       "c    3\n",
       "a    1\n",
       "b    2\n",
       "dtype: int64"
      ]
     },
     "execution_count": 17,
     "metadata": {},
     "output_type": "execute_result"
    }
   ],
   "source": [
    "#인덱스 순서가 달라져도 가능\n",
    "d = {'a' : 1, 'b' : 2, 'c' : 3} #index로 순서를 만들어 줌\n",
    "ser = pd.Series(data = d, index = ['c', 'a', 'b'])\n",
    "ser"
   ]
  },
  {
   "cell_type": "code",
   "execution_count": 18,
   "id": "6061be66-e16b-4ac9-8d55-40273ccec615",
   "metadata": {},
   "outputs": [
    {
     "data": {
      "text/plain": [
       "x   NaN\n",
       "y   NaN\n",
       "z   NaN\n",
       "dtype: float64"
      ]
     },
     "execution_count": 18,
     "metadata": {},
     "output_type": "execute_result"
    }
   ],
   "source": [
    "#dict의 key와 Series 객체의 index를 다르게 설정\n",
    "#data가 dict일 때 index가 최초에 dict의 key로 만들어집니다. \n",
    "#그 후 Series는 index 키워드로 전달받은 인수로 index를 재할당합니다. \n",
    "#그래서 밑에 예제와 같이 Series 객체의 값이 NaN의 결과를 출력하는 것을 확인할 수 있습니다.\n",
    "\n",
    "d = {'a' : 1, 'b' : 2, 'c' : 3} # key값이 최초에 index으로 사용\n",
    "ser = pd.Series(data = d, index = ['x', 'y', 'z'])\n",
    "# 키워드 인수로 넘겨받은 index 값 재할당\n",
    "ser # index가 재할당 되면서 매치되는 데이터가 없음(NaN 출력)\n",
    "#np.nan은 float로만 쓸 수 있음"
   ]
  },
  {
   "cell_type": "code",
   "execution_count": null,
   "id": "ebfaa0a8-0edc-4562-9b6b-c7ba1a171e76",
   "metadata": {},
   "outputs": [],
   "source": []
  },
  {
   "cell_type": "markdown",
   "id": "b91b03a6-b4b7-4751-8cde-eab9245b799f",
   "metadata": {},
   "source": [
    "#### Series class - index 지정 없이 dict 객체만 사용"
   ]
  },
  {
   "cell_type": "code",
   "execution_count": 19,
   "id": "051675e8-44b0-4d9c-aca4-d8158d43d503",
   "metadata": {},
   "outputs": [
    {
     "data": {
      "text/plain": [
       "서울    9904312\n",
       "부산    3448737\n",
       "인천    2890451\n",
       "대구    2466052\n",
       "dtype: int64"
      ]
     },
     "execution_count": 19,
     "metadata": {},
     "output_type": "execute_result"
    }
   ],
   "source": [
    "#index 지정 없이 dict 객체만 가지고 Series를 만들 수도 있습니다. \n",
    "#dic의 key가 index로 사용되는 것을 확인할 수 있습니다.\n",
    "\n",
    "s = pd.Series({\"서울\": 9_904_312,\n",
    "                \"부산\": 3_448_737,\n",
    "                \"인천\": 2_890_451,\n",
    "                \"대구\": 2_466_052\n",
    "                })\n",
    "s"
   ]
  },
  {
   "cell_type": "code",
   "execution_count": 20,
   "id": "c1396ece-20e8-4f39-b550-932b0716fc20",
   "metadata": {},
   "outputs": [
    {
     "data": {
      "text/plain": [
       "철수     88\n",
       "영희     95\n",
       "길동    100\n",
       "몽룡     67\n",
       "dtype: int64"
      ]
     },
     "execution_count": 20,
     "metadata": {},
     "output_type": "execute_result"
    }
   ],
   "source": [
    "#연습문제\n",
    "s = {\"철수\" : 88, \"영희\" : 95, \"길동\" : 100, \"몽룡\": 67}\n",
    "ser = pd.Series(data = s, index = [\"철수\",\"영희\",\"길동\",\"몽룡\"])\n",
    "ser"
   ]
  },
  {
   "cell_type": "code",
   "execution_count": 21,
   "id": "42fc4b41-d58c-4793-9cd0-2d4d58f67745",
   "metadata": {},
   "outputs": [
    {
     "data": {
      "text/plain": [
       "철수     88\n",
       "영희     95\n",
       "길동    100\n",
       "몽룡     67\n",
       "dtype: int64"
      ]
     },
     "execution_count": 21,
     "metadata": {},
     "output_type": "execute_result"
    }
   ],
   "source": [
    "#연습문제 #진명님 풀이\n",
    "s = {\"철수\" : 88, \"영희\" : 95, \"길동\" : 100, \"몽룡\": 67}\n",
    "#key값이 이미 설정되어있기 때문에 인덱스를 지정해주지 않아도 됌\n",
    "ser = pd.Series(s)\n",
    "ser"
   ]
  },
  {
   "cell_type": "code",
   "execution_count": null,
   "id": "04cc77ed-10f3-44d0-9af2-579849eabbef",
   "metadata": {},
   "outputs": [],
   "source": []
  },
  {
   "cell_type": "markdown",
   "id": "39eb6e4a-a556-4cbc-9786-5f35fa8c8c5c",
   "metadata": {},
   "source": [
    "### Series index를 속성처럼 활용하기 - label 값이 공백 없는 문자열"
   ]
  },
  {
   "cell_type": "code",
   "execution_count": 22,
   "id": "cf620342-0103-47dc-bce5-2c4574a701d1",
   "metadata": {},
   "outputs": [
    {
     "data": {
      "text/plain": [
       "a    1\n",
       "b    2\n",
       "c    3\n",
       "dtype: int64"
      ]
     },
     "execution_count": 22,
     "metadata": {},
     "output_type": "execute_result"
    }
   ],
   "source": [
    "#만약 label 값이 공백 없는 문자열인 경우에는 index label이 속성인것처럼 마침표(.)를 활용하여 해당 index 값에 접근할 수도 있습니다.\n",
    "\n",
    "d = {'a' : 1, 'b' : 2, 'c' : 3}\n",
    "ser = pd.Series(data = d, index = ['a', 'b', 'c'])\n",
    "ser"
   ]
  },
  {
   "cell_type": "code",
   "execution_count": 23,
   "id": "0ed1defa-aefc-4ff2-845d-9c80e9944d41",
   "metadata": {},
   "outputs": [
    {
     "data": {
      "text/plain": [
       "(1, 2, 3)"
      ]
     },
     "execution_count": 23,
     "metadata": {},
     "output_type": "execute_result"
    }
   ],
   "source": [
    "ser.a, ser.b, ser.c"
   ]
  },
  {
   "cell_type": "code",
   "execution_count": null,
   "id": "8f7b5fb1-1674-4346-bff5-da1aaa8258af",
   "metadata": {},
   "outputs": [],
   "source": []
  },
  {
   "cell_type": "code",
   "execution_count": null,
   "id": "3a451aff-3161-47bd-9bc3-44dafd2d8944",
   "metadata": {},
   "outputs": [],
   "source": []
  },
  {
   "cell_type": "markdown",
   "id": "522cb769-04ef-4edb-967e-94d7dc02aaf3",
   "metadata": {},
   "source": [
    "### Series의 특징 - 딕셔너리와 비슷함"
   ]
  },
  {
   "cell_type": "code",
   "execution_count": 24,
   "id": "95dbcf6a-780d-407d-bbfd-dab0aeced6e7",
   "metadata": {},
   "outputs": [],
   "source": [
    "#Series 객체는 index label을 키(key)로 사용하기에 딕셔너리 자료형과 비슷한 특징을 가짐.\n",
    "#Series를 딕셔너리와 같은 방식으로 사용할 수 있게 구현해놓음.\n",
    "#in 연산, items() 메서드를 사용한 for문 루프를 통해 각 요소의 키(key)와 값(value)에 접근 가능"
   ]
  },
  {
   "cell_type": "code",
   "execution_count": 25,
   "id": "4ed751d1-c8bb-4f66-bbac-d90f16535a82",
   "metadata": {},
   "outputs": [
    {
     "data": {
      "text/plain": [
       "False"
      ]
     },
     "execution_count": 25,
     "metadata": {},
     "output_type": "execute_result"
    }
   ],
   "source": [
    "\"서울\" in s # 인덱스 레이블 중에 서울이 있는가"
   ]
  },
  {
   "cell_type": "code",
   "execution_count": 26,
   "id": "d25786e2-a46d-4f09-8bf3-68d6d1461706",
   "metadata": {},
   "outputs": [
    {
     "data": {
      "text/plain": [
       "False"
      ]
     },
     "execution_count": 26,
     "metadata": {},
     "output_type": "execute_result"
    }
   ],
   "source": [
    "\"대전\" in s # 인덱스 레이블 중에 대전이 있는가"
   ]
  },
  {
   "cell_type": "code",
   "execution_count": 27,
   "id": "dd2ba82f-41b9-4c62-9b1d-e8b655441588",
   "metadata": {},
   "outputs": [
    {
     "data": {
      "text/plain": [
       "<function dict.values>"
      ]
     },
     "execution_count": 27,
     "metadata": {},
     "output_type": "execute_result"
    }
   ],
   "source": [
    "s.values"
   ]
  },
  {
   "cell_type": "code",
   "execution_count": 28,
   "id": "38deca80-eea2-454f-9fc5-8750b4c2c7c1",
   "metadata": {},
   "outputs": [
    {
     "data": {
      "text/plain": [
       "False"
      ]
     },
     "execution_count": 28,
     "metadata": {},
     "output_type": "execute_result"
    }
   ],
   "source": [
    " 50 in s # s는 인덱스기 때문에 value 값은 s안에 없음"
   ]
  },
  {
   "cell_type": "code",
   "execution_count": null,
   "id": "27054b5c-bcf8-4a8a-9757-bbb5d41530d4",
   "metadata": {},
   "outputs": [],
   "source": []
  },
  {
   "cell_type": "code",
   "execution_count": 29,
   "id": "f1e87a9b-1ab0-4dd8-8f3b-8fa4bb87cacc",
   "metadata": {},
   "outputs": [],
   "source": [
    "#\"서울\" in s.values #서울은 인덱스"
   ]
  },
  {
   "cell_type": "code",
   "execution_count": 30,
   "id": "82e7b622-4585-4be5-8fb2-8d96b3c3eccf",
   "metadata": {},
   "outputs": [
    {
     "name": "stdout",
     "output_type": "stream",
     "text": [
      "철수, 88\n",
      "영희, 95\n",
      "길동, 100\n",
      "몽룡, 67\n"
     ]
    }
   ],
   "source": [
    "for k, v in s.items():\n",
    "    print(f\"{k}, {v}\")"
   ]
  },
  {
   "cell_type": "code",
   "execution_count": 31,
   "id": "2ff6d8af-9e9b-4019-a3c8-3ed622fcb1e8",
   "metadata": {},
   "outputs": [
    {
     "data": {
      "text/plain": [
       "서울    9904312\n",
       "부산    3448737\n",
       "인천    2890451\n",
       "대구    2466052\n",
       "dtype: int64"
      ]
     },
     "execution_count": 31,
     "metadata": {},
     "output_type": "execute_result"
    }
   ],
   "source": [
    "s = pd.Series({\"서울\": 9_904_312,\n",
    "                \"부산\": 3_448_737,\n",
    "                \"인천\": 2_890_451,\n",
    "                \"대구\": 2_466_052\n",
    "                })\n",
    "s"
   ]
  },
  {
   "cell_type": "code",
   "execution_count": 32,
   "id": "f1fc3be3-4a65-4c8a-a5e3-495425796aa8",
   "metadata": {},
   "outputs": [
    {
     "name": "stdout",
     "output_type": "stream",
     "text": [
      "서울의 인구는 300만이 넘습니다.\n",
      "부산의 인구는 300만이 넘습니다.\n"
     ]
    }
   ],
   "source": [
    "#연습문제\n",
    "#도시의 인구가 300만이 넘는 곳을 찾아 다음과 같이 출력해보세요.\n",
    "#for문과 items() 메서드를 활용하세요.\n",
    "for k,v in s.items(): #s에 들어있는 key값과 value값에 대하여\n",
    "    if v > 300_0000: #value값이 300만이 넘는 경우\n",
    "        print(f\"{k}의 인구는 300만이 넘습니다.\") #print해라"
   ]
  },
  {
   "cell_type": "code",
   "execution_count": null,
   "id": "0b933fc8-46ba-43ee-9ecd-f0f9e939e560",
   "metadata": {},
   "outputs": [],
   "source": []
  },
  {
   "cell_type": "code",
   "execution_count": null,
   "id": "0616486b-3e74-406a-b467-244b4bc65641",
   "metadata": {},
   "outputs": [],
   "source": []
  },
  {
   "cell_type": "markdown",
   "id": "d646423d-4dce-4e7c-a0f7-b0d25b575262",
   "metadata": {},
   "source": [
    "### Series 연산 - values만 벡터화 연산가능"
   ]
  },
  {
   "cell_type": "code",
   "execution_count": 33,
   "id": "96e76437-ac31-486c-ba83-70dd5f7390b9",
   "metadata": {},
   "outputs": [
    {
     "data": {
      "text/plain": [
       "서울    9.904312\n",
       "부산    3.448737\n",
       "인천    2.890451\n",
       "대구    2.466052\n",
       "dtype: float64"
      ]
     },
     "execution_count": 33,
     "metadata": {},
     "output_type": "execute_result"
    }
   ],
   "source": [
    "#넘파이 배열처럼 Series도 벡터화 연산을 할 수 있습니다. \n",
    "#다만 연산은 Series의 value에만 적용되며 index 값은 변하지 않습니다. \n",
    "#예를 들어 인구 숫자를 백만 단위로 만들기 위해 Series 객체를 1,000,000 으로 나누어도 \n",
    "#index label에는 영향을 미치지 않는 것을 볼 수 있다.\n",
    "\n",
    "s / 1000000 # index label을 제외한\n",
    "            # Series value에만 연산 적용"
   ]
  },
  {
   "cell_type": "code",
   "execution_count": null,
   "id": "f33dc3e5-40c4-495c-a63e-1938891af58e",
   "metadata": {},
   "outputs": [],
   "source": []
  },
  {
   "cell_type": "code",
   "execution_count": null,
   "id": "55089da0-e4de-40be-aca2-a8b90155145f",
   "metadata": {},
   "outputs": [],
   "source": []
  },
  {
   "cell_type": "markdown",
   "id": "a4af4650-1aa9-4d42-a5f3-da06f7a1a72d",
   "metadata": {},
   "source": [
    "### Series 인덱싱 - index label(배열 인덱싱)을 이용한 인덱싱"
   ]
  },
  {
   "cell_type": "code",
   "execution_count": 34,
   "id": "90a4c08c-112f-47ae-bb5b-20fadd42fa59",
   "metadata": {},
   "outputs": [
    {
     "data": {
      "text/plain": [
       "(3448737, 3448737)"
      ]
     },
     "execution_count": 34,
     "metadata": {},
     "output_type": "execute_result"
    }
   ],
   "source": [
    "# Series는 numpy 배열에서 가능한 인덱싱 방법 이외에도\n",
    "# index label을 이용한 인덱싱도 가능\n",
    "#배열 인덱싱이나 index label을 이용한 슬라이싱(slicing)도 가능\n",
    "\n",
    "s[1], s[\"부산\"] # 배열 인덱싱, index label 인덱싱 순서"
   ]
  },
  {
   "cell_type": "code",
   "execution_count": 35,
   "id": "7b3cdc36-6012-437f-a9f4-f7425ed441a6",
   "metadata": {},
   "outputs": [
    {
     "data": {
      "text/plain": [
       "(2466052, 2466052)"
      ]
     },
     "execution_count": 35,
     "metadata": {},
     "output_type": "execute_result"
    }
   ],
   "source": [
    "s[3], s[\"대구\"]"
   ]
  },
  {
   "cell_type": "code",
   "execution_count": null,
   "id": "35e02484-6322-46d1-bdab-78460236a04d",
   "metadata": {},
   "outputs": [],
   "source": []
  },
  {
   "cell_type": "code",
   "execution_count": 36,
   "id": "e5bde2b9-ca4a-4187-893e-966c025ba4d4",
   "metadata": {},
   "outputs": [
    {
     "data": {
      "text/plain": [
       "서울    9904312\n",
       "대구    2466052\n",
       "부산    3448737\n",
       "dtype: int64"
      ]
     },
     "execution_count": 36,
     "metadata": {},
     "output_type": "execute_result"
    }
   ],
   "source": [
    "# 배열 인덱싱을 하면 부분적인 값을 가지는 Series 자료형 반환\n",
    "# 자료의 순서를 바꾸거나 특정한 자료만 취사 선택 가능\n",
    "\n",
    "s[[0, 3, 1]]"
   ]
  },
  {
   "cell_type": "code",
   "execution_count": 37,
   "id": "61d339b7-0156-44b4-92b2-54208ace5803",
   "metadata": {},
   "outputs": [
    {
     "data": {
      "text/plain": [
       "서울    9904312\n",
       "대구    2466052\n",
       "부산    3448737\n",
       "dtype: int64"
      ]
     },
     "execution_count": 37,
     "metadata": {},
     "output_type": "execute_result"
    }
   ],
   "source": [
    "s[[\"서울\", \"대구\", \"부산\"]]"
   ]
  },
  {
   "cell_type": "code",
   "execution_count": null,
   "id": "b0df015d-f132-41f2-b85d-3f19a2260b10",
   "metadata": {},
   "outputs": [],
   "source": []
  },
  {
   "cell_type": "code",
   "execution_count": 38,
   "id": "ddc23c33-e95f-418d-81e6-642233a95586",
   "metadata": {},
   "outputs": [
    {
     "data": {
      "text/plain": [
       "서울    9904312\n",
       "dtype: int64"
      ]
     },
     "execution_count": 38,
     "metadata": {},
     "output_type": "execute_result"
    }
   ],
   "source": [
    "# 단 하나의 값을 시리즈 형태로 가져오고 싶으면\n",
    "# 아래와 같이 값이 하나인 리스트로 인덱싱하여 작성 가능\n",
    "\n",
    "s[[0]]"
   ]
  },
  {
   "cell_type": "code",
   "execution_count": 39,
   "id": "5ef8f4c9-4f68-42fa-9eee-0cddd9a9e6a9",
   "metadata": {},
   "outputs": [
    {
     "data": {
      "text/plain": [
       "인천    2890451\n",
       "dtype: int64"
      ]
     },
     "execution_count": 39,
     "metadata": {},
     "output_type": "execute_result"
    }
   ],
   "source": [
    "#연습문제\n",
    "#인천의 인덱스와 값을 시리즈로 조회해보기\n",
    "s = pd.Series({\"서울\": 9_904_312,\n",
    "                \"부산\": 3_448_737,\n",
    "                \"인천\": 2_890_451,\n",
    "                \"대구\": 2_466_052\n",
    "                })\n",
    "s[[2]]\n",
    "s[[\"인천\"]]"
   ]
  },
  {
   "cell_type": "code",
   "execution_count": null,
   "id": "fbf8a118-664a-4a43-a331-0455c7ef5fd4",
   "metadata": {},
   "outputs": [],
   "source": []
  },
  {
   "cell_type": "code",
   "execution_count": null,
   "id": "c35837ac-47c1-4950-b595-7cfed7b03847",
   "metadata": {},
   "outputs": [],
   "source": []
  },
  {
   "cell_type": "markdown",
   "id": "9aa3f291-32cd-4bd5-91a0-d5d7dc6642e3",
   "metadata": {},
   "source": [
    "# Series 슬라이싱"
   ]
  },
  {
   "cell_type": "code",
   "execution_count": 40,
   "id": "d7c7e920-6117-4ec7-b704-288a68583a6a",
   "metadata": {},
   "outputs": [
    {
     "data": {
      "text/plain": [
       "부산    3448737\n",
       "인천    2890451\n",
       "dtype: int64"
      ]
     },
     "execution_count": 40,
     "metadata": {},
     "output_type": "execute_result"
    }
   ],
   "source": [
    "# 슬라이싱을 해도 부분적인 Series 반환\n",
    "# 이 때 문자열 label을 이용하여 슬라이싱을 하는 경우에는\n",
    "# 숫자 인덱싱과 달리 콜론(:) 기호 뒤에 오는 값도 결과에 포함되므로 주의!!\n",
    "\n",
    "s[1:3] # 두번째(1)부터 세번째(2)까지 (네번째 (3) 미포함)"
   ]
  },
  {
   "cell_type": "code",
   "execution_count": 41,
   "id": "8c317f60-9e39-45bd-9bea-5f7a8b98d721",
   "metadata": {},
   "outputs": [
    {
     "data": {
      "text/plain": [
       "부산    3448737\n",
       "인천    2890451\n",
       "대구    2466052\n",
       "dtype: int64"
      ]
     },
     "execution_count": 41,
     "metadata": {},
     "output_type": "execute_result"
    }
   ],
   "source": [
    "s[\"부산\":\"대구\"] # 부산에서 대구까지 (대구도 포함됨)"
   ]
  },
  {
   "cell_type": "code",
   "execution_count": null,
   "id": "70344b24-daeb-430c-8de8-52e89e039602",
   "metadata": {},
   "outputs": [],
   "source": []
  },
  {
   "cell_type": "code",
   "execution_count": null,
   "id": "594b933c-ed95-4d94-afa5-0a57dbc9672e",
   "metadata": {},
   "outputs": [],
   "source": []
  },
  {
   "cell_type": "markdown",
   "id": "0a25f693-0323-4882-86c6-196bcd3f23b6",
   "metadata": {},
   "source": [
    "# Series index 기반 연산"
   ]
  },
  {
   "cell_type": "code",
   "execution_count": 42,
   "id": "ac8a630c-9828-431a-a9fb-9f268f857d90",
   "metadata": {},
   "outputs": [
    {
     "data": {
      "text/plain": [
       "서울    9904312\n",
       "부산    3448737\n",
       "인천    2890451\n",
       "대구    2466052\n",
       "dtype: int64"
      ]
     },
     "execution_count": 42,
     "metadata": {},
     "output_type": "execute_result"
    }
   ],
   "source": [
    "s # 2015년 도시별 인구"
   ]
  },
  {
   "cell_type": "code",
   "execution_count": 43,
   "id": "9a9440e6-8676-47e5-8358-3e67ecfcb55f",
   "metadata": {},
   "outputs": [
    {
     "data": {
      "text/plain": [
       "도시\n",
       "서울    9904312\n",
       "부산    3448737\n",
       "인천    2890451\n",
       "대구    2466052\n",
       "Name: 인구, dtype: int64"
      ]
     },
     "execution_count": 43,
     "metadata": {},
     "output_type": "execute_result"
    }
   ],
   "source": [
    "s = pd.Series([9_904_312, 3_448_737, 2_890_451, 2_466_052],\n",
    "             index = [\"서울\", \"부산\", \"인천\", \"대구\"])\n",
    "s.name = \"인구\"\n",
    "s.index.name = \"도시\"\n",
    "s"
   ]
  },
  {
   "cell_type": "code",
   "execution_count": 44,
   "id": "be5dce6d-7c2a-45a7-9f53-2c4387c9bd91",
   "metadata": {},
   "outputs": [
    {
     "data": {
      "text/plain": [
       "서울    9631482\n",
       "부산    3393191\n",
       "인천    2632035\n",
       "대전    1490158\n",
       "dtype: int64"
      ]
     },
     "execution_count": 44,
     "metadata": {},
     "output_type": "execute_result"
    }
   ],
   "source": [
    "s2 = pd.Series({\"서울\" : 9631482,\n",
    "                \"부산\" : 3393191,\n",
    "                \"인천\" : 2632035,\n",
    "                \"대전\" : 1490158\n",
    "                })\n",
    "s2"
   ]
  },
  {
   "cell_type": "code",
   "execution_count": 45,
   "id": "17b4fa6d-cd70-4a1c-bd47-9b0f7427a481",
   "metadata": {},
   "outputs": [
    {
     "data": {
      "text/plain": [
       "서울    9631482\n",
       "부산    3393191\n",
       "인천    2632035\n",
       "대전    1490158\n",
       "dtype: int64"
      ]
     },
     "execution_count": 45,
     "metadata": {},
     "output_type": "execute_result"
    }
   ],
   "source": [
    "s2 # 2010년 도시별 인구"
   ]
  },
  {
   "cell_type": "code",
   "execution_count": 46,
   "id": "fafa1602-2f49-4e62-b8df-180f0385f3f8",
   "metadata": {},
   "outputs": [
    {
     "data": {
      "text/plain": [
       "대구         NaN\n",
       "대전         NaN\n",
       "부산     55546.0\n",
       "서울    272830.0\n",
       "인천    258416.0\n",
       "dtype: float64"
      ]
     },
     "execution_count": 46,
     "metadata": {},
     "output_type": "execute_result"
    }
   ],
   "source": [
    "#2015년도와 2010년의 인구 증가 계산\n",
    "#두 개의 Series의 차이를 구하기\n",
    "#두 Series에 대해 연산을 하는 경우 index가 같은 데이터에 대해서만 차이를 구함.\n",
    "#대구와 대전의 경우에는 2010년 자료와 2015년 자료가 모두 존재하지 않기 때문에 계산이 불가능하므로 \n",
    "#NaN(Not a Number)이라는 값을 가지게 됩니다. \n",
    "#즉,하나라도 값이 없으면 Nan 값이 나오며, Nan이 나올 경우, float 고정\n",
    "\n",
    "ds = s - s2\n",
    "ds\n",
    "# NaN 값이 float 자료형에서만 표현 가능하므로 다른 계산 결과도\n",
    "# 모두 float 자료형이 되는 점의 주의!!"
   ]
  },
  {
   "cell_type": "code",
   "execution_count": null,
   "id": "62cf5c3b-e7f8-4441-9878-d1ccf0ccbe23",
   "metadata": {},
   "outputs": [],
   "source": []
  },
  {
   "cell_type": "markdown",
   "id": "b997fa1f-9757-4aaa-b99d-ad15b46441bb",
   "metadata": {},
   "source": [
    "### Series에서 값이 NaN인지 확인 - isnull()"
   ]
  },
  {
   "cell_type": "code",
   "execution_count": 47,
   "id": "f79c2295-9672-498b-b4cb-981b7c0c6b94",
   "metadata": {},
   "outputs": [
    {
     "data": {
      "text/plain": [
       "대구     True\n",
       "대전     True\n",
       "부산    False\n",
       "서울    False\n",
       "인천    False\n",
       "dtype: bool"
      ]
     },
     "execution_count": 47,
     "metadata": {},
     "output_type": "execute_result"
    }
   ],
   "source": [
    "#Series의 값이 NaN이면 True / NaN이 아니면 False인 \n",
    "#bool type의 Series를 구하려면 isnull() 메서드를 사용하면 됩니다.\n",
    "\n",
    "ds.isnull()"
   ]
  },
  {
   "cell_type": "markdown",
   "id": "0de26951-3cbc-44dd-86d9-455d8550be16",
   "metadata": {},
   "source": [
    "### Series에서 값이 NaN이 아닌지 확인- notnull()"
   ]
  },
  {
   "cell_type": "code",
   "execution_count": 48,
   "id": "956e7397-f9f6-40d7-be6f-db39d8a3a707",
   "metadata": {},
   "outputs": [
    {
     "data": {
      "text/plain": [
       "대구    False\n",
       "대전    False\n",
       "부산     True\n",
       "서울     True\n",
       "인천     True\n",
       "dtype: bool"
      ]
     },
     "execution_count": 48,
     "metadata": {},
     "output_type": "execute_result"
    }
   ],
   "source": [
    "#Series의 값이 NaN이 아니면 True / NaN이면 False 값을 갖는 \n",
    "#bool type의 Series를 구하려면 notnull() 메서드를 사용하면 됩니다.\n",
    "\n",
    "ds.notnull()"
   ]
  },
  {
   "cell_type": "code",
   "execution_count": null,
   "id": "5150d298-0d23-4d5a-873c-3602d75ef340",
   "metadata": {},
   "outputs": [],
   "source": []
  },
  {
   "cell_type": "markdown",
   "id": "54db1d0b-45d5-40a7-bacb-5377556324cf",
   "metadata": {},
   "source": [
    "### Series에서 NaN이 아닌 값만 인덱싱으로 구하기(_[_.notnull()])"
   ]
  },
  {
   "cell_type": "code",
   "execution_count": 49,
   "id": "1c45e16e-6b63-4f13-aabd-261ed20ba86b",
   "metadata": {},
   "outputs": [
    {
     "data": {
      "text/plain": [
       "부산     55546.0\n",
       "서울    272830.0\n",
       "인천    258416.0\n",
       "dtype: float64"
      ]
     },
     "execution_count": 49,
     "metadata": {},
     "output_type": "execute_result"
    }
   ],
   "source": [
    "#notnull() 메서드로 구한 True / False 값을 갖는 시리즈를 활용하여 \n",
    "#NaN인 값을 배제한 Series 객체를 인덱싱하여 만들 수 있습니다.\n",
    "\n",
    "ds[ds.notnull()]\n",
    "#shape이 같은 것 중 True값을 가지는 것만 필터링 하는 느낌"
   ]
  },
  {
   "cell_type": "code",
   "execution_count": null,
   "id": "2bcda515-506f-4644-819a-e43d8b69cb09",
   "metadata": {},
   "outputs": [],
   "source": []
  },
  {
   "cell_type": "markdown",
   "id": "d57f7c22-aabb-4381-91ea-9cda829fe05f",
   "metadata": {},
   "source": [
    "### Series에서 NaN이 아닌 값 구하기"
   ]
  },
  {
   "cell_type": "code",
   "execution_count": 50,
   "id": "9daad485-e962-4971-ae3b-a29715089450",
   "metadata": {},
   "outputs": [],
   "source": [
    "#마찬가지로 NaN 값인 것을 배제하고 2010년 대비 2015년 인구 증가율(%)은 다음과 같이 구할 수 있습니다."
   ]
  },
  {
   "cell_type": "code",
   "execution_count": 51,
   "id": "9fffcc30-9f6d-4ba6-9e83-537bd8ee47bf",
   "metadata": {},
   "outputs": [
    {
     "data": {
      "text/plain": [
       "도시\n",
       "서울    9904312\n",
       "부산    3448737\n",
       "인천    2890451\n",
       "대구    2466052\n",
       "Name: 인구, dtype: int64"
      ]
     },
     "execution_count": 51,
     "metadata": {},
     "output_type": "execute_result"
    }
   ],
   "source": [
    "s # 2015년 도시별 인구"
   ]
  },
  {
   "cell_type": "code",
   "execution_count": 52,
   "id": "d1af804e-df5f-4bfc-93ad-42b45069efc3",
   "metadata": {},
   "outputs": [
    {
     "data": {
      "text/plain": [
       "서울    9631482\n",
       "부산    3393191\n",
       "인천    2632035\n",
       "대전    1490158\n",
       "dtype: int64"
      ]
     },
     "execution_count": 52,
     "metadata": {},
     "output_type": "execute_result"
    }
   ],
   "source": [
    "s2 # 2010년 도시별 인구"
   ]
  },
  {
   "cell_type": "code",
   "execution_count": 53,
   "id": "d6ec4c76-e88c-40a6-9f80-6b925d207040",
   "metadata": {},
   "outputs": [
    {
     "data": {
      "text/plain": [
       "부산    1.636984\n",
       "서울    2.832690\n",
       "인천    9.818107\n",
       "dtype: float64"
      ]
     },
     "execution_count": 53,
     "metadata": {},
     "output_type": "execute_result"
    }
   ],
   "source": [
    "rs = (s - s2) / s2 * 100\n",
    "rs = rs[rs.notnull()]\n",
    "rs"
   ]
  },
  {
   "cell_type": "code",
   "execution_count": null,
   "id": "f069a848-7b0d-470a-b6a1-5fa2d25ad7fc",
   "metadata": {},
   "outputs": [],
   "source": []
  },
  {
   "cell_type": "code",
   "execution_count": 54,
   "id": "ed7cbfa1-956b-4b51-8673-18655977a914",
   "metadata": {},
   "outputs": [
    {
     "data": {
      "text/plain": [
       "부산     55546.0\n",
       "서울    272830.0\n",
       "인천    258416.0\n",
       "dtype: float64"
      ]
     },
     "execution_count": 54,
     "metadata": {},
     "output_type": "execute_result"
    }
   ],
   "source": [
    "#연습문제\n",
    "#2010년 대비 2015년 인구 증가를 구하세요.(NaN 값인 것을 배제) \n",
    "#인구수 증가가 가장 많은 도시의 이름과 증가한 인구수를 Series 객체로 출력해보세요.\n",
    "\n",
    "people = s-s2\n",
    "people = people[people.notnull()]\n",
    "people"
   ]
  },
  {
   "cell_type": "code",
   "execution_count": 55,
   "id": "895472e0-3977-40e1-b480-71d88ff78b8a",
   "metadata": {},
   "outputs": [
    {
     "name": "stdout",
     "output_type": "stream",
     "text": [
      "서울    272830.0\n",
      "dtype: float64\n"
     ]
    }
   ],
   "source": [
    "import numpy as np\n",
    "np.argmax(people)\n",
    "print(people[[1]])"
   ]
  },
  {
   "cell_type": "code",
   "execution_count": 56,
   "id": "f7083d21-2d52-4f82-b96f-c9d93a1b7c94",
   "metadata": {},
   "outputs": [
    {
     "data": {
      "text/plain": [
       "서울    272830.0\n",
       "dtype: float64"
      ]
     },
     "execution_count": 56,
     "metadata": {},
     "output_type": "execute_result"
    }
   ],
   "source": [
    "#연습문제 다른 풀이\n",
    "people = s-s2 \n",
    "people = people[people.notnull()]\n",
    "people[[people.values.argmax()]]"
   ]
  },
  {
   "cell_type": "code",
   "execution_count": 57,
   "id": "96144de0-dac3-49ac-a40b-1a29faffd598",
   "metadata": {},
   "outputs": [],
   "source": [
    "#import numpy as np\n",
    "#people = people[people.notnull()].argmax(people)\n",
    "#people"
   ]
  },
  {
   "cell_type": "code",
   "execution_count": null,
   "id": "b3d2b7a1-c4eb-4911-8a31-c883954039a4",
   "metadata": {},
   "outputs": [],
   "source": []
  },
  {
   "cell_type": "code",
   "execution_count": null,
   "id": "184d0c45-320b-46bb-8c5e-6892f5ec5935",
   "metadata": {},
   "outputs": [],
   "source": []
  },
  {
   "cell_type": "markdown",
   "id": "117cc1db-e6f1-4939-a9b8-f9fec321cc82",
   "metadata": {},
   "source": [
    "# Series 데이터 추가, 갱신, 삭제"
   ]
  },
  {
   "cell_type": "markdown",
   "id": "a9f86bae-d78f-4d6f-8054-8f7367c43383",
   "metadata": {},
   "source": [
    "### 딕셔너리와 비슷하게 인덱싱을 한 경우"
   ]
  },
  {
   "cell_type": "code",
   "execution_count": 58,
   "id": "28d28aca-0d71-4575-b36d-d72a1f365287",
   "metadata": {},
   "outputs": [
    {
     "data": {
      "text/plain": [
       "부산    1.636984\n",
       "서울    2.832690\n",
       "인천    9.818107\n",
       "dtype: float64"
      ]
     },
     "execution_count": 58,
     "metadata": {},
     "output_type": "execute_result"
    }
   ],
   "source": [
    "# 딕셔너리와 비슷하게 인덱싱을 한 경우에 맞춰 사용하면\n",
    "# 데이터를 추가(add)하거나 갱신(update)할 수 있다.\n",
    "\n",
    "# 기존에 있는 index에 값을 할당하면 갱신\n",
    "\n",
    "rs # 인구 증가율(%)"
   ]
  },
  {
   "cell_type": "code",
   "execution_count": 59,
   "id": "f3149df0-bade-4292-a3a0-ffb622649496",
   "metadata": {},
   "outputs": [
    {
     "data": {
      "text/plain": [
       "부산    1.630000\n",
       "서울    2.832690\n",
       "인천    9.818107\n",
       "dtype: float64"
      ]
     },
     "execution_count": 59,
     "metadata": {},
     "output_type": "execute_result"
    }
   ],
   "source": [
    "rs[\"부산\"] = 1.63\n",
    "rs"
   ]
  },
  {
   "cell_type": "code",
   "execution_count": null,
   "id": "d711532f-46b1-405d-a9a8-8a5601f55a54",
   "metadata": {},
   "outputs": [],
   "source": []
  },
  {
   "cell_type": "code",
   "execution_count": 60,
   "id": "18c6b025-33b3-4bac-9dbe-d2b9f8eb114a",
   "metadata": {},
   "outputs": [
    {
     "data": {
      "text/plain": [
       "부산    1.63\n",
       "서울    2.83\n",
       "인천    9.82\n",
       "dtype: float64"
      ]
     },
     "execution_count": 60,
     "metadata": {},
     "output_type": "execute_result"
    }
   ],
   "source": [
    "#연습문제\n",
    "#앞의 예제의 Series 객체의 값을 다음과 같이 수정하세요\n",
    "#- 서울: 2.83\n",
    "#- 인천: 9.82\n",
    "rs[\"부산\"] = 1.63\n",
    "rs[\"서울\"] = 2.83\n",
    "rs[\"인천\"] = 9.82\n",
    "rs"
   ]
  },
  {
   "cell_type": "code",
   "execution_count": 61,
   "id": "b64e7a9e-1cf5-4565-bdd3-6cfc26019f14",
   "metadata": {},
   "outputs": [
    {
     "data": {
      "text/plain": [
       "부산    1.63\n",
       "서울    2.83\n",
       "인천    9.82\n",
       "dtype: float64"
      ]
     },
     "execution_count": 61,
     "metadata": {},
     "output_type": "execute_result"
    }
   ],
   "source": [
    "#연습문제 다른풀이\n",
    "#앞의 예제의 Series 객체의 값을 다음과 같이 수정하세요\n",
    "#- 서울: 2.83\n",
    "#- 인천: 9.82\n",
    "rs[\"서울\",\"인천\"] = 2.83, 9.82\n",
    "rs"
   ]
  },
  {
   "cell_type": "code",
   "execution_count": 62,
   "id": "963a0ac8-8248-4ecf-9371-d9c27c06cb79",
   "metadata": {},
   "outputs": [
    {
     "data": {
      "text/plain": [
       "부산    1.63\n",
       "서울    2.83\n",
       "인천    9.82\n",
       "dtype: float64"
      ]
     },
     "execution_count": 62,
     "metadata": {},
     "output_type": "execute_result"
    }
   ],
   "source": [
    "#부산부터 값을 바꿔줄 경우,\n",
    "rs[\"부산\":\"인천\"] = 1.63, 2.83,9.82\n",
    "rs"
   ]
  },
  {
   "cell_type": "code",
   "execution_count": 63,
   "id": "4d90343c-195f-46d9-afd3-23d3ab077fe7",
   "metadata": {},
   "outputs": [
    {
     "data": {
      "text/plain": [
       "부산    1.63\n",
       "서울    2.83\n",
       "인천    9.82\n",
       "dtype: float64"
      ]
     },
     "execution_count": 63,
     "metadata": {},
     "output_type": "execute_result"
    }
   ],
   "source": [
    "#연습문제 또 다른 풀이\n",
    "rs[1:] = (2.83 ,9.82)\n",
    "rs"
   ]
  },
  {
   "cell_type": "code",
   "execution_count": null,
   "id": "602e8621-bec5-4086-9bfe-ed9300d48163",
   "metadata": {},
   "outputs": [],
   "source": []
  },
  {
   "cell_type": "markdown",
   "id": "4b044df6-0783-481a-af03-3a87bce7cb42",
   "metadata": {},
   "source": [
    "### 없는 index에 값을 할당한 경우"
   ]
  },
  {
   "cell_type": "code",
   "execution_count": 64,
   "id": "38f48f09-50f5-4843-8200-65173e7f4243",
   "metadata": {},
   "outputs": [
    {
     "data": {
      "text/plain": [
       "부산    1.63\n",
       "서울    2.83\n",
       "인천    9.82\n",
       "대구    1.41\n",
       "dtype: float64"
      ]
     },
     "execution_count": 64,
     "metadata": {},
     "output_type": "execute_result"
    }
   ],
   "source": [
    "# 없는 index에 값을 할당하면 Series에 데이터가 추가(add)\n",
    "#아래 예제에서는 “대구\"라는 index는 현재 없는데 그 index에 값을 1.41 할당하여 데이터를 추가하고 있습니다.\n",
    "\n",
    "rs[\"대구\"] = 1.41 # rs에 없던 대구에 대한 정보 추가\n",
    "rs"
   ]
  },
  {
   "cell_type": "code",
   "execution_count": 65,
   "id": "d3384ab6-59ea-49f4-8b87-7a314d273db8",
   "metadata": {},
   "outputs": [
    {
     "data": {
      "text/plain": [
       "부산    1.63\n",
       "인천    9.82\n",
       "대구    1.41\n",
       "dtype: float64"
      ]
     },
     "execution_count": 65,
     "metadata": {},
     "output_type": "execute_result"
    }
   ],
   "source": [
    "# 데이터 삭제할 때도 딕셔너리처럼 del 명령 사용\n",
    "#아래 예제에서는 “서울\"이라는 index에 접근하여 del 명령을 사용하여 데이터를 삭제하고 있습니다.\n",
    "\n",
    "del rs[\"서울\"]\n",
    "rs"
   ]
  },
  {
   "cell_type": "code",
   "execution_count": null,
   "id": "9add4148-3ab5-422b-9cb3-4399da404ad1",
   "metadata": {},
   "outputs": [],
   "source": []
  },
  {
   "cell_type": "code",
   "execution_count": 66,
   "id": "117f3c6f-971a-480b-b6ea-9e6fd4145b15",
   "metadata": {},
   "outputs": [
    {
     "name": "stdout",
     "output_type": "stream",
     "text": [
      "카카오     60010\n",
      "삼성전자    61000\n",
      "LG전자    90000\n",
      "dtype: int64\n",
      "카카오      60200\n",
      "삼성전자     61200\n",
      "네이버     200100\n",
      "dtype: int64\n"
     ]
    }
   ],
   "source": [
    "#연습문제\n",
    "#아래 fin1과 fin2_value, fin2_index를 활용하여 Series 객체 ser_finance1, ser_finance2를 만들어보세요. \n",
    "fin1 = {\"카카오\":60010, \"삼성전자\":61000, \"LG전자\": 90000}\n",
    "fin2_value = [60200, 61200, 200100]\n",
    "fin2_index = [\"카카오\", \"삼성전자\", \"네이버\"]\n",
    "\n",
    "ser_finance1 = pd.Series(fin1)\n",
    "ser_finance2 = pd.Series(fin2_value,fin2_index)\n",
    "print(ser_finance1)\n",
    "print(ser_finance2) "
   ]
  },
  {
   "cell_type": "code",
   "execution_count": 67,
   "id": "da362973-9b17-45d4-b59c-de5057a71f9d",
   "metadata": {},
   "outputs": [
    {
     "data": {
      "text/plain": [
       "LG전자      NaN\n",
       "네이버       NaN\n",
       "삼성전자   -200.0\n",
       "카카오    -190.0\n",
       "dtype: float64"
      ]
     },
     "execution_count": 67,
     "metadata": {},
     "output_type": "execute_result"
    }
   ],
   "source": [
    "#연습 문제\n",
    "#앞서 만든 두 Series 객체를 활용하여 사칙 연산을 각각 수행해보세요. \n",
    "#사칙연산 중 NaN 값을 갖는 항목과 dtype을 각각 확인해보세요.\n",
    "#왜 해당 dtype이 나오는지 설명하세요.\n",
    "\n",
    "ser_finance1 - ser_finance2"
   ]
  },
  {
   "cell_type": "code",
   "execution_count": 68,
   "id": "8f606673-81c1-41be-8c15-49d846d02b90",
   "metadata": {},
   "outputs": [
    {
     "data": {
      "text/plain": [
       "LG전자         NaN\n",
       "네이버          NaN\n",
       "삼성전자    122200.0\n",
       "카카오     120210.0\n",
       "dtype: float64"
      ]
     },
     "execution_count": 68,
     "metadata": {},
     "output_type": "execute_result"
    }
   ],
   "source": [
    "ser_finance1 + ser_finance2"
   ]
  },
  {
   "cell_type": "code",
   "execution_count": 69,
   "id": "27cbf325-343e-47ad-84f3-5f166baf04a8",
   "metadata": {},
   "outputs": [
    {
     "data": {
      "text/plain": [
       "LG전자             NaN\n",
       "네이버              NaN\n",
       "삼성전자    3.733200e+09\n",
       "카카오     3.612602e+09\n",
       "dtype: float64"
      ]
     },
     "execution_count": 69,
     "metadata": {},
     "output_type": "execute_result"
    }
   ],
   "source": [
    "ser_finance1 * ser_finance2"
   ]
  },
  {
   "cell_type": "code",
   "execution_count": 70,
   "id": "12cbd957-198d-494e-bd54-8173f1b1c0de",
   "metadata": {},
   "outputs": [
    {
     "data": {
      "text/plain": [
       "LG전자         NaN\n",
       "네이버          NaN\n",
       "삼성전자    0.996732\n",
       "카카오     0.996844\n",
       "dtype: float64"
      ]
     },
     "execution_count": 70,
     "metadata": {},
     "output_type": "execute_result"
    }
   ],
   "source": [
    "ser_finance1 / ser_finance2 #항상 float"
   ]
  },
  {
   "cell_type": "code",
   "execution_count": 71,
   "id": "f47c1346-1d6f-4fb2-8eea-c77a0a813cde",
   "metadata": {},
   "outputs": [],
   "source": [
    "#ser_finance1에는 lg전자가 있지만 ser_finance2에는 없고,\n",
    "#ser_finance2에는 네이버가 있지만 ser_finance1에는 없어서 \n",
    "#어떠한 사칙연산을 수행해도 값은 Nan이 나오며, 이에 따라 모든 dtype은 float로 나오게 됩니다."
   ]
  },
  {
   "cell_type": "code",
   "execution_count": null,
   "id": "2824b94f-50fb-4568-8951-5d2fb13f0191",
   "metadata": {},
   "outputs": [],
   "source": []
  },
  {
   "cell_type": "code",
   "execution_count": 72,
   "id": "eb3791d9-9a52-49f8-aac4-e972f3e82f72",
   "metadata": {},
   "outputs": [
    {
     "data": {
      "text/plain": [
       "삼성전자   -200.0\n",
       "카카오    -190.0\n",
       "dtype: float64"
      ]
     },
     "execution_count": 72,
     "metadata": {},
     "output_type": "execute_result"
    }
   ],
   "source": [
    "#연습문제2\n",
    "#아래의 연산 결과 중 NaN 값이 없게 Series 객체를 출력해보세요\n",
    "\n",
    "result = ser_finance1 - ser_finance2\n",
    "result[result.notnull()]"
   ]
  },
  {
   "cell_type": "code",
   "execution_count": null,
   "id": "f7f74721-40cf-422d-9a39-5e25fb3d1892",
   "metadata": {},
   "outputs": [],
   "source": []
  }
 ],
 "metadata": {
  "kernelspec": {
   "display_name": "Python 3 (ipykernel)",
   "language": "python",
   "name": "python3"
  },
  "language_info": {
   "codemirror_mode": {
    "name": "ipython",
    "version": 3
   },
   "file_extension": ".py",
   "mimetype": "text/x-python",
   "name": "python",
   "nbconvert_exporter": "python",
   "pygments_lexer": "ipython3",
   "version": "3.9.13"
  }
 },
 "nbformat": 4,
 "nbformat_minor": 5
}
