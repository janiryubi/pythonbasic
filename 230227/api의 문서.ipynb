{
 "cells": [
  {
   "cell_type": "code",
   "execution_count": 1,
   "id": "a4457f1f-2aec-40b1-a021-2260c6c386ce",
   "metadata": {},
   "outputs": [],
   "source": [
    "#API의 문서\n",
    "#API의 호출 방법, 제공하는 데이터 형식\n",
    "#각 매개변수, 세부 정보, 사용자 권한\n",
    "#속도 제한 등의 정보제공\n",
    "\n",
    "#request,개인 key 등\n",
    "\n",
    "#API 서버에 제대로 된 데이터를 받기 위해서는\n",
    "#시간을 들여 해당 문서를 파악하고 익히는 것이 중요"
   ]
  },
  {
   "cell_type": "code",
   "execution_count": 2,
   "id": "2077ba16-ccd3-45c1-bb9d-1bcc3ac01228",
   "metadata": {},
   "outputs": [],
   "source": [
    "#무료api\n",
    "#- 공공데이터포털: https://www.data.go.kr\n",
    "#- 문화데이터 광장: https://www.culture.go.kr/data/main/main.do#main\n",
    "#- 공간정보 오픈플랫폼: https://www.vworld.kr/dev/v4api.do\n",
    "#- 금융감독원 오픈 API: https://opendart.fss.or.kr/\n",
    "#- 네이버 오픈 API: https://developers.naver.com/products/intro/plan/plan.md\n",
    "#- 카카오 디벨로퍼: https://developers.kakao.com/tool\n",
    "#- 서울 열린데이터 광장: https://data.seoul.go.kr/together/guide/useGuide.do\n",
    "#- 한국은행 Open API: https://ecos.bok.or.kr/api/#"
   ]
  },
  {
   "cell_type": "code",
   "execution_count": 3,
   "id": "ff5df5e7-f410-4fe3-89a9-2c84d2e3b76a",
   "metadata": {},
   "outputs": [],
   "source": [
    "#requests 라이브러리\n",
    "#API의 기본 사양으로 HTTP가 활용되는 경우가 상당 수\n",
    "#HTTP 통신을 쉽게 할 수 있는 라이브러리\n",
    "#Query string을 직접 하나하나 URI에 작성하지 않고 \n",
    "#제공되는 메서드의 argument로 전달"
   ]
  },
  {
   "cell_type": "code",
   "execution_count": 4,
   "id": "2b4239de-507b-46be-b64f-05ddbfd346fb",
   "metadata": {},
   "outputs": [],
   "source": [
    "#API를 사용해서 데이터를 불러오는 방법\n",
    "#1. API 제공하는 문서를 읽고 이해하기\n",
    "#2. API 서버와의 통신에 필요한 requests를 하기\n",
    "#3. 수신한 데이터를 활용하여 데이터셋 생성하기"
   ]
  },
  {
   "cell_type": "code",
   "execution_count": 7,
   "id": "d5bfebc0-faa6-47ec-a3cd-33590713f9a1",
   "metadata": {},
   "outputs": [],
   "source": [
    "#API 서버에 통신하기\n",
    "#request(모듈)를 요청할 때 GET 통신\n",
    "#requests.get() 메서드를 통해 해당 서버로 호출\n",
    "#그 반환값을 response 변수\n",
    "#get() 메서드 arguments로 첫번째는 URL\n",
    "#keyword 방식으로 headers 값을 설정\n",
    "#json 언어"
   ]
  },
  {
   "cell_type": "code",
   "execution_count": 29,
   "id": "f86292e0-5e9e-403a-9ced-4e693f24d82e",
   "metadata": {},
   "outputs": [
    {
     "name": "stdout",
     "output_type": "stream",
     "text": [
      "403\n"
     ]
    }
   ],
   "source": [
    "import requests #코드를 포함 - 누군가 만들어 둔 코드를 쓰겠다\n",
    "\n",
    "response = requests.get('https://api.github.com/repositories',\n",
    "                        headers={'accapt':'application/vnd.github.v3+json'})\n",
    "#대답->get을 통해 통신하기 위해 전송\n",
    "                #요청할 때 구체적인 정보\n",
    "print(response.status_code)\n",
    "# 신호가 잘 갔는지 상태코드만 확인하겠다"
   ]
  },
  {
   "cell_type": "code",
   "execution_count": 9,
   "id": "af8d82d3-e483-4680-bd81-f57e6bf09108",
   "metadata": {},
   "outputs": [],
   "source": [
    "#response의 Status code와 headers\n",
    "#HTTP 통신에 대한 응답(response)으로 상태 코드(status code) 값\n",
    "#상태 코드 값이 200이라는 것의 의미는 요청(request)이 성공"
   ]
  },
  {
   "cell_type": "code",
   "execution_count": 14,
   "id": "7aee4ef4-397e-454a-861b-3b088d624ea2",
   "metadata": {},
   "outputs": [
    {
     "name": "stdout",
     "output_type": "stream",
     "text": [
      "인코딩: utf-8\n",
      "콘텐츠 타입: application/json; charset=utf-8\n",
      "서버: GitHub.com\n"
     ]
    }
   ],
   "source": [
    "#response headers 살펴보기\n",
    "#response에 대한 정보는 문서에서도 제공하고 있지만 실제로 받은 response 객체에 담긴 \n",
    "#데이터를 확인하는 것이 좋습니다.\n",
    "#API 호출로부터 받은 response 결과에 대해서 인코딩, 반환한 콘텐츠의 유형, 서버 세부 정보\n",
    "print(f\"인코딩: {response.encoding}\") #어떻게 번역할지\n",
    "print(f\"콘텐츠 타입: {response.headers['Content-Type']}\") #문자의 구조\n",
    "print(f\"서버: {response.headers['server']}\") # 처리한 사람"
   ]
  },
  {
   "cell_type": "code",
   "execution_count": 30,
   "id": "fdde92cc-8e9d-40ee-9c69-2262ad45a311",
   "metadata": {},
   "outputs": [
    {
     "data": {
      "text/plain": [
       "{'title': 'hello world'}"
      ]
     },
     "execution_count": 30,
     "metadata": {},
     "output_type": "execute_result"
    }
   ],
   "source": [
    "{\"title\": \"hello world\"}"
   ]
  },
  {
   "cell_type": "code",
   "execution_count": 15,
   "id": "5d1a01e2-8d3e-4347-bcdd-3712f12a7d04",
   "metadata": {},
   "outputs": [
    {
     "name": "stdout",
     "output_type": "stream",
     "text": [
      "{\n",
      "  \"id\": 1,\n",
      "  \"node_id\": \"MDEwOlJlcG9zaXRvcnkx\",\n",
      "  \"name\": \"grit\",\n",
      "  \"full_name\": \"mojombo/grit\",\n",
      "  \"private\": false,\n",
      "  \"owner\": {\n",
      "    \"login\": \"mojombo\",\n",
      "    \"id\": 1,\n",
      "    \"node_id\": \"MDQ6VXNlcjE=\",\n",
      "\n"
     ]
    }
   ],
   "source": [
    "#json\n",
    "import json #json함수가 dict형태로 저장한다.\n",
    "print(json.dumps(response.json()[0], indent = 2)[:200])"
   ]
  },
  {
   "cell_type": "code",
   "execution_count": 21,
   "id": "de092956-a84d-402b-9aea-37ac69a80472",
   "metadata": {},
   "outputs": [],
   "source": [
    "#import json \n",
    "#response.headers"
   ]
  },
  {
   "cell_type": "code",
   "execution_count": 22,
   "id": "6eef80ca-c87c-437d-910a-97a201b24cda",
   "metadata": {},
   "outputs": [],
   "source": [
    "# public repositories\n",
    "#response.json()\n",
    "#접근하기 용이"
   ]
  },
  {
   "cell_type": "code",
   "execution_count": 18,
   "id": "3de7fd6e-d769-46a1-9cff-1736dfb420aa",
   "metadata": {},
   "outputs": [
    {
     "name": "stdout",
     "output_type": "stream",
     "text": [
      "422\n"
     ]
    }
   ],
   "source": [
    "#요청 시 parameter활용\n",
    "response = requests.get('https://api.github.com/search/repositories')\n",
    "print(response.status_code)\n",
    "#요청은 잘 왔지만 서버가 해당요청에 대해 처리할 수 없음"
   ]
  },
  {
   "cell_type": "code",
   "execution_count": 19,
   "id": "f4fd41b7-5765-4d18-a07b-fc8e51c4736b",
   "metadata": {},
   "outputs": [
    {
     "name": "stdout",
     "output_type": "stream",
     "text": [
      "200\n"
     ]
    }
   ],
   "source": [
    "#parameter를 추가해주기\n",
    "response = requests.get('https://api.github.com/search/repositories',\n",
    "                        params={'q': 'data_science+language:python'}, #datascience에 대한 정보를 python언어규격으로 된걸로 줘\n",
    "                        headers={'Accept': 'application/vnd.github.text-match+json'})\n",
    "#'q' ->필수 /query parameters/규격대로 요청\n",
    "print(response.status_code)"
   ]
  },
  {
   "cell_type": "code",
   "execution_count": 24,
   "id": "54a3d03f-a055-414a-a55e-5ab61b9d25d0",
   "metadata": {},
   "outputs": [],
   "source": [
    "#응답헤더 확인 #content-type\n",
    "#response.headers #json이라는 형태라서 파이썬으로 바꿀 수 있음"
   ]
  },
  {
   "cell_type": "code",
   "execution_count": 27,
   "id": "fccdc20a-532b-4ca6-b16c-1dbdde054213",
   "metadata": {},
   "outputs": [],
   "source": [
    "#json 콘텐츠 딕셔너리로 변환\n",
    "#response에 json()메서드를 활용하여 dict타입으로 변경하여 결과 출력\n",
    "#import json #패킷정보를 적어서 문자열로 쏘는걸 파이썬 자료형으로 만들고 dict으로 정리\n",
    "#response.json()"
   ]
  }
 ],
 "metadata": {
  "kernelspec": {
   "display_name": "Python 3 (ipykernel)",
   "language": "python",
   "name": "python3"
  },
  "language_info": {
   "codemirror_mode": {
    "name": "ipython",
    "version": 3
   },
   "file_extension": ".py",
   "mimetype": "text/x-python",
   "name": "python",
   "nbconvert_exporter": "python",
   "pygments_lexer": "ipython3",
   "version": "3.9.13"
  }
 },
 "nbformat": 4,
 "nbformat_minor": 5
}
