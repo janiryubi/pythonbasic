{
 "cells": [
  {
   "cell_type": "code",
   "execution_count": 1,
   "id": "5d565122-6339-4083-9f33-a20e2282759b",
   "metadata": {},
   "outputs": [
    {
     "name": "stdout",
     "output_type": "stream",
     "text": [
      "1 2 3 4 5 6 7 8 9 10 "
     ]
    }
   ],
   "source": [
    "for i in range(1,11):\n",
    "    print(i,end=\" \")"
   ]
  },
  {
   "cell_type": "code",
   "execution_count": 2,
   "id": "d64c959c-1575-404a-892c-eb0e860ec37f",
   "metadata": {},
   "outputs": [
    {
     "name": "stdout",
     "output_type": "stream",
     "text": [
      "1 2 3 4 5 6 7 8 9 10 "
     ]
    }
   ],
   "source": [
    "i = 1 # 초기식\n",
    "while i<11: # while조건식\n",
    "    print(i,end=\" \") # 반복할 코드\n",
    "    i+=1 #변화식"
   ]
  },
  {
   "cell_type": "code",
   "execution_count": 15,
   "id": "2db02c50-7934-43b6-afdf-067119ec73b8",
   "metadata": {},
   "outputs": [
    {
     "name": "stdout",
     "output_type": "stream",
     "text": [
      "79.0\n"
     ]
    }
   ],
   "source": [
    "class_a = (70, 60, 55, 75, 95, 90, 80, 80, 85, 100)\n",
    "i = 0\n",
    "res = 0\n",
    "while i<len(class_a):\n",
    "    res+= class_a[i]\n",
    "    i +=1\n",
    "print(res/len(class_a))\n",
    "# total = res/len(class_a) = aveage"
   ]
  },
  {
   "cell_type": "code",
   "execution_count": 1,
   "id": "d85530d7-7cc8-414a-bbbb-43fae4070ec0",
   "metadata": {},
   "outputs": [
    {
     "ename": "IndentationError",
     "evalue": "unexpected indent (2314110655.py, line 7)",
     "output_type": "error",
     "traceback": [
      "\u001b[1;36m  File \u001b[1;32m\"C:\\Users\\Playdata\\AppData\\Local\\Temp\\ipykernel_13344\\2314110655.py\"\u001b[1;36m, line \u001b[1;32m7\u001b[0m\n\u001b[1;33m    if _ == 100:\u001b[0m\n\u001b[1;37m    ^\u001b[0m\n\u001b[1;31mIndentationError\u001b[0m\u001b[1;31m:\u001b[0m unexpected indent\n"
     ]
    }
   ],
   "source": [
    "#break문\n",
    "#for, while문에서 특정 조건에 부합할 때, 해당 반복문을 빠져나가기 위해 쓴다\n",
    "# if문과 함게 쓰이는 경우가 많음\n",
    "#10000g회 반복\n",
    "for _ in range(10000):\n",
    "    print( _ )\n",
    "      if _ == 100:\n",
    "      break;"
   ]
  },
  {
   "cell_type": "code",
   "execution_count": 19,
   "id": "d0137692-07f7-4e4f-9e1f-e4c5e078285e",
   "metadata": {},
   "outputs": [
    {
     "name": "stdout",
     "output_type": "stream",
     "text": [
      "hi\n",
      "hi\n",
      "hi\n",
      "hi\n",
      "hi\n",
      "hi\n",
      "hi\n",
      "hi\n",
      "hi\n",
      "hi\n",
      "hi\n",
      "hi\n",
      "hi\n",
      "hi\n",
      "hi\n",
      "hi\n",
      "hi\n",
      "hi\n",
      "hi\n",
      "hi\n",
      "hi\n",
      "hi\n",
      "hi\n",
      "hi\n",
      "hi\n",
      "hi\n",
      "hi\n",
      "hi\n",
      "hi\n",
      "hi\n",
      "hi\n",
      "hi\n",
      "hi\n",
      "hi\n",
      "hi\n",
      "hi\n",
      "hi\n",
      "hi\n",
      "hi\n",
      "hi\n",
      "hi\n",
      "hi\n",
      "hi\n",
      "hi\n",
      "hi\n",
      "hi\n",
      "hi\n",
      "hi\n",
      "hi\n",
      "hi\n",
      "hi\n",
      "hi\n",
      "hi\n",
      "hi\n",
      "hi\n",
      "hi\n",
      "hi\n",
      "hi\n",
      "hi\n",
      "hi\n",
      "hi\n",
      "hi\n",
      "hi\n",
      "hi\n",
      "hi\n",
      "hi\n",
      "hi\n",
      "hi\n",
      "hi\n",
      "hi\n",
      "hi\n",
      "hi\n",
      "hi\n",
      "hi\n",
      "hi\n",
      "hi\n",
      "hi\n",
      "hi\n",
      "hi\n",
      "hi\n",
      "hi\n",
      "hi\n",
      "hi\n",
      "hi\n",
      "hi\n",
      "hi\n",
      "hi\n",
      "hi\n",
      "hi\n",
      "hi\n",
      "hi\n",
      "hi\n",
      "hi\n",
      "hi\n",
      "hi\n",
      "hi\n",
      "hi\n",
      "hi\n",
      "hi\n",
      "hi\n"
     ]
    }
   ],
   "source": [
    "i=0 # 초기식\n",
    "while True:\n",
    "    print(\"hi\")\n",
    "    i+=1 #변화식\n",
    "    if i == 100: #조건식\n",
    "        break; #루프를 빠져나간다."
   ]
  },
  {
   "cell_type": "code",
   "execution_count": 22,
   "id": "1929be64-833d-4f96-a8ed-001a64952d2d",
   "metadata": {},
   "outputs": [
    {
     "name": "stdout",
     "output_type": "stream",
     "text": [
      "5050\n"
     ]
    }
   ],
   "source": [
    "#0-100까지 자연수의 총합\n",
    "i=0\n",
    "total =0\n",
    "while True:\n",
    "    if i<100:\n",
    "        i+=1 #i가 1부터 시작\n",
    "        total += i\n",
    "    else:\n",
    "        break; #루프\n",
    "print(total)"
   ]
  },
  {
   "cell_type": "code",
   "execution_count": 23,
   "id": "9e7a7fea-d71f-4b62-be21-37bd8f0ef090",
   "metadata": {},
   "outputs": [
    {
     "name": "stdout",
     "output_type": "stream",
     "text": [
      "5050\n"
     ]
    }
   ],
   "source": [
    "#0-100까지 자연수의 총합\n",
    "i=0\n",
    "total =0\n",
    "while True:\n",
    "    if i<101:\n",
    "        total += i # i는 0부터 시작\n",
    "        i+=1\n",
    "    else:\n",
    "        break; #루프\n",
    "print(total)"
   ]
  },
  {
   "cell_type": "code",
   "execution_count": 25,
   "id": "5db845ee-9578-4e9c-a74a-6cb6aebee44f",
   "metadata": {},
   "outputs": [
    {
     "name": "stdout",
     "output_type": "stream",
     "text": [
      "5050\n"
     ]
    }
   ],
   "source": [
    "#0-100까지 자연수의 총합\n",
    "i=0\n",
    "total =0\n",
    "while True:\n",
    "    total += i # i는 0부터 시작\n",
    "    i+=1\n",
    "    if i>100:\n",
    "        break; #루프\n",
    "print(total)"
   ]
  },
  {
   "cell_type": "code",
   "execution_count": 27,
   "id": "d07387c1-2c6b-4e1a-810e-1064f797d110",
   "metadata": {},
   "outputs": [
    {
     "name": "stdin",
     "output_type": "stream",
     "text": [
      "A를 입력하면 종료됩니다 2\n",
      "A를 입력하면 종료됩니다 3\n",
      "A를 입력하면 종료됩니다 ㅁ\n",
      "A를 입력하면 종료됩니다 A\n"
     ]
    },
    {
     "name": "stdout",
     "output_type": "stream",
     "text": [
      "프로그램을 종료합니다.\n"
     ]
    }
   ],
   "source": [
    "# while문 - 무한루프의 활용\n",
    "#while과 input()을 조합하면 원하는 값을 받을 때까지 입력을 받는 프로그램 구현 가능\n",
    "while True:\n",
    "    inputval = input(\"A를 입력하면 종료됩니다\")\n",
    "    if inputval == \"A\":break\n",
    "print(\"프로그램을 종료합니다.\")"
   ]
  },
  {
   "cell_type": "code",
   "execution_count": 41,
   "id": "28cbb2d2-bf8c-4435-b8c6-ca4669a60908",
   "metadata": {},
   "outputs": [
    {
     "name": "stdout",
     "output_type": "stream",
     "text": [
      "1\t3\t5\t7\t9\t11\t13\t15\t17\t19\t21\t23\t25\t27\t29\t31\t33\t35\t37\t39\t41\t43\t45\t47\t49\t51\t53\t55\t57\t59\t61\t63\t65\t67\t69\t71\t73\t75\t77\t79\t81\t83\t85\t87\t89\t91\t93\t95\t97\t99\t"
     ]
    }
   ],
   "source": [
    "#continue\n",
    "#제어흐름을 유지하고 continue가 실행된 반복횟구의 코드 실행만 건너뜀\n",
    "for rr in range(100): #0부터 99까지 증가하면서 100번반복\n",
    "    if rr%2 == 0: # i를 2로 나누었을 때 나머지가 남으면\n",
    "        continue #아래 코드를 실행하지 말아라\n",
    "    print(rr,end=\"\\t\")\n",
    "#for,while과 다른 부분 - 조건이 성립했을 때, continue를 만나면 다시 첫줄로 감"
   ]
  },
  {
   "cell_type": "code",
   "execution_count": 42,
   "id": "179dc903-d4bc-41ad-802f-c86b022cf74e",
   "metadata": {},
   "outputs": [
    {
     "name": "stdout",
     "output_type": "stream",
     "text": [
      "1\t3\t5\t7\t9\t11\t13\t15\t17\t19\t21\t23\t25\t27\t29\t31\t33\t35\t37\t39\t41\t43\t45\t47\t49\t51\t53\t55\t57\t59\t61\t63\t65\t67\t69\t71\t73\t75\t77\t79\t81\t83\t85\t87\t89\t91\t93\t95\t97\t99\t"
     ]
    }
   ],
   "source": [
    "for i in range(100):\n",
    "    if i%2 == 0: \n",
    "        continue \n",
    "    print(i,end=\"\\t\")"
   ]
  },
  {
   "cell_type": "code",
   "execution_count": 34,
   "id": "2f17c4ca-94fe-4e58-8c71-6bab3083abfc",
   "metadata": {},
   "outputs": [
    {
     "name": "stdout",
     "output_type": "stream",
     "text": [
      "1\t3\t5\t7\t9\t11\t13\t15\t17\t19\t21\t23\t25\t27\t29\t31\t33\t35\t37\t39\t41\t43\t45\t47\t49\t51\t53\t55\t57\t59\t61\t63\t65\t67\t69\t71\t73\t75\t77\t79\t81\t83\t85\t87\t89\t91\t93\t95\t97\t99\t"
     ]
    }
   ],
   "source": [
    "i=0\n",
    "while i<100:\n",
    "    i+=1\n",
    "    if i%2 ==0:\n",
    "        continue\n",
    "    print(i,end = \"\\t\")"
   ]
  },
  {
   "cell_type": "code",
   "execution_count": 44,
   "id": "a9816877-fcf4-4561-9775-995007bae949",
   "metadata": {},
   "outputs": [
    {
     "name": "stdin",
     "output_type": "stream",
     "text": [
      "시작하는 정수 입력:  1\n",
      "끝나는 정수 입력:  5\n"
     ]
    },
    {
     "name": "stdout",
     "output_type": "stream",
     "text": [
      "1 부터 5 까지의 합은 15 입니다.\n"
     ]
    }
   ],
   "source": [
    "#두 자연수 n,m을 입력받고 n부터 m까지의 합을 구하라\n",
    "n = int(input(\"시작하는 정수 입력: \"))\n",
    "m = int(input(\"끝나는 정수 입력: \"))\n",
    "total= 0\n",
    "for i in range(n,m+1):\n",
    "    total += i\n",
    "print(n,\"부터\",m,\"까지의 합은\",total,\"입니다.\")"
   ]
  },
  {
   "cell_type": "code",
   "execution_count": 40,
   "id": "e33f542a-4b03-4d22-be57-8919b3c58cfe",
   "metadata": {},
   "outputs": [
    {
     "name": "stdin",
     "output_type": "stream",
     "text": [
      "시작하는 정수 입력:  1\n",
      "끝나는 정수 입력:  10\n"
     ]
    },
    {
     "name": "stdout",
     "output_type": "stream",
     "text": [
      "55\n"
     ]
    }
   ],
   "source": [
    "n = int(input(\"시작하는 정수 입력: \"))\n",
    "m = int(input(\"끝나는 정수 입력: \"))\n",
    "i=n #시작하는 수가 n이라서 n=i로 지정,n을 넣어도 되지만 n이 커지면 11+10 = 55 형태로 끝나기 때문에 i라는 변수로 지정한 것\n",
    "total = 0\n",
    "while i<=m:\n",
    "    total +=i\n",
    "    i+=1\n",
    "print(total)"
   ]
  },
  {
   "cell_type": "code",
   "execution_count": null,
   "id": "46f02bc9-e96c-47ad-8d09-249c10a90745",
   "metadata": {},
   "outputs": [],
   "source": [
    "i=0\n",
    "while i<100:\n",
    "    i+=1\n",
    "    if i%2 ==0:\n",
    "        continue\n",
    "    print(i,end = \"\\t\")"
   ]
  }
 ],
 "metadata": {
  "kernelspec": {
   "display_name": "Python 3 (ipykernel)",
   "language": "python",
   "name": "python3"
  },
  "language_info": {
   "codemirror_mode": {
    "name": "ipython",
    "version": 3
   },
   "file_extension": ".py",
   "mimetype": "text/x-python",
   "name": "python",
   "nbconvert_exporter": "python",
   "pygments_lexer": "ipython3",
   "version": "3.9.13"
  }
 },
 "nbformat": 4,
 "nbformat_minor": 5
}
