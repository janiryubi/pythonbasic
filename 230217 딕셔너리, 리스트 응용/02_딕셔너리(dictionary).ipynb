{
 "cells": [
  {
   "cell_type": "code",
   "execution_count": 21,
   "id": "56c0dba0-eca2-4dae-97ca-00f37c439962",
   "metadata": {},
   "outputs": [
    {
     "name": "stdout",
     "output_type": "stream",
     "text": [
      "<class 'dict'>\n",
      "{'key': 'value'}\n",
      "{'key': 'last value'}\n",
      "[<class 'str'>, <class 'int'>, <class 'float'>, <class 'tuple'>]\n",
      "[<class 'str'>, <class 'bool'>, <class 'float'>, <class 'tuple'>, <class 'list'>, <class 'dict'>, <class 'set'>]\n",
      "{}\n",
      "{}\n",
      "{}\n",
      "{}\n",
      "{'key': 'value', 'key2': 'value2', 'key3': 'value3'}\n",
      "{'key': 'value', 'key2': 'value2', 'key3': 'value3'}\n",
      "{1: 'value', 'key2': 'value2'}\n",
      "<zip object at 0x000001C99EC69D80>\n",
      "{'key': 'value', 'key2': 'value2', 'key3': 'value3'}\n"
     ]
    }
   ],
   "source": [
    "# 딕셔너리 자료형(dictionary type) - 비시퀀스 타입 - 인덱스X\n",
    "# 고유한,특정 값에 접근할 수 있는 key 값을 가짐 - key는 1:1로 매칭되는 value값을 가짐\n",
    "# key:(콜론) value로 표현, key - value pair\n",
    "# 중괄호 활용, {key: value}\n",
    "# key:value 와 key:value 사이는 ,(콤마)\n",
    "dic_var = {\"key\" : \"value\"}\n",
    "print(type(dic_var))\n",
    "print(dic_var)\n",
    "\n",
    "#중복해서 넣게되면 최근 것만 남음\n",
    "dic_var = {\"key\" : \"value\",\"key\" : \"last value\"}\n",
    "print(dic_var)\n",
    "\n",
    "# dictionary_variable = {key:value,key:value...}\n",
    "# ()tuple 시퀀스 - 순서O\n",
    "# []list 시퀀스 - 순서O\n",
    "# {}dictionay{'key':'value' - value 값 중복 o??????????},set(key - 중복X) 비 시퀀스 - 순서X(하지만 요즘은 dictionary는 순서O)\n",
    "\n",
    "# 딕셔너리 자료형(dictionary type) - key는 \n",
    "# 문자열(str), 정수(int), 실수(float), 불(bool) 튜플(tuple)사용O 섞어서도 가능\n",
    "#단, list, dic, 집합(set)사용X\n",
    "\n",
    "dic_var = {\"key\" : \"value\", #문자열\n",
    "           1:\"value2\", #정수 #1과 True값이 동일하여 답이 4개만 나오는 것\n",
    "           1.1:\"value3\", #실수\n",
    "           True:\"value4\", #불\n",
    "           (\"key\",1,1.1,True) : \"last value2\"} #튜플\n",
    "print(list(map(type,dic_var.keys())))\n",
    "\n",
    "# 딕셔너리 자료형(dictionary type) - value는 모두 가능 \n",
    "dic_var = {\"key\" : \"value\", \n",
    "           1:1,\n",
    "           1.1:1.1,\n",
    "           True:False,\n",
    "           (\"key\",1,1.1,True) : (\"key\",1,1.1,True),\n",
    "           \"list\":[1,'가',1.1,True,(1,'나')],\n",
    "           \"dict\": {\"key\" : \"value\",\"key2\" : \"value2\"},\n",
    "           \"set\": {\"key\", \"value\"}\n",
    "          }\n",
    "print(list(map(type,dic_var.values())))\n",
    "\n",
    "#빈 딕셔너리를 만들때는({})만 쓰거나 인자없이 dict() 함수를 사용\n",
    "# dict이랑 비교할 수 있게 set의 빈건set()만 표현 가능\n",
    "empty_dict = {}\n",
    "print(empty_dict)\n",
    "type(print(empty_dict))\n",
    "\n",
    "empty_dict = dict()\n",
    "print(empty_dict)\n",
    "type(print(empty_dict))\n",
    "#dict()함수로 생성 - 키워드 인자값을 활용하면 딕셔너리를 만들 수 있음\n",
    "# 다만, 키워드 부분은 변수명처럼 따옴표 사용 안함\n",
    "#(key에는 str만 가능? str만 쓰지 않도록 키와 값 한 쌍을 갖는 시퀀스 객체를 요소로 갖는 시퀀스 객체를 생성하여 자료형으로 만들 수 있음\n",
    "dict_a = dict(key = \"value\",key2 = \"value2\",key3 = \"value3\")\n",
    "print(dict_a)\n",
    "\n",
    "# dict()함수로 생성하기\n",
    "# dict() 함수에 인자값을 활용하면 딕셔너리 생성 가능\n",
    "# 함수에 사용하는 키워드 인자의 키워드 부분은 변수명처럼 따옴표('',\"\")를 사용하지 않음\n",
    "dict_a = dict(key = \"value\", key2 = \"value2\", key3 = \"value3\")\n",
    "# dict()함수에서 key를 변수처럼 입력하지만 출력은 str로 key값을 출력\n",
    "#key - 문자, 언더바, 숫자만 올 수 있기 때문에 str(문자열)만 사용 가능\n",
    "print(dict_a)\n",
    "\n",
    "# dict함수와 시퀀스 객체로 생성\n",
    "# 키와 값 한쌍을 갖는 시퀀스 객체를 요소로 갖는 시퀀스 객체를 생성하여 딕셔너리 자료형으로 만들 수 있음\n",
    "# 키값 다 쓸 수 았음 int, tuple 등등\n",
    "dict_c = dict([(1, \"value\"), (\"key2\", \"value2\")])\n",
    "print(dict_c)\n",
    "\n",
    "#위의 한 예로 zip 함수를 쓸 수 있음\n",
    "# dict()함수와 zip() 함수로 셍성\n",
    "dict_b = dict(zip([\"key\", \"key2\", \"key3\"], [\"value\", \"value2\", \"value3\"]))\n",
    "print(zip([\"key\", \"key2\", \"key3\"],[\"value\", \"value2\", \"value3\"]))\n",
    "[_ for _ in zip([\"key\", \"key2\", \"key3\"],[\"value\", \"value2\", \"value3\"])]\n",
    "# zip()함수는 구성하는 요소들의 같은 위치에 있는 것을 묶어준다.\n",
    "print(dict_b)"
   ]
  },
  {
   "cell_type": "code",
   "execution_count": 2,
   "id": "f8ccafb4-027b-4f0b-a2cd-028326ec9f93",
   "metadata": {},
   "outputs": [
    {
     "name": "stdout",
     "output_type": "stream",
     "text": [
      "[('key1', 'value1'), ('key2', 'value2'), ('key3', 'value3')]\n"
     ]
    }
   ],
   "source": [
    "keys = (\"key1\", \"key2\", \"key3\")\n",
    "values = (\"value1\", \"value2\", \"value3\")\n",
    "sam_list = []\n",
    "for index in range(len(keys)):\n",
    "    sam_list.append((keys[index], values[index]))\n",
    "print(sam_list)\n",
    "# 이 뒤에 설명하신거!"
   ]
  },
  {
   "cell_type": "code",
   "execution_count": 3,
   "id": "54c6f5d6-abb4-4b84-8e71-fc8ff2df1d2f",
   "metadata": {},
   "outputs": [
    {
     "name": "stdout",
     "output_type": "stream",
     "text": [
      "{'key': 'value', 'key2': 'value2', 'key3': 'value3'}\n",
      "value\n"
     ]
    }
   ],
   "source": [
    "# 키로 값에 접근 - 인덱싱은 0 이상의 정수를 활용하여 접근하지만, dict은 키로 접근\n",
    "print(dict_b)\n",
    "print(dict_b['key']) #인덱싱과 흡사"
   ]
  },
  {
   "cell_type": "code",
   "execution_count": 4,
   "id": "be9130ab-e565-42bc-b590-cd6228748d81",
   "metadata": {},
   "outputs": [
    {
     "name": "stdout",
     "output_type": "stream",
     "text": [
      "{'key': 'value', 'key2': 'value2', 'key3': 'value3'}\n",
      "{'key': 'super value', 'key2': 'value2', 'key3': 'value3'}\n"
     ]
    }
   ],
   "source": [
    "#키를 통해 접근한 요소에 값을 할당하면 해당 값 변경 가능\n",
    "print(dict_b)\n",
    "dict_b['key'] =\"super value\"\n",
    "print(dict_b)"
   ]
  },
  {
   "cell_type": "code",
   "execution_count": 5,
   "id": "fd3a9742-bd24-43d3-a5f2-255a7f753cad",
   "metadata": {},
   "outputs": [
    {
     "name": "stdout",
     "output_type": "stream",
     "text": [
      "{'key': 'super value', 'key2': 'value2', 'key3': 'value3'}\n",
      "{'key': 'super value', 'key2': 'value2', 'key3': 'value3', 'new one': 'new value'}\n"
     ]
    }
   ],
   "source": [
    "# 키가 없다면? 키를 황용하여 값을 할당하면 새로운 키와 값의 쌍이 추가됨\n",
    "print(dict_b)\n",
    "dict_b['new one'] =\"new value\"\n",
    "print(dict_b)"
   ]
  },
  {
   "cell_type": "code",
   "execution_count": 6,
   "id": "a0f3d574-1615-43bb-b57f-2e6487ea1c54",
   "metadata": {},
   "outputs": [
    {
     "name": "stdout",
     "output_type": "stream",
     "text": [
      "{'key': 'super value', 'key2': 'value2', 'key3': 'value3', 'new one': 'new value'}\n"
     ]
    }
   ],
   "source": [
    "# 없는 키에 접근할 경우, key error\n",
    "print(dict_b)\n",
    "# print(dict_b['없는 키'])\n",
    "\n",
    "#KeyError                                  Traceback (most recent call last)\n",
    "#~\\AppData\\Local\\Temp\\ipykernel_8284\\3437483685.py in <module>\n",
    "#      1 # 없는 키에 접근할 경우, key error\n",
    "#      2 print(dict_b)\n",
    "#----> 3 print(dict_b['없는 키'])\n",
    "#\n",
    "# KeyError: '없는 키'"
   ]
  },
  {
   "cell_type": "code",
   "execution_count": 22,
   "id": "8c5cbd04-b762-4163-bd9b-04d76d47b8d2",
   "metadata": {},
   "outputs": [
    {
     "name": "stdout",
     "output_type": "stream",
     "text": [
      "{'key': 'value', 'key2': 'value2', 'key3': 'value3'}\n",
      "True\n"
     ]
    },
    {
     "data": {
      "text/plain": [
       "True"
      ]
     },
     "execution_count": 22,
     "metadata": {},
     "output_type": "execute_result"
    }
   ],
   "source": [
    "#특정키가 존재하는지 확인할 때 in 연산자\n",
    "print(dict_b)\n",
    "print('key' in dict_b)\n",
    "'value'in dict_b.values()"
   ]
  },
  {
   "cell_type": "code",
   "execution_count": 8,
   "id": "574e40bd-6542-43c4-9305-56cf640b47aa",
   "metadata": {},
   "outputs": [],
   "source": [
    "# 특정키와 값의 쌍을 삭제 del\n",
    "# print(dict_b)\n",
    "# del dict_b['new one']\n",
    "# print(dict_b)"
   ]
  },
  {
   "cell_type": "code",
   "execution_count": 9,
   "id": "1d093969-b9aa-43c8-a009-b7a3979d4edf",
   "metadata": {},
   "outputs": [
    {
     "name": "stdout",
     "output_type": "stream",
     "text": [
      "{'key': 'super value', 'key2': 'value2', 'key3': 'value3', 'new one': 'new value'}\n"
     ]
    },
    {
     "data": {
      "text/plain": [
       "4"
      ]
     },
     "execution_count": 9,
     "metadata": {},
     "output_type": "execute_result"
    }
   ],
   "source": [
    "#키와 값의 쌍 개수 len\n",
    "print(dict_b)\n",
    "len(dict_b)"
   ]
  },
  {
   "cell_type": "code",
   "execution_count": 10,
   "id": "c3133b7c-1fa9-4090-a307-73c815c6f3f3",
   "metadata": {},
   "outputs": [
    {
     "name": "stdin",
     "output_type": "stream",
     "text": [
      "과일의 이름을 입력하세요. 사과\n"
     ]
    },
    {
     "name": "stdout",
     "output_type": "stream",
     "text": [
      "사과 의 가격은 1000원 입니다.\n"
     ]
    }
   ],
   "source": [
    "#input()함수를 통해 원하는 과일 이름을 입력하면 가격이 출력되는 프로그램을 구현해봅시다. 과일 이름(str을 key로 만들고, 가격(int)를 value로 해서 딕셔너리 자료형을 만듭니다.사과 1000바나나700,오렌지1500,파인애플2000\n",
    "fruit = input(\"과일의 이름을 입력하세요.\")\n",
    "dict_a = dict(zip([\"사과\",\"바나나\",\"오렌지\",\"파인애플\"],[\"1000원\", \"700원\",\"1500원\",\"2000원\"]))\n",
    "print(fruit,\"의 가격은\",dict_a[fruit],\"입니다.\")"
   ]
  },
  {
   "cell_type": "code",
   "execution_count": 11,
   "id": "8549380b-2875-4c02-bd26-2a31d681c830",
   "metadata": {},
   "outputs": [
    {
     "name": "stdin",
     "output_type": "stream",
     "text": [
      "과일의 이름을 입력하세요. 사과\n"
     ]
    },
    {
     "name": "stdout",
     "output_type": "stream",
     "text": [
      "사과 의 가격은 1000 원 입니다."
     ]
    }
   ],
   "source": [
    "fruit = input(\"과일의 이름을 입력하세요.\")\n",
    "dict_a = dict(zip([\"사과\",\"바나나\",\"오렌지\",\"파인애플\"],[1000, 700,1500,2000]))\n",
    "print(fruit,\"의 가격은\",dict_a[fruit],\"원 입니다.\",end=\"\")"
   ]
  },
  {
   "cell_type": "code",
   "execution_count": 12,
   "id": "adc69432-ee6d-45b3-a8c3-4d8bd9512e4b",
   "metadata": {},
   "outputs": [
    {
     "name": "stdin",
     "output_type": "stream",
     "text": [
      "과일의 이름을 입력하세요. 사과\n"
     ]
    },
    {
     "name": "stdout",
     "output_type": "stream",
     "text": [
      "사과의 가격은 1000원입니다.\n"
     ]
    }
   ],
   "source": [
    "dict_fruits = {\"사과\" :1000,\"바나나\":700,\"오렌지\":1500,\"파인애플\":2000}\n",
    "input_fruit = input(\"과일의 이름을 입력하세요.\")\n",
    "print(f\"{input_fruit}의 가격은 {dict_fruits[input_fruit]}원입니다.\")"
   ]
  },
  {
   "cell_type": "code",
   "execution_count": 19,
   "id": "8adb1033-8db9-4bae-a62a-6c13a02ed69d",
   "metadata": {},
   "outputs": [
    {
     "name": "stdin",
     "output_type": "stream",
     "text": [
      "이름을 기입해주세요. 뽀로로 루피 크롱 스누피\n",
      "몸무게를 입력해주세요. 20.4 16.2 22.3 5.2\n"
     ]
    },
    {
     "name": "stdout",
     "output_type": "stream",
     "text": [
      "{'뽀로로': 20.4, '루피': 16.2, '크롱': 22.3, '스누피': 5.2}\n",
      "[<class 'str'>, <class 'str'>, <class 'str'>, <class 'str'>]\n",
      "[<class 'float'>, <class 'float'>, <class 'float'>, <class 'float'>]\n",
      "[20.4, 16.2, 22.3, 5.2]\n"
     ]
    }
   ],
   "source": [
    "name = input(\"이름을 기입해주세요.\").split(\" \")\n",
    "wight = list(map(float,input(\"몸무게를 입력해주세요.\").split(\" \"))) \n",
    "# map함수 -input에게 flout을 먹이겠다\n",
    "# input받은걸 공백으로 split하고 그걸 float처리를 map으로 하여 똑같이 각각 적용하고 그걸 다시 리스트로 만들어주셌다\n",
    "dict_b = dict(zip(name,wight)) # zip함수 자체가 name1,name2안할 수 있게 해주는 것\n",
    "print(dict_b)\n",
    "print(list(map(type, dict_b.keys())))\n",
    "print(list(map(type, dict_b.values())))\n",
    "#map앞에 list안쓰면 사람이 읽을 수 없는 상태로 저장된다"
   ]
  },
  {
   "cell_type": "code",
   "execution_count": null,
   "id": "632b13c8-669c-4fa5-aa66-e1ac3d5e4c92",
   "metadata": {},
   "outputs": [],
   "source": []
  }
 ],
 "metadata": {
  "kernelspec": {
   "display_name": "Python 3 (ipykernel)",
   "language": "python",
   "name": "python3"
  },
  "language_info": {
   "codemirror_mode": {
    "name": "ipython",
    "version": 3
   },
   "file_extension": ".py",
   "mimetype": "text/x-python",
   "name": "python",
   "nbconvert_exporter": "python",
   "pygments_lexer": "ipython3",
   "version": "3.9.13"
  }
 },
 "nbformat": 4,
 "nbformat_minor": 5
}
