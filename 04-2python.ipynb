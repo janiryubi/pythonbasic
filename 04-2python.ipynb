{
 "cells": [
  {
   "cell_type": "code",
   "execution_count": 1,
   "id": "0b7db70e-53a4-4fe7-98c1-d85a7eb2e199",
   "metadata": {},
   "outputs": [
    {
     "name": "stdout",
     "output_type": "stream",
     "text": [
      "[1, 2, 3, 4]\n"
     ]
    }
   ],
   "source": [
    "# map()내장함수 iterable(반복가능한) 객체에서 요소꺼내 함수를 각각 적용하고 싶을 때 사용\n",
    "# list()함수 또는 tuple()함수를 활용하여 map클래스를 list or tuple로 변경 가능\n",
    "# map(function, iterable) -> <class ' map'>(iterable)\n",
    "a = [1.2, 2.5, 3.7, 4.6]\n",
    "a = list(map(int, a)) \n",
    "# a -> 시퀀스 자료형 - 문자열, 리스트, 듀플(list, tuple, str)\n",
    "print(a)"
   ]
  },
  {
   "cell_type": "code",
   "execution_count": 2,
   "id": "0acb9ca4-f9d3-4dbb-bda3-85f5d695ebe8",
   "metadata": {},
   "outputs": [
    {
     "name": "stdin",
     "output_type": "stream",
     "text": [
      "국어, 영어,수학, 과학 점수를 입력해주세요: 98,100,06,100\n"
     ]
    },
    {
     "name": "stdout",
     "output_type": "stream",
     "text": [
      "실행결과: \n",
      "평균 점수는: 76.0\n"
     ]
    }
   ],
   "source": [
    "grade = input(\"국어, 영어,수학, 과학 점수를 입력해주세요:\").split(',')\n",
    "A = list(map(int,grade))\n",
    "kor = A[0]\n",
    "eng = A[1]\n",
    "mat = A[2]\n",
    "sci = A[3]\n",
    "print(\"실행결과:\",\n",
    "      \"\\n평균 점수는:\",(kor + eng + mat + sci)/4)\n",
    "#invalid literal for int() with base 10: ','"
   ]
  }
 ],
 "metadata": {
  "kernelspec": {
   "display_name": "Python 3 (ipykernel)",
   "language": "python",
   "name": "python3"
  },
  "language_info": {
   "codemirror_mode": {
    "name": "ipython",
    "version": 3
   },
   "file_extension": ".py",
   "mimetype": "text/x-python",
   "name": "python",
   "nbconvert_exporter": "python",
   "pygments_lexer": "ipython3",
   "version": "3.9.13"
  }
 },
 "nbformat": 4,
 "nbformat_minor": 5
}
