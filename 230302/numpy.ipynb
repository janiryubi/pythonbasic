{
 "cells": [
  {
   "cell_type": "code",
   "execution_count": 1,
   "id": "c2b92c0d-8a73-4b9e-8f5c-bff421f39062",
   "metadata": {},
   "outputs": [],
   "source": [
    "import numpy as np\n",
    "#시작할 때 불러와줘야 함,아나콘다 안에 있음"
   ]
  },
  {
   "cell_type": "code",
   "execution_count": 2,
   "id": "574c459b-0cef-4364-891e-cce2a617fcd0",
   "metadata": {},
   "outputs": [],
   "source": [
    "#1차원 배열 만들기\n",
    "#ndarray 클래스 객체"
   ]
  },
  {
   "cell_type": "code",
   "execution_count": 3,
   "id": "da8f7d49-2eac-4ab2-b690-3d0c47915651",
   "metadata": {},
   "outputs": [
    {
     "data": {
      "text/plain": [
       "array([0, 1, 2, 3, 4, 5, 6, 7, 8, 9])"
      ]
     },
     "execution_count": 3,
     "metadata": {},
     "output_type": "execute_result"
    }
   ],
   "source": [
    "ar = np.array([ _ for _ in range(10)]) \n",
    "ar"
   ]
  },
  {
   "cell_type": "code",
   "execution_count": 4,
   "id": "49482263-90ce-4fea-9fc6-eaf85b12549b",
   "metadata": {},
   "outputs": [
    {
     "data": {
      "text/plain": [
       "(10,)"
      ]
     },
     "execution_count": 4,
     "metadata": {},
     "output_type": "execute_result"
    }
   ],
   "source": [
    "ar.shape\n",
    "(10,)\n",
    "#1차원의 10칸 갖는 ndarray"
   ]
  },
  {
   "cell_type": "code",
   "execution_count": 5,
   "id": "40a44cc3-7c5a-4c6f-b2e4-5242c95a88db",
   "metadata": {},
   "outputs": [],
   "source": [
    "#np.array()로 생성한 객체는 -> numpy.ndarray타입을 가짐"
   ]
  },
  {
   "cell_type": "code",
   "execution_count": 6,
   "id": "87f71107-6e66-46e6-a8dc-ba67a5540d43",
   "metadata": {},
   "outputs": [
    {
     "data": {
      "text/plain": [
       "numpy.ndarray"
      ]
     },
     "execution_count": 6,
     "metadata": {},
     "output_type": "execute_result"
    }
   ],
   "source": [
    "type(ar)"
   ]
  },
  {
   "cell_type": "code",
   "execution_count": 7,
   "id": "6452f7b2-12f1-408d-ab52-927795f04c3f",
   "metadata": {},
   "outputs": [],
   "source": [
    "#리스트 자료형은는 요소의 종류에 관계없이, 또 개수에 제한없이 삽입, 삭제, 수정 가능\n",
    "#넘파이 배열 객체는 C언어의 배열처럼 메모리에서 연속적인 배치를 이룸\n",
    "#즉, 모든 요소가 같은 자료형이어야 하고 개수가 명확해야 함"
   ]
  },
  {
   "cell_type": "code",
   "execution_count": 8,
   "id": "59734c47-309f-4b7f-9805-7d5f5cd5765d",
   "metadata": {},
   "outputs": [],
   "source": [
    "#int\n",
    "#32bit 컴퓨터 기준으로 정수가 32bit (4byte) 크기라고 가정한다면 int 자료형은 2의 32제곱의 값(4,294,967,296)을 표현할 수 있다.\n",
    "#음수, 0, 양수를 포함하여 최소 -2,147,483,648에서 최대 2,147,483,647까지 표현하는 것이다.\n",
    "#ex. 쥬니어네이버 동물농장 포인트는 21억이 최대였다.\n",
    "#ex. 마인크래프트 레벨은 21억이 최대다.\n",
    "\n",
    "#unsigned int\n",
    "#unsigned int 자료형은 int의 범위를 양의 정수 범위로만 사용한 자료형이다.\n",
    "#따라서 양의 표현이 2배 늘어난다. 최소 0부터 최대 4,294,967,295까지 표현한다.\n",
    "#ex. 바람의 나라 최대 경험치는 42.9억이다."
   ]
  },
  {
   "cell_type": "code",
   "execution_count": 9,
   "id": "7efdb2c3-9ebd-4fd2-89f2-fb62aaaed5e6",
   "metadata": {},
   "outputs": [
    {
     "data": {
      "text/plain": [
       "array([ 0.1,  5. ,  4. , 12. ,  0.5])"
      ]
     },
     "execution_count": 9,
     "metadata": {},
     "output_type": "execute_result"
    }
   ],
   "source": [
    "#같은 타입인 정수를 요소로 갖는 리스트를 활용\n",
    "ar = np.array([ _ for _ in range(10)]) \n",
    "ar\n",
    "#ar2의 경우를 살펴보면 정수와 실수가 혼합된 리스트를 활용하여 ndarray 객체를 생성하고 있습니다. \n",
    "#앞서 정수와 실수의 연산과 같은 맥락으로 실수 타입으로 모두 선언된 것을 확인할 수 있습니다.\n",
    "#표현 범위가 더 큰 자료형으로 변환\n",
    "ar2 = np.array([0.1,5,4,12 ,0.5])\n",
    "ar2"
   ]
  },
  {
   "cell_type": "code",
   "execution_count": 10,
   "id": "4c991313-8664-41e4-853a-0880c60070a3",
   "metadata": {},
   "outputs": [
    {
     "data": {
      "text/plain": [
       "dtype('int32')"
      ]
     },
     "execution_count": 10,
     "metadata": {},
     "output_type": "execute_result"
    }
   ],
   "source": [
    "#넘파이의 배열인 ndarray클래스는 요소가 모두 같은 자료형을 갖는다고 했습니다. \n",
    "#np.array() 함수로 넘파이 배열을 만들 때 자료형을 명시적으로 작성하려면 키워드인자로 dtype을 사용합니다. \n",
    "#반대로 dtype 키워드 인수가 없으면 해당 데이터 자료형을 동적 타이핑합니다. \n",
    "#그리고 만들어진 넘파이 배열의 자료형을 확인하려면 dtype 속성을 활용하면 됩니다\n",
    "import numpy as np\n",
    "x = np.array([1,2,3])\n",
    "x.dtype"
   ]
  },
  {
   "cell_type": "code",
   "execution_count": 11,
   "id": "b715b14f-986e-4b65-80ea-99bf6cd174e4",
   "metadata": {},
   "outputs": [
    {
     "data": {
      "text/plain": [
       "dtype('float64')"
      ]
     },
     "execution_count": 11,
     "metadata": {},
     "output_type": "execute_result"
    }
   ],
   "source": [
    "x = np.array([1.0,2.0,3.0])\n",
    "x.dtype"
   ]
  },
  {
   "cell_type": "code",
   "execution_count": 12,
   "id": "46654003-9d93-486a-ae8d-9062ad358965",
   "metadata": {},
   "outputs": [
    {
     "data": {
      "text/plain": [
       "dtype('float64')"
      ]
     },
     "execution_count": 12,
     "metadata": {},
     "output_type": "execute_result"
    }
   ],
   "source": [
    "x = np.array([1,2,3.0])\n",
    "x.dtype"
   ]
  },
  {
   "cell_type": "code",
   "execution_count": 13,
   "id": "cd961985-7d73-4d16-a613-aabb6d42b62d",
   "metadata": {},
   "outputs": [
    {
     "data": {
      "text/plain": [
       "dtype('float32')"
      ]
     },
     "execution_count": 13,
     "metadata": {},
     "output_type": "execute_result"
    }
   ],
   "source": [
    "#넘파이의 자료형\n",
    "#dtype지정 가능\n",
    "import numpy as np\n",
    "x = np.array([1,2,3],dtype = 'f')\n",
    "x.dtype"
   ]
  },
  {
   "cell_type": "code",
   "execution_count": 14,
   "id": "fc644afb-15b4-4255-8bda-bb765cb4de28",
   "metadata": {},
   "outputs": [
    {
     "data": {
      "text/plain": [
       "numpy.float32"
      ]
     },
     "execution_count": 14,
     "metadata": {},
     "output_type": "execute_result"
    }
   ],
   "source": [
    "x[0]+x[1]\n",
    "type(x[0]+x[1])"
   ]
  },
  {
   "cell_type": "code",
   "execution_count": 15,
   "id": "25c9e47d-9039-4094-8cbb-0941b4646ed7",
   "metadata": {},
   "outputs": [
    {
     "data": {
      "text/plain": [
       "dtype('<U1')"
      ]
     },
     "execution_count": 15,
     "metadata": {},
     "output_type": "execute_result"
    }
   ],
   "source": [
    "x = np.array([1,2,3],dtype = 'U')\n",
    "x.dtype\n",
    "#최대 1칸짜리만 만들 수 있음"
   ]
  },
  {
   "cell_type": "code",
   "execution_count": 16,
   "id": "0fe97430-9eca-4e79-ae49-c3d675c83645",
   "metadata": {},
   "outputs": [
    {
     "data": {
      "text/plain": [
       "'12'"
      ]
     },
     "execution_count": 16,
     "metadata": {},
     "output_type": "execute_result"
    }
   ],
   "source": [
    "x[0]+x[1] #str"
   ]
  },
  {
   "cell_type": "code",
   "execution_count": 17,
   "id": "168816fe-0dca-4568-a4ca-eefe60bd9d19",
   "metadata": {},
   "outputs": [
    {
     "name": "stderr",
     "output_type": "stream",
     "text": [
      "C:\\Users\\Playdata\\AppData\\Local\\Temp\\ipykernel_14672\\2482597711.py:3: RuntimeWarning: divide by zero encountered in true_divide\n",
      "  np.array([0,1,-1,0])/np.array([1,0,0,0])\n",
      "C:\\Users\\Playdata\\AppData\\Local\\Temp\\ipykernel_14672\\2482597711.py:3: RuntimeWarning: invalid value encountered in true_divide\n",
      "  np.array([0,1,-1,0])/np.array([1,0,0,0])\n"
     ]
    },
    {
     "data": {
      "text/plain": [
       "array([  0.,  inf, -inf,  nan])"
      ]
     },
     "execution_count": 17,
     "metadata": {},
     "output_type": "execute_result"
    }
   ],
   "source": [
    "#무한대를 표현하기 위한 np.inf(infinity)와 \n",
    "#정의할 수 없는 숫자를 나타내는 np.nan(not a number)을 사용\n",
    "np.array([0,1,-1,0])/np.array([1,0,0,0])\n",
    "#다음 예와 같이 1을 0으로 나누려고 하거나 0에 대한 로그 값을 계산하면 \n",
    "#무한대인 np.inf이 나옵니다. \n",
    "#0을 0으로 나누려고 시도하면 np.nan이 나옵니다\n",
    "#각 값이 순서에 따라 매칭되어 차례로 나뉨 ->0/1,1/0,-1/0,0/0"
   ]
  },
  {
   "cell_type": "code",
   "execution_count": 18,
   "id": "f77e764a-7e6d-428e-a9e2-5b7eb6ddc469",
   "metadata": {},
   "outputs": [
    {
     "name": "stderr",
     "output_type": "stream",
     "text": [
      "C:\\Users\\Playdata\\AppData\\Local\\Temp\\ipykernel_14672\\2933082444.py:1: RuntimeWarning: divide by zero encountered in log\n",
      "  np.log(0)\n"
     ]
    },
    {
     "data": {
      "text/plain": [
       "-inf"
      ]
     },
     "execution_count": 18,
     "metadata": {},
     "output_type": "execute_result"
    }
   ],
   "source": [
    "np.log(0)"
   ]
  },
  {
   "cell_type": "code",
   "execution_count": 19,
   "id": "168b80b5-8c38-4203-b554-74701ced1f72",
   "metadata": {},
   "outputs": [
    {
     "data": {
      "text/plain": [
       "0.0"
      ]
     },
     "execution_count": 19,
     "metadata": {},
     "output_type": "execute_result"
    }
   ],
   "source": [
    "np.exp(-np.inf)"
   ]
  },
  {
   "cell_type": "code",
   "execution_count": 20,
   "id": "f7437b06-86cb-45b2-abf2-ffdfe8c0d27b",
   "metadata": {},
   "outputs": [],
   "source": [
    "#벡터화 연산(Vectorized Operation)\n",
    "#배열의 각 요소에 대한 반복 연산을 하나의 명령어로 처리\n",
    "#리스트 내 모든 요소 데이터를 모두 2배 해야 하는 경우"
   ]
  },
  {
   "cell_type": "code",
   "execution_count": 21,
   "id": "ef5d0e8c-450c-4b12-a77d-c37957f3e00e",
   "metadata": {},
   "outputs": [
    {
     "data": {
      "text/plain": [
       "[0, 2, 4, 6, 8, 10, 12, 14, 16, 18]"
      ]
     },
     "execution_count": 21,
     "metadata": {},
     "output_type": "execute_result"
    }
   ],
   "source": [
    "data = [0,1,2,3,4,5,6,7,8,9]\n",
    "answer = [2 * d for d in data]\n",
    "answer"
   ]
  },
  {
   "cell_type": "code",
   "execution_count": 22,
   "id": "a83be711-f006-42f9-ac69-4caa9a783124",
   "metadata": {},
   "outputs": [
    {
     "data": {
      "text/plain": [
       "array([0, 1, 2, 3, 4, 5, 6, 7, 8, 9])"
      ]
     },
     "execution_count": 22,
     "metadata": {},
     "output_type": "execute_result"
    }
   ],
   "source": [
    "#넘파이 배열 객체의 벡터화 연산을 사용하면 다음과 같이 for 반복문이 없이 간단하게 단 한번의 연산식으로 표현\n",
    "x = np.array(data)\n",
    "x\n",
    "#처리 속도도 더 빠름"
   ]
  },
  {
   "cell_type": "code",
   "execution_count": 23,
   "id": "3929789f-b436-4007-82b4-2b63055e6017",
   "metadata": {},
   "outputs": [
    {
     "data": {
      "text/plain": [
       "array([ 0,  2,  4,  6,  8, 10, 12, 14, 16, 18])"
      ]
     },
     "execution_count": 23,
     "metadata": {},
     "output_type": "execute_result"
    }
   ],
   "source": [
    "2*x"
   ]
  },
  {
   "cell_type": "code",
   "execution_count": 24,
   "id": "4d2a1254-b779-4345-bfab-59165076dde5",
   "metadata": {},
   "outputs": [
    {
     "name": "stdout",
     "output_type": "stream",
     "text": [
      "[0, 1, 2, 0, 1, 2, 0, 1, 2]\n"
     ]
    }
   ],
   "source": [
    "#파이썬 리스트 객체에 정수를 곱하면(*) 객체의 크기가 곱한 숫자만큼 반복 증가합니다. \n",
    "#넘파이 배열 객체는 벡터화 연산이 이뤄진다\n",
    "list_samp =[ _ for _ in range(3)]\n",
    "print(list_samp*3)"
   ]
  },
  {
   "cell_type": "code",
   "execution_count": 25,
   "id": "274a333d-ab5d-4e1c-b563-ed8b63d6106c",
   "metadata": {},
   "outputs": [
    {
     "data": {
      "text/plain": [
       "array([12, 24, 36])"
      ]
     },
     "execution_count": 25,
     "metadata": {},
     "output_type": "execute_result"
    }
   ],
   "source": [
    "a = np.array([1,2,3])\n",
    "b = np.array([10,20,30])\n",
    "2 * a + b"
   ]
  },
  {
   "cell_type": "code",
   "execution_count": 26,
   "id": "976136fa-003a-4d35-9b0d-20cb0a309967",
   "metadata": {},
   "outputs": [
    {
     "data": {
      "text/plain": [
       "array([False,  True, False])"
      ]
     },
     "execution_count": 26,
     "metadata": {},
     "output_type": "execute_result"
    }
   ],
   "source": [
    "a == 2"
   ]
  },
  {
   "cell_type": "code",
   "execution_count": 27,
   "id": "38bae62f-44db-4e89-8e1a-491157f70614",
   "metadata": {},
   "outputs": [
    {
     "data": {
      "text/plain": [
       "array([False,  True,  True])"
      ]
     },
     "execution_count": 27,
     "metadata": {},
     "output_type": "execute_result"
    }
   ],
   "source": [
    "b>10"
   ]
  },
  {
   "cell_type": "code",
   "execution_count": 28,
   "id": "94234fee-7bba-4a27-a6df-86f52cfbe3df",
   "metadata": {},
   "outputs": [
    {
     "data": {
      "text/plain": [
       "array([False,  True, False])"
      ]
     },
     "execution_count": 28,
     "metadata": {},
     "output_type": "execute_result"
    }
   ],
   "source": [
    "(a == 2) & (b > 10)\n",
    "#and는 쓸 수 없음\n",
    "#소괄호 꼭 써주어야 함 - 우선순위 때문에\n",
    "#벡터화 연산은 비교 연산과 논리 연산을 포함한 모든 종류의 수학 연산에 대해 적용"
   ]
  },
  {
   "cell_type": "code",
   "execution_count": 29,
   "id": "6049c484-79bc-4baf-bd14-f2e4088305bb",
   "metadata": {},
   "outputs": [],
   "source": [
    "#2차원 배열 만들기"
   ]
  },
  {
   "cell_type": "code",
   "execution_count": 30,
   "id": "6aa3e103-5d1a-4e52-b804-21cee3a6c3c8",
   "metadata": {},
   "outputs": [],
   "source": [
    "#행렬(matrix)\n",
    "#가로줄 -> 행(row)\n",
    "#세로줄 ->열(column)"
   ]
  },
  {
   "cell_type": "code",
   "execution_count": 31,
   "id": "89c78b59-e2cd-45f3-af2f-6695242c7267",
   "metadata": {},
   "outputs": [
    {
     "data": {
      "text/plain": [
       "array([[0, 1, 2],\n",
       "       [3, 4, 5]])"
      ]
     },
     "execution_count": 31,
     "metadata": {},
     "output_type": "execute_result"
    }
   ],
   "source": [
    "#리스트를 중첩하여 리스트의 리스트(list of list)를 이용해서 2차원 배열처럼 생성\n",
    "#안쪽 리스트의 길이는 행렬의 열의 수 즉 가로 크기\n",
    "#바깥쪽 리스트의 길이는 행렬의 행의 수, 즉 세로 크기\n",
    "c = np.array([[0,1,2],[3,4,5]]) #2행 *3열 array\n",
    "c"
   ]
  },
  {
   "cell_type": "code",
   "execution_count": 32,
   "id": "728cad81-1ede-4cf1-ad94-a8100319e6e5",
   "metadata": {},
   "outputs": [
    {
     "data": {
      "text/plain": [
       "2"
      ]
     },
     "execution_count": 32,
     "metadata": {},
     "output_type": "execute_result"
    }
   ],
   "source": [
    "#행의 갯수\n",
    "len(c)"
   ]
  },
  {
   "cell_type": "code",
   "execution_count": 33,
   "id": "b46893b1-3842-45a0-983f-fa887bd0d690",
   "metadata": {},
   "outputs": [
    {
     "data": {
      "text/plain": [
       "3"
      ]
     },
     "execution_count": 33,
     "metadata": {},
     "output_type": "execute_result"
    }
   ],
   "source": [
    "#열의 개수\n",
    "len(c[0])"
   ]
  },
  {
   "cell_type": "code",
   "execution_count": 34,
   "id": "b8615a7a-505e-4618-aaaa-caa0cbb1feac",
   "metadata": {},
   "outputs": [
    {
     "data": {
      "text/plain": [
       "(2, 3)"
      ]
     },
     "execution_count": 34,
     "metadata": {},
     "output_type": "execute_result"
    }
   ],
   "source": [
    "#2차원 배열의 행과 열의 개수는 앞서 다뤘던 넘파이 배열 객체의 속성 shape를 활용하여 구할 수\n",
    "c.shape"
   ]
  },
  {
   "cell_type": "code",
   "execution_count": 35,
   "id": "fe6f731e-08eb-4db4-9cd7-3237b779156f",
   "metadata": {},
   "outputs": [
    {
     "data": {
      "text/plain": [
       "array([[10, 20, 30, 40],\n",
       "       [50, 60, 70, 80]])"
      ]
     },
     "execution_count": 35,
     "metadata": {},
     "output_type": "execute_result"
    }
   ],
   "source": [
    "d = np.array([[10,20,30,40],\n",
    "              [50,60,70,80]])\n",
    "d"
   ]
  },
  {
   "cell_type": "code",
   "execution_count": 36,
   "id": "64e090e6-87cc-4780-8d11-e259642533c3",
   "metadata": {},
   "outputs": [
    {
     "data": {
      "text/plain": [
       "array([[10, 20, 30, 40],\n",
       "       [50, 60, 70, 80]])"
      ]
     },
     "execution_count": 36,
     "metadata": {},
     "output_type": "execute_result"
    }
   ],
   "source": [
    "d = np.array([[10,20,30,40],[50,60,70,80]])\n",
    "d"
   ]
  },
  {
   "cell_type": "code",
   "execution_count": 37,
   "id": "c2f2996a-0f45-4d15-9638-04a9ea17bc1d",
   "metadata": {},
   "outputs": [
    {
     "data": {
      "text/plain": [
       "array([[[ 1,  2,  3,  4],\n",
       "        [ 5,  6,  7,  8],\n",
       "        [ 9, 10, 11, 12]],\n",
       "\n",
       "       [[ 1, 12, 13, 14],\n",
       "        [15, 16, 17, 18],\n",
       "        [19, 20, 21, 22]]])"
      ]
     },
     "execution_count": 37,
     "metadata": {},
     "output_type": "execute_result"
    }
   ],
   "source": [
    "#3차원 배열 만들기\n",
    "#깊이 x 행 x 열\n",
    "#리스트의 리스트의 리스트를 이용\n",
    "#크기를 나타낼 때는 가장 바깥쪽 리스트의 길이부터 가장 안쪽 리스트 길이의 순서로 표시 \n",
    "#2 x 3 x 4 배열은 다음과 같이 만듭니다\n",
    "e = np.array([[[1,2,3,4],\n",
    "              [5,6,7,8],\n",
    "              [9,10,11,12]],\n",
    "             [[1,12,13,14],\n",
    "              [15,16,17,18],\n",
    "              [19,20,21,22]]])\n",
    "e"
   ]
  },
  {
   "cell_type": "code",
   "execution_count": 38,
   "id": "62c7def5-2b54-4b39-a746-45d51b656760",
   "metadata": {},
   "outputs": [
    {
     "data": {
      "text/plain": [
       "dtype('int32')"
      ]
     },
     "execution_count": 38,
     "metadata": {},
     "output_type": "execute_result"
    }
   ],
   "source": [
    "e.dtype"
   ]
  },
  {
   "cell_type": "code",
   "execution_count": 39,
   "id": "54c4e3dc-f0a1-41ad-88ee-ec4ad40f6205",
   "metadata": {},
   "outputs": [
    {
     "data": {
      "text/plain": [
       "(2, 3, 4)"
      ]
     },
     "execution_count": 39,
     "metadata": {},
     "output_type": "execute_result"
    }
   ],
   "source": [
    "e.shape"
   ]
  },
  {
   "cell_type": "code",
   "execution_count": 40,
   "id": "7c54ff49-d5c9-4e92-874d-d98f1d101133",
   "metadata": {},
   "outputs": [
    {
     "data": {
      "text/plain": [
       "(2, 3, 4)"
      ]
     },
     "execution_count": 40,
     "metadata": {},
     "output_type": "execute_result"
    }
   ],
   "source": [
    "#3차원 배열의 깊이, 행, 열은 다음과 같이 구할 수 있습니다\n",
    "len(e),len(e[0]),len(e[0][0])"
   ]
  },
  {
   "cell_type": "code",
   "execution_count": 41,
   "id": "1e931d40-6cd8-4520-9dd9-dc63a1332d46",
   "metadata": {},
   "outputs": [
    {
     "name": "stdout",
     "output_type": "stream",
     "text": [
      "1\n",
      "(3,)\n"
     ]
    }
   ],
   "source": [
    "#배열의 차원과 크기 알아내기\n",
    "#배열의 ndim 속성과 shape 속성을 이용\n",
    "#ndim 속성은 배열의 차원 shape 속성은 배열의 크기를 반환\n",
    "#a = np.array([1,2,3])\n",
    "print(a.ndim)\n",
    "print(a.shape)"
   ]
  },
  {
   "cell_type": "code",
   "execution_count": 42,
   "id": "167e8b12-76b8-4d93-babf-4e29af8fb670",
   "metadata": {},
   "outputs": [
    {
     "name": "stdout",
     "output_type": "stream",
     "text": [
      "2\n",
      "(2, 3)\n"
     ]
    }
   ],
   "source": [
    "#c = np.array([[0,1,2],[3,4,5]])\n",
    "print(c.ndim)\n",
    "print(c.shape)"
   ]
  },
  {
   "cell_type": "code",
   "execution_count": 43,
   "id": "b8b533a0-00ed-4fad-af0a-0fc840c4dbff",
   "metadata": {},
   "outputs": [
    {
     "name": "stdout",
     "output_type": "stream",
     "text": [
      "3\n",
      "(2, 3, 4)\n"
     ]
    }
   ],
   "source": [
    "print(e.ndim)\n",
    "print(e.shape)"
   ]
  },
  {
   "cell_type": "code",
   "execution_count": 44,
   "id": "313b7524-0056-4306-a55b-693e65b1d858",
   "metadata": {},
   "outputs": [],
   "source": [
    "#배열의 인덱싱"
   ]
  },
  {
   "cell_type": "code",
   "execution_count": 45,
   "id": "0d3a720b-b99a-4dd2-9df9-f4b5f3a15981",
   "metadata": {},
   "outputs": [
    {
     "data": {
      "text/plain": [
       "2"
      ]
     },
     "execution_count": 45,
     "metadata": {},
     "output_type": "execute_result"
    }
   ],
   "source": [
    "#일차원 배열의 인덱싱은 리스트의 인덱싱과 같음\n",
    "a = np.array([0,1,2,3,4])\n",
    "a[2]"
   ]
  },
  {
   "cell_type": "code",
   "execution_count": 46,
   "id": "e418f7e5-7acf-4ff0-85ab-03d635975cac",
   "metadata": {},
   "outputs": [
    {
     "data": {
      "text/plain": [
       "4"
      ]
     },
     "execution_count": 46,
     "metadata": {},
     "output_type": "execute_result"
    }
   ],
   "source": [
    "a[-1]"
   ]
  },
  {
   "cell_type": "code",
   "execution_count": 47,
   "id": "60f2f8f7-ad51-4e13-91ae-2e65c9c38902",
   "metadata": {},
   "outputs": [
    {
     "data": {
      "text/plain": [
       "array([[0, 1, 2],\n",
       "       [3, 4, 5]])"
      ]
     },
     "execution_count": 47,
     "metadata": {},
     "output_type": "execute_result"
    }
   ],
   "source": [
    "#다차원 배열일 때는 다음과 같이 콤마(comma ,)를 사용하여 접근\n",
    "#콤마로 구분된 차원을 축(axis)\n",
    "#그래프의 x축과 y축\n",
    "a = np.array([[0,1,2],[3,4,5]])\n",
    "a"
   ]
  },
  {
   "cell_type": "code",
   "execution_count": 48,
   "id": "5377a5ae-f29e-483f-a682-dc8d30036d2e",
   "metadata": {},
   "outputs": [
    {
     "data": {
      "text/plain": [
       "0"
      ]
     },
     "execution_count": 48,
     "metadata": {},
     "output_type": "execute_result"
    }
   ],
   "source": [
    "a[0,0] #첫번째 행의 첫번재 열"
   ]
  },
  {
   "cell_type": "code",
   "execution_count": 49,
   "id": "74990ec0-e966-4af5-bb24-2d714b06584f",
   "metadata": {},
   "outputs": [
    {
     "data": {
      "text/plain": [
       "1"
      ]
     },
     "execution_count": 49,
     "metadata": {},
     "output_type": "execute_result"
    }
   ],
   "source": [
    "a[0,1] #첫번째 행의 두번째 열"
   ]
  },
  {
   "cell_type": "code",
   "execution_count": 50,
   "id": "c6849aee-b5dc-4f63-a5ae-fdd3f01d727f",
   "metadata": {},
   "outputs": [
    {
     "data": {
      "text/plain": [
       "5"
      ]
     },
     "execution_count": 50,
     "metadata": {},
     "output_type": "execute_result"
    }
   ],
   "source": [
    "a[-1,-1] #마지막 행의 마지막 열"
   ]
  },
  {
   "cell_type": "code",
   "execution_count": 51,
   "id": "40c5ce09-6491-44e6-92ef-955d155a6685",
   "metadata": {},
   "outputs": [
    {
     "data": {
      "text/plain": [
       "[0, 1, 2]"
      ]
     },
     "execution_count": 51,
     "metadata": {},
     "output_type": "execute_result"
    }
   ],
   "source": [
    "#리스트 슬라이싱\n",
    "a = [[0,1,2,3],[4,5,6,7]] #a에서 1,2,3의 값을 가져오기\n",
    "a[0][0:3:1]"
   ]
  },
  {
   "cell_type": "code",
   "execution_count": 52,
   "id": "5f2a8512-f795-4ebd-a397-27e080d6ba7e",
   "metadata": {},
   "outputs": [
    {
     "data": {
      "text/plain": [
       "array([[0, 1, 2, 3],\n",
       "       [4, 5, 6, 7]])"
      ]
     },
     "execution_count": 52,
     "metadata": {},
     "output_type": "execute_result"
    }
   ],
   "source": [
    "#배열의 슬라이싱\n",
    "#배열 객체로 구현한 다차원 배열의 원소 중 복수 개를 접근하려면 일반적인 파이썬 \n",
    "#슬라이싱(slicing)과 comma(,)를 함께 사용\n",
    "a = np.array([[0,1,2,3],[4,5,6,7]])\n",
    "a"
   ]
  },
  {
   "cell_type": "code",
   "execution_count": 53,
   "id": "4fba5282-d6ac-4ca6-8b11-5dd84ffdedec",
   "metadata": {},
   "outputs": [
    {
     "data": {
      "text/plain": [
       "array([0, 1, 2, 3])"
      ]
     },
     "execution_count": 53,
     "metadata": {},
     "output_type": "execute_result"
    }
   ],
   "source": [
    "a[0, :] #첫번째 행 전체 #:뒤는 전체라는 뜻"
   ]
  },
  {
   "cell_type": "code",
   "execution_count": 54,
   "id": "147e8213-f2ea-4fe2-b88c-50969d6dee6a",
   "metadata": {},
   "outputs": [
    {
     "data": {
      "text/plain": [
       "array([1, 5])"
      ]
     },
     "execution_count": 54,
     "metadata": {},
     "output_type": "execute_result"
    }
   ],
   "source": [
    "a[:,1] #두번째 열 전체"
   ]
  },
  {
   "cell_type": "code",
   "execution_count": 55,
   "id": "cfd82e45-1818-45d1-8fd6-2900a41a5130",
   "metadata": {},
   "outputs": [
    {
     "data": {
      "text/plain": [
       "array([5, 6, 7])"
      ]
     },
     "execution_count": 55,
     "metadata": {},
     "output_type": "execute_result"
    }
   ],
   "source": [
    "a[1,1:] #두번째 행의 두번째 열부터 끝열까지"
   ]
  },
  {
   "cell_type": "code",
   "execution_count": 56,
   "id": "74c89da3-c827-4d8b-b48d-a34ab2ca28c8",
   "metadata": {},
   "outputs": [
    {
     "data": {
      "text/plain": [
       "array([[0, 1],\n",
       "       [4, 5]])"
      ]
     },
     "execution_count": 56,
     "metadata": {},
     "output_type": "execute_result"
    }
   ],
   "source": [
    "a[:2,:2]"
   ]
  },
  {
   "cell_type": "code",
   "execution_count": 57,
   "id": "1dce91e9-63c0-4fd9-a511-4a4a5b9f5c55",
   "metadata": {},
   "outputs": [
    {
     "data": {
      "text/plain": [
       "array([[ 0,  1,  2,  3,  4],\n",
       "       [ 5,  6,  7,  8,  9],\n",
       "       [10, 11, 12, 13, 14]])"
      ]
     },
     "execution_count": 57,
     "metadata": {},
     "output_type": "execute_result"
    }
   ],
   "source": [
    "m = np.array([[0,1,2,3,4],\n",
    "              [5,6,7,8,9],\n",
    "              [10,11,12,13,14]])\n",
    "#7인덱싱\n",
    "#14인덱싱\n",
    "#[6,7]슬라이싱\n",
    "#[7,12]슬라이싱\n",
    "#[[3,4],[8,9]]슬라이싱\n",
    "m"
   ]
  },
  {
   "cell_type": "code",
   "execution_count": 58,
   "id": "634c66f8-9a84-481c-9038-3f18436d2d44",
   "metadata": {},
   "outputs": [
    {
     "data": {
      "text/plain": [
       "7"
      ]
     },
     "execution_count": 58,
     "metadata": {},
     "output_type": "execute_result"
    }
   ],
   "source": [
    "m[1,2]"
   ]
  },
  {
   "cell_type": "code",
   "execution_count": 59,
   "id": "772726ac-52cc-46c8-aac6-62dc368db003",
   "metadata": {},
   "outputs": [
    {
     "data": {
      "text/plain": [
       "14"
      ]
     },
     "execution_count": 59,
     "metadata": {},
     "output_type": "execute_result"
    }
   ],
   "source": [
    "m[2,-1]\n",
    "#index 2 is out of bounds for axis 0 with size 2"
   ]
  },
  {
   "cell_type": "code",
   "execution_count": 60,
   "id": "e7e4093c-a29f-40f1-9ba5-39fb2ca6cd4e",
   "metadata": {},
   "outputs": [
    {
     "data": {
      "text/plain": [
       "array([6, 7])"
      ]
     },
     "execution_count": 60,
     "metadata": {},
     "output_type": "execute_result"
    }
   ],
   "source": [
    "m[1,1:3:1]"
   ]
  },
  {
   "cell_type": "code",
   "execution_count": 61,
   "id": "59a64738-ad8c-4020-bf70-1dd96e13a548",
   "metadata": {},
   "outputs": [
    {
     "data": {
      "text/plain": [
       "array([[ 7],\n",
       "       [12]])"
      ]
     },
     "execution_count": 61,
     "metadata": {},
     "output_type": "execute_result"
    }
   ],
   "source": [
    "m[1:,2:3]"
   ]
  },
  {
   "cell_type": "code",
   "execution_count": 62,
   "id": "b0d52e04-37b6-4c31-839a-6a2540a6ec62",
   "metadata": {},
   "outputs": [
    {
     "data": {
      "text/plain": [
       "array([[3, 4],\n",
       "       [8, 9]])"
      ]
     },
     "execution_count": 62,
     "metadata": {},
     "output_type": "execute_result"
    }
   ],
   "source": [
    "m[:2,3:]"
   ]
  },
  {
   "cell_type": "code",
   "execution_count": 63,
   "id": "76f5e2ee-cd79-4121-a36e-9114f474e5f3",
   "metadata": {},
   "outputs": [],
   "source": [
    "#배열 생성"
   ]
  },
  {
   "cell_type": "code",
   "execution_count": 64,
   "id": "f09ca1a6-5665-4dce-abf2-d58b4fce5fe8",
   "metadata": {},
   "outputs": [],
   "source": [
    "#NumPy는 몇가지 단순한 배열을 생성하는 명령을 제공\n",
    "#zeros, ones\n",
    "#zeros_like, ones_like\n",
    "#empty\n",
    "#arange\n",
    "#linspace, logspace #간격동일, 로그 간격\n",
    "#크기가 정해져 있고 모든 값이 0인 배열을 생성하려면 zeros 메서드를 사용\n",
    "#첫번째 인수로는 shape 혹은 1차원 배열을 크기를 뜻하는 정수를 넣습니다"
   ]
  },
  {
   "cell_type": "code",
   "execution_count": 65,
   "id": "93f27712-ccf9-44e8-bbed-a22882969252",
   "metadata": {},
   "outputs": [
    {
     "data": {
      "text/plain": [
       "array([0., 0., 0., 0., 0.])"
      ]
     },
     "execution_count": 65,
     "metadata": {},
     "output_type": "execute_result"
    }
   ],
   "source": [
    "zeros = np.zeros(5)\n",
    "zeros"
   ]
  },
  {
   "cell_type": "code",
   "execution_count": 66,
   "id": "600d75e3-3f0e-4f06-a2ac-ab3a84f92704",
   "metadata": {},
   "outputs": [
    {
     "data": {
      "text/plain": [
       "dtype('float64')"
      ]
     },
     "execution_count": 66,
     "metadata": {},
     "output_type": "execute_result"
    }
   ],
   "source": [
    "zeros.dtype"
   ]
  },
  {
   "cell_type": "code",
   "execution_count": 67,
   "id": "012d4518-1f13-4217-9cbe-e5e1309e5e3b",
   "metadata": {},
   "outputs": [
    {
     "data": {
      "text/plain": [
       "array([[0, 0],\n",
       "       [0, 0],\n",
       "       [0, 0],\n",
       "       [0, 0],\n",
       "       [0, 0]], dtype=int32)"
      ]
     },
     "execution_count": 67,
     "metadata": {},
     "output_type": "execute_result"
    }
   ],
   "source": [
    "#shape를 의미하는 튜플 값을 첫 번째 인수로 입력하면 다차원 배열도 쉽게 만듦\n",
    "#array 명령과 마찬가지로 dtype 인수를 명시하면 해당 자료형 요소소를 가진 배열을 만듭니다\n",
    "c = np.zeros((5,2),dtype = \"i\")\n",
    "c"
   ]
  },
  {
   "cell_type": "code",
   "execution_count": 68,
   "id": "250182c0-3f3f-41ce-9094-ff870060a8e2",
   "metadata": {},
   "outputs": [
    {
     "data": {
      "text/plain": [
       "array(['', '', '', '', ''], dtype='<U4')"
      ]
     },
     "execution_count": 68,
     "metadata": {},
     "output_type": "execute_result"
    }
   ],
   "source": [
    "#zeros 메서드로 문자열 배열도 생성 가능하지만 \n",
    "#모든 요소의 문자열 크기가 같아야 합니다. \n",
    "#만약 더 큰 크기의 문자열을 할당하면 잘릴 수 있습니다.\n",
    "d = np.zeros(5,dtype = \"U4\") #unicode\n",
    "#U뒤의 글자가 4이기 때문에 네글자밖에 안들어감\n",
    "d"
   ]
  },
  {
   "cell_type": "code",
   "execution_count": 69,
   "id": "e21a4cfa-b6d3-4f78-8b2d-ea7fd6905f93",
   "metadata": {},
   "outputs": [
    {
     "data": {
      "text/plain": [
       "array(['abc', 'abcd', 'abcd', '', ''], dtype='<U4')"
      ]
     },
     "execution_count": 69,
     "metadata": {},
     "output_type": "execute_result"
    }
   ],
   "source": [
    "d[0] = \"abc\"\n",
    "d[1] = \"abcd\"\n",
    "d[2] = \"abcde\" #위의 이유로 e가 잘림\n",
    "d"
   ]
  },
  {
   "cell_type": "code",
   "execution_count": 70,
   "id": "94679b53-98b6-4d69-8207-2c75b99bea3a",
   "metadata": {},
   "outputs": [
    {
     "data": {
      "text/plain": [
       "array([[[1, 1, 1, 1],\n",
       "        [1, 1, 1, 1],\n",
       "        [1, 1, 1, 1]],\n",
       "\n",
       "       [[1, 1, 1, 1],\n",
       "        [1, 1, 1, 1],\n",
       "        [1, 1, 1, 1]]], dtype=int64)"
      ]
     },
     "execution_count": 70,
     "metadata": {},
     "output_type": "execute_result"
    }
   ],
   "source": [
    "#0이 아닌 1로 초기화된 배열을 생성하려면 ones 명령을 사용합니다\n",
    "e = np.ones((2,3,4),dtype = \"i8\") #int\n",
    "e"
   ]
  },
  {
   "cell_type": "code",
   "execution_count": 71,
   "id": "c09461f9-afde-4e7d-ad95-26eb9a8eb8aa",
   "metadata": {},
   "outputs": [
    {
     "data": {
      "text/plain": [
       "array([1., 1., 1.], dtype=float32)"
      ]
     },
     "execution_count": 71,
     "metadata": {},
     "output_type": "execute_result"
    }
   ],
   "source": [
    "#shape를 튜플 값으로 명시하지 않고 다른 배열과 같은 shape의 배열을 생성하고 싶다면 \n",
    "#ones_like, zeros_like 명령을 사용합니다.\n",
    "#첫 번째 인수로는 shape을 복사하고 싶은 ndarray 객체를 작성합니다\n",
    "f = np.ones_like(b,dtype=\"f\")\n",
    "f"
   ]
  },
  {
   "cell_type": "code",
   "execution_count": 72,
   "id": "1f02d099-a1c5-4f41-bef7-ac79e8662afe",
   "metadata": {},
   "outputs": [
    {
     "data": {
      "text/plain": [
       "array(['', '', ''], dtype='<U10')"
      ]
     },
     "execution_count": 72,
     "metadata": {},
     "output_type": "execute_result"
    }
   ],
   "source": [
    "f = np.zeros_like(b,dtype=\"U10\")\n",
    "f"
   ]
  },
  {
   "cell_type": "code",
   "execution_count": 73,
   "id": "775db89e-35b9-4d6c-874d-f582558574dc",
   "metadata": {},
   "outputs": [
    {
     "data": {
      "text/plain": [
       "array([[1.18750201e-311, 3.16202013e-322, 0.00000000e+000],\n",
       "       [0.00000000e+000, 1.06099790e-312, 1.55974036e+161],\n",
       "       [4.74624283e-037, 6.15418096e+170, 9.32667200e+164],\n",
       "       [3.40713395e+175, 3.27802162e+179, 9.76694654e+165]])"
      ]
     },
     "execution_count": 73,
     "metadata": {},
     "output_type": "execute_result"
    }
   ],
   "source": [
    "#배열의 크기가 커지면 배열을 초기화하는데도 시간이 걸립니다. \n",
    "#이 시간을 단축하려면 배열을 생성만 하고 특정한 값으로 초기화를 하지 않는 \n",
    "#empty 명령을 사용할 수 있습니다\n",
    "#empty 명령으로 생성된 배열에는 기존에 메모리에 저장되어 있던 값이 있으므로 \n",
    "#배열의 요소의 값을 미리 알 수 없습니다\n",
    "g = np.empty((4,3)) #모양만 잡는 쓰레기 값 #랜덤한 값\n",
    "g"
   ]
  },
  {
   "cell_type": "code",
   "execution_count": 74,
   "id": "104a4270-b212-416e-b560-57fff3c144a3",
   "metadata": {},
   "outputs": [
    {
     "data": {
      "text/plain": [
       "array([0, 1, 2, 3, 4, 5, 6, 7, 8, 9])"
      ]
     },
     "execution_count": 74,
     "metadata": {},
     "output_type": "execute_result"
    }
   ],
   "source": [
    "#arange 명령은 NumPy 버전의 range 명령이라고 볼 수 있습니다. \n",
    "#특정한 규칙에 따라 증가하는 수열을 만듭니다.\n",
    "\n",
    "np.arange(10) #0...n+1"
   ]
  },
  {
   "cell_type": "code",
   "execution_count": 75,
   "id": "3c58db09-19d2-4edf-a9f9-17c7b2f9fd01",
   "metadata": {},
   "outputs": [
    {
     "data": {
      "text/plain": [
       "array([ 3,  5,  7,  9, 11, 13, 15, 17, 19])"
      ]
     },
     "execution_count": 75,
     "metadata": {},
     "output_type": "execute_result"
    }
   ],
   "source": [
    "np.arange(3,21,2) #시작, 끝(포함하지 않음),단계"
   ]
  },
  {
   "cell_type": "code",
   "execution_count": 76,
   "id": "1a339b22-66c8-4664-b8db-da952e7ee7ea",
   "metadata": {},
   "outputs": [
    {
     "data": {
      "text/plain": [
       "array([  0.,  25.,  50.,  75., 100.])"
      ]
     },
     "execution_count": 76,
     "metadata": {},
     "output_type": "execute_result"
    }
   ],
   "source": [
    "#linspace 명령이나 logspace 명령은 선형 구간 혹은 로그 구간을 지정한 구간의 수만큼 분할합니다\n",
    "ex = np.linspace(0,100,5) #범위만큼 간격을 두고 숫자를 만들어준다\n",
    "ex #끝 범위 포함"
   ]
  },
  {
   "cell_type": "code",
   "execution_count": 77,
   "id": "ced92628-b8db-4dec-bf84-e2e2eca6a2aa",
   "metadata": {},
   "outputs": [
    {
     "data": {
      "text/plain": [
       "array([  0.        ,  11.11111111,  22.22222222,  33.33333333,\n",
       "        44.44444444,  55.55555556,  66.66666667,  77.77777778,\n",
       "        88.88888889, 100.        ])"
      ]
     },
     "execution_count": 77,
     "metadata": {},
     "output_type": "execute_result"
    }
   ],
   "source": [
    "ex1 = np.linspace(0,100,10) #범위만큼 간격을 두고 숫자를 만들어준다\n",
    "ex1"
   ]
  },
  {
   "cell_type": "code",
   "execution_count": 78,
   "id": "07c98b6a-2052-4fe1-8b0b-9225dd75e5b2",
   "metadata": {},
   "outputs": [
    {
     "data": {
      "text/plain": [
       "array([1.e+000, 1.e+025, 1.e+050, 1.e+075, 1.e+100])"
      ]
     },
     "execution_count": 78,
     "metadata": {},
     "output_type": "execute_result"
    }
   ],
   "source": [
    "ex2 = np.logspace(0,100,5) #log범위만큼 간격을 두고 숫자를 만들어준다\n",
    "ex2"
   ]
  },
  {
   "cell_type": "code",
   "execution_count": 79,
   "id": "2e72b3cc-85aa-42d5-8baf-4bc63e882a27",
   "metadata": {},
   "outputs": [
    {
     "data": {
      "text/plain": [
       "array([[1, 2, 3],\n",
       "       [4, 5, 6]])"
      ]
     },
     "execution_count": 79,
     "metadata": {},
     "output_type": "execute_result"
    }
   ],
   "source": [
    "#전치 연산\n",
    "#행과 열을 바꾸는 작업입니다. \n",
    "#이는 배열의 T 속성으로 구할 수 있습니다. 메서드가 아닌 속성이라는 점에 유의합니다\n",
    "A = np.array([[1,2,3],[4,5,6]]) #2*3\n",
    "A"
   ]
  },
  {
   "cell_type": "code",
   "execution_count": 80,
   "id": "20c7b5c7-84db-4f35-a466-8327a7e637c7",
   "metadata": {},
   "outputs": [
    {
     "data": {
      "text/plain": [
       "array([[1, 4],\n",
       "       [2, 5],\n",
       "       [3, 6]])"
      ]
     },
     "execution_count": 80,
     "metadata": {},
     "output_type": "execute_result"
    }
   ],
   "source": [
    "A.T #3*2"
   ]
  },
  {
   "cell_type": "code",
   "execution_count": 81,
   "id": "0d4d0af8-dab4-4dd6-a3f7-7eb7a0e13610",
   "metadata": {},
   "outputs": [
    {
     "data": {
      "text/plain": [
       "array([ 0,  1,  2,  3,  4,  5,  6,  7,  8,  9, 10, 11])"
      ]
     },
     "execution_count": 81,
     "metadata": {},
     "output_type": "execute_result"
    }
   ],
   "source": [
    "#배열의 크기 변형\n",
    "#만들어진 배열의 내부 데이터는 보존한 채로 형태만 바꾸려면 reshape 명령이나 메서드를 사용합니다.\n",
    "#예를 들어 12개의 원소를 가진 1차원 행렬은 3x4 형태의 2차원 행렬로 만들 수 있습니다\n",
    "a = np.arange(12)\n",
    "a"
   ]
  },
  {
   "cell_type": "code",
   "execution_count": 82,
   "id": "09b6b405-2bd0-4766-a77a-aac3f6cc40ef",
   "metadata": {},
   "outputs": [
    {
     "data": {
      "text/plain": [
       "array([[ 0,  1,  2,  3],\n",
       "       [ 4,  5,  6,  7],\n",
       "       [ 8,  9, 10, 11]])"
      ]
     },
     "execution_count": 82,
     "metadata": {},
     "output_type": "execute_result"
    }
   ],
   "source": [
    "b = a.reshape(3,4)\n",
    "b"
   ]
  },
  {
   "cell_type": "code",
   "execution_count": 83,
   "id": "f3965f7c-4ea1-41c9-a176-414b5ce47896",
   "metadata": {},
   "outputs": [
    {
     "data": {
      "text/plain": [
       "array([[ 0,  1,  2,  3],\n",
       "       [ 4,  5,  6,  7],\n",
       "       [ 8,  9, 10, 11]])"
      ]
     },
     "execution_count": 83,
     "metadata": {},
     "output_type": "execute_result"
    }
   ],
   "source": [
    "#배열의 크기 변형\n",
    "#사용하는 원소의 개수가 정해져 있기 때문에 \n",
    "#reshape 명령의 형태 튜플의 원소 중 하나는 -1이라는 숫자로 대체할 수 있습니다. \n",
    "#-1을 넣으면 해당 숫자는 다를 값에서 계산되어 사용됩니다\n",
    "a.reshape(3,-1) #행 3개를 만들고 열은 알아서 계산하라"
   ]
  },
  {
   "cell_type": "code",
   "execution_count": 84,
   "id": "e473890f-4c85-49c4-8e81-0edf1313958d",
   "metadata": {},
   "outputs": [
    {
     "data": {
      "text/plain": [
       "array([[[ 0,  1,  2],\n",
       "        [ 3,  4,  5]],\n",
       "\n",
       "       [[ 6,  7,  8],\n",
       "        [ 9, 10, 11]]])"
      ]
     },
     "execution_count": 84,
     "metadata": {},
     "output_type": "execute_result"
    }
   ],
   "source": [
    "a.reshape(2,2,-1)"
   ]
  },
  {
   "cell_type": "code",
   "execution_count": 85,
   "id": "00081dbf-bbc3-4c8f-aeb9-b76f335c5f77",
   "metadata": {},
   "outputs": [
    {
     "data": {
      "text/plain": [
       "(2, 2, 3)"
      ]
     },
     "execution_count": 85,
     "metadata": {},
     "output_type": "execute_result"
    }
   ],
   "source": [
    "a.reshape(2,2,-1).shape"
   ]
  },
  {
   "cell_type": "code",
   "execution_count": 86,
   "id": "924f31fd-b9ac-43c9-8400-f3d6182baa3e",
   "metadata": {},
   "outputs": [
    {
     "data": {
      "text/plain": [
       "array([[[ 0,  1],\n",
       "        [ 2,  3],\n",
       "        [ 4,  5]],\n",
       "\n",
       "       [[ 6,  7],\n",
       "        [ 8,  9],\n",
       "        [10, 11]]])"
      ]
     },
     "execution_count": 86,
     "metadata": {},
     "output_type": "execute_result"
    }
   ],
   "source": [
    "a.reshape(2,-1,2)"
   ]
  },
  {
   "cell_type": "code",
   "execution_count": 87,
   "id": "c69d9fef-f53c-4cbf-b24c-c4ebcc6eb26b",
   "metadata": {},
   "outputs": [
    {
     "data": {
      "text/plain": [
       "(2, 3, 2)"
      ]
     },
     "execution_count": 87,
     "metadata": {},
     "output_type": "execute_result"
    }
   ],
   "source": [
    "a.reshape(2,-1,2).shape"
   ]
  },
  {
   "cell_type": "code",
   "execution_count": 88,
   "id": "febe2814-c471-4b8a-9e04-4b67a7222a17",
   "metadata": {},
   "outputs": [
    {
     "data": {
      "text/plain": [
       "<function ndarray.flatten>"
      ]
     },
     "execution_count": 88,
     "metadata": {},
     "output_type": "execute_result"
    }
   ],
   "source": [
    "#배열의 크기 변형\n",
    "#다차원 배열을 1차원으로 만들기 위해서는 flatten 혹은 ravel 메서드를 사용\n",
    "a.flatten"
   ]
  },
  {
   "cell_type": "code",
   "execution_count": 89,
   "id": "b8ccb902-5f33-44e8-9094-f948eb3f163b",
   "metadata": {},
   "outputs": [
    {
     "data": {
      "text/plain": [
       "array([ 0,  1,  2,  3,  4,  5,  6,  7,  8,  9, 10, 11])"
      ]
     },
     "execution_count": 89,
     "metadata": {},
     "output_type": "execute_result"
    }
   ],
   "source": [
    "a.flatten()"
   ]
  },
  {
   "cell_type": "code",
   "execution_count": 90,
   "id": "58aee0d9-06bc-40ee-8707-5f4a2465b4c8",
   "metadata": {},
   "outputs": [
    {
     "data": {
      "text/plain": [
       "array([ 0,  1,  2,  3,  4,  5,  6,  7,  8,  9, 10, 11])"
      ]
     },
     "execution_count": 90,
     "metadata": {},
     "output_type": "execute_result"
    }
   ],
   "source": [
    "a.ravel()"
   ]
  },
  {
   "cell_type": "code",
   "execution_count": 91,
   "id": "a03a5b0d-3bcb-42f4-9c75-76a9038e9803",
   "metadata": {},
   "outputs": [],
   "source": [
    "#배열 사용에서 주의할 점은 \n",
    "#길이가 5인 1차원 배열과 행, \n",
    "#열의 개수가 (5, 1)인 2차원 배열 또는\n",
    "#행, 열의 개수가 (1, 5)인 2차원 배열은 \n",
    "#데이터가 같아도 엄연히 다른 객체라는 점입니다"
   ]
  },
  {
   "cell_type": "code",
   "execution_count": 92,
   "id": "d9f2a68c-fc8c-45aa-ae26-24a05bfb54d4",
   "metadata": {},
   "outputs": [
    {
     "data": {
      "text/plain": [
       "2403567776464"
      ]
     },
     "execution_count": 92,
     "metadata": {},
     "output_type": "execute_result"
    }
   ],
   "source": [
    "x = np.arange(5)\n",
    "x\n",
    "id(x)"
   ]
  },
  {
   "cell_type": "code",
   "execution_count": 93,
   "id": "1498f567-a121-49ca-a7be-fdff8acab383",
   "metadata": {},
   "outputs": [
    {
     "data": {
      "text/plain": [
       "2403567776464"
      ]
     },
     "execution_count": 93,
     "metadata": {},
     "output_type": "execute_result"
    }
   ],
   "source": [
    "x.reshape(1,5)\n",
    "id(x)"
   ]
  },
  {
   "cell_type": "code",
   "execution_count": 94,
   "id": "f66b5571-96ef-41e4-b26e-6b1ded51d664",
   "metadata": {},
   "outputs": [
    {
     "data": {
      "text/plain": [
       "2403567776464"
      ]
     },
     "execution_count": 94,
     "metadata": {},
     "output_type": "execute_result"
    }
   ],
   "source": [
    "x.reshape(5,1)\n",
    "id(x)"
   ]
  },
  {
   "cell_type": "code",
   "execution_count": 95,
   "id": "4deba525-1176-4173-8434-5d6153ae6d4f",
   "metadata": {},
   "outputs": [
    {
     "data": {
      "text/plain": [
       "array([[0],\n",
       "       [1],\n",
       "       [2],\n",
       "       [3],\n",
       "       [4]])"
      ]
     },
     "execution_count": 95,
     "metadata": {},
     "output_type": "execute_result"
    }
   ],
   "source": [
    "#같은 배열에 대해 차원만 1차원 증가시키는 경우에는 newaxis 명령을 사용하기도 합니다\n",
    "x[:,np.newaxis]"
   ]
  },
  {
   "cell_type": "code",
   "execution_count": 96,
   "id": "bdbb7df2-5951-4a70-8db0-c741eb4e26b5",
   "metadata": {},
   "outputs": [],
   "source": [
    "#배열 연결"
   ]
  },
  {
   "cell_type": "code",
   "execution_count": 97,
   "id": "223c1e4b-22a6-4ba4-82e2-4eaeb358cb1d",
   "metadata": {},
   "outputs": [],
   "source": [
    "#행의 수나 열의 수가 같은 두 개 이상의 배열을 연결하여(concatenate) 더 큰 배열을 만들 때\n",
    "# hstack\n",
    "# vstack\n",
    "# dstack\n",
    "# stack\n",
    "# r_\n",
    "# c_\n",
    "# tile"
   ]
  },
  {
   "cell_type": "code",
   "execution_count": 98,
   "id": "165768d5-eb60-4d26-91ba-f05dae41e595",
   "metadata": {},
   "outputs": [
    {
     "data": {
      "text/plain": [
       "array([[1., 1., 1.],\n",
       "       [1., 1., 1.]])"
      ]
     },
     "execution_count": 98,
     "metadata": {},
     "output_type": "execute_result"
    }
   ],
   "source": [
    "#hstock\n",
    "#hstack 명령은 행의 수가 같은 두 개 이상의 배열을 옆으로 연결하여 열의 수가 더 많은 배열을 만듭니다. \n",
    "#연결할 배열은 하나의 리스트에 담아야 합니다\n",
    "a1 = np.ones((2,3))\n",
    "a1"
   ]
  },
  {
   "cell_type": "code",
   "execution_count": 99,
   "id": "f92dad92-1cf7-48b4-bb93-9ce2122116c2",
   "metadata": {},
   "outputs": [
    {
     "data": {
      "text/plain": [
       "array([[0., 0.],\n",
       "       [0., 0.]])"
      ]
     },
     "execution_count": 99,
     "metadata": {},
     "output_type": "execute_result"
    }
   ],
   "source": [
    "a2 = np.zeros((2,2))\n",
    "a2"
   ]
  },
  {
   "cell_type": "code",
   "execution_count": 100,
   "id": "61dbae84-9dd8-49c3-a8f4-cb9c082582e7",
   "metadata": {},
   "outputs": [
    {
     "data": {
      "text/plain": [
       "array([[1., 1., 1., 0., 0.],\n",
       "       [1., 1., 1., 0., 0.]])"
      ]
     },
     "execution_count": 100,
     "metadata": {},
     "output_type": "execute_result"
    }
   ],
   "source": [
    "np.hstack([a1,a2])"
   ]
  },
  {
   "cell_type": "code",
   "execution_count": 101,
   "id": "42dd0878-9bf9-443f-95c3-1b28601ad24d",
   "metadata": {},
   "outputs": [
    {
     "data": {
      "text/plain": [
       "array([[1., 1., 1.],\n",
       "       [1., 1., 1.]])"
      ]
     },
     "execution_count": 101,
     "metadata": {},
     "output_type": "execute_result"
    }
   ],
   "source": [
    "#vstack 명령은 열의 수가 같은 두 개 이상의 배열을 위아래로 연결하여 행의 수가 더 많은 배열을 만듭니다. \n",
    "#연결할 배열은 마찬가지로 하나의 리스트에 담아야 합니다\n",
    "b1 = np.ones((2,3))\n",
    "b1"
   ]
  },
  {
   "cell_type": "code",
   "execution_count": 102,
   "id": "a775d463-8d00-430b-8d9d-c9c9cd3ea3a8",
   "metadata": {},
   "outputs": [
    {
     "data": {
      "text/plain": [
       "array([[0., 0., 0.],\n",
       "       [0., 0., 0.],\n",
       "       [0., 0., 0.]])"
      ]
     },
     "execution_count": 102,
     "metadata": {},
     "output_type": "execute_result"
    }
   ],
   "source": [
    "b2 = np.zeros((3,3))\n",
    "b2"
   ]
  },
  {
   "cell_type": "code",
   "execution_count": 103,
   "id": "bd65d7b6-5f29-4109-98ee-c9afef991a78",
   "metadata": {},
   "outputs": [
    {
     "data": {
      "text/plain": [
       "array([[1., 1., 1.],\n",
       "       [1., 1., 1.],\n",
       "       [0., 0., 0.],\n",
       "       [0., 0., 0.],\n",
       "       [0., 0., 0.]])"
      ]
     },
     "execution_count": 103,
     "metadata": {},
     "output_type": "execute_result"
    }
   ],
   "source": [
    "np.vstack([b1,b2])"
   ]
  },
  {
   "cell_type": "code",
   "execution_count": 104,
   "id": "92201b7d-517d-4523-8104-7a4d27b643ac",
   "metadata": {},
   "outputs": [],
   "source": [
    "#dstack 명령은 제3의 축 즉, 행이나 열이 아닌 깊이(depth) 방향으로 배열을 합칩니다. \n",
    "#가장 안쪽의 원소의 차원이 증가합니다. \n",
    "#즉 가장 내부의 숫자 원소가 배열이 됩니다. \n",
    "#shape 정보로 보자면 가장 끝에 값이 2인 차원이 추가되는 것입니다.\n",
    "#이 예제의 경우에는 shape 변화가 2개의 (3 x 4) -> 1개의 (3 x 4 x 2)가 됩니다"
   ]
  },
  {
   "cell_type": "code",
   "execution_count": 105,
   "id": "b97f5c6a-00d2-4ee7-a740-3aca7f25a100",
   "metadata": {},
   "outputs": [
    {
     "data": {
      "text/plain": [
       "array([[1., 1., 1., 1.],\n",
       "       [1., 1., 1., 1.],\n",
       "       [1., 1., 1., 1.]])"
      ]
     },
     "execution_count": 105,
     "metadata": {},
     "output_type": "execute_result"
    }
   ],
   "source": [
    "c1 = np.ones((3,4))\n",
    "c1"
   ]
  },
  {
   "cell_type": "code",
   "execution_count": 106,
   "id": "324679d6-fb75-4754-9ad4-5e11c8f18982",
   "metadata": {},
   "outputs": [
    {
     "data": {
      "text/plain": [
       "array([[0., 0., 0., 0.],\n",
       "       [0., 0., 0., 0.],\n",
       "       [0., 0., 0., 0.]])"
      ]
     },
     "execution_count": 106,
     "metadata": {},
     "output_type": "execute_result"
    }
   ],
   "source": [
    "c2 = np.zeros((3,4))\n",
    "c2"
   ]
  },
  {
   "cell_type": "code",
   "execution_count": 107,
   "id": "8b545949-d8f5-4d92-993f-d1690e485f34",
   "metadata": {},
   "outputs": [
    {
     "data": {
      "text/plain": [
       "array([[[1., 0.],\n",
       "        [1., 0.],\n",
       "        [1., 0.],\n",
       "        [1., 0.]],\n",
       "\n",
       "       [[1., 0.],\n",
       "        [1., 0.],\n",
       "        [1., 0.],\n",
       "        [1., 0.]],\n",
       "\n",
       "       [[1., 0.],\n",
       "        [1., 0.],\n",
       "        [1., 0.],\n",
       "        [1., 0.]]])"
      ]
     },
     "execution_count": 107,
     "metadata": {},
     "output_type": "execute_result"
    }
   ],
   "source": [
    "np.dstack([c1,c2])"
   ]
  },
  {
   "cell_type": "code",
   "execution_count": 108,
   "id": "e42aa230-5e16-4aac-88e9-13b95de2e42c",
   "metadata": {},
   "outputs": [
    {
     "data": {
      "text/plain": [
       "(3, 4, 2)"
      ]
     },
     "execution_count": 108,
     "metadata": {},
     "output_type": "execute_result"
    }
   ],
   "source": [
    "np.dstack([c1,c2]).shape"
   ]
  },
  {
   "cell_type": "code",
   "execution_count": 109,
   "id": "2413ba31-4d7e-4093-82d5-811aca27dbfa",
   "metadata": {},
   "outputs": [],
   "source": [
    "#stack 명령은 dstack의 기능을 확장한 것으로 \n",
    "#dstack처럼 마지막 차원으로 연결하는 것이 아니라 \n",
    "#사용자가 지정한 차원(축으로) 배열을 연결합니다. \n",
    "#axis 인수(디폴트 0)를 사용하여 연결후의 회전 방향을 정합니다. \n",
    "#디폴트 인수값은 0이고 가장 앞쪽에 차원이 생성됩니다. \n",
    "#즉, 배열 두 개가 겹치게 되므로 연결하고자 하는 배열들의 크기가 모두 같아야 합니"
   ]
  },
  {
   "cell_type": "code",
   "execution_count": 110,
   "id": "ff3ad300-1ca9-4056-aee4-76b604ea148a",
   "metadata": {},
   "outputs": [
    {
     "data": {
      "text/plain": [
       "array([[[1., 1., 1., 1.],\n",
       "        [1., 1., 1., 1.],\n",
       "        [1., 1., 1., 1.]],\n",
       "\n",
       "       [[0., 0., 0., 0.],\n",
       "        [0., 0., 0., 0.],\n",
       "        [0., 0., 0., 0.]]])"
      ]
     },
     "execution_count": 110,
     "metadata": {},
     "output_type": "execute_result"
    }
   ],
   "source": [
    "#다음 예에서는 axis=0 이므로 가장 바깥에 값이 2인 차원이 추가됩니다. 즉, shape 변화는 \n",
    "#2개의 (3 x 4) -> 1개의 (2 x 3 x 4) 입니다\n",
    "c = np.stack([c1,c2])\n",
    "c"
   ]
  },
  {
   "cell_type": "code",
   "execution_count": 111,
   "id": "b5ed01e6-fb0c-42c6-ae65-17ea329d5b69",
   "metadata": {},
   "outputs": [
    {
     "data": {
      "text/plain": [
       "array([[[1., 1., 1., 1.],\n",
       "        [1., 1., 1., 1.],\n",
       "        [1., 1., 1., 1.]],\n",
       "\n",
       "       [[0., 0., 0., 0.],\n",
       "        [0., 0., 0., 0.],\n",
       "        [0., 0., 0., 0.]]])"
      ]
     },
     "execution_count": 111,
     "metadata": {},
     "output_type": "execute_result"
    }
   ],
   "source": [
    "c = np.stack([c1,c2],axis = 0) #합을 차원끼리 하겠다..?깊이,,,\n",
    "c #두개를 합치므로 맨 앞이 2"
   ]
  },
  {
   "cell_type": "code",
   "execution_count": 112,
   "id": "1d9c0916-8660-4d80-b9f2-2e855cf0c359",
   "metadata": {},
   "outputs": [
    {
     "data": {
      "text/plain": [
       "(2, 3, 4)"
      ]
     },
     "execution_count": 112,
     "metadata": {},
     "output_type": "execute_result"
    }
   ],
   "source": [
    "c.shape"
   ]
  },
  {
   "cell_type": "code",
   "execution_count": 113,
   "id": "ee219059-b9c8-4b71-ba95-133deac16da7",
   "metadata": {},
   "outputs": [
    {
     "data": {
      "text/plain": [
       "array([[[1., 1., 1., 1.],\n",
       "        [0., 0., 0., 0.]],\n",
       "\n",
       "       [[1., 1., 1., 1.],\n",
       "        [0., 0., 0., 0.]],\n",
       "\n",
       "       [[1., 1., 1., 1.],\n",
       "        [0., 0., 0., 0.]]])"
      ]
     },
     "execution_count": 113,
     "metadata": {},
     "output_type": "execute_result"
    }
   ],
   "source": [
    "c = np.stack([c1,c2],axis = 1) #합을 행끼리 하겠다\n",
    "c #두개를 합치므로 중간이 2"
   ]
  },
  {
   "cell_type": "code",
   "execution_count": 114,
   "id": "aef41572-349b-4c86-9ad7-0ff1fb7fd078",
   "metadata": {},
   "outputs": [
    {
     "data": {
      "text/plain": [
       "(3, 2, 4)"
      ]
     },
     "execution_count": 114,
     "metadata": {},
     "output_type": "execute_result"
    }
   ],
   "source": [
    "c.shape"
   ]
  },
  {
   "cell_type": "code",
   "execution_count": 115,
   "id": "d868a3c3-2dc0-415c-afe2-43182359975f",
   "metadata": {},
   "outputs": [
    {
     "data": {
      "text/plain": [
       "array([[[1., 0.],\n",
       "        [1., 0.],\n",
       "        [1., 0.],\n",
       "        [1., 0.]],\n",
       "\n",
       "       [[1., 0.],\n",
       "        [1., 0.],\n",
       "        [1., 0.],\n",
       "        [1., 0.]],\n",
       "\n",
       "       [[1., 0.],\n",
       "        [1., 0.],\n",
       "        [1., 0.],\n",
       "        [1., 0.]]])"
      ]
     },
     "execution_count": 115,
     "metadata": {},
     "output_type": "execute_result"
    }
   ],
   "source": [
    "c = np.stack([c1,c2],axis = 2) #합을 열끼리 하겠다\n",
    "c #두개를 합치므로 마지막이 2"
   ]
  },
  {
   "cell_type": "code",
   "execution_count": 116,
   "id": "bd008969-1713-4994-99cf-8363f4fa2d7d",
   "metadata": {},
   "outputs": [
    {
     "data": {
      "text/plain": [
       "(3, 4, 2)"
      ]
     },
     "execution_count": 116,
     "metadata": {},
     "output_type": "execute_result"
    }
   ],
   "source": [
    "c.shape #맨 앞은 층수"
   ]
  },
  {
   "cell_type": "code",
   "execution_count": 117,
   "id": "de5c28f9-739c-4321-8d0b-311eaccc3ca9",
   "metadata": {},
   "outputs": [
    {
     "data": {
      "text/plain": [
       "array([1, 2, 3, 4, 5, 6])"
      ]
     },
     "execution_count": 117,
     "metadata": {},
     "output_type": "execute_result"
    }
   ],
   "source": [
    "#r_메서드\n",
    "#hstack 명령과 비슷하게 배열을 좌우로 연결합니다. \n",
    "#다만 메서드임에도 불구하고 소괄호(parenthesis, ())를 사용하지 않고 \n",
    "#인덱싱과 같이 대괄호(bracket, [])를 사용합니다. \n",
    "#이런 특수 메서드를 인덱서(indexer)라고 합니다\n",
    "np.r_[np.array([1,2,3]),np.array([4,5,6])]\n",
    "#표현방식에 hsteak과 차이가 없다"
   ]
  },
  {
   "cell_type": "code",
   "execution_count": 118,
   "id": "563b55b6-7846-484a-9260-6a8e39876e0e",
   "metadata": {},
   "outputs": [
    {
     "data": {
      "text/plain": [
       "array([[1, 4],\n",
       "       [2, 5],\n",
       "       [3, 6]])"
      ]
     },
     "execution_count": 118,
     "metadata": {},
     "output_type": "execute_result"
    }
   ],
   "source": [
    "#c_메서드\n",
    "#배열의 차원을 증가시킨 후 좌우로 연결합니다. \n",
    "#만약 1차원 배열을 연결하면 2차원 배열이 됩니다\n",
    "#컬럼 단위로 합침\n",
    "np.c_[np.array([1,2,3]),np.array([4,5,6])]"
   ]
  },
  {
   "cell_type": "code",
   "execution_count": 119,
   "id": "75453391-249f-4565-b76a-7d6b3b8f1d5e",
   "metadata": {},
   "outputs": [
    {
     "data": {
      "text/plain": [
       "array([[0, 1, 2, 0, 1, 2],\n",
       "       [3, 4, 5, 3, 4, 5]])"
      ]
     },
     "execution_count": 119,
     "metadata": {},
     "output_type": "execute_result"
    }
   ],
   "source": [
    "#tile 명령\n",
    "#동일한 배열을 반복하여 연결합니다\n",
    "a = np.array([[0,1,2],[3,4,5]])\n",
    "np.tile(a,2)"
   ]
  },
  {
   "cell_type": "code",
   "execution_count": 120,
   "id": "9143787e-1f78-4a78-9dea-e2b6df731403",
   "metadata": {},
   "outputs": [
    {
     "data": {
      "text/plain": [
       "array([[0, 1, 2, 0, 1, 2],\n",
       "       [3, 4, 5, 3, 4, 5],\n",
       "       [0, 1, 2, 0, 1, 2],\n",
       "       [3, 4, 5, 3, 4, 5],\n",
       "       [0, 1, 2, 0, 1, 2],\n",
       "       [3, 4, 5, 3, 4, 5]])"
      ]
     },
     "execution_count": 120,
     "metadata": {},
     "output_type": "execute_result"
    }
   ],
   "source": [
    "np.tile(a,(3,2))"
   ]
  },
  {
   "cell_type": "code",
   "execution_count": null,
   "id": "956d1660-9c16-4c30-9c2c-5ec81497a8d6",
   "metadata": {},
   "outputs": [],
   "source": []
  }
 ],
 "metadata": {
  "kernelspec": {
   "display_name": "Python 3 (ipykernel)",
   "language": "python",
   "name": "python3"
  },
  "language_info": {
   "codemirror_mode": {
    "name": "ipython",
    "version": 3
   },
   "file_extension": ".py",
   "mimetype": "text/x-python",
   "name": "python",
   "nbconvert_exporter": "python",
   "pygments_lexer": "ipython3",
   "version": "3.9.13"
  }
 },
 "nbformat": 4,
 "nbformat_minor": 5
}
