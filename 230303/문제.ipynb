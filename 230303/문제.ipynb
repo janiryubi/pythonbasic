{
 "cells": [
  {
   "cell_type": "code",
   "execution_count": 1,
   "id": "30ef6dd0-49d0-4d6c-a92d-5885e6495c5e",
   "metadata": {},
   "outputs": [],
   "source": [
    "import numpy as np"
   ]
  },
  {
   "cell_type": "code",
   "execution_count": 2,
   "id": "646e1b29-6698-445a-be17-55141d7e112c",
   "metadata": {},
   "outputs": [
    {
     "data": {
      "text/plain": [
       "3.42"
      ]
     },
     "execution_count": 2,
     "metadata": {},
     "output_type": "execute_result"
    }
   ],
   "source": [
    "np.random.seed(0)\n",
    "a = np.random.randint(1,7,100)\n",
    "np.mean(a)"
   ]
  },
  {
   "cell_type": "code",
   "execution_count": 3,
   "id": "6b11c6e7-dcc6-42ef-a61f-a92224844d64",
   "metadata": {},
   "outputs": [
    {
     "data": {
      "text/plain": [
       "array([[ 8, 10, 12],\n",
       "       [14, 16, 18]])"
      ]
     },
     "execution_count": 3,
     "metadata": {},
     "output_type": "execute_result"
    }
   ],
   "source": [
    "#array([[1, 2, 3], [4, 5, 6]]) 과 array([[7, 8, 9], [10, 11, 12]]를 만들고 이 두 넘파이 배열을 활용하여 아래의 계산 결과를 구해보세요\n",
    "x = np.array([[1,2,3],[4,5,6]])\n",
    "y = np.array([[7,8,9],[10,11,12]])\n",
    "x+y"
   ]
  },
  {
   "cell_type": "code",
   "execution_count": 4,
   "id": "e980c5b3-e79e-4f44-a6e0-70ffc75cb007",
   "metadata": {},
   "outputs": [
    {
     "data": {
      "text/plain": [
       "[3, 6, 9, 12, 15, 18, 21, 24, 27]"
      ]
     },
     "execution_count": 4,
     "metadata": {},
     "output_type": "execute_result"
    }
   ],
   "source": [
    "d = np.array([_ for _ in range(1,10)])\n",
    "aws = [3 * i for i in d]\n",
    "aws"
   ]
  },
  {
   "cell_type": "code",
   "execution_count": 5,
   "id": "eef0f14e-f113-4f1b-bbe0-8ae03ee1b978",
   "metadata": {},
   "outputs": [
    {
     "data": {
      "text/plain": [
       "array([ 3,  6,  9, 12, 15, 18, 21, 24, 27])"
      ]
     },
     "execution_count": 5,
     "metadata": {},
     "output_type": "execute_result"
    }
   ],
   "source": [
    "d = np.array([_ for _ in range(1,10)])\n",
    "3 * d"
   ]
  },
  {
   "cell_type": "code",
   "execution_count": 6,
   "id": "9406472d-0158-4659-8ee6-ca3b2a65c62a",
   "metadata": {},
   "outputs": [
    {
     "data": {
      "text/plain": [
       "array([0., 0., 0., 0., 1., 0., 0., 0., 0., 0.])"
      ]
     },
     "execution_count": 6,
     "metadata": {},
     "output_type": "execute_result"
    }
   ],
   "source": [
    "a = np.zeros(10)\n",
    "a[4] = 1\n",
    "a"
   ]
  },
  {
   "cell_type": "code",
   "execution_count": 7,
   "id": "bdec2ea9-1548-4f0f-8e76-fe3458e5860d",
   "metadata": {},
   "outputs": [
    {
     "data": {
      "text/plain": [
       "array([ 0,  1,  2,  3,  4,  5,  6,  7,  8,  9, 10, 11, 12, 13, 14, 15, 16,\n",
       "       17, 18, 19, 20, 21, 22, 23, 24, 25, 26, 27, 28, 29, 30, 31, 32, 33,\n",
       "       34, 35, 36, 37, 38, 39, 40, 41, 42, 43, 44, 45, 46, 47, 48, 49])"
      ]
     },
     "execution_count": 7,
     "metadata": {},
     "output_type": "execute_result"
    }
   ],
   "source": [
    "np.arange(50)"
   ]
  },
  {
   "cell_type": "code",
   "execution_count": 8,
   "id": "29508519-88c2-49c2-8be8-0b4890befa7c",
   "metadata": {},
   "outputs": [
    {
     "data": {
      "text/plain": [
       "array([49, 48, 47, 46, 45, 44, 43, 42, 41, 40, 39, 38, 37, 36, 35, 34, 33,\n",
       "       32, 31, 30, 29, 28, 27, 26, 25, 24, 23, 22, 21, 20, 19, 18, 17, 16,\n",
       "       15, 14, 13, 12, 11, 10,  9,  8,  7,  6,  5,  4,  3,  2,  1,  0])"
      ]
     },
     "execution_count": 8,
     "metadata": {},
     "output_type": "execute_result"
    }
   ],
   "source": [
    "b = np.arange(50)\n",
    "b[::-1]"
   ]
  },
  {
   "cell_type": "code",
   "execution_count": 9,
   "id": "10225079-2885-43cc-ad3a-441ae73a2e60",
   "metadata": {},
   "outputs": [
    {
     "data": {
      "text/plain": [
       "array([[['', '', ''],\n",
       "        ['', '', ''],\n",
       "        ['', '', '']],\n",
       "\n",
       "       [['', '', ''],\n",
       "        ['', '', ''],\n",
       "        ['', '', '']],\n",
       "\n",
       "       [['', '', ''],\n",
       "        ['', '', ''],\n",
       "        ['', '', '']]], dtype='<U10')"
      ]
     },
     "execution_count": 9,
     "metadata": {},
     "output_type": "execute_result"
    }
   ],
   "source": [
    "#빈 문자열을 갖는 shape이 (3, 3, 3) ndarray를 만들어봅시다. 단 dtype은 ‘<U10’으로 합니다\n",
    "c = np.arange(9)\n",
    "np.zeros((3,3,3),dtype=\"<U10\")"
   ]
  },
  {
   "cell_type": "markdown",
   "id": "f8f98ce1-9871-49db-8952-6121e6dff88b",
   "metadata": {},
   "source": [
    "# np.full()"
   ]
  },
  {
   "cell_type": "code",
   "execution_count": 10,
   "id": "d134f146-8af6-41f0-8cd7-14677212c9ae",
   "metadata": {},
   "outputs": [],
   "source": [
    "#하나의 특정 값으로 배열의 값을 채우고 싶을 때\n",
    "#첫번째 인자는 shape을 두번째 인자에는 요소로 채울 값을 전달하면 됩니다. \n",
    "#타입 명기를 원하면 dtype 키워드 인수를 작성하면 됩니다"
   ]
  },
  {
   "cell_type": "code",
   "execution_count": 11,
   "id": "7ad402e2-3c63-4627-aa02-049c55fdf1ba",
   "metadata": {},
   "outputs": [
    {
     "data": {
      "text/plain": [
       "array([[['playdata', 'playdata', 'playdata'],\n",
       "        ['playdata', 'playdata', 'playdata'],\n",
       "        ['playdata', 'playdata', 'playdata']],\n",
       "\n",
       "       [['playdata', 'playdata', 'playdata'],\n",
       "        ['playdata', 'playdata', 'playdata'],\n",
       "        ['playdata', 'playdata', 'playdata']],\n",
       "\n",
       "       [['playdata', 'playdata', 'playdata'],\n",
       "        ['playdata', 'playdata', 'playdata'],\n",
       "        ['playdata', 'playdata', 'playdata']]], dtype='<U8')"
      ]
     },
     "execution_count": 11,
     "metadata": {},
     "output_type": "execute_result"
    }
   ],
   "source": [
    "a = np.zeros((3,3,3), dtype = 'U8')\n",
    "a[:] = 'playdata'\n",
    "a"
   ]
  },
  {
   "cell_type": "code",
   "execution_count": 12,
   "id": "35ee6c46-1219-4345-9fd2-8804b080cf9f",
   "metadata": {},
   "outputs": [
    {
     "data": {
      "text/plain": [
       "array([[['playdata', 'playdata', 'playdata'],\n",
       "        ['playdata', 'playdata', 'playdata'],\n",
       "        ['playdata', 'playdata', 'playdata']],\n",
       "\n",
       "       [['playdata', 'playdata', 'playdata'],\n",
       "        ['playdata', 'playdata', 'playdata'],\n",
       "        ['playdata', 'playdata', 'playdata']],\n",
       "\n",
       "       [['playdata', 'playdata', 'playdata'],\n",
       "        ['playdata', 'playdata', 'playdata'],\n",
       "        ['playdata', 'playdata', 'playdata']]], dtype='<U8')"
      ]
     },
     "execution_count": 12,
     "metadata": {},
     "output_type": "execute_result"
    }
   ],
   "source": [
    "a7 = np.full((3, 3, 3), 'playdata')\n",
    "a7"
   ]
  },
  {
   "cell_type": "code",
   "execution_count": 13,
   "id": "44f71048-e4e9-41ea-92f1-6b995dbe31ae",
   "metadata": {},
   "outputs": [
    {
     "data": {
      "text/plain": [
       "array([[[ 2,  4,  6,  8, 10],\n",
       "        [12, 14, 16, 18, 20]],\n",
       "\n",
       "       [[22, 24, 26, 28, 30],\n",
       "        [32, 34, 36, 38, 40]]])"
      ]
     },
     "execution_count": 13,
     "metadata": {},
     "output_type": "execute_result"
    }
   ],
   "source": [
    "a = np.arange(2,41,2).reshape(2,2,5)\n",
    "a\n"
   ]
  },
  {
   "cell_type": "markdown",
   "id": "b2104c46-77ef-4025-bbab-15f29297f6cb",
   "metadata": {},
   "source": [
    "## 단위행렬만들기"
   ]
  },
  {
   "cell_type": "code",
   "execution_count": 14,
   "id": "c38de031-3d90-46f9-9698-880dfa9f8866",
   "metadata": {},
   "outputs": [],
   "source": [
    "#단위행렬만들기\n",
    "#대각선 1값 나머지 0 /정사각형\n",
    "# np.eye(n)"
   ]
  },
  {
   "cell_type": "code",
   "execution_count": 15,
   "id": "4b903641-53c3-41ff-9135-16df7b96ff01",
   "metadata": {},
   "outputs": [
    {
     "data": {
      "text/plain": [
       "array([[1, 0, 0, 0],\n",
       "       [0, 1, 0, 0],\n",
       "       [0, 0, 1, 0],\n",
       "       [0, 0, 0, 1]], dtype=int32)"
      ]
     },
     "execution_count": 15,
     "metadata": {},
     "output_type": "execute_result"
    }
   ],
   "source": [
    "np.eye(4, dtype='i')"
   ]
  },
  {
   "cell_type": "markdown",
   "id": "dcc138c2-8655-4179-a2c0-90ae1b106138",
   "metadata": {},
   "source": [
    "## astype()메서드 : 타입 변경 dtype은 값을 필수로 입력"
   ]
  },
  {
   "cell_type": "code",
   "execution_count": 16,
   "id": "61ba4cbb-ef35-4d9e-bf8a-d2b0766210f3",
   "metadata": {},
   "outputs": [
    {
     "data": {
      "text/plain": [
       "array([[False,  True,  True],\n",
       "       [False,  True,  True],\n",
       "       [ True,  True,  True]])"
      ]
     },
     "execution_count": 16,
     "metadata": {},
     "output_type": "execute_result"
    }
   ],
   "source": [
    "np.random.seed(0) # 내꺼임\n",
    "a = np.random.randint(0,2,9)\n",
    "a.astype('?').reshape(3,3)"
   ]
  },
  {
   "cell_type": "code",
   "execution_count": 17,
   "id": "3356d376-388c-49ef-8446-66667513bc8d",
   "metadata": {},
   "outputs": [
    {
     "data": {
      "text/plain": [
       "array([[False,  True,  True],\n",
       "       [False,  True,  True],\n",
       "       [ True,  True,  True]])"
      ]
     },
     "execution_count": 17,
     "metadata": {},
     "output_type": "execute_result"
    }
   ],
   "source": [
    "np.random.seed(0)    # 진명님 풀이\n",
    "a9 = np.random.randint(0, 2, 9).astype('?').reshape(3, 3)\n",
    "a9"
   ]
  },
  {
   "cell_type": "code",
   "execution_count": 18,
   "id": "6912737d-6e90-4a28-ae7d-f98480807413",
   "metadata": {},
   "outputs": [
    {
     "data": {
      "text/plain": [
       "array([5, 7, 6, 5, 4, 6, 4, 8, 9, 3], dtype=int32)"
      ]
     },
     "execution_count": 18,
     "metadata": {},
     "output_type": "execute_result"
    }
   ],
   "source": [
    "np.random.seed(0)\n",
    "x = (np.random.rand(10)*10).astype('i')\n",
    "x"
   ]
  },
  {
   "cell_type": "code",
   "execution_count": 19,
   "id": "8ba98b8e-d8d1-4838-b319-e7076b2536ef",
   "metadata": {},
   "outputs": [
    {
     "data": {
      "text/plain": [
       "array([5, 7, 6, 5, 4, 6, 4, 8, 9, 3], dtype=int32)"
      ]
     },
     "execution_count": 19,
     "metadata": {},
     "output_type": "execute_result"
    }
   ],
   "source": [
    "np.random.seed(0)\n",
    "a10 = (np.random.rand(10)*10).astype('i')\n",
    "a10"
   ]
  },
  {
   "cell_type": "code",
   "execution_count": 20,
   "id": "e36dc99e-3edc-40fb-8eeb-87d32f29af4c",
   "metadata": {},
   "outputs": [
    {
     "data": {
      "text/plain": [
       "array([[1., 1., 1., 1., 1., 1., 1., 1., 1., 1.],\n",
       "       [1., 0., 0., 0., 0., 0., 0., 0., 0., 1.],\n",
       "       [1., 0., 0., 0., 0., 0., 0., 0., 0., 1.],\n",
       "       [1., 0., 0., 0., 0., 0., 0., 0., 0., 1.],\n",
       "       [1., 0., 0., 0., 0., 0., 0., 0., 0., 1.],\n",
       "       [1., 0., 0., 0., 0., 0., 0., 0., 0., 1.],\n",
       "       [1., 0., 0., 0., 0., 0., 0., 0., 0., 1.],\n",
       "       [1., 0., 0., 0., 0., 0., 0., 0., 0., 1.],\n",
       "       [1., 0., 0., 0., 0., 0., 0., 0., 0., 1.],\n",
       "       [1., 1., 1., 1., 1., 1., 1., 1., 1., 1.]])"
      ]
     },
     "execution_count": 20,
     "metadata": {},
     "output_type": "execute_result"
    }
   ],
   "source": [
    "x = np.ones((10,10))\n",
    "x[1:9, 1:9] = 0\n",
    "x"
   ]
  },
  {
   "cell_type": "code",
   "execution_count": 21,
   "id": "d307d9e3-879b-4742-8396-4d66f23880a4",
   "metadata": {},
   "outputs": [
    {
     "data": {
      "text/plain": [
       "array([[0., 0., 0., 0., 0., 0., 0., 0., 0., 0.],\n",
       "       [0., 1., 1., 1., 1., 1., 1., 1., 1., 0.],\n",
       "       [0., 1., 1., 1., 1., 1., 1., 1., 1., 0.],\n",
       "       [0., 1., 1., 1., 1., 1., 1., 1., 1., 0.],\n",
       "       [0., 1., 1., 1., 1., 1., 1., 1., 1., 0.],\n",
       "       [0., 1., 1., 1., 1., 1., 1., 1., 1., 0.],\n",
       "       [0., 1., 1., 1., 1., 1., 1., 1., 1., 0.],\n",
       "       [0., 1., 1., 1., 1., 1., 1., 1., 1., 0.],\n",
       "       [0., 1., 1., 1., 1., 1., 1., 1., 1., 0.],\n",
       "       [0., 0., 0., 0., 0., 0., 0., 0., 0., 0.]])"
      ]
     },
     "execution_count": 21,
     "metadata": {},
     "output_type": "execute_result"
    }
   ],
   "source": [
    "x = np.ones((10,10))\n",
    "x[0:10,0:10:9] = 0\n",
    "x[0:10:9,0:10] = 0\n",
    "x"
   ]
  },
  {
   "cell_type": "code",
   "execution_count": 22,
   "id": "226065e6-ea2a-412f-a6d2-3927ee0a4c56",
   "metadata": {},
   "outputs": [
    {
     "data": {
      "text/plain": [
       "array([[1., 0., 1., 0., 1., 0., 1., 0.],\n",
       "       [0., 1., 0., 1., 0., 1., 0., 1.],\n",
       "       [1., 0., 1., 0., 1., 0., 1., 0.],\n",
       "       [0., 1., 0., 1., 0., 1., 0., 1.],\n",
       "       [1., 0., 1., 0., 1., 0., 1., 0.],\n",
       "       [0., 1., 0., 1., 0., 1., 0., 1.],\n",
       "       [1., 0., 1., 0., 1., 0., 1., 0.],\n",
       "       [0., 1., 0., 1., 0., 1., 0., 1.]])"
      ]
     },
     "execution_count": 22,
     "metadata": {},
     "output_type": "execute_result"
    }
   ],
   "source": [
    "x = np.ones((8,8))\n",
    "x[1:9:2,0:9:2] = 0 #홀수줄\n",
    "x[0:9:2,1:9:2] = 0 #짝수줄\n",
    "x"
   ]
  },
  {
   "cell_type": "code",
   "execution_count": 23,
   "id": "e5fbc4a1-1f66-4a4e-80ec-3e7481b963ab",
   "metadata": {},
   "outputs": [
    {
     "data": {
      "text/plain": [
       "array([[1, 0, 1, 0, 1, 0, 1, 0],\n",
       "       [0, 1, 0, 1, 0, 1, 0, 1],\n",
       "       [1, 0, 1, 0, 1, 0, 1, 0],\n",
       "       [0, 1, 0, 1, 0, 1, 0, 1],\n",
       "       [1, 0, 1, 0, 1, 0, 1, 0],\n",
       "       [0, 1, 0, 1, 0, 1, 0, 1],\n",
       "       [1, 0, 1, 0, 1, 0, 1, 0],\n",
       "       [0, 1, 0, 1, 0, 1, 0, 1]])"
      ]
     },
     "execution_count": 23,
     "metadata": {},
     "output_type": "execute_result"
    }
   ],
   "source": [
    "f = np.array([[1,0],[0,1]])\n",
    "np.tile(f,(4,4))"
   ]
  },
  {
   "cell_type": "code",
   "execution_count": 24,
   "id": "ae4bfb2d-18a5-4116-98c2-0448acbf4583",
   "metadata": {},
   "outputs": [
    {
     "data": {
      "text/plain": [
       "array([[1., 0., 1., 0., 1., 0., 1., 0.],\n",
       "       [0., 1., 0., 1., 0., 1., 0., 1.],\n",
       "       [1., 0., 1., 0., 1., 0., 1., 0.],\n",
       "       [0., 1., 0., 1., 0., 1., 0., 1.],\n",
       "       [1., 0., 1., 0., 1., 0., 1., 0.],\n",
       "       [0., 1., 0., 1., 0., 1., 0., 1.],\n",
       "       [1., 0., 1., 0., 1., 0., 1., 0.],\n",
       "       [0., 1., 0., 1., 0., 1., 0., 1.]])"
      ]
     },
     "execution_count": 24,
     "metadata": {},
     "output_type": "execute_result"
    }
   ],
   "source": [
    "f = np.eye(2)\n",
    "np.tile(f,(4,4))"
   ]
  },
  {
   "cell_type": "markdown",
   "id": "da67ab93-de88-4382-bde3-24c2ecb12d64",
   "metadata": {},
   "source": [
    "# boolean indexing"
   ]
  },
  {
   "cell_type": "code",
   "execution_count": 25,
   "id": "d80509d4-0efd-45c7-a087-92a441528953",
   "metadata": {},
   "outputs": [],
   "source": [
    "#같은 shape과 len의 boolean type의 값을 갖는 ndarray로 인덱싱\n",
    "#해당 위치에 대해 True면 값을 취하고 False면 가져오지 않습니다.\n",
    "#예제) 1부터 4까지의 정수에서 짝수에 대해서만 인덱싱을 boolean indexing"
   ]
  },
  {
   "cell_type": "code",
   "execution_count": 26,
   "id": "b5acc15c-f181-40b3-bda6-8d28c6c3d7dd",
   "metadata": {},
   "outputs": [
    {
     "name": "stdout",
     "output_type": "stream",
     "text": [
      "[1 2 3 4]\n"
     ]
    }
   ],
   "source": [
    "a = np.arange(1,5)\n",
    "print(a)"
   ]
  },
  {
   "cell_type": "code",
   "execution_count": 27,
   "id": "ed13abee-4919-40f1-b976-5bb918f831a8",
   "metadata": {},
   "outputs": [
    {
     "name": "stdout",
     "output_type": "stream",
     "text": [
      "[False  True False  True]\n"
     ]
    }
   ],
   "source": [
    "even = np.array([True if i%2 == 0 else False for i in range(1,5)])\n",
    "print(even)"
   ]
  },
  {
   "cell_type": "code",
   "execution_count": 28,
   "id": "3e1bed16-1b12-4e91-ad85-a5041f75c7ba",
   "metadata": {},
   "outputs": [],
   "source": [
    "#True와 False만 갖는 dtype('bool')의 ndarray를 인덱스로 사용\n",
    "#인덱스로 쓰려면 shape과 len이 같아야 함\n",
    "#각 인덱스 별로 비교를 하는데 인덱스로 쓰인 ndarray의 값이 True인 곳의 값만 반환"
   ]
  },
  {
   "cell_type": "code",
   "execution_count": 29,
   "id": "a9753736-8916-4f48-aab2-cad4878ba551",
   "metadata": {},
   "outputs": [
    {
     "data": {
      "text/plain": [
       "array([2, 4])"
      ]
     },
     "execution_count": 29,
     "metadata": {},
     "output_type": "execute_result"
    }
   ],
   "source": [
    "a[even]"
   ]
  },
  {
   "cell_type": "code",
   "execution_count": 30,
   "id": "7c838cda-a57b-4f2a-8ab9-838501d4f11e",
   "metadata": {},
   "outputs": [],
   "source": [
    "#연습문제"
   ]
  },
  {
   "cell_type": "code",
   "execution_count": 31,
   "id": "eb0bb91b-55ef-4eeb-bcf8-e58a84ab6fd9",
   "metadata": {},
   "outputs": [
    {
     "name": "stdout",
     "output_type": "stream",
     "text": [
      "[ 0  1  2  3 -4 -5 -6  7  8  9 10]\n"
     ]
    }
   ],
   "source": [
    "s = np.array([i*True if 4>i or 7<=i else -i for i in range(11)]) #내꺼\n",
    "print(s)              "
   ]
  },
  {
   "cell_type": "code",
   "execution_count": 32,
   "id": "279915f6-dce8-4560-8f1c-0c1bbbe6cd3f",
   "metadata": {},
   "outputs": [
    {
     "data": {
      "text/plain": [
       "array([ 0,  1,  2,  3, -4, -5, -6,  7,  8,  9, 10])"
      ]
     },
     "execution_count": 32,
     "metadata": {},
     "output_type": "execute_result"
    }
   ],
   "source": [
    "a15 = np.arange(11)    #진명님꺼\n",
    "minus = np.array([-1*True if 3 < i < 7 else True for i in range(11)])\n",
    "a15_minus = a15*minus\n",
    "a15_minus"
   ]
  },
  {
   "cell_type": "code",
   "execution_count": 33,
   "id": "27b7ae9f-ea6e-410d-a322-87fb90973f98",
   "metadata": {},
   "outputs": [],
   "source": [
    "#연습문제"
   ]
  },
  {
   "cell_type": "code",
   "execution_count": 34,
   "id": "f6d41770-00d2-4b37-98e1-a7128f79db76",
   "metadata": {},
   "outputs": [
    {
     "data": {
      "text/plain": [
       "1683"
      ]
     },
     "execution_count": 34,
     "metadata": {},
     "output_type": "execute_result"
    }
   ],
   "source": [
    "a = np.arange(3,101,3)\n",
    "a.sum()"
   ]
  },
  {
   "cell_type": "code",
   "execution_count": 35,
   "id": "76f870c5-25bb-4216-9a3e-0210ec2c2691",
   "metadata": {},
   "outputs": [
    {
     "data": {
      "text/plain": [
       "1683"
      ]
     },
     "execution_count": 35,
     "metadata": {},
     "output_type": "execute_result"
    }
   ],
   "source": [
    "a = np.arange(1,101)\n",
    "sum = np.array([True if i%3 == 0 else False for i in range(1,101)])\n",
    "a2 = a[sum]\n",
    "np.sum(a2) #개수가 똑같음\n",
    "#boolean index did not match indexed array along dimension 0; dimension is 33 but corresponding boolean dimension is 100"
   ]
  },
  {
   "cell_type": "code",
   "execution_count": 36,
   "id": "764b1744-43c7-483f-b2b9-fd81600be049",
   "metadata": {},
   "outputs": [],
   "source": [
    "#연습문제"
   ]
  },
  {
   "cell_type": "code",
   "execution_count": 37,
   "id": "0821fab3-113d-4fcd-810b-a321c272e63f",
   "metadata": {},
   "outputs": [
    {
     "data": {
      "text/plain": [
       "array([0.1, 0.2, 0.3, 0.4, 0.5, 0.6, 0.7, 0.8, 0.9])"
      ]
     },
     "execution_count": 37,
     "metadata": {},
     "output_type": "execute_result"
    }
   ],
   "source": [
    "c = np.linspace(0.1,0.9,9)\n",
    "c"
   ]
  },
  {
   "cell_type": "code",
   "execution_count": 38,
   "id": "a0663b48-557a-4853-b521-d371fa68bb6e",
   "metadata": {},
   "outputs": [],
   "source": [
    "#연습문제"
   ]
  },
  {
   "cell_type": "code",
   "execution_count": 39,
   "id": "4f3e14b8-5c9b-4c81-b708-ba5e9dbeef71",
   "metadata": {},
   "outputs": [
    {
     "name": "stdin",
     "output_type": "stream",
     "text": [
      " 4\n"
     ]
    },
    {
     "name": "stdout",
     "output_type": "stream",
     "text": [
      "[7, 31, 33, 34, 36, 37]\n",
      "[3, 14, 24, 29, 31, 42]\n",
      "[13, 17, 36, 39, 41, 44]\n",
      "[2, 11, 18, 22, 23, 30]\n"
     ]
    }
   ],
   "source": [
    "while True: #진명님\n",
    "    try:\n",
    "        a = int(input())\n",
    "        if a<0 :\n",
    "            print(\"자연수만 입력해주세요.\")\n",
    "            continue\n",
    "        else:\n",
    "            for i in range(a):\n",
    "                num = []\n",
    "                d = np.random.choice(range(1,45),6,replace = False)\n",
    "                num.extend(d)\n",
    "                num.sort()\n",
    "                print(num)   \n",
    "        break\n",
    "    except ValueError:\n",
    "        print(\"자연수만 입력해주세요.\")\n",
    "        continue"
   ]
  },
  {
   "cell_type": "code",
   "execution_count": 40,
   "id": "e0120eae-2c03-46aa-8132-f44be5bc4ed3",
   "metadata": {},
   "outputs": [
    {
     "name": "stdin",
     "output_type": "stream",
     "text": [
      " 5\n"
     ]
    },
    {
     "name": "stdout",
     "output_type": "stream",
     "text": [
      "[10 15 18 33 34 42]\n",
      "[ 7 17 20 29 31 34]\n",
      "[ 5 20 27 35 44 45]\n",
      "[ 2  3  7 13 22 42]\n",
      "[ 6 12 15 20 26 45]\n"
     ]
    }
   ],
   "source": [
    "while True:\n",
    "    try:\n",
    "        number = int(input())\n",
    "        if number>0:\n",
    "            for _ in range(number):\n",
    "                result = np.random.choice(range(1, 46), size=6, replace=False)\n",
    "                result.sort()\n",
    "                print(result)\n",
    "            break\n",
    "        else:\n",
    "            print(\"자연수만 입력해주세요.\")\n",
    "    except ValueError:\n",
    "        print(\"자연수만 입력해주세요.\")\n",
    "        continue"
   ]
  },
  {
   "cell_type": "code",
   "execution_count": 41,
   "id": "5da1679b-746a-4f38-84f2-7de220426fe3",
   "metadata": {},
   "outputs": [
    {
     "name": "stdin",
     "output_type": "stream",
     "text": [
      "자연수를 입력해주세요. 5\n"
     ]
    },
    {
     "name": "stdout",
     "output_type": "stream",
     "text": [
      "[ 2 14 20 23 26 34]\n",
      "[14 15 20 26 27 33]\n",
      "[ 1 14 23 25 34 45]\n",
      "[ 4  4  9 31 39 45]\n",
      "[ 1  4  6 10 17 26]\n"
     ]
    }
   ],
   "source": [
    "while True: #기영님,,깰꼼,,\n",
    "    n = input(\"자연수를 입력해주세요.\")\n",
    "    try:\n",
    "        for i in range(int(n)):\n",
    "            k = np.array([np.random.choice(np.arange(1, 46), replace=False) for _ in range(6)])\n",
    "            print(np.sort(k))\n",
    "        break;\n",
    "    except ValueError:\n",
    "        print(\"자연수를 입력해주세요.\")"
   ]
  },
  {
   "cell_type": "code",
   "execution_count": 42,
   "id": "30f03439-9737-415c-9e14-a6987802dd87",
   "metadata": {},
   "outputs": [
    {
     "data": {
      "text/plain": [
       "8"
      ]
     },
     "execution_count": 42,
     "metadata": {},
     "output_type": "execute_result"
    }
   ],
   "source": [
    "resp_time = np. array([158, 85, 205, 24, 42, 175, 188, 149, 153, 171, 137, 55, 108,\n",
    " 199, 177, 209, 218, 76, 103, 189, 110, 192, 136, 119, 4, 102,\n",
    " 177, 212, 110, 37, 163, 32, 77, 22, 125, 184, 46, 139, 72,\n",
    " 168, 133, 209, 148, 47, 102, 65, 160, 56, 11, 96, 169, 118,\n",
    " 55, 135, 217, 49, 100, 85, 179, 15, 139, 199, 124, 142, 15,\n",
    " 49, 168, 171, 168, 177, 147, 23, 199, 26, 51, 42, 90, 128,\n",
    " 186, 169, 129, 70, 198, 111, 81, 150, 17, 177, 201, 10, 75,\n",
    " 199, 55, 151, 183, 152, 119, 193, 110, 204])\n",
    "result = np.array([True if i>200 else False for i in resp_time])\n",
    "len(resp_time[result])"
   ]
  },
  {
   "cell_type": "code",
   "execution_count": 43,
   "id": "53efc5b3-f0fe-4e7a-b8c6-ffefd2a2c700",
   "metadata": {},
   "outputs": [
    {
     "data": {
      "text/plain": [
       "71.5"
      ]
     },
     "execution_count": 43,
     "metadata": {},
     "output_type": "execute_result"
    }
   ],
   "source": [
    "resp_time = np. array([158, 85, 205, 24, 42, 175, 188, 149, 153, 171, 137, 55, 108,\n",
    " 199, 177, 209, 218, 76, 103, 189, 110, 192, 136, 119, 4, 102,\n",
    " 177, 212, 110, 37, 163, 32, 77, 22, 125, 184, 46, 139, 72,\n",
    " 168, 133, 209, 148, 47, 102, 65, 160, 56, 11, 96, 169, 118,\n",
    " 55, 135, 217, 49, 100, 85, 179, 15, 139, 199, 124, 142, 15,\n",
    " 49, 168, 171, 168, 177, 147, 23, 199, 26, 51, 42, 90, 128,\n",
    " 186, 169, 129, 70, 198, 111, 81, 150, 17, 177, 201, 10, 75,\n",
    " 199, 55, 151, 183, 152, 119, 193, 110, 204])\n",
    "np.percentile(resp_time,25)"
   ]
  },
  {
   "cell_type": "code",
   "execution_count": 44,
   "id": "c5a813fc-b7ca-4097-b26f-7a099d86d8ec",
   "metadata": {},
   "outputs": [
    {
     "data": {
      "text/plain": [
       "131.0"
      ]
     },
     "execution_count": 44,
     "metadata": {},
     "output_type": "execute_result"
    }
   ],
   "source": [
    "np.percentile(resp_time,50)"
   ]
  },
  {
   "cell_type": "code",
   "execution_count": 45,
   "id": "c1d118da-9768-4fc4-948a-f192c749fee6",
   "metadata": {},
   "outputs": [
    {
     "data": {
      "text/plain": [
       "175.5"
      ]
     },
     "execution_count": 45,
     "metadata": {},
     "output_type": "execute_result"
    }
   ],
   "source": [
    "np.percentile(resp_time,75)"
   ]
  },
  {
   "cell_type": "code",
   "execution_count": 46,
   "id": "542dcbe1-0ef4-4eeb-ae99-dd044d243919",
   "metadata": {},
   "outputs": [
    {
     "data": {
      "text/plain": [
       "218.0"
      ]
     },
     "execution_count": 46,
     "metadata": {},
     "output_type": "execute_result"
    }
   ],
   "source": [
    "np.percentile(resp_time,100)"
   ]
  },
  {
   "cell_type": "code",
   "execution_count": 47,
   "id": "77228f24-4fc0-4110-bf49-78745f56afa0",
   "metadata": {},
   "outputs": [
    {
     "name": "stdout",
     "output_type": "stream",
     "text": [
      "1분위(25값%) 값: 71.5ms\n",
      "2분위(50값%) 값: 131.0ms\n",
      "3분위(75값%) 값: 175.5ms\n"
     ]
    }
   ],
   "source": [
    "for i, v in enumerate(range(25, 76, 25)): #선생님\n",
    "    print(f\"{i + 1}분위({v}값%) 값: {np.percentile(resp_time, v)}ms\")"
   ]
  },
  {
   "cell_type": "code",
   "execution_count": 48,
   "id": "663ef4b7-0a1f-4879-b558-0767d988dcc2",
   "metadata": {},
   "outputs": [
    {
     "data": {
      "text/plain": [
       "175.5"
      ]
     },
     "execution_count": 48,
     "metadata": {},
     "output_type": "execute_result"
    }
   ],
   "source": [
    "np.quantile(resp_time, 0.75) #기영님"
   ]
  },
  {
   "cell_type": "code",
   "execution_count": 49,
   "id": "63b2ff4c-c9dd-45fe-b5b8-58596b6c4ad3",
   "metadata": {},
   "outputs": [
    {
     "name": "stdout",
     "output_type": "stream",
     "text": [
      "Pororo가 81표로 학생회장으로 선출되었습니다.\n"
     ]
    }
   ],
   "source": [
    "import numpy as np\n",
    "\n",
    "p = [\"Pororo\", \"Loopy\", \"Crong\"]\n",
    "result = np.array([2, 1, 2, 2, 2, 2, 0, 2, 1, 1, 0, 0, 2, 0, 0, 1, 1, 2, 2, 2, 1, 1,\n",
    " 1, 2, 0, 2, 2, 0, 1, 1, 0, 2, 1, 0, 1, 2, 0, 0, 1, 0, 1, 1, 1, 2,\n",
    " 1, 1, 1, 0, 0, 0, 0, 1, 0, 0, 2, 0, 2, 2, 0, 0, 1, 1, 1, 0, 0, 2,\n",
    " 2, 1, 0, 1, 2, 0, 2, 0, 0, 0, 2, 0, 0, 0, 0, 0, 1, 2, 1, 1, 2, 0,\n",
    " 2, 0, 0, 0, 0, 2, 1, 2, 0, 2, 0, 0, 1, 0, 1, 2, 1, 2, 0, 2, 2, 1,\n",
    " 2, 0, 0, 1, 1, 0, 1, 2, 1, 2, 0, 2, 2, 2, 2, 0, 2, 2, 0, 2, 0, 2,\n",
    " 1, 1, 2, 1, 1, 0, 0, 1, 0, 0, 0, 2, 2, 0, 2, 0, 0, 0, 2, 0, 0, 0,\n",
    " 2, 0, 1, 2, 1, 0, 2, 0, 0, 1, 2, 1, 1, 2, 2, 0, 0, 0, 0, 2, 2, 1,\n",
    " 0, 1, 1, 2, 2, 1, 0, 0, 2, 0, 0, 0, 2, 0, 2, 2, 0, 2, 1, 0, 0, 2,\n",
    " 0, 1])\n",
    "\n",
    "counts = [0, 0, 0]\n",
    "\n",
    "for i in result:\n",
    "    counts[i] += 1\n",
    "\n",
    "winner_index = np.argmax(counts)\n",
    "print(f\"{p[winner_index]}가 {counts[winner_index]}표로 학생회장으로 선출되었습니다.\")"
   ]
  },
  {
   "cell_type": "code",
   "execution_count": 50,
   "id": "e06e4716-7a82-43d6-bbba-3857bb0141ae",
   "metadata": {},
   "outputs": [
    {
     "name": "stdout",
     "output_type": "stream",
     "text": [
      "{'Pororo': 81, 'Rupee': 53, 'Crong': 66}\n"
     ]
    }
   ],
   "source": [
    "import numpy as np\n",
    "\n",
    "p = [\"Pororo\", \"Rupee\", \"Crong\"]\n",
    "result = np.array([2, 1, 2, 2, 2, 2, 0, 2, 1, 1, 0, 0, 2, 0, 0, 1, 1, 2, 2, 2, 1, 1,\n",
    " 1, 2, 0, 2, 2, 0, 1, 1, 0, 2, 1, 0, 1, 2, 0, 0, 1, 0, 1, 1, 1, 2,\n",
    " 1, 1, 1, 0, 0, 0, 0, 1, 0, 0, 2, 0, 2, 2, 0, 0, 1, 1, 1, 0, 0, 2,\n",
    " 2, 1, 0, 1, 2, 0, 2, 0, 0, 0, 2, 0, 0, 0, 0, 0, 1, 2, 1, 1, 2, 0,\n",
    " 2, 0, 0, 0, 0, 2, 1, 2, 0, 2, 0, 0, 1, 0, 1, 2, 1, 2, 0, 2, 2, 1,\n",
    " 2, 0, 0, 1, 1, 0, 1, 2, 1, 2, 0, 2, 2, 2, 2, 0, 2, 2, 0, 2, 0, 2,\n",
    " 1, 1, 2, 1, 1, 0, 0, 1, 0, 0, 0, 2, 2, 0, 2, 0, 0, 0, 2, 0, 0, 0,\n",
    " 2, 0, 1, 2, 1, 0, 2, 0, 0, 1, 2, 1, 1, 2, 2, 0, 0, 0, 0, 2, 2, 1,\n",
    " 0, 1, 1, 2, 2, 1, 0, 0, 2, 0, 0, 0, 2, 0, 2, 2, 0, 2, 1, 0, 0, 2,\n",
    " 0, 1])\n",
    "counts = np.bincount(result)\n",
    "vote_count = dict(zip(p, counts))\n",
    "print(vote_count)"
   ]
  },
  {
   "cell_type": "code",
   "execution_count": 51,
   "id": "5ff46dcd-f2e5-4d86-9ce7-b55ab3e0e542",
   "metadata": {},
   "outputs": [
    {
     "name": "stdout",
     "output_type": "stream",
     "text": [
      "뽀로로 가 81표로 학생회장으로 선출되었습니다.\n"
     ]
    }
   ],
   "source": [
    "import numpy as np\n",
    "\n",
    "p = [\"뽀로로\", \"루피\", \"크롱\"]\n",
    "result = np.array([2, 1, 2, 2, 2, 2, 0, 2, 1, 1, 0, 0, 2, 0, 0, 1, 1, 2, 2, 2, 1, 1,\n",
    " 1, 2, 0, 2, 2, 0, 1, 1, 0, 2, 1, 0, 1, 2, 0, 0, 1, 0, 1, 1, 1, 2,\n",
    " 1, 1, 1, 0, 0, 0, 0, 1, 0, 0, 2, 0, 2, 2, 0, 0, 1, 1, 1, 0, 0, 2,\n",
    " 2, 1, 0, 1, 2, 0, 2, 0, 0, 0, 2, 0, 0, 0, 0, 0, 1, 2, 1, 1, 2, 0,\n",
    " 2, 0, 0, 0, 0, 2, 1, 2, 0, 2, 0, 0, 1, 0, 1, 2, 1, 2, 0, 2, 2, 1,\n",
    " 2, 0, 0, 1, 1, 0, 1, 2, 1, 2, 0, 2, 2, 2, 2, 0, 2, 2, 0, 2, 0, 2,\n",
    " 1, 1, 2, 1, 1, 0, 0, 1, 0, 0, 0, 2, 2, 0, 2, 0, 0, 0, 2, 0, 0, 0,\n",
    " 2, 0, 1, 2, 1, 0, 2, 0, 0, 1, 2, 1, 1, 2, 2, 0, 0, 0, 0, 2, 2, 1,\n",
    " 0, 1, 1, 2, 2, 1, 0, 0, 2, 0, 0, 0, 2, 0, 2, 2, 0, 2, 1, 0, 0, 2,\n",
    " 0, 1])\n",
    "counts = np.bincount(result)\n",
    "print(f\"{p[counts.argmax()]} 가 {counts.max()}표로 학생회장으로 선출되었습니다.\")"
   ]
  }
 ],
 "metadata": {
  "kernelspec": {
   "display_name": "Python 3 (ipykernel)",
   "language": "python",
   "name": "python3"
  },
  "language_info": {
   "codemirror_mode": {
    "name": "ipython",
    "version": 3
   },
   "file_extension": ".py",
   "mimetype": "text/x-python",
   "name": "python",
   "nbconvert_exporter": "python",
   "pygments_lexer": "ipython3",
   "version": "3.9.13"
  }
 },
 "nbformat": 4,
 "nbformat_minor": 5
}
