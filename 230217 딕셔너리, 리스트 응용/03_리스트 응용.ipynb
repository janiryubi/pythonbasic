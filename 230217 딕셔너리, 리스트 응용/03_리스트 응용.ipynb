{
 "cells": [
  {
   "cell_type": "code",
   "execution_count": 1,
   "id": "5936d697-1b17-45d2-b3e2-404c842e0086",
   "metadata": {},
   "outputs": [],
   "source": [
    "# 인덱스와 딕셔너리의 차이\n",
    "#줄 서있는데 이름을 몰라서 위치로 찾는 것과 흩어져있는데 이름을 알아서 호명하는 것"
   ]
  },
  {
   "cell_type": "code",
   "execution_count": 2,
   "id": "701b3087-7484-4e43-a953-bc924ba6e668",
   "metadata": {},
   "outputs": [
    {
     "name": "stdout",
     "output_type": "stream",
     "text": [
      "<class 'list'>\n",
      "[48, 48, 33, 95]\n"
     ]
    }
   ],
   "source": [
    "# 리스트 생성 방법 - 대괄호 사용\n",
    "# 리스트 구성요소는 콤마로 구분\n",
    "# 자료형 : class list - list클래스로 만들어진 객체\n",
    "list_a = [48,48,33,95]\n",
    "print(type(list_a))\n",
    "print(list_a)\n",
    "#class(자동차 공장) --메서드(전진, 시동)하는 기능을 넣는다 -> 자동차 - 객체\n",
    "#class별 list를 만들 수 있는 메서드는 각자 제한되어 있다/class 별로 메서드가 정의되어 있음\n",
    "# 메모리안에 데이터를 가진 것이 객체"
   ]
  },
  {
   "cell_type": "code",
   "execution_count": 3,
   "id": "a001cb56-b215-4580-806e-aca84a8e8a0b",
   "metadata": {},
   "outputs": [
    {
     "name": "stdout",
     "output_type": "stream",
     "text": [
      "[]\n",
      "<class 'list'>\n",
      "()\n",
      "<class 'tuple'>\n"
     ]
    }
   ],
   "source": [
    "# 빈 리스트 생성 대괄호만 / 인자 없이 list함수\n",
    "empty_list = []\n",
    "print(empty_list)\n",
    "print(type(empty_list))\n",
    "empty_list = ()\n",
    "print(empty_list)\n",
    "print(type(empty_list))"
   ]
  },
  {
   "cell_type": "code",
   "execution_count": 4,
   "id": "bb2135e0-234c-45dc-9c5e-0f46dc182bda",
   "metadata": {},
   "outputs": [
    {
     "name": "stdin",
     "output_type": "stream",
     "text": [
      "숫자를 띄어쓰기로 구분하여 여럿 입력해보세요. 1 2 3 4\n"
     ]
    },
    {
     "name": "stdout",
     "output_type": "stream",
     "text": [
      "<class 'list'>\n",
      "[1, 2, 3, 4]\n"
     ]
    }
   ],
   "source": [
    "# 리스트 생성 방법 - 문자열.split()\n",
    "#사용자로부터 값을 받고(input)\n",
    "#받은 문자열을 공백을 구분자로 나눠(split) 리스트로 만들고\n",
    "#각각 요소를 정수형(int)으로 만들기 위해 map을 사용하여 \n",
    "#map클래스를 반환한 것을 \n",
    "#list로 변환\n",
    "\n",
    "list_b = list(map(int,input(\"숫자를 띄어쓰기로 구분하여 여럿 입력해보세요.\").split()))\n",
    "print(type(list_b))\n",
    "print(list_b)\n",
    "\n",
    "# for i in list 객체\n",
    "# a.append"
   ]
  },
  {
   "cell_type": "code",
   "execution_count": 5,
   "id": "4af4f75a-9577-4b0c-a135-cfee50f0e3ee",
   "metadata": {},
   "outputs": [],
   "source": [
    "#리스트 컴프리헨션(comprehension)\n",
    "# 대괄호 안에 ([])안에 표현식과 for문을 작성하여 사용할 수 있음\n",
    "#list[01,2,3,...,9]\n",
    "list_variable = [i**2 for i in list(range(10))] # [expression for 변수 in iterable] \n",
    "#list_variable = expression for 변수 in iterable\n",
    "\n",
    "# 반복가능한 객체(iterable)로부터 값을 하나 가져와서 변수에 담는다\n",
    "# 요소를 담은 변수를 활용하여 표현식(expression)실행(변수는 활용하지 않을 수도 있음)\n",
    "# 표현식 결과 값을 리스트 요소에 넣음\n",
    "# 반복가능한 객체(iterable)로부터 값이 없을 때까지 1-3과정 반복"
   ]
  },
  {
   "cell_type": "code",
   "execution_count": 6,
   "id": "82c059f7-4869-41d8-9507-a3fbbf9380c9",
   "metadata": {},
   "outputs": [
    {
     "name": "stdout",
     "output_type": "stream",
     "text": [
      "[1, 2, 3, 4, 5, 6, 7, 8, 9]\n"
     ]
    }
   ],
   "source": [
    "list_c = [i for i in range(1,10)]\n",
    "print(list_c)"
   ]
  },
  {
   "cell_type": "code",
   "execution_count": 7,
   "id": "03a1a78a-7a44-4b0d-b967-d134d6404bf3",
   "metadata": {},
   "outputs": [
    {
     "name": "stdout",
     "output_type": "stream",
     "text": [
      "<class 'list'>\n",
      "[1, 4, 9, 16, 25, 36, 49, 64, 81]\n"
     ]
    }
   ],
   "source": [
    "prac_result = [i**2 for i in range(1,10)]\n",
    "print(type(prac_result))\n",
    "print(prac_result)"
   ]
  },
  {
   "cell_type": "code",
   "execution_count": 8,
   "id": "f811092b-1604-48f6-b383-a2dde1753be9",
   "metadata": {},
   "outputs": [
    {
     "name": "stdout",
     "output_type": "stream",
     "text": [
      "[1, 3, 5, 7, 9]\n"
     ]
    }
   ],
   "source": [
    "#1-9까지의 수 중 홀수만 갖는 리스트\n",
    "prac_result2 = [i for i in range(1,10,2)]\n",
    "print(prac_result2)\n",
    "# range로 숫자를 홀수로 만들어보세요~"
   ]
  },
  {
   "cell_type": "code",
   "execution_count": 9,
   "id": "d1ae8eb6-e580-4b1e-b7e8-8c4ff3f8189f",
   "metadata": {},
   "outputs": [
    {
     "name": "stdout",
     "output_type": "stream",
     "text": [
      "['a', 'b', 'c', 'd', 'e', 'f', 'g', 'h', 'i', 'j']\n"
     ]
    }
   ],
   "source": [
    "# a부터 z까지 순서대로 알파벳 문자열을 갖는 리스트\n",
    "prac_result3 = [i for i in 'abcdefghij']\n",
    "print(prac_result3)"
   ]
  },
  {
   "cell_type": "code",
   "execution_count": 10,
   "id": "64be0d6f-5686-4f00-8c6b-b9131b3b1781",
   "metadata": {},
   "outputs": [
    {
     "name": "stdout",
     "output_type": "stream",
     "text": [
      "['2', '3', '4', '5', '6', '7', '8', '9', '10', 'J', 'Q', 'K', 'A']\n"
     ]
    }
   ],
   "source": [
    "#2부터 10까지 숫자 리스트, 'j','q','k','a를 갖는 리스트를 만들어 합쳐라\n",
    "#문자열 'jqka'를 만들어 활용\n",
    "# 숫자를 문자열로 만드는 함수는 str(숫자)\n",
    "prac_result4 = [str(i) for i in range(2,11)] + [i for i in 'JQKA']\n",
    "print(prac_result4) #list('jqka')"
   ]
  },
  {
   "cell_type": "code",
   "execution_count": 11,
   "id": "b81e54f3-5a0b-4c7d-a0ed-60b7f6e15e26",
   "metadata": {},
   "outputs": [
    {
     "name": "stdout",
     "output_type": "stream",
     "text": [
      "['2', '3', '4', '5', '6', '7', '8', '9', '10', 'J', 'Q', 'K', 'A']\n"
     ]
    }
   ],
   "source": [
    "prac_result4 = [str(i) for i in range(2,11)]\n",
    "prac_result4.extend([i for i in 'JQKA'])\n",
    "print(prac_result4)"
   ]
  },
  {
   "cell_type": "code",
   "execution_count": 12,
   "id": "434c1675-21b3-472a-ad07-d54b85137ed1",
   "metadata": {},
   "outputs": [
    {
     "name": "stdout",
     "output_type": "stream",
     "text": [
      "[['2', '3', '4', '5', '6', '7', '8', '9', '10', 'J', 'Q', 'K', 'A'], ['2', '3', '4', '5', '6', '7', '8', '9', '10', 'J', 'Q', 'K', 'A'], ['2', '3', '4', '5', '6', '7', '8', '9', '10', 'J', 'Q', 'K', 'A'], ['2', '3', '4', '5', '6', '7', '8', '9', '10', 'J', 'Q', 'K', 'A']]\n"
     ]
    }
   ],
   "source": [
    "# prac_result4를 4개 요소로 갖는 리스트\n",
    "prac_result5 = [prac_result4 for i in range(1,5)]\n",
    "print(prac_result5)"
   ]
  },
  {
   "cell_type": "code",
   "execution_count": 13,
   "id": "bcae1396-7037-41b9-8345-454a28c1d871",
   "metadata": {},
   "outputs": [
    {
     "name": "stdout",
     "output_type": "stream",
     "text": [
      "[['2', '3', '4', '5', '6', '7', '8', '9', '10', 'J', 'Q', 'K', 'A'], ['2', '3', '4', '5', '6', '7', '8', '9', '10', 'J', 'Q', 'K', 'A'], ['2', '3', '4', '5', '6', '7', '8', '9', '10', 'J', 'Q', 'K', 'A'], ['2', '3', '4', '5', '6', '7', '8', '9', '10', 'J', 'Q', 'K', 'A']]\n"
     ]
    }
   ],
   "source": [
    "# prac_result4를 4개 요소로 갖는 리스트\n",
    "prac_result5 = [prac_result4 for _ in range(4)]\n",
    "print(prac_result5)"
   ]
  },
  {
   "cell_type": "code",
   "execution_count": 14,
   "id": "7ab11b6d-c4b4-4c31-bc00-919243641396",
   "metadata": {},
   "outputs": [
    {
     "name": "stdout",
     "output_type": "stream",
     "text": [
      "['two', '3', '4', '5', '6', '7', '8', '9', '10', 'J', 'Q', 'K', 'A']\n",
      "[['two', '3', '4', '5', '6', '7', '8', '9', '10', 'J', 'Q', 'K', 'A'], ['two', '3', '4', '5', '6', '7', '8', '9', '10', 'J', 'Q', 'K', 'A'], ['two', '3', '4', '5', '6', '7', '8', '9', '10', 'J', 'Q', 'K', 'A'], ['two', '3', '4', '5', '6', '7', '8', '9', '10', 'J', 'Q', 'K', 'A']]\n"
     ]
    }
   ],
   "source": [
    "# 객체를 담는 변수의 특징\n",
    "#prac_result4 를 4번 반복해서 prac_result5에 넣었을 때, prac_result5의 각각의 요소는 어떤 특징?\n",
    "prac_result4[0]  = 'two'\n",
    "print(prac_result4)\n",
    "print(prac_result5)"
   ]
  },
  {
   "cell_type": "code",
   "execution_count": 15,
   "id": "0edb2eeb-8681-4dc0-a123-67305387f7c9",
   "metadata": {},
   "outputs": [],
   "source": [
    "# 객체를 담는 변수의 특징\n",
    "# prac_result4변수에 담긴 객체 위치를 prac_result5의 리스트 요소 값으로 복사한 것\n",
    "#즉, prac_result5의 모든 요소가 prac_result4 변수가 갖고 있던 메모리상 객체의 위치, 즉 주소를 복사했다.\n",
    "# 메모리에는 고유한 주소를 가진다. 주소를 통해 접근 가능.\n",
    "# prac_result4 =prac_result5[0]=prac_result5[1]=prac_result5[2]=prac_result5[3]"
   ]
  },
  {
   "cell_type": "code",
   "execution_count": 16,
   "id": "234ade4b-2b13-48fa-ac30-f6d82b2572ab",
   "metadata": {},
   "outputs": [
    {
     "name": "stdout",
     "output_type": "stream",
     "text": [
      "prac_result4의 id: 1760761297728\n",
      "prac_result5[0] : 1760761297728\n",
      "prac_result5[1] : 1760761297728\n",
      "prac_result5[2] : 1760761297728\n",
      "prac_result5[3] : 1760761297728\n"
     ]
    }
   ],
   "source": [
    "# id()내장함수\n",
    "#객체마다 구분할 수 있는 고유한 정수 값(메모리 주소)를 조회할 수 있는 함수\n",
    "#id로 가져온 정수 값이 같다면 같은 객체\n",
    "# 변수와 모든 요소들이 같은 메모리상의 객체 바라본다\n",
    "#인덱스와 value 값을 동시에 보려고 하는 것 enumerate\n",
    "print(\"prac_result4의 id:\", id(prac_result4))\n",
    "for i, v in enumerate(prac_result5):\n",
    "    print(\"prac_result5[\",i,\"] : \",id(v),sep=\"\")"
   ]
  },
  {
   "cell_type": "code",
   "execution_count": 17,
   "id": "5f0b7b6e-5aa4-4357-b0c0-8a95c8d82a77",
   "metadata": {},
   "outputs": [
    {
     "name": "stdout",
     "output_type": "stream",
     "text": [
      "prac_result4의 id: 1760761297728\n",
      "prac_result6[0] : 1760761308480\n",
      "prac_result6[1] : 1760761309120\n",
      "prac_result6[2] : 1760761308992\n",
      "prac_result6[3] : 1760761308864\n"
     ]
    }
   ],
   "source": [
    "# 기존리스트의 전체 범위의 슬라이싱 결과는 새로운 객체\n",
    "#리스트 변수명[:]으로 전체를 동일하게 가져오는\n",
    "#슬라이싱으로 반환받는 리스트 객체는 다른 객체 \n",
    "#각각 다른 메모리로 저장되어 있다.\n",
    "#list외에도 tuple/str의 경우, 불변이지만, 슬라이싱을 하면 기존 메모리가 아닌 새로운 메모리로 만들어지는 것\n",
    "prac_result6 = [prac_result4[:]for _ in range(4)]\n",
    "print(\"prac_result4의 id:\", id(prac_result4))\n",
    "for i, v in enumerate(prac_result6):\n",
    "     print(\"prac_result6[\",i,\"] : \",id(v),sep=\"\")"
   ]
  },
  {
   "cell_type": "code",
   "execution_count": 18,
   "id": "76bd7bdd-27ea-4530-8fa1-ff576ef028ed",
   "metadata": {},
   "outputs": [],
   "source": [
    "# 리스트 전체 범위 slicing을 통한 리스트 복사\n",
    "# 리스트변수[:] ->새로운 객체를 만들어 반환한다, 전체범위라고 하더라도"
   ]
  },
  {
   "cell_type": "code",
   "execution_count": 19,
   "id": "f04321a8-24de-4af9-b791-cb62d68abd66",
   "metadata": {},
   "outputs": [
    {
     "name": "stdout",
     "output_type": "stream",
     "text": [
      "1760761244096\n",
      "1760761183168\n",
      "False\n",
      "True\n"
     ]
    }
   ],
   "source": [
    "#old_list 리스트를 만들어 변수에 담습니다.\n",
    "#슬라이싱을 통해 old_list 객체 전체를 그래도 복사해서 새로운 변수 new_list에 담아보세요. \n",
    "# 그리고 그 둘의 id()를 비교해보고 is연산자를 통해 객체 간 비교를 해보고 == 연산자를 통해 비교한 결과를 확인해보세요.\n",
    "#[1,2,3,4,5,6,7,8,9]\n",
    "old_list = list(range(10))\n",
    "new_list = old_list[:]\n",
    "\n",
    "print(id(old_list))\n",
    "print(id(new_list))\n",
    "#is 연산자와 ==연산자의 비교\n",
    "print(old_list is new_list) #주소끼리 비교\n",
    "print(old_list == new_list) #값만 비교"
   ]
  },
  {
   "cell_type": "code",
   "execution_count": 20,
   "id": "dc7a01ee-4981-4333-8478-8f062e21d26a",
   "metadata": {},
   "outputs": [
    {
     "name": "stdout",
     "output_type": "stream",
     "text": [
      "1760761358528\n",
      "1760761358528\n",
      "True\n",
      "True\n"
     ]
    }
   ],
   "source": [
    "# tuple, str의 경우, is 연산자의 결과가 다를 수 있다\n",
    "#불변의 특징이 있기에, 그대로 재사용할 수도 있음\n",
    "old_tuple = tuple(range(10))\n",
    "new_tuple = old_tuple[:]\n",
    "print(id(old_tuple))\n",
    "print(id(new_tuple))\n",
    "#is 연산자와 ==연산자의 비교\n",
    "print(old_tuple is new_tuple) #주소끼리 비교\n",
    "print(old_tuple == new_tuple) #값만 비교"
   ]
  },
  {
   "cell_type": "code",
   "execution_count": 21,
   "id": "ad040d63-6497-4c65-b601-5ff8c3fa1875",
   "metadata": {},
   "outputs": [],
   "source": [
    "#####old_str = \"abcd\"일 경우, ?!"
   ]
  },
  {
   "cell_type": "code",
   "execution_count": 22,
   "id": "649f0521-5b22-4824-ac94-76e3769288f4",
   "metadata": {},
   "outputs": [],
   "source": [
    "#리스트 컴프리헨션(comprehension)\n",
    "# 대괄호 대신 리스트함수 사용\n",
    "####list_d = list(i**3 for i in list(range(10)))\n",
    "             ##33pprint(list_d)"
   ]
  },
  {
   "cell_type": "code",
   "execution_count": 23,
   "id": "fc64f89f-9b90-4741-a400-a6ec5e6113de",
   "metadata": {},
   "outputs": [
    {
     "name": "stdout",
     "output_type": "stream",
     "text": [
      "[0, 1, 2, 3, 4, 5, 6, 7, 8, 9]\n",
      "[0, 1, 2, 3, 4, 5, 6, 7, 8, 9]\n",
      "1760761312000\n",
      "1760761312000\n",
      "True\n"
     ]
    }
   ],
   "source": [
    "#리스트 변수를 할당해서 복사하는 경우,변수를 다른 변수에 대입하면 메모리 주소만 복사함\n",
    "# 객체가 아예 같다고 나오는 것을 확인할 수 있다\n",
    "list_e = [i for i in range(10)]\n",
    "print(list_e)\n",
    "list_f = list_e\n",
    "print(list_f)\n",
    "print(id(list_e))\n",
    "print(id(list_f))\n",
    "print(list_e is list_f)\n",
    "# 예제 정리 필요"
   ]
  },
  {
   "cell_type": "code",
   "execution_count": 24,
   "id": "d6596748-4dd5-4df7-adb5-b38806f8c0a8",
   "metadata": {},
   "outputs": [
    {
     "name": "stdout",
     "output_type": "stream",
     "text": [
      "1760761248384\n",
      "1760761243392\n",
      "False\n"
     ]
    }
   ],
   "source": [
    "# 리스트 복사(copy()메서드)\n",
    "# 리스트 객체를 새롭게 복사, 반환 값은 새로운 객체\n",
    "# 두 리스트는 서로 다름\n",
    "list_g = list(range(10))\n",
    "list_h = list_g.copy()\n",
    "print(id(list_g))\n",
    "print(id(list_h))\n",
    "print(list_g is list_h)"
   ]
  },
  {
   "cell_type": "code",
   "execution_count": 25,
   "id": "881aac83-5dda-4ead-be5e-df98a661e7e4",
   "metadata": {},
   "outputs": [
    {
     "name": "stdout",
     "output_type": "stream",
     "text": [
      "[999, 1, 2, 3, 4, 5, 6, 7, 8, 9]\n",
      "[0, 1, 2, 3, 4, 5, 6, 7, 8, 9]\n"
     ]
    }
   ],
   "source": [
    "#list_g의 요소를 변경했을 때,\n",
    "#list_h에 영향이 없음\n",
    "#즉, copy()는 리스트를 슬라이싱 한 것과 같이 객체 자체를 새로운 메모리 공간에 복사한다.\n",
    "list_g[0] = 999\n",
    "print(list_g)\n",
    "print(list_h)"
   ]
  },
  {
   "cell_type": "code",
   "execution_count": 26,
   "id": "65caa177-bdef-4fea-821f-607c297286f4",
   "metadata": {},
   "outputs": [
    {
     "name": "stdout",
     "output_type": "stream",
     "text": [
      "[[0], [0], [0]]\n"
     ]
    }
   ],
   "source": [
    "#얕은 복사(shallow copy)\n",
    "#리스트 안에 리스트가 있을 경우에 확인\n",
    "#리스트 내에 있는 값을 그대로 복사해온다\n",
    "#리스트 요소 중 메모리 주소를 담고있는 참조 변수가 있으면 객체 주소만 복사해옴\n",
    "#리스트에 *애스터리스크를 사용하면 얕은 복사, 즉, list_i[0], list_i[1], list_i[2]는 모두 같은 객체를 바라봄\n",
    "list_i = [[0]]*3\n",
    "print(list_i)\n",
    "list_i[0][0] = 999"
   ]
  },
  {
   "cell_type": "code",
   "execution_count": 27,
   "id": "8767f53a-9031-4e14-99ad-06c2e76dc6bb",
   "metadata": {},
   "outputs": [
    {
     "name": "stdout",
     "output_type": "stream",
     "text": [
      "[[999], [999], [999]]\n"
     ]
    }
   ],
   "source": [
    "# 요소 하나만 바꿨는데, 모든 요소의 값이 변경됨\n",
    "#메모리 주소만 복사\n",
    "print(list_i)"
   ]
  },
  {
   "cell_type": "code",
   "execution_count": 30,
   "id": "0f69ad2e-5f99-4207-8a52-31e89716f711",
   "metadata": {},
   "outputs": [
    {
     "data": {
      "text/plain": [
       "True"
      ]
     },
     "execution_count": 30,
     "metadata": {},
     "output_type": "execute_result"
    }
   ],
   "source": [
    "list_i[0][0] is list_i[1][0]"
   ]
  },
  {
   "cell_type": "code",
   "execution_count": 31,
   "id": "760075fb-cbf3-480f-8eb4-33869602f861",
   "metadata": {},
   "outputs": [
    {
     "data": {
      "text/plain": [
       "True"
      ]
     },
     "execution_count": 31,
     "metadata": {},
     "output_type": "execute_result"
    }
   ],
   "source": [
    "list_i[1][0] is list_i[2][0]"
   ]
  },
  {
   "cell_type": "code",
   "execution_count": 32,
   "id": "0e60944e-8117-45ba-80c7-9ba09ebba25d",
   "metadata": {},
   "outputs": [
    {
     "data": {
      "text/plain": [
       "True"
      ]
     },
     "execution_count": 32,
     "metadata": {},
     "output_type": "execute_result"
    }
   ],
   "source": [
    "list_i[2][0] is list_i[0][0]"
   ]
  },
  {
   "cell_type": "code",
   "execution_count": 28,
   "id": "4c07649f-caaf-4733-bb7c-00423a4f8b1d",
   "metadata": {},
   "outputs": [],
   "source": [
    "#*,슬라이싱, copy모두 얕은 복사\n",
    "#예제 정리"
   ]
  },
  {
   "cell_type": "code",
   "execution_count": 29,
   "id": "a176c7e4-605a-4fe6-9082-1eee8f09517b",
   "metadata": {},
   "outputs": [],
   "source": [
    "#깊은 복사(deep copy)\n",
    "#copy 라이브러리\n",
    "import copy\n",
    "#list_n =[[9,10],[11,12]]\n",
    "#list_o = copy.deepcopy(list_n)\n",
    "#print(list_n[0] is list_o[0])\n",
    "      \n",
    "# list_n[0][1] =999\n",
    "#print(list_n)\n",
    "#print(list_o)"
   ]
  },
  {
   "cell_type": "code",
   "execution_count": 33,
   "id": "4b967052-6a29-4404-8d3f-548915dfe4f9",
   "metadata": {},
   "outputs": [],
   "source": [
    "# row 생성을 새롭게 하고 싶을 때, 깊은 복사를 하고 싶을 때는 이 함수를 쓰면 된다\n",
    "b = []\n",
    "for i in range(3): #i가 1일 때 2일때 3일때 다 다른 친구\n",
    "    row = [0] #for문이 반복될 때마다 새롭게 생성되는 변수\n",
    "    b.append(row)"
   ]
  },
  {
   "cell_type": "code",
   "execution_count": 34,
   "id": "bfffcc04-1cec-4422-99ef-5117b2b7f544",
   "metadata": {},
   "outputs": [
    {
     "name": "stdout",
     "output_type": "stream",
     "text": [
      "1760760978176\n",
      "1760760481216\n",
      "1760761182464\n"
     ]
    }
   ],
   "source": [
    "print(id(b[0]))\n",
    "print(id(b[1]))\n",
    "print(id(b[2]))"
   ]
  },
  {
   "cell_type": "code",
   "execution_count": 36,
   "id": "051fae6a-8566-4b85-9933-37632ff019aa",
   "metadata": {},
   "outputs": [
    {
     "data": {
      "text/plain": [
       "True"
      ]
     },
     "execution_count": 36,
     "metadata": {},
     "output_type": "execute_result"
    }
   ],
   "source": [
    "e = 256\n",
    "f = 256\n",
    "e is f"
   ]
  },
  {
   "cell_type": "code",
   "execution_count": 37,
   "id": "3dce6db7-5538-4f63-9263-a868e31ad53f",
   "metadata": {},
   "outputs": [
    {
     "data": {
      "text/plain": [
       "False"
      ]
     },
     "execution_count": 37,
     "metadata": {},
     "output_type": "execute_result"
    }
   ],
   "source": [
    "e = 257\n",
    "f = 257\n",
    "e is f"
   ]
  },
  {
   "cell_type": "code",
   "execution_count": 38,
   "id": "c45a7d8e-699b-46f1-ab18-1964f7d9c309",
   "metadata": {},
   "outputs": [
    {
     "data": {
      "text/plain": [
       "False"
      ]
     },
     "execution_count": 38,
     "metadata": {},
     "output_type": "execute_result"
    }
   ],
   "source": [
    "# 이상쓰,,,\n",
    "l5 = [7,8,(9,10)]\n",
    "l6 = l5.copy()\n",
    "l5 is l6"
   ]
  },
  {
   "cell_type": "code",
   "execution_count": 39,
   "id": "9afd2793-07cb-43f2-bf29-06ffaae687cc",
   "metadata": {},
   "outputs": [
    {
     "data": {
      "text/plain": [
       "True"
      ]
     },
     "execution_count": 39,
     "metadata": {},
     "output_type": "execute_result"
    }
   ],
   "source": [
    "l5[-1] is l6[-1] #주소를 복사하기 때문에 사실상 복사를 한거지만 똑같아보인다,,\n",
    "# 다만 다 복사하고 싶으면 딥카피 사용"
   ]
  },
  {
   "cell_type": "code",
   "execution_count": 42,
   "id": "ac454f10-bc6e-4b4a-b823-af6706e529ad",
   "metadata": {},
   "outputs": [],
   "source": [
    "#리스트 컴프리헨션(for &if문)\n",
    "# expression for 변수 in iterable if 조건식\n",
    "#반복가능한 객체(iterable)로부터 값을 하나 꺼내와서 조건식에 넣는다\n",
    "# 조건식이True면 변수를 활용하여 표현식(expression) 실행\n",
    "# 조건식이false면 1번부터 다시 시작\n",
    "#표현식 결과 값을 리스트에 넣음\n",
    "#반복가능한 객체로부터 값이 없을 때까지 1-3 과정 반복"
   ]
  },
  {
   "cell_type": "code",
   "execution_count": 43,
   "id": "778562b4-b728-4a30-a2ab-b2c29fcc9ae4",
   "metadata": {},
   "outputs": [
    {
     "name": "stdout",
     "output_type": "stream",
     "text": [
      "[0, 3, 6, 9]\n"
     ]
    }
   ],
   "source": [
    "list_p = [i for i in range(10) if i %3 ==0]\n",
    "print(list_p)"
   ]
  },
  {
   "cell_type": "code",
   "execution_count": 44,
   "id": "a1294d98-b8ca-4ac3-ac34-793451ca263a",
   "metadata": {},
   "outputs": [],
   "source": [
    "#리스트 컴프리헨션(for문 여러개 - 동작순서는 우측에서 좌측)\n",
    "#[expression for 변수 in iterable for 변수 in iterable]\n",
    "#for 변수 in iterable:   3\n",
    "    #for 변수 in iterable:   1\n",
    "        #expression   2\n",
    "#[expression for 변수 in iterable\n",
    " #          for 변수 in iterable\n",
    "  #         for 변수 in iterable\n",
    "   #        for 변수 in iterable]\n",
    "#가능은 하지만 가독성을 위해 왠만하면,,,별개로 나눠서,,"
   ]
  },
  {
   "cell_type": "code",
   "execution_count": 45,
   "id": "ca16f8d1-ada4-4473-90ec-eca072e24322",
   "metadata": {},
   "outputs": [
    {
     "name": "stdout",
     "output_type": "stream",
     "text": [
      "1\n",
      "2\n",
      "3\n",
      "4\n",
      "5\n",
      "3\n",
      "4\n"
     ]
    }
   ],
   "source": [
    "#중첩리스트 사용n - 중첩리스트는 차원과 다름\n",
    "# 리스트 안에 리스트가 있는 것일 분, 인덱싱으로 얻은 결과가 리스트여서 인덱싱을 또 한 것\n",
    "easy_list = [[1,2,3,4,5],[3,4]]\n",
    "             #easy_list[0] easy_list[1]\n",
    "for item in easy_list:\n",
    "    for i in item:\n",
    "        print(i)\n",
    "        \n",
    "        # 다시 여쭤보기"
   ]
  },
  {
   "cell_type": "code",
   "execution_count": 51,
   "id": "47af3b9d-1818-4f6b-92d8-0a35327b00cc",
   "metadata": {},
   "outputs": [
    {
     "ename": "IndentationError",
     "evalue": "expected an indented block (1972824242.py, line 7)",
     "output_type": "error",
     "traceback": [
      "\u001b[1;36m  File \u001b[1;32m\"C:\\Users\\Playdata\\AppData\\Local\\Temp\\ipykernel_8660\\1972824242.py\"\u001b[1;36m, line \u001b[1;32m7\u001b[0m\n\u001b[1;33m    print(easy_list[i][j])\u001b[0m\n\u001b[1;37m                          ^\u001b[0m\n\u001b[1;31mIndentationError\u001b[0m\u001b[1;31m:\u001b[0m expected an indented block\n"
     ]
    }
   ],
   "source": [
    "# while문도 같음\n",
    "easy_list = [[1,2,3,4,5],[3,4]]\n",
    "i =0 #easy_list 인덱스용\n",
    "while i<len(easy_list):\n",
    "    j = 0 \n",
    "    while j<len(easy_list):\n",
    "    print(easy_list[i][j])\n",
    "    j+=1\n",
    "i+=1\n",
    "# 튜플메서드 - # index/count"
   ]
  },
  {
   "cell_type": "code",
   "execution_count": 52,
   "id": "e692a53d-fff1-4814-936d-651096f70849",
   "metadata": {},
   "outputs": [
    {
     "ename": "SyntaxError",
     "evalue": "invalid syntax (2651674719.py, line 4)",
     "output_type": "error",
     "traceback": [
      "\u001b[1;36m  File \u001b[1;32m\"C:\\Users\\Playdata\\AppData\\Local\\Temp\\ipykernel_8660\\2651674719.py\"\u001b[1;36m, line \u001b[1;32m4\u001b[0m\n\u001b[1;33m    print(type,,,,,,,ㅠㅠㅠㅠㅠ\u001b[0m\n\u001b[1;37m               ^\u001b[0m\n\u001b[1;31mSyntaxError\u001b[0m\u001b[1;31m:\u001b[0m invalid syntax\n"
     ]
    }
   ],
   "source": [
    "# 빈 튜플(empty tuple)\n",
    "empty_tuple = tuple()\n",
    "print(empty_tuple)\n",
    "print(type,,,,,,,ㅠㅠㅠㅠㅠ"
   ]
  },
  {
   "cell_type": "code",
   "execution_count": 58,
   "id": "60917d3b-f697-4005-b892-2ecf4c7227f4",
   "metadata": {},
   "outputs": [
    {
     "data": {
      "text/plain": [
       "generator"
      ]
     },
     "execution_count": 58,
     "metadata": {},
     "output_type": "execute_result"
    }
   ],
   "source": [
    "#제너레이터 컴프리헨션\n",
    "# generator_variable = expression for 변수 in iterable\n",
    "gen = (i for i in range(10))\n",
    "type(gen)"
   ]
  },
  {
   "cell_type": "code",
   "execution_count": 59,
   "id": "75d274cf-0996-46cb-a3a4-8cfa9555f6c8",
   "metadata": {},
   "outputs": [
    {
     "data": {
      "text/plain": [
       "tuple"
      ]
     },
     "execution_count": 59,
     "metadata": {},
     "output_type": "execute_result"
    }
   ],
   "source": [
    "tup = tuple(i for i in range(10))\n",
    "type(tup)"
   ]
  },
  {
   "cell_type": "code",
   "execution_count": 60,
   "id": "fef3f52b-3b89-434b-87af-61460ed532f2",
   "metadata": {},
   "outputs": [
    {
     "data": {
      "text/plain": [
       "list"
      ]
     },
     "execution_count": 60,
     "metadata": {},
     "output_type": "execute_result"
    }
   ],
   "source": [
    "lis = list(i for i in range(10))\n",
    "type(lis)"
   ]
  },
  {
   "cell_type": "code",
   "execution_count": 66,
   "id": "70c66316-7ea5-4bff-8fe2-216a19daa044",
   "metadata": {},
   "outputs": [
    {
     "name": "stdout",
     "output_type": "stream",
     "text": [
      "['alpha', 'bravo', 'delta', 'hotel', 'india']\n"
     ]
    }
   ],
   "source": [
    "#리스트에서 특정 요소만 뽑아내기\n",
    "a = ['alpha', 'bravo', 'charlie', 'delta', 'echo', 'foxtrot', 'golf', 'hotel', 'india']\n",
    "b= [i for i in a if len(i) == 5]\n",
    "print(b)"
   ]
  },
  {
   "cell_type": "code",
   "execution_count": 67,
   "id": "2acfc319-e121-4a6b-90c8-0c5ada77ec79",
   "metadata": {},
   "outputs": [
    {
     "name": "stdout",
     "output_type": "stream",
     "text": [
      "['alpha', 'bravo', 'delta', 'hotel', 'india']\n"
     ]
    }
   ],
   "source": [
    "a = ['alpha', 'bravo', 'charlie', 'delta', 'echo', 'foxtrot', 'golf', 'hotel', 'india']\n",
    "b= [a[i] for i in range(len(a)) if len(a[i])== 5]\n",
    "print(b)"
   ]
  },
  {
   "cell_type": "code",
   "execution_count": 97,
   "id": "b23301e0-3525-4afc-9d5c-096cf11a513f",
   "metadata": {},
   "outputs": [
    {
     "name": "stdin",
     "output_type": "stream",
     "text": [
      "정수 두 개 입력 하세요 10 20\n"
     ]
    },
    {
     "name": "stdout",
     "output_type": "stream",
     "text": [
      "[1024, 4096, 8192, 16384, 32768, 65536, 131072, 262144, 1048576]\n"
     ]
    }
   ],
   "source": [
    "# 사용자가 공백을 구분자로 정수 두개를 입력\n",
    "# 첫번째 입력값의 범위는 1-20\n",
    "#두번째 입력값의 범위는 1-30\n",
    "#첫번째 입력값은 두번째 입력값보다 항상 적다\n",
    "#첫번째 정수부터 두번째 정수까지를 지수로 하는 2의 거듭제곱리스트를 출력\n",
    "#리스트의 두번째 요소와 두번째 요소는 삭제한 뒤 출력\n",
    "while True:\n",
    "    num = input(\"정수 두 개 입력 하세요\").split() #'10 20'\n",
    "    if int(num[0]) < 1 and int(num[0]) > 20:\n",
    "        print(\"첫번째 값의 범위는 1 ~ 20 입니다.\")\n",
    "    elif int(num[1]) < 10 and int(num[1]) > 30:\n",
    "        print(\"두번째 값의 범위는 10~30 입니다.\")\n",
    "    elif int(num[0]) >= int(num[1]):\n",
    "        print(\"첫번째 입력 값은 두번째 입력 값보다 작게 입력하세요.\")\n",
    "    else:\n",
    "        power=[2**i for i in range(int(num[0]), int(num[1])+1)]\n",
    "        del power[1]\n",
    "        del power[-2]\n",
    "        print(power)\n",
    "        break"
   ]
  },
  {
   "cell_type": "code",
   "execution_count": 92,
   "id": "5016cf28-fded-42c4-9753-4d7626956eac",
   "metadata": {},
   "outputs": [
    {
     "name": "stdin",
     "output_type": "stream",
     "text": [
      "정수 두 개 입력하세요 10 20\n"
     ]
    },
    {
     "name": "stdout",
     "output_type": "stream",
     "text": [
      "[1024, 4096, 8192, 16384, 32768, 65536, 131072, 262144, 1048576]\n"
     ]
    }
   ],
   "source": [
    "while True:\n",
    "    num1,num2 = map(int,input(\"정수 두 개 입력하세요\").split(\" \"))\n",
    "# 입력값은 99 1, 10 1, 20 10, 10 20 순서\n",
    "    if 0 < num1 < 21:\n",
    "        pass\n",
    "    else:\n",
    "        print(\"첫번째 값의 범위는 1~20입니다.\\n다시 입력하세요.\")\n",
    "        continue\n",
    "    if 9 < num2 < 31:\n",
    "        pass\n",
    "    else:\n",
    "        print(\"두번째 값의 범위는 10~30입니다.\\n다시 입력하세요.\")\n",
    "        continue\n",
    "    if num1 > num2:\n",
    "        print(\"첫 번째 입력 값은 두 번째 값보다 작게 입력하세요.\\n다시 입력하세요.\")\n",
    "        continue\n",
    "    if 0 < num1 < 21 and 9 < num2 < 31:\n",
    "        lis = [2**i for i in range(num1,num2+1)]\n",
    "        del lis[1]\n",
    "        del lis[-2]\n",
    "        print(lis)\n",
    "        break"
   ]
  },
  {
   "cell_type": "code",
   "execution_count": null,
   "id": "ba543552-4f29-4436-97b6-03e7a87a9d79",
   "metadata": {},
   "outputs": [],
   "source": []
  }
 ],
 "metadata": {
  "kernelspec": {
   "display_name": "Python 3 (ipykernel)",
   "language": "python",
   "name": "python3"
  },
  "language_info": {
   "codemirror_mode": {
    "name": "ipython",
    "version": 3
   },
   "file_extension": ".py",
   "mimetype": "text/x-python",
   "name": "python",
   "nbconvert_exporter": "python",
   "pygments_lexer": "ipython3",
   "version": "3.9.13"
  }
 },
 "nbformat": 4,
 "nbformat_minor": 5
}
