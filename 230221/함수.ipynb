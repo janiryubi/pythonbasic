{
 "cells": [
  {
   "cell_type": "code",
   "execution_count": 1,
   "id": "383886fc-1c9b-422d-8424-8df22b7c8432",
   "metadata": {},
   "outputs": [],
   "source": [
    "# .sort = 반환값X / sorted() = 반환값o"
   ]
  },
  {
   "cell_type": "code",
   "execution_count": 2,
   "id": "dc8a8464-2591-4937-8c8d-9a5bec1b1a28",
   "metadata": {},
   "outputs": [],
   "source": [
    "#메인코드\n",
    "#x=함수명(인수,인수,,,) #argument\n",
    "#print(\"결과 값:\",X)\n",
    "\n",
    "#함수정의부\n",
    "#def(define) 함수명 - 변수명_(인자,인자): #parameter\n",
    "#    함수코드...\n",
    "#    return 반환값\n",
    "#argument -> parameter로 전달됨\n",
    "# 함수를 호출한 곳에 return"
   ]
  },
  {
   "cell_type": "code",
   "execution_count": 3,
   "id": "28b3579c-09eb-4f0b-89a2-dc961a2a646c",
   "metadata": {},
   "outputs": [],
   "source": [
    "#함수란 반복 사용되는 코드를 용도에 맞게 함수 바디에 모아두고 재사용 가능하도록 호출 가능하게 만든 것\n",
    "# 코드의 중복을 줄일 수 있어 유지보수에 좋음\n",
    "#print(), len(),list(),reversed()등"
   ]
  },
  {
   "cell_type": "code",
   "execution_count": 4,
   "id": "aa774b71-f656-4b9a-99c7-97b292f658f8",
   "metadata": {},
   "outputs": [],
   "source": [
    "#함수(Function) VS 메서드(method) 클래스 포함 여부\n",
    "# 함수는 클래스에 포함되지 않은 채로 사용\n",
    "# 함수명((인수1),(인수2),...)\n",
    "#메서드는 클래스에 포함되어 객체를 통해 호출\n",
    "#객체.메서드명((인수1),(인수2)...)"
   ]
  },
  {
   "cell_type": "code",
   "execution_count": 5,
   "id": "8f33ade0-2106-4eec-9f79-a07d1e3d1494",
   "metadata": {},
   "outputs": [],
   "source": [
    "#함수의 정의(define)\n",
    "# 미리 정의해둔 정의절을 실행해야 호출 가능\n",
    "\n",
    "#def 함수_이름(위치_인자,위치_인자2,*가변_위치, 키워드_인자,키워드_인자2,**가변_키워드):\n",
    "    # print(dd, dd, dd, d, sep = \",\", end=\"\\t\") ← print가 대표적인 함수\n",
    "    #\"\"\"\n",
    "\n",
    "    #Doc String을 적는 곳입니다.(설명)\n",
    "\n",
    "    #작성자:이기수\n",
    "    #작성일자:2020.02.03\n",
    "\n",
    "    #\"\"\"\n",
    "    #함수의 바디\n",
    "    #함수의 바디\n",
    "\n",
    "    #return 반환값\n",
    "    \n",
    "def print_ten():\n",
    "    \"\"\"print(\"hello\")를 열번 출력합니다.\"\"\"\n",
    "    for _ in range(10):\n",
    "        print(\"hello\")"
   ]
  },
  {
   "cell_type": "code",
   "execution_count": 6,
   "id": "ab1aee5d-69c6-4f80-9c51-6e4572090461",
   "metadata": {},
   "outputs": [
    {
     "name": "stdout",
     "output_type": "stream",
     "text": [
      "hello\n",
      "hello\n",
      "hello\n",
      "hello\n",
      "hello\n",
      "hello\n",
      "hello\n",
      "hello\n",
      "hello\n",
      "hello\n"
     ]
    }
   ],
   "source": [
    "print_ten()"
   ]
  },
  {
   "cell_type": "code",
   "execution_count": 7,
   "id": "cc352b82-97e4-4d60-8d23-789748ac7bde",
   "metadata": {},
   "outputs": [
    {
     "name": "stdout",
     "output_type": "stream",
     "text": [
      "print(\"hello\")를 열번 출력합니다.\n"
     ]
    }
   ],
   "source": [
    "print(print_ten.__doc__)"
   ]
  },
  {
   "cell_type": "code",
   "execution_count": 8,
   "id": "e38db652-829d-47ea-91a4-f94f676e75e1",
   "metadata": {},
   "outputs": [
    {
     "name": "stdout",
     "output_type": "stream",
     "text": [
      "print(value, ..., sep=' ', end='\\n', file=sys.stdout, flush=False)\n",
      "\n",
      "Prints the values to a stream, or to sys.stdout by default.\n",
      "Optional keyword arguments:\n",
      "file:  a file-like object (stream); defaults to the current sys.stdout.\n",
      "sep:   string inserted between values, default a space.\n",
      "end:   string appended after the last value, default a newline.\n",
      "flush: whether to forcibly flush the stream.\n"
     ]
    }
   ],
   "source": [
    "print(print.__doc__)"
   ]
  },
  {
   "cell_type": "code",
   "execution_count": 9,
   "id": "13fd5b2a-66e2-40d9-96e3-a9949aa975c1",
   "metadata": {},
   "outputs": [],
   "source": [
    "def print_ten(some_str):\n",
    "    \"\"\"print(\"hello\")를 열번 출력합니다.\"\"\"\n",
    "    for _ in range(10):\n",
    "        print(some_str)"
   ]
  },
  {
   "cell_type": "code",
   "execution_count": 10,
   "id": "fc2b72f6-c375-4d14-8a85-5012c51f1c0c",
   "metadata": {},
   "outputs": [
    {
     "name": "stdout",
     "output_type": "stream",
     "text": [
      "문자열\n",
      "문자열\n",
      "문자열\n",
      "문자열\n",
      "문자열\n",
      "문자열\n",
      "문자열\n",
      "문자열\n",
      "문자열\n",
      "문자열\n"
     ]
    }
   ],
   "source": [
    "print_ten(\"문자열\")"
   ]
  },
  {
   "cell_type": "code",
   "execution_count": 11,
   "id": "8c812ef6-5244-4a48-9dfb-c2c2ce56d74f",
   "metadata": {},
   "outputs": [],
   "source": [
    "#함수의 정의 -인자(parameter)\n",
    "# 함수(또는 메서드) 정의에서 함수가 받을 수 있는 변수\n",
    "#함수인자, 매개변수\n",
    "#함수 정의절에서 소괄호 안에 정의\n",
    "\n",
    "#종류\n",
    "#위치-키워드(Positional or keyword):위치로 혹은 키워드로 전달될 수 있는 인자, 매개변수의 기본 형태\n",
    "#위치전용(Positional-only):/문자를 기준으로 좌측에 위치한 인자\n",
    "#키워드전용(keyword-only):*문자를 기준으로 우측에 위치한 인자\n",
    "#가변위치(var Positional):위치 매개변수 외에 추가적인 위치 매개변수를 개수에 상관없이 받을 수 있음. 변수명 앞에 *를 하나 붙여 표기 - packing\n",
    "#가변키워드(var keyword):키워드 매개변수외에 추가적인 키워드 매개변수를 개수에 상관없이 받을 수 있음. 변수명 앞에 **를 두개 붙여 표기"
   ]
  },
  {
   "cell_type": "code",
   "execution_count": 12,
   "id": "0a8588e4-6053-43db-b8c0-cb2bd2db96c5",
   "metadata": {},
   "outputs": [
    {
     "name": "stdout",
     "output_type": "stream",
     "text": [
      "파이썬씨 안녕하세요. 약 11688.0일 되었습니다.\n"
     ]
    }
   ],
   "source": [
    "#argument? parameter?\n",
    "#parameters 함수 정의절에서 사용하는 이름\n",
    "#arguments 함수를 호출할 때 함수에 전달하는 실제 값\n",
    "# #parameters는 어떤 종류의 arguments를 받을지 정의한다\n",
    "\n",
    "#함수 정의\n",
    "def greeting(name,age): #name,age parameters\n",
    "    print(f\"{name}씨 안녕하세요. 약 {age * 365.25}일 되었습니다.\")\n",
    "#함수 호출\n",
    "greeting(\"파이썬\",32) #\"파이썬\",32 arguments\n",
    "          "
   ]
  },
  {
   "cell_type": "code",
   "execution_count": 13,
   "id": "b9f4122e-5aaf-40a6-b189-366ada8b541d",
   "metadata": {},
   "outputs": [],
   "source": [
    "#함수정의 -위치-키워드 인자(Positional or keyword parameters)\n",
    "#위치인수(Positional arguments)와 키워드 인수(keyword arguments)를 받을 수 있는 인자\n",
    "#위의 예제"
   ]
  },
  {
   "cell_type": "code",
   "execution_count": 14,
   "id": "ac8fb02e-78b0-4dee-a7f7-ba2f9b520ec4",
   "metadata": {},
   "outputs": [
    {
     "name": "stdout",
     "output_type": "stream",
     "text": [
      "파이썬씨 안녕하세요. 약 11688.0일 되었습니다.\n"
     ]
    }
   ],
   "source": [
    "def greeting(name,age): #name,age parameters - 기본값(default)설정X\n",
    "    print(f\"{name}씨 안녕하세요. 약 {age * 365.25}일 되었습니다.\")\n",
    "#함수 호출\n",
    "greeting( \"파이썬\",32) #\"파이썬\",32 arguments - 위치인수만으로 호출 시에는 순서 중요\n",
    "        #인수 없이 호출 시에는 에러!()\n",
    "#TypeError: greeting() missing 2 required positional arguments: 'name' and 'age'\n",
    "        \n",
    "        #32,\"파이썬\"\n",
    "#TypeError: can't multiply sequence by non-int of type 'float'\n",
    "#위치 인수를 순서 상관있게\n",
    "\n",
    "  #  age = 32,name = \"파이썬\"\n",
    "    #키워드 인수만으로 호출, 키워드 인수 활용하면 순서 상관없이 호출 가능(like dictonary)\n",
    "    \n",
    "    #name = \"파이썬\",32 -여쭤보기!\n",
    "    #\"파이썬\",age =32 -이게 맞는 것!\n",
    "#함수 호출 시 소괄호 안에 positional arguments먼저, keyword arguments후에 작성\n",
    "#기본값을 갖는 default parameter는 기본값을 갖지 않는 non-default parameter보다 뒤에 작성해야 한다."
   ]
  },
  {
   "cell_type": "code",
   "execution_count": 15,
   "id": "a2192b5d-5c72-48a7-aa72-3e9a701d3cda",
   "metadata": {},
   "outputs": [],
   "source": [
    "#함수정의 -위치전용(Positional-only parameters)\n",
    "def posonly(posonly,/): #/를 쓰면 위치만 쓰도록 강제\n",
    "    print(posonly)"
   ]
  },
  {
   "cell_type": "code",
   "execution_count": 16,
   "id": "bb250441-5162-46a2-94d0-2260f4a402b5",
   "metadata": {},
   "outputs": [
    {
     "name": "stdout",
     "output_type": "stream",
     "text": [
      "값만 입력해야 합니다.\n"
     ]
    }
   ],
   "source": [
    "posonly(\"값만 입력해야 합니다.\")"
   ]
  },
  {
   "cell_type": "code",
   "execution_count": 17,
   "id": "ca430ca6-72ea-4c92-b7d2-2ad04af01b34",
   "metadata": {},
   "outputs": [],
   "source": [
    "#posonly(posonly = \"키워드 인수로 전달하면 오류 발생!\")\n",
    "#TypeError: posonly() got some positional-only arguments passed as keyword arguments: 'posonly'"
   ]
  },
  {
   "cell_type": "code",
   "execution_count": 18,
   "id": "a4d74569-ecc8-47ef-a59d-20ce34fa86e8",
   "metadata": {},
   "outputs": [],
   "source": [
    "#함수정의 -키워드 전용인자(keyword-only parameters)\n",
    "# *에스터리스크 인자 값으로 넣고 우측 부분에 키워드 전용 인자 선언\n",
    "def keyonly(*,keyonly = \"default\"):#기본값 설정 가능  \n",
    "    print(keyonly)"
   ]
  },
  {
   "cell_type": "code",
   "execution_count": 19,
   "id": "037eeac9-abac-4628-93f4-f314956a75ec",
   "metadata": {},
   "outputs": [
    {
     "name": "stdout",
     "output_type": "stream",
     "text": [
      "default\n"
     ]
    }
   ],
   "source": [
    "keyonly()"
   ]
  },
  {
   "cell_type": "code",
   "execution_count": 20,
   "id": "a3cd410c-6b7d-4155-be7f-1cd1c952a141",
   "metadata": {},
   "outputs": [],
   "source": [
    "def keyonly(*,keyonly): \n",
    "    print(keyonly)"
   ]
  },
  {
   "cell_type": "code",
   "execution_count": 21,
   "id": "07e20745-42aa-4d76-a8f9-611dca97388a",
   "metadata": {},
   "outputs": [
    {
     "name": "stdout",
     "output_type": "stream",
     "text": [
      "키워드로만 입력해야 합니다.\n"
     ]
    }
   ],
   "source": [
    "keyonly(keyonly = \"키워드로만 입력해야 합니다.\")\n",
    "#키워드 전용인자에 위치인수를 전달하면 오류 발생\n",
    "#keyonly(\"키워드로만 입력해야 합니다.\")\n",
    "#TypeError: keyonly() takes 0 positional arguments but 1 was given"
   ]
  },
  {
   "cell_type": "code",
   "execution_count": 22,
   "id": "89feabb7-c28d-4a15-941d-bb8ad293ac62",
   "metadata": {},
   "outputs": [],
   "source": [
    "#함수정의 - 가변위치(var Positional parameters)\n",
    "#명시된 인자 외에 추가적으로 위치 인수를 개수에 상관없이 유연하게 전달받을 수 있음\n",
    "#가변 변수로 사용할 변수명 앞에*를 하나 붙여 표기\n",
    "def var_positional(*args):\n",
    "    print(type(args))\n",
    "    return sum([_ for _ in args])"
   ]
  },
  {
   "cell_type": "code",
   "execution_count": 23,
   "id": "988d9080-4694-4d5a-b4cd-dd7a9ccf3688",
   "metadata": {},
   "outputs": [
    {
     "name": "stdout",
     "output_type": "stream",
     "text": [
      "<class 'tuple'>\n",
      "15\n"
     ]
    }
   ],
   "source": [
    "print(var_positional(1,2,3,4,5))\n",
    "#가변위치 인자에 전달할 위치인수들을 tuple로 packing한 뒤 전달\n",
    "#(1,2,3,4,5) -> *args"
   ]
  },
  {
   "cell_type": "code",
   "execution_count": 24,
   "id": "9153e54f-1a88-4689-bc9b-fe84d58b5ec1",
   "metadata": {},
   "outputs": [
    {
     "name": "stdout",
     "output_type": "stream",
     "text": [
      "<class 'tuple'>\n",
      "0\n"
     ]
    }
   ],
   "source": [
    "print(var_positional()) #가변-위치 인자에 전달할 인수 없이 호출 가능\n",
    "#변수에 값을 전달하는 인수가 아예 없어도 함수가 동작하는데 문제 없도록 함수 바디를 작성하는 것이 좋다."
   ]
  },
  {
   "cell_type": "code",
   "execution_count": 25,
   "id": "7b2411ba-4fdb-4314-93cc-2456ffc14427",
   "metadata": {},
   "outputs": [],
   "source": [
    "#함수정의 - 가변키워드(var keyword parameters)\n",
    "#명시된 인자 외에 추가적으로 키워드 인수를 개수에 상관없이 유연하게 전달 받을 수 있음\n",
    "#변수명 앞에**\n",
    "def var_keyword(**kargs):\n",
    "    print(type(kargs))\n",
    "    return kargs"
   ]
  },
  {
   "cell_type": "code",
   "execution_count": 26,
   "id": "24056339-1ed9-4e89-aef4-8df96b88beff",
   "metadata": {},
   "outputs": [
    {
     "name": "stdout",
     "output_type": "stream",
     "text": [
      "<class 'dict'>\n",
      "{'key': 'value', 'key2': 'value'}\n"
     ]
    }
   ],
   "source": [
    "print(var_keyword(key = \"value\", key2 = \"value\"))\n",
    "#가변-키워드 인자에 전달할 인수들을 dict으로 packing한 뒤 전달"
   ]
  },
  {
   "cell_type": "code",
   "execution_count": 27,
   "id": "fe7b28ed-bf02-49d6-9b39-e4ecfa64f447",
   "metadata": {},
   "outputs": [
    {
     "name": "stdout",
     "output_type": "stream",
     "text": [
      "<class 'dict'>\n",
      "{}\n"
     ]
    }
   ],
   "source": [
    "print(var_keyword())"
   ]
  },
  {
   "cell_type": "code",
   "execution_count": 28,
   "id": "ba50f060-5757-46e5-8788-ae3bd1a7e01d",
   "metadata": {},
   "outputs": [],
   "source": [
    "# return -> keyword 만나면 함수를 빠져나간다\n",
    "#if...return/else....return"
   ]
  },
  {
   "cell_type": "code",
   "execution_count": 34,
   "id": "29c479a6-2e12-4962-bff4-a31b7ac8dba8",
   "metadata": {},
   "outputs": [],
   "source": [
    "def plus_ten(A): #A는 변수\n",
    "    \"\"\"print (\"A + 10\")을 출력합니다\"\"\"\n",
    "    B = A + 10\n",
    "    print(B)\n",
    "    return(B)"
   ]
  },
  {
   "cell_type": "code",
   "execution_count": 35,
   "id": "2b5a5792-8a5e-463e-8b9e-daf350d59a49",
   "metadata": {},
   "outputs": [
    {
     "name": "stdout",
     "output_type": "stream",
     "text": [
      "80\n"
     ]
    },
    {
     "data": {
      "text/plain": [
       "80"
      ]
     },
     "execution_count": 35,
     "metadata": {},
     "output_type": "execute_result"
    }
   ],
   "source": [
    "plus_ten(70)"
   ]
  },
  {
   "cell_type": "code",
   "execution_count": 36,
   "id": "3ef3d9cd-9c42-471e-b7c2-27301ed7b6d0",
   "metadata": {},
   "outputs": [],
   "source": [
    " def plus_ten(C): #A는 변수\n",
    "    return C+10"
   ]
  },
  {
   "cell_type": "code",
   "execution_count": 37,
   "id": "53a09fac-5b49-42e4-8d03-3636d597ff63",
   "metadata": {},
   "outputs": [
    {
     "name": "stdout",
     "output_type": "stream",
     "text": [
      "80\n"
     ]
    }
   ],
   "source": [
    "print(plus_ten(70))"
   ]
  },
  {
   "cell_type": "code",
   "execution_count": null,
   "id": "37dae21a-9acd-4ed7-a65a-d5f9ff189188",
   "metadata": {},
   "outputs": [],
   "source": []
  }
 ],
 "metadata": {
  "kernelspec": {
   "display_name": "Python 3 (ipykernel)",
   "language": "python",
   "name": "python3"
  },
  "language_info": {
   "codemirror_mode": {
    "name": "ipython",
    "version": 3
   },
   "file_extension": ".py",
   "mimetype": "text/x-python",
   "name": "python",
   "nbconvert_exporter": "python",
   "pygments_lexer": "ipython3",
   "version": "3.9.13"
  }
 },
 "nbformat": 4,
 "nbformat_minor": 5
}
