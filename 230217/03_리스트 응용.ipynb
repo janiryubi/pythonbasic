{
 "cells": [
  {
   "cell_type": "code",
   "execution_count": 1,
   "id": "5936d697-1b17-45d2-b3e2-404c842e0086",
   "metadata": {},
   "outputs": [],
   "source": [
    "# 인덱스오ㅘ 딕셔너리의 차이\n",
    "#줄 서있는데 이름을 몰라서 위치로 찾는 것과 흩어져있는데 이름을 알아서 호명하는 것"
   ]
  },
  {
   "cell_type": "code",
   "execution_count": 7,
   "id": "701b3087-7484-4e43-a953-bc924ba6e668",
   "metadata": {},
   "outputs": [
    {
     "name": "stdout",
     "output_type": "stream",
     "text": [
      "<class 'list'>\n",
      "[48, 48, 33, 95]\n"
     ]
    }
   ],
   "source": [
    "# 리스트 생성 방법 - 대괄호 사용\n",
    "# 리스트 구성요소는 콤마로 구분\n",
    "# 자료형 : class list - list클래스로 만들어진 객체\n",
    "list_a = [48,48,33,95]\n",
    "print(type(list_a))\n",
    "print(list_a)\n",
    "#class(자동차 공장) --메서드(전진, 시동)하는 기능을 넣는다 -> 자동차 - 객체\n",
    "#class별 list를 만들 수 있는 메서드는 각자 제한되어 있다/class 별로 메서드가 정의되어 있음\n",
    "# 메모리안에 데이터를 가진 것이 객체"
   ]
  },
  {
   "cell_type": "code",
   "execution_count": 6,
   "id": "a001cb56-b215-4580-806e-aca84a8e8a0b",
   "metadata": {},
   "outputs": [
    {
     "name": "stdout",
     "output_type": "stream",
     "text": [
      "[]\n",
      "<class 'list'>\n",
      "()\n",
      "<class 'tuple'>\n"
     ]
    }
   ],
   "source": [
    "# 빈 리스트 생성 대괄호만 / 인자 없이 list함수\n",
    "empty_list = []\n",
    "print(empty_list)\n",
    "print(type(empty_list))\n",
    "empty_list = ()\n",
    "print(empty_list)\n",
    "print(type(empty_list))"
   ]
  },
  {
   "cell_type": "code",
   "execution_count": 8,
   "id": "bb2135e0-234c-45dc-9c5e-0f46dc182bda",
   "metadata": {},
   "outputs": [
    {
     "name": "stdin",
     "output_type": "stream",
     "text": [
      "숫자를 띄어쓰기로 구분하여 여럿 입력해보세요. 1 2 3 4\n"
     ]
    },
    {
     "name": "stdout",
     "output_type": "stream",
     "text": [
      "<class 'list'>\n",
      "[1, 2, 3, 4]\n"
     ]
    }
   ],
   "source": [
    "# 리스트 생성 방법 - 문자열.split()\n",
    "#사용자로부터 값을 받고(input)\n",
    "#받은 문자열을 공백을 구분자로 나눠(split) 리스트로 만들고\n",
    "#각각 요소를 정수형(int)으로 만들기 위해 map을 사용하여 \n",
    "#map클래스를 반환한 것을 \n",
    "#list로 변환\n",
    "\n",
    "list_b = list(map(int,input(\"숫자를 띄어쓰기로 구분하여 여럿 입력해보세요.\").split()))\n",
    "print(type(list_b))\n",
    "print(list_b)\n",
    "\n",
    "# for i in list 객체\n",
    "# a.append"
   ]
  },
  {
   "cell_type": "code",
   "execution_count": 16,
   "id": "4af4f75a-9577-4b0c-a135-cfee50f0e3ee",
   "metadata": {},
   "outputs": [],
   "source": [
    "#리스트 컴프리헨션(comprehension)\n",
    "# 대괄호 안에 ([])안에 표현식과 for문을 작성하여 사용할 수 있음\n",
    "#list[01,2,3,...,9]\n",
    "list_variable = [i**2 for i in list(range(10))] # [expression for 변수 in iterable] \n",
    "\n",
    "\n",
    "# 반복가능한 객체(iterable)로부터 값을 하나 가져와서 변수에 담는다\n",
    "# 요소를 담은 변수를 활용하여 표현식(expression)실행(변수는 활용하지 않을 수도 있음)\n",
    "# 표현식 결과 값을 리스트 요소에 넣음\n",
    "# 반복가능한 객체(iterable)로부터 값이 없을 때까지 1-3과정 반복"
   ]
  },
  {
   "cell_type": "code",
   "execution_count": 10,
   "id": "82c059f7-4869-41d8-9507-a3fbbf9380c9",
   "metadata": {},
   "outputs": [
    {
     "name": "stdout",
     "output_type": "stream",
     "text": [
      "[1, 2, 3, 4, 5, 6, 7, 8, 9]\n"
     ]
    }
   ],
   "source": [
    "list_c = [i for i in range(1,10)]\n",
    "print(list_c)"
   ]
  },
  {
   "cell_type": "code",
   "execution_count": 14,
   "id": "03a1a78a-7a44-4b0d-b967-d134d6404bf3",
   "metadata": {},
   "outputs": [
    {
     "name": "stdout",
     "output_type": "stream",
     "text": [
      "<class 'list'>\n",
      "[1, 4, 9, 16, 25, 36, 49, 64, 81]\n"
     ]
    }
   ],
   "source": [
    "prac_result = [i**2 for i in range(1,10)]\n",
    "print(type(prac_result))\n",
    "print(prac_result)"
   ]
  },
  {
   "cell_type": "code",
   "execution_count": 22,
   "id": "f811092b-1604-48f6-b383-a2dde1753be9",
   "metadata": {},
   "outputs": [
    {
     "name": "stdout",
     "output_type": "stream",
     "text": [
      "[1, 3, 5, 7, 9]\n"
     ]
    }
   ],
   "source": [
    "#1-9까지의 수 중 홀수만 갖는 리스트\n",
    "prac_result2 = [i for i in range(1,10,2)]\n",
    "print(prac_result2)\n",
    "# range로 숫자를 홀수로 만들어보세요~"
   ]
  },
  {
   "cell_type": "code",
   "execution_count": 29,
   "id": "d1ae8eb6-e580-4b1e-b7e8-8c4ff3f8189f",
   "metadata": {},
   "outputs": [
    {
     "name": "stdout",
     "output_type": "stream",
     "text": [
      "['a', 'b', 'c', 'd', 'e', 'f', 'g', 'h', 'i', 'j']\n"
     ]
    }
   ],
   "source": [
    "# a부터 z까지 순서대로 알파벳 문자열을 갖는 리스트\n",
    "prac_result3 = [i for i in 'abcdefghij']\n",
    "print(prac_result3)"
   ]
  },
  {
   "cell_type": "code",
   "execution_count": 37,
   "id": "64be0d6f-5686-4f00-8c6b-b9131b3b1781",
   "metadata": {},
   "outputs": [
    {
     "name": "stdout",
     "output_type": "stream",
     "text": [
      "['2', '3', '4', '5', '6', '7', '8', '9', '10', 'J', 'Q', 'K', 'A']\n"
     ]
    }
   ],
   "source": [
    "#2부터 10까지 숫자 리스트, 'j','q','k','a를 갖는 리스트를 만들어 합쳐라\n",
    "#문자열 'jqka'를 만들어 활용\n",
    "# 숫자를 문자열로 만드는 함수는 str(숫자)\n",
    "prac_result4 = [str(i) for i in range(2,11)] + [i for i in 'JQKA']\n",
    "print(prac_result4)"
   ]
  },
  {
   "cell_type": "code",
   "execution_count": 38,
   "id": "b81e54f3-5a0b-4c7d-a0ed-60b7f6e15e26",
   "metadata": {},
   "outputs": [
    {
     "name": "stdout",
     "output_type": "stream",
     "text": [
      "['2', '3', '4', '5', '6', '7', '8', '9', '10', 'J', 'Q', 'K', 'A']\n"
     ]
    }
   ],
   "source": [
    "prac_result4 = [str(i) for i in range(2,11)]\n",
    "prac_result4.extend([i for i in 'JQKA'])\n",
    "print(prac_result4)"
   ]
  },
  {
   "cell_type": "code",
   "execution_count": 46,
   "id": "434c1675-21b3-472a-ad07-d54b85137ed1",
   "metadata": {},
   "outputs": [
    {
     "name": "stdout",
     "output_type": "stream",
     "text": [
      "[['2', '3', '4', '5', '6', '7', '8', '9', '10', 'J', 'Q', 'K', 'A'], ['2', '3', '4', '5', '6', '7', '8', '9', '10', 'J', 'Q', 'K', 'A'], ['2', '3', '4', '5', '6', '7', '8', '9', '10', 'J', 'Q', 'K', 'A'], ['2', '3', '4', '5', '6', '7', '8', '9', '10', 'J', 'Q', 'K', 'A']]\n"
     ]
    }
   ],
   "source": [
    "# prac_result4를 4개 요소로 갖는 리스트\n",
    "prac_result5 = [prac_result4 for i in range(1,5)]\n",
    "print(prac_result5)"
   ]
  },
  {
   "cell_type": "code",
   "execution_count": 47,
   "id": "bcae1396-7037-41b9-8345-454a28c1d871",
   "metadata": {},
   "outputs": [
    {
     "name": "stdout",
     "output_type": "stream",
     "text": [
      "[['2', '3', '4', '5', '6', '7', '8', '9', '10', 'J', 'Q', 'K', 'A'], ['2', '3', '4', '5', '6', '7', '8', '9', '10', 'J', 'Q', 'K', 'A'], ['2', '3', '4', '5', '6', '7', '8', '9', '10', 'J', 'Q', 'K', 'A'], ['2', '3', '4', '5', '6', '7', '8', '9', '10', 'J', 'Q', 'K', 'A']]\n"
     ]
    }
   ],
   "source": [
    "# prac_result4를 4개 요소로 갖는 리스트\n",
    "prac_result5 = [prac_result4 for _ in range(4)]\n",
    "print(prac_result5)"
   ]
  },
  {
   "cell_type": "code",
   "execution_count": 49,
   "id": "7ab11b6d-c4b4-4c31-bc00-919243641396",
   "metadata": {},
   "outputs": [
    {
     "name": "stdout",
     "output_type": "stream",
     "text": [
      "['two', '3', '4', '5', '6', '7', '8', '9', '10', 'J', 'Q', 'K', 'A']\n",
      "[['two', '3', '4', '5', '6', '7', '8', '9', '10', 'J', 'Q', 'K', 'A'], ['two', '3', '4', '5', '6', '7', '8', '9', '10', 'J', 'Q', 'K', 'A'], ['two', '3', '4', '5', '6', '7', '8', '9', '10', 'J', 'Q', 'K', 'A'], ['two', '3', '4', '5', '6', '7', '8', '9', '10', 'J', 'Q', 'K', 'A']]\n"
     ]
    }
   ],
   "source": [
    "# 객체를 담는 변수의 특징\n",
    "#prac_result4 를 4번 반복해서 prac_result5에 넣었을 때, prac_result5의 각각의 요소는 어떤 특징?\n",
    "prac_result4[0]  = 'two'\n",
    "print(prac_result4)\n",
    "print(prac_result5)"
   ]
  },
  {
   "cell_type": "code",
   "execution_count": 50,
   "id": "0edb2eeb-8681-4dc0-a123-67305387f7c9",
   "metadata": {},
   "outputs": [],
   "source": [
    "# 객체를 담는 변수의 특징\n",
    "# prac_result4변수에 담긴 객체 위치를 prac_result5의 리스트 요소 값으로 복사한 것\n",
    "#즉, prac_result5의 모든 요소가 prac_result4 변수가 갖고 있던 메모리상 객체의 위치, 즉 주소를 복사했다.\n",
    "# 메모리에는 고유한 주소를 가진다. 주소를 통해 접근 가능.\n",
    "# prac_result4 =prac_result5[0]=prac_result5[1]=prac_result5[2]=prac_result5[3]"
   ]
  },
  {
   "cell_type": "code",
   "execution_count": 52,
   "id": "234ade4b-2b13-48fa-ac30-f6d82b2572ab",
   "metadata": {},
   "outputs": [
    {
     "name": "stdout",
     "output_type": "stream",
     "text": [
      "prac_result4의 id: 2582345375296\n",
      "prac_result5[0] : 2582345375296\n",
      "prac_result5[1] : 2582345375296\n",
      "prac_result5[2] : 2582345375296\n",
      "prac_result5[3] : 2582345375296\n"
     ]
    }
   ],
   "source": [
    "# id()내장함수\n",
    "#객체마다 구분할 수 있는 고유한 정수 값(메모리 주소)를 조회할 수 있는 함수\n",
    "#id로 가져온 정수 값이 같다면 같은 객체\n",
    "# 변수와 모든 요소들이 같은 메모리상의 객체 바라본다\n",
    "#인덱스 값을 동시에 보려고 하는 것 enumerate\n",
    "print(\"prac_result4의 id:\", id(prac_result4))\n",
    "for i, v in enumerate(prac_result5):\n",
    "    print(\"prac_result5[\",i,\"] : \",id(v),sep=\"\")"
   ]
  },
  {
   "cell_type": "code",
   "execution_count": 55,
   "id": "5f0b7b6e-5aa4-4357-b0c0-8a95c8d82a77",
   "metadata": {},
   "outputs": [
    {
     "name": "stdout",
     "output_type": "stream",
     "text": [
      "prac_result4의 id: 2582345375296\n",
      "prac_result6[0] : 2582345411136\n",
      "prac_result6[1] : 2582345412224\n",
      "prac_result6[2] : 2582345413632\n",
      "prac_result6[3] : 2582345413440\n"
     ]
    }
   ],
   "source": [
    "# 기존리스트의 전체 범위의 슬라이싱 결과는 새로운 객체\n",
    "#리스트 변수명[:]으로 전체를 동일하게 가져오는\n",
    "#슬라이싱으로 반환받는 리스트 객체는 다른 객체 \n",
    "#각각 다른 메모리로 저장되어 있다.\n",
    "#list외에도 tuple/str의 경우, 불변이지만, 슬라이싱을 하면 기존 메모리가 아닌 새로운 메모리로 만들어지는 것\n",
    "prac_result6 = [prac_result4[:]for _ in range(4)]\n",
    "print(\"prac_result4의 id:\", id(prac_result4))\n",
    "for i, v in enumerate(prac_result6):\n",
    "     print(\"prac_result6[\",i,\"] : \",id(v),sep=\"\")"
   ]
  },
  {
   "cell_type": "code",
   "execution_count": 56,
   "id": "76bd7bdd-27ea-4530-8fa1-ff576ef028ed",
   "metadata": {},
   "outputs": [
    {
     "ename": "SyntaxError",
     "evalue": "invalid syntax (1758080480.py, line 2)",
     "output_type": "error",
     "traceback": [
      "\u001b[1;36m  File \u001b[1;32m\"C:\\Users\\Playdata\\AppData\\Local\\Temp\\ipykernel_10960\\1758080480.py\"\u001b[1;36m, line \u001b[1;32m2\u001b[0m\n\u001b[1;33m    리스트변수[:] ->새로운 객체를 만들어 반환한다, 전체범위라고 하더라도\u001b[0m\n\u001b[1;37m             ^\u001b[0m\n\u001b[1;31mSyntaxError\u001b[0m\u001b[1;31m:\u001b[0m invalid syntax\n"
     ]
    }
   ],
   "source": [
    "# 리스트 전체 범위 slicing을 통한 리스트 복사\n",
    "# 리스트변수[:] ->새로운 객체를 만들어 반환한다, 전체범위라고 하더라도"
   ]
  },
  {
   "cell_type": "code",
   "execution_count": 59,
   "id": "f04321a8-24de-4af9-b791-cb62d68abd66",
   "metadata": {},
   "outputs": [
    {
     "name": "stdout",
     "output_type": "stream",
     "text": [
      "2582346185088\n",
      "2582345379904\n",
      "False\n",
      "True\n"
     ]
    }
   ],
   "source": [
    "#old리스트를 만들어 변수에 담습니다.\n",
    "#슬라이싱을 통해 old_list 객체 전체를 그래도 복사해서 새로운 변수 new_list에 담아보세요. \n",
    "# 그리고 그 둘의 id()를 비교해보고 is연산자를 통해 객체 간 비교를 해보고 == 연산자를 통해 비교한 결과를 확인해보세요.\n",
    "#[1,2,3,4,5,6,7,8,9]\n",
    "old_list = list(range(10))\n",
    "new_list = old_list[:]\n",
    "\n",
    "print(id(old_list))\n",
    "print(id(new_list))\n",
    "#is 연산자와 ==연산자의 비교\n",
    "print(old_list is new_list) #주소끼리 비교\n",
    "print(old_list == new_list) #값만 비교"
   ]
  },
  {
   "cell_type": "code",
   "execution_count": 61,
   "id": "dc7a01ee-4981-4333-8478-8f062e21d26a",
   "metadata": {},
   "outputs": [
    {
     "name": "stdout",
     "output_type": "stream",
     "text": [
      "2582346109760\n",
      "2582346109760\n",
      "True\n",
      "True\n"
     ]
    }
   ],
   "source": [
    "# tuple, str의 경우, is 연산자의 결과가 다를 수 있다\n",
    "#불변의 특징이 있기에, 그대로 재사용할 수도 있음\n",
    "old_tuple = tuple(range(10))\n",
    "new_tuple = old_tuple[:]\n",
    "print(id(old_tuple))\n",
    "print(id(new_tuple))\n",
    "#is 연산자와 ==연산자의 비교\n",
    "print(old_tuple is new_tuple) #주소끼리 비교\n",
    "print(old_tuple == new_tuple) #값만 비교"
   ]
  },
  {
   "cell_type": "code",
   "execution_count": 62,
   "id": "ad040d63-6497-4c65-b601-5ff8c3fa1875",
   "metadata": {},
   "outputs": [],
   "source": [
    "#####old_str = \"abcd\"일 경우, ?!"
   ]
  },
  {
   "cell_type": "code",
   "execution_count": 65,
   "id": "649f0521-5b22-4824-ac94-76e3769288f4",
   "metadata": {},
   "outputs": [
    {
     "ename": "IndentationError",
     "evalue": "unexpected indent (1860555894.py, line 4)",
     "output_type": "error",
     "traceback": [
      "\u001b[1;36m  File \u001b[1;32m\"C:\\Users\\Playdata\\AppData\\Local\\Temp\\ipykernel_10960\\1860555894.py\"\u001b[1;36m, line \u001b[1;32m4\u001b[0m\n\u001b[1;33m    print(list_d)\u001b[0m\n\u001b[1;37m    ^\u001b[0m\n\u001b[1;31mIndentationError\u001b[0m\u001b[1;31m:\u001b[0m unexpected indent\n"
     ]
    }
   ],
   "source": [
    "#리스트 컴프리헨션(comprehension)\n",
    "# 대괄호 대신 리스트함수 사용\n",
    "####list_d = list(i**3 for i in list(range(10)))\n",
    "             ##33pprint(list_d)"
   ]
  },
  {
   "cell_type": "code",
   "execution_count": 66,
   "id": "fc64f89f-9b90-4741-a400-a6ec5e6113de",
   "metadata": {},
   "outputs": [
    {
     "data": {
      "text/plain": [
       "list"
      ]
     },
     "execution_count": 66,
     "metadata": {},
     "output_type": "execute_result"
    }
   ],
   "source": [
    "#리스트 변수를 할당해서 복사ㅏ하는 경우,변수를 다른 변수에 대입하면 메모리 주소만 복사함\n",
    "# 객체가 아예 같다고 나오는 것을 확인할 수 있다\n",
    "# list_e = [i for i in range(10)]\n",
    "# print\n",
    "# 예제 정리 필요"
   ]
  },
  {
   "cell_type": "code",
   "execution_count": 69,
   "id": "d6596748-4dd5-4df7-adb5-b38806f8c0a8",
   "metadata": {},
   "outputs": [
    {
     "name": "stdout",
     "output_type": "stream",
     "text": [
      "2582345398336\n",
      "2582346184704\n",
      "False\n"
     ]
    }
   ],
   "source": [
    "# 리스트 복사(copy()메서드)\n",
    "# 리스트 객체를 새롭게 복사, 반환 값은 새로운 객체\n",
    "# 두 리스트는 서로 다름\n",
    "list_g = list(range(10))\n",
    "list_h = list_g.copy()\n",
    "print(id(list_g))\n",
    "print(id(list_h))\n",
    "print(list_g is list_h)"
   ]
  },
  {
   "cell_type": "code",
   "execution_count": 71,
   "id": "881aac83-5dda-4ead-be5e-df98a661e7e4",
   "metadata": {},
   "outputs": [
    {
     "name": "stdout",
     "output_type": "stream",
     "text": [
      "[999, 1, 2, 3, 4, 5, 6, 7, 8, 9]\n",
      "[0, 1, 2, 3, 4, 5, 6, 7, 8, 9]\n"
     ]
    }
   ],
   "source": [
    "#list_g의 요소를 변경했을 대,\n",
    "#list_h에 영향이 없음\n",
    "#즉, copy()는 리스트를 슬라이싱 한 것과 같이 객체 자체를 새로운 메모리 공간에 복사한다.\n",
    "list_g[0] = 999\n",
    "print(list_g)\n",
    "print(list_h)"
   ]
  },
  {
   "cell_type": "code",
   "execution_count": 73,
   "id": "65caa177-bdef-4fea-821f-607c297286f4",
   "metadata": {},
   "outputs": [
    {
     "name": "stdout",
     "output_type": "stream",
     "text": [
      "[[0], [0], [0]]\n"
     ]
    }
   ],
   "source": [
    "#얕은 복사(shallow copy)\n",
    "#리스트 내에 있는 값을 그대로 복사해온다\n",
    "#리스트 요소 중 메모리 주소를 담고있는 참조 변수가 있으면 객체 주소만 복사해옴\n",
    "#리스트에 애스터리스크를 사용하면 얕은 복사, 즉, list_i[0], list_i[1], list_i[2]는 모두 같은 객체를 바라봄\n",
    "list_i = [[0]]*3\n",
    "print(list_i)\n",
    "list_i[0][0] = 999"
   ]
  },
  {
   "cell_type": "code",
   "execution_count": 75,
   "id": "8767f53a-9031-4e14-99ad-06c2e76dc6bb",
   "metadata": {},
   "outputs": [
    {
     "name": "stdout",
     "output_type": "stream",
     "text": [
      "[[999], [999], [999]]\n"
     ]
    }
   ],
   "source": [
    "# 요소 하나만 바꿨는데, 모든 요소의 값이 변경됨\n",
    "#메모리 주소만 복사\n",
    "print(list_i)"
   ]
  },
  {
   "cell_type": "code",
   "execution_count": 76,
   "id": "4c07649f-caaf-4733-bb7c-00423a4f8b1d",
   "metadata": {},
   "outputs": [],
   "source": [
    "#*,슬라이싱, copy모두 얕은 복사\n",
    "#예제 정리"
   ]
  },
  {
   "cell_type": "code",
   "execution_count": 81,
   "id": "a176c7e4-605a-4fe6-9082-1eee8f09517b",
   "metadata": {},
   "outputs": [
    {
     "ename": "NameError",
     "evalue": "name 'list_n' is not defined",
     "output_type": "error",
     "traceback": [
      "\u001b[1;31m---------------------------------------------------------------------------\u001b[0m",
      "\u001b[1;31mNameError\u001b[0m                                 Traceback (most recent call last)",
      "\u001b[1;32m~\\AppData\\Local\\Temp\\ipykernel_10960\\2215067847.py\u001b[0m in \u001b[0;36m<module>\u001b[1;34m\u001b[0m\n\u001b[0;32m      6\u001b[0m \u001b[1;31m#print(list_n[0] is list_o[0])\u001b[0m\u001b[1;33m\u001b[0m\u001b[1;33m\u001b[0m\u001b[0m\n\u001b[0;32m      7\u001b[0m \u001b[1;33m\u001b[0m\u001b[0m\n\u001b[1;32m----> 8\u001b[1;33m \u001b[0mlist_n\u001b[0m\u001b[1;33m[\u001b[0m\u001b[1;36m0\u001b[0m\u001b[1;33m]\u001b[0m\u001b[1;33m[\u001b[0m\u001b[1;36m1\u001b[0m\u001b[1;33m]\u001b[0m \u001b[1;33m=\u001b[0m\u001b[1;36m999\u001b[0m\u001b[1;33m\u001b[0m\u001b[1;33m\u001b[0m\u001b[0m\n\u001b[0m\u001b[0;32m      9\u001b[0m \u001b[0mprint\u001b[0m\u001b[1;33m(\u001b[0m\u001b[0mlist_n\u001b[0m\u001b[1;33m)\u001b[0m\u001b[1;33m\u001b[0m\u001b[1;33m\u001b[0m\u001b[0m\n\u001b[0;32m     10\u001b[0m \u001b[0mprint\u001b[0m\u001b[1;33m(\u001b[0m\u001b[0mlist_o\u001b[0m\u001b[1;33m)\u001b[0m\u001b[1;33m\u001b[0m\u001b[1;33m\u001b[0m\u001b[0m\n",
      "\u001b[1;31mNameError\u001b[0m: name 'list_n' is not defined"
     ]
    }
   ],
   "source": [
    "#깊은 복사(deep copy)\n",
    "#copy 라이브러리\n",
    "import copy\n",
    "#list_n =[[9,10],[11,12]]\n",
    "#list_o = copy.deepcopy(list_n)\n",
    "#print(list_n[0] is list_o[0])\n",
    "      \n",
    "# list_n[0][1] =999\n",
    "#print(list_n)\n",
    "#print(list_o)"
   ]
  },
  {
   "cell_type": "code",
   "execution_count": null,
   "id": "0f69ad2e-5f99-4207-8a52-31e89716f711",
   "metadata": {},
   "outputs": [],
   "source": []
  }
 ],
 "metadata": {
  "kernelspec": {
   "display_name": "Python 3 (ipykernel)",
   "language": "python",
   "name": "python3"
  },
  "language_info": {
   "codemirror_mode": {
    "name": "ipython",
    "version": 3
   },
   "file_extension": ".py",
   "mimetype": "text/x-python",
   "name": "python",
   "nbconvert_exporter": "python",
   "pygments_lexer": "ipython3",
   "version": "3.9.13"
  }
 },
 "nbformat": 4,
 "nbformat_minor": 5
}
