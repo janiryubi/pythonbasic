{
 "cells": [
  {
   "cell_type": "code",
   "execution_count": 1,
   "id": "00cb462a-d0a0-40f1-94d9-dacd490cab48",
   "metadata": {},
   "outputs": [
    {
     "name": "stdout",
     "output_type": "stream",
     "text": [
      "value 1 1.1 [1, 2, 'text']\n",
      "value,1,1.1,[1, 2, 'text']\n",
      "줄이 바뀜\n",
      "줄이 바뀜\n",
      "줄이 바뀌지 않습니다.그 이유는 end=\"\\n\"과 같이 기본 설정된 값을 빈 스트링으로 변경했기 때문입니다.\n",
      "sep,end는 맨 뒤에 써야하며 둘 간 순서는 상관없습니다. 어떻게 사용하는지\n",
      "이해가 되시나요?"
     ]
    }
   ],
   "source": [
    "# 파이썬 출력 - print(소괄호)/,로 값 사이사이 구분 ->결과값의 사이사이는 공백\n",
    "# 함수를 사용한다 - call\n",
    "print(\"value\",1,1.1,[1,2,'text'])\n",
    "# 값과 값사이 구분 단위변경-> 마지막에 sep(구분기호)를 사용하여 다른 문자로 변경 가능\n",
    "print(\"value\",1,1.1,[1,2,'text'], sep=\",\")\n",
    "# print 함수마다 줄바꿈이 된다.\n",
    "print(\"줄이 바뀜\")\n",
    "print(\"줄이 바뀜\")\n",
    "# end문자열을 맨 뒤에 입력하면 문자 줄이 바뀌지 않음\n",
    "print(\"줄이 바뀌지 않습니다.\",end=\"\")\n",
    "print(\"그 이유는 end=\\\"\\\\n\\\"과 같이 기본 설정된 값을 빈 스트링으로 변경했기 때문입니다.\")\n",
    "print(\"sep\",\"end는 맨 뒤에 써야하며 둘 간 순서는 상관없습니다.\", sep=\",\",end=\" \")\n",
    "print(\"어떻게 사용하는지\",\"이해가 되시나요\", sep=\"\\n\",end=\"?\")"
   ]
  },
  {
   "cell_type": "code",
   "execution_count": 2,
   "id": "c57ac9fd-8d86-4ebb-9ceb-f9b26a00efb3",
   "metadata": {},
   "outputs": [
    {
     "name": "stdout",
     "output_type": "stream",
     "text": [
      "2021/02/03 18:33:23\n"
     ]
    }
   ],
   "source": [
    "year = '2021'\n",
    "month = '02'\n",
    "day = '03'\n",
    "hour = '18'\n",
    "minute = '33'\n",
    "second = '23'\n",
    "\n",
    "print(year,month,day,end=\" \",sep=\"/\",)\n",
    "print(hour,minute,second,sep=\":\")"
   ]
  },
  {
   "cell_type": "code",
   "execution_count": 3,
   "id": "5f577c79-2ead-460c-93a0-0d24f0c32dfb",
   "metadata": {},
   "outputs": [
    {
     "name": "stdin",
     "output_type": "stream",
     "text": [
      "사과와 귤을 몇 개 드릴까요? 10,20\n"
     ]
    },
    {
     "name": "stdout",
     "output_type": "stream",
     "text": [
      "실행결과:\n",
      "총 가격은 14000 입니다.\n"
     ]
    }
   ],
   "source": [
    "fruit = input(\"사과와 귤을 몇 개 드릴까요?\").split(',')\n",
    "result = list(map(int,fruit)) \n",
    "\n",
    "print(\"실행결과:\")\n",
    "print(\"총 가격은\",result[0]*1000+result[1]*200,\"입니다.\")"
   ]
  },
  {
   "cell_type": "code",
   "execution_count": 21,
   "id": "21c58118-b533-4097-856f-3b872ec1ea0a",
   "metadata": {},
   "outputs": [
    {
     "name": "stdin",
     "output_type": "stream",
     "text": [
      "사과와 귤을 몇개 드릴까요? 10,20\n"
     ]
    },
    {
     "name": "stdout",
     "output_type": "stream",
     "text": [
      "총 가격은 14000원입니다.\n"
     ]
    }
   ],
   "source": [
    "apple_price = 1000\n",
    "tangerine_price = 200\n",
    "apple, tangerine = list(map(int, input(\"사과와 귤을 몇개 드릴까요?\").split(',')))\n",
    "\n",
    "total_price = apple_price*apple + tangerine_price*tangerine\n",
    "print(\"총 가격은 \",total_price,\"원입니다.\",sep=\"\")"
   ]
  },
  {
   "cell_type": "code",
   "execution_count": 8,
   "id": "272593bc-9711-4505-a01c-de14641910b7",
   "metadata": {},
   "outputs": [
    {
     "name": "stdout",
     "output_type": "stream",
     "text": [
      "10\n",
      "10 20 30\n",
      "101 202 303 404 505\n"
     ]
    }
   ],
   "source": [
    "# 문자열의 format()메서드\n",
    "# 문자열에 중괄호를 넣고 문자열 뒤에 마침표를 찍고 format(값1, 값2...)를 적으면 중괄호 위치에 값이 대입된다\n",
    "print(\"{}\".format(10))\n",
    "print(\"{} {} {}\".format(10,20,30))\n",
    "print(\"{} {} {} {} {}\".format(101,202,303,404,505))"
   ]
  },
  {
   "cell_type": "code",
   "execution_count": 12,
   "id": "9c20de7d-b423-4826-8c5b-e4fb22155bf8",
   "metadata": {},
   "outputs": [
    {
     "name": "stdout",
     "output_type": "stream",
     "text": [
      "오늘의 날짜를 알려드립니다!\n",
      "2023년 2월 15일입니다.\n"
     ]
    }
   ],
   "source": [
    "#삼중따옴표를 활용한 문자열 format\n",
    "import time\n",
    "\n",
    "today = \"\"\"오늘의 날짜를 알려드립니다!\n",
    "{}년 {}월 {}일입니다.\\\n",
    "\"\"\".format(time.localtime().tm_year,\n",
    "           time.localtime().tm_mon,\n",
    "           time.localtime().tm_mday)\n",
    "\n",
    "print(today)"
   ]
  },
  {
   "cell_type": "code",
   "execution_count": 14,
   "id": "e220df65-b13e-4aff-94ff-e060ad5fd49e",
   "metadata": {},
   "outputs": [
    {
     "name": "stdout",
     "output_type": "stream",
     "text": [
      "중괄호는 2개이고, 여기 인수는\n"
     ]
    }
   ],
   "source": [
    "# 중괄호 개수 < format메서드 인수의 개수 -> 실행o 초과되는 인수 버려짐\n",
    "some_str = \"중괄호는 2개이고, {} {}\".format(\"여기\",\"인수는\",\"3개 입니다.\")\n",
    "print(some_str)\n",
    "\n",
    "# 중괄호 개수 > format메서드 인수의 개수 ->indexerror\n",
    "# some_str = \"중괄호는 4개이고, {} {} {} {}\".format(\"여기\",\"인수는\",\"3개 입니다.\")\n",
    "# print(some_str)\n",
    "# Replacement index 3 out of range for positional args tuple/IndexError "
   ]
  },
  {
   "cell_type": "code",
   "execution_count": 23,
   "id": "e90e3faa-9b6e-4047-8c84-e2767945df36",
   "metadata": {},
   "outputs": [
    {
     "name": "stdout",
     "output_type": "stream",
     "text": [
      "10\n",
      "10 20 30\n",
      "101 202 303 404 505\n"
     ]
    }
   ],
   "source": [
    "# f-string-문자열 앞에 f알파벳을 붙이고 중괄호 안에 리터럴 값 혹은 변수를 넣어서 표현 가능\n",
    "# 앞의 .formet메서드와 같은 결과가 나옴\n",
    "print(f\"{10}\")\n",
    "print(f\"{10} {20} {30}\")\n",
    "print(f\"{101} {202} {303} {404} {505}\")"
   ]
  },
  {
   "cell_type": "code",
   "execution_count": 26,
   "id": "0960fd9f-c8e1-410c-b6d2-8e9e7fbd693b",
   "metadata": {},
   "outputs": [
    {
     "name": "stdout",
     "output_type": "stream",
     "text": [
      "오늘의 날짜를 알려드립니다!\n",
      "2023년 2월 15일입니다.\n"
     ]
    }
   ],
   "source": [
    "#삼중따옴표를 활용한 문자열 f-string\n",
    "import time\n",
    "\n",
    "today = f\"\"\"오늘의 날짜를 알려드립니다!\n",
    "{time.localtime().tm_year}년 {time.localtime().tm_mon}월 {time.localtime().tm_mday}일입니다.\\\n",
    "\"\"\"\n",
    "\n",
    "print(today)"
   ]
  },
  {
   "cell_type": "code",
   "execution_count": null,
   "id": "e642ee10-a815-48c6-bdd1-8434cbfa72a9",
   "metadata": {},
   "outputs": [],
   "source": []
  }
 ],
 "metadata": {
  "kernelspec": {
   "display_name": "Python 3 (ipykernel)",
   "language": "python",
   "name": "python3"
  },
  "language_info": {
   "codemirror_mode": {
    "name": "ipython",
    "version": 3
   },
   "file_extension": ".py",
   "mimetype": "text/x-python",
   "name": "python",
   "nbconvert_exporter": "python",
   "pygments_lexer": "ipython3",
   "version": "3.9.13"
  }
 },
 "nbformat": 4,
 "nbformat_minor": 5
}
