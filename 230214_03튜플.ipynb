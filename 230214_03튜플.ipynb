{
 "cells": [
  {
   "cell_type": "code",
   "execution_count": 1,
   "id": "4b284301-de43-450f-b726-cf07dde5a2ba",
   "metadata": {},
   "outputs": [],
   "source": [
    "# 튜플- 리스트와 거의 유사,but 수정 불가(불변)/소괄호, 콤마 사용, 소괄호 생략가능\n",
    "# 튜플변수명 = (항목1,항목2,항목3...)\n",
    "# 여러 자료형을 섞어서 만들 수 있지만 수정,삭제 불가\n",
    "# tuple_variable = (1,2,3,4,5,\"hello\")\n",
    "# tuple_variable[0] = 0\n",
    "# tuple_variable[1:3] = 음,오\n",
    "# del tuple_variable[1]\n",
    "# 오류 메시지 'tuple' object does not support item assignment\n",
    "# 튜플을 쓰는 이유 - 빠른 생성, 메모리 부담 적음"
   ]
  },
  {
   "cell_type": "code",
   "execution_count": 2,
   "id": "bd8506bc-ab06-4e86-9738-446f0af16bbd",
   "metadata": {},
   "outputs": [],
   "source": [
    "# 튜플과 리스트 중 어디에 저장하는 것이 좋을까?\n",
    "# 리스트 - 프로그래밍 언어의 종류 / 사람의 나이, 몸무게, 키/ 잇단 롤 게임의 결과\n",
    "# 튜플 - 처음 20번째까지 소수 / 사람의 생일과 출생지 / 롤 게임의 결과\n",
    "# 리스트의 경우에는 계속적으로 변동가능성이 있는 변수를 관리하기에 좋기에 다회적이고, 가변하는 자료를 관리하기에 좋고, 튜플은 불변의 것을 관리하기에 좋기 때문에 일회적이거나 불변하는 자료를 관리하는 것이 좋기 때문"
   ]
  },
  {
   "cell_type": "code",
   "execution_count": 3,
   "id": "3dd217e3-39b0-46cd-85c8-dc8e40e8c126",
   "metadata": {},
   "outputs": [
    {
     "name": "stdout",
     "output_type": "stream",
     "text": [
      "<class 'tuple'>\n",
      "('음', '오', '아', '예')\n"
     ]
    }
   ],
   "source": [
    "t_v2 = \"음\",\"오\",\"아\",\"예\"\n",
    "print(type(t_v2))\n",
    "print(t_v2)"
   ]
  },
  {
   "cell_type": "code",
   "execution_count": 4,
   "id": "70fa2da5-4b4d-4d74-bad5-f632e39e0554",
   "metadata": {},
   "outputs": [
    {
     "name": "stdout",
     "output_type": "stream",
     "text": [
      "0.49881768226623535\n"
     ]
    }
   ],
   "source": [
    "import time\n",
    "\n",
    "start_time = time.time() #시작하는 시간\n",
    "test = []\n",
    "\n",
    "#1,000,000번을 반복해서 list만듭니다.\n",
    "for _ in range(1_000_000):\n",
    "    tp = [_, _] #list\n",
    "    test.append(tp)\n",
    "# 끝나는 시간 -  시작하는 시간 \n",
    "print(time.time() - start_time)\n",
    "# 동작한 시간"
   ]
  },
  {
   "cell_type": "code",
   "execution_count": 5,
   "id": "64a96c9f-c966-44f1-9b29-ad43c8ddb479",
   "metadata": {},
   "outputs": [
    {
     "name": "stdout",
     "output_type": "stream",
     "text": [
      "0.20505619049072266\n"
     ]
    }
   ],
   "source": [
    "import time\n",
    "\n",
    "start_time = time.time()\n",
    "test = []\n",
    "\n",
    "#1,000,000번을 반복해서 tuple만듭니다.\n",
    "for _ in range(1_000_000):\n",
    "    tp = (_, _) #tuple \n",
    "    test.append(tp)\n",
    "# 끝나는 시간 -  시작하는 시간 \n",
    "print(time.time() - start_time)\n",
    "# 동작한 시간"
   ]
  },
  {
   "cell_type": "code",
   "execution_count": 6,
   "id": "9f61557f-9088-4f34-b1ba-a6a6e56829fc",
   "metadata": {},
   "outputs": [
    {
     "name": "stdout",
     "output_type": "stream",
     "text": [
      "이렇게 리스트도 가능합니다\n"
     ]
    }
   ],
   "source": [
    "s3,s4,s5 = [\"이렇게\",\"리스트도\",\"가능합니다\"]\n",
    "print(s3,s4,s5)"
   ]
  },
  {
   "cell_type": "code",
   "execution_count": 7,
   "id": "2e5eb46b-a119-42a8-8a5f-2fc162ad8d00",
   "metadata": {},
   "outputs": [
    {
     "name": "stdout",
     "output_type": "stream",
     "text": [
      "문 자 열 도\n"
     ]
    }
   ],
   "source": [
    "s6,s7,s8,s9 = \"문자열도\"\n",
    "print(s6,s7,s8,s9)"
   ]
  },
  {
   "cell_type": "code",
   "execution_count": 8,
   "id": "b6e2ba00-34b1-4e30-9711-7f88bc865d15",
   "metadata": {},
   "outputs": [
    {
     "name": "stdin",
     "output_type": "stream",
     "text": [
      "message 7777\n"
     ]
    }
   ],
   "source": [
    "# 파이썬 입력 input() 사용자로부터 값을 받아올 수 있음\n",
    "# input(\"메시지\")-> return 사용자가 입력한 값(str->가장 포괄적이어서)\n",
    "input_value = input(\"message\")"
   ]
  },
  {
   "cell_type": "code",
   "execution_count": 9,
   "id": "b781f30d-b192-46ac-adde-e4e9cd2f4b4c",
   "metadata": {},
   "outputs": [
    {
     "name": "stdout",
     "output_type": "stream",
     "text": [
      "input_value: 7777 \n",
      "type: <class 'str'>\n"
     ]
    }
   ],
   "source": [
    "print(\"input_value:\", input_value, \"\\ntype:\", type(input_value))"
   ]
  },
  {
   "cell_type": "code",
   "execution_count": 10,
   "id": "89538c52-bda2-459b-8f54-9cb9ba96c356",
   "metadata": {},
   "outputs": [
    {
     "name": "stdout",
     "output_type": "stream",
     "text": [
      "input_value: 7777 \n",
      "type: <class 'int'>\n"
     ]
    }
   ],
   "source": [
    "input_value = int(input_value)\n",
    "print(\"input_value:\", input_value, \"\\ntype:\", type(input_value))"
   ]
  },
  {
   "cell_type": "code",
   "execution_count": 11,
   "id": "47b21a43-47a0-4afc-a125-fa7a952aad89",
   "metadata": {},
   "outputs": [
    {
     "name": "stdin",
     "output_type": "stream",
     "text": [
      "정수 외에 다른 값 23.5\n"
     ]
    }
   ],
   "source": [
    "# 아스키코드 ->문자열 1111, 숫자 1111은 완전히 다른 것\n",
    "input_value2 = input(\"정수 외에 다른 값\")"
   ]
  },
  {
   "cell_type": "code",
   "execution_count": 12,
   "id": "8093a547-367d-4dc2-a62d-c820ca07164c",
   "metadata": {},
   "outputs": [
    {
     "name": "stdout",
     "output_type": "stream",
     "text": [
      "23\n"
     ]
    }
   ],
   "source": [
    "# input_value2 = int(input_value2)\n",
    "input_value2 = float(input_value2)\n",
    "input_value2 = int(input_value2)\n",
    "print(input_value2)\n",
    "# ValueError: invalid literal for int() with base 10: '13.3'\n",
    "# input->str -> int 안됨"
   ]
  },
  {
   "cell_type": "code",
   "execution_count": 13,
   "id": "f6329b25-9eda-433f-a1fc-0d6f9bc9566b",
   "metadata": {
    "tags": []
   },
   "outputs": [
    {
     "name": "stdout",
     "output_type": "stream",
     "text": [
      "text1\n",
      "text2\n"
     ]
    }
   ],
   "source": [
    "# 변수 여럿에 동시 할당하기(unpacking)\n",
    "# 시퀀스의 자료형의 크기만큼 좌변의 변수 개수를 동일하게 선언하면 시퀁스 자료형의 요소 각각을 변수에 동시에 할당할 수 있음\n",
    "# x1,x2...= (값1,값2...)\n",
    "s1,s2= (\"text1\",\"text2\")\n",
    "print(s1)\n",
    "print(s2)"
   ]
  },
  {
   "cell_type": "code",
   "execution_count": 14,
   "id": "029acd84-2b9a-4e7c-86ad-fbb9240692a9",
   "metadata": {},
   "outputs": [
    {
     "name": "stdin",
     "output_type": "stream",
     "text": [
      "정수를 입력해주세요 34\n"
     ]
    },
    {
     "name": "stdout",
     "output_type": "stream",
     "text": [
      "34\n"
     ]
    }
   ],
   "source": [
    "input_value4 = int(input(\"정수를 입력해주세요\"))\n",
    "print(input_value4)\n",
    "# 소괄호 내부가 먼저 실행 -> input 함수가 사용자가 입력한 값 return -> 사용자 값 입력 및 enter -> 입력완료"
   ]
  },
  {
   "cell_type": "code",
   "execution_count": 15,
   "id": "7d93edc2-9c36-46c3-9a38-350ef653b067",
   "metadata": {},
   "outputs": [],
   "source": [
    "# type(int('1111'))\n",
    "# int = 1111\n",
    "# int('1111')\n",
    "# int' object is not callable"
   ]
  },
  {
   "cell_type": "code",
   "execution_count": 16,
   "id": "ab7566eb-ece2-412d-bef8-83d1159f366e",
   "metadata": {},
   "outputs": [],
   "source": [
    "# input() 내장함수의 입력은 정수만 입력 못함, 콘솔에서 잘못 입력했을 때 오류메시지를 띄워 재입력 유도 GUI의 경우는 component에 listener를 통해 제어 가능"
   ]
  },
  {
   "cell_type": "code",
   "execution_count": 17,
   "id": "4f3ec6ee-391b-40d1-8de9-906dcfb2f2fd",
   "metadata": {},
   "outputs": [
    {
     "name": "stdin",
     "output_type": "stream",
     "text": [
      "이름을 입력하시오: 엔코아\n"
     ]
    },
    {
     "name": "stdout",
     "output_type": "stream",
     "text": [
      "엔코아 씨, 안녕하세요?\n",
      "파이썬에 오신 것을 환영합니다\"\n"
     ]
    },
    {
     "name": "stdin",
     "output_type": "stream",
     "text": [
      "첫번째 정수를 입력하세요 300\n",
      "두번째 정수를 입력하세요 400\n"
     ]
    },
    {
     "name": "stdout",
     "output_type": "stream",
     "text": [
      "300 과 400 의 합은 700 입니다.\n"
     ]
    }
   ],
   "source": [
    "S3 = \"\"\"\\\n",
    "파이썬에 오신 것을 환영합니다\\\"\"\"\"\n",
    "# \"한개 더 붙이기\n",
    "name = input(\"이름을 입력하시오:\")\n",
    "print(name, \"씨,\",\"안녕하세요?\")\n",
    "\n",
    "print(S3)\n",
    "input_value6 = int(input(\"첫번째 정수를 입력하세요\"))\n",
    "input_value7 = int(input(\"두번째 정수를 입력하세요\"))\n",
    "print(input_value6,\"과\",input_value7,\"의 합은\",input_value6 + input_value7,\"입니다.\")\n",
    "# print(\"input_value6\",\"과\",\"input_value7\",\"의 합은\",\"input_value6\" + \"input_value7\",\"입니다.\")->input하나하나가 문자로 인식됨\n",
    "# input(\"정수를 입력해주세요:\") -> str상황이라 문자로 인식 -> 300400으로 나옴\n",
    "# print(\"input_value:\", input_value -> 한번 더 인식됨)\n",
    "# first_value, second_value 가능"
   ]
  },
  {
   "cell_type": "code",
   "execution_count": 18,
   "id": "f31043cd-959e-4bd9-b20a-bac460bf623d",
   "metadata": {},
   "outputs": [
    {
     "name": "stdin",
     "output_type": "stream",
     "text": [
      "경기장은 어디입니까? 고척\n",
      "이긴 팀은 어디입니까 KT\n",
      "진 팀은 어디입니까 LG\n",
      "우수 선수는 누구입니까? 강백호\n",
      "스코어는 몇대몇입니까? 10:9\n"
     ]
    },
    {
     "name": "stdout",
     "output_type": "stream",
     "text": [
      "\n",
      "[속보] KT 가 10:9 로 승리...\n",
      "오늘 고척 경기장에서 야구 경기가 있었습니다.\n",
      "KT 와 LG 는 치열한 공방전을 펼쳤습니다.\n",
      "이 경기에서 강백호 가 맹활약을 했습니다.\n",
      "그 끝내 KT 가 LG 를 10:9 로 승리하였습니다.\n",
      "기사 끝.\n"
     ]
    }
   ],
   "source": [
    "playground = input(\"경기장은 어디입니까?\")\n",
    "winner = input(\"이긴 팀은 어디입니까\")\n",
    "loser = input(\"진 팀은 어디입니까\")\n",
    "goodplayer = input(\"우수 선수는 누구입니까?\")\n",
    "score = input(\"스코어는 몇대몇입니까?\")\n",
    "\n",
    "#\\n 줄 바꿀 때\n",
    "print(\"\\n[속보]\",winner,\"가\",score,\"로 승리...\")\n",
    "print(\"오늘\",playground,\"경기장에서 야구 경기가 있었습니다.\")\n",
    "print(winner,\"와\",loser,\"는 치열한 공방전을 펼쳤습니다.\")\n",
    "print(\"이 경기에서\",goodplayer,\"가 맹활약을 했습니다.\")\n",
    "print(\"그 끝내\",winner,\"가\",loser,\"를\",score,\"로 승리하였습니다.\")\n",
    "print(\"기사 끝.\")\n",
    "#\"sep\" 공백 없애기"
   ]
  },
  {
   "cell_type": "code",
   "execution_count": 19,
   "id": "14e269ac-2a05-4067-986c-92a7bca58c46",
   "metadata": {},
   "outputs": [
    {
     "name": "stdout",
     "output_type": "stream",
     "text": [
      "<class 'list'>\n",
      "['1', '2', '3']\n"
     ]
    }
   ],
   "source": [
    "#입력값을 여러개의 변수에 저장하기 -한 번에 두개의 입력을 받기 위해 씀 ->\n",
    "# 문자열의 split함수/,를 사용하여 list로 반환, 구분자를 인자로 전달하지 않는 경우, 공백을 기준으로 문자열을 쪼개기도\n",
    "result = '1,2,3'.split(',')\n",
    "#'1,2,3')->문자열 \n",
    "print(type(result))\n",
    "print(result)"
   ]
  },
  {
   "cell_type": "code",
   "execution_count": 36,
   "id": "8036bb88-d79e-4e3b-9035-fa68c7f79a5e",
   "metadata": {},
   "outputs": [
    {
     "name": "stdin",
     "output_type": "stream",
     "text": [
      "hh:mm:ss의 형태로 시간을 입력해주세요 12:33:23\n"
     ]
    },
    {
     "name": "stdout",
     "output_type": "stream",
     "text": [
      "['12', '33', '23']\n",
      "실행결과: \n",
      "시 : 12 \n",
      "분 : 33 \n",
      "초 : 23\n"
     ]
    }
   ],
   "source": [
    "time1 = input(\"hh:mm:ss의 형태로 시간을 입력해주세요\")\n",
    "result = time1.split(':')\n",
    "print(result)\n",
    "print(\"실행결과:\",\n",
    "      \"\\n시 :\",result[0],\n",
    "      \"\\n분 :\",result[1],\n",
    "      \"\\n초 :\",result[2])"
   ]
  },
  {
   "cell_type": "code",
   "execution_count": 1,
   "id": "4be0c6e7-447e-4e48-9d1e-7c1c7f6ab64d",
   "metadata": {},
   "outputs": [
    {
     "name": "stdin",
     "output_type": "stream",
     "text": [
      "hh:mm:ss의 형태로 시간을 입력해주세요 12:33:23\n"
     ]
    },
    {
     "name": "stdout",
     "output_type": "stream",
     "text": [
      "시 : 12\n",
      "분 : 33\n",
      "초 : 23\n"
     ]
    }
   ],
   "source": [
    "h,m,s = input(\"hh:mm:ss의 형태로 시간을 입력해주세요\").split(':')\n",
    "\n",
    "print(\"시 :\", h)\n",
    "print(\"분 :\", m)\n",
    "print(\"초 :\", s)"
   ]
  },
  {
   "cell_type": "code",
   "execution_count": 2,
   "id": "701dce55-4f56-4249-8f31-af83c0cbb203",
   "metadata": {},
   "outputs": [
    {
     "name": "stdout",
     "output_type": "stream",
     "text": [
      "[1, 2, 3, 4]\n"
     ]
    }
   ],
   "source": [
    "# map()내장함수 iterable(반복가능한) 객체에서 요소꺼내 함수를 각각 적용하고 싶을 때 사용\n",
    "# list()함수 또는 tuple()함수를 활용하여 map클래스를 list or tuple로 변경 가능\n",
    "# map(function, iterable) -> <class ' map'>(iterable)\n",
    "a = [1.2, 2.5, 3.7, 4.6]\n",
    "a = list(map(int, a)) \n",
    "# a -> 시퀀스 자료형 - 문자열, 리스트, 듀플(list, tuple, str)\n",
    "print(a)"
   ]
  },
  {
   "cell_type": "code",
   "execution_count": 3,
   "id": "4c582db6-7483-44e0-8cf2-5971f367193e",
   "metadata": {},
   "outputs": [
    {
     "name": "stdin",
     "output_type": "stream",
     "text": [
      "국어, 영어,수학, 과학 점수를 입력해주세요: 96,100,98,100\n"
     ]
    },
    {
     "name": "stdout",
     "output_type": "stream",
     "text": [
      "실행결과: \n",
      "평균 점수는: 98.5\n"
     ]
    }
   ],
   "source": [
    "grade = input(\"국어, 영어,수학, 과학 점수를 입력해주세요:\").split(',')\n",
    "A = list(map(int,grade))\n",
    "kor = A[0]\n",
    "eng = A[1]\n",
    "mat = A[2]\n",
    "sci = A[3]\n",
    "print(\"실행결과:\",\n",
    "      \"\\n평균 점수는:\",(kor + eng + mat + sci)/4)\n",
    "#invalid literal for int() with base 10: ','"
   ]
  },
  {
   "cell_type": "code",
   "execution_count": null,
   "id": "418fc585-8ac9-4d16-a3db-ecc61b6039c7",
   "metadata": {},
   "outputs": [],
   "source": [
    "kor, eng, mat, sci = map(int, input(\"국어, 영어, 수학, 과학, 점수를 입력해주세요\").split(\",\"))\n",
    "avg=(kor+eng+mat+sci)/4\n",
    "print(\"평균 점수는\", avg,\"점 입니다.\")"
   ]
  }
 ],
 "metadata": {
  "kernelspec": {
   "display_name": "Python 3 (ipykernel)",
   "language": "python",
   "name": "python3"
  },
  "language_info": {
   "codemirror_mode": {
    "name": "ipython",
    "version": 3
   },
   "file_extension": ".py",
   "mimetype": "text/x-python",
   "name": "python",
   "nbconvert_exporter": "python",
   "pygments_lexer": "ipython3",
   "version": "3.9.13"
  }
 },
 "nbformat": 4,
 "nbformat_minor": 5
}
