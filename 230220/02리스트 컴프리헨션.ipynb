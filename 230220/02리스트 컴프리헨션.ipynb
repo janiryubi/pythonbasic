{
 "cells": [
  {
   "cell_type": "code",
   "execution_count": 1,
   "id": "4c07649f-caaf-4733-bb7c-00423a4f8b1d",
   "metadata": {},
   "outputs": [],
   "source": [
    "#*,슬라이싱, copy모두 얕은 복사\n",
    "#예제 정리"
   ]
  },
  {
   "cell_type": "code",
   "execution_count": 2,
   "id": "a176c7e4-605a-4fe6-9082-1eee8f09517b",
   "metadata": {},
   "outputs": [],
   "source": [
    "#깊은 복사(deep copy)\n",
    "#copy 라이브러리\n",
    "import copy\n",
    "#list_n =[[9,10],[11,12]]\n",
    "#list_o = copy.deepcopy(list_n)\n",
    "#print(list_n[0] is list_o[0])\n",
    "      \n",
    "# list_n[0][1] =999\n",
    "#print(list_n)\n",
    "#print(list_o)"
   ]
  },
  {
   "cell_type": "code",
   "execution_count": 3,
   "id": "4b967052-6a29-4404-8d3f-548915dfe4f9",
   "metadata": {},
   "outputs": [],
   "source": [
    "# row 생성을 새롭게 하고 싶을 때, 깊은 복사를 하고 싶을 때는 이 함수를 쓰면 된다\n",
    "b = []\n",
    "for i in range(3): #i가 1일 때 2일때 3일때 다 다른 친구\n",
    "    row = [0] #for문이 반복될 때마다 새롭게 생성되는 변수\n",
    "    b.append(row)"
   ]
  },
  {
   "cell_type": "code",
   "execution_count": 4,
   "id": "bfffcc04-1cec-4422-99ef-5117b2b7f544",
   "metadata": {},
   "outputs": [
    {
     "name": "stdout",
     "output_type": "stream",
     "text": [
      "1624953927872\n",
      "1624953928128\n",
      "1624953928384\n"
     ]
    }
   ],
   "source": [
    "print(id(b[0]))\n",
    "print(id(b[1]))\n",
    "print(id(b[2]))"
   ]
  },
  {
   "cell_type": "code",
   "execution_count": 5,
   "id": "051fae6a-8566-4b85-9933-37632ff019aa",
   "metadata": {},
   "outputs": [
    {
     "data": {
      "text/plain": [
       "True"
      ]
     },
     "execution_count": 5,
     "metadata": {},
     "output_type": "execute_result"
    }
   ],
   "source": [
    "e = 256\n",
    "f = 256\n",
    "e is f"
   ]
  },
  {
   "cell_type": "code",
   "execution_count": 6,
   "id": "3dce6db7-5538-4f63-9263-a868e31ad53f",
   "metadata": {},
   "outputs": [
    {
     "data": {
      "text/plain": [
       "False"
      ]
     },
     "execution_count": 6,
     "metadata": {},
     "output_type": "execute_result"
    }
   ],
   "source": [
    "e = 257\n",
    "f = 257\n",
    "e is f"
   ]
  },
  {
   "cell_type": "code",
   "execution_count": 7,
   "id": "c45a7d8e-699b-46f1-ab18-1964f7d9c309",
   "metadata": {},
   "outputs": [
    {
     "data": {
      "text/plain": [
       "False"
      ]
     },
     "execution_count": 7,
     "metadata": {},
     "output_type": "execute_result"
    }
   ],
   "source": [
    "# 이상쓰,,,\n",
    "l5 = [7,8,(9,10)]\n",
    "l6 = l5.copy()\n",
    "l5 is l6"
   ]
  },
  {
   "cell_type": "code",
   "execution_count": 8,
   "id": "9afd2793-07cb-43f2-bf29-06ffaae687cc",
   "metadata": {},
   "outputs": [
    {
     "data": {
      "text/plain": [
       "True"
      ]
     },
     "execution_count": 8,
     "metadata": {},
     "output_type": "execute_result"
    }
   ],
   "source": [
    "l5[-1] is l6[-1] #주소를 복사하기 때문에 사실상 복사를 한거지만 똑같아보인다,,\n",
    "# 다만 다 복사하고 싶으면 딥카피 사용"
   ]
  },
  {
   "cell_type": "code",
   "execution_count": 9,
   "id": "ac454f10-bc6e-4b4a-b823-af6706e529ad",
   "metadata": {},
   "outputs": [],
   "source": [
    "#리스트 컴프리헨션(for &if문)\n",
    "# expression for 변수 in iterable(문자, 숫자) if 조건식\n",
    "#반복가능한 객체(iterable)로부터 값을 하나 꺼내와서 조건식에 넣는다\n",
    "# 조건식이True면 변수를 활용하여 표현식(expression) 실행\n",
    "# 조건식이false면 1번부터 다시 시작\n",
    "#표현식 결과 값을 리스트에 넣음\n",
    "#반복가능한 객체로부터 값이 없을 때까지 1-3 과정 반복"
   ]
  },
  {
   "cell_type": "code",
   "execution_count": 10,
   "id": "778562b4-b728-4a30-a2ab-b2c29fcc9ae4",
   "metadata": {},
   "outputs": [
    {
     "name": "stdout",
     "output_type": "stream",
     "text": [
      "[0, 3, 6, 9]\n"
     ]
    }
   ],
   "source": [
    "list_p = [i for i in range(10) if i %3 ==0]\n",
    "print(list_p)"
   ]
  },
  {
   "cell_type": "code",
   "execution_count": 11,
   "id": "a1294d98-b8ca-4ac3-ac34-793451ca263a",
   "metadata": {},
   "outputs": [],
   "source": [
    "#리스트 컴프리헨션(for문 여러개 - 동작순서는 우측에서 좌측)\n",
    "#[expression for 변수 in iterable for 변수 in iterable]\n",
    "#for 변수 in iterable:   3\n",
    "    #for 변수 in iterable:   1\n",
    "        #expression   2\n",
    "#[expression for 변수 in iterable\n",
    " #          for 변수 in iterable\n",
    "  #         for 변수 in iterable\n",
    "   #        for 변수 in iterable]\n",
    "#가능은 하지만 가독성을 위해 왠만하면,,,별개로 나눠서,,"
   ]
  },
  {
   "cell_type": "code",
   "execution_count": 12,
   "id": "ca16f8d1-ada4-4473-90ec-eca072e24322",
   "metadata": {},
   "outputs": [
    {
     "name": "stdout",
     "output_type": "stream",
     "text": [
      "1\n",
      "2\n",
      "3\n",
      "4\n",
      "5\n",
      "3\n",
      "4\n"
     ]
    }
   ],
   "source": [
    "#중첩리스트 사용n - 중첩리스트는 차원과 다름\n",
    "# 리스트 안에 리스트가 있는 것일 분, 인덱싱으로 얻은 결과가 리스트여서 인덱싱을 또 한 것\n",
    "easy_list = [[1,2,3,4,5],[3,4]]\n",
    "             #easy_list[0] easy_list[1]\n",
    "for item in easy_list:\n",
    "    for i in item:\n",
    "        print(i)\n",
    "        \n",
    "        # 다시 여쭤보기"
   ]
  },
  {
   "cell_type": "code",
   "execution_count": 17,
   "id": "47af3b9d-1818-4f6b-92d8-0a35327b00cc",
   "metadata": {},
   "outputs": [],
   "source": [
    "# while문도 같음\n",
    "#easy_list = [[1,2,3,4,5],[3,4]]\n",
    "#i =0 #easy_list 인덱스용\n",
    "#while i<len(easy_list):\n",
    "#    j = 0 \n",
    "#    while j<len(easy_list):\n",
    "#    print(easy_list[i][j])\n",
    "#    j+=1\n",
    "#i+=1\n",
    "# 튜플메서드 - # index/count"
   ]
  },
  {
   "cell_type": "code",
   "execution_count": 16,
   "id": "e692a53d-fff1-4814-936d-651096f70849",
   "metadata": {},
   "outputs": [],
   "source": [
    "# 빈 튜플(empty tuple)\n",
    "#empty_tuple = tuple()\n",
    "#print(empty_tuple)\n",
    "#print(type,,,,,,,ㅠㅠㅠㅠㅠ"
   ]
  },
  {
   "cell_type": "code",
   "execution_count": null,
   "id": "60917d3b-f697-4005-b892-2ecf4c7227f4",
   "metadata": {},
   "outputs": [],
   "source": [
    "#제너레이터 컴프리헨션\n",
    "# generator_variable = expression for 변수 in iterable\n",
    "gen = (i for i in range(10))\n",
    "type(gen)"
   ]
  },
  {
   "cell_type": "code",
   "execution_count": null,
   "id": "75d274cf-0996-46cb-a3a4-8cfa9555f6c8",
   "metadata": {},
   "outputs": [],
   "source": [
    "tup = tuple(i for i in range(10))\n",
    "type(tup)"
   ]
  },
  {
   "cell_type": "code",
   "execution_count": null,
   "id": "fef3f52b-3b89-434b-87af-61460ed532f2",
   "metadata": {},
   "outputs": [],
   "source": [
    "lis = list(i for i in range(10))\n",
    "type(lis)"
   ]
  },
  {
   "cell_type": "code",
   "execution_count": null,
   "id": "70c66316-7ea5-4bff-8fe2-216a19daa044",
   "metadata": {},
   "outputs": [],
   "source": [
    "#리스트에서 특정 요소만 뽑아내기\n",
    "a = ['alpha', 'bravo', 'charlie', 'delta', 'echo', 'foxtrot', 'golf', 'hotel', 'india']\n",
    "b= [i for i in a if len(i) == 5]\n",
    "print(b)"
   ]
  },
  {
   "cell_type": "code",
   "execution_count": null,
   "id": "2acfc319-e121-4a6b-90c8-0c5ada77ec79",
   "metadata": {},
   "outputs": [],
   "source": [
    "a = ['alpha', 'bravo', 'charlie', 'delta', 'echo', 'foxtrot', 'golf', 'hotel', 'india']\n",
    "b= [a[i] for i in range(len(a)) if len(a[i])== 5]\n",
    "print(b)"
   ]
  },
  {
   "cell_type": "code",
   "execution_count": null,
   "id": "b23301e0-3525-4afc-9d5c-096cf11a513f",
   "metadata": {},
   "outputs": [],
   "source": [
    "# 사용자가 공백을 구분자로 정수 두개를 입력\n",
    "# 첫번째 입력값의 범위는 1-20\n",
    "#두번째 입력값의 범위는 1-30\n",
    "#첫번째 입력값은 두번째 입력값보다 항상 적다\n",
    "#첫번째 정수부터 두번째 정수까지를 지수로 하는 2의 거듭제곱리스트를 출력\n",
    "#리스트의 두번째 요소와 두번째 요소는 삭제한 뒤 출력\n",
    "while True:\n",
    "    num = input(\"정수 두 개 입력 하세요\").split() #'10 20'\n",
    "    if int(num[0]) < 1 and int(num[0]) > 20: #not 1<=num1<=20 가능\n",
    "        print(\"첫번째 값의 범위는 1 ~ 20 입니다.\")\n",
    "    elif int(num[1]) < 10 and int(num[1]) > 30:\n",
    "        print(\"두번째 값의 범위는 10~30 입니다.\")\n",
    "    elif int(num[0]) >= int(num[1]):\n",
    "        print(\"첫번째 입력 값은 두번째 입력 값보다 작게 입력하세요.\")\n",
    "    else:\n",
    "        power=[2**i for i in range(int(num[0]), int(num[1])+1)]\n",
    "        del power[1]\n",
    "        del power[-2]\n",
    "        print(power)\n",
    "        break"
   ]
  },
  {
   "cell_type": "code",
   "execution_count": null,
   "id": "5016cf28-fded-42c4-9753-4d7626956eac",
   "metadata": {},
   "outputs": [],
   "source": [
    "while True:\n",
    "    num1,num2 = map(int,input(\"정수 두 개 입력하세요\").split(\" \"))\n",
    "# 입력값은 99 1, 10 1, 20 10, 10 20 순서\n",
    "    if 0 < num1 < 21:\n",
    "        pass\n",
    "    else:\n",
    "        print(\"첫번째 값의 범위는 1~20입니다.\\n다시 입력하세요.\")\n",
    "        continue\n",
    "    if 9 < num2 < 31:\n",
    "        pass\n",
    "    else:\n",
    "        print(\"두번째 값의 범위는 10~30입니다.\\n다시 입력하세요.\")\n",
    "        continue\n",
    "    if num1 > num2:\n",
    "        print(\"첫 번째 입력 값은 두 번째 값보다 작게 입력하세요.\\n다시 입력하세요.\")\n",
    "        continue\n",
    "    if 0 < num1 < 21 and 9 < num2 < 31:\n",
    "        lis = [2**i for i in range(num1,num2+1)]\n",
    "        del lis[1]\n",
    "        del lis[-2]\n",
    "        print(lis)\n",
    "        break"
   ]
  },
  {
   "cell_type": "code",
   "execution_count": 21,
   "id": "2c9d8842-f8f4-4017-b29a-aa01822a7bd8",
   "metadata": {},
   "outputs": [
    {
     "name": "stdin",
     "output_type": "stream",
     "text": [
      "2부터 입력하신 수까지의 모든 소수를 찾는 프로그램입니다.\n",
      "찾는 범위를 입력하세요: 100\n"
     ]
    },
    {
     "name": "stdout",
     "output_type": "stream",
     "text": [
      "2 3 5 7 11 13 17 \n",
      "19 23 29 31 37 41 43 \n",
      "47 53 59 61 67 71 73 \n",
      "79 83 89 97 "
     ]
    }
   ],
   "source": [
    "num3 = int(input(\"2부터 입력하신 수까지의 모든 소수를 찾는 프로그램입니다.\\n찾는 범위를 입력하세요:\"))\n",
    "i=2\n",
    "line = 0\n",
    "while i<=num3:\n",
    "    j=2\n",
    "    while j <= i:\n",
    "        if i%j==0:\n",
    "            break\n",
    "        j+=1\n",
    "    if i==j:\n",
    "        print(i,end =' ')\n",
    "        line = line+1\n",
    "        if line == 7:\n",
    "            line = 0\n",
    "            print()\n",
    "    i+=1"
   ]
  },
  {
   "cell_type": "code",
   "execution_count": 14,
   "id": "913e619e-6cf8-47d8-9436-f5cb748cee24",
   "metadata": {},
   "outputs": [
    {
     "name": "stdout",
     "output_type": "stream",
     "text": [
      "2부터 입력하신 수까지의 모든 소수를 찾는 프로그램입니다.\n"
     ]
    },
    {
     "name": "stdin",
     "output_type": "stream",
     "text": [
      "찾는 범위를 입력하세요: 100\n"
     ]
    },
    {
     "name": "stdout",
     "output_type": "stream",
     "text": [
      "2 3 5 7 11 13 17 \n",
      "19 23 29 31 37 41 43 \n",
      "47 53 59 61 67 71 73 \n",
      "79 83 89 97 "
     ]
    }
   ],
   "source": [
    "# 지정된 숫자범위까지 소수 찾기 for문\n",
    "print(\"2부터 입력하신 수까지의 모든 소수를 찾는 프로그램입니다.\")\n",
    "n = int(input(\"찾는 범위를 입력하세요:\")) # 100이 입력값\n",
    "lis = []\n",
    "count = 0\n",
    "for i in range(2, n+1):\n",
    "    for j in range(2, i+1):\n",
    "        if j==i:\n",
    "            print(i, end = \" \")\n",
    "            count += 1\n",
    "            if count % 7 == 0:\n",
    "                print(\"\")\n",
    "        if i%j == 0:\n",
    "            break"
   ]
  },
  {
   "cell_type": "code",
   "execution_count": 18,
   "id": "64db96c5-ef95-48af-9605-58429c492e26",
   "metadata": {},
   "outputs": [
    {
     "name": "stdout",
     "output_type": "stream",
     "text": [
      "2부터 입력하신 수 까지의 모든 소수를 찾는 프로그램입니다.\n"
     ]
    },
    {
     "name": "stdin",
     "output_type": "stream",
     "text": [
      "찾는 범위를 입력하세요:  100\n"
     ]
    },
    {
     "name": "stdout",
     "output_type": "stream",
     "text": [
      "2 3 5 7 11 13 17 \n",
      "19 23 29 31 37 41 43 \n",
      "47 53 59 61 67 71 73 \n",
      "79 83 89 97 \n"
     ]
    }
   ],
   "source": [
    "print(\"2부터 입력하신 수 까지의 모든 소수를 찾는 프로그램입니다.\")\n",
    "n = int(input(\"찾는 범위를 입력하세요: \"))\n",
    "count = 0\n",
    "for i in range(2, n+1):\n",
    "    prime = True\n",
    "    for j in range(2, i):\n",
    "        if i%j == 0:\n",
    "            prime = False\n",
    "            break\n",
    "    if prime :\n",
    "        print(i, end = ' ')\n",
    "        count += 1\n",
    "        if count % 7 == 0:\n",
    "            print()\n",
    "print()"
   ]
  },
  {
   "cell_type": "code",
   "execution_count": 19,
   "id": "5b2896bc-77bb-401a-a552-bf49986e9c56",
   "metadata": {},
   "outputs": [
    {
     "name": "stdin",
     "output_type": "stream",
     "text": [
      "2부터 입력하신 수까지의 모든 소수를 찾는 프로그램입니다.\n",
      "찾는 범위를 입력하세요 : 100\n"
     ]
    },
    {
     "name": "stdout",
     "output_type": "stream",
     "text": [
      "2 3 5 7 11 13 17 \n",
      "19 23 29 31 37 41 43 \n",
      "47 53 59 61 67 71 73 \n",
      "79 83 89 97 "
     ]
    }
   ],
   "source": [
    "num = int(input('2부터 입력하신 수까지의 모든 소수를 찾는 프로그램입니다.\\n찾는 범위를 입력하세요 :'))\n",
    "decList = []    #decimal 소수를 추가할 리스트\n",
    "for i in range(2, num+1):    #2 3 4 (4를입력한다면)\n",
    "    diviList = []    #divide 약수를 추가할 리스트\n",
    "    for j in range(1, num+1): #1 2 3 4\n",
    "        if i%j==0:            #나눠지면 약수\n",
    "            diviList.append(j) #약수리스트에추가\n",
    "    if len(diviList)==2:   #약수의 수가 2개이면\n",
    "        decList.append(i)  #소수 리스트에 추가\n",
    "# 인덱스가 7로 나눠지면 print()\n",
    "a=0\n",
    "while a<len(decList):    \n",
    "    print(decList[a],end=' ')\n",
    "    if (a+1)%7 == 0:\n",
    "        print()\n",
    "    a+=1"
   ]
  },
  {
   "cell_type": "code",
   "execution_count": 20,
   "id": "17f7c18b-52f5-4f43-a4f8-1b333241c020",
   "metadata": {},
   "outputs": [
    {
     "name": "stdin",
     "output_type": "stream",
     "text": [
      "2부터 입력하신 수까지의 모든 소수를 찾는 프로그램입니다. \n",
      "찾는 범위를 입력하세요:  100\n"
     ]
    },
    {
     "name": "stdout",
     "output_type": "stream",
     "text": [
      "2 3 5 7 11 13 17 \n",
      "19 23 29 31 37 41 43 \n",
      "47 53 59 61 67 71 73 \n",
      "79 83 89 97 "
     ]
    }
   ],
   "source": [
    "def isPrime(n): #소수인지 확인하는 함수\n",
    "    if n == 1: #1은 소수가 아니므로\n",
    "        return False\n",
    "    if n == 2: #2는 소수\n",
    "        return True\n",
    "    elif n%2 == 0: #짝수는 소수가 아님\n",
    "        return False\n",
    "    else:\n",
    "        for i in range(3, n//2): #3부터 시작해서 그 수의 절반까지 나누어 떨어지는지 확인\n",
    "            if n%i == 0:\n",
    "                return False\n",
    "    return True #모든 조건을 통과했다면 소수이므로 True 반환\n",
    "\n",
    "n = int(input(\"2부터 입력하신 수까지의 모든 소수를 찾는 프로그램입니다. \\n찾는 범위를 입력하세요: \"))\n",
    "\n",
    "ans = [i for i in range(n+1) if isPrime(i)] # 입력받은 수까지 소수인지 확인\n",
    "\n",
    "for i in range(len(ans)):\n",
    "    if i%7==0 and i>0: #7개씩 출력하기 위해 7로 나눈 나머지가 0일 경우 줄바꿈을 삽입\n",
    "        print(\"\")\n",
    "    print(ans[i], end=' ')"
   ]
  },
  {
   "cell_type": "code",
   "execution_count": 25,
   "id": "6d67c4c8-64c8-4626-84dc-16e5ba9c8e13",
   "metadata": {},
   "outputs": [
    {
     "name": "stdout",
     "output_type": "stream",
     "text": [
      "[2, 1, 1, 1, 1, 1, 2, 1, 2, 2]\n"
     ]
    }
   ],
   "source": [
    "# random라이브러리\n",
    "# 임의의 수를 생성할 때 사용하는 표준 라이브러리\n",
    "#psl 파이썬에 기본으로 설치된 모듈과 패키지, 내장함수\n",
    "# random.radint(시작정수, 끝정수) = 이 범위의 난수 생성\n",
    "#import random\n",
    "random_list = [random.randint(1,2) for _ in range(10)]\n",
    "print(random_list)"
   ]
  },
  {
   "cell_type": "code",
   "execution_count": 37,
   "id": "71e38433-79fb-4f44-add8-366b5b789159",
   "metadata": {},
   "outputs": [
    {
     "name": "stdin",
     "output_type": "stream",
     "text": [
      "입력한 숫자는 다음과 같습니다. 5\n"
     ]
    },
    {
     "ename": "TypeError",
     "evalue": "'>' not supported between instances of 'int' and 'list'",
     "output_type": "error",
     "traceback": [
      "\u001b[1;31m---------------------------------------------------------------------------\u001b[0m",
      "\u001b[1;31mTypeError\u001b[0m                                 Traceback (most recent call last)",
      "\u001b[1;32m~\\AppData\\Local\\Temp\\ipykernel_2188\\269135148.py\u001b[0m in \u001b[0;36m<module>\u001b[1;34m\u001b[0m\n\u001b[0;32m      5\u001b[0m \u001b[1;32mif\u001b[0m \u001b[1;36m1\u001b[0m\u001b[1;33m>\u001b[0m\u001b[0mi\u001b[0m \u001b[1;32mor\u001b[0m \u001b[0mi\u001b[0m\u001b[1;33m>\u001b[0m\u001b[1;36m100\u001b[0m\u001b[1;33m:\u001b[0m\u001b[1;33m\u001b[0m\u001b[1;33m\u001b[0m\u001b[0m\n\u001b[0;32m      6\u001b[0m     \u001b[0mprint\u001b[0m\u001b[1;33m(\u001b[0m\u001b[1;34m\"1~100 사이의 숫자를 입력하세요.\"\u001b[0m\u001b[1;33m)\u001b[0m\u001b[1;33m\u001b[0m\u001b[1;33m\u001b[0m\u001b[0m\n\u001b[1;32m----> 7\u001b[1;33m \u001b[1;32mif\u001b[0m \u001b[0mi\u001b[0m \u001b[1;33m>\u001b[0m \u001b[0mrandom_list\u001b[0m\u001b[1;33m:\u001b[0m\u001b[1;33m\u001b[0m\u001b[1;33m\u001b[0m\u001b[0m\n\u001b[0m\u001b[0;32m      8\u001b[0m     \u001b[0mprint\u001b[0m\u001b[1;33m(\u001b[0m\u001b[1;34m\"그보다 작습니다.\"\u001b[0m\u001b[1;33m)\u001b[0m\u001b[1;33m\u001b[0m\u001b[1;33m\u001b[0m\u001b[0m\n\u001b[0;32m      9\u001b[0m \u001b[1;32mif\u001b[0m \u001b[0mi\u001b[0m \u001b[1;33m<\u001b[0m \u001b[0mrandom_list\u001b[0m\u001b[1;33m:\u001b[0m\u001b[1;33m\u001b[0m\u001b[1;33m\u001b[0m\u001b[0m\n",
      "\u001b[1;31mTypeError\u001b[0m: '>' not supported between instances of 'int' and 'list'"
     ]
    }
   ],
   "source": [
    "# 다시 정리(강의 노트)\n",
    "random_list = [random.randint(1,100) for _ in range(1)]\n",
    "while True:\n",
    "    break\n",
    "i = int(input(\"입력한 숫자는 다음과 같습니다.\"))\n",
    "if 1>i or i>100:\n",
    "    print(\"1~100 사이의 숫자를 입력하세요.\")\n",
    "if i > random_list:\n",
    "    print(\"그보다 작습니다.\")\n",
    "if i < random_list:\n",
    "    print(\"그보다 큽니다.\")\n",
    "if i == random_list:\n",
    "    print(\"맞췄습니다!\")"
   ]
  },
  {
   "cell_type": "code",
   "execution_count": 35,
   "id": "cd44f8eb-16c3-4e44-b5a0-895ea965f0ac",
   "metadata": {},
   "outputs": [],
   "source": [
    "random_num=random.randint(1,100)"
   ]
  },
  {
   "cell_type": "code",
   "execution_count": 40,
   "id": "453588d2-1a43-4c45-8ac0-8867216e60ae",
   "metadata": {},
   "outputs": [
    {
     "data": {
      "text/plain": [
       "'안!녕!하!세!요'"
      ]
     },
     "execution_count": 40,
     "metadata": {},
     "output_type": "execute_result"
    }
   ],
   "source": [
    "a=list('안녕하세요')\n",
    "\"크\".join(a)\n",
    "\"!\".join(a)"
   ]
  },
  {
   "cell_type": "code",
   "execution_count": null,
   "id": "44f31658-c5a9-4cf0-a99e-6dae495e19cd",
   "metadata": {},
   "outputs": [],
   "source": []
  }
 ],
 "metadata": {
  "kernelspec": {
   "display_name": "Python 3 (ipykernel)",
   "language": "python",
   "name": "python3"
  },
  "language_info": {
   "codemirror_mode": {
    "name": "ipython",
    "version": 3
   },
   "file_extension": ".py",
   "mimetype": "text/x-python",
   "name": "python",
   "nbconvert_exporter": "python",
   "pygments_lexer": "ipython3",
   "version": "3.9.13"
  }
 },
 "nbformat": 4,
 "nbformat_minor": 5
}
