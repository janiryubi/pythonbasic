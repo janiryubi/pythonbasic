{
 "cells": [
  {
   "cell_type": "code",
   "execution_count": 1,
   "id": "e8a8cee7-dc90-4c15-ab78-c17241bee905",
   "metadata": {},
   "outputs": [
    {
     "name": "stdout",
     "output_type": "stream",
     "text": [
      "들여쓰기 중요함\n",
      "hello\n"
     ]
    }
   ],
   "source": [
    "# if문(흐름 방해) : 조건이 맞을 때만 실행하라.\n",
    "# main 흐름 ->if조건->True일 경우, if문 블록\n",
    "                  # ->False일 경우, main흐름\n",
    "is_greet = True\n",
    "if is_greet:\n",
    "    print(\"들여쓰기 중요함\")\n",
    "    \n",
    "if True:\n",
    "    print(\"hello\")\n",
    "    \n",
    "# 만약 이 조건이 True면 아래 들여쓰기한 부분을 실행해:\n",
    "    # 들여쓰기(제발 띄어쓰기 4칸)\n",
    "    # 들여쓰기(제발 띄어쓰기 4칸) 조건이 True가 아니면 실행X\n",
    "    # 들여쓰기(제발 띄어쓰기 4칸)\n",
    "# 다시 주 흐름으로!\n",
    "\n",
    "# 만약 이 조건이 False면 아래 들여쓰기한 부분을 패스해:\n",
    "    # 들여쓰기(제발 띄어쓰기 4칸)\n",
    "    # 들여쓰기(제발 띄어쓰기 4칸) 조건이 True가 아니면 실행X\n",
    "    # 들여쓰기(제발 띄어쓰기 4칸)\n",
    "# 다시 주 흐름으로!"
   ]
  },
  {
   "cell_type": "code",
   "execution_count": 2,
   "id": "d344a0de-472d-4bb8-b262-cbd0fa9c5089",
   "metadata": {},
   "outputs": [
    {
     "name": "stdin",
     "output_type": "stream",
     "text": [
      "정수를 입력해주세요 334\n"
     ]
    },
    {
     "name": "stdout",
     "output_type": "stream",
     "text": [
      "334\n",
      "<class 'int'>\n",
      "<class 'int'>\n",
      "input_value4는 정수입니다.\n"
     ]
    }
   ],
   "source": [
    "# input_value4가 정수일 때만 실행되는 코드\n",
    "# 좌 is 우 -> 좌우를 비교하여 같으면 True/다르면 False\n",
    "input_value4 = int(input(\"정수를 입력해주세요\"))\n",
    "print(input_value4)\n",
    "print(type(input_value4))\n",
    "print(int)\n",
    "type(input_value4) is int\n",
    "if type(input_value4) is int:#type함수 쓰고 is쓰고 뒤에 type종류 적음\n",
    "    print(\"input_value4는 정수입니다.\")"
   ]
  },
  {
   "cell_type": "code",
   "execution_count": 3,
   "id": "1cc6d415-6294-4c8c-b2dd-25a8a7dadbbb",
   "metadata": {},
   "outputs": [],
   "source": [
    "#논리연산자\n",
    "# and : 좌우 모두 True 일 때 True / 하나라도 False면 False\n",
    "# or : 좌우 중 하나라도 True 일 때 True / 모두 False면 False\n",
    "# not : True를 False로 / False를 True로"
   ]
  },
  {
   "cell_type": "code",
   "execution_count": 4,
   "id": "632ce6f3-b331-4ea2-bfbf-616ce44bdd4d",
   "metadata": {},
   "outputs": [],
   "source": [
    "# elif문 - 여러개 올 수 있음\n",
    "# 만약 이 조건이 False면 아래 들여쓰기한 부분을 패스해:\n",
    "    # 들여쓰기(제발 띄어쓰기 4칸)\n",
    "    # 들여쓰기(제발 띄어쓰기 4칸) if문\n",
    "    # 들여쓰기(제발 띄어쓰기 4칸)\n",
    "# 위 조건이 아니고 만약 이 조건이 True면 아래 들여쓰기한 부분을 실행해:\n",
    "    # 들여쓰기(제발 띄어쓰기 4칸)\n",
    "    # 들여쓰기(제발 띄어쓰기 4칸) elif문\n",
    "    # 들여쓰기(제발 띄어쓰기 4칸)\n",
    "# 다시 주 흐름으로!"
   ]
  },
  {
   "cell_type": "code",
   "execution_count": 5,
   "id": "d36213bd-125c-4b01-a600-0528f351baec",
   "metadata": {},
   "outputs": [
    {
     "name": "stdout",
     "output_type": "stream",
     "text": [
      "<class 'str'>\n",
      "문자열입니다.\n",
      "<class 'int'>\n",
      "정수입니다\n"
     ]
    }
   ],
   "source": [
    "a = \"100\"\n",
    "# a라는 변수의 ㅏ타입이 int라면 True, int가 아니라면 False\n",
    "if type(a) is int:\n",
    "    print(\"a는 정수입니다\")\n",
    "b = \"10\"\n",
    "print(type(b))\n",
    "if type(b) is int:\n",
    "    print(\"정수입니다\")\n",
    "    \n",
    "# 앞의 조건이 전부 False일때만 실행되는 부분\n",
    "elif type(b) is str:\n",
    "    print(\"문자열입니다.\")\n",
    "\n",
    "b = 10\n",
    "print(type(b))\n",
    "if type(b) is int:\n",
    "    print(\"정수입니다\")\n",
    "elif type(b) is str:\n",
    "    print(\"문자열입니다.\")\n",
    "#elif True : #type(b)is not int"
   ]
  },
  {
   "cell_type": "code",
   "execution_count": 6,
   "id": "530ca4b6-e563-4e36-8cf6-dcd5bc66ef63",
   "metadata": {},
   "outputs": [
    {
     "name": "stdout",
     "output_type": "stream",
     "text": [
      "10보다 작고, 5보단 큽니다.\n",
      "끝\n",
      "우\n",
      "끝\n"
     ]
    }
   ],
   "source": [
    "c = 7\n",
    "if c>10:\n",
    "    print(\"10보다 큽니다\")\n",
    "elif c<5:\n",
    "    print(\"10보다 작고, 5보다도 작습니다.\")\n",
    "elif True:\n",
    "    print(\"10보다 작고, 5보단 큽니다.\")\n",
    "          \n",
    "          \n",
    "print(\"끝\")\n",
    "\n",
    "\n",
    "d =88 #0~100까지 점수\n",
    "if d >= 90:# d < 90\n",
    "    print(\"수\")\n",
    "elif 90 > d and d >= 80: # 80 > d \n",
    "    print(\"우\")\n",
    "elif d >= 70:\n",
    "    print(\"미\")\n",
    "          \n",
    "          \n",
    "print(\"끝\")"
   ]
  },
  {
   "cell_type": "code",
   "execution_count": 7,
   "id": "0e1cdfc5-76cd-4853-a1bc-239e532107db",
   "metadata": {},
   "outputs": [
    {
     "name": "stdout",
     "output_type": "stream",
     "text": [
      "30대 입니다\n"
     ]
    }
   ],
   "source": [
    "age = 39\n",
    "if 20<= age<30:\n",
    "    print(\"20대 입니다\")\n",
    "elif 30<= age<40:\n",
    "    print(\"30대 입니다\")\n",
    "# 다른 언어의 경우, 20<=age and age<30 으로 적어야 함"
   ]
  },
  {
   "cell_type": "code",
   "execution_count": 8,
   "id": "a1850b95-43ee-4ce4-a01f-be1b332beff8",
   "metadata": {},
   "outputs": [],
   "source": [
    "# elif 문 주의사항 - if 20대/ elif 30대 : - if 30대/ elif 20대 가능\n",
    "                # - if 2의 배수/ elif 3의 배수 : if 3의 배수/ elif 2의 배수 불가능(6의 배수 실행 안되기 때문"
   ]
  },
  {
   "cell_type": "code",
   "execution_count": 9,
   "id": "31c90e50-3c31-4fc3-acd9-9c434d31294c",
   "metadata": {},
   "outputs": [],
   "source": [
    "#if문 선언 후 콜론 다음 줄에 들여쓰기 된 줄이 나오지 않으면 오류\n",
    "#if문의 바디를 나중에 작성할 예정이라면 pass키워드를 통해 오류없이 코드 작성 가능\n",
    "#if 조건식:\n",
    "#if 1=1:\n",
    "   # pass##TOBE #나중에 구현할거다"
   ]
  },
  {
   "cell_type": "code",
   "execution_count": 10,
   "id": "6c2befeb-3267-4f86-9304-9fb2ca88a6c6",
   "metadata": {},
   "outputs": [],
   "source": [
    "# else문 -if가 없으면 elif,else는 실행 x\n",
    "# 만약 이 조건이 False면 아래 들여쓰기한 부분을 패스해:\n",
    "    # 들여쓰기(제발 띄어쓰기 4칸)\n",
    "    # 들여쓰기(제발 띄어쓰기 4칸) if문\n",
    "    # 들여쓰기(제발 띄어쓰기 4칸)\n",
    "# 위 조건이 아니고 만약 이 조건이 True면 아래 들여쓰기한 부분을 실행해:\n",
    "    # 들여쓰기(제발 띄어쓰기 4칸)\n",
    "    # 들여쓰기(제발 띄어쓰기 4칸) elif문\n",
    "    # 들여쓰기(제발 띄어쓰기 4칸)\n",
    "# 위 조건이 모두 아니라면 아래 들여쓰기한 부분을 실행해:\n",
    "    # 들여쓰기(제발 띄어쓰기 4칸)\n",
    "    # 들여쓰기(제발 띄어쓰기 4칸) else문\n",
    "    # 들여쓰기(제발 띄어쓰기 4칸)\n",
    "# 다시 주 흐름으로!"
   ]
  },
  {
   "cell_type": "code",
   "execution_count": 11,
   "id": "3982304a-659d-4d4c-88da-55dd7f7e3303",
   "metadata": {},
   "outputs": [
    {
     "name": "stdout",
     "output_type": "stream",
     "text": [
      "오우 불혹을 넘기셨군요\n",
      "감사합니다\n"
     ]
    }
   ],
   "source": [
    "age = 40\n",
    "if 20<= age<30:\n",
    "    print(\"20대 입니다\")\n",
    "elif 30<= age<40:\n",
    "    print(\"30대 입니다\")\n",
    "else:\n",
    "    print(\"오우 불혹을 넘기셨군요\")\n",
    "print(\"감사합니다\")\n",
    "# 다른 언어의 경우, 20<=age and age<30 으로 적어야 함"
   ]
  },
  {
   "cell_type": "code",
   "execution_count": 12,
   "id": "53c70743-dfc3-47a8-9e2e-7da0cf05a157",
   "metadata": {},
   "outputs": [
    {
     "name": "stdin",
     "output_type": "stream",
     "text": [
      "아이디를 입력하세요:  ㄷㄱ\n",
      "회원 등급을 입력해주세요:  3\n"
     ]
    },
    {
     "name": "stdout",
     "output_type": "stream",
     "text": [
      "제한적인 권한을 갖습니다\n"
     ]
    }
   ],
   "source": [
    "idd = input(\"아이디를 입력하세요: \")\n",
    "if idd == \"admin\":\n",
    "    print(\"최고 관리자, 모든 권한을 갖습니다\")\n",
    "elif idd != \"admin\":\n",
    "    level = int(input(\"회원 등급을 입력해주세요: \")) # 적정 위치에 잘 넣어야! 들여쓰기가 없으면 무조건 실행!\n",
    "    if 1<=level<=3: # 바로 레벨의 숫자를 구분\n",
    "        print(\"제한적인 권한을 갖습니다\")\n",
    "    else:\n",
    "        print(\"권한이 없습니다.\")\n",
    "#이 때, 만약 - if를 하나 더 써야 할 수도 있음"
   ]
  },
  {
   "cell_type": "code",
   "execution_count": 13,
   "id": "47012e89-03e2-4e4e-87ff-61aab8ffabc9",
   "metadata": {},
   "outputs": [
    {
     "name": "stdin",
     "output_type": "stream",
     "text": [
      "나이를 입력해주세요. 23\n"
     ]
    },
    {
     "name": "stdout",
     "output_type": "stream",
     "text": [
      "10살 이상입니다.\n",
      "20살 이상입니다.\n",
      "age >=20 구간입니다.\n",
      "age >=10 구간입니다.\n"
     ]
    }
   ],
   "source": [
    "age =int(input(\"나이를 입력해주세요.\"))\n",
    "if age>=10:\n",
    "    print(\"10살 이상입니다.\")\n",
    "    if age>=20:\n",
    "        print(\"20살 이상입니다.\")\n",
    "        if age>=30:\n",
    "            print(\"30살 이상입니다.\")\n",
    "        print(\"age >=20 구간입니다.\")\n",
    "    print(\"age >=10 구간입니다.\")"
   ]
  },
  {
   "cell_type": "code",
   "execution_count": 14,
   "id": "599607c5-2b74-4148-a3b5-df8aee09494f",
   "metadata": {},
   "outputs": [
    {
     "name": "stdin",
     "output_type": "stream",
     "text": [
      "자연수를 입력해주세요:  45\n"
     ]
    },
    {
     "name": "stdout",
     "output_type": "stream",
     "text": [
      "0\n"
     ]
    }
   ],
   "source": [
    "naturalnumber = int(input(\"자연수를 입력해주세요: \"))\n",
    "if naturalnumber>50: # 변수는 띄어쓰기하면 안됌\n",
    "    A = naturalnumber-50 #변수 = 계산식\n",
    "    print(A)\n",
    "elif naturalnumber<=50:\n",
    "    print(\"0\")"
   ]
  },
  {
   "cell_type": "code",
   "execution_count": 15,
   "id": "d677041f-fe47-4d08-9c25-34c573c6bbc2",
   "metadata": {},
   "outputs": [
    {
     "name": "stdin",
     "output_type": "stream",
     "text": [
      "자연수를 입력해주세요:  12\n"
     ]
    },
    {
     "name": "stdout",
     "output_type": "stream",
     "text": [
      "짝수 입니다.\n"
     ]
    }
   ],
   "source": [
    "naturalnumber = int(input(\"자연수를 입력해주세요: \"))\n",
    "if naturalnumber%2 == 0: #/는 나누기, //는 몫, %는 나머지를 구하는 기호\n",
    "    print(\"짝수 입니다.\")\n",
    "else:\n",
    "    print(\"홀수입니다.\")"
   ]
  },
  {
   "cell_type": "code",
   "execution_count": 16,
   "id": "80352d45-528a-4c60-b3fd-c0d78292cc86",
   "metadata": {},
   "outputs": [],
   "source": [
    "# design = int(input(\"소프트웨어 설계 점수를 입력하세요. \"))\n",
    "# develop = int(input(\"소프트웨어 개발 점수를 입력하세요. \"))\n",
    "# construction = int(input(\"데이터베이스 구축 점수를 입력하세요. \"))\n",
    "# programming = int(input(\"프로그래밍 언어 활용 점수를 입력하세요. \"))\n",
    "# information = int(input(\"정보시스템 구축관리 점수를 입력하세요. \"))\n",
    "# if 0>design or design>100:\n",
    "    #print(\"잘못된 점수입니다.\")\n",
    "    #if 0>develop or develop>100:\n",
    "        #print(\"잘못된 점수입니다.\")\n",
    "            #if 0>constructionp or construction>100:\n",
    "                  #print(\"잘못된 점수입니다.\")\n",
    "# elif 0>programming or programming>100:\n",
    "    # print(\"잘못된 점수입니다.\")\n",
    "# elif 0>information or information>100:\n",
    "    # print(\"잘못된 점수입니다.\")\n",
    "    # if {(design + develop + construction + programming + information)/5}>=60:\n",
    "        # print(\"합격\")\n",
    "    # else:\n",
    "        # print(\"불합격\")\n",
    "#0>design or design>100\n",
    "#elif는 조건이 여러개일 때 쓰는 것\n",
    "#if-elif-else는 같은선상에\n",
    "#한번에 실행되어야 하는 조건은 같은 선상에 두어야 한다.\n",
    "# if,elif,else를 모두 사용하는 조건문에서 if,else는 1번만 사용가능, 나머지는 필요에 따라 여러번 사용 가능"
   ]
  },
  {
   "cell_type": "code",
   "execution_count": 17,
   "id": "21cff58c-021c-440f-8191-553a1e12df05",
   "metadata": {},
   "outputs": [
    {
     "name": "stdin",
     "output_type": "stream",
     "text": [
      "소프트웨어 설계 점수를 입력하세요. 45\n",
      "소프트웨어 개발 점수를 입력하세요. 23\n",
      "데이터베이스 구축 점수를 입력하세요. 78\n",
      "프로그래밍 언어 활용 점수를 입력하세요. 89\n",
      "정보시스템 구축관리 점수를 입력하세요. 100\n"
     ]
    },
    {
     "name": "stdout",
     "output_type": "stream",
     "text": [
      "합격입니다.\n"
     ]
    }
   ],
   "source": [
    "a = int(input(\"소프트웨어 설계 점수를 입력하세요.\"))\n",
    "b = int(input(\"소프트웨어 개발 점수를 입력하세요.\"))\n",
    "c = int(input(\"데이터베이스 구축 점수를 입력하세요.\"))\n",
    "d = int(input(\"프로그래밍 언어 활용 점수를 입력하세요.\"))\n",
    "e = int(input(\"정보시스템 구축관리 점수를 입력하세요.\"))\n",
    "if 0<=a<= 100 and 0<=b<= 100 and 0<=c<= 100 and 0<=d<= 100 and 0<=e<= 100:\n",
    "    avg = (a+b+c+d+e)/5 \n",
    "    if avg>=60:\n",
    "        print(\"합격입니다.\")\n",
    "    else:\n",
    "        print(\"불합격입니다.\")\n",
    "else:\n",
    "     print(\"잘못된 점수입니다.\")"
   ]
  },
  {
   "cell_type": "code",
   "execution_count": 18,
   "id": "6b7f6e62-e43a-470f-9498-39b87f4a9e23",
   "metadata": {},
   "outputs": [
    {
     "name": "stdin",
     "output_type": "stream",
     "text": [
      "현재 물의 온도를 입력해주세요 35\n"
     ]
    },
    {
     "name": "stdout",
     "output_type": "stream",
     "text": [
      "액체로 예상됩니다\n"
     ]
    },
    {
     "name": "stdin",
     "output_type": "stream",
     "text": [
      "현재 물의 온도를 입력해주세요 21\n"
     ]
    },
    {
     "name": "stdout",
     "output_type": "stream",
     "text": [
      "액체로 예상됩니다\n"
     ]
    }
   ],
   "source": [
    "watertem = float(input(\"현재 물의 온도를 입력해주세요\")) #문자\n",
    "if watertem >= 100: #숫자\n",
    "    print(\"기체로 예상됩니다\")  \n",
    "elif 0<= watertem <=100:\n",
    "    print(\"액체로 예상됩니다\")\n",
    "elif 0> watertem:\n",
    "        print(\"고체로 예상됩니다\")\n",
    "#TypeError: '>=' not supported between instances of 'str' and 'int'\n",
    "#문자와 숫자는 호환이 안되기 때문에, input 문자를 float으로 실수로 변경해준다.\n",
    "\n",
    "watertem = float(input(\"현재 물의 온도를 입력해주세요\")) #문자\n",
    "if watertem >= 100: #숫자\n",
    "    print(\"기체로 예상됩니다\")  \n",
    "elif 0<= watertem <=100:\n",
    "    print(\"액체로 예상됩니다\")\n",
    "else:\n",
    "    print(\"고체로 예상됩니다\")\n",
    "# else는 조건을 쓰지 않는다."
   ]
  },
  {
   "cell_type": "code",
   "execution_count": 20,
   "id": "0f76eb18-e38c-4d64-998c-cdd8048a2fe6",
   "metadata": {},
   "outputs": [
    {
     "data": {
      "text/plain": [
       "1"
      ]
     },
     "execution_count": 20,
     "metadata": {},
     "output_type": "execute_result"
    }
   ],
   "source": [
    "# int('1.1'- 문자열) 편집못해서 오류남\n",
    "float('1.1')\n",
    "int(float('1.1'))"
   ]
  },
  {
   "cell_type": "code",
   "execution_count": 33,
   "id": "baa8e15f-9a30-4fa9-a4da-eabb06316abe",
   "metadata": {},
   "outputs": [
    {
     "name": "stdin",
     "output_type": "stream",
     "text": [
      "자신의 나이를 입력하세요:  14\n"
     ]
    },
    {
     "name": "stdout",
     "output_type": "stream",
     "text": [
      "1100원\n"
     ]
    }
   ],
   "source": [
    "age = int(input(\"자신의 나이를 입력하세요: \"))\n",
    "if age >= 19:\n",
    "    print(\"1500원\")\n",
    "elif 12<=age<=18:\n",
    "    print(\"1100원\")\n",
    "elif 6<=age<=11:\n",
    "    print(\"800원\")\n",
    "else:\n",
    "    print(\"무료입니다\")"
   ]
  },
  {
   "cell_type": "code",
   "execution_count": 35,
   "id": "37b80565-f5d6-4728-bc79-082e119c89fd",
   "metadata": {},
   "outputs": [],
   "source": [
    "# if\n",
    "# elif\n",
    "# elif\n",
    "# elif\n",
    "# ->if 확인후 맞으면 elif안보고 빠져나감\n",
    "\n",
    "# if\n",
    "# if\n",
    "# if\n",
    "# if\n",
    "# -> 일일히 조건을 확인해야 할 때 씀"
   ]
  },
  {
   "cell_type": "code",
   "execution_count": 60,
   "id": "e91b4ac9-5024-450b-85eb-da5b2b1e0667",
   "metadata": {},
   "outputs": [
    {
     "name": "stdin",
     "output_type": "stream",
     "text": [
      "발주 수량을 입력하세요:  2001\n"
     ]
    },
    {
     "name": "stdout",
     "output_type": "stream",
     "text": [
      "2001 개를 주문하셨습니다.\n",
      "적용 할인율은 20%입니다.\n",
      "총 발주 금액은 $16008입니다.\n"
     ]
    }
   ],
   "source": [
    "orderQuantity = int(input(\"발주 수량을 입력하세요: \")) #\"\"잊지 않기\n",
    "price = 10 #$는 문자열임\n",
    "cost = orderQuantity*10 # 왼쪽이 새로 정의하는 변수\n",
    "print(orderQuantity,\"개를 주문하셨습니다.\")\n",
    "if orderQuantity<1000:\n",
    "    print(\"적용 할인율은 0%입니다.\")\n",
    "    print(\"총 발주 금액은 $\",int(orderQuantity*10),\"입니다.\") \n",
    "elif 1000<=orderQuantity<=1500:\n",
    "    print(\"적용 할인율은 5%입니다.\")\n",
    "    print(\"총 발주 금액은 $\",int(0.95*orderQuantity*10),\"입니다.\")\n",
    "elif 1500<orderQuantity<=2000:\n",
    "    print(\"적용 할인율은 10%입니다.\")\n",
    "    print(\"총 발주 금액은 $\",int(0.9*orderQuantity*10),\"입니다.\")\n",
    "elif 2000<orderQuantity:\n",
    "    print(\"적용 할인율은 20%입니다.\")\n",
    "    print(\"총 발주 금액은 $\",int(0.8*orderQuantity*10),\"입니다.\",sep=\"\")\n",
    "# TypeError: 'str' object cannot be interpreted as an integer\n",
    "#$는 계산식이 아니라 옆에 기호로 붙여야 함"
   ]
  },
  {
   "cell_type": "code",
   "execution_count": 41,
   "id": "9f240649-50c3-4742-bb90-e869434ebd2c",
   "metadata": {},
   "outputs": [
    {
     "ename": "SyntaxError",
     "evalue": "invalid syntax (345617879.py, line 6)",
     "output_type": "error",
     "traceback": [
      "\u001b[1;36m  File \u001b[1;32m\"C:\\Users\\Playdata\\AppData\\Local\\Temp\\ipykernel_11892\\345617879.py\"\u001b[1;36m, line \u001b[1;32m6\u001b[0m\n\u001b[1;33m    if 100>b,b<0\u001b[0m\n\u001b[1;37m            ^\u001b[0m\n\u001b[1;31mSyntaxError\u001b[0m\u001b[1;31m:\u001b[0m invalid syntax\n"
     ]
    }
   ],
   "source": [
    "a = int(input(\"소프트웨어 설계 점수를 입력하세요.\"))\n",
    "b = int(input(\"소프트웨어 개발 점수를 입력하세요.\"))\n",
    "c = int(input(\"데이터베이스 구축 점수를 입력하세요.\"))\n",
    "d = int(input(\"프로그래밍 언어 활용 점수를 입력하세요.\"))\n",
    "e = int(input(\"정보시스템 구축관리 점수를 입력하세요.\"))\n",
    "if 100>b,b<0\n",
    "and 0<=b<= 100 and 0<=c<= 100 and 0<=d<= 100 and 0<=e<= 100:\n",
    "    avg = (a+b+c+d+e)/5 \n",
    "    if avg>=60:\n",
    "        print(\"합격입니다.\")\n",
    "    else:\n",
    "        print(\"불합격입니다.\")\n",
    "else:\n",
    "     print(\"잘못된 점수입니다.\")"
   ]
  },
  {
   "cell_type": "code",
   "execution_count": 63,
   "id": "c8383f64-4da8-4b37-be81-78e5273736fb",
   "metadata": {},
   "outputs": [
    {
     "ename": "SyntaxError",
     "evalue": "invalid syntax (2144832210.py, line 2)",
     "output_type": "error",
     "traceback": [
      "\u001b[1;36m  File \u001b[1;32m\"C:\\Users\\Playdata\\AppData\\Local\\Temp\\ipykernel_11892\\2144832210.py\"\u001b[1;36m, line \u001b[1;32m2\u001b[0m\n\u001b[1;33m    result = Resident_back.split('')\u001b[0m\n\u001b[1;37m    ^\u001b[0m\n\u001b[1;31mSyntaxError\u001b[0m\u001b[1;31m:\u001b[0m invalid syntax\n"
     ]
    }
   ],
   "source": [
    "Resident_back = input(\"주민번호 뒷자리를 입력하세요: \"\n",
    "result = Resident_back.split('')\n",
    "if result[0] = 1 or 3\n",
    "                    :print(result.count[1])\n",
    "     print(\"남자\") \n",
    "elif result[0] = 2 or 4:\n",
    "     print(\"여자\") \n",
    "else:\n",
    "    if result[0:6] != 7:\n",
    "        print(\"자리수를 잘못 입력했습니다.\")\n",
    "    if result[0:0:1] != 4>=:\n",
    "        print(\"잘못된 입력입니다.\")\n",
    "                      len/in"
   ]
  },
  {
   "cell_type": "code",
   "execution_count": 82,
   "id": "67aafd36-6066-45c2-b40f-0d16e8cf156c",
   "metadata": {},
   "outputs": [
    {
     "name": "stdin",
     "output_type": "stream",
     "text": [
      "주민번호 뒷자리를 입력하세요:  2233333\n"
     ]
    },
    {
     "name": "stdout",
     "output_type": "stream",
     "text": [
      "여자\n"
     ]
    }
   ],
   "source": [
    "# 연습문제 해답 주민등록번호 \n",
    "reg_num = input(\"주민번호 뒷자리를 입력하세요: \")\n",
    "if len(reg_num) !=7:\n",
    "    print(\"자리수를 잘못 입력했습니다.\")\n",
    "else:\n",
    "    fst_num = int(reg_num[0] )\n",
    "    if fst_num in (1,3):\n",
    "        print(\"남자\")\n",
    "    elif fst_num in(2,4):\n",
    "        print(\"여자\")\n",
    "    else:\n",
    "        print(\"잘못된 입력입니다.\")"
   ]
  },
  {
   "cell_type": "code",
   "execution_count": 83,
   "id": "a2145cf5-0348-4fa3-a69d-6530373a523a",
   "metadata": {},
   "outputs": [
    {
     "name": "stdin",
     "output_type": "stream",
     "text": [
      "확인할 연도를 입력하세요:  2010\n"
     ]
    },
    {
     "name": "stdout",
     "output_type": "stream",
     "text": [
      "평년입니다\n"
     ]
    }
   ],
   "source": [
    "sun = int(input(\"확인할 연도를 입력하세요: \"))\n",
    "if sun%4 == 0 and (sun%100 != 0 or sun%400==0): #조건으로 제시한 것과 반대로 생각해보기\n",
    "    print(\"윤년입니다\")\n",
    "else:\n",
    "    print(\"평년입니다\")"
   ]
  },
  {
   "cell_type": "code",
   "execution_count": null,
   "id": "3628e0db-0c18-4f6f-953c-5650ff71e424",
   "metadata": {},
   "outputs": [],
   "source": []
  }
 ],
 "metadata": {
  "kernelspec": {
   "display_name": "Python 3 (ipykernel)",
   "language": "python",
   "name": "python3"
  },
  "language_info": {
   "codemirror_mode": {
    "name": "ipython",
    "version": 3
   },
   "file_extension": ".py",
   "mimetype": "text/x-python",
   "name": "python",
   "nbconvert_exporter": "python",
   "pygments_lexer": "ipython3",
   "version": "3.9.13"
  }
 },
 "nbformat": 4,
 "nbformat_minor": 5
}
