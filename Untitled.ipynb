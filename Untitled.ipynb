{
 "cells": [
  {
   "cell_type": "code",
   "execution_count": 3,
   "id": "e8e961eb-94d3-47b9-8244-cd46b8794137",
   "metadata": {},
   "outputs": [],
   "source": [
    "import requests"
   ]
  },
  {
   "cell_type": "code",
   "execution_count": 2,
   "id": "375129f7-2d3e-44d2-b195-35425f02370c",
   "metadata": {},
   "outputs": [
    {
     "ename": "SyntaxError",
     "evalue": "invalid syntax (1790004289.py, line 1)",
     "output_type": "error",
     "traceback": [
      "\u001b[1;36m  File \u001b[1;32m\"C:\\Users\\Playdata\\AppData\\Local\\Temp\\ipykernel_10712\\1790004289.py\"\u001b[1;36m, line \u001b[1;32m1\u001b[0m\n\u001b[1;33m    import\u001b[0m\n\u001b[1;37m          ^\u001b[0m\n\u001b[1;31mSyntaxError\u001b[0m\u001b[1;31m:\u001b[0m invalid syntax\n"
     ]
    }
   ],
   "source": [
    "http://apis.data.go.kr/1360000/TourStnInfoService1"
   ]
  },
  {
   "cell_type": "code",
   "execution_count": 20,
   "id": "83131482-69f6-4485-af7e-37256c194056",
   "metadata": {},
   "outputs": [
    {
     "name": "stdout",
     "output_type": "stream",
     "text": [
      "200\n"
     ]
    }
   ],
   "source": [
    "key = \"9HVu4d+RAVnZ7pPksMXMsgTiI4WokCI8par1thKnZJvWIhhDLg0beZXMAxpLZGhoO5pGslOSaV1lCqE73S74HA==\"\n",
    "\n",
    "response = requests.get('http://apis.data.go.kr/1360000/TourStnInfoService1/getCityTourClmIdx1',\n",
    "                        params={'ServiceKey ': key,\n",
    "                                \"pageNo\": \"1\",\n",
    "                                \"numOfRows\" : \"10\", \n",
    "                               \"CURRENT_DATE\": \"2023-03-07 00\",\n",
    "                               \"HOUR\": \"2023-03-07 12\",\n",
    "                               \"COURSE_ID\" : \"1\"})\n",
    "print(response.status_code)"
   ]
  },
  {
   "cell_type": "code",
   "execution_count": 21,
   "id": "102d6289-ce56-4e17-ac43-f3a4b29cd9b4",
   "metadata": {},
   "outputs": [
    {
     "data": {
      "text/plain": [
       "'<OpenAPI_ServiceResponse>\\n\\t<cmmMsgHeader>\\n\\t\\t<errMsg>SERVICE ERROR</errMsg>\\n\\t\\t<returnAuthMsg>SERVICE_KEY_IS_NOT_REGISTERED_ERROR</returnAuthMsg>\\n\\t\\t<returnReasonCode>30</returnReasonCode>\\n\\t</cmmMsgHeader>\\n</OpenAPI_ServiceResponse>'"
      ]
     },
     "execution_count": 21,
     "metadata": {},
     "output_type": "execute_result"
    }
   ],
   "source": [
    "response.text"
   ]
  },
  {
   "cell_type": "code",
   "execution_count": null,
   "id": "774146d3-5959-4c18-9095-35d2d9b29de9",
   "metadata": {},
   "outputs": [],
   "source": []
  }
 ],
 "metadata": {
  "kernelspec": {
   "display_name": "Python 3 (ipykernel)",
   "language": "python",
   "name": "python3"
  },
  "language_info": {
   "codemirror_mode": {
    "name": "ipython",
    "version": 3
   },
   "file_extension": ".py",
   "mimetype": "text/x-python",
   "name": "python",
   "nbconvert_exporter": "python",
   "pygments_lexer": "ipython3",
   "version": "3.9.13"
  }
 },
 "nbformat": 4,
 "nbformat_minor": 5
}
