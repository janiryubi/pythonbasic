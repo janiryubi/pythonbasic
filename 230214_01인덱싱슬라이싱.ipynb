{
 "cells": [
  {
   "cell_type": "code",
   "execution_count": 79,
   "id": "fc10af80-5762-409e-b244-07308b60d642",
   "metadata": {
    "tags": []
   },
   "outputs": [],
   "source": [
    "#옆 번호 [A]->빨강-코드 틀림 / 노랑-코드 진행 중 / 흑백-처리 완료 /파랑-코드 쓰는 중\n",
    "# enter - 줄바꿈 / shift + enter 코드 실행 / ctrl +z 뒤로가기 / ctrl +s 저장\n",
    "# 코드 멈출경우 맨 위에 삼각형두개 \n",
    "변수 검정/빨강 str문자/초록 함수"
   ]
  },
  {
   "cell_type": "code",
   "execution_count": 68,
   "id": "607dcb9f-1817-4423-89a2-06efa3abb442",
   "metadata": {},
   "outputs": [
    {
     "name": "stdout",
     "output_type": "stream",
     "text": [
      "\n",
      "안녕하세요.\n",
      "나는 파이썬을 공부하고 있습니다.\n",
      "반갑습니다.\n",
      "\n"
     ]
    }
   ],
   "source": [
    "# \\n 줄바꿈 만약 \\n을 그대로 사용하고 싶다면 \\추가 or r 사용\n",
    "# \"\"\"삼중따옴표를 사용하면 여러줄로 확장하여 출력한다\n",
    "S3 = \"\"\"\n",
    "안녕하세요.\n",
    "나는 파이썬을 공부하고 있습니다.\n",
    "반갑습니다.\n",
    "\"\"\"\n",
    "print(S3)"
   ]
  },
  {
   "cell_type": "code",
   "execution_count": 66,
   "id": "6b2a9ea1-295c-4a8c-89c1-df2f71ca2aa3",
   "metadata": {},
   "outputs": [
    {
     "name": "stdout",
     "output_type": "stream",
     "text": [
      "안녕하세요.\n",
      "나는 파이썬을 공부하고 있습니다.\n",
      "반갑습니다.\n",
      "\n"
     ]
    }
   ],
   "source": [
    "# 출력 시 줄바꿈 방지 \\\n",
    "S4 = \"\"\"\\\n",
    "안녕하세요.\n",
    "나는 파이썬을 공부하고 있습니다.\n",
    "반갑습니다.\n",
    "\"\"\"\n",
    "print(S4)"
   ]
  },
  {
   "cell_type": "code",
   "execution_count": 67,
   "id": "2aa771f7-82b1-4797-8357-02a490ecb720",
   "metadata": {},
   "outputs": [
    {
     "name": "stdout",
     "output_type": "stream",
     "text": [
      "안녕하세요.\n",
      "나는 파이썬을 공부하고 있습니다.\n",
      "반갑습니다.\n"
     ]
    }
   ],
   "source": [
    "S5 = \"\"\"\\\n",
    "안녕하세요.\n",
    "나는 파이썬을 공부하고 있습니다.\n",
    "반갑습니다.\\\n",
    "\"\"\" # 슬래쉬 이 줄에 적으면 안됌(\\\"문자 인식)\n",
    "print(S5)"
   ]
  },
  {
   "cell_type": "code",
   "execution_count": 13,
   "id": "30511012-4887-4e7d-98c1-03b1bb52bb26",
   "metadata": {},
   "outputs": [
    {
     "name": "stdout",
     "output_type": "stream",
     "text": [
      "\"안녕하세요.\"\n",
      "나는 파이썬을 공부하고 있습니다.\n",
      "반갑습니다.\n"
     ]
    }
   ],
   "source": [
    "S6 = \"\"\"\\\n",
    "\"안녕하세요.\"\n",
    "나는 파이썬을 공부하고 있습니다.\n",
    "반갑습니다.\\\n",
    "\"\"\"\n",
    "print(S6)"
   ]
  },
  {
   "cell_type": "code",
   "execution_count": 65,
   "id": "ef4c9fe7-46cd-4349-8a32-25efa2229633",
   "metadata": {},
   "outputs": [
    {
     "name": "stdout",
     "output_type": "stream",
     "text": [
      "너무 너무 너무 너무 너무 너무 너무  파이썬 공부가 즐겁습니다.\n"
     ]
    }
   ],
   "source": [
    "# , or +로 이어줄 수 있음\n",
    "S7 = \"너무 \"\n",
    "print(S7*7,\"파이썬 공부가 즐겁습니다.\")"
   ]
  },
  {
   "cell_type": "code",
   "execution_count": 23,
   "id": "87a265cd-bf34-405c-81b3-f994b7eaa46b",
   "metadata": {},
   "outputs": [
    {
     "name": "stdout",
     "output_type": "stream",
     "text": [
      "너무 너무 너무 너무 너무 너무 너무 너무 너무 너무 너무 너무 너무 너무 너무 너무 너무 너무 너무 너무 너무 너무 너무 너무 너무 너무 너무 너무 너무 너무 너무 너무 너무 너무 너무 너무 너무 너무 너무 너무 너무 너무 너무 너무 너무 너무 너무 너무 너무 너무 너무 너무 너무 너무 너무 너무 너무 너무 너무 너무 너무 너무 너무 너무 너무 너무 너무 너무 너무 너무 너무 너무 너무 너무 너무 너무 너무 너무 너무 너무 너무 너무 너무 너무 너무 너무 너무 너무 너무 너무 너무 너무 너무 너무 너무 너무 너무 너무 너무 너무 파이썬 공부가 즐겁습니다\n"
     ]
    }
   ],
   "source": [
    "# , or +로 이어줄 수 있음\n",
    "S8 = \"너무 \"*100 + \"파이썬 공부가 즐겁습니다\"\n",
    "print(S8)"
   ]
  },
  {
   "cell_type": "code",
   "execution_count": 64,
   "id": "50026840-0f6e-4a21-8116-c12d06664098",
   "metadata": {},
   "outputs": [
    {
     "name": "stdout",
     "output_type": "stream",
     "text": [
      "p\n"
     ]
    }
   ],
   "source": [
    "# 시퀀스 자료형 - 순서에 따른 값의 배열\n",
    "# 인덱싱 / 슬라이싱 str /list/tuple/range/bytes/byteaterry\n",
    "# 값의 시작점은 0,1,2 / 뒤에서부터 셀때는 -1부터 시작하여 -2,-3으로\n",
    "# 처음 A[0]....마지막 A(-1)\n",
    "# p/y/t/h/o/n (각 문자 -> 요소) str\n",
    "# 0/1/2/3/4/5 정방향 index\n",
    "# -6/-5/-4/-3/-2/-1 역방향 index\n",
    "word = 'python'\n",
    "print(word[0])"
   ]
  },
  {
   "cell_type": "code",
   "execution_count": 27,
   "id": "0d8ef7de-d9e4-4bb0-9012-382073233698",
   "metadata": {},
   "outputs": [],
   "source": [
    "# str 'python' / list [숫자,문자] / tuple(숫자,문자) / range(S) -> S까지의 정수\n",
    "# 범위를 넘어가는 경우, index error 발생 EX)python -> print[6]"
   ]
  },
  {
   "cell_type": "code",
   "execution_count": 63,
   "id": "a17b4e2c-0285-41cc-9d05-2a0077f1690f",
   "metadata": {},
   "outputs": [
    {
     "name": "stdout",
     "output_type": "stream",
     "text": [
      "꺾\n"
     ]
    }
   ],
   "source": [
    "sentence = \"중요한 것은 꺾이지 않는 마음\" # 괄호는 쓰지않아도 됌\n",
    "print(sentence[7]) #괄호 빼먹지 않기 EOF에러발생"
   ]
  },
  {
   "cell_type": "code",
   "execution_count": 80,
   "id": "a70ac94c-04db-4af3-a48c-ba65aa30613a",
   "metadata": {},
   "outputs": [
    {
     "name": "stdout",
     "output_type": "stream",
     "text": [
      "py\n"
     ]
    }
   ],
   "source": [
    "# 슬라이싱 - 부분 문자열을 얻는 방법 - 인덱스 범위를 벗어나도 처리 가능\n",
    "# 범위에 해당하는 요소 가져옴 시작인덱스: 끝인덱스 작성\n",
    "word = 'python'\n",
    "print(word[0:2])\n",
    "#        이상 미만 (음수표현 문자열 슬라이싱 첫 페이지 참고)"
   ]
  },
  {
   "cell_type": "code",
   "execution_count": 73,
   "id": "1a92e653-08c2-473e-b2da-8d9e649825d4",
   "metadata": {},
   "outputs": [
    {
     "name": "stdout",
     "output_type": "stream",
     "text": [
      "pto\n"
     ]
    }
   ],
   "source": [
    "#슬라이싱의 3 파트(구분 :콜론)\n",
    "#변수명[시작숫자(이상:끝숫자(미만):증감크기]\n",
    "#첫 요소부터 포함 시 시작숫자 / 마지막 요소 포함 시 끝숫자 생략 가능 / 증감크기 1일때 증감크기 생락 가능\n",
    "word = 'python'\n",
    "print(word[::2])"
   ]
  },
  {
   "cell_type": "code",
   "execution_count": 60,
   "id": "41a66d2a-f072-405b-8455-3e4a14114be6",
   "metadata": {},
   "outputs": [
    {
     "name": "stdout",
     "output_type": "stream",
     "text": [
      "\n",
      "한 것은 꺾이지 않는 마음\n"
     ]
    }
   ],
   "source": [
    "sentence = \"중요한 것은 꺾이지 않는 마음\"\n",
    "print(sentence[42:]) #해당하는 것이 없어서 값이 나오지는 않지만 처리는 가능\n",
    "print(sentence[2:42])"
   ]
  },
  {
   "cell_type": "code",
   "execution_count": 59,
   "id": "c216c5a8-9c5d-421d-885f-a43f44385594",
   "metadata": {},
   "outputs": [
    {
     "name": "stdout",
     "output_type": "stream",
     "text": [
      "꺾이지 않는 마음\n",
      "꺾이지 않는 마음\n"
     ]
    }
   ],
   "source": [
    "# sentence라는 명칭의 변수를 선언하고 '중요한 것은 꺾이지 않는 마음'의 문자열 리터럴을 할당하세요. 그리고 슬라이싱을 활용하여 아래와 같은 결과를 출력해보세요.\n",
    "sentence = \"중요한 것은 꺾이지 않는 마음\"\n",
    "print(sentence[7::]) #closing parenthesis 괄호 잊지 말자\n",
    "print(sentence[7:]) # (sentence[6:])처럼 공백 포함 안하도록"
   ]
  },
  {
   "cell_type": "code",
   "execution_count": 78,
   "id": "9630f014-e70e-4e48-ae87-8dc7072066af",
   "metadata": {},
   "outputs": [
    {
     "name": "stdout",
     "output_type": "stream",
     "text": [
      "한요중\n",
      "한요중\n",
      "한요중\n"
     ]
    }
   ],
   "source": [
    "# sentence라는 명칭의 변수를 선언하고 '중요한 것은 꺾이지 않는 마음'의 문자열 리터럴을 할당하세요. 그리고 슬라이싱을 활용하여 아래와 같은 결과를 출력해보세요\n",
    "sentence = \"중요한 것은 꺾이지 않는 마음\"\n",
    "print(sentence[2::-1])\n",
    "print(sentence[-14::-1])\n",
    "print(sentence[:3][::-1]) #:다음숫자는 미만으로 처리해서 3이 맞음"
   ]
  },
  {
   "cell_type": "code",
   "execution_count": 126,
   "id": "6d186797-98e6-4713-83bd-70cfe731ebca",
   "metadata": {},
   "outputs": [],
   "source": [
    "# 문자열 변경 불가(슬라이싱, 인덱싱 다 안됌)\n",
    "# sentence[0] = \"한\" / 원래 중인데 한으로 바꾸려고 할 때 할당이 되지 않음\n",
    "#'str' object does not support item assignmen 'str'객체는 할당을 지원하지 않는다"
   ]
  },
  {
   "cell_type": "code",
   "execution_count": 124,
   "id": "4afcd29c-68e3-447f-8278-b28bf722c6ef",
   "metadata": {},
   "outputs": [
    {
     "name": "stdout",
     "output_type": "stream",
     "text": [
      "대단한 것은 꺾이지 않는 마음\n"
     ]
    }
   ],
   "source": [
    "#문자열을 변경하려면 새로운 문자열 리터럴로 변수의 값을 할당해야 함\n",
    "sentence = \"대단한\" + sentence[3:]\n",
    "print(sentence)\n",
    "# cannot assign to literal 구문에러 값을 변수에 저장하는 대입 연산자(=)와 값을 비교하는 비교 연산자(==)를 혼동해서 잘못 쓰면 에러가 발생합니다. 또는 변수에 잘못된 값이 저장되어 프로그램이 제대로 동작하지 않을 수도 있습니다. 따라서 어떠한 값이 같은지 비교할 때는 반드시 등호를 두 개(==) 사용해야 한다는 것을 기억하세요."
   ]
  },
  {
   "cell_type": "code",
   "execution_count": 87,
   "id": "1c2ff9fa-b45a-4c8d-9ed3-3954b92a75d6",
   "metadata": {},
   "outputs": [
    {
     "name": "stdout",
     "output_type": "stream",
     "text": [
      "재밌어요재밌어요재밌어요재밌어요재밌어요재밌어요재밌어요재밌어요재밌어요재밌어요\n",
      "40\n"
     ]
    }
   ],
   "source": [
    "# 시퀀스의 크기\n",
    "# len(시퀀스변수명) 함수\n",
    "S7 = '재밌어요'*10\n",
    "print(S7)\n",
    "print(len(S7))"
   ]
  },
  {
   "cell_type": "code",
   "execution_count": 90,
   "id": "7a42d2c7-6c06-4e68-a9b9-3a6df556703a",
   "metadata": {},
   "outputs": [
    {
     "name": "stdout",
     "output_type": "stream",
     "text": [
      "[1, 4, 9, 16, 25]\n"
     ]
    },
    {
     "data": {
      "text/plain": [
       "list"
      ]
     },
     "execution_count": 90,
     "metadata": {},
     "output_type": "execute_result"
    }
   ],
   "source": [
    "# 리스트 - 가장 융통성 있는 자료형 중 하나 / 서로 다른 형 항목 포함 / 가변(mutable)가능\n",
    "# 리스트 변수명 = [str,int,float,obj 등등 가능)\n",
    "# 슬라이싱, 인덱싱 모두 가능 / 파이썬의 리스트는 다른 언어의 배열 (array와ㅏ 다름)\n",
    "# 대괄호 안에 각 요소들을 콤마 구분자로 구분하여 입력 가능\n",
    "squares = [1**2,2**2,3**2,4**2,5**2]\n",
    "print(squares)\n",
    "type(squares)"
   ]
  },
  {
   "cell_type": "code",
   "execution_count": 91,
   "id": "18c5ab4a-7f6f-4f74-a235-5c4efca7cad0",
   "metadata": {},
   "outputs": [
    {
     "name": "stdout",
     "output_type": "stream",
     "text": [
      "1\n",
      "25\n",
      "[9, 16, 25]\n"
     ]
    }
   ],
   "source": [
    "# 해당하는 항목(item)을 반환 받음(return)\n",
    "# 인덱싱\n",
    "print(squares[0])\n",
    "print(squares[-1])\n",
    "# 슬라이싱\n",
    "print(squares[-3:]) # 뒤에서 3번째부터 끝까지"
   ]
  },
  {
   "cell_type": "code",
   "execution_count": 131,
   "id": "b1ad8a04-c0d8-4204-8a3e-7f2db8926115",
   "metadata": {},
   "outputs": [
    {
     "name": "stdout",
     "output_type": "stream",
     "text": [
      "[1, 4, 9, 16, 25, 36, 49, 64, 81, 100]\n",
      "[1, 4, 9, 16, 25, 1, 4, 9, 16, 25, 1, 4, 9, 16, 25]\n"
     ]
    }
   ],
   "source": [
    "#리스트의 더하기와 곱하기\n",
    "print(squares+[36,49,64,81,100])\n",
    "print(squares*3)"
   ]
  },
  {
   "cell_type": "code",
   "execution_count": 98,
   "id": "4bcde6e0-61ee-4249-8fa4-f47d5ca3e7ac",
   "metadata": {},
   "outputs": [
    {
     "name": "stdout",
     "output_type": "stream",
     "text": [
      "[1, 8, 27, 64, 125]\n",
      "['a', 'b', 'c', 'd', 'e']\n",
      "5\n"
     ]
    }
   ],
   "source": [
    "# 가변(mutable)가능 리스트 값 변경\n",
    "cubes = [1,8,27,65,125] #65가 아닌 64가 올바른 값일 때\n",
    "cubes[3] = 4**3 #인덱싱을 통해 해당 값 변경\n",
    "print(cubes)\n",
    "\n",
    "letters = [\"a\",\"b\",\"c\",\"d\",\"e\"]\n",
    "letters[2:5] = [\"c\",\"d\",\"e\"]\n",
    "print(letters)\n",
    "\n",
    "# 리스트의 크기 계산\n",
    "print(len(letters))"
   ]
  },
  {
   "cell_type": "code",
   "execution_count": 104,
   "id": "ebcff18e-ab2f-4f1e-9ffa-71dbc3e301c5",
   "metadata": {},
   "outputs": [
    {
     "name": "stdout",
     "output_type": "stream",
     "text": [
      "[['a', 'b', 'c'], [1, 2, 3]]\n",
      "['a', 'b', 'c']\n",
      "b\n"
     ]
    }
   ],
   "source": [
    "# 리스트 안에 리스트\n",
    "a = ['a','b','c']\n",
    "n = [1,2,3]\n",
    "x = [a,n] # a라는 뭉텅이 ->0/n이라는 뭉텅이->1\n",
    "print(x)\n",
    "\n",
    "print(x[0])\n",
    "print(x[0][1]) #대문자 소문자 구분"
   ]
  },
  {
   "cell_type": "code",
   "execution_count": 105,
   "id": "0ca75455-7540-4bf4-bb97-4775d176cfbc",
   "metadata": {},
   "outputs": [
    {
     "name": "stdout",
     "output_type": "stream",
     "text": [
      "True\n",
      "False\n"
     ]
    }
   ],
   "source": [
    "# 리스트안에 특정 요소 확인 함수 in-> true/false로 나옴\n",
    "numbers = [1,2,3,4,5,6,7]\n",
    "print(5 in numbers)\n",
    "print(10 in numbers)"
   ]
  },
  {
   "cell_type": "code",
   "execution_count": 127,
   "id": "426c0fcc-d011-48cd-a5c0-9334de5625c6",
   "metadata": {},
   "outputs": [],
   "source": [
    "# [국어,영어,한국어,선택교과1,선택교과2]\n",
    "scores = [88,73,89,59,77]\n",
    "\n",
    "# print(scores([0::1]>=60) = True\n",
    "# print(scores([0::1]=<60) = False\n",
    "      \n",
    "# if(scores(0::1)<=60) = True\n",
    "      \n",
    "# print(<=60 in scores) = false\n",
    "# invalid syntax 문법에러"
   ]
  },
  {
   "cell_type": "code",
   "execution_count": 122,
   "id": "f437f7de-c63f-4056-9e6c-78e6cfd7854c",
   "metadata": {},
   "outputs": [
    {
     "name": "stdout",
     "output_type": "stream",
     "text": [
      "False\n"
     ]
    }
   ],
   "source": [
    "# [국어,영어,한국어,선택교과1,선택교과2]\n",
    "scores = [88,73,89,59,77]\n",
    "print(scores[0]>=60 and scores[1]>=60 and scores[3]>=60 and scores[4]>=60)"
   ]
  },
  {
   "cell_type": "code",
   "execution_count": 129,
   "id": "46bc7e2d-1647-46be-9bf4-224105b0a6d2",
   "metadata": {},
   "outputs": [
    {
     "name": "stdout",
     "output_type": "stream",
     "text": [
      "True\n",
      "True\n",
      "True\n",
      "False\n",
      "True\n"
     ]
    }
   ],
   "source": [
    "#조건문 사용 시 -> 이후에 배울 것\n",
    "for i in scores:\n",
    "    if i> 60:\n",
    "        print(True)\n",
    "    else:\n",
    "        print(False)"
   ]
  }
 ],
 "metadata": {
  "kernelspec": {
   "display_name": "Python 3 (ipykernel)",
   "language": "python",
   "name": "python3"
  },
  "language_info": {
   "codemirror_mode": {
    "name": "ipython",
    "version": 3
   },
   "file_extension": ".py",
   "mimetype": "text/x-python",
   "name": "python",
   "nbconvert_exporter": "python",
   "pygments_lexer": "ipython3",
   "version": "3.9.13"
  }
 },
 "nbformat": 4,
 "nbformat_minor": 5
}
