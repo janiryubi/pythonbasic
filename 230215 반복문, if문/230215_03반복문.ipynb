{
 "cells": [
  {
   "cell_type": "code",
   "execution_count": 4,
   "id": "6017f47c-64b0-4c9a-87f7-2b9fa6621a5e",
   "metadata": {},
   "outputs": [
    {
     "name": "stdout",
     "output_type": "stream",
     "text": [
      "(0, 1, 2, 3, 4, 5, 6, 7)\n",
      "[0, 1, 2, 3, 4, 5, 6, 7]\n",
      "[0, 1, 2, 3, 4, 5, 6, 7]\n"
     ]
    }
   ],
   "source": [
    "# for문(반복실행에 특화)과 range()내장함수(연속된 숫자 만드는데 특화)\n",
    "# range(시작하는 숫자, 끝숫자, 증감) 비슷 슬라이싱[시작하는 숫자:끝숫자:증감)\n",
    "#range는 규칙된 숫자를 만드는데 특화되어 있다.\n",
    "a=(0,1,2,3,4,5,6,7)\n",
    "print(a[0:8:1])\n",
    "print(list(range(0,8,1)))\n",
    "print(list(range(8)))"
   ]
  },
  {
   "cell_type": "code",
   "execution_count": null,
   "id": "274d8e50-4544-4561-93f3-6dcf62b6c181",
   "metadata": {},
   "outputs": [],
   "source": [
    "# list와 range의 차이점\n",
    "# list 메모리에 값을 다 만들어 둔다 / range 그때그때 값을 만들어 준다\n",
    "\n",
    "#여기서 range는 0부터 999까지의 숫자를 생성한다.\n",
    "#for n in range(1000):\n",
    "#    print(\"hello world\")"
   ]
  }
 ],
 "metadata": {
  "kernelspec": {
   "display_name": "Python 3 (ipykernel)",
   "language": "python",
   "name": "python3"
  },
  "language_info": {
   "codemirror_mode": {
    "name": "ipython",
    "version": 3
   },
   "file_extension": ".py",
   "mimetype": "text/x-python",
   "name": "python",
   "nbconvert_exporter": "python",
   "pygments_lexer": "ipython3",
   "version": "3.9.13"
  }
 },
 "nbformat": 4,
 "nbformat_minor": 5
}
