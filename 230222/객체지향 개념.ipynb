{
 "cells": [
  {
   "cell_type": "code",
   "execution_count": 1,
   "id": "1fc4b17a-6569-4a3d-9839-125233126a33",
   "metadata": {},
   "outputs": [],
   "source": [
    "#10000명의 주소록이 있을 때 그것에 대해 한개 한개 적기 어려우니,\n",
    "#필요한 값이 이름, 주소, 나이라면, 그것들을 한 개로 엮어 개념으로 만드는 것이\n",
    "#객체 지향이자, class\n",
    "#class안의 것들은 공통적인 class로 묶인 것."
   ]
  },
  {
   "cell_type": "code",
   "execution_count": 2,
   "id": "3a1ceed5-0d27-47e6-a0dd-0c166012365f",
   "metadata": {},
   "outputs": [],
   "source": [
    "#init_공통속성을 가지게 함\n",
    "#던더메서드 중 하나\n",
    "#초기에 한번 시행되고 이후에 없음"
   ]
  },
  {
   "cell_type": "code",
   "execution_count": 5,
   "id": "706dd80c-654c-44ff-90ce-edf470549ef4",
   "metadata": {},
   "outputs": [],
   "source": [
    "#클래스의 속성(정리 다시 필요)\n",
    "#__init__메서드에서 만듬\n",
    "#self에 마침표를 붙여 값 할당\n",
    "class person:\n",
    "    def __init__ (self):\n",
    "        self.hello = \"안녕하세요.\""
   ]
  },
  {
   "cell_type": "code",
   "execution_count": null,
   "id": "2e02ebcb-0a03-4d5e-b48c-1ae91c634ba2",
   "metadata": {},
   "outputs": [],
   "source": [
    "self\n",
    "#인스턴스 자기자신을 의미\n",
    "#자기자신에 속성을 추가\n",
    "#메서드를 호출하면 인스턴스가 자동으로 들어오기 때문에 가능"
   ]
  }
 ],
 "metadata": {
  "kernelspec": {
   "display_name": "Python 3 (ipykernel)",
   "language": "python",
   "name": "python3"
  },
  "language_info": {
   "codemirror_mode": {
    "name": "ipython",
    "version": 3
   },
   "file_extension": ".py",
   "mimetype": "text/x-python",
   "name": "python",
   "nbconvert_exporter": "python",
   "pygments_lexer": "ipython3",
   "version": "3.9.13"
  }
 },
 "nbformat": 4,
 "nbformat_minor": 5
}
