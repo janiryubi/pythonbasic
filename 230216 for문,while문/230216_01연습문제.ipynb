{
 "cells": [
  {
   "cell_type": "code",
   "execution_count": 1,
   "id": "084b5503-e453-4520-8845-b182c3a36ad5",
   "metadata": {},
   "outputs": [
    {
     "name": "stdout",
     "output_type": "stream",
     "text": [
      "시\n",
      "미\n",
      "라\n"
     ]
    }
   ],
   "source": [
    "# range 대신 시퀀스 객체 사용 가능 -> for문을 looping\n",
    "for _ in[\"시\",\"미\",\"라\"]:\n",
    "       print(_)"
   ]
  },
  {
   "cell_type": "code",
   "execution_count": 2,
   "id": "bb85a088-14c3-4d27-9cd7-b541cbe73027",
   "metadata": {},
   "outputs": [
    {
     "name": "stdout",
     "output_type": "stream",
     "text": [
      "파 도 솔 일이삼사오육칠팔구십 "
     ]
    }
   ],
   "source": [
    "# 튜플과 문자열도 반복가능 문자열은 글자 하나하나 꺼내어 반복\n",
    "for _ in[\"파\",\"도\",\"솔\"]:\n",
    "       print(_, end=\" \")\n",
    "for _ in[\"일이삼사오육칠팔구십\"]:\n",
    "       print(_, end=\" \")"
   ]
  },
  {
   "cell_type": "code",
   "execution_count": 3,
   "id": "233ba6e6-ae8f-4898-a9f4-3f1278de5883",
   "metadata": {},
   "outputs": [
    {
     "name": "stdout",
     "output_type": "stream",
     "text": [
      "십 구 팔 칠 육 오 사 삼 이 일 "
     ]
    }
   ],
   "source": [
    "# 시퀀스 객체로 뒤집어서 반복하기\n",
    "# reversed() 함수 //리스트 메서드의 reverse와 다름\n",
    "# 시퀀스 함수는 반환값을 주지만 시퀀스 변경 X -> 반환값을 주기 때문에 _와 같이 계속적으로 반복할 수 있는 것\n",
    "# 리스트는 요소를 뒤집어주며 반환이 안됌 -> 반환값이 나오지 않아서 반복이 어렵다\n",
    "for _ in reversed(\"일이삼사오육칠팔구십\"): # 슬라이싱 ex) [1,2,3,4]의 경우 [5:0:-1] 과 결과가 똑같이 나온다\n",
    "    print(_, end=\" \")"
   ]
  },
  {
   "cell_type": "code",
   "execution_count": 4,
   "id": "31a94aa4-3677-4fc8-8e9a-9341fe6a1de2",
   "metadata": {},
   "outputs": [
    {
     "name": "stdout",
     "output_type": "stream",
     "text": [
      "100 -420 250 1030 210 770 240 "
     ]
    }
   ],
   "source": [
    "#제시된 리스트의 값을 for문을 활용하여 10배씩 증가시킨 후 아래의 실행결과와 같이 출력해보세요,\n",
    "x = [10, -42, 25, 103, 21, 77, 24]\n",
    "for i in (x): # range를 무조건 쓰지 않아도 된다\n",
    "    print(i*10,end=\" \")\n",
    "# [] 리스트 () 튜플 \"\"문자"
   ]
  },
  {
   "cell_type": "code",
   "execution_count": 5,
   "id": "a04fc283-73c0-48ed-a309-f5d99d2c1d1b",
   "metadata": {},
   "outputs": [
    {
     "name": "stdin",
     "output_type": "stream",
     "text": [
      "구구단을 알려드립니다. 숫자를 입력하세요 1\n"
     ]
    },
    {
     "name": "stdout",
     "output_type": "stream",
     "text": [
      "1 * 1 = 1\n",
      "1 * 2 = 2\n",
      "1 * 3 = 3\n",
      "1 * 4 = 4\n",
      "1 * 5 = 5\n",
      "1 * 6 = 6\n",
      "1 * 7 = 7\n",
      "1 * 8 = 8\n",
      "1 * 9 = 9\n"
     ]
    }
   ],
   "source": [
    "yyy = int(input(\"구구단을 알려드립니다. 숫자를 입력하세요\"))\n",
    "for i in range(1,10): # yyy를 넣게 되면 구구단은 가능하지 않다.\n",
    "    print(f\"{yyy} * {i} = {yyy*i}\")"
   ]
  },
  {
   "cell_type": "code",
   "execution_count": 7,
   "id": "e1074120-2aee-4d45-8b2a-f374f266778e",
   "metadata": {},
   "outputs": [
    {
     "name": "stdin",
     "output_type": "stream",
     "text": [
      "자연수를 입력해주세요 100\n"
     ]
    },
    {
     "name": "stdout",
     "output_type": "stream",
     "text": [
      "5050\n"
     ]
    }
   ],
   "source": [
    "tu = int(input(\"자연수를 입력해주세요\"))\n",
    "result = 0\n",
    "for i in range(1,tu+1):\n",
    "    result += i #이쪽이 이해가 안됌\n",
    "print(result)"
   ]
  },
  {
   "cell_type": "code",
   "execution_count": 10,
   "id": "759a0788-ead6-4e70-9ba6-922f87f073b5",
   "metadata": {},
   "outputs": [
    {
     "name": "stdout",
     "output_type": "stream",
     "text": [
      "*****\n",
      "*****\n",
      "*****\n",
      "*****\n",
      "*****\n"
     ]
    }
   ],
   "source": [
    "r=\"*\"\n",
    "for i in range(1,6):\n",
    "    print(r*5)"
   ]
  },
  {
   "cell_type": "code",
   "execution_count": 34,
   "id": "69c30e79-0089-4459-9e30-a6290b038136",
   "metadata": {},
   "outputs": [
    {
     "name": "stdout",
     "output_type": "stream",
     "text": [
      "*****\n",
      "*****\n",
      "*****\n",
      "*****\n",
      "*****\n"
     ]
    }
   ],
   "source": [
    "for _ in range(5):\n",
    "    print('*'*5)"
   ]
  },
  {
   "cell_type": "code",
   "execution_count": 35,
   "id": "631ca549-c05f-41c6-9324-36a0ffdb6a13",
   "metadata": {},
   "outputs": [
    {
     "name": "stdout",
     "output_type": "stream",
     "text": [
      "*****\n",
      "*****\n",
      "*****\n",
      "*****\n",
      "*****\n"
     ]
    }
   ],
   "source": [
    "for p in range(5):\n",
    "    for o in range(5):\n",
    "        print('*',end=\"\")\n",
    "    print()"
   ]
  },
  {
   "cell_type": "code",
   "execution_count": null,
   "id": "e679b76d-f096-4eee-adad-df49ab18110c",
   "metadata": {},
   "outputs": [],
   "source": []
  }
 ],
 "metadata": {
  "kernelspec": {
   "display_name": "Python 3 (ipykernel)",
   "language": "python",
   "name": "python3"
  },
  "language_info": {
   "codemirror_mode": {
    "name": "ipython",
    "version": 3
   },
   "file_extension": ".py",
   "mimetype": "text/x-python",
   "name": "python",
   "nbconvert_exporter": "python",
   "pygments_lexer": "ipython3",
   "version": "3.9.13"
  }
 },
 "nbformat": 4,
 "nbformat_minor": 5
}
