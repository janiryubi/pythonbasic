{
 "cells": [
  {
   "cell_type": "code",
   "execution_count": 1,
   "id": "0b9afe4e-c618-4144-9b50-3d6b893cbef0",
   "metadata": {},
   "outputs": [],
   "source": [
    "#정렬\n",
    "#numpy.sort()를 사용하여 배열 안의 원소를 크기에 따라 정렬하여 새로운 배열을 만들 수도 있습니다.\n",
    "#2차원 이상인 경우에는 행이나 열을 각각 따로따로 정렬하는데 \n",
    "#axis 인수를 사용하여 행을 정렬할 것인지 열을 정렬한 것인지 결정합니다. \n",
    "#axis=0이면 각각의 행을 따로따로 정렬하고 axis=1이면 각각의 열을 따로따로 정렬합니다. \n",
    "#디폴트 값은 -1 즉 가장 안쪽(나중)의 차원입니다."
   ]
  },
  {
   "cell_type": "code",
   "execution_count": 2,
   "id": "db371100-bbf0-4f1b-94e6-64e961611cf1",
   "metadata": {},
   "outputs": [
    {
     "data": {
      "text/plain": [
       "array([[ 4,  3,  5,  7],\n",
       "       [ 1, 12, 11,  9],\n",
       "       [ 2, 15,  1, 14]])"
      ]
     },
     "execution_count": 2,
     "metadata": {},
     "output_type": "execute_result"
    }
   ],
   "source": [
    "import numpy as np\n",
    "a = np.array([[4,3,5,7],\n",
    "              [1,12,11,9],\n",
    "              [2,15,1,14]])\n",
    "a"
   ]
  },
  {
   "cell_type": "code",
   "execution_count": 3,
   "id": "93f35f64-d2fa-4da0-8c75-381bf0104072",
   "metadata": {},
   "outputs": [
    {
     "data": {
      "text/plain": [
       "array([[ 3,  4,  5,  7],\n",
       "       [ 1,  9, 11, 12],\n",
       "       [ 1,  2, 14, 15]])"
      ]
     },
     "execution_count": 3,
     "metadata": {},
     "output_type": "execute_result"
    }
   ],
   "source": [
    "np.sort(a) #axis = -1 또는 axis =1과 동일"
   ]
  },
  {
   "cell_type": "code",
   "execution_count": 4,
   "id": "89804a4e-3f2b-4540-86e5-362edc0bd260",
   "metadata": {},
   "outputs": [
    {
     "data": {
      "text/plain": [
       "array([[ 1,  3,  1,  7],\n",
       "       [ 2, 12,  5,  9],\n",
       "       [ 4, 15, 11, 14]])"
      ]
     },
     "execution_count": 4,
     "metadata": {},
     "output_type": "execute_result"
    }
   ],
   "source": [
    "np.sort(a,axis=0)"
   ]
  },
  {
   "cell_type": "code",
   "execution_count": 5,
   "id": "b3e7652f-37b6-4b2d-a134-ebe16e1a8190",
   "metadata": {},
   "outputs": [],
   "source": [
    "#ndarray.sort() 메서드\n",
    "#해당 객체의 자료 자체가 변화하는 자체변화(in-place) 메서드이므로 사용할 때 주의를 기울여야 합니다"
   ]
  },
  {
   "cell_type": "code",
   "execution_count": 6,
   "id": "884326a5-5527-4ecd-8317-268a4e5ac3f2",
   "metadata": {},
   "outputs": [
    {
     "data": {
      "text/plain": [
       "array([[ 4,  3,  5,  7],\n",
       "       [ 1, 12, 11,  9],\n",
       "       [ 2, 15,  1, 14]])"
      ]
     },
     "execution_count": 6,
     "metadata": {},
     "output_type": "execute_result"
    }
   ],
   "source": [
    "a = np.array([[4,3,5,7],\n",
    "              [1,12,11,9],\n",
    "              [2,15,1,14]])\n",
    "a"
   ]
  },
  {
   "cell_type": "code",
   "execution_count": 7,
   "id": "158cfc47-8210-4d79-809e-41effa60a6a6",
   "metadata": {},
   "outputs": [
    {
     "data": {
      "text/plain": [
       "array([[ 3,  4,  5,  7],\n",
       "       [ 1,  9, 11, 12],\n",
       "       [ 1,  2, 14, 15]])"
      ]
     },
     "execution_count": 7,
     "metadata": {},
     "output_type": "execute_result"
    }
   ],
   "source": [
    "a.sort(axis = 1) #주의!!\n",
    "a"
   ]
  },
  {
   "cell_type": "code",
   "execution_count": 8,
   "id": "8369bffe-d8d4-4540-8c0a-88a478ad3cb6",
   "metadata": {},
   "outputs": [],
   "source": [
    "#만약 자료를 정렬하는 것이 아니라 순서만 알고 싶다면 argsort 명령을 사용합니다"
   ]
  },
  {
   "cell_type": "code",
   "execution_count": 9,
   "id": "2151223b-83a0-4a2c-9b7d-9a6369ea0ccf",
   "metadata": {},
   "outputs": [
    {
     "data": {
      "text/plain": [
       "array([2, 3, 1, 0], dtype=int64)"
      ]
     },
     "execution_count": 9,
     "metadata": {},
     "output_type": "execute_result"
    }
   ],
   "source": [
    "a = np.array([42,38,12,25]) #오름차순 순서대로 인덱스를 가져옴\n",
    "#a[0] = 42\n",
    "j = np.argsort(a)\n",
    "j"
   ]
  },
  {
   "cell_type": "code",
   "execution_count": 10,
   "id": "7a4c7160-8deb-40dd-81c7-ede4997a0a79",
   "metadata": {},
   "outputs": [
    {
     "data": {
      "text/plain": [
       "array([12, 25, 38, 42])"
      ]
     },
     "execution_count": 10,
     "metadata": {},
     "output_type": "execute_result"
    }
   ],
   "source": [
    "a[j]"
   ]
  },
  {
   "cell_type": "code",
   "execution_count": 11,
   "id": "2413dc25-3b39-47d4-802d-76999fb3be50",
   "metadata": {},
   "outputs": [
    {
     "data": {
      "text/plain": [
       "array([12, 25, 38, 42])"
      ]
     },
     "execution_count": 11,
     "metadata": {},
     "output_type": "execute_result"
    }
   ],
   "source": [
    "np.sort(a)"
   ]
  },
  {
   "cell_type": "code",
   "execution_count": 12,
   "id": "23018060-5042-4768-a9bf-7f8f37c9ce7b",
   "metadata": {},
   "outputs": [],
   "source": [
    "#고급 인덱싱 - 인덱스 배열을 사용한 인덱싱\n",
    "#인덱싱을 할 때 인덱스 위치를 나타내는 배열을 활용하여 인덱싱이 가능하다. \n",
    "#아래의 예제 코드를 살펴보면 a[0, 0], a[1, 1], a[2, 0]을 인덱스로 하는 값을 각각 인덱싱하는 것을 볼 수 있다"
   ]
  },
  {
   "cell_type": "code",
   "execution_count": 13,
   "id": "d4eb2643-2b36-4771-8f48-1dd683548a72",
   "metadata": {},
   "outputs": [
    {
     "data": {
      "text/plain": [
       "array([[1, 2],\n",
       "       [3, 4],\n",
       "       [5, 6]])"
      ]
     },
     "execution_count": 13,
     "metadata": {},
     "output_type": "execute_result"
    }
   ],
   "source": [
    "a = np.array([[1,2],[3,4],[5,6]])\n",
    "a"
   ]
  },
  {
   "cell_type": "code",
   "execution_count": 14,
   "id": "332259f1-6e9c-4fc6-911e-b0883e0bbfff",
   "metadata": {},
   "outputs": [
    {
     "name": "stdout",
     "output_type": "stream",
     "text": [
      "[1 4 5]\n"
     ]
    }
   ],
   "source": [
    "print(a[[0,1,2],[0,1,0]]) #행/열 [0,0][1,1][2,0]\n",
    "#a[0,0] a[1,1] a[2,0]을 인덱스로 하는 1차원 배열(shape = 3,))을 출력한다"
   ]
  },
  {
   "cell_type": "code",
   "execution_count": 15,
   "id": "b5f72cb5-ba72-4a60-b322-ab3bed4c5554",
   "metadata": {},
   "outputs": [],
   "source": [
    "#슬라이싱 범위도 결국 인덱스 배열이라고 생각하면 됩니다.\n",
    "#아래의 예제에서는 행에 대해서는 슬라이싱 전체 범위를 표현하고 있는데 \n",
    "#이는 [0, 1, 2]라는 범위를 나타내는 인덱스 배열과 동일한 결과를 가져옵니다."
   ]
  },
  {
   "cell_type": "code",
   "execution_count": 16,
   "id": "2a9432b9-0d7b-4680-bf66-478404477dea",
   "metadata": {},
   "outputs": [
    {
     "data": {
      "text/plain": [
       "array([[1, 2],\n",
       "       [3, 4],\n",
       "       [5, 6]])"
      ]
     },
     "execution_count": 16,
     "metadata": {},
     "output_type": "execute_result"
    }
   ],
   "source": [
    "a = np.array([[1,2],[3,4],[5,6]])\n",
    "a"
   ]
  },
  {
   "cell_type": "code",
   "execution_count": 17,
   "id": "df4ccdd9-78ac-48f0-96b0-68f965d555d3",
   "metadata": {},
   "outputs": [
    {
     "name": "stdout",
     "output_type": "stream",
     "text": [
      "[[1 2 1]\n",
      " [3 4 3]\n",
      " [5 6 5]]\n"
     ]
    }
   ],
   "source": [
    "print(a[:,[0,1,0]])"
   ]
  },
  {
   "cell_type": "code",
   "execution_count": 18,
   "id": "73f22852-69c6-47c1-b8d6-6a9681c328c6",
   "metadata": {},
   "outputs": [],
   "source": [
    "#연습문제\n",
    "#다음 배열은 첫번째 행(row)에 학번, 두번째 행에 영어 성적, 세번째 행에 수학 성적을 적은 배열이다. \n",
    "#영어 성적을 기준으로 각 열(column)을 재정렬해보세요.\n",
    "\n",
    "scores = np.array([[1,2,3,4],\n",
    "                   [46,99,100,71],\n",
    "                   [81,59,99,100]])"
   ]
  },
  {
   "cell_type": "code",
   "execution_count": 19,
   "id": "8f923630-d566-4a3b-a0a1-abee9b5bc40b",
   "metadata": {},
   "outputs": [
    {
     "data": {
      "text/plain": [
       "array([0, 3, 1, 2], dtype=int64)"
      ]
     },
     "execution_count": 19,
     "metadata": {},
     "output_type": "execute_result"
    }
   ],
   "source": [
    "a = np.array([46,99,100,71]) #오름차순 순서대로 인덱스를 가져옴\n",
    "j = np.argsort(a)\n",
    "j"
   ]
  },
  {
   "cell_type": "code",
   "execution_count": 20,
   "id": "d7e0948c-97bc-453f-bc96-533dd7bf1fb4",
   "metadata": {},
   "outputs": [
    {
     "name": "stdout",
     "output_type": "stream",
     "text": [
      "[[  1   4   2   3]\n",
      " [ 46  71  99 100]\n",
      " [ 81 100  59  99]]\n"
     ]
    }
   ],
   "source": [
    "print(scores[:,j])"
   ]
  },
  {
   "cell_type": "code",
   "execution_count": 21,
   "id": "7a5e076d-183d-4b5e-91da-fccde9a0b7cc",
   "metadata": {},
   "outputs": [
    {
     "data": {
      "text/plain": [
       "array([0, 3, 1, 2], dtype=int64)"
      ]
     },
     "execution_count": 21,
     "metadata": {},
     "output_type": "execute_result"
    }
   ],
   "source": [
    "rank = np.argsort(scores[1,:])\n",
    "rank"
   ]
  },
  {
   "cell_type": "code",
   "execution_count": 22,
   "id": "818c2cce-79ac-49a7-aa3c-b84f706d1ccd",
   "metadata": {},
   "outputs": [
    {
     "name": "stdout",
     "output_type": "stream",
     "text": [
      "[[  1   4   2   3]\n",
      " [ 46  71  99 100]\n",
      " [ 81 100  59  99]]\n"
     ]
    }
   ],
   "source": [
    "print(scores[:,rank])"
   ]
  },
  {
   "cell_type": "code",
   "execution_count": 23,
   "id": "8c7cb6f0-6c88-4f14-94c6-ceab04d60af5",
   "metadata": {},
   "outputs": [],
   "source": [
    "#기술 통계"
   ]
  },
  {
   "cell_type": "code",
   "execution_count": 24,
   "id": "53c0e88f-8d43-43d5-a109-d360b89b0f22",
   "metadata": {},
   "outputs": [],
   "source": [
    "#넘파이는 다음과 같은 데이터 집합에 대해 간단한 통계를 계산하는 함수를 제공합니다. \n",
    "#이러한 값들을 통틀어 기술 통계(descriptive statistics)라고 합니다."
   ]
  },
  {
   "cell_type": "code",
   "execution_count": 25,
   "id": "c11b5910-84bd-41e3-ba73-c28fa71614f6",
   "metadata": {},
   "outputs": [],
   "source": [
    "# 데이터의 개수(count)\n",
    "#● 평균(mean, average)\n",
    "#● 분산(variance)\n",
    "#● 표준 편차(standard deviation)\n",
    "#● 최대값(maximum)\n",
    "#● 최소값(minimum)\n",
    "#● 중앙값(median)\n",
    "#● 사분위수(quartile)"
   ]
  },
  {
   "cell_type": "code",
   "execution_count": 26,
   "id": "dd0b049e-429d-4d7f-9bab-a5fc9880d291",
   "metadata": {},
   "outputs": [],
   "source": [
    "#예를 들어 다음과 같은 데이터 𝑥가 있다고 해봅시다.\n",
    "#𝑥 를 이루는 숫자 하나하나를 수학 기호로는 𝑥1,𝑥2,⋯,𝑥𝑁처럼 표시합니다. \n",
    "#위 예에서 𝑥1=18, 𝑥2=5 입니다.\n",
    "#넘파이에서는 이러한 데이터를 1차원 배열로 구현합니다"
   ]
  },
  {
   "cell_type": "code",
   "execution_count": 27,
   "id": "756f219c-6024-4a28-8b07-1467c6e58d77",
   "metadata": {},
   "outputs": [
    {
     "data": {
      "text/plain": [
       "array([ 18,   5,  10,  23,  19,  -8,  10,   0,   0,   5,   2,  15,   8,\n",
       "         2,   5,   4,  15,  -1,   4,  -7, -24,   7,   9,  -6,  23, -13])"
      ]
     },
     "execution_count": 27,
     "metadata": {},
     "output_type": "execute_result"
    }
   ],
   "source": [
    "#데이터의 개수\n",
    "#len 함수\n",
    "x = np.array([18,5,10,23,19,-8,10,0,0,5,2,15,8,\n",
    "              2,5,4,15,-1,4,-7,-24,7,9,-6,23,-13])\n",
    "x"
   ]
  },
  {
   "cell_type": "code",
   "execution_count": 28,
   "id": "eeafc6b7-dd01-4885-b46d-a2063c74f58d",
   "metadata": {},
   "outputs": [
    {
     "data": {
      "text/plain": [
       "26"
      ]
     },
     "execution_count": 28,
     "metadata": {},
     "output_type": "execute_result"
    }
   ],
   "source": [
    "len(x)"
   ]
  },
  {
   "cell_type": "code",
   "execution_count": 29,
   "id": "d0751bd6-02a3-4a51-ba18-9ce9e1bfa309",
   "metadata": {},
   "outputs": [
    {
     "data": {
      "text/plain": [
       "4.8076923076923075"
      ]
     },
     "execution_count": 29,
     "metadata": {},
     "output_type": "execute_result"
    }
   ],
   "source": [
    "#표본 평균\n",
    "np.mean(x)"
   ]
  },
  {
   "cell_type": "code",
   "execution_count": 30,
   "id": "c3110c71-cf87-4ee0-bd72-62f8c4dc154a",
   "metadata": {},
   "outputs": [
    {
     "data": {
      "text/plain": [
       "115.23224852071006"
      ]
     },
     "execution_count": 30,
     "metadata": {},
     "output_type": "execute_result"
    }
   ],
   "source": [
    "#표본 분산\n",
    "#데이터와 표본 평균간의 거리의 제곱의 평균\n",
    "#표본 분산이 작으면 데이터가 모여있는 것이고 크면 흩어져 있는 것\n",
    "np.var(x)"
   ]
  },
  {
   "cell_type": "code",
   "execution_count": 31,
   "id": "50b21664-fb8d-4cc8-a296-2fb4bdc0206e",
   "metadata": {},
   "outputs": [
    {
     "data": {
      "text/plain": [
       "10.734628476137871"
      ]
     },
     "execution_count": 31,
     "metadata": {},
     "output_type": "execute_result"
    }
   ],
   "source": [
    "#표본 표준편차 #표본 분산의 양의 제곱근 값\n",
    "np.std(x)"
   ]
  },
  {
   "cell_type": "code",
   "execution_count": 33,
   "id": "c0fd99ae-13b5-4c37-9bb6-c3e36c708545",
   "metadata": {},
   "outputs": [
    {
     "data": {
      "text/plain": [
       "-24"
      ]
     },
     "execution_count": 33,
     "metadata": {},
     "output_type": "execute_result"
    }
   ],
   "source": [
    "#최대값 최소값\n",
    "np.min(x)"
   ]
  },
  {
   "cell_type": "code",
   "execution_count": 33,
   "id": "42a1f030",
   "metadata": {},
   "outputs": [
    {
     "data": {
      "text/plain": [
       "-24"
      ]
     },
     "execution_count": 33,
     "metadata": {},
     "output_type": "execute_result"
    }
   ],
   "source": [
    "#최대값 최소값\n",
    "np.min(x)"
   ]
  },
  {
   "cell_type": "code",
   "execution_count": 34,
   "id": "8abc4d18-1a7c-4293-8e06-840d689995f7",
   "metadata": {},
   "outputs": [
    {
     "data": {
      "text/plain": [
       "5.0"
      ]
     },
     "execution_count": 34,
     "metadata": {},
     "output_type": "execute_result"
    }
   ],
   "source": [
    "#중앙값\n",
    "#데이터를 크기대로 정렬하였을 때 가장 가운데에 있는 수를 말합니다. \n",
    "#만약 데이터의 수가 짝수이면 가장 가운데에 있는 두 수의 평균을 사용합니다\n",
    "np.median(x)"
   ]
  },
  {
   "cell_type": "code",
   "execution_count": 35,
   "id": "e5495d11-9c72-4593-8fba-f8beb0a984af",
   "metadata": {},
   "outputs": [],
   "source": [
    "#사분위수\n",
    "#데이터를 가장 작은 수부터 가장 큰 수까지 \n",
    "#크기가 커지는 순서대로 정렬하였을 때 \n",
    "#1/4, 2/4, 3/4 위치에 있는 수를 말합니다. \n",
    "#각각 1사분위수, 2사분위수, 3사분위수라고 합니다. \n",
    "#1/4의 위치란 전체 데이터의 수가 만약 100개이면 25번째 순서, 즉 하위 25%를 말합니다. \n",
    "#따라서 2사분위수는 중앙값과 같습니다"
   ]
  },
  {
   "cell_type": "code",
   "execution_count": 36,
   "id": "1354aad4-009e-4291-85ef-8588f17186ee",
   "metadata": {},
   "outputs": [],
   "source": [
    "#때로는 위치를 1/100 단위로 나눈 백분위수(percentile)을 사용하기도 한다. \n",
    "#1사분위수는 25% 백분위수와 같다"
   ]
  },
  {
   "cell_type": "code",
   "execution_count": 37,
   "id": "0122fdd7-15cd-4f08-ab60-b0314fa194b4",
   "metadata": {},
   "outputs": [
    {
     "data": {
      "text/plain": [
       "-24"
      ]
     },
     "execution_count": 37,
     "metadata": {},
     "output_type": "execute_result"
    }
   ],
   "source": [
    "np.min(x) #최소값"
   ]
  },
  {
   "cell_type": "code",
   "execution_count": 38,
   "id": "59465769-97ee-4664-916e-36c4170a6115",
   "metadata": {},
   "outputs": [
    {
     "data": {
      "text/plain": [
       "5.0"
      ]
     },
     "execution_count": 38,
     "metadata": {},
     "output_type": "execute_result"
    }
   ],
   "source": [
    "np.median(x) #중앙값"
   ]
  },
  {
   "cell_type": "code",
   "execution_count": 39,
   "id": "860cb158-a478-46c9-bc30-cef53e3e9622",
   "metadata": {},
   "outputs": [
    {
     "data": {
      "text/plain": [
       "-24.0"
      ]
     },
     "execution_count": 39,
     "metadata": {},
     "output_type": "execute_result"
    }
   ],
   "source": [
    "np.percentile(x,0) #최소값"
   ]
  },
  {
   "cell_type": "code",
   "execution_count": 40,
   "id": "5bbd07d0-c64e-4921-b248-8e6089134348",
   "metadata": {},
   "outputs": [
    {
     "data": {
      "text/plain": [
       "0.0"
      ]
     },
     "execution_count": 40,
     "metadata": {},
     "output_type": "execute_result"
    }
   ],
   "source": [
    "np.percentile(x,25) #1사분위 수"
   ]
  },
  {
   "cell_type": "code",
   "execution_count": 41,
   "id": "41a341a4-1d76-4391-bed9-fac1e514d61e",
   "metadata": {},
   "outputs": [
    {
     "data": {
      "text/plain": [
       "5.0"
      ]
     },
     "execution_count": 41,
     "metadata": {},
     "output_type": "execute_result"
    }
   ],
   "source": [
    "np.percentile(x,50) #2사분위 수"
   ]
  },
  {
   "cell_type": "code",
   "execution_count": 42,
   "id": "1bc81916-7233-4670-87f8-803d4efb6843",
   "metadata": {},
   "outputs": [
    {
     "data": {
      "text/plain": [
       "10.0"
      ]
     },
     "execution_count": 42,
     "metadata": {},
     "output_type": "execute_result"
    }
   ],
   "source": [
    "np.percentile(x,75)#3사분위 수"
   ]
  },
  {
   "cell_type": "code",
   "execution_count": 43,
   "id": "734c50cf-a959-4b27-b286-ca97dade596e",
   "metadata": {},
   "outputs": [
    {
     "data": {
      "text/plain": [
       "23.0"
      ]
     },
     "execution_count": 43,
     "metadata": {},
     "output_type": "execute_result"
    }
   ],
   "source": [
    "np.percentile(x,100) #최대값"
   ]
  },
  {
   "cell_type": "code",
   "execution_count": 44,
   "id": "cd2283fb-601c-4c70-b4f1-11794343d7ef",
   "metadata": {},
   "outputs": [],
   "source": [
    "#난수 발생과 카운팅\n",
    "#파이썬을 이용하여 데이터를 무작위로 섞거나 임의의 수 \n",
    "#즉, 난수(random number)를 발생시키는 방법\n",
    "#NumPy의 random 서브패키지에서 제공합니다.\n",
    "#표준 라이브러리인 random과 다릅니다."
   ]
  },
  {
   "cell_type": "code",
   "execution_count": 45,
   "id": "f514ee18-f121-458e-9d74-1d942d8ad53a",
   "metadata": {},
   "outputs": [],
   "source": [
    "#시드 설정하기"
   ]
  },
  {
   "cell_type": "code",
   "execution_count": 46,
   "id": "de9f385f-4a19-4f82-943c-24469400da29",
   "metadata": {},
   "outputs": [],
   "source": [
    "#어떤 특정한 시작 숫자를 정해 주면 컴퓨터가 정해진 알고리즘에 의해 마치 난수처럼 보이는 수열을 생성\n",
    "#기준이 되는 시작 숫자를 시드(seed)라고 합니다.  \n",
    "#생성된 난수는 다음 번 난수 생성을 위한 시드값이 됩니다. \n",
    "#따라서 시드값은 한 번만 정해주면 됩니다. \n",
    "#시드는 보통 현재 시각을 이용하여 자동으로 정해지지만 사람이 수동으로 설정할 수도 있습니다. \n",
    "#특정한 시드 값이 사용되면 그 다음에 만들어지는 난수들은 모두 예측할 수 있습니다. \n",
    "#이 책에서는 코드의 결과를 재현하기 위해 항상 시드를 설정하고 데이터를 다뤄보겠습니다"
   ]
  },
  {
   "cell_type": "code",
   "execution_count": 47,
   "id": "f9790439-883b-4c9c-ba7a-03e326bff2d6",
   "metadata": {},
   "outputs": [],
   "source": [
    "np.random.seed(0)"
   ]
  },
  {
   "cell_type": "code",
   "execution_count": 48,
   "id": "2d482af7-8e44-4441-9fb6-7464fe7e1c1f",
   "metadata": {},
   "outputs": [
    {
     "data": {
      "text/plain": [
       "array([0.5488135 , 0.71518937, 0.60276338, 0.54488318, 0.4236548 ])"
      ]
     },
     "execution_count": 48,
     "metadata": {},
     "output_type": "execute_result"
    }
   ],
   "source": [
    "#이렇게 시드를 설정한 후 넘파이 random 서브패키지에 있는 rand 함수로 5개의 난수를 생성\n",
    "#rand 함수는 0과 1사이의 난수를 발생시키는 함수로 인수로 받은 숫자 횟수만큼 난수를 발생시킵니다\n",
    "np.random.rand(5)"
   ]
  },
  {
   "cell_type": "code",
   "execution_count": 49,
   "id": "037ddc85-d209-4522-99f0-5346e7beb601",
   "metadata": {},
   "outputs": [
    {
     "data": {
      "text/plain": [
       "array([0.64589411, 0.43758721, 0.891773  , 0.96366276, 0.38344152,\n",
       "       0.79172504, 0.52889492, 0.56804456, 0.92559664, 0.07103606])"
      ]
     },
     "execution_count": 49,
     "metadata": {},
     "output_type": "execute_result"
    }
   ],
   "source": [
    "#몇 번 더 난수를 생성해보세요. 사람이 예측할 수 없는 무작위 숫자가 나오는 것을 볼 수 있습니다.\n",
    "np.random.rand(10)"
   ]
  },
  {
   "cell_type": "code",
   "execution_count": 50,
   "id": "1d94f5ae-fa62-42c1-a64e-51365df3b3d3",
   "metadata": {},
   "outputs": [
    {
     "data": {
      "text/plain": [
       "array([0.0871293 , 0.0202184 , 0.83261985, 0.77815675, 0.87001215,\n",
       "       0.97861834, 0.79915856, 0.46147936, 0.78052918, 0.11827443])"
      ]
     },
     "execution_count": 50,
     "metadata": {},
     "output_type": "execute_result"
    }
   ],
   "source": [
    "np.random.rand(10)"
   ]
  },
  {
   "cell_type": "code",
   "execution_count": 51,
   "id": "211754ed-c4ee-4aed-bdfe-be7bf590ed35",
   "metadata": {},
   "outputs": [],
   "source": [
    "#이제 시드를 0으로 재설정하고 다시 난수를 발생시켜 보세요.\n",
    "np.random.seed(0)"
   ]
  },
  {
   "cell_type": "code",
   "execution_count": 52,
   "id": "d4f02b62-0aa2-443f-b5ff-c708b09caba4",
   "metadata": {},
   "outputs": [
    {
     "data": {
      "text/plain": [
       "array([0.5488135 , 0.71518937, 0.60276338, 0.54488318, 0.4236548 ])"
      ]
     },
     "execution_count": 52,
     "metadata": {},
     "output_type": "execute_result"
    }
   ],
   "source": [
    "#그럼 아까와 같은 숫자가 나오는 것을 확인할 수 있습니다\n",
    "np.random.rand(5)"
   ]
  },
  {
   "cell_type": "code",
   "execution_count": 53,
   "id": "62931eb2-7893-4844-8941-191fbaa40aeb",
   "metadata": {},
   "outputs": [
    {
     "data": {
      "text/plain": [
       "array([0.64589411, 0.43758721, 0.891773  , 0.96366276, 0.38344152,\n",
       "       0.79172504, 0.52889492, 0.56804456, 0.92559664, 0.07103606])"
      ]
     },
     "execution_count": 53,
     "metadata": {},
     "output_type": "execute_result"
    }
   ],
   "source": [
    "np.random.rand(10)"
   ]
  },
  {
   "cell_type": "code",
   "execution_count": 54,
   "id": "db26bce3-597d-4f9c-ae4d-e6760e1f796f",
   "metadata": {},
   "outputs": [
    {
     "data": {
      "text/plain": [
       "array([0.0871293 , 0.0202184 , 0.83261985, 0.77815675, 0.87001215,\n",
       "       0.97861834, 0.79915856, 0.46147936, 0.78052918, 0.11827443])"
      ]
     },
     "execution_count": 54,
     "metadata": {},
     "output_type": "execute_result"
    }
   ],
   "source": [
    "np.random.rand(10)"
   ]
  },
  {
   "cell_type": "code",
   "execution_count": 55,
   "id": "a481e160-1bbf-46c9-8033-3ccd60a31555",
   "metadata": {},
   "outputs": [],
   "source": [
    "#데이터의 순서 바꾸기"
   ]
  },
  {
   "cell_type": "code",
   "execution_count": 56,
   "id": "5d4a390d-4834-4a0c-8005-044489f39910",
   "metadata": {},
   "outputs": [],
   "source": [
    "#데이터의 순서를 바꾸려면 shuffle 함수를 사용합니다. \n",
    "#shuffle 함수도 자체 변환(in-place) 함수로 한 번 사용하면 변수의 값이 바뀝니다."
   ]
  },
  {
   "cell_type": "code",
   "execution_count": 57,
   "id": "bca60cfa-2eb6-4c36-a131-beebc30adb5a",
   "metadata": {},
   "outputs": [
    {
     "data": {
      "text/plain": [
       "array([0, 1, 2, 3, 4, 5, 6, 7, 8, 9])"
      ]
     },
     "execution_count": 57,
     "metadata": {},
     "output_type": "execute_result"
    }
   ],
   "source": [
    "x = np.arange(10)\n",
    "x"
   ]
  },
  {
   "cell_type": "code",
   "execution_count": 58,
   "id": "93242f33-a357-44f4-ad3d-4999b45e74fc",
   "metadata": {},
   "outputs": [
    {
     "data": {
      "text/plain": [
       "array([3, 6, 4, 5, 2, 9, 7, 8, 1, 0])"
      ]
     },
     "execution_count": 58,
     "metadata": {},
     "output_type": "execute_result"
    }
   ],
   "source": [
    "np.random.shuffle(x)\n",
    "x"
   ]
  },
  {
   "cell_type": "code",
   "execution_count": 59,
   "id": "d1bedcba-8570-4807-bf4e-d69a138ca04c",
   "metadata": {},
   "outputs": [],
   "source": [
    "#데이터 샘플링\n",
    "#이미 있는 데이터 집합에서 일부를 무작위로 선택하는 것\n",
    "#표본선택 혹은 샘플링(sampling)이라고 합니다. \n",
    "#샘플링에는 choice 함수를 사용합니다. \n",
    "#choice 함수는 다음과 같은 인수를 가질 수 있습니다.\n",
    "#numpy.random.choice(a, size=None, replace=True, p=None)\n",
    "#● a : 배열이면 원래의 데이터, 정수이면 arange(a) 명령으로 데이터 생성\n",
    "#● size : 정수. 샘플 숫자.\n",
    "#● replace : 불리언. True이면 한번 선택한 데이터를 다시 선택 가능.\n",
    "#● p : 배열. 각 데이터가 선택될 수 있는 확률"
   ]
  },
  {
   "cell_type": "code",
   "execution_count": 60,
   "id": "4d9cd7b5-5a1c-4628-be31-d7242107c93a",
   "metadata": {},
   "outputs": [],
   "source": [
    "#np.random.choice()의 첫 인수를 정수 5로 전달하여 np.arange(5)의 결과를 만들었습니다"
   ]
  },
  {
   "cell_type": "code",
   "execution_count": 61,
   "id": "246392e3-9d36-45ad-8fbb-ebd09d330eef",
   "metadata": {},
   "outputs": [
    {
     "data": {
      "text/plain": [
       "array([1, 4, 0, 3, 2])"
      ]
     },
     "execution_count": 61,
     "metadata": {},
     "output_type": "execute_result"
    }
   ],
   "source": [
    "np.random.choice(5,5,replace = False) #shuffle명령과 같다"
   ]
  },
  {
   "cell_type": "code",
   "execution_count": 62,
   "id": "05877a4d-0c4a-497b-9e11-2efe0ab3db6f",
   "metadata": {},
   "outputs": [
    {
     "data": {
      "text/plain": [
       "array([2, 1, 3])"
      ]
     },
     "execution_count": 62,
     "metadata": {},
     "output_type": "execute_result"
    }
   ],
   "source": [
    "np.random.choice(5,3,replace = False) #3개만 선텍"
   ]
  },
  {
   "cell_type": "code",
   "execution_count": 63,
   "id": "ea59a9fd-8352-4713-80ee-b9c3a68846eb",
   "metadata": {},
   "outputs": [
    {
     "data": {
      "text/plain": [
       "array([0, 4, 1, 4, 1, 2, 2, 0, 1, 1])"
      ]
     },
     "execution_count": 63,
     "metadata": {},
     "output_type": "execute_result"
    }
   ],
   "source": [
    "np.random.choice(5,10) #반복해서 10개 선택"
   ]
  },
  {
   "cell_type": "code",
   "execution_count": 64,
   "id": "d8e2ee6d-212f-4e5c-ba0e-94562c731249",
   "metadata": {},
   "outputs": [
    {
     "data": {
      "text/plain": [
       "array([0, 3, 3, 2, 2, 3, 3, 2, 0, 3])"
      ]
     },
     "execution_count": 64,
     "metadata": {},
     "output_type": "execute_result"
    }
   ],
   "source": [
    "np.random.choice(5,10,p = [0.1,0, 0.3, 0.6, 0])\n",
    "#선택확률을 다르게 해서 10개 선택"
   ]
  },
  {
   "cell_type": "code",
   "execution_count": 65,
   "id": "1d54ca64-063e-4fa2-80cf-5b7ff18e0074",
   "metadata": {},
   "outputs": [],
   "source": [
    "#난수 생성"
   ]
  },
  {
   "cell_type": "code",
   "execution_count": 66,
   "id": "f1e31086-3b26-424e-ac9a-27261059c18c",
   "metadata": {},
   "outputs": [],
   "source": [
    "#● rand: 0부터 1사이의 균일 분포\n",
    "#● randn: 표준 정규 분포\n",
    "#● randint: 균일 분포의 정수 난수"
   ]
  },
  {
   "cell_type": "code",
   "execution_count": 67,
   "id": "13f0b9db-b799-4237-8e31-faa38f993694",
   "metadata": {},
   "outputs": [
    {
     "data": {
      "text/plain": [
       "array([0.95894927, 0.65279032, 0.63505887, 0.99529957, 0.58185033,\n",
       "       0.41436859, 0.4746975 , 0.6235101 , 0.33800761, 0.67475232])"
      ]
     },
     "execution_count": 67,
     "metadata": {},
     "output_type": "execute_result"
    }
   ],
   "source": [
    "#rand 함수는 0부터 1사이에서 균일한 확률 분포로 실수 난수를 생성합니다. \n",
    "#숫자 인수는 생성할 난수의 크기입니다. \n",
    "#여러개의 인수를 넣으면 해당 shape를 가진 행렬을 생성합니다\n",
    "np.random.rand(10)"
   ]
  },
  {
   "cell_type": "code",
   "execution_count": 68,
   "id": "2ea84ab7-9ea2-47c9-8e4d-44c46e2ad49e",
   "metadata": {},
   "outputs": [
    {
     "data": {
      "text/plain": [
       "array([[0.31720174, 0.77834548, 0.94957105, 0.66252687, 0.01357164],\n",
       "       [0.6228461 , 0.67365963, 0.971945  , 0.87819347, 0.50962438],\n",
       "       [0.05571469, 0.45115921, 0.01998767, 0.44171092, 0.97958673]])"
      ]
     },
     "execution_count": 68,
     "metadata": {},
     "output_type": "execute_result"
    }
   ],
   "source": [
    "np.random.rand(3,5)"
   ]
  },
  {
   "cell_type": "code",
   "execution_count": 69,
   "id": "c5f7378a-90dd-45e0-84fe-179d938402b8",
   "metadata": {},
   "outputs": [
    {
     "data": {
      "text/plain": [
       "array([-0.30237513, -2.2244036 ,  0.72400636,  0.35900276,  1.07612104,\n",
       "        0.19214083,  0.85292596,  0.01835718,  0.42830357,  0.99627783])"
      ]
     },
     "execution_count": 69,
     "metadata": {},
     "output_type": "execute_result"
    }
   ],
   "source": [
    "#randn 함수는 기댓값(mean)이 0이고 표준편차가 1인 표준 정규 분포(standard normal distribution)를 따르는 난수를 생성합니다. \n",
    "#인수 사용법은 rand 명령과 같습니다\n",
    "np.random.randn(10)"
   ]
  },
  {
   "cell_type": "code",
   "execution_count": 70,
   "id": "3f9c2e66-ff3d-4f33-93f9-591a6a152074",
   "metadata": {},
   "outputs": [
    {
     "data": {
      "text/plain": [
       "array([[-0.49114966,  0.71267817,  1.11334035, -2.15367459, -0.41611148],\n",
       "       [-1.07089699,  0.22113881, -1.12305712, -1.05075796,  1.01207905],\n",
       "       [ 1.54371643, -0.40211489,  0.8647491 , -0.22686923,  0.81116027]])"
      ]
     },
     "execution_count": 70,
     "metadata": {},
     "output_type": "execute_result"
    }
   ],
   "source": [
    "np.random.randn(3,5)"
   ]
  },
  {
   "cell_type": "code",
   "execution_count": 71,
   "id": "7cdb5bfb-3a61-4e46-8049-0b315673106c",
   "metadata": {},
   "outputs": [],
   "source": [
    "#randint 함수는 다음과 같은 인수를 가집니다.\n",
    "#numpy.random.randint(low, high=None, size=None)\n",
    "#만약 high를 입력하지 않으면 0과 low사이의 숫자를, \n",
    "#high를 입력하면 low와 high 사이의 숫자를 출력합니다. "
   ]
  },
  {
   "cell_type": "code",
   "execution_count": 72,
   "id": "5d472481-647b-4a52-bc20-1e8d5952c727",
   "metadata": {},
   "outputs": [
    {
     "data": {
      "text/plain": [
       "array([0, 4, 3, 6, 9, 8, 0, 8, 5, 9])"
      ]
     },
     "execution_count": 72,
     "metadata": {},
     "output_type": "execute_result"
    }
   ],
   "source": [
    "np.random.randint(10,size = 10)"
   ]
  },
  {
   "cell_type": "code",
   "execution_count": 73,
   "id": "5a875b87-bac3-4255-ade7-cafc6a747f36",
   "metadata": {},
   "outputs": [
    {
     "data": {
      "text/plain": [
       "array([10, 19, 16, 15, 13, 11, 18, 10, 14, 19])"
      ]
     },
     "execution_count": 73,
     "metadata": {},
     "output_type": "execute_result"
    }
   ],
   "source": [
    "np.random.randint(10,20,size = 10)"
   ]
  },
  {
   "cell_type": "code",
   "execution_count": 74,
   "id": "b6a807ae-9d7f-4fc6-91f3-fc9d29ee7d65",
   "metadata": {},
   "outputs": [
    {
     "data": {
      "text/plain": [
       "array([[16, 15, 17, 18, 18],\n",
       "       [19, 12, 18, 16, 16],\n",
       "       [19, 11, 16, 18, 18]])"
      ]
     },
     "execution_count": 74,
     "metadata": {},
     "output_type": "execute_result"
    }
   ],
   "source": [
    "np.random.randint(10,20,size = (3,5))\n",
    "#size는 난수의 개수입니다.\n",
    "#high의 범위는 포함하지 않습니다"
   ]
  },
  {
   "cell_type": "code",
   "execution_count": 79,
   "id": "725d95ce-20c9-49a4-9d5b-a077011a916e",
   "metadata": {},
   "outputs": [
    {
     "data": {
      "text/plain": [
       "3.42"
      ]
     },
     "execution_count": 78,
     "metadata": {},
     "output_type": "execute_result"
    }
   ],
   "source": [
    "np.random.seed(0)\n",
    "r = np.random.randint(0,2,size = 100)\n",
    "np.mean(r)"
   ]
  },
  {
   "cell_type": "code",
   "execution_count": 79,
   "id": "fde259e9",
   "metadata": {},
   "outputs": [
    {
     "data": {
      "text/plain": [
       "3.42"
      ]
     },
     "execution_count": 78,
     "metadata": {},
     "output_type": "execute_result"
    }
   ],
   "source": [
    "np.random.seed(0)\n",
    "r = np.random.randint(0,2,size = 100)\n",
    "np.mean(r)"
   ]
  },
  {
   "cell_type": "code",
   "execution_count": 80,
   "id": "de8ae8b0-70f2-4886-8910-f9bb4676deae",
   "metadata": {},
   "outputs": [],
   "source": [
    "#정수 데이터 카운팅\n",
    "#난수가 정수값이면 unique 명령이나 bincount 명령으로 데이터 값을 분석할 수 있습니다.\n",
    "#unique() 함수는 데이터에서 중복된 값을 제거하고 중복되지 않는 값의 리스트를 출력합니다. \n",
    "#return_counts 인수를 True 로 설정하면 각 값의 데이터 개수도 출력합니다"
   ]
  },
  {
   "cell_type": "code",
   "execution_count": 82,
   "id": "a2669b11-4082-472d-9789-8aad2438f035",
   "metadata": {},
   "outputs": [
    {
     "data": {
      "text/plain": [
       "array([ 2, 11, 34])"
      ]
     },
     "execution_count": 82,
     "metadata": {},
     "output_type": "execute_result"
    }
   ],
   "source": [
    "np.unique([11,11,2,2,34,34])"
   ]
  },
  {
   "cell_type": "code",
   "execution_count": 83,
   "id": "9f9ef5c9-b6d5-4d2b-8b1d-1016a834d23b",
   "metadata": {},
   "outputs": [],
   "source": [
    "a = np.array(['a','b','b','c','a'])\n",
    "index,count = np.unique(a, return_counts = True)"
   ]
  },
  {
   "cell_type": "code",
   "execution_count": 84,
   "id": "a041d577-69a6-4201-9a47-0712e7ba957c",
   "metadata": {},
   "outputs": [
    {
     "data": {
      "text/plain": [
       "array(['a', 'b', 'c'], dtype='<U1')"
      ]
     },
     "execution_count": 84,
     "metadata": {},
     "output_type": "execute_result"
    }
   ],
   "source": [
    "index"
   ]
  },
  {
   "cell_type": "code",
   "execution_count": 85,
   "id": "a8ade527-a3ee-4f36-88ba-be051f52007a",
   "metadata": {},
   "outputs": [
    {
     "data": {
      "text/plain": [
       "array([2, 2, 1], dtype=int64)"
      ]
     },
     "execution_count": 85,
     "metadata": {},
     "output_type": "execute_result"
    }
   ],
   "source": [
    "count"
   ]
  },
  {
   "cell_type": "code",
   "execution_count": 86,
   "id": "d7cd3ed8-1afb-443d-bf3d-6ec304320d9f",
   "metadata": {},
   "outputs": [],
   "source": [
    "#그러나 unique()는 데이터에 존재하는 값에 대해서만 개수를 세므로 \n",
    "#데이터 값이 나올 수 있음에도 불구하고 데이터가 하나도 없는 경우에는 \n",
    "#정보를 주지 않습니다. \n",
    "#예를 들어 주사위를 10번 던졌는데 6이 한 번도 나오지 않으면\n",
    "#이 값을 0으로 세어주지 않습니다.\n",
    "#따라서 데이터가 주사위를 던졌을 때 나오는 수처럼 특정 범위안의 수인 경우에는 \n",
    "#bincount 함수에 minlength 인수를 설정하여 쓰는 것이 더 편리하다. \n",
    "#bincount 함수는 0 부터 minlength - 1 까지의 숫자에 대해 각각 카운트를 합니다. \n",
    "#데이터가 없을 경우에는 카운트 값이 0이 됩니다"
   ]
  },
  {
   "cell_type": "code",
   "execution_count": 87,
   "id": "2e60bc1d-d78c-4e5d-846a-3132cc6bde27",
   "metadata": {},
   "outputs": [
    {
     "data": {
      "text/plain": [
       "array([0, 2, 3, 1, 0, 0], dtype=int64)"
      ]
     },
     "execution_count": 87,
     "metadata": {},
     "output_type": "execute_result"
    }
   ],
   "source": [
    "np.bincount([1,1,2,2,2,3],minlength = 6)"
   ]
  },
  {
   "cell_type": "code",
   "execution_count": null,
   "id": "9ec2af6f-2299-4355-977d-e7c4f840e9ad",
   "metadata": {},
   "outputs": [],
   "source": []
  }
 ],
 "metadata": {
  "kernelspec": {
   "display_name": "Python 3 (ipykernel)",
   "language": "python",
   "name": "python3"
  },
  "language_info": {
   "codemirror_mode": {
    "name": "ipython",
    "version": 3
   },
   "file_extension": ".py",
   "mimetype": "text/x-python",
   "name": "python",
   "nbconvert_exporter": "python",
   "pygments_lexer": "ipython3",
   "version": "3.9.13"
  }
 },
 "nbformat": 4,
 "nbformat_minor": 5
}
